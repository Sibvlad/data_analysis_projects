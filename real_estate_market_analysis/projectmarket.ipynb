{
 "cells": [
  {
   "cell_type": "markdown",
   "metadata": {},
   "source": [
    "# Исследование объявлений о продаже квартир\n",
    "\n",
    "__Цель исследования:__ используя данные сервиса Яндекс.Недвижимость (архив объявлений о продаже квартир в Санкт-Петербурге и соседних населённых пунктов за несколько лет), определить рыночную стоимость объектов недвижимости и типичные параметры квартир.Это позволит построить автоматизированную систему: она отследит аномалии и мошенническую деятельность. \n",
    "\n",
    "По каждой квартире на продажу доступны два вида данных. Первые вписаны пользователем, вторые — получены автоматически на основе картографических данных. Например, расстояние до центра, аэропорта, ближайшего парка и водоёма. \n",
    "\n",
    "__Выполненные задачи в рамках проекта:__\n",
    "- определены  и заполнены пропущенные значения;\n",
    "- приведены данные к нужным типам;\n",
    "- посчитаны и добавлены в таблицу необходимые показатели для анализа (цена квадратного метра, день недели, месяц и год публикации объявления и другие);\n",
    "- избавляемся в данных от выбросов на основе построения боксплотов и диаграмм рассеивания;\n",
    "- проведен анализ факторов влияющих на стоимость квартиры с помощью построения гистограмм;\n",
    "- проанализируем стоимость недвижимости в 10 населённых пунктов с наибольшим числом объявлений и в центре Санкт-Петербурга;\n",
    "- подготовлены выводы на основе проведенного анализа."
   ]
  },
  {
   "cell_type": "markdown",
   "metadata": {},
   "source": [
    "## Содержание\n",
    "<ul style=\"list-style:none; text-decoration: none\">\n",
    "    <li><a style=\"text-decoration: none\" href=\"#introduction\">Шаг 1. Откройте файл с данными и изучите общую информацию.</a></li>\n",
    "    <li><a style=\"text-decoration: none\" href=\"#data_pre-processing\">Шаг 2. Предобработка данных</a></li>\n",
    "    <li><a style=\"text-decoration: none\" href=\"#table\">Шаг 3. Посчитайте и добавьте в таблицу.</a></li>\n",
    "    <li><a style=\"text-decoration: none\" href=\"#research_analysis\">Шаг 4. Проведите исследовательский анализ данных и выполните инструкции.</a></li>\n",
    "    <li><a style=\"text-decoration: none\" href=\"#conclusion\">Шаг 5. Общий вывод</a></li>\n",
    "</ul>"
   ]
  },
  {
   "cell_type": "markdown",
   "metadata": {},
   "source": [
    "# Откройте файл с данными и изучите общую информацию. <a name=\"introduction\"></a> "
   ]
  },
  {
   "cell_type": "markdown",
   "metadata": {},
   "source": [
    "Импортируем все внешние библиотеки"
   ]
  },
  {
   "cell_type": "code",
   "execution_count": 1,
   "metadata": {},
   "outputs": [],
   "source": [
    "import pandas as pd\n",
    "from datetime import datetime\n",
    "import matplotlib.pyplot as plt"
   ]
  },
  {
   "cell_type": "markdown",
   "metadata": {},
   "source": [
    "В файле выявили проблему, отсутствие разделителей, исправляем эту ошибку"
   ]
  },
  {
   "cell_type": "code",
   "execution_count": 2,
   "metadata": {},
   "outputs": [],
   "source": [
    "realty_data = pd.read_csv(\"/datasets/real_estate_data.csv\", sep='\\t')"
   ]
  },
  {
   "cell_type": "markdown",
   "metadata": {},
   "source": [
    "Проверяем на отсутствие пропусков"
   ]
  },
  {
   "cell_type": "code",
   "execution_count": 3,
   "metadata": {},
   "outputs": [
    {
     "name": "stdout",
     "output_type": "stream",
     "text": [
      "<class 'pandas.core.frame.DataFrame'>\n",
      "RangeIndex: 23699 entries, 0 to 23698\n",
      "Data columns (total 22 columns):\n",
      "total_images            23699 non-null int64\n",
      "last_price              23699 non-null float64\n",
      "total_area              23699 non-null float64\n",
      "first_day_exposition    23699 non-null object\n",
      "rooms                   23699 non-null int64\n",
      "ceiling_height          14504 non-null float64\n",
      "floors_total            23613 non-null float64\n",
      "living_area             21796 non-null float64\n",
      "floor                   23699 non-null int64\n",
      "is_apartment            2775 non-null object\n",
      "studio                  23699 non-null bool\n",
      "open_plan               23699 non-null bool\n",
      "kitchen_area            21421 non-null float64\n",
      "balcony                 12180 non-null float64\n",
      "locality_name           23650 non-null object\n",
      "airports_nearest        18157 non-null float64\n",
      "cityCenters_nearest     18180 non-null float64\n",
      "parks_around3000        18181 non-null float64\n",
      "parks_nearest           8079 non-null float64\n",
      "ponds_around3000        18181 non-null float64\n",
      "ponds_nearest           9110 non-null float64\n",
      "days_exposition         20518 non-null float64\n",
      "dtypes: bool(2), float64(14), int64(3), object(3)\n",
      "memory usage: 3.7+ MB\n"
     ]
    }
   ],
   "source": [
    "realty_data.info()"
   ]
  },
  {
   "cell_type": "markdown",
   "metadata": {},
   "source": [
    "Просмотрим некоторыe основные статистические данные, таких как процентиль, среднее значение, стандартное отклонение в таблице"
   ]
  },
  {
   "cell_type": "code",
   "execution_count": 4,
   "metadata": {},
   "outputs": [
    {
     "data": {
      "text/html": [
       "<div>\n",
       "<style scoped>\n",
       "    .dataframe tbody tr th:only-of-type {\n",
       "        vertical-align: middle;\n",
       "    }\n",
       "\n",
       "    .dataframe tbody tr th {\n",
       "        vertical-align: top;\n",
       "    }\n",
       "\n",
       "    .dataframe thead th {\n",
       "        text-align: right;\n",
       "    }\n",
       "</style>\n",
       "<table border=\"1\" class=\"dataframe\">\n",
       "  <thead>\n",
       "    <tr style=\"text-align: right;\">\n",
       "      <th></th>\n",
       "      <th>total_images</th>\n",
       "      <th>last_price</th>\n",
       "      <th>total_area</th>\n",
       "      <th>rooms</th>\n",
       "      <th>ceiling_height</th>\n",
       "      <th>floors_total</th>\n",
       "      <th>living_area</th>\n",
       "      <th>floor</th>\n",
       "      <th>kitchen_area</th>\n",
       "      <th>balcony</th>\n",
       "      <th>airports_nearest</th>\n",
       "      <th>cityCenters_nearest</th>\n",
       "      <th>parks_around3000</th>\n",
       "      <th>parks_nearest</th>\n",
       "      <th>ponds_around3000</th>\n",
       "      <th>ponds_nearest</th>\n",
       "      <th>days_exposition</th>\n",
       "    </tr>\n",
       "  </thead>\n",
       "  <tbody>\n",
       "    <tr>\n",
       "      <td>count</td>\n",
       "      <td>23699.000000</td>\n",
       "      <td>2.369900e+04</td>\n",
       "      <td>23699.000000</td>\n",
       "      <td>23699.000000</td>\n",
       "      <td>14504.000000</td>\n",
       "      <td>23613.000000</td>\n",
       "      <td>21796.000000</td>\n",
       "      <td>23699.000000</td>\n",
       "      <td>21421.000000</td>\n",
       "      <td>12180.000000</td>\n",
       "      <td>18157.000000</td>\n",
       "      <td>18180.000000</td>\n",
       "      <td>18181.000000</td>\n",
       "      <td>8079.000000</td>\n",
       "      <td>18181.000000</td>\n",
       "      <td>9110.000000</td>\n",
       "      <td>20518.000000</td>\n",
       "    </tr>\n",
       "    <tr>\n",
       "      <td>mean</td>\n",
       "      <td>9.858475</td>\n",
       "      <td>6.541549e+06</td>\n",
       "      <td>60.348651</td>\n",
       "      <td>2.070636</td>\n",
       "      <td>2.771499</td>\n",
       "      <td>10.673824</td>\n",
       "      <td>34.457852</td>\n",
       "      <td>5.892358</td>\n",
       "      <td>10.569807</td>\n",
       "      <td>1.150082</td>\n",
       "      <td>28793.672193</td>\n",
       "      <td>14191.277833</td>\n",
       "      <td>0.611408</td>\n",
       "      <td>490.804555</td>\n",
       "      <td>0.770255</td>\n",
       "      <td>517.980900</td>\n",
       "      <td>180.888634</td>\n",
       "    </tr>\n",
       "    <tr>\n",
       "      <td>std</td>\n",
       "      <td>5.682529</td>\n",
       "      <td>1.088701e+07</td>\n",
       "      <td>35.654083</td>\n",
       "      <td>1.078405</td>\n",
       "      <td>1.261056</td>\n",
       "      <td>6.597173</td>\n",
       "      <td>22.030445</td>\n",
       "      <td>4.885249</td>\n",
       "      <td>5.905438</td>\n",
       "      <td>1.071300</td>\n",
       "      <td>12630.880622</td>\n",
       "      <td>8608.386210</td>\n",
       "      <td>0.802074</td>\n",
       "      <td>342.317995</td>\n",
       "      <td>0.938346</td>\n",
       "      <td>277.720643</td>\n",
       "      <td>219.727988</td>\n",
       "    </tr>\n",
       "    <tr>\n",
       "      <td>min</td>\n",
       "      <td>0.000000</td>\n",
       "      <td>1.219000e+04</td>\n",
       "      <td>12.000000</td>\n",
       "      <td>0.000000</td>\n",
       "      <td>1.000000</td>\n",
       "      <td>1.000000</td>\n",
       "      <td>2.000000</td>\n",
       "      <td>1.000000</td>\n",
       "      <td>1.300000</td>\n",
       "      <td>0.000000</td>\n",
       "      <td>0.000000</td>\n",
       "      <td>181.000000</td>\n",
       "      <td>0.000000</td>\n",
       "      <td>1.000000</td>\n",
       "      <td>0.000000</td>\n",
       "      <td>13.000000</td>\n",
       "      <td>1.000000</td>\n",
       "    </tr>\n",
       "    <tr>\n",
       "      <td>25%</td>\n",
       "      <td>6.000000</td>\n",
       "      <td>3.400000e+06</td>\n",
       "      <td>40.000000</td>\n",
       "      <td>1.000000</td>\n",
       "      <td>2.520000</td>\n",
       "      <td>5.000000</td>\n",
       "      <td>18.600000</td>\n",
       "      <td>2.000000</td>\n",
       "      <td>7.000000</td>\n",
       "      <td>0.000000</td>\n",
       "      <td>18585.000000</td>\n",
       "      <td>9238.000000</td>\n",
       "      <td>0.000000</td>\n",
       "      <td>288.000000</td>\n",
       "      <td>0.000000</td>\n",
       "      <td>294.000000</td>\n",
       "      <td>45.000000</td>\n",
       "    </tr>\n",
       "    <tr>\n",
       "      <td>50%</td>\n",
       "      <td>9.000000</td>\n",
       "      <td>4.650000e+06</td>\n",
       "      <td>52.000000</td>\n",
       "      <td>2.000000</td>\n",
       "      <td>2.650000</td>\n",
       "      <td>9.000000</td>\n",
       "      <td>30.000000</td>\n",
       "      <td>4.000000</td>\n",
       "      <td>9.100000</td>\n",
       "      <td>1.000000</td>\n",
       "      <td>26726.000000</td>\n",
       "      <td>13098.500000</td>\n",
       "      <td>0.000000</td>\n",
       "      <td>455.000000</td>\n",
       "      <td>1.000000</td>\n",
       "      <td>502.000000</td>\n",
       "      <td>95.000000</td>\n",
       "    </tr>\n",
       "    <tr>\n",
       "      <td>75%</td>\n",
       "      <td>14.000000</td>\n",
       "      <td>6.800000e+06</td>\n",
       "      <td>69.900000</td>\n",
       "      <td>3.000000</td>\n",
       "      <td>2.800000</td>\n",
       "      <td>16.000000</td>\n",
       "      <td>42.300000</td>\n",
       "      <td>8.000000</td>\n",
       "      <td>12.000000</td>\n",
       "      <td>2.000000</td>\n",
       "      <td>37273.000000</td>\n",
       "      <td>16293.000000</td>\n",
       "      <td>1.000000</td>\n",
       "      <td>612.000000</td>\n",
       "      <td>1.000000</td>\n",
       "      <td>729.000000</td>\n",
       "      <td>232.000000</td>\n",
       "    </tr>\n",
       "    <tr>\n",
       "      <td>max</td>\n",
       "      <td>50.000000</td>\n",
       "      <td>7.630000e+08</td>\n",
       "      <td>900.000000</td>\n",
       "      <td>19.000000</td>\n",
       "      <td>100.000000</td>\n",
       "      <td>60.000000</td>\n",
       "      <td>409.700000</td>\n",
       "      <td>33.000000</td>\n",
       "      <td>112.000000</td>\n",
       "      <td>5.000000</td>\n",
       "      <td>84869.000000</td>\n",
       "      <td>65968.000000</td>\n",
       "      <td>3.000000</td>\n",
       "      <td>3190.000000</td>\n",
       "      <td>3.000000</td>\n",
       "      <td>1344.000000</td>\n",
       "      <td>1580.000000</td>\n",
       "    </tr>\n",
       "  </tbody>\n",
       "</table>\n",
       "</div>"
      ],
      "text/plain": [
       "       total_images    last_price    total_area         rooms  ceiling_height  \\\n",
       "count  23699.000000  2.369900e+04  23699.000000  23699.000000    14504.000000   \n",
       "mean       9.858475  6.541549e+06     60.348651      2.070636        2.771499   \n",
       "std        5.682529  1.088701e+07     35.654083      1.078405        1.261056   \n",
       "min        0.000000  1.219000e+04     12.000000      0.000000        1.000000   \n",
       "25%        6.000000  3.400000e+06     40.000000      1.000000        2.520000   \n",
       "50%        9.000000  4.650000e+06     52.000000      2.000000        2.650000   \n",
       "75%       14.000000  6.800000e+06     69.900000      3.000000        2.800000   \n",
       "max       50.000000  7.630000e+08    900.000000     19.000000      100.000000   \n",
       "\n",
       "       floors_total   living_area         floor  kitchen_area       balcony  \\\n",
       "count  23613.000000  21796.000000  23699.000000  21421.000000  12180.000000   \n",
       "mean      10.673824     34.457852      5.892358     10.569807      1.150082   \n",
       "std        6.597173     22.030445      4.885249      5.905438      1.071300   \n",
       "min        1.000000      2.000000      1.000000      1.300000      0.000000   \n",
       "25%        5.000000     18.600000      2.000000      7.000000      0.000000   \n",
       "50%        9.000000     30.000000      4.000000      9.100000      1.000000   \n",
       "75%       16.000000     42.300000      8.000000     12.000000      2.000000   \n",
       "max       60.000000    409.700000     33.000000    112.000000      5.000000   \n",
       "\n",
       "       airports_nearest  cityCenters_nearest  parks_around3000  parks_nearest  \\\n",
       "count      18157.000000         18180.000000      18181.000000    8079.000000   \n",
       "mean       28793.672193         14191.277833          0.611408     490.804555   \n",
       "std        12630.880622          8608.386210          0.802074     342.317995   \n",
       "min            0.000000           181.000000          0.000000       1.000000   \n",
       "25%        18585.000000          9238.000000          0.000000     288.000000   \n",
       "50%        26726.000000         13098.500000          0.000000     455.000000   \n",
       "75%        37273.000000         16293.000000          1.000000     612.000000   \n",
       "max        84869.000000         65968.000000          3.000000    3190.000000   \n",
       "\n",
       "       ponds_around3000  ponds_nearest  days_exposition  \n",
       "count      18181.000000    9110.000000     20518.000000  \n",
       "mean           0.770255     517.980900       180.888634  \n",
       "std            0.938346     277.720643       219.727988  \n",
       "min            0.000000      13.000000         1.000000  \n",
       "25%            0.000000     294.000000        45.000000  \n",
       "50%            1.000000     502.000000        95.000000  \n",
       "75%            1.000000     729.000000       232.000000  \n",
       "max            3.000000    1344.000000      1580.000000  "
      ]
     },
     "execution_count": 4,
     "metadata": {},
     "output_type": "execute_result"
    }
   ],
   "source": [
    "realty_data.describe()"
   ]
  },
  {
   "cell_type": "code",
   "execution_count": 5,
   "metadata": {},
   "outputs": [
    {
     "data": {
      "text/html": [
       "<div>\n",
       "<style scoped>\n",
       "    .dataframe tbody tr th:only-of-type {\n",
       "        vertical-align: middle;\n",
       "    }\n",
       "\n",
       "    .dataframe tbody tr th {\n",
       "        vertical-align: top;\n",
       "    }\n",
       "\n",
       "    .dataframe thead th {\n",
       "        text-align: right;\n",
       "    }\n",
       "</style>\n",
       "<table border=\"1\" class=\"dataframe\">\n",
       "  <thead>\n",
       "    <tr style=\"text-align: right;\">\n",
       "      <th></th>\n",
       "      <th>total_images</th>\n",
       "      <th>last_price</th>\n",
       "      <th>total_area</th>\n",
       "      <th>first_day_exposition</th>\n",
       "      <th>rooms</th>\n",
       "      <th>ceiling_height</th>\n",
       "      <th>floors_total</th>\n",
       "      <th>living_area</th>\n",
       "      <th>floor</th>\n",
       "      <th>is_apartment</th>\n",
       "      <th>...</th>\n",
       "      <th>kitchen_area</th>\n",
       "      <th>balcony</th>\n",
       "      <th>locality_name</th>\n",
       "      <th>airports_nearest</th>\n",
       "      <th>cityCenters_nearest</th>\n",
       "      <th>parks_around3000</th>\n",
       "      <th>parks_nearest</th>\n",
       "      <th>ponds_around3000</th>\n",
       "      <th>ponds_nearest</th>\n",
       "      <th>days_exposition</th>\n",
       "    </tr>\n",
       "  </thead>\n",
       "  <tbody>\n",
       "    <tr>\n",
       "      <td>0</td>\n",
       "      <td>20</td>\n",
       "      <td>13000000.0</td>\n",
       "      <td>108.00</td>\n",
       "      <td>2019-03-07T00:00:00</td>\n",
       "      <td>3</td>\n",
       "      <td>2.70</td>\n",
       "      <td>16.0</td>\n",
       "      <td>51.0</td>\n",
       "      <td>8</td>\n",
       "      <td>NaN</td>\n",
       "      <td>...</td>\n",
       "      <td>25.00</td>\n",
       "      <td>NaN</td>\n",
       "      <td>Санкт-Петербург</td>\n",
       "      <td>18863.0</td>\n",
       "      <td>16028.0</td>\n",
       "      <td>1.0</td>\n",
       "      <td>482.0</td>\n",
       "      <td>2.0</td>\n",
       "      <td>755.0</td>\n",
       "      <td>NaN</td>\n",
       "    </tr>\n",
       "    <tr>\n",
       "      <td>1</td>\n",
       "      <td>7</td>\n",
       "      <td>3350000.0</td>\n",
       "      <td>40.40</td>\n",
       "      <td>2018-12-04T00:00:00</td>\n",
       "      <td>1</td>\n",
       "      <td>NaN</td>\n",
       "      <td>11.0</td>\n",
       "      <td>18.6</td>\n",
       "      <td>1</td>\n",
       "      <td>NaN</td>\n",
       "      <td>...</td>\n",
       "      <td>11.00</td>\n",
       "      <td>2.0</td>\n",
       "      <td>посёлок Шушары</td>\n",
       "      <td>12817.0</td>\n",
       "      <td>18603.0</td>\n",
       "      <td>0.0</td>\n",
       "      <td>NaN</td>\n",
       "      <td>0.0</td>\n",
       "      <td>NaN</td>\n",
       "      <td>81.0</td>\n",
       "    </tr>\n",
       "    <tr>\n",
       "      <td>2</td>\n",
       "      <td>10</td>\n",
       "      <td>5196000.0</td>\n",
       "      <td>56.00</td>\n",
       "      <td>2015-08-20T00:00:00</td>\n",
       "      <td>2</td>\n",
       "      <td>NaN</td>\n",
       "      <td>5.0</td>\n",
       "      <td>34.3</td>\n",
       "      <td>4</td>\n",
       "      <td>NaN</td>\n",
       "      <td>...</td>\n",
       "      <td>8.30</td>\n",
       "      <td>0.0</td>\n",
       "      <td>Санкт-Петербург</td>\n",
       "      <td>21741.0</td>\n",
       "      <td>13933.0</td>\n",
       "      <td>1.0</td>\n",
       "      <td>90.0</td>\n",
       "      <td>2.0</td>\n",
       "      <td>574.0</td>\n",
       "      <td>558.0</td>\n",
       "    </tr>\n",
       "    <tr>\n",
       "      <td>3</td>\n",
       "      <td>0</td>\n",
       "      <td>64900000.0</td>\n",
       "      <td>159.00</td>\n",
       "      <td>2015-07-24T00:00:00</td>\n",
       "      <td>3</td>\n",
       "      <td>NaN</td>\n",
       "      <td>14.0</td>\n",
       "      <td>NaN</td>\n",
       "      <td>9</td>\n",
       "      <td>NaN</td>\n",
       "      <td>...</td>\n",
       "      <td>NaN</td>\n",
       "      <td>0.0</td>\n",
       "      <td>Санкт-Петербург</td>\n",
       "      <td>28098.0</td>\n",
       "      <td>6800.0</td>\n",
       "      <td>2.0</td>\n",
       "      <td>84.0</td>\n",
       "      <td>3.0</td>\n",
       "      <td>234.0</td>\n",
       "      <td>424.0</td>\n",
       "    </tr>\n",
       "    <tr>\n",
       "      <td>4</td>\n",
       "      <td>2</td>\n",
       "      <td>10000000.0</td>\n",
       "      <td>100.00</td>\n",
       "      <td>2018-06-19T00:00:00</td>\n",
       "      <td>2</td>\n",
       "      <td>3.03</td>\n",
       "      <td>14.0</td>\n",
       "      <td>32.0</td>\n",
       "      <td>13</td>\n",
       "      <td>NaN</td>\n",
       "      <td>...</td>\n",
       "      <td>41.00</td>\n",
       "      <td>NaN</td>\n",
       "      <td>Санкт-Петербург</td>\n",
       "      <td>31856.0</td>\n",
       "      <td>8098.0</td>\n",
       "      <td>2.0</td>\n",
       "      <td>112.0</td>\n",
       "      <td>1.0</td>\n",
       "      <td>48.0</td>\n",
       "      <td>121.0</td>\n",
       "    </tr>\n",
       "    <tr>\n",
       "      <td>...</td>\n",
       "      <td>...</td>\n",
       "      <td>...</td>\n",
       "      <td>...</td>\n",
       "      <td>...</td>\n",
       "      <td>...</td>\n",
       "      <td>...</td>\n",
       "      <td>...</td>\n",
       "      <td>...</td>\n",
       "      <td>...</td>\n",
       "      <td>...</td>\n",
       "      <td>...</td>\n",
       "      <td>...</td>\n",
       "      <td>...</td>\n",
       "      <td>...</td>\n",
       "      <td>...</td>\n",
       "      <td>...</td>\n",
       "      <td>...</td>\n",
       "      <td>...</td>\n",
       "      <td>...</td>\n",
       "      <td>...</td>\n",
       "      <td>...</td>\n",
       "    </tr>\n",
       "    <tr>\n",
       "      <td>23694</td>\n",
       "      <td>9</td>\n",
       "      <td>9700000.0</td>\n",
       "      <td>133.81</td>\n",
       "      <td>2017-03-21T00:00:00</td>\n",
       "      <td>3</td>\n",
       "      <td>3.70</td>\n",
       "      <td>5.0</td>\n",
       "      <td>73.3</td>\n",
       "      <td>3</td>\n",
       "      <td>NaN</td>\n",
       "      <td>...</td>\n",
       "      <td>13.83</td>\n",
       "      <td>NaN</td>\n",
       "      <td>Санкт-Петербург</td>\n",
       "      <td>24665.0</td>\n",
       "      <td>4232.0</td>\n",
       "      <td>1.0</td>\n",
       "      <td>796.0</td>\n",
       "      <td>3.0</td>\n",
       "      <td>381.0</td>\n",
       "      <td>NaN</td>\n",
       "    </tr>\n",
       "    <tr>\n",
       "      <td>23695</td>\n",
       "      <td>14</td>\n",
       "      <td>3100000.0</td>\n",
       "      <td>59.00</td>\n",
       "      <td>2018-01-15T00:00:00</td>\n",
       "      <td>3</td>\n",
       "      <td>NaN</td>\n",
       "      <td>5.0</td>\n",
       "      <td>38.0</td>\n",
       "      <td>4</td>\n",
       "      <td>NaN</td>\n",
       "      <td>...</td>\n",
       "      <td>8.50</td>\n",
       "      <td>NaN</td>\n",
       "      <td>Тосно</td>\n",
       "      <td>NaN</td>\n",
       "      <td>NaN</td>\n",
       "      <td>NaN</td>\n",
       "      <td>NaN</td>\n",
       "      <td>NaN</td>\n",
       "      <td>NaN</td>\n",
       "      <td>45.0</td>\n",
       "    </tr>\n",
       "    <tr>\n",
       "      <td>23696</td>\n",
       "      <td>18</td>\n",
       "      <td>2500000.0</td>\n",
       "      <td>56.70</td>\n",
       "      <td>2018-02-11T00:00:00</td>\n",
       "      <td>2</td>\n",
       "      <td>NaN</td>\n",
       "      <td>3.0</td>\n",
       "      <td>29.7</td>\n",
       "      <td>1</td>\n",
       "      <td>NaN</td>\n",
       "      <td>...</td>\n",
       "      <td>NaN</td>\n",
       "      <td>NaN</td>\n",
       "      <td>село Рождествено</td>\n",
       "      <td>NaN</td>\n",
       "      <td>NaN</td>\n",
       "      <td>NaN</td>\n",
       "      <td>NaN</td>\n",
       "      <td>NaN</td>\n",
       "      <td>NaN</td>\n",
       "      <td>NaN</td>\n",
       "    </tr>\n",
       "    <tr>\n",
       "      <td>23697</td>\n",
       "      <td>13</td>\n",
       "      <td>11475000.0</td>\n",
       "      <td>76.75</td>\n",
       "      <td>2017-03-28T00:00:00</td>\n",
       "      <td>2</td>\n",
       "      <td>3.00</td>\n",
       "      <td>17.0</td>\n",
       "      <td>NaN</td>\n",
       "      <td>12</td>\n",
       "      <td>NaN</td>\n",
       "      <td>...</td>\n",
       "      <td>23.30</td>\n",
       "      <td>2.0</td>\n",
       "      <td>Санкт-Петербург</td>\n",
       "      <td>39140.0</td>\n",
       "      <td>10364.0</td>\n",
       "      <td>2.0</td>\n",
       "      <td>173.0</td>\n",
       "      <td>3.0</td>\n",
       "      <td>196.0</td>\n",
       "      <td>602.0</td>\n",
       "    </tr>\n",
       "    <tr>\n",
       "      <td>23698</td>\n",
       "      <td>4</td>\n",
       "      <td>1350000.0</td>\n",
       "      <td>32.30</td>\n",
       "      <td>2017-07-21T00:00:00</td>\n",
       "      <td>1</td>\n",
       "      <td>2.50</td>\n",
       "      <td>5.0</td>\n",
       "      <td>12.3</td>\n",
       "      <td>1</td>\n",
       "      <td>NaN</td>\n",
       "      <td>...</td>\n",
       "      <td>9.00</td>\n",
       "      <td>NaN</td>\n",
       "      <td>поселок Новый Учхоз</td>\n",
       "      <td>NaN</td>\n",
       "      <td>NaN</td>\n",
       "      <td>NaN</td>\n",
       "      <td>NaN</td>\n",
       "      <td>NaN</td>\n",
       "      <td>NaN</td>\n",
       "      <td>NaN</td>\n",
       "    </tr>\n",
       "  </tbody>\n",
       "</table>\n",
       "<p>23699 rows × 22 columns</p>\n",
       "</div>"
      ],
      "text/plain": [
       "       total_images  last_price  total_area first_day_exposition  rooms  \\\n",
       "0                20  13000000.0      108.00  2019-03-07T00:00:00      3   \n",
       "1                 7   3350000.0       40.40  2018-12-04T00:00:00      1   \n",
       "2                10   5196000.0       56.00  2015-08-20T00:00:00      2   \n",
       "3                 0  64900000.0      159.00  2015-07-24T00:00:00      3   \n",
       "4                 2  10000000.0      100.00  2018-06-19T00:00:00      2   \n",
       "...             ...         ...         ...                  ...    ...   \n",
       "23694             9   9700000.0      133.81  2017-03-21T00:00:00      3   \n",
       "23695            14   3100000.0       59.00  2018-01-15T00:00:00      3   \n",
       "23696            18   2500000.0       56.70  2018-02-11T00:00:00      2   \n",
       "23697            13  11475000.0       76.75  2017-03-28T00:00:00      2   \n",
       "23698             4   1350000.0       32.30  2017-07-21T00:00:00      1   \n",
       "\n",
       "       ceiling_height  floors_total  living_area  floor is_apartment  ...  \\\n",
       "0                2.70          16.0         51.0      8          NaN  ...   \n",
       "1                 NaN          11.0         18.6      1          NaN  ...   \n",
       "2                 NaN           5.0         34.3      4          NaN  ...   \n",
       "3                 NaN          14.0          NaN      9          NaN  ...   \n",
       "4                3.03          14.0         32.0     13          NaN  ...   \n",
       "...               ...           ...          ...    ...          ...  ...   \n",
       "23694            3.70           5.0         73.3      3          NaN  ...   \n",
       "23695             NaN           5.0         38.0      4          NaN  ...   \n",
       "23696             NaN           3.0         29.7      1          NaN  ...   \n",
       "23697            3.00          17.0          NaN     12          NaN  ...   \n",
       "23698            2.50           5.0         12.3      1          NaN  ...   \n",
       "\n",
       "       kitchen_area  balcony        locality_name  airports_nearest  \\\n",
       "0             25.00      NaN      Санкт-Петербург           18863.0   \n",
       "1             11.00      2.0       посёлок Шушары           12817.0   \n",
       "2              8.30      0.0      Санкт-Петербург           21741.0   \n",
       "3               NaN      0.0      Санкт-Петербург           28098.0   \n",
       "4             41.00      NaN      Санкт-Петербург           31856.0   \n",
       "...             ...      ...                  ...               ...   \n",
       "23694         13.83      NaN      Санкт-Петербург           24665.0   \n",
       "23695          8.50      NaN                Тосно               NaN   \n",
       "23696           NaN      NaN     село Рождествено               NaN   \n",
       "23697         23.30      2.0      Санкт-Петербург           39140.0   \n",
       "23698          9.00      NaN  поселок Новый Учхоз               NaN   \n",
       "\n",
       "      cityCenters_nearest  parks_around3000  parks_nearest  ponds_around3000  \\\n",
       "0                 16028.0               1.0          482.0               2.0   \n",
       "1                 18603.0               0.0            NaN               0.0   \n",
       "2                 13933.0               1.0           90.0               2.0   \n",
       "3                  6800.0               2.0           84.0               3.0   \n",
       "4                  8098.0               2.0          112.0               1.0   \n",
       "...                   ...               ...            ...               ...   \n",
       "23694              4232.0               1.0          796.0               3.0   \n",
       "23695                 NaN               NaN            NaN               NaN   \n",
       "23696                 NaN               NaN            NaN               NaN   \n",
       "23697             10364.0               2.0          173.0               3.0   \n",
       "23698                 NaN               NaN            NaN               NaN   \n",
       "\n",
       "       ponds_nearest  days_exposition  \n",
       "0              755.0              NaN  \n",
       "1                NaN             81.0  \n",
       "2              574.0            558.0  \n",
       "3              234.0            424.0  \n",
       "4               48.0            121.0  \n",
       "...              ...              ...  \n",
       "23694          381.0              NaN  \n",
       "23695            NaN             45.0  \n",
       "23696            NaN              NaN  \n",
       "23697          196.0            602.0  \n",
       "23698            NaN              NaN  \n",
       "\n",
       "[23699 rows x 22 columns]"
      ]
     },
     "execution_count": 5,
     "metadata": {},
     "output_type": "execute_result"
    }
   ],
   "source": [
    "realty_data"
   ]
  },
  {
   "cell_type": "markdown",
   "metadata": {},
   "source": [
    "__Вывод__:"
   ]
  },
  {
   "cell_type": "markdown",
   "metadata": {},
   "source": [
    "Всего в таблице 22 столбца, из которых 14 относятся к количественным данным, 2 к логическим данным, а 3 к категориальным. Каждая строка таблицы содержит информацию о квартире, а именно информацию о цене квартиры, общей площади, площади кухни, жилой площади, количестве комнат, этажности квартиры, расположенность ее от центра, до ближайшего аэропорта, расстояние до центра города и другие характеристики квартиры.   \n",
    "При этом первоначальный анализ показал, что в таблице существуют пропущенные значения в следующих столбцах: ceiling_height,living_area, is_apartment, kitchen_area, balcony, airports_nearest, cityCenters_nearest, parks_around3000, parks_nearest, ponds_around3000, ponds_nearest и days_exposition. \n",
    "Данную проблему надо будет решать в дальнейшем."
   ]
  },
  {
   "cell_type": "markdown",
   "metadata": {},
   "source": [
    "#  Предобработка данных <a name=\"data_pre-processing\"></a>"
   ]
  },
  {
   "cell_type": "markdown",
   "metadata": {},
   "source": [
    "Начинаем заполнять столбец ceiling_height. В данном столбце пустые значения заменяем на медианное значение, так как зависимость между другими данными не удалось выявить"
   ]
  },
  {
   "cell_type": "code",
   "execution_count": 6,
   "metadata": {},
   "outputs": [],
   "source": [
    "height_median = realty_data['ceiling_height'].median()\n",
    "realty_data['ceiling_height'].fillna(height_median, inplace=True)"
   ]
  },
  {
   "cell_type": "code",
   "execution_count": 7,
   "metadata": {},
   "outputs": [
    {
     "name": "stdout",
     "output_type": "stream",
     "text": [
      "<class 'pandas.core.frame.DataFrame'>\n",
      "RangeIndex: 23699 entries, 0 to 23698\n",
      "Data columns (total 22 columns):\n",
      "total_images            23699 non-null int64\n",
      "last_price              23699 non-null float64\n",
      "total_area              23699 non-null float64\n",
      "first_day_exposition    23699 non-null object\n",
      "rooms                   23699 non-null int64\n",
      "ceiling_height          23699 non-null float64\n",
      "floors_total            23613 non-null float64\n",
      "living_area             21796 non-null float64\n",
      "floor                   23699 non-null int64\n",
      "is_apartment            2775 non-null object\n",
      "studio                  23699 non-null bool\n",
      "open_plan               23699 non-null bool\n",
      "kitchen_area            21421 non-null float64\n",
      "balcony                 12180 non-null float64\n",
      "locality_name           23650 non-null object\n",
      "airports_nearest        18157 non-null float64\n",
      "cityCenters_nearest     18180 non-null float64\n",
      "parks_around3000        18181 non-null float64\n",
      "parks_nearest           8079 non-null float64\n",
      "ponds_around3000        18181 non-null float64\n",
      "ponds_nearest           9110 non-null float64\n",
      "days_exposition         20518 non-null float64\n",
      "dtypes: bool(2), float64(14), int64(3), object(3)\n",
      "memory usage: 3.7+ MB\n"
     ]
    }
   ],
   "source": [
    "realty_data.info()"
   ]
  },
  {
   "cell_type": "markdown",
   "metadata": {},
   "source": [
    "В связи с тем, что статистический анализ показал, что существует в столбце rooms значение 0, что невозможно, то была составлена сводная таблица, которая показала, что у квартир со значение 0 жилая площадь близка 1"
   ]
  },
  {
   "cell_type": "code",
   "execution_count": 8,
   "metadata": {},
   "outputs": [
    {
     "data": {
      "text/html": [
       "<div>\n",
       "<style scoped>\n",
       "    .dataframe tbody tr th:only-of-type {\n",
       "        vertical-align: middle;\n",
       "    }\n",
       "\n",
       "    .dataframe tbody tr th {\n",
       "        vertical-align: top;\n",
       "    }\n",
       "\n",
       "    .dataframe thead th {\n",
       "        text-align: right;\n",
       "    }\n",
       "</style>\n",
       "<table border=\"1\" class=\"dataframe\">\n",
       "  <thead>\n",
       "    <tr style=\"text-align: right;\">\n",
       "      <th></th>\n",
       "      <th>living_area</th>\n",
       "    </tr>\n",
       "    <tr>\n",
       "      <th>rooms</th>\n",
       "      <th></th>\n",
       "    </tr>\n",
       "  </thead>\n",
       "  <tbody>\n",
       "    <tr>\n",
       "      <td>0</td>\n",
       "      <td>18.000</td>\n",
       "    </tr>\n",
       "    <tr>\n",
       "      <td>1</td>\n",
       "      <td>17.600</td>\n",
       "    </tr>\n",
       "    <tr>\n",
       "      <td>2</td>\n",
       "      <td>30.500</td>\n",
       "    </tr>\n",
       "    <tr>\n",
       "      <td>3</td>\n",
       "      <td>45.000</td>\n",
       "    </tr>\n",
       "    <tr>\n",
       "      <td>4</td>\n",
       "      <td>63.600</td>\n",
       "    </tr>\n",
       "    <tr>\n",
       "      <td>5</td>\n",
       "      <td>91.785</td>\n",
       "    </tr>\n",
       "    <tr>\n",
       "      <td>6</td>\n",
       "      <td>123.900</td>\n",
       "    </tr>\n",
       "    <tr>\n",
       "      <td>7</td>\n",
       "      <td>145.000</td>\n",
       "    </tr>\n",
       "    <tr>\n",
       "      <td>8</td>\n",
       "      <td>161.000</td>\n",
       "    </tr>\n",
       "    <tr>\n",
       "      <td>9</td>\n",
       "      <td>179.200</td>\n",
       "    </tr>\n",
       "    <tr>\n",
       "      <td>10</td>\n",
       "      <td>161.400</td>\n",
       "    </tr>\n",
       "    <tr>\n",
       "      <td>11</td>\n",
       "      <td>133.900</td>\n",
       "    </tr>\n",
       "    <tr>\n",
       "      <td>12</td>\n",
       "      <td>409.700</td>\n",
       "    </tr>\n",
       "    <tr>\n",
       "      <td>14</td>\n",
       "      <td>195.150</td>\n",
       "    </tr>\n",
       "    <tr>\n",
       "      <td>15</td>\n",
       "      <td>409.000</td>\n",
       "    </tr>\n",
       "    <tr>\n",
       "      <td>16</td>\n",
       "      <td>180.000</td>\n",
       "    </tr>\n",
       "    <tr>\n",
       "      <td>19</td>\n",
       "      <td>264.500</td>\n",
       "    </tr>\n",
       "  </tbody>\n",
       "</table>\n",
       "</div>"
      ],
      "text/plain": [
       "       living_area\n",
       "rooms             \n",
       "0           18.000\n",
       "1           17.600\n",
       "2           30.500\n",
       "3           45.000\n",
       "4           63.600\n",
       "5           91.785\n",
       "6          123.900\n",
       "7          145.000\n",
       "8          161.000\n",
       "9          179.200\n",
       "10         161.400\n",
       "11         133.900\n",
       "12         409.700\n",
       "14         195.150\n",
       "15         409.000\n",
       "16         180.000\n",
       "19         264.500"
      ]
     },
     "execution_count": 8,
     "metadata": {},
     "output_type": "execute_result"
    }
   ],
   "source": [
    "realty_data.pivot_table(index='rooms', values=\"living_area\", aggfunc=\"median\")"
   ]
  },
  {
   "cell_type": "markdown",
   "metadata": {},
   "source": [
    "На основе этого, значения 0 были заменены на 1"
   ]
  },
  {
   "cell_type": "code",
   "execution_count": 9,
   "metadata": {},
   "outputs": [],
   "source": [
    "realty_data.loc[realty_data['rooms'] == 0, 'rooms'] = 1"
   ]
  },
  {
   "cell_type": "markdown",
   "metadata": {},
   "source": [
    "Пишем функцию, которая ищет медиану среди заданной категории в столбце и дальше производим замену пропущенных значений на полученное значение в таблице"
   ]
  },
  {
   "cell_type": "code",
   "execution_count": 10,
   "metadata": {},
   "outputs": [],
   "source": [
    "def missing_data(data, array, column):\n",
    "    for row in array:\n",
    "        data_value = data[data['rooms'] == row][column].median()\n",
    "        data.loc[data['rooms'] == row, column] =  data[data['rooms'] == row][column].fillna(data_value)"
   ]
  },
  {
   "cell_type": "markdown",
   "metadata": {},
   "source": [
    "Cоздаем массив для значений столбца 'rooms' для использования ее в функции"
   ]
  },
  {
   "cell_type": "code",
   "execution_count": 11,
   "metadata": {},
   "outputs": [],
   "source": [
    "value_missing = realty_data['rooms'].unique()"
   ]
  },
  {
   "cell_type": "code",
   "execution_count": 12,
   "metadata": {},
   "outputs": [
    {
     "data": {
      "text/html": [
       "<div>\n",
       "<style scoped>\n",
       "    .dataframe tbody tr th:only-of-type {\n",
       "        vertical-align: middle;\n",
       "    }\n",
       "\n",
       "    .dataframe tbody tr th {\n",
       "        vertical-align: top;\n",
       "    }\n",
       "\n",
       "    .dataframe thead th {\n",
       "        text-align: right;\n",
       "    }\n",
       "</style>\n",
       "<table border=\"1\" class=\"dataframe\">\n",
       "  <thead>\n",
       "    <tr style=\"text-align: right;\">\n",
       "      <th></th>\n",
       "      <th>total_images</th>\n",
       "      <th>last_price</th>\n",
       "      <th>total_area</th>\n",
       "      <th>first_day_exposition</th>\n",
       "      <th>rooms</th>\n",
       "      <th>ceiling_height</th>\n",
       "      <th>floors_total</th>\n",
       "      <th>living_area</th>\n",
       "      <th>floor</th>\n",
       "      <th>is_apartment</th>\n",
       "      <th>...</th>\n",
       "      <th>kitchen_area</th>\n",
       "      <th>balcony</th>\n",
       "      <th>locality_name</th>\n",
       "      <th>airports_nearest</th>\n",
       "      <th>cityCenters_nearest</th>\n",
       "      <th>parks_around3000</th>\n",
       "      <th>parks_nearest</th>\n",
       "      <th>ponds_around3000</th>\n",
       "      <th>ponds_nearest</th>\n",
       "      <th>days_exposition</th>\n",
       "    </tr>\n",
       "  </thead>\n",
       "  <tbody>\n",
       "    <tr>\n",
       "      <td>35</td>\n",
       "      <td>6</td>\n",
       "      <td>15500000.0</td>\n",
       "      <td>149.00</td>\n",
       "      <td>2017-06-26T00:00:00</td>\n",
       "      <td>5</td>\n",
       "      <td>2.65</td>\n",
       "      <td>5.0</td>\n",
       "      <td>104.0</td>\n",
       "      <td>4</td>\n",
       "      <td>NaN</td>\n",
       "      <td>...</td>\n",
       "      <td>17.0</td>\n",
       "      <td>NaN</td>\n",
       "      <td>Санкт-Петербург</td>\n",
       "      <td>23670.0</td>\n",
       "      <td>3502.0</td>\n",
       "      <td>0.0</td>\n",
       "      <td>NaN</td>\n",
       "      <td>1.0</td>\n",
       "      <td>779.0</td>\n",
       "      <td>644.0</td>\n",
       "    </tr>\n",
       "    <tr>\n",
       "      <td>248</td>\n",
       "      <td>7</td>\n",
       "      <td>4100000.0</td>\n",
       "      <td>31.00</td>\n",
       "      <td>2015-08-02T00:00:00</td>\n",
       "      <td>1</td>\n",
       "      <td>3.00</td>\n",
       "      <td>17.0</td>\n",
       "      <td>10.0</td>\n",
       "      <td>6</td>\n",
       "      <td>False</td>\n",
       "      <td>...</td>\n",
       "      <td>NaN</td>\n",
       "      <td>0.0</td>\n",
       "      <td>Санкт-Петербург</td>\n",
       "      <td>39771.0</td>\n",
       "      <td>8672.0</td>\n",
       "      <td>1.0</td>\n",
       "      <td>139.0</td>\n",
       "      <td>0.0</td>\n",
       "      <td>NaN</td>\n",
       "      <td>637.0</td>\n",
       "    </tr>\n",
       "    <tr>\n",
       "      <td>274</td>\n",
       "      <td>9</td>\n",
       "      <td>4318000.0</td>\n",
       "      <td>37.55</td>\n",
       "      <td>2016-02-29T00:00:00</td>\n",
       "      <td>1</td>\n",
       "      <td>2.65</td>\n",
       "      <td>14.0</td>\n",
       "      <td>15.2</td>\n",
       "      <td>10</td>\n",
       "      <td>NaN</td>\n",
       "      <td>...</td>\n",
       "      <td>8.9</td>\n",
       "      <td>2.0</td>\n",
       "      <td>Санкт-Петербург</td>\n",
       "      <td>22098.0</td>\n",
       "      <td>23810.0</td>\n",
       "      <td>0.0</td>\n",
       "      <td>NaN</td>\n",
       "      <td>2.0</td>\n",
       "      <td>100.0</td>\n",
       "      <td>694.0</td>\n",
       "    </tr>\n",
       "    <tr>\n",
       "      <td>346</td>\n",
       "      <td>5</td>\n",
       "      <td>2100000.0</td>\n",
       "      <td>48.20</td>\n",
       "      <td>2016-08-18T00:00:00</td>\n",
       "      <td>3</td>\n",
       "      <td>2.50</td>\n",
       "      <td>5.0</td>\n",
       "      <td>33.6</td>\n",
       "      <td>5</td>\n",
       "      <td>NaN</td>\n",
       "      <td>...</td>\n",
       "      <td>5.5</td>\n",
       "      <td>1.0</td>\n",
       "      <td>деревня Оржицы</td>\n",
       "      <td>NaN</td>\n",
       "      <td>NaN</td>\n",
       "      <td>NaN</td>\n",
       "      <td>NaN</td>\n",
       "      <td>NaN</td>\n",
       "      <td>NaN</td>\n",
       "      <td>635.0</td>\n",
       "    </tr>\n",
       "    <tr>\n",
       "      <td>383</td>\n",
       "      <td>8</td>\n",
       "      <td>5800000.0</td>\n",
       "      <td>66.00</td>\n",
       "      <td>2016-07-28T00:00:00</td>\n",
       "      <td>3</td>\n",
       "      <td>2.70</td>\n",
       "      <td>9.0</td>\n",
       "      <td>42.0</td>\n",
       "      <td>8</td>\n",
       "      <td>NaN</td>\n",
       "      <td>...</td>\n",
       "      <td>8.5</td>\n",
       "      <td>NaN</td>\n",
       "      <td>Санкт-Петербург</td>\n",
       "      <td>51048.0</td>\n",
       "      <td>16376.0</td>\n",
       "      <td>0.0</td>\n",
       "      <td>NaN</td>\n",
       "      <td>1.0</td>\n",
       "      <td>1079.0</td>\n",
       "      <td>662.0</td>\n",
       "    </tr>\n",
       "    <tr>\n",
       "      <td>...</td>\n",
       "      <td>...</td>\n",
       "      <td>...</td>\n",
       "      <td>...</td>\n",
       "      <td>...</td>\n",
       "      <td>...</td>\n",
       "      <td>...</td>\n",
       "      <td>...</td>\n",
       "      <td>...</td>\n",
       "      <td>...</td>\n",
       "      <td>...</td>\n",
       "      <td>...</td>\n",
       "      <td>...</td>\n",
       "      <td>...</td>\n",
       "      <td>...</td>\n",
       "      <td>...</td>\n",
       "      <td>...</td>\n",
       "      <td>...</td>\n",
       "      <td>...</td>\n",
       "      <td>...</td>\n",
       "      <td>...</td>\n",
       "      <td>...</td>\n",
       "    </tr>\n",
       "    <tr>\n",
       "      <td>23287</td>\n",
       "      <td>8</td>\n",
       "      <td>5500000.0</td>\n",
       "      <td>80.60</td>\n",
       "      <td>2015-07-29T00:00:00</td>\n",
       "      <td>3</td>\n",
       "      <td>2.60</td>\n",
       "      <td>18.0</td>\n",
       "      <td>42.9</td>\n",
       "      <td>17</td>\n",
       "      <td>NaN</td>\n",
       "      <td>...</td>\n",
       "      <td>18.2</td>\n",
       "      <td>0.0</td>\n",
       "      <td>посёлок Мурино</td>\n",
       "      <td>NaN</td>\n",
       "      <td>NaN</td>\n",
       "      <td>NaN</td>\n",
       "      <td>NaN</td>\n",
       "      <td>NaN</td>\n",
       "      <td>NaN</td>\n",
       "      <td>679.0</td>\n",
       "    </tr>\n",
       "    <tr>\n",
       "      <td>23494</td>\n",
       "      <td>10</td>\n",
       "      <td>3700000.0</td>\n",
       "      <td>45.30</td>\n",
       "      <td>2016-08-30T00:00:00</td>\n",
       "      <td>2</td>\n",
       "      <td>2.50</td>\n",
       "      <td>5.0</td>\n",
       "      <td>31.0</td>\n",
       "      <td>2</td>\n",
       "      <td>NaN</td>\n",
       "      <td>...</td>\n",
       "      <td>6.3</td>\n",
       "      <td>1.0</td>\n",
       "      <td>Санкт-Петербург</td>\n",
       "      <td>42320.0</td>\n",
       "      <td>14824.0</td>\n",
       "      <td>1.0</td>\n",
       "      <td>261.0</td>\n",
       "      <td>0.0</td>\n",
       "      <td>NaN</td>\n",
       "      <td>676.0</td>\n",
       "    </tr>\n",
       "    <tr>\n",
       "      <td>23627</td>\n",
       "      <td>11</td>\n",
       "      <td>6300000.0</td>\n",
       "      <td>42.30</td>\n",
       "      <td>2017-01-27T00:00:00</td>\n",
       "      <td>1</td>\n",
       "      <td>2.65</td>\n",
       "      <td>10.0</td>\n",
       "      <td>16.3</td>\n",
       "      <td>4</td>\n",
       "      <td>NaN</td>\n",
       "      <td>...</td>\n",
       "      <td>12.0</td>\n",
       "      <td>2.0</td>\n",
       "      <td>Санкт-Петербург</td>\n",
       "      <td>17313.0</td>\n",
       "      <td>7963.0</td>\n",
       "      <td>0.0</td>\n",
       "      <td>NaN</td>\n",
       "      <td>0.0</td>\n",
       "      <td>NaN</td>\n",
       "      <td>616.0</td>\n",
       "    </tr>\n",
       "    <tr>\n",
       "      <td>23648</td>\n",
       "      <td>14</td>\n",
       "      <td>10100000.0</td>\n",
       "      <td>78.00</td>\n",
       "      <td>2017-05-12T00:00:00</td>\n",
       "      <td>3</td>\n",
       "      <td>3.27</td>\n",
       "      <td>5.0</td>\n",
       "      <td>48.6</td>\n",
       "      <td>5</td>\n",
       "      <td>NaN</td>\n",
       "      <td>...</td>\n",
       "      <td>8.2</td>\n",
       "      <td>NaN</td>\n",
       "      <td>Санкт-Петербург</td>\n",
       "      <td>20933.0</td>\n",
       "      <td>1113.0</td>\n",
       "      <td>1.0</td>\n",
       "      <td>621.0</td>\n",
       "      <td>2.0</td>\n",
       "      <td>117.0</td>\n",
       "      <td>621.0</td>\n",
       "    </tr>\n",
       "    <tr>\n",
       "      <td>23655</td>\n",
       "      <td>1</td>\n",
       "      <td>2414306.0</td>\n",
       "      <td>40.50</td>\n",
       "      <td>2016-09-08T00:00:00</td>\n",
       "      <td>1</td>\n",
       "      <td>2.56</td>\n",
       "      <td>18.0</td>\n",
       "      <td>19.6</td>\n",
       "      <td>10</td>\n",
       "      <td>False</td>\n",
       "      <td>...</td>\n",
       "      <td>NaN</td>\n",
       "      <td>NaN</td>\n",
       "      <td>Никольское</td>\n",
       "      <td>NaN</td>\n",
       "      <td>NaN</td>\n",
       "      <td>NaN</td>\n",
       "      <td>NaN</td>\n",
       "      <td>NaN</td>\n",
       "      <td>NaN</td>\n",
       "      <td>627.0</td>\n",
       "    </tr>\n",
       "  </tbody>\n",
       "</table>\n",
       "<p>280 rows × 22 columns</p>\n",
       "</div>"
      ],
      "text/plain": [
       "       total_images  last_price  total_area first_day_exposition  rooms  \\\n",
       "35                6  15500000.0      149.00  2017-06-26T00:00:00      5   \n",
       "248               7   4100000.0       31.00  2015-08-02T00:00:00      1   \n",
       "274               9   4318000.0       37.55  2016-02-29T00:00:00      1   \n",
       "346               5   2100000.0       48.20  2016-08-18T00:00:00      3   \n",
       "383               8   5800000.0       66.00  2016-07-28T00:00:00      3   \n",
       "...             ...         ...         ...                  ...    ...   \n",
       "23287             8   5500000.0       80.60  2015-07-29T00:00:00      3   \n",
       "23494            10   3700000.0       45.30  2016-08-30T00:00:00      2   \n",
       "23627            11   6300000.0       42.30  2017-01-27T00:00:00      1   \n",
       "23648            14  10100000.0       78.00  2017-05-12T00:00:00      3   \n",
       "23655             1   2414306.0       40.50  2016-09-08T00:00:00      1   \n",
       "\n",
       "       ceiling_height  floors_total  living_area  floor is_apartment  ...  \\\n",
       "35               2.65           5.0        104.0      4          NaN  ...   \n",
       "248              3.00          17.0         10.0      6        False  ...   \n",
       "274              2.65          14.0         15.2     10          NaN  ...   \n",
       "346              2.50           5.0         33.6      5          NaN  ...   \n",
       "383              2.70           9.0         42.0      8          NaN  ...   \n",
       "...               ...           ...          ...    ...          ...  ...   \n",
       "23287            2.60          18.0         42.9     17          NaN  ...   \n",
       "23494            2.50           5.0         31.0      2          NaN  ...   \n",
       "23627            2.65          10.0         16.3      4          NaN  ...   \n",
       "23648            3.27           5.0         48.6      5          NaN  ...   \n",
       "23655            2.56          18.0         19.6     10        False  ...   \n",
       "\n",
       "       kitchen_area  balcony    locality_name  airports_nearest  \\\n",
       "35             17.0      NaN  Санкт-Петербург           23670.0   \n",
       "248             NaN      0.0  Санкт-Петербург           39771.0   \n",
       "274             8.9      2.0  Санкт-Петербург           22098.0   \n",
       "346             5.5      1.0   деревня Оржицы               NaN   \n",
       "383             8.5      NaN  Санкт-Петербург           51048.0   \n",
       "...             ...      ...              ...               ...   \n",
       "23287          18.2      0.0   посёлок Мурино               NaN   \n",
       "23494           6.3      1.0  Санкт-Петербург           42320.0   \n",
       "23627          12.0      2.0  Санкт-Петербург           17313.0   \n",
       "23648           8.2      NaN  Санкт-Петербург           20933.0   \n",
       "23655           NaN      NaN       Никольское               NaN   \n",
       "\n",
       "      cityCenters_nearest  parks_around3000  parks_nearest  ponds_around3000  \\\n",
       "35                 3502.0               0.0            NaN               1.0   \n",
       "248                8672.0               1.0          139.0               0.0   \n",
       "274               23810.0               0.0            NaN               2.0   \n",
       "346                   NaN               NaN            NaN               NaN   \n",
       "383               16376.0               0.0            NaN               1.0   \n",
       "...                   ...               ...            ...               ...   \n",
       "23287                 NaN               NaN            NaN               NaN   \n",
       "23494             14824.0               1.0          261.0               0.0   \n",
       "23627              7963.0               0.0            NaN               0.0   \n",
       "23648              1113.0               1.0          621.0               2.0   \n",
       "23655                 NaN               NaN            NaN               NaN   \n",
       "\n",
       "       ponds_nearest  days_exposition  \n",
       "35             779.0            644.0  \n",
       "248              NaN            637.0  \n",
       "274            100.0            694.0  \n",
       "346              NaN            635.0  \n",
       "383           1079.0            662.0  \n",
       "...              ...              ...  \n",
       "23287            NaN            679.0  \n",
       "23494            NaN            676.0  \n",
       "23627            NaN            616.0  \n",
       "23648          117.0            621.0  \n",
       "23655            NaN            627.0  \n",
       "\n",
       "[280 rows x 22 columns]"
      ]
     },
     "execution_count": 12,
     "metadata": {},
     "output_type": "execute_result"
    }
   ],
   "source": [
    "realty_data.query(\"616 <= days_exposition <= 700\")"
   ]
  },
  {
   "cell_type": "markdown",
   "metadata": {},
   "source": [
    "Применяем функцию меняющую пропущенные значения в столбце \"living_are\" на медиану значений по столбцу \"rooms\""
   ]
  },
  {
   "cell_type": "code",
   "execution_count": 13,
   "metadata": {},
   "outputs": [],
   "source": [
    "missing_data(realty_data, value_missing, \"living_area\")"
   ]
  },
  {
   "cell_type": "markdown",
   "metadata": {},
   "source": [
    "Проверяем заменились ли у нас значения"
   ]
  },
  {
   "cell_type": "code",
   "execution_count": 14,
   "metadata": {},
   "outputs": [
    {
     "name": "stdout",
     "output_type": "stream",
     "text": [
      "<class 'pandas.core.frame.DataFrame'>\n",
      "RangeIndex: 23699 entries, 0 to 23698\n",
      "Data columns (total 22 columns):\n",
      "total_images            23699 non-null int64\n",
      "last_price              23699 non-null float64\n",
      "total_area              23699 non-null float64\n",
      "first_day_exposition    23699 non-null object\n",
      "rooms                   23699 non-null int64\n",
      "ceiling_height          23699 non-null float64\n",
      "floors_total            23613 non-null float64\n",
      "living_area             23699 non-null float64\n",
      "floor                   23699 non-null int64\n",
      "is_apartment            2775 non-null object\n",
      "studio                  23699 non-null bool\n",
      "open_plan               23699 non-null bool\n",
      "kitchen_area            21421 non-null float64\n",
      "balcony                 12180 non-null float64\n",
      "locality_name           23650 non-null object\n",
      "airports_nearest        18157 non-null float64\n",
      "cityCenters_nearest     18180 non-null float64\n",
      "parks_around3000        18181 non-null float64\n",
      "parks_nearest           8079 non-null float64\n",
      "ponds_around3000        18181 non-null float64\n",
      "ponds_nearest           9110 non-null float64\n",
      "days_exposition         20518 non-null float64\n",
      "dtypes: bool(2), float64(14), int64(3), object(3)\n",
      "memory usage: 3.7+ MB\n"
     ]
    }
   ],
   "source": [
    "realty_data.info()"
   ]
  },
  {
   "cell_type": "markdown",
   "metadata": {},
   "source": [
    "Проверяем пропуски в столбце \"is_apartment\""
   ]
  },
  {
   "cell_type": "code",
   "execution_count": 15,
   "metadata": {},
   "outputs": [
    {
     "data": {
      "text/plain": [
       "False    2725\n",
       "True       50\n",
       "Name: is_apartment, dtype: int64"
      ]
     },
     "execution_count": 15,
     "metadata": {},
     "output_type": "execute_result"
    }
   ],
   "source": [
    "realty_data[\"is_apartment\"].value_counts()"
   ]
  },
  {
   "cell_type": "markdown",
   "metadata": {},
   "source": [
    "Предполагаем, что если встречаются пропущенные значения, то значит это не апартаменты, так как их немного в таблице,  поэтому заменяем пропущенные значения на False"
   ]
  },
  {
   "cell_type": "code",
   "execution_count": 16,
   "metadata": {},
   "outputs": [],
   "source": [
    "realty_data[\"is_apartment\"].fillna(False, inplace=True)"
   ]
  },
  {
   "cell_type": "markdown",
   "metadata": {},
   "source": [
    "Заменяем пропущенные значения в столбце \"kitchen_area\" на разнице между общей площадью и жилой площадью "
   ]
  },
  {
   "cell_type": "code",
   "execution_count": 17,
   "metadata": {},
   "outputs": [],
   "source": [
    "difference_area = realty_data[\"total_area\"] - realty_data[\"living_area\"]\n",
    "realty_data[\"kitchen_area\"].fillna(difference_area, inplace=True) "
   ]
  },
  {
   "cell_type": "markdown",
   "metadata": {},
   "source": [
    "Проверяем много ли у нас значений, где площадь кухни меньше 2 кв. метров, что невозможно в принципе, всего таких данных 39"
   ]
  },
  {
   "cell_type": "code",
   "execution_count": 18,
   "metadata": {},
   "outputs": [
    {
     "data": {
      "text/plain": [
       "39"
      ]
     },
     "execution_count": 18,
     "metadata": {},
     "output_type": "execute_result"
    }
   ],
   "source": [
    "realty_data.loc[realty_data[\"kitchen_area\"] < 2, \"kitchen_area\"].count()"
   ]
  },
  {
   "cell_type": "markdown",
   "metadata": {},
   "source": [
    "Так как таких данных немного, а они неправильные, удаляем их"
   ]
  },
  {
   "cell_type": "code",
   "execution_count": 19,
   "metadata": {},
   "outputs": [],
   "source": [
    "realty_data = realty_data.drop(realty_data[realty_data.kitchen_area < 2].index).reset_index(drop=True)"
   ]
  },
  {
   "cell_type": "markdown",
   "metadata": {},
   "source": [
    "Проверяем удалились ли данные"
   ]
  },
  {
   "cell_type": "code",
   "execution_count": 20,
   "metadata": {},
   "outputs": [
    {
     "name": "stdout",
     "output_type": "stream",
     "text": [
      "<class 'pandas.core.frame.DataFrame'>\n",
      "RangeIndex: 23660 entries, 0 to 23659\n",
      "Data columns (total 22 columns):\n",
      "total_images            23660 non-null int64\n",
      "last_price              23660 non-null float64\n",
      "total_area              23660 non-null float64\n",
      "first_day_exposition    23660 non-null object\n",
      "rooms                   23660 non-null int64\n",
      "ceiling_height          23660 non-null float64\n",
      "floors_total            23574 non-null float64\n",
      "living_area             23660 non-null float64\n",
      "floor                   23660 non-null int64\n",
      "is_apartment            23660 non-null bool\n",
      "studio                  23660 non-null bool\n",
      "open_plan               23660 non-null bool\n",
      "kitchen_area            23660 non-null float64\n",
      "balcony                 12175 non-null float64\n",
      "locality_name           23611 non-null object\n",
      "airports_nearest        18134 non-null float64\n",
      "cityCenters_nearest     18157 non-null float64\n",
      "parks_around3000        18158 non-null float64\n",
      "parks_nearest           8071 non-null float64\n",
      "ponds_around3000        18158 non-null float64\n",
      "ponds_nearest           9095 non-null float64\n",
      "days_exposition         20481 non-null float64\n",
      "dtypes: bool(3), float64(14), int64(3), object(2)\n",
      "memory usage: 3.5+ MB\n"
     ]
    }
   ],
   "source": [
    "realty_data.info()"
   ]
  },
  {
   "cell_type": "markdown",
   "metadata": {},
   "source": [
    "Меняем все значения в столбце \"balcony\" на 0, так как предполагаем, что пропущенное значение означает, что нет балкона"
   ]
  },
  {
   "cell_type": "code",
   "execution_count": 21,
   "metadata": {},
   "outputs": [],
   "source": [
    "realty_data[\"balcony\"].fillna(0, inplace=True)"
   ]
  },
  {
   "cell_type": "markdown",
   "metadata": {},
   "source": [
    "После проверки всех столбцев, значения по которым получены картографическим способом, мною был сделан вывод, что данные были пропущены, так как их не было, а именно все объекты оценки не находятся в городе Санкт-Петербурге, поэтому  данных по ним не было предусмотрено. Поэтому такие значения были заменены на 0. "
   ]
  },
  {
   "cell_type": "code",
   "execution_count": 22,
   "metadata": {},
   "outputs": [
    {
     "data": {
      "text/html": [
       "<div>\n",
       "<style scoped>\n",
       "    .dataframe tbody tr th:only-of-type {\n",
       "        vertical-align: middle;\n",
       "    }\n",
       "\n",
       "    .dataframe tbody tr th {\n",
       "        vertical-align: top;\n",
       "    }\n",
       "\n",
       "    .dataframe thead th {\n",
       "        text-align: right;\n",
       "    }\n",
       "</style>\n",
       "<table border=\"1\" class=\"dataframe\">\n",
       "  <thead>\n",
       "    <tr style=\"text-align: right;\">\n",
       "      <th></th>\n",
       "      <th>total_images</th>\n",
       "      <th>last_price</th>\n",
       "      <th>total_area</th>\n",
       "      <th>first_day_exposition</th>\n",
       "      <th>rooms</th>\n",
       "      <th>ceiling_height</th>\n",
       "      <th>floors_total</th>\n",
       "      <th>living_area</th>\n",
       "      <th>floor</th>\n",
       "      <th>is_apartment</th>\n",
       "      <th>...</th>\n",
       "      <th>kitchen_area</th>\n",
       "      <th>balcony</th>\n",
       "      <th>locality_name</th>\n",
       "      <th>airports_nearest</th>\n",
       "      <th>cityCenters_nearest</th>\n",
       "      <th>parks_around3000</th>\n",
       "      <th>parks_nearest</th>\n",
       "      <th>ponds_around3000</th>\n",
       "      <th>ponds_nearest</th>\n",
       "      <th>days_exposition</th>\n",
       "    </tr>\n",
       "  </thead>\n",
       "  <tbody>\n",
       "    <tr>\n",
       "      <td>5</td>\n",
       "      <td>10</td>\n",
       "      <td>2890000.0</td>\n",
       "      <td>30.40</td>\n",
       "      <td>2018-09-10T00:00:00</td>\n",
       "      <td>1</td>\n",
       "      <td>2.65</td>\n",
       "      <td>12.0</td>\n",
       "      <td>14.40</td>\n",
       "      <td>5</td>\n",
       "      <td>False</td>\n",
       "      <td>...</td>\n",
       "      <td>9.10</td>\n",
       "      <td>0.0</td>\n",
       "      <td>городской посёлок Янино-1</td>\n",
       "      <td>NaN</td>\n",
       "      <td>NaN</td>\n",
       "      <td>NaN</td>\n",
       "      <td>NaN</td>\n",
       "      <td>NaN</td>\n",
       "      <td>NaN</td>\n",
       "      <td>55.0</td>\n",
       "    </tr>\n",
       "    <tr>\n",
       "      <td>8</td>\n",
       "      <td>20</td>\n",
       "      <td>2900000.0</td>\n",
       "      <td>33.16</td>\n",
       "      <td>2018-05-23T00:00:00</td>\n",
       "      <td>1</td>\n",
       "      <td>2.65</td>\n",
       "      <td>27.0</td>\n",
       "      <td>15.43</td>\n",
       "      <td>26</td>\n",
       "      <td>False</td>\n",
       "      <td>...</td>\n",
       "      <td>8.81</td>\n",
       "      <td>0.0</td>\n",
       "      <td>посёлок Мурино</td>\n",
       "      <td>NaN</td>\n",
       "      <td>NaN</td>\n",
       "      <td>NaN</td>\n",
       "      <td>NaN</td>\n",
       "      <td>NaN</td>\n",
       "      <td>NaN</td>\n",
       "      <td>189.0</td>\n",
       "    </tr>\n",
       "    <tr>\n",
       "      <td>12</td>\n",
       "      <td>10</td>\n",
       "      <td>3890000.0</td>\n",
       "      <td>54.00</td>\n",
       "      <td>2016-06-30T00:00:00</td>\n",
       "      <td>2</td>\n",
       "      <td>2.65</td>\n",
       "      <td>5.0</td>\n",
       "      <td>30.00</td>\n",
       "      <td>5</td>\n",
       "      <td>False</td>\n",
       "      <td>...</td>\n",
       "      <td>9.00</td>\n",
       "      <td>0.0</td>\n",
       "      <td>Сертолово</td>\n",
       "      <td>NaN</td>\n",
       "      <td>NaN</td>\n",
       "      <td>NaN</td>\n",
       "      <td>NaN</td>\n",
       "      <td>NaN</td>\n",
       "      <td>NaN</td>\n",
       "      <td>90.0</td>\n",
       "    </tr>\n",
       "    <tr>\n",
       "      <td>22</td>\n",
       "      <td>20</td>\n",
       "      <td>5000000.0</td>\n",
       "      <td>58.00</td>\n",
       "      <td>2017-04-24T00:00:00</td>\n",
       "      <td>2</td>\n",
       "      <td>2.75</td>\n",
       "      <td>25.0</td>\n",
       "      <td>30.00</td>\n",
       "      <td>15</td>\n",
       "      <td>False</td>\n",
       "      <td>...</td>\n",
       "      <td>11.00</td>\n",
       "      <td>2.0</td>\n",
       "      <td>деревня Кудрово</td>\n",
       "      <td>NaN</td>\n",
       "      <td>NaN</td>\n",
       "      <td>NaN</td>\n",
       "      <td>NaN</td>\n",
       "      <td>NaN</td>\n",
       "      <td>NaN</td>\n",
       "      <td>60.0</td>\n",
       "    </tr>\n",
       "    <tr>\n",
       "      <td>30</td>\n",
       "      <td>12</td>\n",
       "      <td>2200000.0</td>\n",
       "      <td>32.80</td>\n",
       "      <td>2018-02-19T00:00:00</td>\n",
       "      <td>1</td>\n",
       "      <td>2.65</td>\n",
       "      <td>9.0</td>\n",
       "      <td>17.60</td>\n",
       "      <td>2</td>\n",
       "      <td>False</td>\n",
       "      <td>...</td>\n",
       "      <td>15.20</td>\n",
       "      <td>0.0</td>\n",
       "      <td>Коммунар</td>\n",
       "      <td>NaN</td>\n",
       "      <td>NaN</td>\n",
       "      <td>NaN</td>\n",
       "      <td>NaN</td>\n",
       "      <td>NaN</td>\n",
       "      <td>NaN</td>\n",
       "      <td>63.0</td>\n",
       "    </tr>\n",
       "    <tr>\n",
       "      <td>...</td>\n",
       "      <td>...</td>\n",
       "      <td>...</td>\n",
       "      <td>...</td>\n",
       "      <td>...</td>\n",
       "      <td>...</td>\n",
       "      <td>...</td>\n",
       "      <td>...</td>\n",
       "      <td>...</td>\n",
       "      <td>...</td>\n",
       "      <td>...</td>\n",
       "      <td>...</td>\n",
       "      <td>...</td>\n",
       "      <td>...</td>\n",
       "      <td>...</td>\n",
       "      <td>...</td>\n",
       "      <td>...</td>\n",
       "      <td>...</td>\n",
       "      <td>...</td>\n",
       "      <td>...</td>\n",
       "      <td>...</td>\n",
       "      <td>...</td>\n",
       "    </tr>\n",
       "    <tr>\n",
       "      <td>23644</td>\n",
       "      <td>16</td>\n",
       "      <td>2100000.0</td>\n",
       "      <td>62.80</td>\n",
       "      <td>2018-09-18T00:00:00</td>\n",
       "      <td>4</td>\n",
       "      <td>2.50</td>\n",
       "      <td>5.0</td>\n",
       "      <td>45.50</td>\n",
       "      <td>3</td>\n",
       "      <td>False</td>\n",
       "      <td>...</td>\n",
       "      <td>5.50</td>\n",
       "      <td>0.0</td>\n",
       "      <td>посёлок Дзержинского</td>\n",
       "      <td>NaN</td>\n",
       "      <td>NaN</td>\n",
       "      <td>NaN</td>\n",
       "      <td>NaN</td>\n",
       "      <td>NaN</td>\n",
       "      <td>NaN</td>\n",
       "      <td>NaN</td>\n",
       "    </tr>\n",
       "    <tr>\n",
       "      <td>23653</td>\n",
       "      <td>2</td>\n",
       "      <td>1350000.0</td>\n",
       "      <td>30.00</td>\n",
       "      <td>2017-07-07T00:00:00</td>\n",
       "      <td>1</td>\n",
       "      <td>2.65</td>\n",
       "      <td>5.0</td>\n",
       "      <td>17.50</td>\n",
       "      <td>4</td>\n",
       "      <td>False</td>\n",
       "      <td>...</td>\n",
       "      <td>6.00</td>\n",
       "      <td>0.0</td>\n",
       "      <td>Тихвин</td>\n",
       "      <td>NaN</td>\n",
       "      <td>NaN</td>\n",
       "      <td>NaN</td>\n",
       "      <td>NaN</td>\n",
       "      <td>NaN</td>\n",
       "      <td>NaN</td>\n",
       "      <td>413.0</td>\n",
       "    </tr>\n",
       "    <tr>\n",
       "      <td>23656</td>\n",
       "      <td>14</td>\n",
       "      <td>3100000.0</td>\n",
       "      <td>59.00</td>\n",
       "      <td>2018-01-15T00:00:00</td>\n",
       "      <td>3</td>\n",
       "      <td>2.65</td>\n",
       "      <td>5.0</td>\n",
       "      <td>38.00</td>\n",
       "      <td>4</td>\n",
       "      <td>False</td>\n",
       "      <td>...</td>\n",
       "      <td>8.50</td>\n",
       "      <td>0.0</td>\n",
       "      <td>Тосно</td>\n",
       "      <td>NaN</td>\n",
       "      <td>NaN</td>\n",
       "      <td>NaN</td>\n",
       "      <td>NaN</td>\n",
       "      <td>NaN</td>\n",
       "      <td>NaN</td>\n",
       "      <td>45.0</td>\n",
       "    </tr>\n",
       "    <tr>\n",
       "      <td>23657</td>\n",
       "      <td>18</td>\n",
       "      <td>2500000.0</td>\n",
       "      <td>56.70</td>\n",
       "      <td>2018-02-11T00:00:00</td>\n",
       "      <td>2</td>\n",
       "      <td>2.65</td>\n",
       "      <td>3.0</td>\n",
       "      <td>29.70</td>\n",
       "      <td>1</td>\n",
       "      <td>False</td>\n",
       "      <td>...</td>\n",
       "      <td>27.00</td>\n",
       "      <td>0.0</td>\n",
       "      <td>село Рождествено</td>\n",
       "      <td>NaN</td>\n",
       "      <td>NaN</td>\n",
       "      <td>NaN</td>\n",
       "      <td>NaN</td>\n",
       "      <td>NaN</td>\n",
       "      <td>NaN</td>\n",
       "      <td>NaN</td>\n",
       "    </tr>\n",
       "    <tr>\n",
       "      <td>23659</td>\n",
       "      <td>4</td>\n",
       "      <td>1350000.0</td>\n",
       "      <td>32.30</td>\n",
       "      <td>2017-07-21T00:00:00</td>\n",
       "      <td>1</td>\n",
       "      <td>2.50</td>\n",
       "      <td>5.0</td>\n",
       "      <td>12.30</td>\n",
       "      <td>1</td>\n",
       "      <td>False</td>\n",
       "      <td>...</td>\n",
       "      <td>9.00</td>\n",
       "      <td>0.0</td>\n",
       "      <td>поселок Новый Учхоз</td>\n",
       "      <td>NaN</td>\n",
       "      <td>NaN</td>\n",
       "      <td>NaN</td>\n",
       "      <td>NaN</td>\n",
       "      <td>NaN</td>\n",
       "      <td>NaN</td>\n",
       "      <td>NaN</td>\n",
       "    </tr>\n",
       "  </tbody>\n",
       "</table>\n",
       "<p>5526 rows × 22 columns</p>\n",
       "</div>"
      ],
      "text/plain": [
       "       total_images  last_price  total_area first_day_exposition  rooms  \\\n",
       "5                10   2890000.0       30.40  2018-09-10T00:00:00      1   \n",
       "8                20   2900000.0       33.16  2018-05-23T00:00:00      1   \n",
       "12               10   3890000.0       54.00  2016-06-30T00:00:00      2   \n",
       "22               20   5000000.0       58.00  2017-04-24T00:00:00      2   \n",
       "30               12   2200000.0       32.80  2018-02-19T00:00:00      1   \n",
       "...             ...         ...         ...                  ...    ...   \n",
       "23644            16   2100000.0       62.80  2018-09-18T00:00:00      4   \n",
       "23653             2   1350000.0       30.00  2017-07-07T00:00:00      1   \n",
       "23656            14   3100000.0       59.00  2018-01-15T00:00:00      3   \n",
       "23657            18   2500000.0       56.70  2018-02-11T00:00:00      2   \n",
       "23659             4   1350000.0       32.30  2017-07-21T00:00:00      1   \n",
       "\n",
       "       ceiling_height  floors_total  living_area  floor  is_apartment  ...  \\\n",
       "5                2.65          12.0        14.40      5         False  ...   \n",
       "8                2.65          27.0        15.43     26         False  ...   \n",
       "12               2.65           5.0        30.00      5         False  ...   \n",
       "22               2.75          25.0        30.00     15         False  ...   \n",
       "30               2.65           9.0        17.60      2         False  ...   \n",
       "...               ...           ...          ...    ...           ...  ...   \n",
       "23644            2.50           5.0        45.50      3         False  ...   \n",
       "23653            2.65           5.0        17.50      4         False  ...   \n",
       "23656            2.65           5.0        38.00      4         False  ...   \n",
       "23657            2.65           3.0        29.70      1         False  ...   \n",
       "23659            2.50           5.0        12.30      1         False  ...   \n",
       "\n",
       "       kitchen_area  balcony              locality_name  airports_nearest  \\\n",
       "5              9.10      0.0  городской посёлок Янино-1               NaN   \n",
       "8              8.81      0.0             посёлок Мурино               NaN   \n",
       "12             9.00      0.0                  Сертолово               NaN   \n",
       "22            11.00      2.0            деревня Кудрово               NaN   \n",
       "30            15.20      0.0                   Коммунар               NaN   \n",
       "...             ...      ...                        ...               ...   \n",
       "23644          5.50      0.0       посёлок Дзержинского               NaN   \n",
       "23653          6.00      0.0                     Тихвин               NaN   \n",
       "23656          8.50      0.0                      Тосно               NaN   \n",
       "23657         27.00      0.0           село Рождествено               NaN   \n",
       "23659          9.00      0.0        поселок Новый Учхоз               NaN   \n",
       "\n",
       "      cityCenters_nearest  parks_around3000  parks_nearest  ponds_around3000  \\\n",
       "5                     NaN               NaN            NaN               NaN   \n",
       "8                     NaN               NaN            NaN               NaN   \n",
       "12                    NaN               NaN            NaN               NaN   \n",
       "22                    NaN               NaN            NaN               NaN   \n",
       "30                    NaN               NaN            NaN               NaN   \n",
       "...                   ...               ...            ...               ...   \n",
       "23644                 NaN               NaN            NaN               NaN   \n",
       "23653                 NaN               NaN            NaN               NaN   \n",
       "23656                 NaN               NaN            NaN               NaN   \n",
       "23657                 NaN               NaN            NaN               NaN   \n",
       "23659                 NaN               NaN            NaN               NaN   \n",
       "\n",
       "       ponds_nearest  days_exposition  \n",
       "5                NaN             55.0  \n",
       "8                NaN            189.0  \n",
       "12               NaN             90.0  \n",
       "22               NaN             60.0  \n",
       "30               NaN             63.0  \n",
       "...              ...              ...  \n",
       "23644            NaN              NaN  \n",
       "23653            NaN            413.0  \n",
       "23656            NaN             45.0  \n",
       "23657            NaN              NaN  \n",
       "23659            NaN              NaN  \n",
       "\n",
       "[5526 rows x 22 columns]"
      ]
     },
     "execution_count": 22,
     "metadata": {},
     "output_type": "execute_result"
    }
   ],
   "source": [
    "realty_data[realty_data[\"airports_nearest\"].isnull()]"
   ]
  },
  {
   "cell_type": "code",
   "execution_count": 23,
   "metadata": {},
   "outputs": [],
   "source": [
    "realty_data.fillna({'airports_nearest':0, 'cityCenters_nearest':0, 'parks_around3000': 0, 'parks_nearest': 0, 'ponds_around3000': 0, 'ponds_nearest': 0}, inplace=True)"
   ]
  },
  {
   "cell_type": "code",
   "execution_count": 24,
   "metadata": {},
   "outputs": [
    {
     "name": "stdout",
     "output_type": "stream",
     "text": [
      "<class 'pandas.core.frame.DataFrame'>\n",
      "RangeIndex: 23660 entries, 0 to 23659\n",
      "Data columns (total 22 columns):\n",
      "total_images            23660 non-null int64\n",
      "last_price              23660 non-null float64\n",
      "total_area              23660 non-null float64\n",
      "first_day_exposition    23660 non-null object\n",
      "rooms                   23660 non-null int64\n",
      "ceiling_height          23660 non-null float64\n",
      "floors_total            23574 non-null float64\n",
      "living_area             23660 non-null float64\n",
      "floor                   23660 non-null int64\n",
      "is_apartment            23660 non-null bool\n",
      "studio                  23660 non-null bool\n",
      "open_plan               23660 non-null bool\n",
      "kitchen_area            23660 non-null float64\n",
      "balcony                 23660 non-null float64\n",
      "locality_name           23611 non-null object\n",
      "airports_nearest        23660 non-null float64\n",
      "cityCenters_nearest     23660 non-null float64\n",
      "parks_around3000        23660 non-null float64\n",
      "parks_nearest           23660 non-null float64\n",
      "ponds_around3000        23660 non-null float64\n",
      "ponds_nearest           23660 non-null float64\n",
      "days_exposition         20481 non-null float64\n",
      "dtypes: bool(3), float64(14), int64(3), object(2)\n",
      "memory usage: 3.5+ MB\n"
     ]
    }
   ],
   "source": [
    "realty_data.info()"
   ]
  },
  {
   "cell_type": "markdown",
   "metadata": {},
   "source": [
    "Пропущенные значения в столбце \"days_exposition\" решил заменить на разницу между сегодняшним числом и датой размещения объявления, так как по моему мнению пропуски были обусловлены тем, что объявления еще не сняты, то есть они еще висят, но в тоже время нельзя было оставлять пропущенные значения"
   ]
  },
  {
   "cell_type": "code",
   "execution_count": 25,
   "metadata": {},
   "outputs": [],
   "source": [
    "time_now = pd.datetime.now() \n",
    "realty_data[\"first_day_exposition\"] = realty_data[\"first_day_exposition\"].apply(lambda x: datetime.strptime(x, '%Y-%m-%dT%H:%M:%S'))\n",
    "difference_days = time_now - realty_data[\"first_day_exposition\"]\n",
    "difference_days = difference_days.apply(lambda x: x.total_seconds()/86400)\n",
    "realty_data[\"days_exposition\"].fillna(difference_days, inplace=True)\n"
   ]
  },
  {
   "cell_type": "markdown",
   "metadata": {},
   "source": [
    "Остались пропуски в столбце \"locality_name\" и \"floors_total\", но так их значения не значительны, то принял решения убрать их из таблицы"
   ]
  },
  {
   "cell_type": "code",
   "execution_count": 26,
   "metadata": {},
   "outputs": [],
   "source": [
    "realty_data = realty_data.dropna().reset_index(drop= True)\n"
   ]
  },
  {
   "cell_type": "markdown",
   "metadata": {},
   "source": [
    "Проверяем все ли заменены пропуски"
   ]
  },
  {
   "cell_type": "code",
   "execution_count": 27,
   "metadata": {},
   "outputs": [
    {
     "name": "stdout",
     "output_type": "stream",
     "text": [
      "<class 'pandas.core.frame.DataFrame'>\n",
      "RangeIndex: 23526 entries, 0 to 23525\n",
      "Data columns (total 22 columns):\n",
      "total_images            23526 non-null int64\n",
      "last_price              23526 non-null float64\n",
      "total_area              23526 non-null float64\n",
      "first_day_exposition    23526 non-null datetime64[ns]\n",
      "rooms                   23526 non-null int64\n",
      "ceiling_height          23526 non-null float64\n",
      "floors_total            23526 non-null float64\n",
      "living_area             23526 non-null float64\n",
      "floor                   23526 non-null int64\n",
      "is_apartment            23526 non-null bool\n",
      "studio                  23526 non-null bool\n",
      "open_plan               23526 non-null bool\n",
      "kitchen_area            23526 non-null float64\n",
      "balcony                 23526 non-null float64\n",
      "locality_name           23526 non-null object\n",
      "airports_nearest        23526 non-null float64\n",
      "cityCenters_nearest     23526 non-null float64\n",
      "parks_around3000        23526 non-null float64\n",
      "parks_nearest           23526 non-null float64\n",
      "ponds_around3000        23526 non-null float64\n",
      "ponds_nearest           23526 non-null float64\n",
      "days_exposition         23526 non-null float64\n",
      "dtypes: bool(3), datetime64[ns](1), float64(14), int64(3), object(1)\n",
      "memory usage: 3.5+ MB\n"
     ]
    }
   ],
   "source": [
    "realty_data.info()"
   ]
  },
  {
   "cell_type": "markdown",
   "metadata": {},
   "source": [
    "Заменим вещественный тип данных на целочисленный в строчках \"days_exposition\", \"floors_total\", \"balcony\" и \"last_price\".\n",
    "При этом проверка показала, что тип столбца \"is_apartment\" заменился на логистический тип. "
   ]
  },
  {
   "cell_type": "code",
   "execution_count": 28,
   "metadata": {},
   "outputs": [],
   "source": [
    "realty_data[\"days_exposition\"] = realty_data[\"days_exposition\"].astype(\"int\")\n",
    "realty_data[\"floors_total\"] = realty_data[\"floors_total\"].astype(\"int\")\n",
    "realty_data[\"balcony\"] = realty_data[\"balcony\"].astype(\"int\")\n",
    "realty_data[\"last_price\"] = realty_data[\"last_price\"].astype(\"int\")"
   ]
  },
  {
   "cell_type": "markdown",
   "metadata": {},
   "source": [
    "__Вывод__\n",
    "<br>\n",
    "\n",
    "<div>Как предполагалось ранее пропуски были найдены в 12 столбцах. Причинами пропусков можно выделить следующие:\n",
    "- объект объявления не обладал необходимыми данными характеристими и их просто забыли заполнить, например часть пропусков была в столбце balcon, что говорило о том, что у квартиры отсутвуют балконы. Также это относится к данным, которые получены картографическим способом, так как значения пропущены в объектах объявления, которые не находятся в городе Санкт-Петербурге.\n",
    "- данные были еще не получены, например, пропуски в столбце \"days_exposition\" говорили о том, что объявления еще не сняты, то есть они еще висят, но в тоже время нельзя было оставлять пропущенные значения, поэтому было принято решение заменить пропуски на разницу между сегодняшним числом и датой размещения объявления.\n",
    "- невнимательность тех кто вводил данные, в некоторых местах пропуски связаны в первую очередь с человеческим фактором, как например отсутвовала высота потолков по ряду объектов или их местарасположение, скорее всего просто люди при создания объявления забывали указать данные параметры. </div>"
   ]
  },
  {
   "cell_type": "markdown",
   "metadata": {},
   "source": [
    "Проблема заполнения пропущенных значений в данных столбцах, решалась следующим способом:\n",
    "- <b>замена на 0 или False</b>, где не было выявлено закономерностей и было выдвинуто предположение, что здесь пропуски означают нулевое значение, к таким столбцам относятся airports_nearest, cityCenters_neares, parks_around3000, parks_neares ponds_around3000 и is_apartment.\n",
    "- <b>замена на медиану значений</b>, в данном случае это столбец ceiling_height.\n",
    "- <b>замена на медиану значений с разбивкой на категории</b>, в данном случае это столбец living_area, так как пропушенные значения заменялись на медиану по количеству комнат.\n",
    "- <b>замену на разницу между данными</b>, к данному типу относится столбец \"days_exposition\" (разница между сегодняшним числом и датой размещения объявления) и \"kitchen_area\" (разница между общей площадью и жилой площадью).\n",
    "- <b>удаление столбцов</b>, это столбцы \"locality_name\" и \"floors_total\" и где значения kitchen_area меньше 2 кв. м.\n",
    "\n",
    "Всего было удалено 173 ячейки, что составляет 0,7% от данных таблицы."
   ]
  },
  {
   "cell_type": "markdown",
   "metadata": {},
   "source": [
    "# Посчитайте и добавьте в таблицу <a name=\"table\"></a>"
   ]
  },
  {
   "cell_type": "markdown",
   "metadata": {},
   "source": [
    "Посчитываем и добавляем в таблицу цену квадратного метра."
   ]
  },
  {
   "cell_type": "code",
   "execution_count": 29,
   "metadata": {},
   "outputs": [],
   "source": [
    "realty_data[\"price_metre\"] = realty_data[\"last_price\"] / realty_data[\"total_area\"]\n",
    "realty_data[\"price_metre\"] = realty_data[\"price_metre\"].astype(\"int\")"
   ]
  },
  {
   "cell_type": "markdown",
   "metadata": {},
   "source": [
    "Посчитываем и добавляем в таблицу день недели, месяц и год публикации объявления."
   ]
  },
  {
   "cell_type": "code",
   "execution_count": 30,
   "metadata": {},
   "outputs": [],
   "source": [
    "realty_data['year'] = realty_data['first_day_exposition'].dt.year\n",
    "realty_data['weekday'] = realty_data['first_day_exposition'].dt.weekday\n",
    "realty_data['month'] = realty_data['first_day_exposition'].dt.month"
   ]
  },
  {
   "cell_type": "markdown",
   "metadata": {},
   "source": [
    "Сделал функцию, которая категоризирует количество этажей на следующие группы \"первый этаж\", \"последний\" и \"другое\"."
   ]
  },
  {
   "cell_type": "code",
   "execution_count": 31,
   "metadata": {},
   "outputs": [],
   "source": [
    "def total_floor(row):\n",
    "    \n",
    "    if row[\"floor\"] == 1:\n",
    "         return \"первый этаж\"\n",
    "    elif row[\"floor\"] == row[\"floors_total\"]:\n",
    "        return \"последний\"\n",
    "    return \"другое\"\n",
    "\n",
    "realty_data['floor_category'] = realty_data.apply(total_floor, axis=1)"
   ]
  },
  {
   "cell_type": "code",
   "execution_count": 32,
   "metadata": {},
   "outputs": [
    {
     "data": {
      "text/html": [
       "<div>\n",
       "<style scoped>\n",
       "    .dataframe tbody tr th:only-of-type {\n",
       "        vertical-align: middle;\n",
       "    }\n",
       "\n",
       "    .dataframe tbody tr th {\n",
       "        vertical-align: top;\n",
       "    }\n",
       "\n",
       "    .dataframe thead th {\n",
       "        text-align: right;\n",
       "    }\n",
       "</style>\n",
       "<table border=\"1\" class=\"dataframe\">\n",
       "  <thead>\n",
       "    <tr style=\"text-align: right;\">\n",
       "      <th></th>\n",
       "      <th>total_images</th>\n",
       "      <th>last_price</th>\n",
       "      <th>total_area</th>\n",
       "      <th>first_day_exposition</th>\n",
       "      <th>rooms</th>\n",
       "      <th>ceiling_height</th>\n",
       "      <th>floors_total</th>\n",
       "      <th>living_area</th>\n",
       "      <th>floor</th>\n",
       "      <th>is_apartment</th>\n",
       "      <th>...</th>\n",
       "      <th>parks_around3000</th>\n",
       "      <th>parks_nearest</th>\n",
       "      <th>ponds_around3000</th>\n",
       "      <th>ponds_nearest</th>\n",
       "      <th>days_exposition</th>\n",
       "      <th>price_metre</th>\n",
       "      <th>year</th>\n",
       "      <th>weekday</th>\n",
       "      <th>month</th>\n",
       "      <th>floor_category</th>\n",
       "    </tr>\n",
       "  </thead>\n",
       "  <tbody>\n",
       "    <tr>\n",
       "      <td>0</td>\n",
       "      <td>20</td>\n",
       "      <td>13000000</td>\n",
       "      <td>108.00</td>\n",
       "      <td>2019-03-07</td>\n",
       "      <td>3</td>\n",
       "      <td>2.70</td>\n",
       "      <td>16</td>\n",
       "      <td>51.0</td>\n",
       "      <td>8</td>\n",
       "      <td>False</td>\n",
       "      <td>...</td>\n",
       "      <td>1.0</td>\n",
       "      <td>482.0</td>\n",
       "      <td>2.0</td>\n",
       "      <td>755.0</td>\n",
       "      <td>852</td>\n",
       "      <td>120370</td>\n",
       "      <td>2019</td>\n",
       "      <td>3</td>\n",
       "      <td>3</td>\n",
       "      <td>другое</td>\n",
       "    </tr>\n",
       "    <tr>\n",
       "      <td>1</td>\n",
       "      <td>7</td>\n",
       "      <td>3350000</td>\n",
       "      <td>40.40</td>\n",
       "      <td>2018-12-04</td>\n",
       "      <td>1</td>\n",
       "      <td>2.65</td>\n",
       "      <td>11</td>\n",
       "      <td>18.6</td>\n",
       "      <td>1</td>\n",
       "      <td>False</td>\n",
       "      <td>...</td>\n",
       "      <td>0.0</td>\n",
       "      <td>0.0</td>\n",
       "      <td>0.0</td>\n",
       "      <td>0.0</td>\n",
       "      <td>81</td>\n",
       "      <td>82920</td>\n",
       "      <td>2018</td>\n",
       "      <td>1</td>\n",
       "      <td>12</td>\n",
       "      <td>первый этаж</td>\n",
       "    </tr>\n",
       "    <tr>\n",
       "      <td>2</td>\n",
       "      <td>10</td>\n",
       "      <td>5196000</td>\n",
       "      <td>56.00</td>\n",
       "      <td>2015-08-20</td>\n",
       "      <td>2</td>\n",
       "      <td>2.65</td>\n",
       "      <td>5</td>\n",
       "      <td>34.3</td>\n",
       "      <td>4</td>\n",
       "      <td>False</td>\n",
       "      <td>...</td>\n",
       "      <td>1.0</td>\n",
       "      <td>90.0</td>\n",
       "      <td>2.0</td>\n",
       "      <td>574.0</td>\n",
       "      <td>558</td>\n",
       "      <td>92785</td>\n",
       "      <td>2015</td>\n",
       "      <td>3</td>\n",
       "      <td>8</td>\n",
       "      <td>другое</td>\n",
       "    </tr>\n",
       "    <tr>\n",
       "      <td>3</td>\n",
       "      <td>0</td>\n",
       "      <td>64900000</td>\n",
       "      <td>159.00</td>\n",
       "      <td>2015-07-24</td>\n",
       "      <td>3</td>\n",
       "      <td>2.65</td>\n",
       "      <td>14</td>\n",
       "      <td>45.0</td>\n",
       "      <td>9</td>\n",
       "      <td>False</td>\n",
       "      <td>...</td>\n",
       "      <td>2.0</td>\n",
       "      <td>84.0</td>\n",
       "      <td>3.0</td>\n",
       "      <td>234.0</td>\n",
       "      <td>424</td>\n",
       "      <td>408176</td>\n",
       "      <td>2015</td>\n",
       "      <td>4</td>\n",
       "      <td>7</td>\n",
       "      <td>другое</td>\n",
       "    </tr>\n",
       "    <tr>\n",
       "      <td>4</td>\n",
       "      <td>2</td>\n",
       "      <td>10000000</td>\n",
       "      <td>100.00</td>\n",
       "      <td>2018-06-19</td>\n",
       "      <td>2</td>\n",
       "      <td>3.03</td>\n",
       "      <td>14</td>\n",
       "      <td>32.0</td>\n",
       "      <td>13</td>\n",
       "      <td>False</td>\n",
       "      <td>...</td>\n",
       "      <td>2.0</td>\n",
       "      <td>112.0</td>\n",
       "      <td>1.0</td>\n",
       "      <td>48.0</td>\n",
       "      <td>121</td>\n",
       "      <td>100000</td>\n",
       "      <td>2018</td>\n",
       "      <td>1</td>\n",
       "      <td>6</td>\n",
       "      <td>другое</td>\n",
       "    </tr>\n",
       "    <tr>\n",
       "      <td>...</td>\n",
       "      <td>...</td>\n",
       "      <td>...</td>\n",
       "      <td>...</td>\n",
       "      <td>...</td>\n",
       "      <td>...</td>\n",
       "      <td>...</td>\n",
       "      <td>...</td>\n",
       "      <td>...</td>\n",
       "      <td>...</td>\n",
       "      <td>...</td>\n",
       "      <td>...</td>\n",
       "      <td>...</td>\n",
       "      <td>...</td>\n",
       "      <td>...</td>\n",
       "      <td>...</td>\n",
       "      <td>...</td>\n",
       "      <td>...</td>\n",
       "      <td>...</td>\n",
       "      <td>...</td>\n",
       "      <td>...</td>\n",
       "      <td>...</td>\n",
       "    </tr>\n",
       "    <tr>\n",
       "      <td>23521</td>\n",
       "      <td>9</td>\n",
       "      <td>9700000</td>\n",
       "      <td>133.81</td>\n",
       "      <td>2017-03-21</td>\n",
       "      <td>3</td>\n",
       "      <td>3.70</td>\n",
       "      <td>5</td>\n",
       "      <td>73.3</td>\n",
       "      <td>3</td>\n",
       "      <td>False</td>\n",
       "      <td>...</td>\n",
       "      <td>1.0</td>\n",
       "      <td>796.0</td>\n",
       "      <td>3.0</td>\n",
       "      <td>381.0</td>\n",
       "      <td>1568</td>\n",
       "      <td>72490</td>\n",
       "      <td>2017</td>\n",
       "      <td>1</td>\n",
       "      <td>3</td>\n",
       "      <td>другое</td>\n",
       "    </tr>\n",
       "    <tr>\n",
       "      <td>23522</td>\n",
       "      <td>14</td>\n",
       "      <td>3100000</td>\n",
       "      <td>59.00</td>\n",
       "      <td>2018-01-15</td>\n",
       "      <td>3</td>\n",
       "      <td>2.65</td>\n",
       "      <td>5</td>\n",
       "      <td>38.0</td>\n",
       "      <td>4</td>\n",
       "      <td>False</td>\n",
       "      <td>...</td>\n",
       "      <td>0.0</td>\n",
       "      <td>0.0</td>\n",
       "      <td>0.0</td>\n",
       "      <td>0.0</td>\n",
       "      <td>45</td>\n",
       "      <td>52542</td>\n",
       "      <td>2018</td>\n",
       "      <td>0</td>\n",
       "      <td>1</td>\n",
       "      <td>другое</td>\n",
       "    </tr>\n",
       "    <tr>\n",
       "      <td>23523</td>\n",
       "      <td>18</td>\n",
       "      <td>2500000</td>\n",
       "      <td>56.70</td>\n",
       "      <td>2018-02-11</td>\n",
       "      <td>2</td>\n",
       "      <td>2.65</td>\n",
       "      <td>3</td>\n",
       "      <td>29.7</td>\n",
       "      <td>1</td>\n",
       "      <td>False</td>\n",
       "      <td>...</td>\n",
       "      <td>0.0</td>\n",
       "      <td>0.0</td>\n",
       "      <td>0.0</td>\n",
       "      <td>0.0</td>\n",
       "      <td>1241</td>\n",
       "      <td>44091</td>\n",
       "      <td>2018</td>\n",
       "      <td>6</td>\n",
       "      <td>2</td>\n",
       "      <td>первый этаж</td>\n",
       "    </tr>\n",
       "    <tr>\n",
       "      <td>23524</td>\n",
       "      <td>13</td>\n",
       "      <td>11475000</td>\n",
       "      <td>76.75</td>\n",
       "      <td>2017-03-28</td>\n",
       "      <td>2</td>\n",
       "      <td>3.00</td>\n",
       "      <td>17</td>\n",
       "      <td>30.5</td>\n",
       "      <td>12</td>\n",
       "      <td>False</td>\n",
       "      <td>...</td>\n",
       "      <td>2.0</td>\n",
       "      <td>173.0</td>\n",
       "      <td>3.0</td>\n",
       "      <td>196.0</td>\n",
       "      <td>602</td>\n",
       "      <td>149511</td>\n",
       "      <td>2017</td>\n",
       "      <td>1</td>\n",
       "      <td>3</td>\n",
       "      <td>другое</td>\n",
       "    </tr>\n",
       "    <tr>\n",
       "      <td>23525</td>\n",
       "      <td>4</td>\n",
       "      <td>1350000</td>\n",
       "      <td>32.30</td>\n",
       "      <td>2017-07-21</td>\n",
       "      <td>1</td>\n",
       "      <td>2.50</td>\n",
       "      <td>5</td>\n",
       "      <td>12.3</td>\n",
       "      <td>1</td>\n",
       "      <td>False</td>\n",
       "      <td>...</td>\n",
       "      <td>0.0</td>\n",
       "      <td>0.0</td>\n",
       "      <td>0.0</td>\n",
       "      <td>0.0</td>\n",
       "      <td>1446</td>\n",
       "      <td>41795</td>\n",
       "      <td>2017</td>\n",
       "      <td>4</td>\n",
       "      <td>7</td>\n",
       "      <td>первый этаж</td>\n",
       "    </tr>\n",
       "  </tbody>\n",
       "</table>\n",
       "<p>23526 rows × 27 columns</p>\n",
       "</div>"
      ],
      "text/plain": [
       "       total_images  last_price  total_area first_day_exposition  rooms  \\\n",
       "0                20    13000000      108.00           2019-03-07      3   \n",
       "1                 7     3350000       40.40           2018-12-04      1   \n",
       "2                10     5196000       56.00           2015-08-20      2   \n",
       "3                 0    64900000      159.00           2015-07-24      3   \n",
       "4                 2    10000000      100.00           2018-06-19      2   \n",
       "...             ...         ...         ...                  ...    ...   \n",
       "23521             9     9700000      133.81           2017-03-21      3   \n",
       "23522            14     3100000       59.00           2018-01-15      3   \n",
       "23523            18     2500000       56.70           2018-02-11      2   \n",
       "23524            13    11475000       76.75           2017-03-28      2   \n",
       "23525             4     1350000       32.30           2017-07-21      1   \n",
       "\n",
       "       ceiling_height  floors_total  living_area  floor  is_apartment  ...  \\\n",
       "0                2.70            16         51.0      8         False  ...   \n",
       "1                2.65            11         18.6      1         False  ...   \n",
       "2                2.65             5         34.3      4         False  ...   \n",
       "3                2.65            14         45.0      9         False  ...   \n",
       "4                3.03            14         32.0     13         False  ...   \n",
       "...               ...           ...          ...    ...           ...  ...   \n",
       "23521            3.70             5         73.3      3         False  ...   \n",
       "23522            2.65             5         38.0      4         False  ...   \n",
       "23523            2.65             3         29.7      1         False  ...   \n",
       "23524            3.00            17         30.5     12         False  ...   \n",
       "23525            2.50             5         12.3      1         False  ...   \n",
       "\n",
       "       parks_around3000  parks_nearest  ponds_around3000  ponds_nearest  \\\n",
       "0                   1.0          482.0               2.0          755.0   \n",
       "1                   0.0            0.0               0.0            0.0   \n",
       "2                   1.0           90.0               2.0          574.0   \n",
       "3                   2.0           84.0               3.0          234.0   \n",
       "4                   2.0          112.0               1.0           48.0   \n",
       "...                 ...            ...               ...            ...   \n",
       "23521               1.0          796.0               3.0          381.0   \n",
       "23522               0.0            0.0               0.0            0.0   \n",
       "23523               0.0            0.0               0.0            0.0   \n",
       "23524               2.0          173.0               3.0          196.0   \n",
       "23525               0.0            0.0               0.0            0.0   \n",
       "\n",
       "      days_exposition  price_metre  year  weekday  month  floor_category  \n",
       "0                 852       120370  2019        3      3          другое  \n",
       "1                  81        82920  2018        1     12     первый этаж  \n",
       "2                 558        92785  2015        3      8          другое  \n",
       "3                 424       408176  2015        4      7          другое  \n",
       "4                 121       100000  2018        1      6          другое  \n",
       "...               ...          ...   ...      ...    ...             ...  \n",
       "23521            1568        72490  2017        1      3          другое  \n",
       "23522              45        52542  2018        0      1          другое  \n",
       "23523            1241        44091  2018        6      2     первый этаж  \n",
       "23524             602       149511  2017        1      3          другое  \n",
       "23525            1446        41795  2017        4      7     первый этаж  \n",
       "\n",
       "[23526 rows x 27 columns]"
      ]
     },
     "execution_count": 32,
     "metadata": {},
     "output_type": "execute_result"
    }
   ],
   "source": [
    "realty_data"
   ]
  },
  {
   "cell_type": "markdown",
   "metadata": {},
   "source": [
    "Посчитываем и добавляем в таблицу соотношение жилой и общей площади."
   ]
  },
  {
   "cell_type": "code",
   "execution_count": 33,
   "metadata": {},
   "outputs": [],
   "source": [
    "realty_data[\"ratio_area\"] = realty_data[\"living_area\"] / realty_data[\"total_area\"]"
   ]
  },
  {
   "cell_type": "markdown",
   "metadata": {},
   "source": [
    "Посчитываем и добавляем в таблицу соотношение площади кухни к общей."
   ]
  },
  {
   "cell_type": "code",
   "execution_count": 34,
   "metadata": {},
   "outputs": [],
   "source": [
    "realty_data[\"ratio_area1\"] = realty_data[\"kitchen_area\"] / realty_data[\"total_area\"]"
   ]
  },
  {
   "cell_type": "code",
   "execution_count": 35,
   "metadata": {},
   "outputs": [
    {
     "data": {
      "text/html": [
       "<div>\n",
       "<style scoped>\n",
       "    .dataframe tbody tr th:only-of-type {\n",
       "        vertical-align: middle;\n",
       "    }\n",
       "\n",
       "    .dataframe tbody tr th {\n",
       "        vertical-align: top;\n",
       "    }\n",
       "\n",
       "    .dataframe thead th {\n",
       "        text-align: right;\n",
       "    }\n",
       "</style>\n",
       "<table border=\"1\" class=\"dataframe\">\n",
       "  <thead>\n",
       "    <tr style=\"text-align: right;\">\n",
       "      <th></th>\n",
       "      <th>total_images</th>\n",
       "      <th>last_price</th>\n",
       "      <th>total_area</th>\n",
       "      <th>first_day_exposition</th>\n",
       "      <th>rooms</th>\n",
       "      <th>ceiling_height</th>\n",
       "      <th>floors_total</th>\n",
       "      <th>living_area</th>\n",
       "      <th>floor</th>\n",
       "      <th>is_apartment</th>\n",
       "      <th>...</th>\n",
       "      <th>ponds_around3000</th>\n",
       "      <th>ponds_nearest</th>\n",
       "      <th>days_exposition</th>\n",
       "      <th>price_metre</th>\n",
       "      <th>year</th>\n",
       "      <th>weekday</th>\n",
       "      <th>month</th>\n",
       "      <th>floor_category</th>\n",
       "      <th>ratio_area</th>\n",
       "      <th>ratio_area1</th>\n",
       "    </tr>\n",
       "  </thead>\n",
       "  <tbody>\n",
       "    <tr>\n",
       "      <td>0</td>\n",
       "      <td>20</td>\n",
       "      <td>13000000</td>\n",
       "      <td>108.0</td>\n",
       "      <td>2019-03-07</td>\n",
       "      <td>3</td>\n",
       "      <td>2.70</td>\n",
       "      <td>16</td>\n",
       "      <td>51.0</td>\n",
       "      <td>8</td>\n",
       "      <td>False</td>\n",
       "      <td>...</td>\n",
       "      <td>2.0</td>\n",
       "      <td>755.0</td>\n",
       "      <td>852</td>\n",
       "      <td>120370</td>\n",
       "      <td>2019</td>\n",
       "      <td>3</td>\n",
       "      <td>3</td>\n",
       "      <td>другое</td>\n",
       "      <td>0.472222</td>\n",
       "      <td>0.231481</td>\n",
       "    </tr>\n",
       "    <tr>\n",
       "      <td>1</td>\n",
       "      <td>7</td>\n",
       "      <td>3350000</td>\n",
       "      <td>40.4</td>\n",
       "      <td>2018-12-04</td>\n",
       "      <td>1</td>\n",
       "      <td>2.65</td>\n",
       "      <td>11</td>\n",
       "      <td>18.6</td>\n",
       "      <td>1</td>\n",
       "      <td>False</td>\n",
       "      <td>...</td>\n",
       "      <td>0.0</td>\n",
       "      <td>0.0</td>\n",
       "      <td>81</td>\n",
       "      <td>82920</td>\n",
       "      <td>2018</td>\n",
       "      <td>1</td>\n",
       "      <td>12</td>\n",
       "      <td>первый этаж</td>\n",
       "      <td>0.460396</td>\n",
       "      <td>0.272277</td>\n",
       "    </tr>\n",
       "    <tr>\n",
       "      <td>2</td>\n",
       "      <td>10</td>\n",
       "      <td>5196000</td>\n",
       "      <td>56.0</td>\n",
       "      <td>2015-08-20</td>\n",
       "      <td>2</td>\n",
       "      <td>2.65</td>\n",
       "      <td>5</td>\n",
       "      <td>34.3</td>\n",
       "      <td>4</td>\n",
       "      <td>False</td>\n",
       "      <td>...</td>\n",
       "      <td>2.0</td>\n",
       "      <td>574.0</td>\n",
       "      <td>558</td>\n",
       "      <td>92785</td>\n",
       "      <td>2015</td>\n",
       "      <td>3</td>\n",
       "      <td>8</td>\n",
       "      <td>другое</td>\n",
       "      <td>0.612500</td>\n",
       "      <td>0.148214</td>\n",
       "    </tr>\n",
       "    <tr>\n",
       "      <td>3</td>\n",
       "      <td>0</td>\n",
       "      <td>64900000</td>\n",
       "      <td>159.0</td>\n",
       "      <td>2015-07-24</td>\n",
       "      <td>3</td>\n",
       "      <td>2.65</td>\n",
       "      <td>14</td>\n",
       "      <td>45.0</td>\n",
       "      <td>9</td>\n",
       "      <td>False</td>\n",
       "      <td>...</td>\n",
       "      <td>3.0</td>\n",
       "      <td>234.0</td>\n",
       "      <td>424</td>\n",
       "      <td>408176</td>\n",
       "      <td>2015</td>\n",
       "      <td>4</td>\n",
       "      <td>7</td>\n",
       "      <td>другое</td>\n",
       "      <td>0.283019</td>\n",
       "      <td>0.716981</td>\n",
       "    </tr>\n",
       "    <tr>\n",
       "      <td>4</td>\n",
       "      <td>2</td>\n",
       "      <td>10000000</td>\n",
       "      <td>100.0</td>\n",
       "      <td>2018-06-19</td>\n",
       "      <td>2</td>\n",
       "      <td>3.03</td>\n",
       "      <td>14</td>\n",
       "      <td>32.0</td>\n",
       "      <td>13</td>\n",
       "      <td>False</td>\n",
       "      <td>...</td>\n",
       "      <td>1.0</td>\n",
       "      <td>48.0</td>\n",
       "      <td>121</td>\n",
       "      <td>100000</td>\n",
       "      <td>2018</td>\n",
       "      <td>1</td>\n",
       "      <td>6</td>\n",
       "      <td>другое</td>\n",
       "      <td>0.320000</td>\n",
       "      <td>0.410000</td>\n",
       "    </tr>\n",
       "  </tbody>\n",
       "</table>\n",
       "<p>5 rows × 29 columns</p>\n",
       "</div>"
      ],
      "text/plain": [
       "   total_images  last_price  total_area first_day_exposition  rooms  \\\n",
       "0            20    13000000       108.0           2019-03-07      3   \n",
       "1             7     3350000        40.4           2018-12-04      1   \n",
       "2            10     5196000        56.0           2015-08-20      2   \n",
       "3             0    64900000       159.0           2015-07-24      3   \n",
       "4             2    10000000       100.0           2018-06-19      2   \n",
       "\n",
       "   ceiling_height  floors_total  living_area  floor  is_apartment  ...  \\\n",
       "0            2.70            16         51.0      8         False  ...   \n",
       "1            2.65            11         18.6      1         False  ...   \n",
       "2            2.65             5         34.3      4         False  ...   \n",
       "3            2.65            14         45.0      9         False  ...   \n",
       "4            3.03            14         32.0     13         False  ...   \n",
       "\n",
       "   ponds_around3000  ponds_nearest  days_exposition  price_metre  year  \\\n",
       "0               2.0          755.0              852       120370  2019   \n",
       "1               0.0            0.0               81        82920  2018   \n",
       "2               2.0          574.0              558        92785  2015   \n",
       "3               3.0          234.0              424       408176  2015   \n",
       "4               1.0           48.0              121       100000  2018   \n",
       "\n",
       "   weekday  month  floor_category  ratio_area  ratio_area1  \n",
       "0        3      3          другое    0.472222     0.231481  \n",
       "1        1     12     первый этаж    0.460396     0.272277  \n",
       "2        3      8          другое    0.612500     0.148214  \n",
       "3        4      7          другое    0.283019     0.716981  \n",
       "4        1      6          другое    0.320000     0.410000  \n",
       "\n",
       "[5 rows x 29 columns]"
      ]
     },
     "execution_count": 35,
     "metadata": {},
     "output_type": "execute_result"
    }
   ],
   "source": [
    "realty_data.head()"
   ]
  },
  {
   "cell_type": "markdown",
   "metadata": {},
   "source": [
    "__Вывод__\n",
    "\n",
    "Были посчитаны и добавлены в таблицу:\n",
    "- цена квадратного метра;\n",
    "- день недели, месяц и год публикации объявления;\n",
    "- этаж квартиры; варианты — первый, последний, другой;\n",
    "- соотношение жилой и общей площади, а также отношение площади кухни к общей."
   ]
  },
  {
   "cell_type": "markdown",
   "metadata": {},
   "source": [
    "# Проведите исследовательский анализ данных и выполните инструкции: <a name=\"research_analysis\"></a>"
   ]
  },
  {
   "cell_type": "markdown",
   "metadata": {},
   "source": [
    "## Задача 1 \n",
    "Изучите следующие параметры: площадь, цена, число комнат, высота потолков. Постройте гистограммы для каждого параметра."
   ]
  },
  {
   "cell_type": "markdown",
   "metadata": {},
   "source": [
    "###### Гистограмма 1.1. Гистограмма распределения общей площади\n",
    "Исходя из построенной гистограммы, можно сделать вывод, что больше всего квартир с площадью от 35 кв. метров до 50 кв. метров, средний диапозон попадают квартиры от 50 кв. метров до 80 кв. м., после этого количество квартир, в которых общая площадь больше 80 кв. метров, резко снижается, после 110 кв. метров, можно говорить, что квартир не очень много в представленном списке. "
   ]
  },
  {
   "cell_type": "code",
   "execution_count": 36,
   "metadata": {},
   "outputs": [
    {
     "data": {
      "image/png": "[encoded data removed]",
      "text/plain": [
       "<Figure size 432x288 with 1 Axes>"
      ]
     },
     "metadata": {
      "needs_background": "light"
     },
     "output_type": "display_data"
    }
   ],
   "source": [
    "realty_data.hist(\"total_area\", bins=40, range=(0, 300))\n",
    "plt.title(\"Гистограмма распределения общей площади\")\n",
    "plt.xlabel(\"Общая площадь\")\n",
    "plt.ylabel(\"Частота\");"
   ]
  },
  {
   "cell_type": "markdown",
   "metadata": {},
   "source": [
    "##### Гистограмма 1.2. Гистограмма распределения  цен квартир\n",
    "Исходя из построенной гистограммы, можно сделать вывод, что цена за квартиру в среднем составляют чуть больше 3,5 млн. рублей. После 5 млн. рублей идет скачок вниз. Здесь можно говорить, что квартиры стоимстью 15 млн. рублей являются очень редкими."
   ]
  },
  {
   "cell_type": "code",
   "execution_count": 37,
   "metadata": {},
   "outputs": [
    {
     "data": {
      "image/png": "[encoded data removed]",
      "text/plain": [
       "<Figure size 432x288 with 1 Axes>"
      ]
     },
     "metadata": {
      "needs_background": "light"
     },
     "output_type": "display_data"
    }
   ],
   "source": [
    "realty_data.hist(\"last_price\", bins=500)\n",
    "plt.xlim(0,40000000)\n",
    "plt.title(\"Гистограмма распределения по цене\")\n",
    "plt.xlabel(\"Цена\")\n",
    "plt.ylabel(\"Частота\");"
   ]
  },
  {
   "cell_type": "markdown",
   "metadata": {},
   "source": [
    "##### Гистограмма 1.3. Гистограмма распределения по комнатам\n",
    "Исходя из построенной гистограммы, можно сделать вывод, что большая часть квартир являются однокомнатными (больше 8 тыс. ед.) и двухкомнатными (больше 7,8 тыс. ед), реже встречаются трехкомнатные квартиры (чуть меньше 6 тыс. ед.), при этом четверокомнатные квартиры уже являются редкостью."
   ]
  },
  {
   "cell_type": "code",
   "execution_count": 38,
   "metadata": {},
   "outputs": [
    {
     "data": {
      "image/png": "[encoded data removed]",
      "text/plain": [
       "<Figure size 432x288 with 1 Axes>"
      ]
     },
     "metadata": {
      "needs_background": "light"
     },
     "output_type": "display_data"
    }
   ],
   "source": [
    "realty_data.hist(\"rooms\", bins=19, range=(0, 10))\n",
    "plt.title(\"Гистограмма распределения по комнатам\")\n",
    "plt.xlabel(\"Количество комнат\")\n",
    "plt.ylabel(\"Частота\");"
   ]
  },
  {
   "cell_type": "markdown",
   "metadata": {},
   "source": [
    "##### Гистограмма 1.4. Гистограмма распределения по высоте потолка\n",
    "Исходя из построенной гистограммы, можно сделать вывод, что высота потолка в среднем составляет 2,7 метра, что в целом неудивительно, это довольно таки частый размер высоты потолка."
   ]
  },
  {
   "cell_type": "code",
   "execution_count": 39,
   "metadata": {},
   "outputs": [
    {
     "data": {
      "image/png": "[encoded data removed]",
      "text/plain": [
       "<Figure size 432x288 with 1 Axes>"
      ]
     },
     "metadata": {
      "needs_background": "light"
     },
     "output_type": "display_data"
    }
   ],
   "source": [
    "realty_data.hist(\"ceiling_height\", bins=30, range=(0, 4))\n",
    "plt.title(\"Гистограмма распределения по высоту потолка\")\n",
    "plt.xlabel(\"Высота потолка\")\n",
    "plt.ylabel(\"Частота\");"
   ]
  },
  {
   "cell_type": "markdown",
   "metadata": {},
   "source": [
    "__Выводы:__\n",
    "Таким образом можно сделать \"средний\" портрет квартиры:\n",
    "- небольшая квартира однокомнатная или двухкомнатная;\n",
    "- площадь 45 кв. м. - 65 кв. метров;\n",
    "- высота потолков - 2,7 метра;\n",
    "- стоимость колеблется от 4 млн. до 5,5 млн. рублей.\n",
    "\n"
   ]
  },
  {
   "cell_type": "markdown",
   "metadata": {},
   "source": [
    "## Задача 2 \n",
    "Изучите время продажи квартиры. Постройте гистограмму. Посчитайте среднее и медиану. Опишите, сколько обычно занимает продажа. Когда можно считать, что продажи прошли очень быстро, а когда необычно долго?"
   ]
  },
  {
   "cell_type": "markdown",
   "metadata": {},
   "source": [
    "Построим диаграмму размаха, на котором видно, что большая часть значений лежит меньше чем 400 дней, что в целом скорей всего соотвествует действительности. Нижний «ус» упирается в 0, минимальное значение. Верхний заканчивается около 800 дней — это 1.5 межквартильного размаха, добавленного к 3-му квартилю. Это ориентировочная граница нормального размаха. Всё, что лежит за ней, считается выбросом. Более высокие значения рисуются отдельными точками, но сливаются в единую жирную линию: таких выбросов у нас очень много.\n",
    "И всё же значения, которые отсёк верхний «ус» — редкие. Видно, насколько медиана (зелёная линия) не стремится к длинному хвосту высоких значений."
   ]
  },
  {
   "cell_type": "code",
   "execution_count": 40,
   "metadata": {},
   "outputs": [
    {
     "data": {
      "image/png": "[encoded data removed]",
      "text/plain": [
       "<Figure size 432x288 with 1 Axes>"
      ]
     },
     "metadata": {
      "needs_background": "light"
     },
     "output_type": "display_data"
    }
   ],
   "source": [
    "realty_data.boxplot(\"days_exposition\")\n",
    "plt.ylim(-100, 2500);"
   ]
  },
  {
   "cell_type": "markdown",
   "metadata": {},
   "source": [
    "Медиана составляет 124 дня, среднее значение - 267, то есть разброс довольно таки большой среди значений."
   ]
  },
  {
   "cell_type": "code",
   "execution_count": 41,
   "metadata": {},
   "outputs": [
    {
     "data": {
      "text/plain": [
       "count    23526.000000\n",
       "mean       293.019298\n",
       "std        367.623270\n",
       "min          1.000000\n",
       "25%         45.000000\n",
       "50%        124.000000\n",
       "75%        391.000000\n",
       "max       2413.000000\n",
       "Name: days_exposition, dtype: float64"
      ]
     },
     "execution_count": 41,
     "metadata": {},
     "output_type": "execute_result"
    }
   ],
   "source": [
    "realty_data[\"days_exposition\"].describe()"
   ]
  },
  {
   "cell_type": "markdown",
   "metadata": {},
   "source": [
    "__Выводы:__\n",
    "Таким образом в целом можно говорить, о том, что быстрая продажа квартиры считается, если квартира уходит до 45 дней, от 45 дней до 124 дней это считается довольно таки неплохим результатом. Долго квартира продается если объявление стоит больше 391 день, а аномально долго если больше 800 дней."
   ]
  },
  {
   "cell_type": "markdown",
   "metadata": {},
   "source": [
    "## Задача 3\n",
    "Уберите редкие и выбивающиеся значения. Опишите, какие особенности обнаружили."
   ]
  },
  {
   "cell_type": "markdown",
   "metadata": {},
   "source": [
    "###### Гистограмма 3.1. Гистограмма распределения по дням размещения объявления\n",
    "В целом можем констатировать, что наибольший пик приходится на 7, 45, 60 и 90 дней, затем происходит плавное падение и всплески замечены после 600 дней, что связано в первую очередь, что пик по многим квартирам, которые были не проданы до сегодняшнего момента (по ним были заменены  пропущенные значения), приходится на этот диапазон, так как такие всплески образовались после замены пропущенных значений."
   ]
  },
  {
   "cell_type": "code",
   "execution_count": 42,
   "metadata": {},
   "outputs": [
    {
     "data": {
      "image/png": "[encoded data removed]",
      "text/plain": [
       "<Figure size 432x288 with 1 Axes>"
      ]
     },
     "metadata": {
      "needs_background": "light"
     },
     "output_type": "display_data"
    }
   ],
   "source": [
    "realty_data.hist(\"days_exposition\", bins=100, range=(0, 2200))\n",
    "plt.title(\"Гистограмма распределения по дням размещения объявления\")\n",
    "plt.xlabel(\"День \")\n",
    "plt.ylabel(\"Частота\");"
   ]
  },
  {
   "cell_type": "code",
   "execution_count": 43,
   "metadata": {
    "scrolled": false
   },
   "outputs": [
    {
     "data": {
      "text/plain": [
       "45      869\n",
       "60      538\n",
       "7       233\n",
       "30      208\n",
       "90      199\n",
       "       ... \n",
       "1318      1\n",
       "1366      1\n",
       "1382      1\n",
       "1398      1\n",
       "1383      1\n",
       "Name: days_exposition, Length: 1538, dtype: int64"
      ]
     },
     "execution_count": 43,
     "metadata": {},
     "output_type": "execute_result"
    }
   ],
   "source": [
    "realty_data[\"days_exposition\"].value_counts() "
   ]
  },
  {
   "cell_type": "markdown",
   "metadata": {},
   "source": [
    "Исходя из полученных значений можно констатировать, что скорее всего выбросами можно считать 7 и 45 дней, поэтому мы убрали эти значения из таблицы. Мною было принято решение не трогать 30, 60 и 90 дней, так как скорей всего объявление размещается на месяц, поэтому логично, что люди просто не снимают объявления, даже если квартира уже продана или хозяин передумал продавать ее и оно автоматически закрывается в конце месяца, так что неудивительно, что на конец месяца приходится аномально большое количество закрытий объявлений. После 600 дней тоже не стал трогать, так как исхожу из того факта, что скорей всего это является пиком для квартир, которые еще не проданы и объявления по которым стоят. В целом были убраны из таблицы значения более 900 дней, так как они согласно диаграмме размаха относятся к выбросам."
   ]
  },
  {
   "cell_type": "markdown",
   "metadata": {},
   "source": [
    "###### Гистограмма 3.3. Гистограмма распределения по высоте потолка.\n",
    "В основном высота потолка в среднем по квартирам 2,7 метров. В целом можно отнести выбросы после 3,5 метров, так как таких квартир очень мало."
   ]
  },
  {
   "cell_type": "code",
   "execution_count": 44,
   "metadata": {},
   "outputs": [
    {
     "data": {
      "image/png": "[encoded data removed]",
      "text/plain": [
       "<Figure size 432x288 with 1 Axes>"
      ]
     },
     "metadata": {
      "needs_background": "light"
     },
     "output_type": "display_data"
    }
   ],
   "source": [
    "realty_data.hist(\"ceiling_height\", bins=15, range=(2, 5));\n",
    "plt.title(\"Гистограмма распределения по высоте потолков\")\n",
    "plt.xlabel(\"Высота потолков\")\n",
    "plt.ylabel(\"Частота\");"
   ]
  },
  {
   "cell_type": "markdown",
   "metadata": {},
   "source": [
    "###### Гистограмма 3.4. Гистограмма распределения по стоимости.\n",
    "В основном большая часть квартир стоит около 5 млн. рублей. Отбросим из выборки квартиры стоимостью меньше 1,5 млн. рублей и квартиры, которые стоят больше 17 млн. рублей, так как таких квартир немного."
   ]
  },
  {
   "cell_type": "code",
   "execution_count": 45,
   "metadata": {},
   "outputs": [
    {
     "data": {
      "image/png": "[encoded data removed]",
      "text/plain": [
       "<Figure size 432x288 with 1 Axes>"
      ]
     },
     "metadata": {
      "needs_background": "light"
     },
     "output_type": "display_data"
    }
   ],
   "source": [
    "realty_data.hist(\"last_price\", bins=15, range=(0, 30000000));\n",
    "plt.title(\"Гистограмма распределения по стоимости недвижимости\")\n",
    "plt.xlabel(\"Стоимость недвижимости\")\n",
    "plt.ylabel(\"Частота\");"
   ]
  },
  {
   "cell_type": "markdown",
   "metadata": {},
   "source": [
    "###### Гистограмма 3.3. Гистограмма распределения по общей площади.\n",
    "В основном большая часть квартир площадью около 50 кв. м. Отбросим квартиры, у которых общая площадь превышает 170 кв. метров, так как таких квартир не очень много."
   ]
  },
  {
   "cell_type": "code",
   "execution_count": 46,
   "metadata": {},
   "outputs": [
    {
     "data": {
      "image/png": "[encoded data removed]",
      "text/plain": [
       "<Figure size 432x288 with 1 Axes>"
      ]
     },
     "metadata": {
      "needs_background": "light"
     },
     "output_type": "display_data"
    }
   ],
   "source": [
    "realty_data.hist(\"total_area\", bins=30, range=(0, 400));\n",
    "plt.title(\"Гистограмма распределения по общей площади\")\n",
    "plt.xlabel(\"Общая площадь\")\n",
    "plt.ylabel(\"Частота\");"
   ]
  },
  {
   "cell_type": "markdown",
   "metadata": {},
   "source": [
    "Создаем новую таблицу в которой отбрасываем все ненужные нам для анализа выбросы"
   ]
  },
  {
   "cell_type": "code",
   "execution_count": 47,
   "metadata": {},
   "outputs": [
    {
     "data": {
      "text/html": [
       "<div>\n",
       "<style scoped>\n",
       "    .dataframe tbody tr th:only-of-type {\n",
       "        vertical-align: middle;\n",
       "    }\n",
       "\n",
       "    .dataframe tbody tr th {\n",
       "        vertical-align: top;\n",
       "    }\n",
       "\n",
       "    .dataframe thead th {\n",
       "        text-align: right;\n",
       "    }\n",
       "</style>\n",
       "<table border=\"1\" class=\"dataframe\">\n",
       "  <thead>\n",
       "    <tr style=\"text-align: right;\">\n",
       "      <th></th>\n",
       "      <th>total_images</th>\n",
       "      <th>last_price</th>\n",
       "      <th>total_area</th>\n",
       "      <th>first_day_exposition</th>\n",
       "      <th>rooms</th>\n",
       "      <th>ceiling_height</th>\n",
       "      <th>floors_total</th>\n",
       "      <th>living_area</th>\n",
       "      <th>floor</th>\n",
       "      <th>is_apartment</th>\n",
       "      <th>...</th>\n",
       "      <th>ponds_around3000</th>\n",
       "      <th>ponds_nearest</th>\n",
       "      <th>days_exposition</th>\n",
       "      <th>price_metre</th>\n",
       "      <th>year</th>\n",
       "      <th>weekday</th>\n",
       "      <th>month</th>\n",
       "      <th>floor_category</th>\n",
       "      <th>ratio_area</th>\n",
       "      <th>ratio_area1</th>\n",
       "    </tr>\n",
       "  </thead>\n",
       "  <tbody>\n",
       "    <tr>\n",
       "      <td>0</td>\n",
       "      <td>20</td>\n",
       "      <td>13000000</td>\n",
       "      <td>108.00</td>\n",
       "      <td>2019-03-07</td>\n",
       "      <td>3</td>\n",
       "      <td>2.70</td>\n",
       "      <td>16</td>\n",
       "      <td>51.0</td>\n",
       "      <td>8</td>\n",
       "      <td>False</td>\n",
       "      <td>...</td>\n",
       "      <td>2.0</td>\n",
       "      <td>755.0</td>\n",
       "      <td>852</td>\n",
       "      <td>120370</td>\n",
       "      <td>2019</td>\n",
       "      <td>3</td>\n",
       "      <td>3</td>\n",
       "      <td>другое</td>\n",
       "      <td>0.472222</td>\n",
       "      <td>0.231481</td>\n",
       "    </tr>\n",
       "    <tr>\n",
       "      <td>1</td>\n",
       "      <td>7</td>\n",
       "      <td>3350000</td>\n",
       "      <td>40.40</td>\n",
       "      <td>2018-12-04</td>\n",
       "      <td>1</td>\n",
       "      <td>2.65</td>\n",
       "      <td>11</td>\n",
       "      <td>18.6</td>\n",
       "      <td>1</td>\n",
       "      <td>False</td>\n",
       "      <td>...</td>\n",
       "      <td>0.0</td>\n",
       "      <td>0.0</td>\n",
       "      <td>81</td>\n",
       "      <td>82920</td>\n",
       "      <td>2018</td>\n",
       "      <td>1</td>\n",
       "      <td>12</td>\n",
       "      <td>первый этаж</td>\n",
       "      <td>0.460396</td>\n",
       "      <td>0.272277</td>\n",
       "    </tr>\n",
       "    <tr>\n",
       "      <td>2</td>\n",
       "      <td>10</td>\n",
       "      <td>5196000</td>\n",
       "      <td>56.00</td>\n",
       "      <td>2015-08-20</td>\n",
       "      <td>2</td>\n",
       "      <td>2.65</td>\n",
       "      <td>5</td>\n",
       "      <td>34.3</td>\n",
       "      <td>4</td>\n",
       "      <td>False</td>\n",
       "      <td>...</td>\n",
       "      <td>2.0</td>\n",
       "      <td>574.0</td>\n",
       "      <td>558</td>\n",
       "      <td>92785</td>\n",
       "      <td>2015</td>\n",
       "      <td>3</td>\n",
       "      <td>8</td>\n",
       "      <td>другое</td>\n",
       "      <td>0.612500</td>\n",
       "      <td>0.148214</td>\n",
       "    </tr>\n",
       "    <tr>\n",
       "      <td>4</td>\n",
       "      <td>2</td>\n",
       "      <td>10000000</td>\n",
       "      <td>100.00</td>\n",
       "      <td>2018-06-19</td>\n",
       "      <td>2</td>\n",
       "      <td>3.03</td>\n",
       "      <td>14</td>\n",
       "      <td>32.0</td>\n",
       "      <td>13</td>\n",
       "      <td>False</td>\n",
       "      <td>...</td>\n",
       "      <td>1.0</td>\n",
       "      <td>48.0</td>\n",
       "      <td>121</td>\n",
       "      <td>100000</td>\n",
       "      <td>2018</td>\n",
       "      <td>1</td>\n",
       "      <td>6</td>\n",
       "      <td>другое</td>\n",
       "      <td>0.320000</td>\n",
       "      <td>0.410000</td>\n",
       "    </tr>\n",
       "    <tr>\n",
       "      <td>5</td>\n",
       "      <td>10</td>\n",
       "      <td>2890000</td>\n",
       "      <td>30.40</td>\n",
       "      <td>2018-09-10</td>\n",
       "      <td>1</td>\n",
       "      <td>2.65</td>\n",
       "      <td>12</td>\n",
       "      <td>14.4</td>\n",
       "      <td>5</td>\n",
       "      <td>False</td>\n",
       "      <td>...</td>\n",
       "      <td>0.0</td>\n",
       "      <td>0.0</td>\n",
       "      <td>55</td>\n",
       "      <td>95065</td>\n",
       "      <td>2018</td>\n",
       "      <td>0</td>\n",
       "      <td>9</td>\n",
       "      <td>другое</td>\n",
       "      <td>0.473684</td>\n",
       "      <td>0.299342</td>\n",
       "    </tr>\n",
       "    <tr>\n",
       "      <td>...</td>\n",
       "      <td>...</td>\n",
       "      <td>...</td>\n",
       "      <td>...</td>\n",
       "      <td>...</td>\n",
       "      <td>...</td>\n",
       "      <td>...</td>\n",
       "      <td>...</td>\n",
       "      <td>...</td>\n",
       "      <td>...</td>\n",
       "      <td>...</td>\n",
       "      <td>...</td>\n",
       "      <td>...</td>\n",
       "      <td>...</td>\n",
       "      <td>...</td>\n",
       "      <td>...</td>\n",
       "      <td>...</td>\n",
       "      <td>...</td>\n",
       "      <td>...</td>\n",
       "      <td>...</td>\n",
       "      <td>...</td>\n",
       "      <td>...</td>\n",
       "    </tr>\n",
       "    <tr>\n",
       "      <td>23516</td>\n",
       "      <td>13</td>\n",
       "      <td>3550000</td>\n",
       "      <td>35.30</td>\n",
       "      <td>2018-02-28</td>\n",
       "      <td>1</td>\n",
       "      <td>2.86</td>\n",
       "      <td>15</td>\n",
       "      <td>16.3</td>\n",
       "      <td>4</td>\n",
       "      <td>False</td>\n",
       "      <td>...</td>\n",
       "      <td>2.0</td>\n",
       "      <td>652.0</td>\n",
       "      <td>29</td>\n",
       "      <td>100566</td>\n",
       "      <td>2018</td>\n",
       "      <td>2</td>\n",
       "      <td>2</td>\n",
       "      <td>другое</td>\n",
       "      <td>0.461756</td>\n",
       "      <td>0.257790</td>\n",
       "    </tr>\n",
       "    <tr>\n",
       "      <td>23517</td>\n",
       "      <td>3</td>\n",
       "      <td>5500000</td>\n",
       "      <td>52.00</td>\n",
       "      <td>2018-07-19</td>\n",
       "      <td>2</td>\n",
       "      <td>2.65</td>\n",
       "      <td>5</td>\n",
       "      <td>31.0</td>\n",
       "      <td>2</td>\n",
       "      <td>False</td>\n",
       "      <td>...</td>\n",
       "      <td>0.0</td>\n",
       "      <td>0.0</td>\n",
       "      <td>15</td>\n",
       "      <td>105769</td>\n",
       "      <td>2018</td>\n",
       "      <td>3</td>\n",
       "      <td>7</td>\n",
       "      <td>другое</td>\n",
       "      <td>0.596154</td>\n",
       "      <td>0.115385</td>\n",
       "    </tr>\n",
       "    <tr>\n",
       "      <td>23518</td>\n",
       "      <td>11</td>\n",
       "      <td>9470000</td>\n",
       "      <td>72.90</td>\n",
       "      <td>2016-10-13</td>\n",
       "      <td>2</td>\n",
       "      <td>2.75</td>\n",
       "      <td>25</td>\n",
       "      <td>40.3</td>\n",
       "      <td>7</td>\n",
       "      <td>False</td>\n",
       "      <td>...</td>\n",
       "      <td>1.0</td>\n",
       "      <td>806.0</td>\n",
       "      <td>519</td>\n",
       "      <td>129903</td>\n",
       "      <td>2016</td>\n",
       "      <td>3</td>\n",
       "      <td>10</td>\n",
       "      <td>другое</td>\n",
       "      <td>0.552812</td>\n",
       "      <td>0.145405</td>\n",
       "    </tr>\n",
       "    <tr>\n",
       "      <td>23520</td>\n",
       "      <td>9</td>\n",
       "      <td>4600000</td>\n",
       "      <td>62.40</td>\n",
       "      <td>2016-08-05</td>\n",
       "      <td>3</td>\n",
       "      <td>2.60</td>\n",
       "      <td>9</td>\n",
       "      <td>40.0</td>\n",
       "      <td>8</td>\n",
       "      <td>False</td>\n",
       "      <td>...</td>\n",
       "      <td>1.0</td>\n",
       "      <td>675.0</td>\n",
       "      <td>239</td>\n",
       "      <td>73717</td>\n",
       "      <td>2016</td>\n",
       "      <td>4</td>\n",
       "      <td>8</td>\n",
       "      <td>другое</td>\n",
       "      <td>0.641026</td>\n",
       "      <td>0.128205</td>\n",
       "    </tr>\n",
       "    <tr>\n",
       "      <td>23524</td>\n",
       "      <td>13</td>\n",
       "      <td>11475000</td>\n",
       "      <td>76.75</td>\n",
       "      <td>2017-03-28</td>\n",
       "      <td>2</td>\n",
       "      <td>3.00</td>\n",
       "      <td>17</td>\n",
       "      <td>30.5</td>\n",
       "      <td>12</td>\n",
       "      <td>False</td>\n",
       "      <td>...</td>\n",
       "      <td>3.0</td>\n",
       "      <td>196.0</td>\n",
       "      <td>602</td>\n",
       "      <td>149511</td>\n",
       "      <td>2017</td>\n",
       "      <td>1</td>\n",
       "      <td>3</td>\n",
       "      <td>другое</td>\n",
       "      <td>0.397394</td>\n",
       "      <td>0.303583</td>\n",
       "    </tr>\n",
       "  </tbody>\n",
       "</table>\n",
       "<p>19148 rows × 29 columns</p>\n",
       "</div>"
      ],
      "text/plain": [
       "       total_images  last_price  total_area first_day_exposition  rooms  \\\n",
       "0                20    13000000      108.00           2019-03-07      3   \n",
       "1                 7     3350000       40.40           2018-12-04      1   \n",
       "2                10     5196000       56.00           2015-08-20      2   \n",
       "4                 2    10000000      100.00           2018-06-19      2   \n",
       "5                10     2890000       30.40           2018-09-10      1   \n",
       "...             ...         ...         ...                  ...    ...   \n",
       "23516            13     3550000       35.30           2018-02-28      1   \n",
       "23517             3     5500000       52.00           2018-07-19      2   \n",
       "23518            11     9470000       72.90           2016-10-13      2   \n",
       "23520             9     4600000       62.40           2016-08-05      3   \n",
       "23524            13    11475000       76.75           2017-03-28      2   \n",
       "\n",
       "       ceiling_height  floors_total  living_area  floor  is_apartment  ...  \\\n",
       "0                2.70            16         51.0      8         False  ...   \n",
       "1                2.65            11         18.6      1         False  ...   \n",
       "2                2.65             5         34.3      4         False  ...   \n",
       "4                3.03            14         32.0     13         False  ...   \n",
       "5                2.65            12         14.4      5         False  ...   \n",
       "...               ...           ...          ...    ...           ...  ...   \n",
       "23516            2.86            15         16.3      4         False  ...   \n",
       "23517            2.65             5         31.0      2         False  ...   \n",
       "23518            2.75            25         40.3      7         False  ...   \n",
       "23520            2.60             9         40.0      8         False  ...   \n",
       "23524            3.00            17         30.5     12         False  ...   \n",
       "\n",
       "       ponds_around3000  ponds_nearest  days_exposition  price_metre  year  \\\n",
       "0                   2.0          755.0              852       120370  2019   \n",
       "1                   0.0            0.0               81        82920  2018   \n",
       "2                   2.0          574.0              558        92785  2015   \n",
       "4                   1.0           48.0              121       100000  2018   \n",
       "5                   0.0            0.0               55        95065  2018   \n",
       "...                 ...            ...              ...          ...   ...   \n",
       "23516               2.0          652.0               29       100566  2018   \n",
       "23517               0.0            0.0               15       105769  2018   \n",
       "23518               1.0          806.0              519       129903  2016   \n",
       "23520               1.0          675.0              239        73717  2016   \n",
       "23524               3.0          196.0              602       149511  2017   \n",
       "\n",
       "       weekday  month  floor_category  ratio_area  ratio_area1  \n",
       "0            3      3          другое    0.472222     0.231481  \n",
       "1            1     12     первый этаж    0.460396     0.272277  \n",
       "2            3      8          другое    0.612500     0.148214  \n",
       "4            1      6          другое    0.320000     0.410000  \n",
       "5            0      9          другое    0.473684     0.299342  \n",
       "...        ...    ...             ...         ...          ...  \n",
       "23516        2      2          другое    0.461756     0.257790  \n",
       "23517        3      7          другое    0.596154     0.115385  \n",
       "23518        3     10          другое    0.552812     0.145405  \n",
       "23520        4      8          другое    0.641026     0.128205  \n",
       "23524        1      3          другое    0.397394     0.303583  \n",
       "\n",
       "[19148 rows x 29 columns]"
      ]
     },
     "execution_count": 47,
     "metadata": {},
     "output_type": "execute_result"
    }
   ],
   "source": [
    "outlier = [7, 45]\n",
    "good_data = realty_data.copy()\n",
    "good_data = good_data.query('days_exposition not in @outlier and days_exposition < 900 and ceiling_height < 3.7 and 1500000 < last_price < 17000000 and total_area < 170')\n",
    "good_data"
   ]
  },
  {
   "cell_type": "markdown",
   "metadata": {},
   "source": [
    "__Выводы:__\n",
    "На основе проведенного анализа мною было замечено, что аномально много значений приходится на 7, 45, 60 и 90 дней и после 616 дней. На основе полученных данныхй я посчитал, что к выбросам относятся 7 и 45 дней, поэтому я убрал эти значения из таблицы и значения более 900 дней, так как они согласно диаграмме размаха относятся к выбросам. Также к выбросам была отнесена высота потолка более 3,7 м., стоимость недвижимости меньше 1,5 млн. или больше 17 млн. рублей и общая площадь больше 170 кв. метров. "
   ]
  },
  {
   "cell_type": "markdown",
   "metadata": {},
   "source": [
    "## Задача 4 \n",
    "Какие факторы больше всего влияют на стоимость квартиры? Изучите, зависит ли цена от площади, числа комнат, удалённости от центра. Изучите зависимость цены от того, на каком этаже расположена квартира: первом, последнем или другом. Также изучите зависимость от даты размещения: дня недели, месяца и года."
   ]
  },
  {
   "cell_type": "markdown",
   "metadata": {},
   "source": [
    "__Диаграмма раcсеяния__\n",
    "Построил диаграмму раcсеяния попарно для цены, площади, числа комнат, удалённости от центра. В целом исходя из построенных графиков можно заключить, что больше всего влияет на стоимость квартир общая площадь, это видно на графике. Отрицательное значение приобретает удаленность от центра, то есть чем дальше от центра тем дешевле квартира. При этом до какого то момента количество комнат влияет на стоимость квартир, но потом зависимость снижается.  "
   ]
  },
  {
   "cell_type": "code",
   "execution_count": null,
   "metadata": {},
   "outputs": [],
   "source": [
    "pd.plotting.scatter_matrix(realty_data[['last_price', 'total_area', 'rooms', 'cityCenters_nearest']], figsize=(9, 9));"
   ]
  },
  {
   "cell_type": "markdown",
   "metadata": {},
   "source": [
    "Также мною была построена матрица корреляции, которая показала, что больше всего на цену влияет общая площадь квартиры, при этом количество комнат не сильно влияет на стоимость квартиры, но при этом количество комнат очень сильно влияет на общую площадь квартиры, поэтому данный фактор тоже является важным для стоимости квартиры. Удаленность от центра отрицательная.   "
   ]
  },
  {
   "cell_type": "code",
   "execution_count": null,
   "metadata": {},
   "outputs": [],
   "source": [
    "corr_data = good_data[['last_price', 'total_area', 'rooms', 'cityCenters_nearest']]\n",
    "corr_data.corr()"
   ]
  },
  {
   "cell_type": "markdown",
   "metadata": {},
   "source": [
    "График 4.1 Зависимость цены от этажности квартир\n",
    "Если изучать зависимость цены от того, на каком этаже расположена квартира, то в целом квартиры, которые находятся на первом этаже стоят ниже, чем остальные, последний этаж чуть дороже первого этажа, но все равно уступает квартирам, которые находтся на других этажах. "
   ]
  },
  {
   "cell_type": "code",
   "execution_count": null,
   "metadata": {},
   "outputs": [],
   "source": [
    "realty_data.groupby('floor_category')['last_price'].median().plot( \n",
    "kind='bar', \n",
    "figsize=(5, 5), \n",
    "grid=True)\n",
    "plt.xlabel('Категория этажа')\n",
    "plt.ylabel('Стоимость')\n",
    "plt.title(\"Зависимость цены от этажности квартиры\")\n",
    "plt.show()"
   ]
  },
  {
   "cell_type": "markdown",
   "metadata": {},
   "source": [
    "######  График 4.2. Зависимость цены от года даты публикации  \n",
    "Если изучать зависимость цены от года даты публикации, то можно сделать вывод, что в 2014 году были самые высокие цены на недвижимость, при этом падение в 2015 году по сравнению с 2014 годом составило 24%, в целом цены плавно снижались до 2018 года, затем в 2019 году произошел рост цен на 12%.\n"
   ]
  },
  {
   "cell_type": "code",
   "execution_count": null,
   "metadata": {},
   "outputs": [],
   "source": [
    "realty_data.groupby('year')['last_price'].median().plot( \n",
    "kind='bar', \n",
    "figsize=(5, 5), \n",
    "grid=True)\n",
    "plt.xlabel('Год даты публикации')\n",
    "plt.ylabel('Стоимость')\n",
    "plt.title(\"Зависимость цены от года даты публикации\")\n",
    "plt.show()"
   ]
  },
  {
   "cell_type": "markdown",
   "metadata": {},
   "source": [
    "###### График 4.3. Зависимость цены от месяца даты публикации  \n",
    "Самые низкие цены в июне, видимо так как начинается лето и многие уезжают загород, затем в июле наблюдается скачок, а самые высокие в апреле."
   ]
  },
  {
   "cell_type": "code",
   "execution_count": null,
   "metadata": {},
   "outputs": [],
   "source": [
    "realty_data.groupby('month')['last_price'].median().plot( \n",
    "kind='line', \n",
    "style='o-',\n",
    "figsize=(5, 5), \n",
    "grid=True)\n",
    "plt.xlabel('Месяц даты публикации')\n",
    "plt.ylabel('Стоимость')\n",
    "plt.title('Зависимость цены от месяца даты публикации')\n",
    "plt.show()"
   ]
  },
  {
   "cell_type": "markdown",
   "metadata": {},
   "source": [
    "######  График 4.4. Зависимость цены от дня недели даты публикации\n",
    "Самые высокие цены выставляются во вторник (более 4,7 млн. рублей), а затем наблюдается резкий скачок вниз. Получается объявления, которые были размещены в субботу являются самыми низкими (4,5 млн. рублей)."
   ]
  },
  {
   "cell_type": "code",
   "execution_count": null,
   "metadata": {},
   "outputs": [],
   "source": [
    "realty_data.groupby('weekday')['last_price'].median().plot( \n",
    "kind='line', \n",
    "style='o-',\n",
    "figsize=(5, 5), \n",
    "grid=True)\n",
    "plt.xlabel('День недели')\n",
    "plt.ylabel('Стоимость')\n",
    "plt.title('Зависимость цены от дня недели даты публикацииь')\n",
    "plt.show()"
   ]
  },
  {
   "cell_type": "markdown",
   "metadata": {},
   "source": [
    "___Выводы:___\n",
    "\n",
    "Таким образом в целом можно говорить, что на квартиру влияет один фактор, а именно общая площадь. Это самый существенный фактор, влияющий на стоимость недвижимости. Также существует отрицательное значение \n",
    "удаленности от центра, а именно чем больше общая площадь, тем дороже квартира, и чем квартира дальше от центра, тем она дешевле.\n",
    "Квартиры на последнем и первом этаже стоят ниже чем, квартиры, которые располагаются на других этажах.\n",
    "Если рассматривать более детально даты публикации объявления, то самым \"дорогим\" годом по стоимости квартир является 2014 год, а самым \"дешевым\" - 2017 год. Самый дорогой месяц - апрель, а самый дешевый месяц июнь. Во вторник выкладываются самые \"дорогие\" квартиры, а в субботу выкладываются с самый низкой стоимостью, но разница здесь небольшая 200 тыс. всего.   "
   ]
  },
  {
   "cell_type": "markdown",
   "metadata": {},
   "source": [
    "## Задача 5.\n",
    "Выберите 10 населённых пунктов с наибольшим числом объявлений. Посчитайте среднюю цену квадратного метра в этих населённых пунктах. Выделите среди них населённые пункты с самой высокой и низкой стоимостью жилья. Эти данные можно найти по имени в столбце 'locality_name'."
   ]
  },
  {
   "cell_type": "markdown",
   "metadata": {},
   "source": [
    "Создаем сводную таблицу, где находится медиана цены по населенным пунктам, в которой ищем населенные пункты, где больше всего объявлений"
   ]
  },
  {
   "cell_type": "code",
   "execution_count": null,
   "metadata": {},
   "outputs": [],
   "source": [
    "new_data = good_data.pivot_table(index ='locality_name', values=\"last_price\", aggfunc=[\"count\",\"median\"])\n",
    "new_data.columns = [\"count\", \"last_price\"]\n",
    "largest_exposition = new_data.query(\"count > 170\")\n"
   ]
  },
  {
   "cell_type": "markdown",
   "metadata": {},
   "source": [
    "Создаем еще одну сводную таблицу, где находится медиана общей площади по населенным пунктам"
   ]
  },
  {
   "cell_type": "code",
   "execution_count": null,
   "metadata": {},
   "outputs": [],
   "source": [
    "locality_area = good_data.pivot_table(index ='locality_name', values=\"total_area\", aggfunc=\"median\")"
   ]
  },
  {
   "cell_type": "markdown",
   "metadata": {},
   "source": [
    "Соединяем две таблицы для того, чтобы у нас в одной таблицы была медиана цены и медиана общей площади для населенных пунктов "
   ]
  },
  {
   "cell_type": "code",
   "execution_count": null,
   "metadata": {},
   "outputs": [],
   "source": [
    "largest_exposition = largest_exposition.join(locality_area)"
   ]
  },
  {
   "cell_type": "markdown",
   "metadata": {},
   "source": [
    "Создаем еще одну сводную таблицу, где находится медиана квадратного метра по населенным пунктам"
   ]
  },
  {
   "cell_type": "code",
   "execution_count": null,
   "metadata": {},
   "outputs": [],
   "source": [
    "locality_price = good_data.pivot_table(index ='locality_name', values=\"price_metre\", aggfunc=\"median\")"
   ]
  },
  {
   "cell_type": "markdown",
   "metadata": {},
   "source": [
    "Соединяем еще одну таблицу, то есть в итоговой таблице у нас будет значится цена, общая площадь и цена за квадратный метр."
   ]
  },
  {
   "cell_type": "code",
   "execution_count": null,
   "metadata": {},
   "outputs": [],
   "source": [
    "largest_exposition = largest_exposition.join(locality_price)\n",
    "largest_exposition['price_metre'] = largest_exposition['price_metre'].astype(\"int\")\n",
    "largest_exposition.sort_values(by=\"price_metre\", ascending=False)"
   ]
  },
  {
   "cell_type": "markdown",
   "metadata": {},
   "source": [
    "__Выводы__\n",
    "Таким образом, самый дорогой квадратный метр в Санкт-Петербурге, стоимость здесь квадратного метра составляет 104 тыс. рублей, примерно столько стоят квартиры в пригородах Петербурга - Пушкине, поселке Парголово и деревне Кудрово. В целом, чем дальше населенный пункт от города Санкт-Петербурга, тем дешевле квадратный метр в нем. Исключением здесь составляет Всеволожск, но цены там дешевые, так как данный район имеет проблему с транспортной инфраструктурой."
   ]
  },
  {
   "cell_type": "markdown",
   "metadata": {},
   "source": [
    "## Задача 6.\n",
    "Изучите предложения квартир: для каждой квартиры есть информация о расстоянии до центра. Выделите квартиры в Санкт-Петербурге ('locality_name'). Ваша задача — выяснить, какая область входит в центр. Создайте столбец с расстоянием до центра в километрах: округлите до целых значений. После этого посчитайте среднюю цену для каждого километра. Постройте график: он должен показывать, как цена зависит от удалённости от центра. Определите границу, где график сильно меняется — это и будет центральная зона."
   ]
  },
  {
   "cell_type": "markdown",
   "metadata": {},
   "source": [
    "Создана новая таблица с квартирами из Санкт-Петербурга"
   ]
  },
  {
   "cell_type": "code",
   "execution_count": null,
   "metadata": {},
   "outputs": [],
   "source": [
    "spb_data = good_data.copy()"
   ]
  },
  {
   "cell_type": "code",
   "execution_count": null,
   "metadata": {},
   "outputs": [],
   "source": [
    "spb_data =  spb_data.query('locality_name == \"Санкт-Петербург\"')"
   ]
  },
  {
   "cell_type": "markdown",
   "metadata": {},
   "source": [
    "Создаем новый столбец в ячейке, который переводит столбец cityCenters_nearest из метров в км и  округляем до целых значений"
   ]
  },
  {
   "cell_type": "code",
   "execution_count": null,
   "metadata": {},
   "outputs": [],
   "source": [
    "spb_data['cityCenters_km'] = spb_data['cityCenters_nearest'] / 1000\n",
    "spb_data[\"cityCenters_km\"] = spb_data[\"cityCenters_km\"].astype(\"int\")"
   ]
  },
  {
   "cell_type": "markdown",
   "metadata": {},
   "source": [
    "##### График 6.1. Зависимость цены от удалённости от центра\n",
    "Строим график, на котором показывается зависимость цены от удалённости от центра. "
   ]
  },
  {
   "cell_type": "code",
   "execution_count": null,
   "metadata": {},
   "outputs": [],
   "source": [
    "spb_data.pivot_table(index=\"cityCenters_km\", values=\"last_price\", aggfunc=\"mean\").plot(kind=\"line\",style='o-', figsize=(5, 5), grid=True)\n",
    "plt.xlabel('Удаленность от центра')\n",
    "plt.ylabel('Стоимость')\n",
    "plt.show();"
   ]
  },
  {
   "cell_type": "markdown",
   "metadata": {},
   "source": [
    "#####  Вывод\n",
    "Определяем границу, где график сильно меняется — 7 км, для нас это и будет центральная зона."
   ]
  },
  {
   "cell_type": "markdown",
   "metadata": {},
   "source": [
    "## Задача 7.\n",
    "Выделите сегмент квартир в центре. Проанализируйте эту территорию и изучите следующие параметры: площадь, цена, число комнат, высота потолков. Также выделите факторы, которые влияют на стоимость квартиры (число комнат, этаж, удалённость от центра, дата размещения объявления). Сделайте выводы. Отличаются ли они от общих выводов по всему городу?"
   ]
  },
  {
   "cell_type": "markdown",
   "metadata": {},
   "source": [
    "##### График 7.1. Сравнительный анализ распределения общей площади квартир в центре города и в других районах города "
   ]
  },
  {
   "cell_type": "markdown",
   "metadata": {},
   "source": [
    "Создаем новый столбец, где группируем квартиры в Санкт-Петербурге, которые делим на квартиры, которые в центре и не в центре"
   ]
  },
  {
   "cell_type": "code",
   "execution_count": null,
   "metadata": {},
   "outputs": [],
   "source": [
    "spb_data[\"name_group\"] = (\n",
    "    spb_data['locality_name']\n",
    "    .where(spb_data['cityCenters_km'] <= 7, 'Не центр города')\n",
    ")"
   ]
  },
  {
   "cell_type": "code",
   "execution_count": null,
   "metadata": {},
   "outputs": [],
   "source": [
    "spb_data.loc[spb_data[\"name_group\"] == \"Санкт-Петербург\", \"name_group\"] = \"Центр города\""
   ]
  },
  {
   "cell_type": "markdown",
   "metadata": {},
   "source": [
    "Делаем цикл для построение графиков для сравнения общей площади по квартирам в центре и не в центре.\n",
    "Исходя из графика можно сделать вывод, что в центре больше преобладжают квартиры с большей площадью (до 80 кв. метров), тогда как не в центре огромная часть квартир около 50 кв. метров, затем наблюдается резкое снижение общей площади.\n"
   ]
  },
  {
   "cell_type": "code",
   "execution_count": null,
   "metadata": {},
   "outputs": [],
   "source": [
    "for name, group_data in spb_data.groupby('name_group'):\n",
    "    group_data.plot(y=\"total_area\", title=name, kind=\"hist\", bins=30, range=(0, 400))\n",
    "    plt.xlabel('Общая площадь')\n",
    "    plt.ylabel('Частота')\n",
    "    plt.show();"
   ]
  },
  {
   "cell_type": "markdown",
   "metadata": {},
   "source": [
    "##### График 7.2. Сравнительный анализ распределения общей площади квартир в центре города и по всему городу и пригороду Санкт-Петербурга"
   ]
  },
  {
   "cell_type": "markdown",
   "metadata": {},
   "source": [
    "В целом сравнительный анализ показал, что данные по центру не отличаются данных по всему городу и его пригороду. Стандартно около 45 кв. метров, но при этом по центру видно плавное снижение в зависимости от общей площади, то есть в центре достаточно много квартир до 80 кв. метров, что видно из прошлых графиков."
   ]
  },
  {
   "cell_type": "code",
   "execution_count": null,
   "metadata": {},
   "outputs": [],
   "source": [
    "spb_center = spb_data.query(\"cityCenters_km <= 7\")"
   ]
  },
  {
   "cell_type": "code",
   "execution_count": null,
   "metadata": {},
   "outputs": [],
   "source": [
    "total_area = good_data.plot(kind='hist', y='total_area', histtype='step', bins=30, linewidth=5, alpha=0.7, label='total', range=(0, 250))\n",
    "spb_center.plot(kind='hist', y='total_area', histtype='step', bins=30, linewidth=5, alpha=0.7, label='spb_center', ax=total_area, grid=True, legend=True, range=(0, 400))\n",
    "plt.xlabel('Общая площадь')\n",
    "plt.ylabel('Частота')\n",
    "plt.title('Сравнительный анализ распределения общей площади')\n",
    "plt.show()"
   ]
  },
  {
   "cell_type": "markdown",
   "metadata": {},
   "source": [
    "##### График 7.3. Зависимость цены от общей площади для квартир в центре\n",
    "В принципе на этом графике видна зависимость цены от площади для квартир в центре"
   ]
  },
  {
   "cell_type": "code",
   "execution_count": null,
   "metadata": {},
   "outputs": [],
   "source": [
    "spb_center.groupby('total_area')['last_price'].mean().plot(kind='line', grid=True)\n",
    "plt.xlim(0, 150)\n",
    "plt.xlabel('Общая площадь')\n",
    "plt.ylabel('Стоимость')\n",
    "plt.title('Зависимость цены от общей площади')\n",
    "plt.show()\n"
   ]
  },
  {
   "cell_type": "markdown",
   "metadata": {},
   "source": [
    "##### График 7.4. Сравнительный анализ распределения количества комнат в центре города и в других районах города\n",
    "\n",
    "В центре Санкт-Петербурга преобладают квартиры двухкомнатные или трехкомнатные, в отличие от данных по другим районам, здесь преимущественно продаются однокомнатные или двухкомнатные. В целом можно констатировать, что в центре Петербурга не так уж много однокомнатных квартир."
   ]
  },
  {
   "cell_type": "code",
   "execution_count": null,
   "metadata": {},
   "outputs": [],
   "source": [
    "for name, group_data in spb_data.groupby('name_group'):\n",
    "    group_data.plot(y=\"rooms\", title=name, kind=\"hist\", bins=12, range=(0, 10))\n",
    "    plt.xlabel('Количество комнат')\n",
    "    plt.ylabel('Частота')\n",
    "    plt.show();"
   ]
  },
  {
   "cell_type": "markdown",
   "metadata": {},
   "source": [
    "##### График 7.5. Сравнительный анализ распределения количества комнат в центре города и по всему городу и пригороду Санкт-Петербурга"
   ]
  },
  {
   "cell_type": "markdown",
   "metadata": {},
   "source": [
    "В целом выводы по этому графику совпадают с графиком сравнительного анализа распределения количества комнат в центре города и в других районах города. "
   ]
  },
  {
   "cell_type": "code",
   "execution_count": null,
   "metadata": {},
   "outputs": [],
   "source": [
    "rooms = good_data.plot(kind='hist', y='rooms', histtype='step', bins=30, linewidth=5, alpha=0.7, label='total')\n",
    "spb_center.plot(kind='hist', y='rooms', histtype='step', bins=10, linewidth=5, alpha=0.7, label='spb_center', ax=rooms, grid=True, legend=True)\n",
    "plt.xlim(0, 7)\n",
    "plt.xlabel('Количество комнат')\n",
    "plt.ylabel('Частота')\n",
    "plt.title('Сравнительный анализ распределения количества комнат')\n",
    "plt.show()"
   ]
  },
  {
   "cell_type": "markdown",
   "metadata": {},
   "source": [
    "##### График 7.6. Зависимость цены от общей площади для квартир в центре\n",
    "В принципе на этом графике видна зависимость цены от количества комнат, примерно до 7 комнат цена возрастала, дальше происходит снижение стоимости, то есть чем больше комнат, тем дешевле квартиры."
   ]
  },
  {
   "cell_type": "code",
   "execution_count": null,
   "metadata": {},
   "outputs": [],
   "source": [
    "spb_center.groupby('rooms')['last_price'].mean().plot(kind='bar', grid=True)\n",
    "plt.xlim(0, 7)\n",
    "plt.ylim(0, 80000000)\n",
    "plt.xlabel('Количество комнат')\n",
    "plt.ylabel('Стоимость')\n",
    "plt.title('Зависимость цены от количества комнат')\n",
    "plt.show()"
   ]
  },
  {
   "cell_type": "markdown",
   "metadata": {},
   "source": [
    "##### График 7.7. Сравнительный анализ распределения квартир по высоте потолков в центре города и в других районах города\n",
    "\n",
    "Примерно распределение квартир по высоте потолков одинаково, преобладают квартиры с высотой потолков от 2,5 до 2,7 м. Но в центре также встречаются квартиры с высотой потолка более 3 метров, это довольно таки часто встречается.  "
   ]
  },
  {
   "cell_type": "code",
   "execution_count": null,
   "metadata": {},
   "outputs": [],
   "source": [
    "for name, group_data in spb_data.groupby('name_group'):\n",
    "    group_data.plot(y=\"ceiling_height\", title=name, kind=\"hist\", bins=12, range=(0, 4))\n",
    "    plt.xlabel('Высота потолков')\n",
    "    plt.ylabel('Частота')\n",
    "    plt.show();"
   ]
  },
  {
   "cell_type": "markdown",
   "metadata": {},
   "source": [
    "##### График 7.7. Сравнительный анализ распределения квартир по высоте потолков в центре города и по всему городу и пригороду Санкт-Петербурга\n",
    "\n",
    "В целом выводы по этому графику совпадают с графиком сравнительного анализа распределения квартир по высоте потолков в центре города и по другим районам Санкт-Петербурга."
   ]
  },
  {
   "cell_type": "code",
   "execution_count": null,
   "metadata": {},
   "outputs": [],
   "source": [
    "ceiling_height = good_data.plot(kind='hist', y='ceiling_height', histtype='step', bins=30, linewidth=5, alpha=0.7, label='total', range=(0, 4))\n",
    "spb_center.plot(kind='hist', y='ceiling_height', histtype='step', bins=30, linewidth=5, alpha=0.7, label='spb_center', ax=ceiling_height, grid=True, range=(2, 4), legend=True)\n",
    "plt.xlabel('Высота потолка')\n",
    "plt.ylabel('Частота')\n",
    "plt.title('Сравнительный анализ распределения квартир по высоте потолков')\n",
    "plt.show()"
   ]
  },
  {
   "cell_type": "markdown",
   "metadata": {},
   "source": [
    "#####  График 7.8. Сравнительный анализ распределения квартир по цене¶\n",
    "В центре квартиры стоят намного дороже, чем в других районах города Санкт-Петербурга, средняя стоимость жилья в центре составляет около 8,5 млн.рублей, медиана стоимости 8,8 млн. рублей, то в других районах около 3,5-4 млн. рублей, медиана стоимости - 4,7 млн. рублей, то есть разница видна. В самом Санкт-Петербурге медиана стоимости жилья составляет 5,5 млн. рублей."
   ]
  },
  {
   "cell_type": "code",
   "execution_count": null,
   "metadata": {},
   "outputs": [],
   "source": [
    "last_price = good_data.plot(kind='hist', y='last_price', histtype='step', bins=500, linewidth=5, alpha=0.7, label='total')\n",
    "spb_center.plot(kind='hist', y='last_price', histtype='step', bins=500, linewidth=5, alpha=0.7, label='spb_center', ax=last_price, grid=True, legend=True)\n",
    "plt.xlim(0, 20000000)\n",
    "plt.xlabel('Цена')\n",
    "plt.ylabel('Частота')\n",
    "plt.title('Сравнительный анализ распределения квартир по ценам')\n",
    "plt.show()"
   ]
  },
  {
   "cell_type": "markdown",
   "metadata": {},
   "source": [
    "Рассчитаем медиану в центре города СПб"
   ]
  },
  {
   "cell_type": "code",
   "execution_count": null,
   "metadata": {},
   "outputs": [],
   "source": [
    "median_price_spb_center = spb_center[\"last_price\"].median()\n",
    "median_price_spb_center"
   ]
  },
  {
   "cell_type": "markdown",
   "metadata": {},
   "source": [
    "Рассчитаем медиану в городе и пригороде"
   ]
  },
  {
   "cell_type": "code",
   "execution_count": null,
   "metadata": {},
   "outputs": [],
   "source": [
    "median_price_total = good_data[\"last_price\"].median()\n",
    "median_price_total"
   ]
  },
  {
   "cell_type": "markdown",
   "metadata": {},
   "source": [
    "Рассчитаем медиану в городе СПб"
   ]
  },
  {
   "cell_type": "code",
   "execution_count": null,
   "metadata": {},
   "outputs": [],
   "source": [
    "median_station_spb = good_data[good_data['locality_name'] == \"Санкт-Петербург\"][\"last_price\"].median()\n",
    "median_station_spb"
   ]
  },
  {
   "cell_type": "markdown",
   "metadata": {},
   "source": [
    "В целом построенная матрица корреляции по центру города Санкт-Петербурга, показала одинаковую картину,\n",
    "что и по данным по всему городу и пригороду Санкт-Петербурга, а именно самым важным фактором является общая площадь квартиры и количество комнат. Остальные факторы практически не влияют на стоимость квартиры."
   ]
  },
  {
   "cell_type": "code",
   "execution_count": null,
   "metadata": {},
   "outputs": [],
   "source": [
    "spb_center_corr = spb_center[['last_price', 'total_area', 'rooms', 'ceiling_height', 'cityCenters_km', 'balcony', 'floor', 'days_exposition']]\n",
    "\n",
    "spb_center_corr.corr()"
   ]
  },
  {
   "cell_type": "markdown",
   "metadata": {},
   "source": [
    "##### Выводы:\n",
    "\n",
    "Таким образом можно сделать \"средний\" портрет квартиры в центре Петербурга:\n",
    "\n",
    "- средняя квартира двухкомнатная или трехкомнатная;\n",
    "- площадь 55 кв. м. - 75 кв. метров;\n",
    "- высота потолков - 2,9 метра;\n",
    "- стоимость колеблется от 7 млн. до 8,5 млн. рублей.\n",
    "\n",
    "То есть все показатели выше чем в среднем по данным города Санкт-Петербурга и его пригородов.\n"
   ]
  },
  {
   "cell_type": "markdown",
   "metadata": {},
   "source": [
    "# Общий вывод <a name=\"conclusion\"></a>"
   ]
  },
  {
   "cell_type": "markdown",
   "metadata": {},
   "source": [
    "На основе полученных данных от заказчика в лице сервиса Яндекс.Недвижимость мною был проанализирован  архив объявлений о продаже квартир в Санкт-Петербурге и соседних населённых пунктов за несколько лет. Данные включали в себя информацию о квартире, а именно информацию о цене квартиры, общей площади, площади кухни, жилой площади, количестве комнат, этажности квартиры, расположенность ее от центра, до ближайшего аэропорта, расстояние до центра города и другие характеристики квартиры. \n",
    "\n",
    "На первом этапе мною была совершена предобработка данных, то есть заменены все пропущенные значения, а некоторые были удалены, в связи с малым количеством их пропуска. После этого я приступил к анализу данных, в рамках которого были сделаны следующие выводы:\n",
    "\n",
    "1. Полученные данные позволили создать \"средний\" портрет квартиры на основе поулченных данных, а именно это небольшая квартира - однокомнатная или двухкомнатная площадью от 45 кв. м. до 65 кв. метров с высотой потолков 2,7 метра, стоимость такой квартиры составляет от 4 млн. до 5,5 мле рублей.\n",
    "2. На основе построенной диаграммы размаха, было получено в среднем время продажи квартиры составляет 124 дня, нижний порог 45 дней, а верхний - 391 день. На основе этого нами был сделан вывод, что под быстрой продажей квартиры считается, если квартира уходит до 45 дней, от 45 дней до 124 дней это считается довольно таки неплохим результатом. Долго квартира продается если объявление стоит больше 391 день, а аномально если больше 800 дней. \n",
    "3. На основе проведенного анализа мною было замечено, что аномально много значений приходится на 7, 45, 60 и 90 дней и после 616 дней. На основе полученных значений я посчитал, что к выбросам относятся 7 и 45 дней, поэтому я убрал эти значения из таблицы. Мною было принято решение не трогать 30, 60 и 90 дней, так как скорей всего объявления размещаются на месяц, поэтому логично, что люди просто не снимали объявления, даже если они продавали квартиру или передумывали продавать квартиру и в конце месяца данное объявление автоматически закрывалось. Данные после 600 дней тоже не стал трогать, так как это пик для квартир, которые еще не проданы и объявления по которым стоят. В целом были убраны из таблицы значения более 900 дней, так как они согласно диаграмме размаха относятся к выбросам.Также к выбросам была отнесена высота потолка более 3,7 м., стоимость недвижимости меньше 1,5 млн. или больше 17 млн. рублей и общая площадь больше 170 кв. метров.\n",
    "4. Таким образом в целом можно говорить, что на квартиру существенно влияет один фактор, а именно общая площадь. Также существует отрицательное значение удаленности от центра, а именно чем больше общая площадь, тем дороже квартира, и чем квартира дальше от центра, тем она дешевле. Квартиры на последнем и первом этаже стоят ниже чем, квартиры, которые располагаются на других этажах. Если рассматривать более детально даты публикации объявления, то самым \"дорогим\" годом по стоимости квартир является 2014 год, а самым \"дешевым\" - 2017 год. Самый дорогой месяц - апрель, а самый дешевый месяц июнь. Во вторник выкладываются самые \"дорогие\" квартиры, а в субботу выкладываются с самый низкой стоимостью, но разница здесь небольшая 200 тыс. всего. \n",
    "5. На основе анализа 10 населённых пунктов с наибольшим числом объявлений, можно сделать вывод, что самые дорогие квартиры в Санкт-Петербурге, там самый дорогой квадратный метр - 104 кв. метра. Примерно ниже на 10-15 тыс. рублей стоят квартиры в пригородах Петербурга - Пушкине, поселке Парголово и деревне Кудрово. В целом, можно утверждать, что чем дальше населенный пункт от города Санкт-Петербурга, тем дешевле квадратный метр в нем. Исключением здесь составляет Всеволожск, но цены там дешевые, так как данный район имеет проблему с транспортной инфраструктурой. \n",
    "6. Был проведен анализ недвижимости в центре Петербурга, сюда вошли квартиры, которые находятся на расстоянии до 7 км до центра, данная цифра была получена на основе построенного графика зависимости цены от удалённости от центра. В целом в центре Санкт-Петербурга квартиры дороже на 2 млн. рублей, чем в остальных районах города или в пригороде, как правило там продаются двухкомнатные или трехкомнатные квартиры, высота потолка в них около 2,9 м., а площадь сотавляет от 55 кв. м. до 80 кв. метров. "
   ]
  }
 ],
 "metadata": {
  "ExecuteTimeLog": [
   {
    "duration": 350,
    "start_time": "2021-07-06T20:45:56.924Z"
   },
   {
    "duration": 254,
    "start_time": "2021-07-06T20:45:57.469Z"
   },
   {
    "duration": 831,
    "start_time": "2021-07-06T20:51:54.648Z"
   },
   {
    "duration": 85,
    "start_time": "2021-07-06T20:51:55.482Z"
   },
   {
    "duration": 33,
    "start_time": "2021-07-06T20:51:55.570Z"
   },
   {
    "duration": 117,
    "start_time": "2021-07-06T20:51:55.606Z"
   },
   {
    "duration": 78,
    "start_time": "2021-07-06T20:51:55.726Z"
   },
   {
    "duration": 6,
    "start_time": "2021-07-06T20:51:55.806Z"
   },
   {
    "duration": 27,
    "start_time": "2021-07-06T20:51:55.814Z"
   },
   {
    "duration": 19,
    "start_time": "2021-07-06T20:51:55.845Z"
   },
   {
    "duration": 34,
    "start_time": "2021-07-06T20:51:55.866Z"
   },
   {
    "duration": 5,
    "start_time": "2021-07-06T20:51:55.903Z"
   },
   {
    "duration": 13,
    "start_time": "2021-07-06T20:51:55.910Z"
   },
   {
    "duration": 81,
    "start_time": "2021-07-06T20:51:55.925Z"
   },
   {
    "duration": 107,
    "start_time": "2021-07-06T20:51:56.009Z"
   },
   {
    "duration": 16,
    "start_time": "2021-07-06T20:51:56.119Z"
   },
   {
    "duration": 15,
    "start_time": "2021-07-06T20:51:56.138Z"
   },
   {
    "duration": 14,
    "start_time": "2021-07-06T20:51:56.156Z"
   },
   {
    "duration": 29,
    "start_time": "2021-07-06T20:51:56.173Z"
   },
   {
    "duration": 8,
    "start_time": "2021-07-06T20:51:56.206Z"
   },
   {
    "duration": 35,
    "start_time": "2021-07-06T20:51:56.217Z"
   },
   {
    "duration": 18,
    "start_time": "2021-07-06T20:51:56.255Z"
   },
   {
    "duration": 26,
    "start_time": "2021-07-06T20:51:56.275Z"
   },
   {
    "duration": 61,
    "start_time": "2021-07-06T20:51:56.304Z"
   },
   {
    "duration": 7,
    "start_time": "2021-07-06T20:51:56.372Z"
   },
   {
    "duration": 24,
    "start_time": "2021-07-06T20:51:56.383Z"
   },
   {
    "duration": 614,
    "start_time": "2021-07-06T20:51:56.409Z"
   },
   {
    "duration": 14,
    "start_time": "2021-07-06T20:51:57.026Z"
   },
   {
    "duration": 23,
    "start_time": "2021-07-06T20:51:57.042Z"
   },
   {
    "duration": 16,
    "start_time": "2021-07-06T20:51:57.068Z"
   },
   {
    "duration": 19,
    "start_time": "2021-07-06T20:51:57.086Z"
   },
   {
    "duration": 19,
    "start_time": "2021-07-06T20:51:57.107Z"
   },
   {
    "duration": 1012,
    "start_time": "2021-07-06T20:51:57.128Z"
   },
   {
    "duration": 65,
    "start_time": "2021-07-06T20:51:58.142Z"
   },
   {
    "duration": 5,
    "start_time": "2021-07-06T20:51:58.209Z"
   },
   {
    "duration": 7,
    "start_time": "2021-07-06T20:51:58.216Z"
   },
   {
    "duration": 36,
    "start_time": "2021-07-06T20:51:58.225Z"
   },
   {
    "duration": 544,
    "start_time": "2021-07-06T20:51:58.263Z"
   },
   {
    "duration": 1635,
    "start_time": "2021-07-06T20:51:58.810Z"
   },
   {
    "duration": 369,
    "start_time": "2021-07-06T20:52:00.448Z"
   },
   {
    "duration": 406,
    "start_time": "2021-07-06T20:52:00.820Z"
   },
   {
    "duration": 319,
    "start_time": "2021-07-06T20:52:01.230Z"
   },
   {
    "duration": 11,
    "start_time": "2021-07-06T20:52:01.552Z"
   },
   {
    "duration": 687,
    "start_time": "2021-07-06T20:52:01.566Z"
   },
   {
    "duration": 9,
    "start_time": "2021-07-06T20:52:02.256Z"
   },
   {
    "duration": 375,
    "start_time": "2021-07-06T20:52:02.267Z"
   },
   {
    "duration": 362,
    "start_time": "2021-07-06T20:52:02.645Z"
   },
   {
    "duration": 399,
    "start_time": "2021-07-06T20:52:03.010Z"
   },
   {
    "duration": 70,
    "start_time": "2021-07-06T20:52:03.412Z"
   },
   {
    "duration": 8920,
    "start_time": "2021-07-06T20:52:03.500Z"
   },
   {
    "duration": 15,
    "start_time": "2021-07-06T20:52:12.422Z"
   },
   {
    "duration": 272,
    "start_time": "2021-07-06T20:52:12.439Z"
   },
   {
    "duration": 296,
    "start_time": "2021-07-06T20:52:12.713Z"
   },
   {
    "duration": 323,
    "start_time": "2021-07-06T20:52:13.011Z"
   },
   {
    "duration": 324,
    "start_time": "2021-07-06T20:52:13.336Z"
   },
   {
    "duration": 41,
    "start_time": "2021-07-06T20:52:13.662Z"
   },
   {
    "duration": 14,
    "start_time": "2021-07-06T20:52:13.706Z"
   },
   {
    "duration": 5,
    "start_time": "2021-07-06T20:52:13.723Z"
   },
   {
    "duration": 17,
    "start_time": "2021-07-06T20:52:13.730Z"
   },
   {
    "duration": 15,
    "start_time": "2021-07-06T20:52:13.749Z"
   },
   {
    "duration": 6,
    "start_time": "2021-07-06T20:52:13.801Z"
   },
   {
    "duration": 11,
    "start_time": "2021-07-06T20:52:13.809Z"
   },
   {
    "duration": 6,
    "start_time": "2021-07-06T20:52:13.823Z"
   },
   {
    "duration": 353,
    "start_time": "2021-07-06T20:52:13.831Z"
   },
   {
    "duration": 15,
    "start_time": "2021-07-06T20:52:14.187Z"
   },
   {
    "duration": 13,
    "start_time": "2021-07-06T20:52:14.205Z"
   },
   {
    "duration": 833,
    "start_time": "2021-07-06T20:52:14.220Z"
   },
   {
    "duration": 9,
    "start_time": "2021-07-06T20:52:15.056Z"
   },
   {
    "duration": 382,
    "start_time": "2021-07-06T20:52:15.068Z"
   },
   {
    "duration": 336,
    "start_time": "2021-07-06T20:52:15.457Z"
   },
   {
    "duration": 868,
    "start_time": "2021-07-06T20:52:15.799Z"
   },
   {
    "duration": 356,
    "start_time": "2021-07-06T20:52:16.669Z"
   },
   {
    "duration": 286,
    "start_time": "2021-07-06T20:52:17.027Z"
   },
   {
    "duration": 694,
    "start_time": "2021-07-06T20:52:17.315Z"
   },
   {
    "duration": 342,
    "start_time": "2021-07-06T20:52:18.012Z"
   },
   {
    "duration": 362,
    "start_time": "2021-07-06T20:52:18.357Z"
   },
   {
    "duration": 7,
    "start_time": "2021-07-06T20:52:18.722Z"
   },
   {
    "duration": 15,
    "start_time": "2021-07-06T20:52:18.732Z"
   },
   {
    "duration": 15,
    "start_time": "2021-07-06T20:52:18.749Z"
   },
   {
    "duration": 43,
    "start_time": "2021-07-06T20:52:18.766Z"
   },
   {
    "duration": 851,
    "start_time": "2021-07-06T20:56:33.320Z"
   },
   {
    "duration": 87,
    "start_time": "2021-07-06T20:56:34.174Z"
   },
   {
    "duration": 16,
    "start_time": "2021-07-06T20:56:34.264Z"
   },
   {
    "duration": 120,
    "start_time": "2021-07-06T20:56:34.300Z"
   },
   {
    "duration": 79,
    "start_time": "2021-07-06T20:56:34.423Z"
   },
   {
    "duration": 8,
    "start_time": "2021-07-06T20:56:34.505Z"
   },
   {
    "duration": 17,
    "start_time": "2021-07-06T20:56:34.515Z"
   },
   {
    "duration": 23,
    "start_time": "2021-07-06T20:56:34.536Z"
   },
   {
    "duration": 8,
    "start_time": "2021-07-06T20:56:34.602Z"
   },
   {
    "duration": 8,
    "start_time": "2021-07-06T20:56:34.612Z"
   },
   {
    "duration": 12,
    "start_time": "2021-07-06T20:56:34.623Z"
   },
   {
    "duration": 74,
    "start_time": "2021-07-06T20:56:34.638Z"
   },
   {
    "duration": 110,
    "start_time": "2021-07-06T20:56:34.715Z"
   },
   {
    "duration": 14,
    "start_time": "2021-07-06T20:56:34.828Z"
   },
   {
    "duration": 9,
    "start_time": "2021-07-06T20:56:34.845Z"
   },
   {
    "duration": 9,
    "start_time": "2021-07-06T20:56:34.856Z"
   },
   {
    "duration": 36,
    "start_time": "2021-07-06T20:56:34.867Z"
   },
   {
    "duration": 6,
    "start_time": "2021-07-06T20:56:34.906Z"
   },
   {
    "duration": 14,
    "start_time": "2021-07-06T20:56:34.915Z"
   },
   {
    "duration": 13,
    "start_time": "2021-07-06T20:56:34.932Z"
   },
   {
    "duration": 4,
    "start_time": "2021-07-06T20:56:34.948Z"
   },
   {
    "duration": 104,
    "start_time": "2021-07-06T20:56:34.954Z"
   },
   {
    "duration": 8,
    "start_time": "2021-07-06T20:56:35.064Z"
   },
   {
    "duration": 31,
    "start_time": "2021-07-06T20:56:35.076Z"
   },
   {
    "duration": 594,
    "start_time": "2021-07-06T20:56:35.110Z"
   },
   {
    "duration": 14,
    "start_time": "2021-07-06T20:56:35.707Z"
   },
   {
    "duration": 13,
    "start_time": "2021-07-06T20:56:35.724Z"
   },
   {
    "duration": 9,
    "start_time": "2021-07-06T20:56:35.739Z"
   },
   {
    "duration": 7,
    "start_time": "2021-07-06T20:56:35.752Z"
   },
   {
    "duration": 21,
    "start_time": "2021-07-06T20:56:35.802Z"
   },
   {
    "duration": 1001,
    "start_time": "2021-07-06T20:56:35.825Z"
   },
   {
    "duration": 54,
    "start_time": "2021-07-06T20:56:36.828Z"
   },
   {
    "duration": 17,
    "start_time": "2021-07-06T20:56:36.884Z"
   },
   {
    "duration": 8,
    "start_time": "2021-07-06T20:56:36.904Z"
   },
   {
    "duration": 35,
    "start_time": "2021-07-06T20:56:36.914Z"
   },
   {
    "duration": 440,
    "start_time": "2021-07-06T20:56:36.951Z"
   },
   {
    "duration": 1567,
    "start_time": "2021-07-06T20:56:37.394Z"
   },
   {
    "duration": 364,
    "start_time": "2021-07-06T20:56:38.964Z"
   },
   {
    "duration": 385,
    "start_time": "2021-07-06T20:56:39.330Z"
   },
   {
    "duration": 290,
    "start_time": "2021-07-06T20:56:39.717Z"
   },
   {
    "duration": 11,
    "start_time": "2021-07-06T20:56:40.010Z"
   },
   {
    "duration": 550,
    "start_time": "2021-07-06T20:56:40.023Z"
   },
   {
    "duration": 9,
    "start_time": "2021-07-06T20:56:40.575Z"
   },
   {
    "duration": 334,
    "start_time": "2021-07-06T20:56:40.601Z"
   },
   {
    "duration": 343,
    "start_time": "2021-07-06T20:56:40.938Z"
   },
   {
    "duration": 476,
    "start_time": "2021-07-06T20:56:41.283Z"
   },
   {
    "duration": 81,
    "start_time": "2021-07-06T20:56:41.762Z"
   }
  ],
  "kernelspec": {
   "display_name": "Python 3",
   "language": "python",
   "name": "python3"
  },
  "language_info": {
   "codemirror_mode": {
    "name": "ipython",
    "version": 3
   },
   "file_extension": ".py",
   "mimetype": "text/x-python",
   "name": "python",
   "nbconvert_exporter": "python",
   "pygments_lexer": "ipython3",
   "version": "3.8.5"
  },
  "toc": {
   "base_numbering": 1,
   "nav_menu": {},
   "number_sections": true,
   "sideBar": true,
   "skip_h1_title": false,
   "title_cell": "Table of Contents",
   "title_sidebar": "Contents",
   "toc_cell": false,
   "toc_position": {},
   "toc_section_display": true,
   "toc_window_display": false
  }
 },
 "nbformat": 4,
 "nbformat_minor": 2
}
