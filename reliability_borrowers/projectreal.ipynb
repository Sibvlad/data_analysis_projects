{
 "cells": [
  {
   "cell_type": "markdown",
   "metadata": {},
   "source": [
    "## Исследование надёжности заёмщиков\n",
    "\n",
    "Заказчик — кредитный отдел банка. Нужно разобраться, влияет ли семейное положение и количество детей клиента на факт погашения кредита в срок. Входные данные от банка — статистика о платёжеспособности клиентов.\n",
    "\n",
    "Результаты исследования будут учтены при построении модели **кредитного скоринга** — специальной системы, которая оценивает способность потенциального заёмщика вернуть кредит банку."
   ]
  },
  {
   "cell_type": "markdown",
   "metadata": {},
   "source": [
    "### Содержание работы\n",
    "\n",
    "<ul style=\"list-style:none; text-decoration: none\">\n",
    "    <li><a style=\"text-decoration: none\" href=\"#introduction\">Шаг 1. Откройте файл с данными и изучите общую информацию.</a></li>\n",
    "    <li><a style=\"text-decoration: none\" href=\"#data_pre-processing\">Шаг 2. Предобработка данных</a></li>\n",
    "    <ul>\n",
    "        <li><a style=\"text-decoration: none\" href=\"#missing_data-treatment\">Обработка пропусков</a></li>\n",
    "        <li><a style=\"text-decoration: none\" href=\"#replacing_data-type\">Замена типа данных</a></li>\n",
    "        <li><a style=\"text-decoration: none\" href=\"#processing_duplicates\">Обработка дубликатов</a></li>\n",
    "        <li><a style=\"text-decoration: none\" href=\"#lemmatization\">Лемматизация</a></li>\n",
    "        <li><a style=\"text-decoration: none\" href=\"#categorization\">Категоризация данных</a></li>\n",
    "    </ul> \n",
    "    <li><a style=\"text-decoration: none\" href=\"#questions\">Шаг 3. Ответьте на вопросы</a></li>\n",
    "    <li><a style=\"text-decoration: none\" href=\"#conclusion\">Шаг 4. Общий вывод</a></li>\n",
    "</ul>"
   ]
  },
  {
   "cell_type": "markdown",
   "metadata": {},
   "source": [
    "## Откройте файл с данными и изучите общую информацию. <a name=\"introduction\"></a>"
   ]
  },
  {
   "cell_type": "code",
   "execution_count": 1,
   "metadata": {},
   "outputs": [],
   "source": [
    "import pandas as pd\n",
    "from pymystem3 import Mystem\n",
    "m = Mystem() "
   ]
  },
  {
   "cell_type": "markdown",
   "metadata": {},
   "source": [
    "Читаем файл с помощью команды read_csv"
   ]
  },
  {
   "cell_type": "code",
   "execution_count": 2,
   "metadata": {},
   "outputs": [],
   "source": [
    "credit_data = pd.read_csv(\"/datasets/data.csv\")"
   ]
  },
  {
   "cell_type": "markdown",
   "metadata": {},
   "source": [
    "Изучаем общую информацию о предоставленном нами данных"
   ]
  },
  {
   "cell_type": "code",
   "execution_count": 3,
   "metadata": {},
   "outputs": [
    {
     "name": "stdout",
     "output_type": "stream",
     "text": [
      "<class 'pandas.core.frame.DataFrame'>\n",
      "RangeIndex: 21525 entries, 0 to 21524\n",
      "Data columns (total 12 columns):\n",
      "children            21525 non-null int64\n",
      "days_employed       19351 non-null float64\n",
      "dob_years           21525 non-null int64\n",
      "education           21525 non-null object\n",
      "education_id        21525 non-null int64\n",
      "family_status       21525 non-null object\n",
      "family_status_id    21525 non-null int64\n",
      "gender              21525 non-null object\n",
      "income_type         21525 non-null object\n",
      "debt                21525 non-null int64\n",
      "total_income        19351 non-null float64\n",
      "purpose             21525 non-null object\n",
      "dtypes: float64(2), int64(5), object(5)\n",
      "memory usage: 2.0+ MB\n"
     ]
    }
   ],
   "source": [
    "\n",
    "credit_data.info()\n"
   ]
  },
  {
   "cell_type": "markdown",
   "metadata": {},
   "source": [
    "Просмотрим некоторых основных статистических данные, таких как процентиль, среднее значение, стандартное отклонение в таблице"
   ]
  },
  {
   "cell_type": "code",
   "execution_count": 4,
   "metadata": {},
   "outputs": [
    {
     "data": {
      "text/html": [
       "<div>\n",
       "<style scoped>\n",
       "    .dataframe tbody tr th:only-of-type {\n",
       "        vertical-align: middle;\n",
       "    }\n",
       "\n",
       "    .dataframe tbody tr th {\n",
       "        vertical-align: top;\n",
       "    }\n",
       "\n",
       "    .dataframe thead th {\n",
       "        text-align: right;\n",
       "    }\n",
       "</style>\n",
       "<table border=\"1\" class=\"dataframe\">\n",
       "  <thead>\n",
       "    <tr style=\"text-align: right;\">\n",
       "      <th></th>\n",
       "      <th>children</th>\n",
       "      <th>days_employed</th>\n",
       "      <th>dob_years</th>\n",
       "      <th>education_id</th>\n",
       "      <th>family_status_id</th>\n",
       "      <th>debt</th>\n",
       "      <th>total_income</th>\n",
       "    </tr>\n",
       "  </thead>\n",
       "  <tbody>\n",
       "    <tr>\n",
       "      <td>count</td>\n",
       "      <td>21525.000000</td>\n",
       "      <td>19351.000000</td>\n",
       "      <td>21525.000000</td>\n",
       "      <td>21525.000000</td>\n",
       "      <td>21525.000000</td>\n",
       "      <td>21525.000000</td>\n",
       "      <td>1.935100e+04</td>\n",
       "    </tr>\n",
       "    <tr>\n",
       "      <td>mean</td>\n",
       "      <td>0.538908</td>\n",
       "      <td>63046.497661</td>\n",
       "      <td>43.293380</td>\n",
       "      <td>0.817236</td>\n",
       "      <td>0.972544</td>\n",
       "      <td>0.080883</td>\n",
       "      <td>1.674223e+05</td>\n",
       "    </tr>\n",
       "    <tr>\n",
       "      <td>std</td>\n",
       "      <td>1.381587</td>\n",
       "      <td>140827.311974</td>\n",
       "      <td>12.574584</td>\n",
       "      <td>0.548138</td>\n",
       "      <td>1.420324</td>\n",
       "      <td>0.272661</td>\n",
       "      <td>1.029716e+05</td>\n",
       "    </tr>\n",
       "    <tr>\n",
       "      <td>min</td>\n",
       "      <td>-1.000000</td>\n",
       "      <td>-18388.949901</td>\n",
       "      <td>0.000000</td>\n",
       "      <td>0.000000</td>\n",
       "      <td>0.000000</td>\n",
       "      <td>0.000000</td>\n",
       "      <td>2.066726e+04</td>\n",
       "    </tr>\n",
       "    <tr>\n",
       "      <td>25%</td>\n",
       "      <td>0.000000</td>\n",
       "      <td>-2747.423625</td>\n",
       "      <td>33.000000</td>\n",
       "      <td>1.000000</td>\n",
       "      <td>0.000000</td>\n",
       "      <td>0.000000</td>\n",
       "      <td>1.030532e+05</td>\n",
       "    </tr>\n",
       "    <tr>\n",
       "      <td>50%</td>\n",
       "      <td>0.000000</td>\n",
       "      <td>-1203.369529</td>\n",
       "      <td>42.000000</td>\n",
       "      <td>1.000000</td>\n",
       "      <td>0.000000</td>\n",
       "      <td>0.000000</td>\n",
       "      <td>1.450179e+05</td>\n",
       "    </tr>\n",
       "    <tr>\n",
       "      <td>75%</td>\n",
       "      <td>1.000000</td>\n",
       "      <td>-291.095954</td>\n",
       "      <td>53.000000</td>\n",
       "      <td>1.000000</td>\n",
       "      <td>1.000000</td>\n",
       "      <td>0.000000</td>\n",
       "      <td>2.034351e+05</td>\n",
       "    </tr>\n",
       "    <tr>\n",
       "      <td>max</td>\n",
       "      <td>20.000000</td>\n",
       "      <td>401755.400475</td>\n",
       "      <td>75.000000</td>\n",
       "      <td>4.000000</td>\n",
       "      <td>4.000000</td>\n",
       "      <td>1.000000</td>\n",
       "      <td>2.265604e+06</td>\n",
       "    </tr>\n",
       "  </tbody>\n",
       "</table>\n",
       "</div>"
      ],
      "text/plain": [
       "           children  days_employed     dob_years  education_id  \\\n",
       "count  21525.000000   19351.000000  21525.000000  21525.000000   \n",
       "mean       0.538908   63046.497661     43.293380      0.817236   \n",
       "std        1.381587  140827.311974     12.574584      0.548138   \n",
       "min       -1.000000  -18388.949901      0.000000      0.000000   \n",
       "25%        0.000000   -2747.423625     33.000000      1.000000   \n",
       "50%        0.000000   -1203.369529     42.000000      1.000000   \n",
       "75%        1.000000    -291.095954     53.000000      1.000000   \n",
       "max       20.000000  401755.400475     75.000000      4.000000   \n",
       "\n",
       "       family_status_id          debt  total_income  \n",
       "count      21525.000000  21525.000000  1.935100e+04  \n",
       "mean           0.972544      0.080883  1.674223e+05  \n",
       "std            1.420324      0.272661  1.029716e+05  \n",
       "min            0.000000      0.000000  2.066726e+04  \n",
       "25%            0.000000      0.000000  1.030532e+05  \n",
       "50%            0.000000      0.000000  1.450179e+05  \n",
       "75%            1.000000      0.000000  2.034351e+05  \n",
       "max            4.000000      1.000000  2.265604e+06  "
      ]
     },
     "execution_count": 4,
     "metadata": {},
     "output_type": "execute_result"
    }
   ],
   "source": [
    "credit_data.describe()"
   ]
  },
  {
   "cell_type": "markdown",
   "metadata": {},
   "source": [
    "### Вывод"
   ]
  },
  {
   "cell_type": "markdown",
   "metadata": {},
   "source": [
    "Всего в таблице 12 столбцов, из которых 7 относятся к количественным данным, а 5 к категориальным.\n",
    "Каждая строка таблицы содержит информацию о заемщике, а именно информацию о его семейном положении, количестве детей, образовании, трудовом стаже, его доходе, наличии или отсутствии задолженности по возврату кредитов и цели взятия кредита. При этом в таблице существует два показателя, у которых есть идентификатор - уровень образование и семейное положение. Количество значений в столбцах total_income и days_employed отличается от других столбцев. Это говорит о том, что в данных есть пропущенные значения.\n",
    "Три проблемы, которые нужно решить: пропуски, отрицательное значение у столбца dob_years и children, неправильные значения в столбце income_type. Для проверки рабочих гипотез особенно ценны столбцы children, education, total_income и debt."
   ]
  },
  {
   "cell_type": "markdown",
   "metadata": {},
   "source": [
    "##  Предобработка данных  <a name=\"data_pre-processing\"></a>"
   ]
  },
  {
   "cell_type": "markdown",
   "metadata": {},
   "source": [
    "### Обработка пропусков <a name=\"missing_data-treatment\"></a>"
   ]
  },
  {
   "cell_type": "markdown",
   "metadata": {},
   "source": [
    "Просматриваем пропуски в таблице"
   ]
  },
  {
   "cell_type": "code",
   "execution_count": 5,
   "metadata": {},
   "outputs": [
    {
     "data": {
      "text/plain": [
       "children               0\n",
       "days_employed       2174\n",
       "dob_years              0\n",
       "education              0\n",
       "education_id           0\n",
       "family_status          0\n",
       "family_status_id       0\n",
       "gender                 0\n",
       "income_type            0\n",
       "debt                   0\n",
       "total_income        2174\n",
       "purpose                0\n",
       "dtype: int64"
      ]
     },
     "execution_count": 5,
     "metadata": {},
     "output_type": "execute_result"
    }
   ],
   "source": [
    "credit_data.isnull().sum()"
   ]
  },
  {
   "cell_type": "markdown",
   "metadata": {},
   "source": [
    "Пишем функцию, которая ищет медиану среди заданной категории в столбце и дальше производим замену пропущенных значений  на полученное значение в таблице"
   ]
  },
  {
   "cell_type": "code",
   "execution_count": 6,
   "metadata": {},
   "outputs": [],
   "source": [
    "def missing_data(data, array, column):\n",
    "    for row in array:\n",
    "        data_value = data[credit_data['income_type'] == row][column].median()\n",
    "        data.loc[data['income_type'] == row, column] =  data[data['income_type'] == row][column].fillna(data_value)"
   ]
  },
  {
   "cell_type": "markdown",
   "metadata": {},
   "source": [
    "создаем массив для значений столбца 'income_type' для использования ее в функции"
   ]
  },
  {
   "cell_type": "code",
   "execution_count": 7,
   "metadata": {},
   "outputs": [],
   "source": [
    "value_missing = credit_data['income_type'].unique()"
   ]
  },
  {
   "cell_type": "markdown",
   "metadata": {},
   "source": [
    "Применяем функцию меняющую пропущенные значения в столбце \"total_income\" на медиану значений по столбцу \"income_type\" "
   ]
  },
  {
   "cell_type": "code",
   "execution_count": 8,
   "metadata": {},
   "outputs": [],
   "source": [
    "\n",
    "missing_data(credit_data, value_missing, \"total_income\")"
   ]
  },
  {
   "cell_type": "code",
   "execution_count": 9,
   "metadata": {},
   "outputs": [
    {
     "data": {
      "text/plain": [
       "children               0\n",
       "days_employed       2174\n",
       "dob_years              0\n",
       "education              0\n",
       "education_id           0\n",
       "family_status          0\n",
       "family_status_id       0\n",
       "gender                 0\n",
       "income_type            0\n",
       "debt                   0\n",
       "total_income           0\n",
       "purpose                0\n",
       "dtype: int64"
      ]
     },
     "execution_count": 9,
     "metadata": {},
     "output_type": "execute_result"
    }
   ],
   "source": [
    "credit_data.isnull().sum()"
   ]
  },
  {
   "cell_type": "markdown",
   "metadata": {},
   "source": [
    "Начинаем работу со столбцом 'days_employed', где имеются отрицательные значения и некоторые данные отражены в часах, а не в количестве дней.\n",
    "Переводим отрицательные значения в положительные в столбце'days_employed'"
   ]
  },
  {
   "cell_type": "code",
   "execution_count": 10,
   "metadata": {},
   "outputs": [],
   "source": [
    "credit_data['days_employed'] = credit_data['days_employed'].abs()"
   ]
  },
  {
   "cell_type": "markdown",
   "metadata": {},
   "source": [
    "Переводим некоторые значения из часов в количество дней, при этом мы допустили, что человек не может работать в своей жизни больше чем 18 000 дней, на основе этого была проведена выборка значений, которые нужно поменять "
   ]
  },
  {
   "cell_type": "code",
   "execution_count": 11,
   "metadata": {},
   "outputs": [],
   "source": [
    "credit_data.loc[credit_data['days_employed'] >= 18000, 'days_employed'] = credit_data['days_employed']/30"
   ]
  },
  {
   "cell_type": "markdown",
   "metadata": {},
   "source": [
    "Для работающих граждан пропущенные значения были заменены на  возможное количество трудового стажа, при условии, что человек начал работать с 19 лет"
   ]
  },
  {
   "cell_type": "code",
   "execution_count": 12,
   "metadata": {},
   "outputs": [],
   "source": [
    "credit_data.loc[(credit_data['days_employed'].isnull()) & (credit_data['income_type'] != \"пенсионер\"), 'days_employed']=(credit_data[\"dob_years\"]-18)*365"
   ]
  },
  {
   "cell_type": "markdown",
   "metadata": {},
   "source": [
    "Для песионеров пропущенные значения были заменены на полученную медиану трудового стажа пенсионеров"
   ]
  },
  {
   "cell_type": "code",
   "execution_count": 13,
   "metadata": {},
   "outputs": [],
   "source": [
    "array = [\"пенсионер\"] \n",
    "missing_data(credit_data, array, 'days_employed')"
   ]
  },
  {
   "cell_type": "code",
   "execution_count": 14,
   "metadata": {},
   "outputs": [],
   "source": [
    "credit_data.loc[credit_data['days_employed'] == -6570, 'days_employed'] = credit_data[credit_data['days_employed'] == -6570]['days_employed'].dropna().reset_index(drop\n",
    "= True)"
   ]
  },
  {
   "cell_type": "code",
   "execution_count": 15,
   "metadata": {},
   "outputs": [],
   "source": [
    "credit_data = credit_data.dropna().reset_index(drop= True)"
   ]
  },
  {
   "cell_type": "code",
   "execution_count": 16,
   "metadata": {},
   "outputs": [
    {
     "data": {
      "text/plain": [
       "children            0\n",
       "days_employed       0\n",
       "dob_years           0\n",
       "education           0\n",
       "education_id        0\n",
       "family_status       0\n",
       "family_status_id    0\n",
       "gender              0\n",
       "income_type         0\n",
       "debt                0\n",
       "total_income        0\n",
       "purpose             0\n",
       "dtype: int64"
      ]
     },
     "execution_count": 16,
     "metadata": {},
     "output_type": "execute_result"
    }
   ],
   "source": [
    "credit_data.isnull().sum()"
   ]
  },
  {
   "cell_type": "markdown",
   "metadata": {},
   "source": [
    "Проверяем другие столбцы, в столбце \"dob_years\" есть нулевые значения, что невозможно само по себе, находим их количество"
   ]
  },
  {
   "cell_type": "code",
   "execution_count": 17,
   "metadata": {},
   "outputs": [
    {
     "data": {
      "text/plain": [
       "94"
      ]
     },
     "execution_count": 17,
     "metadata": {},
     "output_type": "execute_result"
    }
   ],
   "source": [
    "credit_data[credit_data[\"dob_years\"] == 0][\"dob_years\"].count()"
   ]
  },
  {
   "cell_type": "markdown",
   "metadata": {},
   "source": [
    "Заменяем нулевые значения на предполагаемый их возраст при условии, что они начали работать с 19 лет"
   ]
  },
  {
   "cell_type": "code",
   "execution_count": 18,
   "metadata": {},
   "outputs": [],
   "source": [
    "credit_data.loc[credit_data[\"dob_years\"] == 0, \"dob_years\"] = (credit_data[\"days_employed\"]/365) + 18"
   ]
  },
  {
   "cell_type": "markdown",
   "metadata": {},
   "source": [
    "Проверка пропущенных значений"
   ]
  },
  {
   "cell_type": "code",
   "execution_count": 19,
   "metadata": {},
   "outputs": [
    {
     "data": {
      "text/plain": [
       "children            0\n",
       "days_employed       0\n",
       "dob_years           0\n",
       "education           0\n",
       "education_id        0\n",
       "family_status       0\n",
       "family_status_id    0\n",
       "gender              0\n",
       "income_type         0\n",
       "debt                0\n",
       "total_income        0\n",
       "purpose             0\n",
       "dtype: int64"
      ]
     },
     "execution_count": 19,
     "metadata": {},
     "output_type": "execute_result"
    }
   ],
   "source": [
    "credit_data.isnull().sum()"
   ]
  },
  {
   "cell_type": "markdown",
   "metadata": {},
   "source": [
    "Проверка значений столбца \"children\", выявлено отклонение в наличии значения 20"
   ]
  },
  {
   "cell_type": "code",
   "execution_count": 20,
   "metadata": {},
   "outputs": [
    {
     "data": {
      "text/plain": [
       " 0     14144\n",
       " 1      4817\n",
       " 2      2055\n",
       " 3       329\n",
       " 20       76\n",
       "-1        47\n",
       " 4        41\n",
       " 5         9\n",
       "Name: children, dtype: int64"
      ]
     },
     "execution_count": 20,
     "metadata": {},
     "output_type": "execute_result"
    }
   ],
   "source": [
    "credit_data[\"children\"].value_counts()"
   ]
  },
  {
   "cell_type": "code",
   "execution_count": 21,
   "metadata": {},
   "outputs": [],
   "source": [
    "credit_data.loc[(credit_data[\"children\"] == 20) & (credit_data[\"family_status\"] != \"Не женат / не замужем\"),\"children\"] = 2\n",
    "credit_data.loc[(credit_data[\"children\"] == 20) & (credit_data[\"family_status\"] == \"Не женат / не замужем\"),\"children\"] = 0\n",
    "credit_data.loc[credit_data[\"children\"] == -1,\"children\"] = 1\n"
   ]
  },
  {
   "cell_type": "markdown",
   "metadata": {},
   "source": [
    "Проверяем полученную замену"
   ]
  },
  {
   "cell_type": "code",
   "execution_count": 22,
   "metadata": {},
   "outputs": [
    {
     "data": {
      "text/html": [
       "<div>\n",
       "<style scoped>\n",
       "    .dataframe tbody tr th:only-of-type {\n",
       "        vertical-align: middle;\n",
       "    }\n",
       "\n",
       "    .dataframe tbody tr th {\n",
       "        vertical-align: top;\n",
       "    }\n",
       "\n",
       "    .dataframe thead th {\n",
       "        text-align: right;\n",
       "    }\n",
       "</style>\n",
       "<table border=\"1\" class=\"dataframe\">\n",
       "  <thead>\n",
       "    <tr style=\"text-align: right;\">\n",
       "      <th></th>\n",
       "      <th>children</th>\n",
       "      <th>days_employed</th>\n",
       "      <th>dob_years</th>\n",
       "      <th>education</th>\n",
       "      <th>education_id</th>\n",
       "      <th>family_status</th>\n",
       "      <th>family_status_id</th>\n",
       "      <th>gender</th>\n",
       "      <th>income_type</th>\n",
       "      <th>debt</th>\n",
       "      <th>total_income</th>\n",
       "      <th>purpose</th>\n",
       "    </tr>\n",
       "  </thead>\n",
       "  <tbody>\n",
       "    <tr>\n",
       "      <td>0</td>\n",
       "      <td>1</td>\n",
       "      <td>8437.673028</td>\n",
       "      <td>42.0</td>\n",
       "      <td>высшее</td>\n",
       "      <td>0</td>\n",
       "      <td>женат / замужем</td>\n",
       "      <td>0</td>\n",
       "      <td>F</td>\n",
       "      <td>сотрудник</td>\n",
       "      <td>0</td>\n",
       "      <td>253875.639453</td>\n",
       "      <td>покупка жилья</td>\n",
       "    </tr>\n",
       "    <tr>\n",
       "      <td>1</td>\n",
       "      <td>1</td>\n",
       "      <td>4024.803754</td>\n",
       "      <td>36.0</td>\n",
       "      <td>среднее</td>\n",
       "      <td>1</td>\n",
       "      <td>женат / замужем</td>\n",
       "      <td>0</td>\n",
       "      <td>F</td>\n",
       "      <td>сотрудник</td>\n",
       "      <td>0</td>\n",
       "      <td>112080.014102</td>\n",
       "      <td>приобретение автомобиля</td>\n",
       "    </tr>\n",
       "    <tr>\n",
       "      <td>2</td>\n",
       "      <td>0</td>\n",
       "      <td>5623.422610</td>\n",
       "      <td>33.0</td>\n",
       "      <td>Среднее</td>\n",
       "      <td>1</td>\n",
       "      <td>женат / замужем</td>\n",
       "      <td>0</td>\n",
       "      <td>M</td>\n",
       "      <td>сотрудник</td>\n",
       "      <td>0</td>\n",
       "      <td>145885.952297</td>\n",
       "      <td>покупка жилья</td>\n",
       "    </tr>\n",
       "    <tr>\n",
       "      <td>3</td>\n",
       "      <td>3</td>\n",
       "      <td>4124.747207</td>\n",
       "      <td>32.0</td>\n",
       "      <td>среднее</td>\n",
       "      <td>1</td>\n",
       "      <td>женат / замужем</td>\n",
       "      <td>0</td>\n",
       "      <td>M</td>\n",
       "      <td>сотрудник</td>\n",
       "      <td>0</td>\n",
       "      <td>267628.550329</td>\n",
       "      <td>дополнительное образование</td>\n",
       "    </tr>\n",
       "    <tr>\n",
       "      <td>4</td>\n",
       "      <td>0</td>\n",
       "      <td>11342.202402</td>\n",
       "      <td>53.0</td>\n",
       "      <td>среднее</td>\n",
       "      <td>1</td>\n",
       "      <td>гражданский брак</td>\n",
       "      <td>1</td>\n",
       "      <td>F</td>\n",
       "      <td>пенсионер</td>\n",
       "      <td>0</td>\n",
       "      <td>158616.077870</td>\n",
       "      <td>сыграть свадьбу</td>\n",
       "    </tr>\n",
       "  </tbody>\n",
       "</table>\n",
       "</div>"
      ],
      "text/plain": [
       "   children  days_employed  dob_years education  education_id  \\\n",
       "0         1    8437.673028       42.0    высшее             0   \n",
       "1         1    4024.803754       36.0   среднее             1   \n",
       "2         0    5623.422610       33.0   Среднее             1   \n",
       "3         3    4124.747207       32.0   среднее             1   \n",
       "4         0   11342.202402       53.0   среднее             1   \n",
       "\n",
       "      family_status  family_status_id gender income_type  debt   total_income  \\\n",
       "0   женат / замужем                 0      F   сотрудник     0  253875.639453   \n",
       "1   женат / замужем                 0      F   сотрудник     0  112080.014102   \n",
       "2   женат / замужем                 0      M   сотрудник     0  145885.952297   \n",
       "3   женат / замужем                 0      M   сотрудник     0  267628.550329   \n",
       "4  гражданский брак                 1      F   пенсионер     0  158616.077870   \n",
       "\n",
       "                      purpose  \n",
       "0               покупка жилья  \n",
       "1     приобретение автомобиля  \n",
       "2               покупка жилья  \n",
       "3  дополнительное образование  \n",
       "4             сыграть свадьбу  "
      ]
     },
     "execution_count": 22,
     "metadata": {},
     "output_type": "execute_result"
    }
   ],
   "source": [
    "credit_data.head()"
   ]
  },
  {
   "cell_type": "code",
   "execution_count": 23,
   "metadata": {},
   "outputs": [
    {
     "data": {
      "text/plain": [
       "0    14153\n",
       "1     4864\n",
       "2     2122\n",
       "3      329\n",
       "4       41\n",
       "5        9\n",
       "Name: children, dtype: int64"
      ]
     },
     "execution_count": 23,
     "metadata": {},
     "output_type": "execute_result"
    }
   ],
   "source": [
    "credit_data[\"children\"].value_counts()"
   ]
  },
  {
   "cell_type": "markdown",
   "metadata": {},
   "source": [
    "Проверяем, чтобы в столбце days_employed не было отрицательных значений, а в столбце dob_years нулевые значения"
   ]
  },
  {
   "cell_type": "code",
   "execution_count": 24,
   "metadata": {},
   "outputs": [
    {
     "data": {
      "text/html": [
       "<div>\n",
       "<style scoped>\n",
       "    .dataframe tbody tr th:only-of-type {\n",
       "        vertical-align: middle;\n",
       "    }\n",
       "\n",
       "    .dataframe tbody tr th {\n",
       "        vertical-align: top;\n",
       "    }\n",
       "\n",
       "    .dataframe thead th {\n",
       "        text-align: right;\n",
       "    }\n",
       "</style>\n",
       "<table border=\"1\" class=\"dataframe\">\n",
       "  <thead>\n",
       "    <tr style=\"text-align: right;\">\n",
       "      <th></th>\n",
       "      <th>children</th>\n",
       "      <th>days_employed</th>\n",
       "      <th>dob_years</th>\n",
       "      <th>education_id</th>\n",
       "      <th>family_status_id</th>\n",
       "      <th>debt</th>\n",
       "      <th>total_income</th>\n",
       "    </tr>\n",
       "  </thead>\n",
       "  <tbody>\n",
       "    <tr>\n",
       "      <td>count</td>\n",
       "      <td>21518.000000</td>\n",
       "      <td>21518.000000</td>\n",
       "      <td>21518.000000</td>\n",
       "      <td>21518.000000</td>\n",
       "      <td>21518.000000</td>\n",
       "      <td>21518.000000</td>\n",
       "      <td>2.151800e+04</td>\n",
       "    </tr>\n",
       "    <tr>\n",
       "      <td>mean</td>\n",
       "      <td>0.478855</td>\n",
       "      <td>4584.069935</td>\n",
       "      <td>43.437634</td>\n",
       "      <td>0.817223</td>\n",
       "      <td>0.972581</td>\n",
       "      <td>0.080909</td>\n",
       "      <td>1.652299e+05</td>\n",
       "    </tr>\n",
       "    <tr>\n",
       "      <td>std</td>\n",
       "      <td>0.754835</td>\n",
       "      <td>4495.084954</td>\n",
       "      <td>12.280540</td>\n",
       "      <td>0.548191</td>\n",
       "      <td>1.420343</td>\n",
       "      <td>0.272702</td>\n",
       "      <td>9.805898e+04</td>\n",
       "    </tr>\n",
       "    <tr>\n",
       "      <td>min</td>\n",
       "      <td>0.000000</td>\n",
       "      <td>24.141633</td>\n",
       "      <td>18.298540</td>\n",
       "      <td>0.000000</td>\n",
       "      <td>0.000000</td>\n",
       "      <td>0.000000</td>\n",
       "      <td>2.066726e+04</td>\n",
       "    </tr>\n",
       "    <tr>\n",
       "      <td>25%</td>\n",
       "      <td>0.000000</td>\n",
       "      <td>1024.854208</td>\n",
       "      <td>33.000000</td>\n",
       "      <td>1.000000</td>\n",
       "      <td>0.000000</td>\n",
       "      <td>0.000000</td>\n",
       "      <td>1.077824e+05</td>\n",
       "    </tr>\n",
       "    <tr>\n",
       "      <td>50%</td>\n",
       "      <td>0.000000</td>\n",
       "      <td>2559.046304</td>\n",
       "      <td>43.000000</td>\n",
       "      <td>1.000000</td>\n",
       "      <td>0.000000</td>\n",
       "      <td>0.000000</td>\n",
       "      <td>1.425944e+05</td>\n",
       "    </tr>\n",
       "    <tr>\n",
       "      <td>75%</td>\n",
       "      <td>1.000000</td>\n",
       "      <td>7810.618031</td>\n",
       "      <td>53.000000</td>\n",
       "      <td>1.000000</td>\n",
       "      <td>1.000000</td>\n",
       "      <td>0.000000</td>\n",
       "      <td>1.956010e+05</td>\n",
       "    </tr>\n",
       "    <tr>\n",
       "      <td>max</td>\n",
       "      <td>5.000000</td>\n",
       "      <td>19710.000000</td>\n",
       "      <td>75.000000</td>\n",
       "      <td>4.000000</td>\n",
       "      <td>4.000000</td>\n",
       "      <td>1.000000</td>\n",
       "      <td>2.265604e+06</td>\n",
       "    </tr>\n",
       "  </tbody>\n",
       "</table>\n",
       "</div>"
      ],
      "text/plain": [
       "           children  days_employed     dob_years  education_id  \\\n",
       "count  21518.000000   21518.000000  21518.000000  21518.000000   \n",
       "mean       0.478855    4584.069935     43.437634      0.817223   \n",
       "std        0.754835    4495.084954     12.280540      0.548191   \n",
       "min        0.000000      24.141633     18.298540      0.000000   \n",
       "25%        0.000000    1024.854208     33.000000      1.000000   \n",
       "50%        0.000000    2559.046304     43.000000      1.000000   \n",
       "75%        1.000000    7810.618031     53.000000      1.000000   \n",
       "max        5.000000   19710.000000     75.000000      4.000000   \n",
       "\n",
       "       family_status_id          debt  total_income  \n",
       "count      21518.000000  21518.000000  2.151800e+04  \n",
       "mean           0.972581      0.080909  1.652299e+05  \n",
       "std            1.420343      0.272702  9.805898e+04  \n",
       "min            0.000000      0.000000  2.066726e+04  \n",
       "25%            0.000000      0.000000  1.077824e+05  \n",
       "50%            0.000000      0.000000  1.425944e+05  \n",
       "75%            1.000000      0.000000  1.956010e+05  \n",
       "max            4.000000      1.000000  2.265604e+06  "
      ]
     },
     "execution_count": 24,
     "metadata": {},
     "output_type": "execute_result"
    }
   ],
   "source": [
    "credit_data.describe()"
   ]
  },
  {
   "cell_type": "markdown",
   "metadata": {},
   "source": [
    "### Вывод"
   ]
  },
  {
   "cell_type": "markdown",
   "metadata": {},
   "source": [
    "Как предполагалось ранее пропуски были найдены в двух столбцах total_income и days_employed, при этом была выявлена их взаимосвязь друг с другом, то есть они пропущены в одни строчках. Первоначальная гипотеза о том, что это быть может безработные не подтвердилась, так как большая часть из них подрадают в категорию \"сотрудники\" - 50,8%, затем идут категория компаньоны 23,3%, потом \"пенсионеры\" - 18,9%, а замыкают список госслужащие (6,7%) и один предприниматель. \n",
    "Поэтому скорее всего пропуски можно отнести к сбоям в системе, или человеческому фактору, также это относится к найденным ошибкам в столбцах children и dob_years, предположу, что это скорее всего отпечатки.   \n",
    "\n",
    "В столбце days_employed были убраны отрицательные значения. Что касается пропущенных значений, то мною было предположено, что человек в среднем начинает работать с 19 лет, поэтому пропущенные значения для работающих граждан были заменены на возможное количество трудового стажа, которое расчитано было как разница между возрастом заемщика и числом  18, а затем мною был совершен перевод полученного значения в часы с помощью умножения на количество дней в году - 365. Так как пенсионеры уже не работают, такие значения подставлять было некорректно, поэтому я с помощью написанной функции рассчитал медиану по трудовому стажу всех пенсионеров и вставил полученные значения вместо пропущенных.\n",
    "\n",
    "В столбце total_income пропущенные значения были заменены на медиану общих доходов сгруппированнных на основе типов работника.\n",
    "\n",
    "В столбце dob_years найдены нулевые значения и была произведена замена их на предполагаемый  возраст, который был найден с помощью деления трудового стажа на количество дней в годы и прибавления числа 18, то есть я предположил, что человек начал работать с 19 лет.\n",
    "\n",
    "В столбце children выявлено значение 20, которое было заменено для людей, которые в браке / разведены / вдовцы, на 2, а для людей, которые не женаты, на 0, так как вероятность у таких людей иметь 2 детей очень маловероятно.\n"
   ]
  },
  {
   "cell_type": "markdown",
   "metadata": {},
   "source": [
    "### Замена типа данных <a name=\"replacing_data-type\"></a>"
   ]
  },
  {
   "cell_type": "markdown",
   "metadata": {},
   "source": [
    "Заменим вещественный тип данных на целочисленный в строчках dob_years, days_employe и total_income"
   ]
  },
  {
   "cell_type": "code",
   "execution_count": 25,
   "metadata": {},
   "outputs": [],
   "source": [
    "credit_data[\"dob_years\"] = credit_data[\"dob_years\"].astype(\"int\")\n",
    "credit_data[\"days_employed\"] = credit_data[\"days_employed\"].astype(\"int\")\n",
    "credit_data[\"total_income\"] = credit_data[\"total_income\"].astype(\"int\")"
   ]
  },
  {
   "cell_type": "markdown",
   "metadata": {},
   "source": [
    "### Вывод"
   ]
  },
  {
   "cell_type": "markdown",
   "metadata": {},
   "source": [
    "Для удобства чтения таблицы были заменены вещественные типы данных на целочисленные в строчках dob_years, days_employe и total_income. Для этого использовалась функция astype(\"int\")"
   ]
  },
  {
   "cell_type": "markdown",
   "metadata": {},
   "source": [
    "### Обработка дубликатов <a name=\"processing_duplicates\"></a>\n"
   ]
  },
  {
   "cell_type": "markdown",
   "metadata": {},
   "source": [
    "Dыявляем по уникальным значениям, что дубликаты содержатся в столбце \"education\" из-за отличия регистра нескольких букв "
   ]
  },
  {
   "cell_type": "code",
   "execution_count": 26,
   "metadata": {},
   "outputs": [
    {
     "data": {
      "text/plain": [
       "среднее                13744\n",
       "высшее                  4717\n",
       "СРЕДНЕЕ                  772\n",
       "Среднее                  711\n",
       "неоконченное высшее      668\n",
       "ВЫСШЕЕ                   274\n",
       "Высшее                   268\n",
       "начальное                250\n",
       "Неоконченное высшее       47\n",
       "НЕОКОНЧЕННОЕ ВЫСШЕЕ       29\n",
       "НАЧАЛЬНОЕ                 17\n",
       "Начальное                 15\n",
       "ученая степень             4\n",
       "Ученая степень             1\n",
       "УЧЕНАЯ СТЕПЕНЬ             1\n",
       "Name: education, dtype: int64"
      ]
     },
     "execution_count": 26,
     "metadata": {},
     "output_type": "execute_result"
    }
   ],
   "source": [
    "credit_data[\"education\"].value_counts()"
   ]
  },
  {
   "cell_type": "markdown",
   "metadata": {},
   "source": [
    "Приводим все к нижнему регистру"
   ]
  },
  {
   "cell_type": "code",
   "execution_count": 27,
   "metadata": {},
   "outputs": [],
   "source": [
    "credit_data[\"education\"] = credit_data[\"education\"].str.lower() "
   ]
  },
  {
   "cell_type": "markdown",
   "metadata": {},
   "source": [
    "Проверяем, что дубликаты все ушли"
   ]
  },
  {
   "cell_type": "code",
   "execution_count": 28,
   "metadata": {},
   "outputs": [
    {
     "data": {
      "text/plain": [
       "среднее                15227\n",
       "высшее                  5259\n",
       "неоконченное высшее      744\n",
       "начальное                282\n",
       "ученая степень             6\n",
       "Name: education, dtype: int64"
      ]
     },
     "execution_count": 28,
     "metadata": {},
     "output_type": "execute_result"
    }
   ],
   "source": [
    "credit_data[\"education\"].value_counts()"
   ]
  },
  {
   "cell_type": "markdown",
   "metadata": {},
   "source": [
    "При проверки столбца family_status одно значение было написано с большой буквы"
   ]
  },
  {
   "cell_type": "code",
   "execution_count": 29,
   "metadata": {},
   "outputs": [
    {
     "data": {
      "text/plain": [
       "женат / замужем          12376\n",
       "гражданский брак          4175\n",
       "Не женат / не замужем     2812\n",
       "в разводе                 1195\n",
       "вдовец / вдова             960\n",
       "Name: family_status, dtype: int64"
      ]
     },
     "execution_count": 29,
     "metadata": {},
     "output_type": "execute_result"
    }
   ],
   "source": [
    "credit_data[\"family_status\"].value_counts()"
   ]
  },
  {
   "cell_type": "markdown",
   "metadata": {},
   "source": [
    "Приводим все к единому стилю, чтобы в дальнейшем избежать ошибок"
   ]
  },
  {
   "cell_type": "code",
   "execution_count": 30,
   "metadata": {},
   "outputs": [],
   "source": [
    "credit_data[\"family_status\"] = credit_data[\"family_status\"].str.lower() "
   ]
  },
  {
   "cell_type": "markdown",
   "metadata": {},
   "source": [
    "### Вывод"
   ]
  },
  {
   "cell_type": "markdown",
   "metadata": {},
   "source": [
    "Были выявлены с помощью функции value_counts() дубликаты в столбце \"education\" из-за отличия регистра нескольких букв, данная ошибка была исправлена с помощью функции .str.lower(), которая привела все к нижнему регистру.\n",
    "Для красоты в столбце family_status привел все к единому стилю, так как значение \"Не женат / не замужем\" начиналось с большой буквы"
   ]
  },
  {
   "cell_type": "markdown",
   "metadata": {},
   "source": [
    "### Лемматизация <a name=\"lemmatization\"></a>"
   ]
  },
  {
   "cell_type": "markdown",
   "metadata": {},
   "source": [
    "Создадим функцию, которая лемматизирует значения из заданного столбца таблицы "
   ]
  },
  {
   "cell_type": "code",
   "execution_count": 31,
   "metadata": {
    "scrolled": true
   },
   "outputs": [],
   "source": [
    "def purpose_new(purpose):\n",
    "    lemmatize = \"\".join(m.lemmatize(purpose))\n",
    "    return lemmatize"
   ]
  },
  {
   "cell_type": "markdown",
   "metadata": {},
   "source": [
    "Применение созданной функции к столбцу purpose с помощью функции apply(), на основе чего создается новый столбец purpose_new с леммами"
   ]
  },
  {
   "cell_type": "code",
   "execution_count": 32,
   "metadata": {},
   "outputs": [],
   "source": [
    "credit_data['purpose_new'] = credit_data['purpose'].apply(purpose_new)"
   ]
  },
  {
   "cell_type": "markdown",
   "metadata": {},
   "source": [
    "Проверяем работу функции"
   ]
  },
  {
   "cell_type": "code",
   "execution_count": 33,
   "metadata": {},
   "outputs": [
    {
     "data": {
      "text/html": [
       "<div>\n",
       "<style scoped>\n",
       "    .dataframe tbody tr th:only-of-type {\n",
       "        vertical-align: middle;\n",
       "    }\n",
       "\n",
       "    .dataframe tbody tr th {\n",
       "        vertical-align: top;\n",
       "    }\n",
       "\n",
       "    .dataframe thead th {\n",
       "        text-align: right;\n",
       "    }\n",
       "</style>\n",
       "<table border=\"1\" class=\"dataframe\">\n",
       "  <thead>\n",
       "    <tr style=\"text-align: right;\">\n",
       "      <th></th>\n",
       "      <th>children</th>\n",
       "      <th>days_employed</th>\n",
       "      <th>dob_years</th>\n",
       "      <th>education</th>\n",
       "      <th>education_id</th>\n",
       "      <th>family_status</th>\n",
       "      <th>family_status_id</th>\n",
       "      <th>gender</th>\n",
       "      <th>income_type</th>\n",
       "      <th>debt</th>\n",
       "      <th>total_income</th>\n",
       "      <th>purpose</th>\n",
       "      <th>purpose_new</th>\n",
       "    </tr>\n",
       "  </thead>\n",
       "  <tbody>\n",
       "    <tr>\n",
       "      <td>0</td>\n",
       "      <td>1</td>\n",
       "      <td>8437</td>\n",
       "      <td>42</td>\n",
       "      <td>высшее</td>\n",
       "      <td>0</td>\n",
       "      <td>женат / замужем</td>\n",
       "      <td>0</td>\n",
       "      <td>F</td>\n",
       "      <td>сотрудник</td>\n",
       "      <td>0</td>\n",
       "      <td>253875</td>\n",
       "      <td>покупка жилья</td>\n",
       "      <td>покупка жилье\\n</td>\n",
       "    </tr>\n",
       "    <tr>\n",
       "      <td>1</td>\n",
       "      <td>1</td>\n",
       "      <td>4024</td>\n",
       "      <td>36</td>\n",
       "      <td>среднее</td>\n",
       "      <td>1</td>\n",
       "      <td>женат / замужем</td>\n",
       "      <td>0</td>\n",
       "      <td>F</td>\n",
       "      <td>сотрудник</td>\n",
       "      <td>0</td>\n",
       "      <td>112080</td>\n",
       "      <td>приобретение автомобиля</td>\n",
       "      <td>приобретение автомобиль\\n</td>\n",
       "    </tr>\n",
       "    <tr>\n",
       "      <td>2</td>\n",
       "      <td>0</td>\n",
       "      <td>5623</td>\n",
       "      <td>33</td>\n",
       "      <td>среднее</td>\n",
       "      <td>1</td>\n",
       "      <td>женат / замужем</td>\n",
       "      <td>0</td>\n",
       "      <td>M</td>\n",
       "      <td>сотрудник</td>\n",
       "      <td>0</td>\n",
       "      <td>145885</td>\n",
       "      <td>покупка жилья</td>\n",
       "      <td>покупка жилье\\n</td>\n",
       "    </tr>\n",
       "    <tr>\n",
       "      <td>3</td>\n",
       "      <td>3</td>\n",
       "      <td>4124</td>\n",
       "      <td>32</td>\n",
       "      <td>среднее</td>\n",
       "      <td>1</td>\n",
       "      <td>женат / замужем</td>\n",
       "      <td>0</td>\n",
       "      <td>M</td>\n",
       "      <td>сотрудник</td>\n",
       "      <td>0</td>\n",
       "      <td>267628</td>\n",
       "      <td>дополнительное образование</td>\n",
       "      <td>дополнительный образование\\n</td>\n",
       "    </tr>\n",
       "    <tr>\n",
       "      <td>4</td>\n",
       "      <td>0</td>\n",
       "      <td>11342</td>\n",
       "      <td>53</td>\n",
       "      <td>среднее</td>\n",
       "      <td>1</td>\n",
       "      <td>гражданский брак</td>\n",
       "      <td>1</td>\n",
       "      <td>F</td>\n",
       "      <td>пенсионер</td>\n",
       "      <td>0</td>\n",
       "      <td>158616</td>\n",
       "      <td>сыграть свадьбу</td>\n",
       "      <td>сыграть свадьба\\n</td>\n",
       "    </tr>\n",
       "  </tbody>\n",
       "</table>\n",
       "</div>"
      ],
      "text/plain": [
       "   children  days_employed  dob_years education  education_id  \\\n",
       "0         1           8437         42    высшее             0   \n",
       "1         1           4024         36   среднее             1   \n",
       "2         0           5623         33   среднее             1   \n",
       "3         3           4124         32   среднее             1   \n",
       "4         0          11342         53   среднее             1   \n",
       "\n",
       "      family_status  family_status_id gender income_type  debt  total_income  \\\n",
       "0   женат / замужем                 0      F   сотрудник     0        253875   \n",
       "1   женат / замужем                 0      F   сотрудник     0        112080   \n",
       "2   женат / замужем                 0      M   сотрудник     0        145885   \n",
       "3   женат / замужем                 0      M   сотрудник     0        267628   \n",
       "4  гражданский брак                 1      F   пенсионер     0        158616   \n",
       "\n",
       "                      purpose                   purpose_new  \n",
       "0               покупка жилья               покупка жилье\\n  \n",
       "1     приобретение автомобиля     приобретение автомобиль\\n  \n",
       "2               покупка жилья               покупка жилье\\n  \n",
       "3  дополнительное образование  дополнительный образование\\n  \n",
       "4             сыграть свадьбу             сыграть свадьба\\n  "
      ]
     },
     "execution_count": 33,
     "metadata": {},
     "output_type": "execute_result"
    }
   ],
   "source": [
    "credit_data.head()"
   ]
  },
  {
   "cell_type": "markdown",
   "metadata": {},
   "source": [
    "### Вывод"
   ]
  },
  {
   "cell_type": "markdown",
   "metadata": {},
   "source": [
    "Для дальнейшей категоризации данных, чтобы можно было бы выделить по столбцу \"purpose\" более редкие значения был применен метод лемматизации, который приводит слова к его словарной форме (лемме). Для этого была создана функция которая лемматизирует значения из заданного столбца таблицы и затем с помощью функции apply() данную функцию применил к столбцу purpose. В таблице образовалась новый столбец  purpose_new с леммами. \n"
   ]
  },
  {
   "cell_type": "markdown",
   "metadata": {},
   "source": [
    "### Категоризация данных <a name=\"categorization\"></a>"
   ]
  },
  {
   "cell_type": "markdown",
   "metadata": {},
   "source": [
    "Сделал функцию, которая категоризирует цели на четыре большие группы \"автомобиль\", \"свадьба\", \"образование\" и \"жилье\" на основе полученных леммов\n"
   ]
  },
  {
   "cell_type": "code",
   "execution_count": 34,
   "metadata": {},
   "outputs": [],
   "source": [
    "def purpose_group(purpose):\n",
    "    if \"автомобиль\" in purpose:\n",
    "        return \"автомобиль\"\n",
    "    elif \"свадьба\" in purpose:\n",
    "        return \"свадьба\"\n",
    "    elif \"образование\" in purpose:\n",
    "         return \"образование\"\n",
    "    elif \"жилье\" in purpose or \"недвижимость\" in purpose:\n",
    "         return \"жилье\"\n",
    "    return 'Нет категории' "
   ]
  },
  {
   "cell_type": "markdown",
   "metadata": {},
   "source": [
    "Применяем функцию к столбцу purpose_new с леммами"
   ]
  },
  {
   "cell_type": "code",
   "execution_count": 35,
   "metadata": {},
   "outputs": [],
   "source": [
    "credit_data['purpose_target'] = credit_data['purpose_new'].apply(purpose_group)"
   ]
  },
  {
   "cell_type": "markdown",
   "metadata": {},
   "source": [
    "Сделал функцию, которая категоризирует количество детей на следующие группы \"нет детей\", \"есть один ребенок\" и \"больше одного ребенка\"  "
   ]
  },
  {
   "cell_type": "code",
   "execution_count": 36,
   "metadata": {},
   "outputs": [],
   "source": [
    "def presence_children(children):\n",
    "    if children == 0:\n",
    "         return \"нет детей\"\n",
    "    elif children == 1:\n",
    "        return \"есть один ребенок\"\n",
    "    return \"больше одного ребенка\""
   ]
  },
  {
   "cell_type": "markdown",
   "metadata": {},
   "source": [
    "Применяем функцию к столбцу children с леммами"
   ]
  },
  {
   "cell_type": "code",
   "execution_count": 37,
   "metadata": {},
   "outputs": [],
   "source": [
    "credit_data['presence_children'] = credit_data['children'].apply(presence_children)"
   ]
  },
  {
   "cell_type": "markdown",
   "metadata": {},
   "source": [
    "Создаем словарь с тремя группами: \"высокий достаток\", \"чуть выше среднего\", \"средний достаток\", в котором прописал значение, с которого начинается даннная категория.\n",
    "Делаем функцию, которая категоризирует заемщиков на основе их дохода, при этом используется словарь для отнесения каждого заемщика к конкретной категории.\n"
   ]
  },
  {
   "cell_type": "code",
   "execution_count": 38,
   "metadata": {},
   "outputs": [
    {
     "data": {
      "text/plain": [
       "142594.0"
      ]
     },
     "execution_count": 38,
     "metadata": {},
     "output_type": "execute_result"
    }
   ],
   "source": [
    "credit_data['total_income'].median()"
   ]
  },
  {
   "cell_type": "code",
   "execution_count": 39,
   "metadata": {},
   "outputs": [
    {
     "data": {
      "text/plain": [
       "227633.71351555848"
      ]
     },
     "execution_count": 39,
     "metadata": {},
     "output_type": "execute_result"
    }
   ],
   "source": [
    "credit_data.loc[credit_data['total_income']> 143000, 'total_income'].mean()"
   ]
  },
  {
   "cell_type": "code",
   "execution_count": 40,
   "metadata": {},
   "outputs": [
    {
     "data": {
      "text/plain": [
       "104946.114938328"
      ]
     },
     "execution_count": 40,
     "metadata": {},
     "output_type": "execute_result"
    }
   ],
   "source": [
    "credit_data.loc[credit_data['total_income']< 143000, 'total_income'].mean()"
   ]
  },
  {
   "cell_type": "code",
   "execution_count": 41,
   "metadata": {},
   "outputs": [],
   "source": [
    "d = dict([(\"высокий достаток\", 228000), (\"выше среднего заработка\", 143000), (\"ниже среднего заработка\", 104000)])\n",
    "\n",
    "def category_creditors(income):\n",
    "    if income > d[\"высокий достаток\"]:\n",
    "        return \"люди с высоким достатком\"\n",
    "    elif income > d[\"выше среднего заработка\"]:\n",
    "        return \"люди с чуть выше средним достатком\"\n",
    "    elif income > d[\"ниже среднего заработка\"]:\n",
    "        return \"люди с чуть ниже средним достатком\"\n",
    "    return \"люди с низким достатком\""
   ]
  },
  {
   "cell_type": "markdown",
   "metadata": {},
   "source": [
    "Применил функцию к столбцу category_creditors"
   ]
  },
  {
   "cell_type": "code",
   "execution_count": 42,
   "metadata": {},
   "outputs": [],
   "source": [
    "credit_data['category_creditors'] = credit_data['total_income'].apply(category_creditors)"
   ]
  },
  {
   "cell_type": "code",
   "execution_count": 43,
   "metadata": {},
   "outputs": [
    {
     "data": {
      "text/plain": [
       "люди с чуть выше средним достатком    6950\n",
       "люди с чуть ниже средним достатком    5992\n",
       "люди с низким достатком               4953\n",
       "люди с высоким достатком              3623\n",
       "Name: category_creditors, dtype: int64"
      ]
     },
     "execution_count": 43,
     "metadata": {},
     "output_type": "execute_result"
    }
   ],
   "source": [
    "#проверил на уникальные значения\n",
    "credit_data['category_creditors'].value_counts()"
   ]
  },
  {
   "cell_type": "markdown",
   "metadata": {},
   "source": [
    "### Вывод"
   ]
  },
  {
   "cell_type": "markdown",
   "metadata": {},
   "source": [
    "Исходя из поставленных передо мной вопросов я решил сделать три классификации:\n",
    "1. классификация по целям на следующие группы - <b>\"автомобиль\", \"свадьба\", \"образование\" и \"жилье\"</b> на основе;\n",
    "2. классификация по количеству детей на следующие группы - <b>\"нет детей\", \"есть один ребенок\" и \"больше одного\"</b>;\n",
    "3. классификация по уровню доходов заемщика на следующие группы - <b>\"высокий достаток\" (от 228000 рублей), \"чуть выше среднего\" (от 143000 рублей), \"чуть ниже среднего\" (от 104000 рублей) и \"люди с низким достатком\" (ниже 104000 рублей)</b>. Данные были получены на основе полученной медианы по доходам данных. На основе полученной медианы находим среднее значение по людям, у которых доходы выше среднего и ниже среднего.\n",
    "\n",
    "Для каждой классификации была создана функция, на вход которой попадает определенное значение, а возвращает она категорию заемщика. При этом в случае классификации по уровню доходов заемщика был создан словарь, так как в качестве отсева использовались числа. Поэтому было уместно создать словарь.\n",
    "Затем в каждом случае использовал функцию apply() к конкретномe столбцу, которая брала значение столбца датафрейма и применяла к нему функцию из своего аргумента. Таким образом в таблице появились три новых столбца - category_creditors, presence_children и purpose_target. \n",
    "   \n",
    "\n",
    "\n"
   ]
  },
  {
   "cell_type": "markdown",
   "metadata": {},
   "source": [
    "## Ответьте на вопросы <a name=\"questions\"></a>"
   ]
  },
  {
   "cell_type": "markdown",
   "metadata": {},
   "source": [
    "- Есть ли зависимость между наличием детей и возвратом кредита в срок?"
   ]
  },
  {
   "cell_type": "markdown",
   "metadata": {},
   "source": [
    "Группировка по наличию детей без  разделения группы \"больше одного ребенка\" с использованием функции agg(), которая применяет к столбцу \"debt\"  функцию sum(), count() "
   ]
  },
  {
   "cell_type": "code",
   "execution_count": 44,
   "metadata": {
    "scrolled": true
   },
   "outputs": [],
   "source": [
    "children_table = credit_data.groupby([\"presence_children\"]).agg({'debt':['sum', 'count']}).reset_index()"
   ]
  },
  {
   "cell_type": "markdown",
   "metadata": {},
   "source": [
    "Создание нового столбца, который рассчитывает процент невозврата по кредиту.\n",
    "Проверка таблицы."
   ]
  },
  {
   "cell_type": "code",
   "execution_count": 45,
   "metadata": {},
   "outputs": [
    {
     "data": {
      "text/html": [
       "<div>\n",
       "<style scoped>\n",
       "    .dataframe tbody tr th:only-of-type {\n",
       "        vertical-align: middle;\n",
       "    }\n",
       "\n",
       "    .dataframe tbody tr th {\n",
       "        vertical-align: top;\n",
       "    }\n",
       "\n",
       "    .dataframe thead tr th {\n",
       "        text-align: left;\n",
       "    }\n",
       "</style>\n",
       "<table border=\"1\" class=\"dataframe\">\n",
       "  <thead>\n",
       "    <tr>\n",
       "      <th></th>\n",
       "      <th>presence_children</th>\n",
       "      <th colspan=\"2\" halign=\"left\">debt</th>\n",
       "      <th>percentages_non-repayment</th>\n",
       "    </tr>\n",
       "    <tr>\n",
       "      <th></th>\n",
       "      <th></th>\n",
       "      <th>sum</th>\n",
       "      <th>count</th>\n",
       "      <th></th>\n",
       "    </tr>\n",
       "  </thead>\n",
       "  <tbody>\n",
       "    <tr>\n",
       "      <td>0</td>\n",
       "      <td>больше одного ребенка</td>\n",
       "      <td>232</td>\n",
       "      <td>2501</td>\n",
       "      <td>9.276289</td>\n",
       "    </tr>\n",
       "    <tr>\n",
       "      <td>1</td>\n",
       "      <td>есть один ребенок</td>\n",
       "      <td>445</td>\n",
       "      <td>4864</td>\n",
       "      <td>9.148849</td>\n",
       "    </tr>\n",
       "    <tr>\n",
       "      <td>2</td>\n",
       "      <td>нет детей</td>\n",
       "      <td>1064</td>\n",
       "      <td>14153</td>\n",
       "      <td>7.517841</td>\n",
       "    </tr>\n",
       "  </tbody>\n",
       "</table>\n",
       "</div>"
      ],
      "text/plain": [
       "       presence_children  debt        percentages_non-repayment\n",
       "                           sum  count                          \n",
       "0  больше одного ребенка   232   2501                  9.276289\n",
       "1      есть один ребенок   445   4864                  9.148849\n",
       "2              нет детей  1064  14153                  7.517841"
      ]
     },
     "execution_count": 45,
     "metadata": {},
     "output_type": "execute_result"
    }
   ],
   "source": [
    "children_table['percentages_non-repayment'] = children_table['debt']['sum'] / children_table['debt']['count'] * 100\n",
    "children_table"
   ]
  },
  {
   "cell_type": "markdown",
   "metadata": {},
   "source": [
    "Группировка по наличию детей с разделением по количеству детей группы \"больше одного ребенка\" с использованием функции agg(), которая применяет к столбцу \"debt\"  функцию sum(), count() "
   ]
  },
  {
   "cell_type": "code",
   "execution_count": 46,
   "metadata": {},
   "outputs": [],
   "source": [
    "children_table1 = credit_data.groupby([\"presence_children\", \"children\"]).agg({'debt':['sum', 'count']}).reset_index()\n",
    "\n"
   ]
  },
  {
   "cell_type": "markdown",
   "metadata": {},
   "source": [
    "Создание нового столбца, который рассчитывает процент невозврата по кредиту\n",
    "Проверка таблицы."
   ]
  },
  {
   "cell_type": "code",
   "execution_count": 47,
   "metadata": {},
   "outputs": [
    {
     "data": {
      "text/html": [
       "<div>\n",
       "<style scoped>\n",
       "    .dataframe tbody tr th:only-of-type {\n",
       "        vertical-align: middle;\n",
       "    }\n",
       "\n",
       "    .dataframe tbody tr th {\n",
       "        vertical-align: top;\n",
       "    }\n",
       "\n",
       "    .dataframe thead tr th {\n",
       "        text-align: left;\n",
       "    }\n",
       "</style>\n",
       "<table border=\"1\" class=\"dataframe\">\n",
       "  <thead>\n",
       "    <tr>\n",
       "      <th></th>\n",
       "      <th>presence_children</th>\n",
       "      <th colspan=\"2\" halign=\"left\">debt</th>\n",
       "      <th>percentages_non-repayment</th>\n",
       "    </tr>\n",
       "    <tr>\n",
       "      <th></th>\n",
       "      <th></th>\n",
       "      <th>sum</th>\n",
       "      <th>count</th>\n",
       "      <th></th>\n",
       "    </tr>\n",
       "  </thead>\n",
       "  <tbody>\n",
       "    <tr>\n",
       "      <td>0</td>\n",
       "      <td>больше одного ребенка</td>\n",
       "      <td>232</td>\n",
       "      <td>2501</td>\n",
       "      <td>9.276289</td>\n",
       "    </tr>\n",
       "    <tr>\n",
       "      <td>1</td>\n",
       "      <td>есть один ребенок</td>\n",
       "      <td>445</td>\n",
       "      <td>4864</td>\n",
       "      <td>9.148849</td>\n",
       "    </tr>\n",
       "    <tr>\n",
       "      <td>2</td>\n",
       "      <td>нет детей</td>\n",
       "      <td>1064</td>\n",
       "      <td>14153</td>\n",
       "      <td>7.517841</td>\n",
       "    </tr>\n",
       "  </tbody>\n",
       "</table>\n",
       "</div>"
      ],
      "text/plain": [
       "       presence_children  debt        percentages_non-repayment\n",
       "                           sum  count                          \n",
       "0  больше одного ребенка   232   2501                  9.276289\n",
       "1      есть один ребенок   445   4864                  9.148849\n",
       "2              нет детей  1064  14153                  7.517841"
      ]
     },
     "execution_count": 47,
     "metadata": {},
     "output_type": "execute_result"
    }
   ],
   "source": [
    "children_table1['percentages_non-repayment'] = children_table1['debt']['sum'] / children_table1['debt']['count'] * 100\n",
    "children_table"
   ]
  },
  {
   "cell_type": "markdown",
   "metadata": {},
   "source": [
    "### Вывод"
   ]
  },
  {
   "cell_type": "markdown",
   "metadata": {},
   "source": [
    "В целом зависимость подтвердилась, так как согласно полученным данным, чем больше детей, тем больше процент невозврата кредита в срок, так данный показатель по группе \"больше одного ребенка\" составил 9.3%, на втором месте с одним ребенком (9,14%). При этом при рассмотрении более детально группы \"больше одного ребенка\", наибольший процент невозврата кредита в срок у заемщиков, у которых четыре ребенка - 9,75% и у которых два ребенка -9.47%. Но здесь необходимо понимать, что  не так много людей у которых 4 ребенка, следовательно таких заемщиков очень немного. Самые дисциплинированные по выплате кредита являются заемщики, которые не имеют детей, по ним самый низкий процент невозврата - 7,5%.\n",
    "\n",
    "При этом выбор метода agg для выявления зависимостей неслучаен, так как он позволяет создать дополнительный стоблец по проценту невозврата. При этом можно было бы использовать функцию для нахождения процента mean(), но так как в любом случае пришлось для удобства умножать на 100 полученное значение, мною было решено найти процент невозврата как отношение количества заемщиков, по которым есть задолженность по кредиту, к общему количеству заещиков с разделением их на группы. "
   ]
  },
  {
   "cell_type": "markdown",
   "metadata": {},
   "source": [
    "- Есть ли зависимость между семейным положением и возвратом кредита в срок?"
   ]
  },
  {
   "cell_type": "markdown",
   "metadata": {},
   "source": [
    "Группировка по семейному положению с использованием функции agg(), которая применяет к столбцу \"debt\"  функцию sum(), count()"
   ]
  },
  {
   "cell_type": "code",
   "execution_count": 48,
   "metadata": {},
   "outputs": [],
   "source": [
    "family_table = credit_data.groupby([\"family_status\"]).agg({'debt':['sum', 'count']}).reset_index()\n"
   ]
  },
  {
   "cell_type": "markdown",
   "metadata": {},
   "source": [
    "Создание нового столбца, который рассчитывает процент невозврата по кредиту"
   ]
  },
  {
   "cell_type": "code",
   "execution_count": 49,
   "metadata": {},
   "outputs": [],
   "source": [
    "family_table['percentages_non-repayment'] = family_table['debt']['sum'] / family_table['debt']['count'] * 100\n"
   ]
  },
  {
   "cell_type": "markdown",
   "metadata": {},
   "source": [
    "#вызов таблицы с сортировкой по столбцу percentages_non-repayment с убыванием"
   ]
  },
  {
   "cell_type": "code",
   "execution_count": 50,
   "metadata": {},
   "outputs": [
    {
     "data": {
      "text/html": [
       "<div>\n",
       "<style scoped>\n",
       "    .dataframe tbody tr th:only-of-type {\n",
       "        vertical-align: middle;\n",
       "    }\n",
       "\n",
       "    .dataframe tbody tr th {\n",
       "        vertical-align: top;\n",
       "    }\n",
       "\n",
       "    .dataframe thead tr th {\n",
       "        text-align: left;\n",
       "    }\n",
       "</style>\n",
       "<table border=\"1\" class=\"dataframe\">\n",
       "  <thead>\n",
       "    <tr>\n",
       "      <th></th>\n",
       "      <th>family_status</th>\n",
       "      <th colspan=\"2\" halign=\"left\">debt</th>\n",
       "      <th>percentages_non-repayment</th>\n",
       "    </tr>\n",
       "    <tr>\n",
       "      <th></th>\n",
       "      <th></th>\n",
       "      <th>sum</th>\n",
       "      <th>count</th>\n",
       "      <th></th>\n",
       "    </tr>\n",
       "  </thead>\n",
       "  <tbody>\n",
       "    <tr>\n",
       "      <td>4</td>\n",
       "      <td>не женат / не замужем</td>\n",
       "      <td>274</td>\n",
       "      <td>2812</td>\n",
       "      <td>9.743954</td>\n",
       "    </tr>\n",
       "    <tr>\n",
       "      <td>2</td>\n",
       "      <td>гражданский брак</td>\n",
       "      <td>388</td>\n",
       "      <td>4175</td>\n",
       "      <td>9.293413</td>\n",
       "    </tr>\n",
       "    <tr>\n",
       "      <td>3</td>\n",
       "      <td>женат / замужем</td>\n",
       "      <td>931</td>\n",
       "      <td>12376</td>\n",
       "      <td>7.522624</td>\n",
       "    </tr>\n",
       "    <tr>\n",
       "      <td>0</td>\n",
       "      <td>в разводе</td>\n",
       "      <td>85</td>\n",
       "      <td>1195</td>\n",
       "      <td>7.112971</td>\n",
       "    </tr>\n",
       "    <tr>\n",
       "      <td>1</td>\n",
       "      <td>вдовец / вдова</td>\n",
       "      <td>63</td>\n",
       "      <td>960</td>\n",
       "      <td>6.562500</td>\n",
       "    </tr>\n",
       "  </tbody>\n",
       "</table>\n",
       "</div>"
      ],
      "text/plain": [
       "           family_status debt        percentages_non-repayment\n",
       "                          sum  count                          \n",
       "4  не женат / не замужем  274   2812                  9.743954\n",
       "2       гражданский брак  388   4175                  9.293413\n",
       "3        женат / замужем  931  12376                  7.522624\n",
       "0              в разводе   85   1195                  7.112971\n",
       "1         вдовец / вдова   63    960                  6.562500"
      ]
     },
     "execution_count": 50,
     "metadata": {},
     "output_type": "execute_result"
    }
   ],
   "source": [
    "family_table.sort_values(by=\"percentages_non-repayment\", ascending=False)"
   ]
  },
  {
   "cell_type": "markdown",
   "metadata": {},
   "source": [
    "### Вывод"
   ]
  },
  {
   "cell_type": "markdown",
   "metadata": {},
   "source": [
    "В целом зависимость не подтвердилась, так как больше всего не уплачивают кредит в срок заемщики, которые являются холостыми (9,7%) или те кто в гражданском браке (9,3%), при этом меньше всего посроченности по платежам наблюдается по заемщикам, которые в разводе (7,1%) или являются вдовцами (6,5%). То есть нет четкой зависимости между тем, что человек является холостым / разведенным / вдовцом (то есть у него нет пары) или он/ она находится в официальном браке / гражданском браке. Хотя если посмотреть цифры, то больше всего кредита берут заемщики, находящиеся в браке, и в целом у них нормальный показатель по возврату в срок кредита - (7,5%). То есть данная группа является более благонадежной по сравнению с людьми, которые являются холостыми или которые в гражданском браке."
   ]
  },
  {
   "cell_type": "markdown",
   "metadata": {},
   "source": [
    "- Есть ли зависимость между уровнем дохода и возвратом кредита в срок?"
   ]
  },
  {
   "cell_type": "markdown",
   "metadata": {},
   "source": [
    "Группировка по уровню дохода с использованием функции agg(), которая применяет к столбцу \"debt\"  функцию sum(), count()"
   ]
  },
  {
   "cell_type": "code",
   "execution_count": 51,
   "metadata": {},
   "outputs": [],
   "source": [
    "income_table = credit_data.groupby([\"category_creditors\"]).agg({'debt':['sum', 'count']}).reset_index()"
   ]
  },
  {
   "cell_type": "markdown",
   "metadata": {},
   "source": [
    "Создание нового столбца, который рассчитывает процент невозврата по кредиту"
   ]
  },
  {
   "cell_type": "code",
   "execution_count": 52,
   "metadata": {},
   "outputs": [],
   "source": [
    "income_table['percentages_non-repayment'] = income_table['debt']['sum'] / income_table['debt']['count'] * 100"
   ]
  },
  {
   "cell_type": "markdown",
   "metadata": {},
   "source": [
    "Вызов таблицы с сортировкой по столбцу percentages_non-repayment с убыванием"
   ]
  },
  {
   "cell_type": "code",
   "execution_count": 53,
   "metadata": {},
   "outputs": [
    {
     "data": {
      "text/html": [
       "<div>\n",
       "<style scoped>\n",
       "    .dataframe tbody tr th:only-of-type {\n",
       "        vertical-align: middle;\n",
       "    }\n",
       "\n",
       "    .dataframe tbody tr th {\n",
       "        vertical-align: top;\n",
       "    }\n",
       "\n",
       "    .dataframe thead tr th {\n",
       "        text-align: left;\n",
       "    }\n",
       "</style>\n",
       "<table border=\"1\" class=\"dataframe\">\n",
       "  <thead>\n",
       "    <tr>\n",
       "      <th></th>\n",
       "      <th>category_creditors</th>\n",
       "      <th colspan=\"2\" halign=\"left\">debt</th>\n",
       "      <th>percentages_non-repayment</th>\n",
       "    </tr>\n",
       "    <tr>\n",
       "      <th></th>\n",
       "      <th></th>\n",
       "      <th>sum</th>\n",
       "      <th>count</th>\n",
       "      <th></th>\n",
       "    </tr>\n",
       "  </thead>\n",
       "  <tbody>\n",
       "    <tr>\n",
       "      <td>3</td>\n",
       "      <td>люди с чуть ниже средним достатком</td>\n",
       "      <td>526</td>\n",
       "      <td>5992</td>\n",
       "      <td>8.778371</td>\n",
       "    </tr>\n",
       "    <tr>\n",
       "      <td>2</td>\n",
       "      <td>люди с чуть выше средним достатком</td>\n",
       "      <td>568</td>\n",
       "      <td>6950</td>\n",
       "      <td>8.172662</td>\n",
       "    </tr>\n",
       "    <tr>\n",
       "      <td>1</td>\n",
       "      <td>люди с низким достатком</td>\n",
       "      <td>390</td>\n",
       "      <td>4953</td>\n",
       "      <td>7.874016</td>\n",
       "    </tr>\n",
       "    <tr>\n",
       "      <td>0</td>\n",
       "      <td>люди с высоким достатком</td>\n",
       "      <td>257</td>\n",
       "      <td>3623</td>\n",
       "      <td>7.093569</td>\n",
       "    </tr>\n",
       "  </tbody>\n",
       "</table>\n",
       "</div>"
      ],
      "text/plain": [
       "                   category_creditors debt       percentages_non-repayment\n",
       "                                       sum count                          \n",
       "3  люди с чуть ниже средним достатком  526  5992                  8.778371\n",
       "2  люди с чуть выше средним достатком  568  6950                  8.172662\n",
       "1             люди с низким достатком  390  4953                  7.874016\n",
       "0            люди с высоким достатком  257  3623                  7.093569"
      ]
     },
     "execution_count": 53,
     "metadata": {},
     "output_type": "execute_result"
    }
   ],
   "source": [
    "income_table.sort_values(by=\"percentages_non-repayment\", ascending=False)"
   ]
  },
  {
   "cell_type": "markdown",
   "metadata": {},
   "source": [
    "### Вывод"
   ]
  },
  {
   "cell_type": "markdown",
   "metadata": {},
   "source": [
    "- Как разные цели кредита влияют на его возврат в срок?"
   ]
  },
  {
   "cell_type": "markdown",
   "metadata": {},
   "source": [
    "Группировка по целям кредита с использованием функции agg(), которая применяет к столбцу \"debt\"  функцию sum(), count()"
   ]
  },
  {
   "cell_type": "code",
   "execution_count": 54,
   "metadata": {},
   "outputs": [],
   "source": [
    "purpose_table = credit_data.groupby([\"purpose_target\"]).agg({'debt':['sum', 'count']}).reset_index()"
   ]
  },
  {
   "cell_type": "markdown",
   "metadata": {},
   "source": [
    "Создание нового столбца, который рассчитывает процент невозврата по кредиту\n"
   ]
  },
  {
   "cell_type": "code",
   "execution_count": 55,
   "metadata": {},
   "outputs": [],
   "source": [
    "purpose_table['percentages_non-repayment'] = purpose_table['debt']['sum'] / purpose_table['debt']['count'] * 100"
   ]
  },
  {
   "cell_type": "markdown",
   "metadata": {},
   "source": [
    "Вызов таблицы с сортировкой по столбцу percentages_non-repayment с убыванием"
   ]
  },
  {
   "cell_type": "code",
   "execution_count": 56,
   "metadata": {},
   "outputs": [
    {
     "data": {
      "text/html": [
       "<div>\n",
       "<style scoped>\n",
       "    .dataframe tbody tr th:only-of-type {\n",
       "        vertical-align: middle;\n",
       "    }\n",
       "\n",
       "    .dataframe tbody tr th {\n",
       "        vertical-align: top;\n",
       "    }\n",
       "\n",
       "    .dataframe thead tr th {\n",
       "        text-align: left;\n",
       "    }\n",
       "</style>\n",
       "<table border=\"1\" class=\"dataframe\">\n",
       "  <thead>\n",
       "    <tr>\n",
       "      <th></th>\n",
       "      <th>purpose_target</th>\n",
       "      <th colspan=\"2\" halign=\"left\">debt</th>\n",
       "      <th>percentages_non-repayment</th>\n",
       "    </tr>\n",
       "    <tr>\n",
       "      <th></th>\n",
       "      <th></th>\n",
       "      <th>sum</th>\n",
       "      <th>count</th>\n",
       "      <th></th>\n",
       "    </tr>\n",
       "  </thead>\n",
       "  <tbody>\n",
       "    <tr>\n",
       "      <td>0</td>\n",
       "      <td>автомобиль</td>\n",
       "      <td>403</td>\n",
       "      <td>4315</td>\n",
       "      <td>9.339513</td>\n",
       "    </tr>\n",
       "    <tr>\n",
       "      <td>2</td>\n",
       "      <td>образование</td>\n",
       "      <td>370</td>\n",
       "      <td>4022</td>\n",
       "      <td>9.199403</td>\n",
       "    </tr>\n",
       "    <tr>\n",
       "      <td>3</td>\n",
       "      <td>свадьба</td>\n",
       "      <td>186</td>\n",
       "      <td>2347</td>\n",
       "      <td>7.925011</td>\n",
       "    </tr>\n",
       "    <tr>\n",
       "      <td>1</td>\n",
       "      <td>жилье</td>\n",
       "      <td>782</td>\n",
       "      <td>10834</td>\n",
       "      <td>7.218017</td>\n",
       "    </tr>\n",
       "  </tbody>\n",
       "</table>\n",
       "</div>"
      ],
      "text/plain": [
       "  purpose_target debt        percentages_non-repayment\n",
       "                  sum  count                          \n",
       "0     автомобиль  403   4315                  9.339513\n",
       "2    образование  370   4022                  9.199403\n",
       "3        свадьба  186   2347                  7.925011\n",
       "1          жилье  782  10834                  7.218017"
      ]
     },
     "execution_count": 56,
     "metadata": {},
     "output_type": "execute_result"
    }
   ],
   "source": [
    "purpose_table.sort_values(by=\"percentages_non-repayment\", ascending=False)"
   ]
  },
  {
   "cell_type": "markdown",
   "metadata": {},
   "source": [
    "### Вывод"
   ]
  },
  {
   "cell_type": "markdown",
   "metadata": {},
   "source": [
    "На удивление лучше всего возвращают кредит в срок заемщики, которые взяли ипотеку, хотя это самый \"дорогой\" вид кредита, так как стоимость квартиры отличается от стоимости автомобиля, образования и свадьбы. Хотя это можно объяснить тем, что штрафы по данному кредиту больней всего могут ударить по заемщику и в целом пока заемщик не выплатит в полном объеме ипотеку, квартира находится в залоге у банка.\n",
    "По кредиту на свадьбу маленький процент невозврата в срок (7,9%). Это можно объяснить тем, что сумма по данному виду кредита является небольшой, и в целом вдвоем его легко погасить. \n",
    "А вот самые \"ветреные\" заемщики это люди, которые берут в автокредит (процент невозврата  - 9,3%) и кредит на образование (процент невозврата - 9,2%). Скорее всего в данной группе невозвращают кредит молодые люди, у которых нет стабильного дохода или доход находится пока не на очень высоком уровне, но хочется иметь машину или получить образование."
   ]
  },
  {
   "cell_type": "markdown",
   "metadata": {},
   "source": [
    "### Шаг 4. Общий вывод  3"
   ]
  },
  {
   "cell_type": "markdown",
   "metadata": {},
   "source": [
    "На основе полученных данных от заказчика в лице кредитный отдел банка была рассмотрена взаимосвязь семейного положения, количество детей, уровень дохода и целей кредита на факт погашения кредита в срок. Данные включали в себя информацию о его семейном положении, количестве детей, образовании, трудовом стаже, его доходе, наличии или отсутствии задолженности по возврату кредитов и цели взятия кредита. \n",
    "\n",
    "После предобработки полученных данных, мною было решено сделать категоризацию по следующим группам: по наличию детей у заемщика (ни одного, один ребенок или больше одного ребенка, по целям (автомобиль, свадьба, образование и жилье) и по уровню доходов заемщика (высокий достаток, чуть выше среднего, чуть ниже среднего и низкий достаток). Данное разделение на группы позволило провести комплексный анализ. \n",
    "\n",
    "В рамках выполненной работы были получены следующие выводы:\n",
    " - взаимосвязь количество детей на факт погашения кредита в срок подтвердилась. Заемщики у которых более одного ребенка хуже всего возвращают кредит (процент невозврата составил 9.3%), при этом если детально рассмотреть данную группу, то хуже всего возвращают заемщики с четверьмя детьми (9,75%)и с двумя детьми. У заемщиков с одним ребенком процент невозврата тоже высокий (9,14%). Лучше всего возвращают кредит заемщики, у которых нет ребенка (процент невозврата составил 7.5%).  \n",
    " - взаимосвязь семейного положения на факт погашения кредита в срок не подтвердилась. Больше всего не уплачивают кредит в срок заемщики, которые являются холостыми (9,7%) или те кто в гражданском браке (9,3%), при этом меньше всего посроченности по платежам наблюдается по заемщикам, которые в разводе (7,1%) или являются вдовцами (6,5%). То есть нет четкой зависимости между тем, что человек является холостым / разведенным / вдовцом (то есть у него нет пары) или он/ она находится в официальном браке / гражданском браке.\n",
    " - взаимосвязь уровня дохода на факт погашения кредита в срок не подтвердилась. Люди с высоким достатком лучше всего платят по кредиту (процент невозврата - 7,09%), но в тоже время люди с низким достатком тоже относятся к благонадежным плательщикам (7,9%), что скорее всего обусловлено тем, что им дают небольшой кредит, который они в состоянии покрыть. Хуже всего платят в срок заемщики с чуть ниже средним достатком (8,85).\n",
    " - лучше всего возвращают кредит в срок заемщики, которые взяли ипотеку (процент невозврата 7,2%) или кредит на свадьбу (7,9%). Скорее всего это связано с тем, что люди осознанно уже берут кредит на покупку недвижимости или на свадьбу. А меньше всего возвращают в срок автокредит (9,3%) и кредит на образование (9,2%). Можно предположить, что больше всего в данных группах невозвращают кредит молодые люди, у которых нет стабильного дохода или доход находится пока не на очень высоком уровне, но хочется иметь машину или получить образование.\n",
    " \n",
    "Исходя из проанализированных данных можно составить портрет идеального заемщика:\n",
    "- без ребенка или с одним ребенком;\n",
    "- находится в официальном браке;\n",
    "- обладает высоким достатком;\n",
    "- цель кредита - покупка недвижимости."
   ]
  }
 ],
 "metadata": {
  "ExecuteTimeLog": [
   {
    "duration": 1070,
    "start_time": "2021-07-06T20:34:23.488Z"
   },
   {
    "duration": 920,
    "start_time": "2021-07-06T20:35:08.665Z"
   },
   {
    "duration": 66,
    "start_time": "2021-07-06T20:35:09.588Z"
   },
   {
    "duration": 16,
    "start_time": "2021-07-06T20:35:09.657Z"
   },
   {
    "duration": 71,
    "start_time": "2021-07-06T20:35:09.676Z"
   },
   {
    "duration": 12,
    "start_time": "2021-07-06T20:35:09.750Z"
   },
   {
    "duration": 7,
    "start_time": "2021-07-06T20:35:09.764Z"
   },
   {
    "duration": 26,
    "start_time": "2021-07-06T20:35:09.774Z"
   },
   {
    "duration": 97,
    "start_time": "2021-07-06T20:35:09.803Z"
   },
   {
    "duration": 12,
    "start_time": "2021-07-06T20:35:09.904Z"
   },
   {
    "duration": 6,
    "start_time": "2021-07-06T20:35:09.919Z"
   },
   {
    "duration": 10,
    "start_time": "2021-07-06T20:35:09.928Z"
   },
   {
    "duration": 11,
    "start_time": "2021-07-06T20:35:09.941Z"
   },
   {
    "duration": 53,
    "start_time": "2021-07-06T20:35:09.954Z"
   },
   {
    "duration": 10,
    "start_time": "2021-07-06T20:35:10.010Z"
   },
   {
    "duration": 21,
    "start_time": "2021-07-06T20:35:10.023Z"
   },
   {
    "duration": 13,
    "start_time": "2021-07-06T20:35:10.046Z"
   },
   {
    "duration": 42,
    "start_time": "2021-07-06T20:35:10.062Z"
   },
   {
    "duration": 9,
    "start_time": "2021-07-06T20:35:10.107Z"
   },
   {
    "duration": 13,
    "start_time": "2021-07-06T20:35:10.119Z"
   },
   {
    "duration": 8,
    "start_time": "2021-07-06T20:35:10.135Z"
   },
   {
    "duration": 62,
    "start_time": "2021-07-06T20:35:10.145Z"
   },
   {
    "duration": 18,
    "start_time": "2021-07-06T20:35:10.210Z"
   },
   {
    "duration": 10,
    "start_time": "2021-07-06T20:35:10.231Z"
   },
   {
    "duration": 71,
    "start_time": "2021-07-06T20:35:10.244Z"
   },
   {
    "duration": 7,
    "start_time": "2021-07-06T20:35:10.318Z"
   },
   {
    "duration": 10,
    "start_time": "2021-07-06T20:35:10.327Z"
   },
   {
    "duration": 17,
    "start_time": "2021-07-06T20:35:10.342Z"
   },
   {
    "duration": 45,
    "start_time": "2021-07-06T20:35:10.362Z"
   },
   {
    "duration": 13,
    "start_time": "2021-07-06T20:35:10.409Z"
   },
   {
    "duration": 20,
    "start_time": "2021-07-06T20:35:10.424Z"
   },
   {
    "duration": 10,
    "start_time": "2021-07-06T20:35:10.447Z"
   },
   {
    "duration": 4576,
    "start_time": "2021-07-06T20:35:10.459Z"
   },
   {
    "duration": 20,
    "start_time": "2021-07-06T20:35:15.038Z"
   },
   {
    "duration": 10,
    "start_time": "2021-07-06T20:35:15.061Z"
   },
   {
    "duration": 37,
    "start_time": "2021-07-06T20:35:15.073Z"
   },
   {
    "duration": 8,
    "start_time": "2021-07-06T20:35:15.113Z"
   },
   {
    "duration": 14,
    "start_time": "2021-07-06T20:35:15.123Z"
   },
   {
    "duration": 12,
    "start_time": "2021-07-06T20:35:15.140Z"
   },
   {
    "duration": 9,
    "start_time": "2021-07-06T20:35:15.154Z"
   },
   {
    "duration": 37,
    "start_time": "2021-07-06T20:35:15.165Z"
   },
   {
    "duration": 6,
    "start_time": "2021-07-06T20:35:15.204Z"
   },
   {
    "duration": 25,
    "start_time": "2021-07-06T20:35:15.212Z"
   },
   {
    "duration": 10,
    "start_time": "2021-07-06T20:35:15.239Z"
   },
   {
    "duration": 56,
    "start_time": "2021-07-06T20:35:15.252Z"
   },
   {
    "duration": 20,
    "start_time": "2021-07-06T20:35:15.310Z"
   },
   {
    "duration": 29,
    "start_time": "2021-07-06T20:35:15.332Z"
   },
   {
    "duration": 18,
    "start_time": "2021-07-06T20:35:15.363Z"
   },
   {
    "duration": 30,
    "start_time": "2021-07-06T20:35:15.383Z"
   },
   {
    "duration": 14,
    "start_time": "2021-07-06T20:35:15.415Z"
   },
   {
    "duration": 25,
    "start_time": "2021-07-06T20:35:15.431Z"
   },
   {
    "duration": 17,
    "start_time": "2021-07-06T20:35:15.459Z"
   },
   {
    "duration": 31,
    "start_time": "2021-07-06T20:35:15.478Z"
   },
   {
    "duration": 26,
    "start_time": "2021-07-06T20:35:15.511Z"
   },
   {
    "duration": 15,
    "start_time": "2021-07-06T20:35:15.539Z"
   },
   {
    "duration": 10,
    "start_time": "2021-07-06T20:35:15.556Z"
   },
   {
    "duration": 44,
    "start_time": "2021-07-06T20:35:15.568Z"
   }
  ],
  "kernelspec": {
   "display_name": "Python 3",
   "language": "python",
   "name": "python3"
  },
  "language_info": {
   "codemirror_mode": {
    "name": "ipython",
    "version": 3
   },
   "file_extension": ".py",
   "mimetype": "text/x-python",
   "name": "python",
   "nbconvert_exporter": "python",
   "pygments_lexer": "ipython3",
   "version": "3.8.5"
  },
  "toc": {
   "base_numbering": 1,
   "nav_menu": {},
   "number_sections": true,
   "sideBar": true,
   "skip_h1_title": true,
   "title_cell": "Table of Contents",
   "title_sidebar": "Contents",
   "toc_cell": false,
   "toc_position": {},
   "toc_section_display": true,
   "toc_window_display": false
  }
 },
 "nbformat": 4,
 "nbformat_minor": 2
}
