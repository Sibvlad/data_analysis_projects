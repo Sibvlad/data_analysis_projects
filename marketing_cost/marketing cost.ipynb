{
 "cells": [
  {
   "cell_type": "markdown",
   "metadata": {},
   "source": [
    "# Анализ маркетинговых расходов\n",
    "\n",
    "__Цель исследования__: помочь маркетологам снизить расходы — отказаться от невыгодных источников трафика и перераспределить бюджет.\n",
    "\n",
    "__Данные исследования__: данные Яндекс.Афиши с июня 2017 по конец мая 2018 года:\n",
    "- лог сервера с данными о посещениях сайта Яндекс.Афиши,\n",
    "- выгрузка всех заказов за этот период,\n",
    "- статистика рекламных расходов.\n",
    "\n",
    "__Необходимо изучить__:\n",
    "- как клиенты пользуются сервисом,\n",
    "- когда делают первые покупки на сайте,\n",
    "- сколько денег приносит компании каждый клиент,\n",
    "-  когда расходы на привлечение клиента окупаются.\n",
    "\n",
    "__Примечание__:Выручка измеряется в условных единицах — у.е.\n",
    "\n",
    "__Выполненные задачи в рамках проекта:__\n",
    "- подготовлены данные для анализа;\n",
    "- подсчитаны продуктовые метрики (DAU, WAU,MAU и Retention Rate с использованием когортного анализа)\n",
    "- подсчитаны метрики электронной коммерции (с помощью когортного анализа подсчитано среднее количество покупок, средний чек и LTV на покупателя по когортам);\n",
    "- подсчитаны маркетинговые метрики (рассчитан средний CAC, ROMI по когортам в разрезе источников);\n",
    "- построены графики изменения каждой метрики во времени;\n",
    "- cформулированы выводы и рекомендации по определению источники трафика, на которые маркетологам стоит делать упор."
   ]
  },
  {
   "cell_type": "markdown",
   "metadata": {},
   "source": [
    "## Содержание\n",
    "<ul style=\"list-style:none; text-decoration: none\">\n",
    "    <li><a style=\"text-decoration: none\" href=\"#introduction\">1. Изучение общей информации</a></li>\n",
    "    <li><a style=\"text-decoration: none\" href=\"#data_pre-processing\">2. Расчет метрик и построение графиков</a></li>\n",
    "    <ul>\n",
    "        <li><a style=\"text-decoration: none\" href=\"#product_metrics\">Продуктовые метрики</a></li>\n",
    "        <li><a style=\"text-decoration: none\" href=\"#e-commerce_metrics\">Метрики электронной коммерции</a></li>\n",
    "        <li><a style=\"text-decoration: none\" href=\"#marketing_metrics\">Маркетинговые метрики</a></li>\n",
    "    </ul>  \n",
    "    <li><a style=\"text-decoration: none\" href=\"#conclusion\">3. Сформулируйте выводы и рекомендации</a></li>\n",
    "</ul>"
   ]
  },
  {
   "cell_type": "markdown",
   "metadata": {},
   "source": [
    "## 1. Изучение общей информации <a name=\"introduction\"></a> "
   ]
  },
  {
   "cell_type": "code",
   "execution_count": 1,
   "metadata": {},
   "outputs": [],
   "source": [
    "#Импортирую библиотеку\n",
    "import plotly.express as px\n",
    "import pandas as pd\n",
    "import numpy as np\n",
    "import matplotlib.pyplot as plt\n",
    "from scipy import stats as st\n",
    "import seaborn as sns"
   ]
  },
  {
   "cell_type": "markdown",
   "metadata": {},
   "source": [
    "Импортирую библиотеку Pandas и с помощью метода .read_csv() создаю три новых DataFrame - visits, orders и costs."
   ]
  },
  {
   "cell_type": "code",
   "execution_count": 2,
   "metadata": {},
   "outputs": [],
   "source": [
    "visits = pd.read_csv('visits_log.csv')\n",
    "orders = pd.read_csv('orders_log.csv')\n",
    "costs = pd.read_csv('costs.csv')"
   ]
  },
  {
   "cell_type": "markdown",
   "metadata": {},
   "source": [
    "Создаю функцию для получения основной информации о датафрейме"
   ]
  },
  {
   "cell_type": "code",
   "execution_count": 3,
   "metadata": {},
   "outputs": [
    {
     "data": {
      "text/html": [
       "<div>\n",
       "<style scoped>\n",
       "    .dataframe tbody tr th:only-of-type {\n",
       "        vertical-align: middle;\n",
       "    }\n",
       "\n",
       "    .dataframe tbody tr th {\n",
       "        vertical-align: top;\n",
       "    }\n",
       "\n",
       "    .dataframe thead th {\n",
       "        text-align: right;\n",
       "    }\n",
       "</style>\n",
       "<table border=\"1\" class=\"dataframe\">\n",
       "  <thead>\n",
       "    <tr style=\"text-align: right;\">\n",
       "      <th></th>\n",
       "      <th>Device</th>\n",
       "      <th>End Ts</th>\n",
       "      <th>Source Id</th>\n",
       "      <th>Start Ts</th>\n",
       "      <th>Uid</th>\n",
       "    </tr>\n",
       "  </thead>\n",
       "  <tbody>\n",
       "    <tr>\n",
       "      <th>0</th>\n",
       "      <td>touch</td>\n",
       "      <td>2017-12-20 17:38:00</td>\n",
       "      <td>4</td>\n",
       "      <td>2017-12-20 17:20:00</td>\n",
       "      <td>16879256277535980062</td>\n",
       "    </tr>\n",
       "    <tr>\n",
       "      <th>1</th>\n",
       "      <td>desktop</td>\n",
       "      <td>2018-02-19 17:21:00</td>\n",
       "      <td>2</td>\n",
       "      <td>2018-02-19 16:53:00</td>\n",
       "      <td>104060357244891740</td>\n",
       "    </tr>\n",
       "    <tr>\n",
       "      <th>2</th>\n",
       "      <td>touch</td>\n",
       "      <td>2017-07-01 01:54:00</td>\n",
       "      <td>5</td>\n",
       "      <td>2017-07-01 01:54:00</td>\n",
       "      <td>7459035603376831527</td>\n",
       "    </tr>\n",
       "    <tr>\n",
       "      <th>3</th>\n",
       "      <td>desktop</td>\n",
       "      <td>2018-05-20 11:23:00</td>\n",
       "      <td>9</td>\n",
       "      <td>2018-05-20 10:59:00</td>\n",
       "      <td>16174680259334210214</td>\n",
       "    </tr>\n",
       "    <tr>\n",
       "      <th>4</th>\n",
       "      <td>desktop</td>\n",
       "      <td>2017-12-27 14:06:00</td>\n",
       "      <td>3</td>\n",
       "      <td>2017-12-27 14:06:00</td>\n",
       "      <td>9969694820036681168</td>\n",
       "    </tr>\n",
       "    <tr>\n",
       "      <th>5</th>\n",
       "      <td>desktop</td>\n",
       "      <td>2017-09-03 21:36:00</td>\n",
       "      <td>5</td>\n",
       "      <td>2017-09-03 21:35:00</td>\n",
       "      <td>16007536194108375387</td>\n",
       "    </tr>\n",
       "    <tr>\n",
       "      <th>6</th>\n",
       "      <td>desktop</td>\n",
       "      <td>2018-01-30 12:09:00</td>\n",
       "      <td>1</td>\n",
       "      <td>2018-01-30 11:13:00</td>\n",
       "      <td>6661610529277171451</td>\n",
       "    </tr>\n",
       "    <tr>\n",
       "      <th>7</th>\n",
       "      <td>touch</td>\n",
       "      <td>2017-11-05 15:15:00</td>\n",
       "      <td>3</td>\n",
       "      <td>2017-11-05 15:14:00</td>\n",
       "      <td>11423865690854540312</td>\n",
       "    </tr>\n",
       "    <tr>\n",
       "      <th>8</th>\n",
       "      <td>desktop</td>\n",
       "      <td>2017-07-19 10:44:00</td>\n",
       "      <td>3</td>\n",
       "      <td>2017-07-19 10:41:00</td>\n",
       "      <td>2987360259350925644</td>\n",
       "    </tr>\n",
       "    <tr>\n",
       "      <th>9</th>\n",
       "      <td>desktop</td>\n",
       "      <td>2017-11-08 13:43:00</td>\n",
       "      <td>5</td>\n",
       "      <td>2017-11-08 13:42:00</td>\n",
       "      <td>1289240080042562063</td>\n",
       "    </tr>\n",
       "  </tbody>\n",
       "</table>\n",
       "</div>"
      ],
      "text/plain": [
       "    Device               End Ts  Source Id             Start Ts  \\\n",
       "0    touch  2017-12-20 17:38:00          4  2017-12-20 17:20:00   \n",
       "1  desktop  2018-02-19 17:21:00          2  2018-02-19 16:53:00   \n",
       "2    touch  2017-07-01 01:54:00          5  2017-07-01 01:54:00   \n",
       "3  desktop  2018-05-20 11:23:00          9  2018-05-20 10:59:00   \n",
       "4  desktop  2017-12-27 14:06:00          3  2017-12-27 14:06:00   \n",
       "5  desktop  2017-09-03 21:36:00          5  2017-09-03 21:35:00   \n",
       "6  desktop  2018-01-30 12:09:00          1  2018-01-30 11:13:00   \n",
       "7    touch  2017-11-05 15:15:00          3  2017-11-05 15:14:00   \n",
       "8  desktop  2017-07-19 10:44:00          3  2017-07-19 10:41:00   \n",
       "9  desktop  2017-11-08 13:43:00          5  2017-11-08 13:42:00   \n",
       "\n",
       "                    Uid  \n",
       "0  16879256277535980062  \n",
       "1    104060357244891740  \n",
       "2   7459035603376831527  \n",
       "3  16174680259334210214  \n",
       "4   9969694820036681168  \n",
       "5  16007536194108375387  \n",
       "6   6661610529277171451  \n",
       "7  11423865690854540312  \n",
       "8   2987360259350925644  \n",
       "9   1289240080042562063  "
      ]
     },
     "metadata": {},
     "output_type": "display_data"
    },
    {
     "data": {
      "text/html": [
       "<div>\n",
       "<style scoped>\n",
       "    .dataframe tbody tr th:only-of-type {\n",
       "        vertical-align: middle;\n",
       "    }\n",
       "\n",
       "    .dataframe tbody tr th {\n",
       "        vertical-align: top;\n",
       "    }\n",
       "\n",
       "    .dataframe thead th {\n",
       "        text-align: right;\n",
       "    }\n",
       "</style>\n",
       "<table border=\"1\" class=\"dataframe\">\n",
       "  <thead>\n",
       "    <tr style=\"text-align: right;\">\n",
       "      <th></th>\n",
       "      <th>Source Id</th>\n",
       "      <th>Uid</th>\n",
       "    </tr>\n",
       "  </thead>\n",
       "  <tbody>\n",
       "    <tr>\n",
       "      <th>count</th>\n",
       "      <td>359400.000000</td>\n",
       "      <td>3.594000e+05</td>\n",
       "    </tr>\n",
       "    <tr>\n",
       "      <th>mean</th>\n",
       "      <td>3.750515</td>\n",
       "      <td>9.202557e+18</td>\n",
       "    </tr>\n",
       "    <tr>\n",
       "      <th>std</th>\n",
       "      <td>1.917116</td>\n",
       "      <td>5.298433e+18</td>\n",
       "    </tr>\n",
       "    <tr>\n",
       "      <th>min</th>\n",
       "      <td>1.000000</td>\n",
       "      <td>1.186350e+13</td>\n",
       "    </tr>\n",
       "    <tr>\n",
       "      <th>25%</th>\n",
       "      <td>3.000000</td>\n",
       "      <td>4.613407e+18</td>\n",
       "    </tr>\n",
       "    <tr>\n",
       "      <th>50%</th>\n",
       "      <td>4.000000</td>\n",
       "      <td>9.227413e+18</td>\n",
       "    </tr>\n",
       "    <tr>\n",
       "      <th>75%</th>\n",
       "      <td>5.000000</td>\n",
       "      <td>1.372824e+19</td>\n",
       "    </tr>\n",
       "    <tr>\n",
       "      <th>max</th>\n",
       "      <td>10.000000</td>\n",
       "      <td>1.844668e+19</td>\n",
       "    </tr>\n",
       "  </tbody>\n",
       "</table>\n",
       "</div>"
      ],
      "text/plain": [
       "           Source Id           Uid\n",
       "count  359400.000000  3.594000e+05\n",
       "mean        3.750515  9.202557e+18\n",
       "std         1.917116  5.298433e+18\n",
       "min         1.000000  1.186350e+13\n",
       "25%         3.000000  4.613407e+18\n",
       "50%         4.000000  9.227413e+18\n",
       "75%         5.000000  1.372824e+19\n",
       "max        10.000000  1.844668e+19"
      ]
     },
     "metadata": {},
     "output_type": "display_data"
    },
    {
     "name": "stdout",
     "output_type": "stream",
     "text": [
      "<class 'pandas.core.frame.DataFrame'>\n",
      "RangeIndex: 359400 entries, 0 to 359399\n",
      "Data columns (total 5 columns):\n",
      " #   Column     Non-Null Count   Dtype \n",
      "---  ------     --------------   ----- \n",
      " 0   Device     359400 non-null  object\n",
      " 1   End Ts     359400 non-null  object\n",
      " 2   Source Id  359400 non-null  int64 \n",
      " 3   Start Ts   359400 non-null  object\n",
      " 4   Uid        359400 non-null  uint64\n",
      "dtypes: int64(1), object(3), uint64(1)\n",
      "memory usage: 13.7+ MB\n"
     ]
    },
    {
     "data": {
      "text/html": [
       "<div>\n",
       "<style scoped>\n",
       "    .dataframe tbody tr th:only-of-type {\n",
       "        vertical-align: middle;\n",
       "    }\n",
       "\n",
       "    .dataframe tbody tr th {\n",
       "        vertical-align: top;\n",
       "    }\n",
       "\n",
       "    .dataframe thead th {\n",
       "        text-align: right;\n",
       "    }\n",
       "</style>\n",
       "<table border=\"1\" class=\"dataframe\">\n",
       "  <thead>\n",
       "    <tr style=\"text-align: right;\">\n",
       "      <th></th>\n",
       "      <th>Buy Ts</th>\n",
       "      <th>Revenue</th>\n",
       "      <th>Uid</th>\n",
       "    </tr>\n",
       "  </thead>\n",
       "  <tbody>\n",
       "    <tr>\n",
       "      <th>0</th>\n",
       "      <td>2017-06-01 00:10:00</td>\n",
       "      <td>17.00</td>\n",
       "      <td>10329302124590727494</td>\n",
       "    </tr>\n",
       "    <tr>\n",
       "      <th>1</th>\n",
       "      <td>2017-06-01 00:25:00</td>\n",
       "      <td>0.55</td>\n",
       "      <td>11627257723692907447</td>\n",
       "    </tr>\n",
       "    <tr>\n",
       "      <th>2</th>\n",
       "      <td>2017-06-01 00:27:00</td>\n",
       "      <td>0.37</td>\n",
       "      <td>17903680561304213844</td>\n",
       "    </tr>\n",
       "    <tr>\n",
       "      <th>3</th>\n",
       "      <td>2017-06-01 00:29:00</td>\n",
       "      <td>0.55</td>\n",
       "      <td>16109239769442553005</td>\n",
       "    </tr>\n",
       "    <tr>\n",
       "      <th>4</th>\n",
       "      <td>2017-06-01 07:58:00</td>\n",
       "      <td>0.37</td>\n",
       "      <td>14200605875248379450</td>\n",
       "    </tr>\n",
       "    <tr>\n",
       "      <th>5</th>\n",
       "      <td>2017-06-01 08:43:00</td>\n",
       "      <td>0.18</td>\n",
       "      <td>10402394430196413321</td>\n",
       "    </tr>\n",
       "    <tr>\n",
       "      <th>6</th>\n",
       "      <td>2017-06-01 08:54:00</td>\n",
       "      <td>1.83</td>\n",
       "      <td>12464626743129688638</td>\n",
       "    </tr>\n",
       "    <tr>\n",
       "      <th>7</th>\n",
       "      <td>2017-06-01 09:22:00</td>\n",
       "      <td>1.22</td>\n",
       "      <td>3644482766749211722</td>\n",
       "    </tr>\n",
       "    <tr>\n",
       "      <th>8</th>\n",
       "      <td>2017-06-01 09:22:00</td>\n",
       "      <td>3.30</td>\n",
       "      <td>17542070709969841479</td>\n",
       "    </tr>\n",
       "    <tr>\n",
       "      <th>9</th>\n",
       "      <td>2017-06-01 09:23:00</td>\n",
       "      <td>0.37</td>\n",
       "      <td>1074355127080856382</td>\n",
       "    </tr>\n",
       "  </tbody>\n",
       "</table>\n",
       "</div>"
      ],
      "text/plain": [
       "                Buy Ts  Revenue                   Uid\n",
       "0  2017-06-01 00:10:00    17.00  10329302124590727494\n",
       "1  2017-06-01 00:25:00     0.55  11627257723692907447\n",
       "2  2017-06-01 00:27:00     0.37  17903680561304213844\n",
       "3  2017-06-01 00:29:00     0.55  16109239769442553005\n",
       "4  2017-06-01 07:58:00     0.37  14200605875248379450\n",
       "5  2017-06-01 08:43:00     0.18  10402394430196413321\n",
       "6  2017-06-01 08:54:00     1.83  12464626743129688638\n",
       "7  2017-06-01 09:22:00     1.22   3644482766749211722\n",
       "8  2017-06-01 09:22:00     3.30  17542070709969841479\n",
       "9  2017-06-01 09:23:00     0.37   1074355127080856382"
      ]
     },
     "metadata": {},
     "output_type": "display_data"
    },
    {
     "data": {
      "text/html": [
       "<div>\n",
       "<style scoped>\n",
       "    .dataframe tbody tr th:only-of-type {\n",
       "        vertical-align: middle;\n",
       "    }\n",
       "\n",
       "    .dataframe tbody tr th {\n",
       "        vertical-align: top;\n",
       "    }\n",
       "\n",
       "    .dataframe thead th {\n",
       "        text-align: right;\n",
       "    }\n",
       "</style>\n",
       "<table border=\"1\" class=\"dataframe\">\n",
       "  <thead>\n",
       "    <tr style=\"text-align: right;\">\n",
       "      <th></th>\n",
       "      <th>Revenue</th>\n",
       "      <th>Uid</th>\n",
       "    </tr>\n",
       "  </thead>\n",
       "  <tbody>\n",
       "    <tr>\n",
       "      <th>count</th>\n",
       "      <td>50415.000000</td>\n",
       "      <td>5.041500e+04</td>\n",
       "    </tr>\n",
       "    <tr>\n",
       "      <th>mean</th>\n",
       "      <td>4.999647</td>\n",
       "      <td>9.098161e+18</td>\n",
       "    </tr>\n",
       "    <tr>\n",
       "      <th>std</th>\n",
       "      <td>21.818359</td>\n",
       "      <td>5.285742e+18</td>\n",
       "    </tr>\n",
       "    <tr>\n",
       "      <th>min</th>\n",
       "      <td>0.000000</td>\n",
       "      <td>3.135781e+14</td>\n",
       "    </tr>\n",
       "    <tr>\n",
       "      <th>25%</th>\n",
       "      <td>1.220000</td>\n",
       "      <td>4.533567e+18</td>\n",
       "    </tr>\n",
       "    <tr>\n",
       "      <th>50%</th>\n",
       "      <td>2.500000</td>\n",
       "      <td>9.102274e+18</td>\n",
       "    </tr>\n",
       "    <tr>\n",
       "      <th>75%</th>\n",
       "      <td>4.890000</td>\n",
       "      <td>1.368290e+19</td>\n",
       "    </tr>\n",
       "    <tr>\n",
       "      <th>max</th>\n",
       "      <td>2633.280000</td>\n",
       "      <td>1.844617e+19</td>\n",
       "    </tr>\n",
       "  </tbody>\n",
       "</table>\n",
       "</div>"
      ],
      "text/plain": [
       "            Revenue           Uid\n",
       "count  50415.000000  5.041500e+04\n",
       "mean       4.999647  9.098161e+18\n",
       "std       21.818359  5.285742e+18\n",
       "min        0.000000  3.135781e+14\n",
       "25%        1.220000  4.533567e+18\n",
       "50%        2.500000  9.102274e+18\n",
       "75%        4.890000  1.368290e+19\n",
       "max     2633.280000  1.844617e+19"
      ]
     },
     "metadata": {},
     "output_type": "display_data"
    },
    {
     "name": "stdout",
     "output_type": "stream",
     "text": [
      "<class 'pandas.core.frame.DataFrame'>\n",
      "RangeIndex: 50415 entries, 0 to 50414\n",
      "Data columns (total 3 columns):\n",
      " #   Column   Non-Null Count  Dtype  \n",
      "---  ------   --------------  -----  \n",
      " 0   Buy Ts   50415 non-null  object \n",
      " 1   Revenue  50415 non-null  float64\n",
      " 2   Uid      50415 non-null  uint64 \n",
      "dtypes: float64(1), object(1), uint64(1)\n",
      "memory usage: 1.2+ MB\n"
     ]
    },
    {
     "data": {
      "text/html": [
       "<div>\n",
       "<style scoped>\n",
       "    .dataframe tbody tr th:only-of-type {\n",
       "        vertical-align: middle;\n",
       "    }\n",
       "\n",
       "    .dataframe tbody tr th {\n",
       "        vertical-align: top;\n",
       "    }\n",
       "\n",
       "    .dataframe thead th {\n",
       "        text-align: right;\n",
       "    }\n",
       "</style>\n",
       "<table border=\"1\" class=\"dataframe\">\n",
       "  <thead>\n",
       "    <tr style=\"text-align: right;\">\n",
       "      <th></th>\n",
       "      <th>source_id</th>\n",
       "      <th>dt</th>\n",
       "      <th>costs</th>\n",
       "    </tr>\n",
       "  </thead>\n",
       "  <tbody>\n",
       "    <tr>\n",
       "      <th>0</th>\n",
       "      <td>1</td>\n",
       "      <td>2017-06-01</td>\n",
       "      <td>75.20</td>\n",
       "    </tr>\n",
       "    <tr>\n",
       "      <th>1</th>\n",
       "      <td>1</td>\n",
       "      <td>2017-06-02</td>\n",
       "      <td>62.25</td>\n",
       "    </tr>\n",
       "    <tr>\n",
       "      <th>2</th>\n",
       "      <td>1</td>\n",
       "      <td>2017-06-03</td>\n",
       "      <td>36.53</td>\n",
       "    </tr>\n",
       "    <tr>\n",
       "      <th>3</th>\n",
       "      <td>1</td>\n",
       "      <td>2017-06-04</td>\n",
       "      <td>55.00</td>\n",
       "    </tr>\n",
       "    <tr>\n",
       "      <th>4</th>\n",
       "      <td>1</td>\n",
       "      <td>2017-06-05</td>\n",
       "      <td>57.08</td>\n",
       "    </tr>\n",
       "    <tr>\n",
       "      <th>5</th>\n",
       "      <td>1</td>\n",
       "      <td>2017-06-06</td>\n",
       "      <td>40.39</td>\n",
       "    </tr>\n",
       "    <tr>\n",
       "      <th>6</th>\n",
       "      <td>1</td>\n",
       "      <td>2017-06-07</td>\n",
       "      <td>40.59</td>\n",
       "    </tr>\n",
       "    <tr>\n",
       "      <th>7</th>\n",
       "      <td>1</td>\n",
       "      <td>2017-06-08</td>\n",
       "      <td>56.63</td>\n",
       "    </tr>\n",
       "    <tr>\n",
       "      <th>8</th>\n",
       "      <td>1</td>\n",
       "      <td>2017-06-09</td>\n",
       "      <td>40.16</td>\n",
       "    </tr>\n",
       "    <tr>\n",
       "      <th>9</th>\n",
       "      <td>1</td>\n",
       "      <td>2017-06-10</td>\n",
       "      <td>43.24</td>\n",
       "    </tr>\n",
       "  </tbody>\n",
       "</table>\n",
       "</div>"
      ],
      "text/plain": [
       "   source_id          dt  costs\n",
       "0          1  2017-06-01  75.20\n",
       "1          1  2017-06-02  62.25\n",
       "2          1  2017-06-03  36.53\n",
       "3          1  2017-06-04  55.00\n",
       "4          1  2017-06-05  57.08\n",
       "5          1  2017-06-06  40.39\n",
       "6          1  2017-06-07  40.59\n",
       "7          1  2017-06-08  56.63\n",
       "8          1  2017-06-09  40.16\n",
       "9          1  2017-06-10  43.24"
      ]
     },
     "metadata": {},
     "output_type": "display_data"
    },
    {
     "data": {
      "text/html": [
       "<div>\n",
       "<style scoped>\n",
       "    .dataframe tbody tr th:only-of-type {\n",
       "        vertical-align: middle;\n",
       "    }\n",
       "\n",
       "    .dataframe tbody tr th {\n",
       "        vertical-align: top;\n",
       "    }\n",
       "\n",
       "    .dataframe thead th {\n",
       "        text-align: right;\n",
       "    }\n",
       "</style>\n",
       "<table border=\"1\" class=\"dataframe\">\n",
       "  <thead>\n",
       "    <tr style=\"text-align: right;\">\n",
       "      <th></th>\n",
       "      <th>source_id</th>\n",
       "      <th>costs</th>\n",
       "    </tr>\n",
       "  </thead>\n",
       "  <tbody>\n",
       "    <tr>\n",
       "      <th>count</th>\n",
       "      <td>2542.000000</td>\n",
       "      <td>2542.000000</td>\n",
       "    </tr>\n",
       "    <tr>\n",
       "      <th>mean</th>\n",
       "      <td>4.857199</td>\n",
       "      <td>129.477427</td>\n",
       "    </tr>\n",
       "    <tr>\n",
       "      <th>std</th>\n",
       "      <td>3.181581</td>\n",
       "      <td>156.296628</td>\n",
       "    </tr>\n",
       "    <tr>\n",
       "      <th>min</th>\n",
       "      <td>1.000000</td>\n",
       "      <td>0.540000</td>\n",
       "    </tr>\n",
       "    <tr>\n",
       "      <th>25%</th>\n",
       "      <td>2.000000</td>\n",
       "      <td>21.945000</td>\n",
       "    </tr>\n",
       "    <tr>\n",
       "      <th>50%</th>\n",
       "      <td>4.000000</td>\n",
       "      <td>77.295000</td>\n",
       "    </tr>\n",
       "    <tr>\n",
       "      <th>75%</th>\n",
       "      <td>9.000000</td>\n",
       "      <td>170.065000</td>\n",
       "    </tr>\n",
       "    <tr>\n",
       "      <th>max</th>\n",
       "      <td>10.000000</td>\n",
       "      <td>1788.280000</td>\n",
       "    </tr>\n",
       "  </tbody>\n",
       "</table>\n",
       "</div>"
      ],
      "text/plain": [
       "         source_id        costs\n",
       "count  2542.000000  2542.000000\n",
       "mean      4.857199   129.477427\n",
       "std       3.181581   156.296628\n",
       "min       1.000000     0.540000\n",
       "25%       2.000000    21.945000\n",
       "50%       4.000000    77.295000\n",
       "75%       9.000000   170.065000\n",
       "max      10.000000  1788.280000"
      ]
     },
     "metadata": {},
     "output_type": "display_data"
    },
    {
     "name": "stdout",
     "output_type": "stream",
     "text": [
      "<class 'pandas.core.frame.DataFrame'>\n",
      "RangeIndex: 2542 entries, 0 to 2541\n",
      "Data columns (total 3 columns):\n",
      " #   Column     Non-Null Count  Dtype  \n",
      "---  ------     --------------  -----  \n",
      " 0   source_id  2542 non-null   int64  \n",
      " 1   dt         2542 non-null   object \n",
      " 2   costs      2542 non-null   float64\n",
      "dtypes: float64(1), int64(1), object(1)\n",
      "memory usage: 59.7+ KB\n"
     ]
    }
   ],
   "source": [
    "#функция для получения основной информации о датафрейме\n",
    "def data_describe(dataframe):\n",
    "    display(dataframe.head(10))\n",
    "    display(dataframe.describe())\n",
    "    dataframe.info()\n",
    "    \n",
    "#делаем массив \n",
    "data=[visits, orders, costs]\n",
    "\n",
    "#запускаем функцию\n",
    "for d in data:\n",
    "    data_describe(d)    "
   ]
  },
  {
   "cell_type": "markdown",
   "metadata": {},
   "source": [
    "__Получаю следующую структуру таблиц__:\n",
    "* __``visits``__\n",
    "    * Количество столбцов: __5__\n",
    "    * Количество строк: __359400__\n",
    "    * Тип данных в столбцах: __int64(1), object(3), uint64(1)__\n",
    "\n",
    "\n",
    "* __``orders``__\n",
    "    * Количество столбцов: __3__\n",
    "    * Количество строк: __50415__\n",
    "    * Тип данных в столбцах: __float64(1), object(1), uint64(1)__\n",
    "\n",
    "\n",
    "* __``costs``__\n",
    "    * Количество столбцов: __3__\n",
    "    * Количество строк: __2542__\n",
    "    * Тип данных в столбцах: __float64(1), int64(1), object(1)__     "
   ]
  },
  {
   "cell_type": "markdown",
   "metadata": {},
   "source": [
    ">**<span style=\"color:green\">Очень здорово, что ты используешь свои собственные функции для знакомства с данными — это очень сильно повышает читаемость твоего кода и экономит тебе самому массу времени.</span>**"
   ]
  },
  {
   "cell_type": "markdown",
   "metadata": {},
   "source": [
    "Приводим название столбцов к нижнему реестру"
   ]
  },
  {
   "cell_type": "code",
   "execution_count": 4,
   "metadata": {},
   "outputs": [],
   "source": [
    "#Переименовываем название столбцов к таблице visits\n",
    "visits.rename(columns={'Device': 'device', 'End Ts': 'end_ts', 'Source Id': 'source_id', 'Start Ts': 'start_ts', 'Uid': 'uid'}, inplace=True)\n",
    "\n",
    "#Переименовываем название столбцов в таблице orders\n",
    "orders.rename(columns={'Buy Ts': 'buy_ts', 'Revenue': 'revenue', 'Uid': 'uid'}, inplace=True)\n",
    "\n",
    "#Переименовываем название одного столбца в таблице costs\n",
    "costs.rename(columns={'dt': 'date'}, inplace=True)"
   ]
  },
  {
   "cell_type": "markdown",
   "metadata": {},
   "source": [
    "Прописываем функцию, которая переводит тип столбца в даты"
   ]
  },
  {
   "cell_type": "code",
   "execution_count": 5,
   "metadata": {},
   "outputs": [
    {
     "name": "stdout",
     "output_type": "stream",
     "text": [
      "<class 'pandas.core.frame.DataFrame'>\n",
      "RangeIndex: 359400 entries, 0 to 359399\n",
      "Data columns (total 5 columns):\n",
      " #   Column     Non-Null Count   Dtype         \n",
      "---  ------     --------------   -----         \n",
      " 0   device     359400 non-null  object        \n",
      " 1   end_ts     359400 non-null  datetime64[ns]\n",
      " 2   source_id  359400 non-null  int64         \n",
      " 3   start_ts   359400 non-null  datetime64[ns]\n",
      " 4   uid        359400 non-null  uint64        \n",
      "dtypes: datetime64[ns](2), int64(1), object(1), uint64(1)\n",
      "memory usage: 13.7+ MB\n"
     ]
    }
   ],
   "source": [
    "#Создаем функцию которая переводит тип столбца в даты. Параметрами функции является date (название DateFreim) и row (название столбца)\n",
    "def datetime(date, row):\n",
    "    date[row] = pd.to_datetime(date[row])\n",
    "\n",
    "#Применяем функцию к необходимым столбцам в трех созданных нами     \n",
    "datetime(visits, 'end_ts')\n",
    "datetime(visits, 'start_ts')\n",
    "datetime(orders, 'buy_ts')\n",
    "datetime(costs, 'date')    \n",
    "\n",
    "#Проверяем применилась ли эта функция к необходимым столбцам\n",
    "visits.info()"
   ]
  },
  {
   "cell_type": "markdown",
   "metadata": {},
   "source": [
    "__Выводы:__<br>\n",
    "<br>\n",
    "Полученные таблицы содержат в себе информацию о визитах, о заказах и о полученных расходах. В рамках работы с полученными таблицами были приведены название столбцов к нижнему реестру с объединением двух слов в одно название столбца, а также в некоторых столбцах был преобразован тип данных из типа object в datetime64."
   ]
  },
  {
   "cell_type": "markdown",
   "metadata": {},
   "source": [
    "## 2. Расчет метрик и построение графиков <a name=\"data_pre-processing\"></a> "
   ]
  },
  {
   "cell_type": "markdown",
   "metadata": {},
   "source": [
    "###  2.1. Продуктовые метрики <a name=\"product_metrics\"></a> "
   ]
  },
  {
   "cell_type": "markdown",
   "metadata": {},
   "source": [
    "#### Расчет DAU, WAU и MAU.\n",
    "Рассчитайте DAU, WAU и MAU. Вычислите средние значения этих метрик за весь период."
   ]
  },
  {
   "cell_type": "markdown",
   "metadata": {},
   "source": [
    "Чтобы посчитать недельное и месячное использование, выделим в отдельные столбцы год, месяц и неделю, а также полную дату. "
   ]
  },
  {
   "cell_type": "code",
   "execution_count": 6,
   "metadata": {},
   "outputs": [
    {
     "name": "stdout",
     "output_type": "stream",
     "text": [
      "    device              end_ts  source_id            start_ts  \\\n",
      "0    touch 2017-12-20 17:38:00          4 2017-12-20 17:20:00   \n",
      "1  desktop 2018-02-19 17:21:00          2 2018-02-19 16:53:00   \n",
      "2    touch 2017-07-01 01:54:00          5 2017-07-01 01:54:00   \n",
      "3  desktop 2018-05-20 11:23:00          9 2018-05-20 10:59:00   \n",
      "4  desktop 2017-12-27 14:06:00          3 2017-12-27 14:06:00   \n",
      "\n",
      "                    uid  session_year session_month session_week  \\\n",
      "0  16879256277535980062          2017    2017-12-01   2017-12-14   \n",
      "1    104060357244891740          2018    2018-02-01   2018-02-15   \n",
      "2   7459035603376831527          2017    2017-07-01   2017-06-29   \n",
      "3  16174680259334210214          2018    2018-05-01   2018-05-17   \n",
      "4   9969694820036681168          2017    2017-12-01   2017-12-21   \n",
      "\n",
      "  session_start_dt  \n",
      "0       2017-12-20  \n",
      "1       2018-02-19  \n",
      "2       2017-07-01  \n",
      "3       2018-05-20  \n",
      "4       2017-12-27  \n"
     ]
    }
   ],
   "source": [
    "#Находим год\n",
    "visits['session_year']  = visits['start_ts'].dt.year\n",
    "#Находим месяц\n",
    "visits['session_month'] = visits['start_ts'].astype('datetime64[M]')\n",
    "#Находим неделю\n",
    "visits['session_week']  = visits['start_ts'].astype('datetime64[W]')\n",
    "#Находим полную дату\n",
    "visits['session_start_dt'] = visits['start_ts'].dt.date\n",
    "\n",
    "\n",
    "print(visits.head()) "
   ]
  },
  {
   "cell_type": "markdown",
   "metadata": {},
   "source": [
    "Посчитаем метрики. Сгруппируем данные по уникальным пользователям и найдём среднее. Таким образом, количество уникальных посетителей составляет 907, еженедельно - 5621, а eжемесячно - 23228.<br>\n",
    "Также произвели расчеты __sticky factor__, который показывает регулярность использования вашего приложения. Sticky Factor за неделю составляет 3%, sticky Factor за месяц составляет 15%.\n"
   ]
  },
  {
   "cell_type": "code",
   "execution_count": 7,
   "metadata": {},
   "outputs": [
    {
     "name": "stdout",
     "output_type": "stream",
     "text": [
      "DAU составляет 907\n",
      "WAU составляет 5621\n",
      "MAU составляет 23228\n",
      "Sticky Factor за неделю составляет 3 %\n",
      "Sticky Factor за месяц составляет 16 %\n"
     ]
    }
   ],
   "source": [
    "#находим показател DAU\n",
    "dau_total = visits.groupby('session_start_dt').agg({'uid': 'nunique'}).mean()\n",
    "#находим показател WAU\n",
    "wau_total = visits.groupby(['session_year', 'session_week']).agg({'uid': 'nunique'}).mean()\n",
    "#находим показател MAU\n",
    "mau_total = visits.groupby(['session_year', 'session_month']).agg({'uid': 'nunique'}).mean()\n",
    "\n",
    "print('DAU составляет', int(dau_total))\n",
    "print('WAU составляет', int(wau_total))\n",
    "print('MAU составляет', int(mau_total))\n",
    "\n",
    "#произведем расчеты sticky Factor \n",
    "sticky_mau = dau_total/mau_total *100\n",
    "sticky_wau = dau_total/wau_total *100\n",
    "\n",
    "print('Sticky Factor за неделю составляет', int(sticky_mau), '%')\n",
    "print('Sticky Factor за месяц составляет', int(sticky_wau), '%')"
   ]
  },
  {
   "cell_type": "markdown",
   "metadata": {},
   "source": [
    "Построим функцию, которая нам будет вырисовывать графики по метрикам (DAU, WAU, MAU) в динамике по времени."
   ]
  },
  {
   "cell_type": "code",
   "execution_count": 8,
   "metadata": {},
   "outputs": [],
   "source": [
    "#Строим функцию\n",
    "def function(data, x, y, title): \n",
    "    fig = px.line(data, x=x, y=y, title=title)\n",
    "    fig.show(renderer='svg')"
   ]
  },
  {
   "cell_type": "markdown",
   "metadata": {},
   "source": [
    "В целом исходя из динамики можем сделать вывод, что динамика со временем начала снижаться и достигла пика 24 ноября 2017 года, в этот день количество пользователей достигла 3319 человек. Затем идет спад по метрики DAU, хотя в некоторые периоды наблюдается рост."
   ]
  },
  {
   "cell_type": "code",
   "execution_count": 9,
   "metadata": {},
   "outputs": [
    {
     "data": {
      "image/svg+xml": [
       "<svg class=\"main-svg\" xmlns=\"http://www.w3.org/2000/svg\" xmlns:xlink=\"http://www.w3.org/1999/xlink\" width=\"700\" height=\"500\" style=\"\" viewBox=\"0 0 700 500\"><rect x=\"0\" y=\"0\" width=\"700\" height=\"500\" style=\"fill: rgb(255, 255, 255); fill-opacity: 1;\"/><defs id=\"defs-4cbe54\"><g class=\"clips\"><clipPath id=\"clip4cbe54xyplot\" class=\"plotclip\"><rect width=\"540\" height=\"320\"/></clipPath><clipPath class=\"axesclip\" id=\"clip4cbe54x\"><rect x=\"80\" y=\"0\" width=\"540\" height=\"500\"/></clipPath><clipPath class=\"axesclip\" id=\"clip4cbe54y\"><rect x=\"0\" y=\"100\" width=\"700\" height=\"320\"/></clipPath><clipPath class=\"axesclip\" id=\"clip4cbe54xy\"><rect x=\"80\" y=\"100\" width=\"540\" height=\"320\"/></clipPath></g><g class=\"gradients\"/><g class=\"patterns\"/></defs><g class=\"bglayer\"><rect class=\"bg\" x=\"80\" y=\"100\" width=\"540\" height=\"320\" style=\"fill: rgb(229, 236, 246); fill-opacity: 1; stroke-width: 0;\"/></g><g class=\"layer-below\"><g class=\"imagelayer\"/><g class=\"shapelayer\"/></g><g class=\"cartesianlayer\"><g class=\"subplot xy\"><g class=\"layer-subplot\"><g class=\"shapelayer\"/><g class=\"imagelayer\"/></g><g class=\"gridlayer\"><g class=\"x\"><path class=\"xgrid crisp\" transform=\"translate(124.50999999999999,0)\" d=\"M0,100v320\" style=\"stroke: rgb(255, 255, 255); stroke-opacity: 1; stroke-width: 1px;\"/><path class=\"xgrid crisp\" transform=\"translate(216.48,0)\" d=\"M0,100v320\" style=\"stroke: rgb(255, 255, 255); stroke-opacity: 1; stroke-width: 1px;\"/><path class=\"xgrid crisp\" transform=\"translate(306.98,0)\" d=\"M0,100v320\" style=\"stroke: rgb(255, 255, 255); stroke-opacity: 1; stroke-width: 1px;\"/><path class=\"xgrid crisp\" transform=\"translate(397.47,0)\" d=\"M0,100v320\" style=\"stroke: rgb(255, 255, 255); stroke-opacity: 1; stroke-width: 1px;\"/><path class=\"xgrid crisp\" transform=\"translate(485,0)\" d=\"M0,100v320\" style=\"stroke: rgb(255, 255, 255); stroke-opacity: 1; stroke-width: 1px;\"/><path class=\"xgrid crisp\" transform=\"translate(575.49,0)\" d=\"M0,100v320\" style=\"stroke: rgb(255, 255, 255); stroke-opacity: 1; stroke-width: 1px;\"/></g><g class=\"y\"><path class=\"ygrid crisp\" transform=\"translate(0,360.69)\" d=\"M80,0h540\" style=\"stroke: rgb(255, 255, 255); stroke-opacity: 1; stroke-width: 1px;\"/><path class=\"ygrid crisp\" transform=\"translate(0,317.28999999999996)\" d=\"M80,0h540\" style=\"stroke: rgb(255, 255, 255); stroke-opacity: 1; stroke-width: 1px;\"/><path class=\"ygrid crisp\" transform=\"translate(0,273.89)\" d=\"M80,0h540\" style=\"stroke: rgb(255, 255, 255); stroke-opacity: 1; stroke-width: 1px;\"/><path class=\"ygrid crisp\" transform=\"translate(0,230.49)\" d=\"M80,0h540\" style=\"stroke: rgb(255, 255, 255); stroke-opacity: 1; stroke-width: 1px;\"/><path class=\"ygrid crisp\" transform=\"translate(0,187.09)\" d=\"M80,0h540\" style=\"stroke: rgb(255, 255, 255); stroke-opacity: 1; stroke-width: 1px;\"/><path class=\"ygrid crisp\" transform=\"translate(0,143.69)\" d=\"M80,0h540\" style=\"stroke: rgb(255, 255, 255); stroke-opacity: 1; stroke-width: 1px;\"/></g></g><g class=\"zerolinelayer\"><path class=\"yzl zl crisp\" transform=\"translate(0,404.09)\" d=\"M80,0h540\" style=\"stroke: rgb(255, 255, 255); stroke-opacity: 1; stroke-width: 2px;\"/></g><path class=\"xlines-below\"/><path class=\"ylines-below\"/><g class=\"overlines-below\"/><g class=\"xaxislayer-below\"/><g class=\"yaxislayer-below\"/><g class=\"overaxes-below\"/><g class=\"plot\" transform=\"translate(80,100)\" clip-path=\"url(#clip4cbe54xyplot)\"><g class=\"scatterlayer mlayer\"><g class=\"trace scatter trace18cb0c\" style=\"stroke-miterlimit: 2; opacity: 1;\"><g class=\"fills\"/><g class=\"errorbars\"/><g class=\"lines\"><path class=\"js-line\" d=\"M0,251.57L1.48,251.31L2.97,265.46L4.45,262.77L5.93,232.91L7.42,234.91L8.9,243.41L10.38,228.75L11.87,243.76L13.35,273.71L14.84,278.74L16.32,275.01L17.8,260.51L19.29,260.77L20.77,254.18L22.25,262.34L23.74,275.62L25.22,279.35L26.7,262.25L29.67,266.24L31.15,257.48L34.12,275.62L35.6,270.84L37.09,255.13L38.57,261.64L40.05,256.17L41.54,256.69L44.51,272.75L45.99,275.44L47.47,252.53L48.96,259.73L50.44,259.04L51.92,253.92L53.41,257.04L54.89,270.32L56.37,265.55L57.86,244.63L59.34,255.13L60.82,246.02L63.79,231.26L65.27,243.85L66.76,259.47L68.24,205.31L69.73,242.81L71.21,256.61L72.69,252.53L74.18,259.21L75.66,273.1L77.14,276.14L78.63,256L80.11,265.98L81.59,267.2L83.08,263.73L86.04,277.44L87.53,277.09L89.01,262.77L90.49,268.5L91.98,272.84L93.46,269.63L96.43,279.78L97.91,279.61L99.4,268.15L100.88,270.41L102.36,269.89L103.85,265.37L105.33,268.15L106.81,280.56L108.3,279.7L109.78,261.38L111.26,262.34L112.75,265.11L114.23,263.29L115.71,266.16L117.2,278.74L118.68,276.05L120.16,258.86L121.65,260.51L123.13,258.17L124.62,261.99L126.1,260.51L127.58,268.59L129.07,267.46L130.55,251.83L132.03,253.83L133.52,252.01L135,247.49L136.48,254.44L137.97,263.12L139.45,260.77L140.93,247.32L142.42,240.9L143.9,236.64L145.38,236.21L146.87,231.87L148.35,259.73L149.84,260.17L151.32,237.86L152.8,248.71L154.29,248.62L155.77,235.08L157.25,242.2L158.74,255.39L160.22,255.91L161.7,234.99L163.19,234.73L164.67,237.34L166.15,234.56L167.64,234.82L169.12,248.97L170.6,246.63L172.09,218.68L173.57,219.02L175.05,221.54L176.54,210.43L178.02,210.86L179.51,230.57L180.99,230.48L182.47,204.61L183.96,200.8L185.44,197.15L186.92,197.67L188.41,181.01L189.89,207.13L191.37,225.88L192.86,194.98L194.34,204.88L195.82,206.96L197.31,202.27L198.79,200.19L200.27,226.23L201.76,224.84L203.24,202.71L204.73,210.86L207.69,205.74L209.18,194.11L210.66,217.29L212.14,217.2L213.63,194.98L215.11,199.58L216.59,207.39L218.08,206.09L219.56,201.06L221.04,215.55L222.53,206.26L224.01,190.55L225.49,194.81L226.98,196.72L228.46,202.71L229.95,204.79L231.43,222.24L232.91,216.51L234.4,213.21L235.88,196.46L238.85,204.35L240.33,200.19L241.81,220.85L243.3,220.5L244.78,181.44L246.26,193.85L247.75,204.44L249.23,164.86L250.71,181.61L252.2,216.59L253.68,213.73L255.16,181.27L256.65,185.78L258.13,195.15L259.62,179.7L261.1,16L262.58,146.37L264.07,187.25L265.55,167.73L267.03,174.5L268.52,191.59L270,181.79L271.48,193.59L272.97,213.82L274.45,201.23L275.93,179.79L277.42,177.53L278.9,184.56L280.38,171.8L281.87,181.61L283.35,210.6L284.84,206L286.32,173.45L287.8,178.14L289.29,173.11L290.77,183.78L292.25,191.25L293.74,213.82L295.22,213.38L296.7,191.42L298.19,203.05L299.67,202.27L301.15,198.63L302.64,204.44L304.12,228.22L305.6,219.72L307.09,185L308.57,185.17L310.05,188.3L311.54,184.56L313.02,200.62L314.51,208.09L315.99,240.55L317.47,217.98L318.96,194.29L320.44,198.28L321.92,194.72L323.41,216.77L326.37,231.96L327.86,225.71L329.34,206.18L330.82,204.96L332.31,196.63L333.79,203.83L335.27,231.7L336.76,227.1L338.24,198.02L339.73,208L341.21,213.38L342.69,201.84L344.18,202.27L345.66,219.02L347.14,223.97L348.63,194.2L350.11,204.01L351.59,207.05L353.08,197.84L354.56,206.87L356.04,220.85L357.53,224.41L359.01,189.6L360.49,192.81L361.98,196.46L363.46,161.74L366.43,213.38L367.91,216.68L369.4,195.07L370.88,199.93L372.36,195.59L373.85,181.09L378.3,214.68L379.78,185L381.26,190.03L382.75,188.38L384.23,183.44L385.71,204.01L387.2,226.05L388.68,216.68L390.16,185.35L391.65,191.25L393.13,192.55L394.62,199.93L396.1,218.94L397.58,211.91L399.07,214.6L400.55,181.61L403.52,210.95L405,202.88L406.48,195.33L407.97,220.59L409.45,214.77L410.93,199.15L412.42,198.8L413.9,190.29L415.38,215.12L416.87,218.68L419.84,232.82L421.32,202.62L422.8,206.52L424.29,216.42L425.77,215.81L427.25,217.98L428.74,234.91L430.22,242.55L431.7,201.66L433.19,202.44L434.67,206.87L436.15,185.26L437.64,204.61L439.12,209.22L440.6,169.98L442.09,164.43L443.57,169.46L445.05,218.94L446.54,214.08L448.02,292.72L449.51,304L452.47,248.45L453.96,222.32L455.44,222.67L456.92,224.93L458.41,225.01L459.89,240.72L461.37,240.81L462.86,220.93L464.34,225.88L465.82,227.44L467.31,224.32L468.79,221.97L470.27,247.84L471.76,243.15L473.24,228.48L474.73,231.18L476.21,223.1L477.69,213.56L479.18,217.55L480.66,236.3L482.14,236.56L483.63,216.77L485.11,225.53L486.59,227.1L488.08,222.15L489.56,232.04L491.04,234.73L494.01,259.39L495.49,261.64L496.98,261.03L498.46,234.39L499.95,239.42L501.43,255.05L502.91,253.74L504.4,242.37L505.88,251.23L507.36,265.81L508.85,234.13L510.33,234.21L511.81,255.91L513.3,259.73L514.78,235.95L516.26,238.55L519.23,225.79L520.71,226.58L522.2,245.41L523.68,245.24L525.16,227.62L526.65,227.18L528.13,233.69L529.62,231.78L531.1,232.82L532.58,251.83L534.07,250.27L535.55,213.9L537.03,221.8L538.52,192.2L540,130.75\" style=\"vector-effect: non-scaling-stroke; fill: none; stroke: rgb(99, 110, 250); stroke-opacity: 1; stroke-width: 2px; opacity: 1;\"/></g><g class=\"points\"/><g class=\"text\"/></g></g></g><g class=\"overplot\"/><path class=\"xlines-above crisp\" d=\"M0,0\" style=\"fill: none;\"/><path class=\"ylines-above crisp\" d=\"M0,0\" style=\"fill: none;\"/><g class=\"overlines-above\"/><g class=\"xaxislayer-above\"><g class=\"xtick\"><text text-anchor=\"middle\" x=\"0\" y=\"433\" transform=\"translate(124.50999999999999,0)\" style=\"font-family: 'Open Sans', verdana, arial, sans-serif; font-size: 12px; fill: rgb(42, 63, 95); fill-opacity: 1; white-space: pre; opacity: 1;\">Jul 2017</text></g><g class=\"xtick\"><text text-anchor=\"middle\" x=\"0\" y=\"433\" style=\"font-family: 'Open Sans', verdana, arial, sans-serif; font-size: 12px; fill: rgb(42, 63, 95); fill-opacity: 1; white-space: pre; opacity: 1;\" transform=\"translate(216.48,0)\">Sep 2017</text></g><g class=\"xtick\"><text text-anchor=\"middle\" x=\"0\" y=\"433\" style=\"font-family: 'Open Sans', verdana, arial, sans-serif; font-size: 12px; fill: rgb(42, 63, 95); fill-opacity: 1; white-space: pre; opacity: 1;\" transform=\"translate(306.98,0)\">Nov 2017</text></g><g class=\"xtick\"><text text-anchor=\"middle\" x=\"0\" y=\"433\" style=\"font-family: 'Open Sans', verdana, arial, sans-serif; font-size: 12px; fill: rgb(42, 63, 95); fill-opacity: 1; white-space: pre; opacity: 1;\" transform=\"translate(397.47,0)\">Jan 2018</text></g><g class=\"xtick\"><text text-anchor=\"middle\" x=\"0\" y=\"433\" style=\"font-family: 'Open Sans', verdana, arial, sans-serif; font-size: 12px; fill: rgb(42, 63, 95); fill-opacity: 1; white-space: pre; opacity: 1;\" transform=\"translate(485,0)\">Mar 2018</text></g><g class=\"xtick\"><text text-anchor=\"middle\" x=\"0\" y=\"433\" style=\"font-family: 'Open Sans', verdana, arial, sans-serif; font-size: 12px; fill: rgb(42, 63, 95); fill-opacity: 1; white-space: pre; opacity: 1;\" transform=\"translate(575.49,0)\">May 2018</text></g></g><g class=\"yaxislayer-above\"><g class=\"ytick\"><text text-anchor=\"end\" x=\"79\" y=\"4.199999999999999\" transform=\"translate(0,404.09)\" style=\"font-family: 'Open Sans', verdana, arial, sans-serif; font-size: 12px; fill: rgb(42, 63, 95); fill-opacity: 1; white-space: pre; opacity: 1;\">0</text></g><g class=\"ytick\"><text text-anchor=\"end\" x=\"79\" y=\"4.199999999999999\" style=\"font-family: 'Open Sans', verdana, arial, sans-serif; font-size: 12px; fill: rgb(42, 63, 95); fill-opacity: 1; white-space: pre; opacity: 1;\" transform=\"translate(0,360.69)\">500</text></g><g class=\"ytick\"><text text-anchor=\"end\" x=\"79\" y=\"4.199999999999999\" style=\"font-family: 'Open Sans', verdana, arial, sans-serif; font-size: 12px; fill: rgb(42, 63, 95); fill-opacity: 1; white-space: pre; opacity: 1;\" transform=\"translate(0,317.28999999999996)\">1000</text></g><g class=\"ytick\"><text text-anchor=\"end\" x=\"79\" y=\"4.199999999999999\" style=\"font-family: 'Open Sans', verdana, arial, sans-serif; font-size: 12px; fill: rgb(42, 63, 95); fill-opacity: 1; white-space: pre; opacity: 1;\" transform=\"translate(0,273.89)\">1500</text></g><g class=\"ytick\"><text text-anchor=\"end\" x=\"79\" y=\"4.199999999999999\" style=\"font-family: 'Open Sans', verdana, arial, sans-serif; font-size: 12px; fill: rgb(42, 63, 95); fill-opacity: 1; white-space: pre; opacity: 1;\" transform=\"translate(0,230.49)\">2000</text></g><g class=\"ytick\"><text text-anchor=\"end\" x=\"79\" y=\"4.199999999999999\" style=\"font-family: 'Open Sans', verdana, arial, sans-serif; font-size: 12px; fill: rgb(42, 63, 95); fill-opacity: 1; white-space: pre; opacity: 1;\" transform=\"translate(0,187.09)\">2500</text></g><g class=\"ytick\"><text text-anchor=\"end\" x=\"79\" y=\"4.199999999999999\" style=\"font-family: 'Open Sans', verdana, arial, sans-serif; font-size: 12px; fill: rgb(42, 63, 95); fill-opacity: 1; white-space: pre; opacity: 1;\" transform=\"translate(0,143.69)\">3000</text></g><g class=\"ytick\"><text text-anchor=\"end\" x=\"79\" y=\"4.199999999999999\" style=\"font-family: 'Open Sans', verdana, arial, sans-serif; font-size: 12px; fill: rgb(42, 63, 95); fill-opacity: 1; white-space: pre; opacity: 1;\" transform=\"translate(0,100.29)\">3500</text></g></g><g class=\"overaxes-above\"/></g></g><g class=\"polarlayer\"/><g class=\"ternarylayer\"/><g class=\"geolayer\"/><g class=\"funnelarealayer\"/><g class=\"pielayer\"/><g class=\"iciclelayer\"/><g class=\"treemaplayer\"/><g class=\"sunburstlayer\"/><g class=\"glimages\"/><defs id=\"topdefs-4cbe54\"><g class=\"clips\"/></defs><g class=\"layer-above\"><g class=\"imagelayer\"/><g class=\"shapelayer\"/></g><g class=\"infolayer\"><g class=\"g-gtitle\"><text class=\"gtitle\" x=\"35\" y=\"50\" text-anchor=\"start\" dy=\"0em\" style=\"font-family: 'Open Sans', verdana, arial, sans-serif; font-size: 17px; fill: rgb(42, 63, 95); opacity: 1; font-weight: normal; white-space: pre;\">DAU в динамике по времени</text></g><g class=\"g-xtitle\"><text class=\"xtitle\" x=\"350\" y=\"460.8\" text-anchor=\"middle\" style=\"font-family: 'Open Sans', verdana, arial, sans-serif; font-size: 14px; fill: rgb(42, 63, 95); opacity: 1; font-weight: normal; white-space: pre;\">session_start_dt</text></g><g class=\"g-ytitle\"><text class=\"ytitle\" transform=\"rotate(-90,23.684375000000003,260)\" x=\"23.684375000000003\" y=\"260\" text-anchor=\"middle\" style=\"font-family: 'Open Sans', verdana, arial, sans-serif; font-size: 14px; fill: rgb(42, 63, 95); opacity: 1; font-weight: normal; white-space: pre;\">uid</text></g></g></svg>"
      ]
     },
     "metadata": {},
     "output_type": "display_data"
    }
   ],
   "source": [
    "dau_day = visits.groupby('session_start_dt').agg({'uid': 'nunique'}).reset_index()\n",
    "#Строим график по показателям DAU \n",
    "function(dau_day, 'session_start_dt', 'uid', 'DAU в динамике по времени')"
   ]
  },
  {
   "cell_type": "markdown",
   "metadata": {},
   "source": [
    "В целом динамика по WAU схожа с динамикой по DAU, пик приходится на последнюю неделю ноября 2017 года, дальше идет падение с ростом в феврале и марте 2018 года."
   ]
  },
  {
   "cell_type": "code",
   "execution_count": 10,
   "metadata": {},
   "outputs": [
    {
     "data": {
      "image/svg+xml": [
       "<svg class=\"main-svg\" xmlns=\"http://www.w3.org/2000/svg\" xmlns:xlink=\"http://www.w3.org/1999/xlink\" width=\"700\" height=\"500\" style=\"\" viewBox=\"0 0 700 500\"><rect x=\"0\" y=\"0\" width=\"700\" height=\"500\" style=\"fill: rgb(255, 255, 255); fill-opacity: 1;\"/><defs id=\"defs-e1e203\"><g class=\"clips\"><clipPath id=\"clipe1e203xyplot\" class=\"plotclip\"><rect width=\"540\" height=\"320\"/></clipPath><clipPath class=\"axesclip\" id=\"clipe1e203x\"><rect x=\"80\" y=\"0\" width=\"540\" height=\"500\"/></clipPath><clipPath class=\"axesclip\" id=\"clipe1e203y\"><rect x=\"0\" y=\"100\" width=\"700\" height=\"320\"/></clipPath><clipPath class=\"axesclip\" id=\"clipe1e203xy\"><rect x=\"80\" y=\"100\" width=\"540\" height=\"320\"/></clipPath></g><g class=\"gradients\"/><g class=\"patterns\"/></defs><g class=\"bglayer\"><rect class=\"bg\" x=\"80\" y=\"100\" width=\"540\" height=\"320\" style=\"fill: rgb(229, 236, 246); fill-opacity: 1; stroke-width: 0;\"/></g><g class=\"layer-below\"><g class=\"imagelayer\"/><g class=\"shapelayer\"/></g><g class=\"cartesianlayer\"><g class=\"subplot xy\"><g class=\"layer-subplot\"><g class=\"shapelayer\"/><g class=\"imagelayer\"/></g><g class=\"gridlayer\"><g class=\"x\"><path class=\"xgrid crisp\" transform=\"translate(124.50999999999999,0)\" d=\"M0,100v320\" style=\"stroke: rgb(255, 255, 255); stroke-opacity: 1; stroke-width: 1px;\"/><path class=\"xgrid crisp\" transform=\"translate(216.48,0)\" d=\"M0,100v320\" style=\"stroke: rgb(255, 255, 255); stroke-opacity: 1; stroke-width: 1px;\"/><path class=\"xgrid crisp\" transform=\"translate(306.98,0)\" d=\"M0,100v320\" style=\"stroke: rgb(255, 255, 255); stroke-opacity: 1; stroke-width: 1px;\"/><path class=\"xgrid crisp\" transform=\"translate(397.47,0)\" d=\"M0,100v320\" style=\"stroke: rgb(255, 255, 255); stroke-opacity: 1; stroke-width: 1px;\"/><path class=\"xgrid crisp\" transform=\"translate(485,0)\" d=\"M0,100v320\" style=\"stroke: rgb(255, 255, 255); stroke-opacity: 1; stroke-width: 1px;\"/><path class=\"xgrid crisp\" transform=\"translate(575.49,0)\" d=\"M0,100v320\" style=\"stroke: rgb(255, 255, 255); stroke-opacity: 1; stroke-width: 1px;\"/></g><g class=\"y\"><path class=\"ygrid crisp\" transform=\"translate(0,403.9)\" d=\"M80,0h540\" style=\"stroke: rgb(255, 255, 255); stroke-opacity: 1; stroke-width: 1px;\"/><path class=\"ygrid crisp\" transform=\"translate(0,337.84000000000003)\" d=\"M80,0h540\" style=\"stroke: rgb(255, 255, 255); stroke-opacity: 1; stroke-width: 1px;\"/><path class=\"ygrid crisp\" transform=\"translate(0,271.78)\" d=\"M80,0h540\" style=\"stroke: rgb(255, 255, 255); stroke-opacity: 1; stroke-width: 1px;\"/><path class=\"ygrid crisp\" transform=\"translate(0,205.70999999999998)\" d=\"M80,0h540\" style=\"stroke: rgb(255, 255, 255); stroke-opacity: 1; stroke-width: 1px;\"/><path class=\"ygrid crisp\" transform=\"translate(0,139.65)\" d=\"M80,0h540\" style=\"stroke: rgb(255, 255, 255); stroke-opacity: 1; stroke-width: 1px;\"/></g></g><g class=\"zerolinelayer\"/><path class=\"xlines-below\"/><path class=\"ylines-below\"/><g class=\"overlines-below\"/><g class=\"xaxislayer-below\"/><g class=\"yaxislayer-below\"/><g class=\"overaxes-below\"/><g class=\"plot\" transform=\"translate(80,100)\" clip-path=\"url(#clipe1e203xyplot)\"><g class=\"scatterlayer mlayer\"><g class=\"trace scatter tracee91566\" style=\"stroke-miterlimit: 2; opacity: 1;\"><g class=\"fills\"/><g class=\"errorbars\"/><g class=\"lines\"><path class=\"js-line\" d=\"M0,235.13L10.38,260.6L20.77,276.02L31.15,268.26L41.54,269.05L51.92,252.27L62.31,211.74L72.69,271.6L83.08,287.22L93.46,292.57L103.85,282.17L114.23,275.63L124.62,259.74L135,235.99L145.38,227.57L155.77,217.19L166.15,192.35L176.54,142.44L186.92,121.07L197.31,142.18L207.69,126.36L218.08,117.67L228.46,131.28L238.85,124.18L249.23,96L259.62,16L270,101.68L280.38,86.72L290.77,118.56L301.15,119.02L311.54,232.45L311.54,259.34L321.92,149.58L332.31,144.39L342.69,134.68L353.08,127.48L363.46,105.18L373.85,98.51L384.23,117.64L394.62,128.21L405,123.22L415.38,157.27L425.77,158.99L436.15,89.66L446.54,253.99L456.92,185.32L467.31,192.19L477.69,175.28L488.08,225.02L498.46,233.21L508.85,214.98L519.23,197.08L529.62,184.69L540,304\" style=\"vector-effect: non-scaling-stroke; fill: none; stroke: rgb(99, 110, 250); stroke-opacity: 1; stroke-width: 2px; opacity: 1;\"/></g><g class=\"points\"/><g class=\"text\"/></g></g></g><g class=\"overplot\"/><path class=\"xlines-above crisp\" d=\"M0,0\" style=\"fill: none;\"/><path class=\"ylines-above crisp\" d=\"M0,0\" style=\"fill: none;\"/><g class=\"overlines-above\"/><g class=\"xaxislayer-above\"><g class=\"xtick\"><text text-anchor=\"middle\" x=\"0\" y=\"433\" transform=\"translate(124.50999999999999,0)\" style=\"font-family: 'Open Sans', verdana, arial, sans-serif; font-size: 12px; fill: rgb(42, 63, 95); fill-opacity: 1; white-space: pre; opacity: 1;\">Jul 2017</text></g><g class=\"xtick\"><text text-anchor=\"middle\" x=\"0\" y=\"433\" style=\"font-family: 'Open Sans', verdana, arial, sans-serif; font-size: 12px; fill: rgb(42, 63, 95); fill-opacity: 1; white-space: pre; opacity: 1;\" transform=\"translate(216.48,0)\">Sep 2017</text></g><g class=\"xtick\"><text text-anchor=\"middle\" x=\"0\" y=\"433\" style=\"font-family: 'Open Sans', verdana, arial, sans-serif; font-size: 12px; fill: rgb(42, 63, 95); fill-opacity: 1; white-space: pre; opacity: 1;\" transform=\"translate(306.98,0)\">Nov 2017</text></g><g class=\"xtick\"><text text-anchor=\"middle\" x=\"0\" y=\"433\" style=\"font-family: 'Open Sans', verdana, arial, sans-serif; font-size: 12px; fill: rgb(42, 63, 95); fill-opacity: 1; white-space: pre; opacity: 1;\" transform=\"translate(397.47,0)\">Jan 2018</text></g><g class=\"xtick\"><text text-anchor=\"middle\" x=\"0\" y=\"433\" style=\"font-family: 'Open Sans', verdana, arial, sans-serif; font-size: 12px; fill: rgb(42, 63, 95); fill-opacity: 1; white-space: pre; opacity: 1;\" transform=\"translate(485,0)\">Mar 2018</text></g><g class=\"xtick\"><text text-anchor=\"middle\" x=\"0\" y=\"433\" style=\"font-family: 'Open Sans', verdana, arial, sans-serif; font-size: 12px; fill: rgb(42, 63, 95); fill-opacity: 1; white-space: pre; opacity: 1;\" transform=\"translate(575.49,0)\">May 2018</text></g></g><g class=\"yaxislayer-above\"><g class=\"ytick\"><text text-anchor=\"end\" x=\"79\" y=\"4.199999999999999\" transform=\"translate(0,403.9)\" style=\"font-family: 'Open Sans', verdana, arial, sans-serif; font-size: 12px; fill: rgb(42, 63, 95); fill-opacity: 1; white-space: pre; opacity: 1;\">2k</text></g><g class=\"ytick\"><text text-anchor=\"end\" x=\"79\" y=\"4.199999999999999\" style=\"font-family: 'Open Sans', verdana, arial, sans-serif; font-size: 12px; fill: rgb(42, 63, 95); fill-opacity: 1; white-space: pre; opacity: 1;\" transform=\"translate(0,337.84000000000003)\">4k</text></g><g class=\"ytick\"><text text-anchor=\"end\" x=\"79\" y=\"4.199999999999999\" style=\"font-family: 'Open Sans', verdana, arial, sans-serif; font-size: 12px; fill: rgb(42, 63, 95); fill-opacity: 1; white-space: pre; opacity: 1;\" transform=\"translate(0,271.78)\">6k</text></g><g class=\"ytick\"><text text-anchor=\"end\" x=\"79\" y=\"4.199999999999999\" style=\"font-family: 'Open Sans', verdana, arial, sans-serif; font-size: 12px; fill: rgb(42, 63, 95); fill-opacity: 1; white-space: pre; opacity: 1;\" transform=\"translate(0,205.70999999999998)\">8k</text></g><g class=\"ytick\"><text text-anchor=\"end\" x=\"79\" y=\"4.199999999999999\" style=\"font-family: 'Open Sans', verdana, arial, sans-serif; font-size: 12px; fill: rgb(42, 63, 95); fill-opacity: 1; white-space: pre; opacity: 1;\" transform=\"translate(0,139.65)\">10k</text></g></g><g class=\"overaxes-above\"/></g></g><g class=\"polarlayer\"/><g class=\"ternarylayer\"/><g class=\"geolayer\"/><g class=\"funnelarealayer\"/><g class=\"pielayer\"/><g class=\"iciclelayer\"/><g class=\"treemaplayer\"/><g class=\"sunburstlayer\"/><g class=\"glimages\"/><defs id=\"topdefs-e1e203\"><g class=\"clips\"/></defs><g class=\"layer-above\"><g class=\"imagelayer\"/><g class=\"shapelayer\"/></g><g class=\"infolayer\"><g class=\"g-gtitle\"><text class=\"gtitle\" x=\"35\" y=\"50\" text-anchor=\"start\" dy=\"0em\" style=\"font-family: 'Open Sans', verdana, arial, sans-serif; font-size: 17px; fill: rgb(42, 63, 95); opacity: 1; font-weight: normal; white-space: pre;\">WAU в динамике по времени</text></g><g class=\"g-xtitle\"><text class=\"xtitle\" x=\"350\" y=\"460.8\" text-anchor=\"middle\" style=\"font-family: 'Open Sans', verdana, arial, sans-serif; font-size: 14px; fill: rgb(42, 63, 95); opacity: 1; font-weight: normal; white-space: pre;\">session_week</text></g><g class=\"g-ytitle\"><text class=\"ytitle\" transform=\"rotate(-90,31.840625000000003,260)\" x=\"31.840625000000003\" y=\"260\" text-anchor=\"middle\" style=\"font-family: 'Open Sans', verdana, arial, sans-serif; font-size: 14px; fill: rgb(42, 63, 95); opacity: 1; font-weight: normal; white-space: pre;\">uid</text></g></g></svg>"
      ]
     },
     "metadata": {},
     "output_type": "display_data"
    }
   ],
   "source": [
    "wau_total = visits.groupby(['session_year', 'session_week']).agg({'uid': 'nunique'}).reset_index()\n",
    "function(wau_total, 'session_week', 'uid', 'WAU в динамике по времени')"
   ]
  },
  {
   "cell_type": "markdown",
   "metadata": {},
   "source": [
    "График MAU в целом показывает динамику, что и по предыдущим графикам. Самый посещаемый месяц это ноябрь 2017 года, а самый низкопосещаемый август 2017 года."
   ]
  },
  {
   "cell_type": "code",
   "execution_count": 11,
   "metadata": {},
   "outputs": [
    {
     "data": {
      "image/svg+xml": [
       "<svg class=\"main-svg\" xmlns=\"http://www.w3.org/2000/svg\" xmlns:xlink=\"http://www.w3.org/1999/xlink\" width=\"700\" height=\"500\" style=\"\" viewBox=\"0 0 700 500\"><rect x=\"0\" y=\"0\" width=\"700\" height=\"500\" style=\"fill: rgb(255, 255, 255); fill-opacity: 1;\"/><defs id=\"defs-0b8b77\"><g class=\"clips\"><clipPath id=\"clip0b8b77xyplot\" class=\"plotclip\"><rect width=\"540\" height=\"320\"/></clipPath><clipPath class=\"axesclip\" id=\"clip0b8b77x\"><rect x=\"80\" y=\"0\" width=\"540\" height=\"500\"/></clipPath><clipPath class=\"axesclip\" id=\"clip0b8b77y\"><rect x=\"0\" y=\"100\" width=\"700\" height=\"320\"/></clipPath><clipPath class=\"axesclip\" id=\"clip0b8b77xy\"><rect x=\"80\" y=\"100\" width=\"540\" height=\"320\"/></clipPath></g><g class=\"gradients\"/><g class=\"patterns\"/></defs><g class=\"bglayer\"><rect class=\"bg\" x=\"80\" y=\"100\" width=\"540\" height=\"320\" style=\"fill: rgb(229, 236, 246); fill-opacity: 1; stroke-width: 0;\"/></g><g class=\"layer-below\"><g class=\"imagelayer\"/><g class=\"shapelayer\"/></g><g class=\"cartesianlayer\"><g class=\"subplot xy\"><g class=\"layer-subplot\"><g class=\"shapelayer\"/><g class=\"imagelayer\"/></g><g class=\"gridlayer\"><g class=\"x\"><path class=\"xgrid crisp\" transform=\"translate(128.5,0)\" d=\"M0,100v320\" style=\"stroke: rgb(255, 255, 255); stroke-opacity: 1; stroke-width: 1px;\"/><path class=\"xgrid crisp\" transform=\"translate(228.74,0)\" d=\"M0,100v320\" style=\"stroke: rgb(255, 255, 255); stroke-opacity: 1; stroke-width: 1px;\"/><path class=\"xgrid crisp\" transform=\"translate(327.37,0)\" d=\"M0,100v320\" style=\"stroke: rgb(255, 255, 255); stroke-opacity: 1; stroke-width: 1px;\"/><path class=\"xgrid crisp\" transform=\"translate(425.99,0)\" d=\"M0,100v320\" style=\"stroke: rgb(255, 255, 255); stroke-opacity: 1; stroke-width: 1px;\"/><path class=\"xgrid crisp\" transform=\"translate(521.38,0)\" d=\"M0,100v320\" style=\"stroke: rgb(255, 255, 255); stroke-opacity: 1; stroke-width: 1px;\"/></g><g class=\"y\"><path class=\"ygrid crisp\" transform=\"translate(0,358.16)\" d=\"M80,0h540\" style=\"stroke: rgb(255, 255, 255); stroke-opacity: 1; stroke-width: 1px;\"/><path class=\"ygrid crisp\" transform=\"translate(0,290.13)\" d=\"M80,0h540\" style=\"stroke: rgb(255, 255, 255); stroke-opacity: 1; stroke-width: 1px;\"/><path class=\"ygrid crisp\" transform=\"translate(0,222.09)\" d=\"M80,0h540\" style=\"stroke: rgb(255, 255, 255); stroke-opacity: 1; stroke-width: 1px;\"/><path class=\"ygrid crisp\" transform=\"translate(0,154.06)\" d=\"M80,0h540\" style=\"stroke: rgb(255, 255, 255); stroke-opacity: 1; stroke-width: 1px;\"/></g></g><g class=\"zerolinelayer\"/><path class=\"xlines-below\"/><path class=\"ylines-below\"/><g class=\"overlines-below\"/><g class=\"xaxislayer-below\"/><g class=\"yaxislayer-below\"/><g class=\"overaxes-below\"/><g class=\"plot\" transform=\"translate(80,100)\" clip-path=\"url(#clip0b8b77xyplot)\"><g class=\"scatterlayer mlayer\"><g class=\"trace scatter trace49301d\" style=\"stroke-miterlimit: 2; opacity: 1;\"><g class=\"fills\"/><g class=\"errorbars\"/><g class=\"lines\"><path class=\"js-line\" d=\"M0,281.85L48.5,269.28L98.62,304L148.74,204.07L197.25,58.25L247.37,16L295.87,32.87L345.99,71.53L396.11,71.08L441.38,88.44L491.5,176.41L540,180.59\" style=\"vector-effect: non-scaling-stroke; fill: none; stroke: rgb(99, 110, 250); stroke-opacity: 1; stroke-width: 2px; opacity: 1;\"/></g><g class=\"points\"/><g class=\"text\"/></g></g></g><g class=\"overplot\"/><path class=\"xlines-above crisp\" d=\"M0,0\" style=\"fill: none;\"/><path class=\"ylines-above crisp\" d=\"M0,0\" style=\"fill: none;\"/><g class=\"overlines-above\"/><g class=\"xaxislayer-above\"><g class=\"xtick\"><text text-anchor=\"middle\" x=\"0\" y=\"433\" transform=\"translate(128.5,0)\" style=\"font-family: 'Open Sans', verdana, arial, sans-serif; font-size: 12px; fill: rgb(42, 63, 95); fill-opacity: 1; white-space: pre; opacity: 1;\">Jul 2017</text></g><g class=\"xtick\"><text text-anchor=\"middle\" x=\"0\" y=\"433\" style=\"font-family: 'Open Sans', verdana, arial, sans-serif; font-size: 12px; fill: rgb(42, 63, 95); fill-opacity: 1; white-space: pre; opacity: 1;\" transform=\"translate(228.74,0)\">Sep 2017</text></g><g class=\"xtick\"><text text-anchor=\"middle\" x=\"0\" y=\"433\" style=\"font-family: 'Open Sans', verdana, arial, sans-serif; font-size: 12px; fill: rgb(42, 63, 95); fill-opacity: 1; white-space: pre; opacity: 1;\" transform=\"translate(327.37,0)\">Nov 2017</text></g><g class=\"xtick\"><text text-anchor=\"middle\" x=\"0\" y=\"433\" style=\"font-family: 'Open Sans', verdana, arial, sans-serif; font-size: 12px; fill: rgb(42, 63, 95); fill-opacity: 1; white-space: pre; opacity: 1;\" transform=\"translate(425.99,0)\">Jan 2018</text></g><g class=\"xtick\"><text text-anchor=\"middle\" x=\"0\" y=\"433\" style=\"font-family: 'Open Sans', verdana, arial, sans-serif; font-size: 12px; fill: rgb(42, 63, 95); fill-opacity: 1; white-space: pre; opacity: 1;\" transform=\"translate(521.38,0)\">Mar 2018</text></g><g class=\"xtick\"><text text-anchor=\"middle\" x=\"0\" y=\"433\" style=\"font-family: 'Open Sans', verdana, arial, sans-serif; font-size: 12px; fill: rgb(42, 63, 95); fill-opacity: 1; white-space: pre; opacity: 1;\" transform=\"translate(620,0)\">May 2018</text></g></g><g class=\"yaxislayer-above\"><g class=\"ytick\"><text text-anchor=\"end\" x=\"79\" y=\"4.199999999999999\" transform=\"translate(0,358.16)\" style=\"font-family: 'Open Sans', verdana, arial, sans-serif; font-size: 12px; fill: rgb(42, 63, 95); fill-opacity: 1; white-space: pre; opacity: 1;\">15k</text></g><g class=\"ytick\"><text text-anchor=\"end\" x=\"79\" y=\"4.199999999999999\" style=\"font-family: 'Open Sans', verdana, arial, sans-serif; font-size: 12px; fill: rgb(42, 63, 95); fill-opacity: 1; white-space: pre; opacity: 1;\" transform=\"translate(0,290.13)\">20k</text></g><g class=\"ytick\"><text text-anchor=\"end\" x=\"79\" y=\"4.199999999999999\" style=\"font-family: 'Open Sans', verdana, arial, sans-serif; font-size: 12px; fill: rgb(42, 63, 95); fill-opacity: 1; white-space: pre; opacity: 1;\" transform=\"translate(0,222.09)\">25k</text></g><g class=\"ytick\"><text text-anchor=\"end\" x=\"79\" y=\"4.199999999999999\" style=\"font-family: 'Open Sans', verdana, arial, sans-serif; font-size: 12px; fill: rgb(42, 63, 95); fill-opacity: 1; white-space: pre; opacity: 1;\" transform=\"translate(0,154.06)\">30k</text></g></g><g class=\"overaxes-above\"/></g></g><g class=\"polarlayer\"/><g class=\"ternarylayer\"/><g class=\"geolayer\"/><g class=\"funnelarealayer\"/><g class=\"pielayer\"/><g class=\"iciclelayer\"/><g class=\"treemaplayer\"/><g class=\"sunburstlayer\"/><g class=\"glimages\"/><defs id=\"topdefs-0b8b77\"><g class=\"clips\"/></defs><g class=\"layer-above\"><g class=\"imagelayer\"/><g class=\"shapelayer\"/></g><g class=\"infolayer\"><g class=\"g-gtitle\"><text class=\"gtitle\" x=\"35\" y=\"50\" text-anchor=\"start\" dy=\"0em\" style=\"font-family: 'Open Sans', verdana, arial, sans-serif; font-size: 17px; fill: rgb(42, 63, 95); opacity: 1; font-weight: normal; white-space: pre;\">MAU в динамике по времени</text></g><g class=\"g-xtitle\"><text class=\"xtitle\" x=\"350\" y=\"460.8\" text-anchor=\"middle\" style=\"font-family: 'Open Sans', verdana, arial, sans-serif; font-size: 14px; fill: rgb(42, 63, 95); opacity: 1; font-weight: normal; white-space: pre;\">session_month</text></g><g class=\"g-ytitle\"><text class=\"ytitle\" transform=\"rotate(-90,31.840625000000003,260)\" x=\"31.840625000000003\" y=\"260\" text-anchor=\"middle\" style=\"font-family: 'Open Sans', verdana, arial, sans-serif; font-size: 14px; fill: rgb(42, 63, 95); opacity: 1; font-weight: normal; white-space: pre;\">uid</text></g></g></svg>"
      ]
     },
     "metadata": {},
     "output_type": "display_data"
    }
   ],
   "source": [
    "mau_total = visits.groupby(['session_year', 'session_month']).agg({'uid': 'nunique'}).reset_index()\n",
    "function(mau_total, 'session_month', 'uid', 'MAU в динамике по времени')"
   ]
  },
  {
   "cell_type": "markdown",
   "metadata": {},
   "source": [
    "#### Средний заход пользователя на сайт\n",
    "Определим, сколько раз за день пользователи в среднем заходят на сайт."
   ]
  },
  {
   "cell_type": "code",
   "execution_count": 12,
   "metadata": {},
   "outputs": [
    {
     "data": {
      "text/plain": [
       "1.0821696440039723"
      ]
     },
     "execution_count": 12,
     "metadata": {},
     "output_type": "execute_result"
    }
   ],
   "source": [
    "#Создаем группировку для подсчета сколько раз за день пользователи в среднем заходят на сайт по количеству заходов с количеством уникальных пользователей\n",
    "sessions_per_user = visits.groupby('session_start_dt').agg({'uid': ['count', 'nunique']}).reset_index()\n",
    "#Переименовываем столбцы\n",
    "sessions_per_user.columns = ['session_start_dt', 'n_sessions', 'n_users']\n",
    "\n",
    "#разделим число заходов на количество пользователей\n",
    "sessions_per_user['sessions_per_user'] = sessions_per_user['n_sessions'] / sessions_per_user['n_users']\n",
    "#находим среднее значение\n",
    "sessions_per_user['sessions_per_user'].mean()"
   ]
  },
  {
   "cell_type": "markdown",
   "metadata": {},
   "source": [
    "Отобразим данный показател в динамике, на основе построения графика. В среднем можно говорить о том, что на сайт заходят менее 1,21, при этом данный показатель наблюдается только в один день 24 ноября, а самый низкий показатель наблюдается 1,02 - 30 марта 2018 года."
   ]
  },
  {
   "cell_type": "code",
   "execution_count": 13,
   "metadata": {},
   "outputs": [
    {
     "data": {
      "image/svg+xml": [
       "<svg class=\"main-svg\" xmlns=\"http://www.w3.org/2000/svg\" xmlns:xlink=\"http://www.w3.org/1999/xlink\" width=\"700\" height=\"500\" style=\"\" viewBox=\"0 0 700 500\"><rect x=\"0\" y=\"0\" width=\"700\" height=\"500\" style=\"fill: rgb(255, 255, 255); fill-opacity: 1;\"/><defs id=\"defs-939b17\"><g class=\"clips\"><clipPath id=\"clip939b17xyplot\" class=\"plotclip\"><rect width=\"540\" height=\"320\"/></clipPath><clipPath class=\"axesclip\" id=\"clip939b17x\"><rect x=\"80\" y=\"0\" width=\"540\" height=\"500\"/></clipPath><clipPath class=\"axesclip\" id=\"clip939b17y\"><rect x=\"0\" y=\"100\" width=\"700\" height=\"320\"/></clipPath><clipPath class=\"axesclip\" id=\"clip939b17xy\"><rect x=\"80\" y=\"100\" width=\"540\" height=\"320\"/></clipPath></g><g class=\"gradients\"/><g class=\"patterns\"/></defs><g class=\"bglayer\"><rect class=\"bg\" x=\"80\" y=\"100\" width=\"540\" height=\"320\" style=\"fill: rgb(229, 236, 246); fill-opacity: 1; stroke-width: 0;\"/></g><g class=\"layer-below\"><g class=\"imagelayer\"/><g class=\"shapelayer\"/></g><g class=\"cartesianlayer\"><g class=\"subplot xy\"><g class=\"layer-subplot\"><g class=\"shapelayer\"/><g class=\"imagelayer\"/></g><g class=\"gridlayer\"><g class=\"x\"><path class=\"xgrid crisp\" transform=\"translate(124.50999999999999,0)\" d=\"M0,100v320\" style=\"stroke: rgb(255, 255, 255); stroke-opacity: 1; stroke-width: 1px;\"/><path class=\"xgrid crisp\" transform=\"translate(216.48,0)\" d=\"M0,100v320\" style=\"stroke: rgb(255, 255, 255); stroke-opacity: 1; stroke-width: 1px;\"/><path class=\"xgrid crisp\" transform=\"translate(306.98,0)\" d=\"M0,100v320\" style=\"stroke: rgb(255, 255, 255); stroke-opacity: 1; stroke-width: 1px;\"/><path class=\"xgrid crisp\" transform=\"translate(397.47,0)\" d=\"M0,100v320\" style=\"stroke: rgb(255, 255, 255); stroke-opacity: 1; stroke-width: 1px;\"/><path class=\"xgrid crisp\" transform=\"translate(485,0)\" d=\"M0,100v320\" style=\"stroke: rgb(255, 255, 255); stroke-opacity: 1; stroke-width: 1px;\"/><path class=\"xgrid crisp\" transform=\"translate(575.49,0)\" d=\"M0,100v320\" style=\"stroke: rgb(255, 255, 255); stroke-opacity: 1; stroke-width: 1px;\"/></g><g class=\"y\"><path class=\"ygrid crisp\" transform=\"translate(0,404)\" d=\"M80,0h540\" style=\"stroke: rgb(255, 255, 255); stroke-opacity: 1; stroke-width: 1px;\"/><path class=\"ygrid crisp\" transform=\"translate(0,337.9)\" d=\"M80,0h540\" style=\"stroke: rgb(255, 255, 255); stroke-opacity: 1; stroke-width: 1px;\"/><path class=\"ygrid crisp\" transform=\"translate(0,271.78999999999996)\" d=\"M80,0h540\" style=\"stroke: rgb(255, 255, 255); stroke-opacity: 1; stroke-width: 1px;\"/><path class=\"ygrid crisp\" transform=\"translate(0,205.69)\" d=\"M80,0h540\" style=\"stroke: rgb(255, 255, 255); stroke-opacity: 1; stroke-width: 1px;\"/><path class=\"ygrid crisp\" transform=\"translate(0,139.57999999999998)\" d=\"M80,0h540\" style=\"stroke: rgb(255, 255, 255); stroke-opacity: 1; stroke-width: 1px;\"/></g></g><g class=\"zerolinelayer\"/><path class=\"xlines-below\"/><path class=\"ylines-below\"/><g class=\"overlines-below\"/><g class=\"xaxislayer-below\"/><g class=\"yaxislayer-below\"/><g class=\"overaxes-below\"/><g class=\"plot\" transform=\"translate(80,100)\" clip-path=\"url(#clip939b17xyplot)\"><g class=\"scatterlayer mlayer\"><g class=\"trace scatter traced3739c\" style=\"stroke-miterlimit: 2; opacity: 1;\"><g class=\"fills\"/><g class=\"errorbars\"/><g class=\"lines\"><path class=\"js-line\" d=\"M0,175.07L2.97,208.93L4.45,209.56L7.42,174.61L8.9,135.67L10.38,195.86L11.87,189.86L13.35,209.56L14.84,240.61L17.8,214.46L19.29,176.82L20.77,225.82L22.25,185.81L23.74,267.72L25.22,206.58L26.7,205.25L28.19,188.53L29.67,222.13L31.15,227.68L32.64,223.96L34.12,255.63L35.6,200.44L37.09,205.55L38.57,220.19L40.05,215.38L41.54,197.46L43.02,201.61L44.51,194.13L45.99,243.9L47.47,221.65L48.96,223.79L50.44,184.27L51.92,207.93L53.41,228.38L54.89,215.63L56.37,211.69L57.86,180.48L59.34,177.42L60.82,189.38L62.31,191.6L63.79,174.78L65.27,218.27L66.76,219.12L68.24,141.35L69.73,174.79L71.21,151.73L72.69,214.97L74.18,209.38L75.66,226.23L77.14,209.56L78.63,213.32L81.59,207.57L83.08,215.86L84.56,183.48L86.04,200.64L87.53,214.73L89.01,184.57L91.98,234.22L93.46,214.08L94.95,220.18L96.43,190.68L97.91,238.36L99.4,208.2L100.88,218.81L102.36,210.04L103.85,232.86L105.33,208.2L106.81,182.04L108.3,247.54L111.26,205.05L112.75,203.89L114.23,197.11L115.71,237.44L117.2,267.78L118.68,230.32L120.16,210.11L121.65,201.29L123.13,209.03L124.62,181.33L126.1,243.43L127.58,252.28L129.07,250.74L130.55,183.21L132.03,173.85L133.52,196.03L136.48,186.12L137.97,242.38L140.93,211.01L142.42,204.12L143.9,210.42L145.38,197.49L146.87,226.14L148.35,231.56L149.84,228.23L151.32,215.63L152.8,175.52L154.29,192.27L155.77,205.88L157.25,190.89L158.74,230.94L160.22,234.92L163.19,165.01L164.67,187.09L167.64,161.52L169.12,233.21L170.6,220.12L172.09,193.83L175.05,176.1L176.54,175.34L178.02,189.52L179.51,236.88L180.99,230.72L182.47,209.4L183.96,194.01L185.44,197.76L186.92,203.71L188.41,175.33L191.37,227.7L192.86,193.56L194.34,187.17L195.82,185.85L197.31,182.27L198.79,189.13L200.27,222.94L201.76,238.84L203.24,189.68L204.73,195.67L206.21,212.2L207.69,201.31L209.18,201.74L210.66,211.45L212.14,222.11L213.63,183.04L215.11,170.03L216.59,204.31L218.08,179.87L219.56,193.73L221.04,214.56L222.53,211.32L224.01,212.02L225.49,191.64L226.98,194.98L228.46,188.54L231.43,242.31L232.91,234.55L234.4,209.29L235.88,212.31L237.36,222.54L238.85,209.65L240.33,191.34L241.81,219.9L243.3,233.98L244.78,190.78L246.26,196.78L247.75,179.62L249.23,177.89L250.71,185L253.68,212.56L255.16,178.8L256.65,207L258.13,178.64L259.62,174.84L261.1,16L264.07,170.42L265.55,133.16L267.03,79.96L268.52,116.3L270,149.18L271.48,156.52L272.97,169.25L274.45,204.7L277.42,173.42L278.9,158.06L280.38,189.49L281.87,182.19L283.35,160.37L284.84,205.72L287.8,160.95L289.29,162.94L290.77,165.69L292.25,170.77L293.74,217.56L295.22,207.85L296.7,200.11L298.19,172.25L299.67,187.91L301.15,195.19L302.64,201.5L304.12,196.6L305.6,201.99L307.09,177.77L308.57,182.41L310.05,194.98L311.54,189.75L313.02,167.58L314.51,201.2L315.99,210.08L317.47,206.71L318.96,209.94L321.92,188.58L323.41,190.98L324.89,218.75L326.37,219.68L327.86,191.26L329.34,203.2L330.82,192.86L332.31,211.09L333.79,197.55L335.27,196.2L336.76,189.23L338.24,205.55L339.73,171.43L341.21,185.08L342.69,176.06L344.18,186.78L345.66,194.73L347.14,169.36L348.63,165.11L350.11,177.87L351.59,160.91L353.08,194.91L354.56,175.33L356.04,186.82L357.53,201.75L359.01,190.74L360.49,161.68L361.98,182.45L363.46,112.14L364.95,161.05L366.43,216.7L367.91,219.97L370.88,183.91L372.36,194L373.85,189.24L375.33,177.31L376.81,173.9L378.3,183.34L379.78,193.18L381.26,164.14L382.75,172.09L384.23,190.81L385.71,175.57L387.2,176.06L388.68,174.02L390.16,186.09L391.65,171.79L393.13,167.16L394.62,196.03L396.1,196.18L399.07,223.21L400.55,216.86L402.03,185.62L403.52,175.86L405,174.74L406.48,176.33L409.45,221.77L410.93,173.87L412.42,161.22L413.9,191.05L415.38,191.78L416.87,185.76L419.84,202.55L421.32,163.76L422.8,162.85L424.29,175.72L425.77,151.9L427.25,185.38L428.74,206.13L430.22,184.66L431.7,166.19L433.19,186.58L434.67,182.41L436.15,209.36L437.64,203.63L439.12,187.88L442.09,150.34L443.57,148.01L445.05,185.4L446.54,187.98L448.02,273.72L449.51,304L452.47,217.37L453.96,208.56L455.44,199.7L456.92,202.52L458.41,185L459.89,211.63L461.37,209.69L462.86,206.02L464.34,210.09L465.82,200.69L467.31,194.66L468.79,200.58L470.27,218.31L471.76,249.38L473.24,194.71L474.73,193.83L476.21,175.05L477.69,187.38L479.18,180.68L480.66,207.51L482.14,219.03L483.63,173.89L486.59,168.36L488.08,155.54L489.56,168.61L491.04,203.06L492.53,231.13L494.01,216.72L495.49,228.3L496.98,224.03L498.46,190.4L499.95,208.17L501.43,194.02L502.91,210.54L504.4,186.85L505.88,208.48L507.36,235.05L508.85,202.3L511.81,158.69L513.3,205.68L514.78,181.05L516.26,169.16L519.23,142.77L520.71,158.91L523.68,216.25L525.16,159.94L526.65,218.94L528.13,168.69L531.1,199.33L532.58,187.6L534.07,193.11L535.55,155.12L537.03,182.67L538.52,179.89L540,132.53\" style=\"vector-effect: non-scaling-stroke; fill: none; stroke: rgb(99, 110, 250); stroke-opacity: 1; stroke-width: 2px; opacity: 1;\"/></g><g class=\"points\"/><g class=\"text\"/></g></g></g><g class=\"overplot\"/><path class=\"xlines-above crisp\" d=\"M0,0\" style=\"fill: none;\"/><path class=\"ylines-above crisp\" d=\"M0,0\" style=\"fill: none;\"/><g class=\"overlines-above\"/><g class=\"xaxislayer-above\"><g class=\"xtick\"><text text-anchor=\"middle\" x=\"0\" y=\"433\" transform=\"translate(124.50999999999999,0)\" style=\"font-family: 'Open Sans', verdana, arial, sans-serif; font-size: 12px; fill: rgb(42, 63, 95); fill-opacity: 1; white-space: pre; opacity: 1;\">Jul 2017</text></g><g class=\"xtick\"><text text-anchor=\"middle\" x=\"0\" y=\"433\" style=\"font-family: 'Open Sans', verdana, arial, sans-serif; font-size: 12px; fill: rgb(42, 63, 95); fill-opacity: 1; white-space: pre; opacity: 1;\" transform=\"translate(216.48,0)\">Sep 2017</text></g><g class=\"xtick\"><text text-anchor=\"middle\" x=\"0\" y=\"433\" style=\"font-family: 'Open Sans', verdana, arial, sans-serif; font-size: 12px; fill: rgb(42, 63, 95); fill-opacity: 1; white-space: pre; opacity: 1;\" transform=\"translate(306.98,0)\">Nov 2017</text></g><g class=\"xtick\"><text text-anchor=\"middle\" x=\"0\" y=\"433\" style=\"font-family: 'Open Sans', verdana, arial, sans-serif; font-size: 12px; fill: rgb(42, 63, 95); fill-opacity: 1; white-space: pre; opacity: 1;\" transform=\"translate(397.47,0)\">Jan 2018</text></g><g class=\"xtick\"><text text-anchor=\"middle\" x=\"0\" y=\"433\" style=\"font-family: 'Open Sans', verdana, arial, sans-serif; font-size: 12px; fill: rgb(42, 63, 95); fill-opacity: 1; white-space: pre; opacity: 1;\" transform=\"translate(485,0)\">Mar 2018</text></g><g class=\"xtick\"><text text-anchor=\"middle\" x=\"0\" y=\"433\" style=\"font-family: 'Open Sans', verdana, arial, sans-serif; font-size: 12px; fill: rgb(42, 63, 95); fill-opacity: 1; white-space: pre; opacity: 1;\" transform=\"translate(575.49,0)\">May 2018</text></g></g><g class=\"yaxislayer-above\"><g class=\"ytick\"><text text-anchor=\"end\" x=\"79\" y=\"4.199999999999999\" transform=\"translate(0,404)\" style=\"font-family: 'Open Sans', verdana, arial, sans-serif; font-size: 12px; fill: rgb(42, 63, 95); fill-opacity: 1; white-space: pre; opacity: 1;\">1</text></g><g class=\"ytick\"><text text-anchor=\"end\" x=\"79\" y=\"4.199999999999999\" style=\"font-family: 'Open Sans', verdana, arial, sans-serif; font-size: 12px; fill: rgb(42, 63, 95); fill-opacity: 1; white-space: pre; opacity: 1;\" transform=\"translate(0,337.9)\">1.05</text></g><g class=\"ytick\"><text text-anchor=\"end\" x=\"79\" y=\"4.199999999999999\" style=\"font-family: 'Open Sans', verdana, arial, sans-serif; font-size: 12px; fill: rgb(42, 63, 95); fill-opacity: 1; white-space: pre; opacity: 1;\" transform=\"translate(0,271.78999999999996)\">1.1</text></g><g class=\"ytick\"><text text-anchor=\"end\" x=\"79\" y=\"4.199999999999999\" style=\"font-family: 'Open Sans', verdana, arial, sans-serif; font-size: 12px; fill: rgb(42, 63, 95); fill-opacity: 1; white-space: pre; opacity: 1;\" transform=\"translate(0,205.69)\">1.15</text></g><g class=\"ytick\"><text text-anchor=\"end\" x=\"79\" y=\"4.199999999999999\" style=\"font-family: 'Open Sans', verdana, arial, sans-serif; font-size: 12px; fill: rgb(42, 63, 95); fill-opacity: 1; white-space: pre; opacity: 1;\" transform=\"translate(0,139.57999999999998)\">1.2</text></g></g><g class=\"overaxes-above\"/></g></g><g class=\"polarlayer\"/><g class=\"ternarylayer\"/><g class=\"geolayer\"/><g class=\"funnelarealayer\"/><g class=\"pielayer\"/><g class=\"iciclelayer\"/><g class=\"treemaplayer\"/><g class=\"sunburstlayer\"/><g class=\"glimages\"/><defs id=\"topdefs-939b17\"><g class=\"clips\"/></defs><g class=\"layer-above\"><g class=\"imagelayer\"/><g class=\"shapelayer\"/></g><g class=\"infolayer\"><g class=\"g-gtitle\"><text class=\"gtitle\" x=\"35\" y=\"50\" text-anchor=\"start\" dy=\"0em\" style=\"font-family: 'Open Sans', verdana, arial, sans-serif; font-size: 17px; fill: rgb(42, 63, 95); opacity: 1; font-weight: normal; white-space: pre;\">Средний заход пользователя на сайт</text></g><g class=\"g-xtitle\"><text class=\"xtitle\" x=\"350\" y=\"460.8\" text-anchor=\"middle\" style=\"font-family: 'Open Sans', verdana, arial, sans-serif; font-size: 14px; fill: rgb(42, 63, 95); opacity: 1; font-weight: normal; white-space: pre;\">session_start_dt</text></g><g class=\"g-ytitle\"><text class=\"ytitle\" transform=\"rotate(-90,26.934375000000003,260)\" x=\"26.934375000000003\" y=\"260\" text-anchor=\"middle\" style=\"font-family: 'Open Sans', verdana, arial, sans-serif; font-size: 14px; fill: rgb(42, 63, 95); opacity: 1; font-weight: normal; white-space: pre;\">sessions_per_user</text></g></g></svg>"
      ]
     },
     "metadata": {},
     "output_type": "display_data"
    }
   ],
   "source": [
    "function(sessions_per_user, 'session_start_dt', 'sessions_per_user', 'Средний заход пользователя на сайт')"
   ]
  },
  {
   "cell_type": "markdown",
   "metadata": {},
   "source": [
    "\n",
    "В день один пользователь в среднем проводит в приложении максимум 1 сессию. Не сказать, что продукт используется регулярно."
   ]
  },
  {
   "cell_type": "markdown",
   "metadata": {},
   "source": [
    "#### Время пользователей  на сайте\n",
    "Исследуeм сколько времени пользователи проводят на сайте. Узнаем продолжительность типичной пользовательской сессии за весь период.  "
   ]
  },
  {
   "cell_type": "code",
   "execution_count": 14,
   "metadata": {},
   "outputs": [
    {
     "data": {
      "text/plain": [
       "643.506488592098"
      ]
     },
     "execution_count": 14,
     "metadata": {},
     "output_type": "execute_result"
    }
   ],
   "source": [
    "#считаем длину всех сессий\n",
    "visits['session_duration_sec'] = (visits['end_ts'] - visits['start_ts']).dt.seconds\n",
    "#Вычсиляем среднее\n",
    "visits['session_duration_sec'].mean()"
   ]
  },
  {
   "cell_type": "markdown",
   "metadata": {},
   "source": [
    "Таким образом средняя продолжительность за один заход на сайте составляет 643 секунды, то есть чуть больше 10 минут. Постороим гистограмму распределения."
   ]
  },
  {
   "cell_type": "code",
   "execution_count": 15,
   "metadata": {},
   "outputs": [
    {
     "data": {
      "image/png": "[encoded data removed]",
      "text/plain": [
       "<Figure size 432x288 with 1 Axes>"
      ]
     },
     "metadata": {
      "needs_background": "light"
     },
     "output_type": "display_data"
    }
   ],
   "source": [
    "#Построим гистограмму\n",
    "(visits['session_duration_sec'].plot(kind='hist', bins=300)\n",
    "                               .set(title='График распределения по продолжительности сессии',\n",
    "                                   xlabel='Количество секунд посещения сайта',\n",
    "                                   ylabel='Частота'))\n",
    "plt.xlim(0, 10000)\n",
    "plt.show()"
   ]
  },
  {
   "cell_type": "markdown",
   "metadata": {},
   "source": [
    "Так как распределение не близко к нормальному, то нужно использовать моду (значение в выборке, которое встречается чаще всего)."
   ]
  },
  {
   "cell_type": "code",
   "execution_count": 16,
   "metadata": {},
   "outputs": [
    {
     "data": {
      "text/plain": [
       "0    60\n",
       "dtype: int64"
      ]
     },
     "execution_count": 16,
     "metadata": {},
     "output_type": "execute_result"
    }
   ],
   "source": [
    "asl = visits['session_duration_sec'].mode()\n",
    "asl"
   ]
  },
  {
   "cell_type": "markdown",
   "metadata": {},
   "source": [
    "Мода составила 60 секунд. В случае если пользователь успевает сделать заказ, то это нормальное время, а если нет нужно проверять почему так происходит."
   ]
  },
  {
   "cell_type": "markdown",
   "metadata": {},
   "source": [
    "#### Рассчет Retention Rate"
   ]
  },
  {
   "cell_type": "markdown",
   "metadata": {},
   "source": [
    "Для расчета Retention Rate нам необходимо применять когортный анализ. Для этого будет использовать данные из двух таблиц - __visits__ и __orders__. Для определения когортного анализа необходимо сгруппировать по дате первого захода пользователя. "
   ]
  },
  {
   "cell_type": "code",
   "execution_count": 17,
   "metadata": {},
   "outputs": [
    {
     "data": {
      "text/html": [
       "<div>\n",
       "<style scoped>\n",
       "    .dataframe tbody tr th:only-of-type {\n",
       "        vertical-align: middle;\n",
       "    }\n",
       "\n",
       "    .dataframe tbody tr th {\n",
       "        vertical-align: top;\n",
       "    }\n",
       "\n",
       "    .dataframe thead th {\n",
       "        text-align: right;\n",
       "    }\n",
       "</style>\n",
       "<table border=\"1\" class=\"dataframe\">\n",
       "  <thead>\n",
       "    <tr style=\"text-align: right;\">\n",
       "      <th></th>\n",
       "      <th>uid</th>\n",
       "      <th>first_session_ts</th>\n",
       "      <th>first_session_dt</th>\n",
       "      <th>first_sessions_month</th>\n",
       "    </tr>\n",
       "  </thead>\n",
       "  <tbody>\n",
       "    <tr>\n",
       "      <th>0</th>\n",
       "      <td>11863502262781</td>\n",
       "      <td>2018-03-01 17:27:00</td>\n",
       "      <td>2018-03-01</td>\n",
       "      <td>2018-03-01</td>\n",
       "    </tr>\n",
       "    <tr>\n",
       "      <th>1</th>\n",
       "      <td>49537067089222</td>\n",
       "      <td>2018-02-06 15:55:00</td>\n",
       "      <td>2018-02-06</td>\n",
       "      <td>2018-02-01</td>\n",
       "    </tr>\n",
       "    <tr>\n",
       "      <th>2</th>\n",
       "      <td>297729379853735</td>\n",
       "      <td>2017-06-07 18:47:00</td>\n",
       "      <td>2017-06-07</td>\n",
       "      <td>2017-06-01</td>\n",
       "    </tr>\n",
       "    <tr>\n",
       "      <th>3</th>\n",
       "      <td>313578113262317</td>\n",
       "      <td>2017-09-18 22:49:00</td>\n",
       "      <td>2017-09-18</td>\n",
       "      <td>2017-09-01</td>\n",
       "    </tr>\n",
       "    <tr>\n",
       "      <th>4</th>\n",
       "      <td>325320750514679</td>\n",
       "      <td>2017-09-30 14:29:00</td>\n",
       "      <td>2017-09-30</td>\n",
       "      <td>2017-09-01</td>\n",
       "    </tr>\n",
       "  </tbody>\n",
       "</table>\n",
       "</div>"
      ],
      "text/plain": [
       "               uid    first_session_ts first_session_dt first_sessions_month\n",
       "0   11863502262781 2018-03-01 17:27:00       2018-03-01           2018-03-01\n",
       "1   49537067089222 2018-02-06 15:55:00       2018-02-06           2018-02-01\n",
       "2  297729379853735 2017-06-07 18:47:00       2017-06-07           2017-06-01\n",
       "3  313578113262317 2017-09-18 22:49:00       2017-09-18           2017-09-01\n",
       "4  325320750514679 2017-09-30 14:29:00       2017-09-30           2017-09-01"
      ]
     },
     "execution_count": 17,
     "metadata": {},
     "output_type": "execute_result"
    }
   ],
   "source": [
    "#Чтобы определить когортный анализ необходимо сгруппировать по дате первой сессии каждого пользователя\n",
    "first_visit = visits.groupby(['uid']).agg({'start_ts': 'min'}).reset_index()\n",
    "first_visit.columns = ['uid', 'first_session_ts']\n",
    "first_visit['first_session_dt'] = first_visit['first_session_ts'].dt.date\n",
    "#Для удобства группировки добавим месяц\n",
    "first_visit['first_sessions_month'] = first_visit['first_session_dt'].astype('datetime64[M]')\n",
    "first_visit.head(5)"
   ]
  },
  {
   "cell_type": "markdown",
   "metadata": {},
   "source": [
    "Объединим датафрейм visits и Series first_visit по столбцу 'uid', а затем рассчитываем сколько прошло времени между каждой сессией и первой сессией пользователя. Для приведеняи данные столбца в месяц используем метод __np.timedelta64(1,'M')__"
   ]
  },
  {
   "cell_type": "code",
   "execution_count": 18,
   "metadata": {},
   "outputs": [],
   "source": [
    "#Добавляем информацию о первом визите в датафрейм с посетителями\n",
    "visits_new = pd.merge(first_visit, visits, on='uid')\n",
    "#Рассчитываем сколько прошло времени между каждой сессией и первой сессией пользователя\n",
    "visits_new['cohort_lifetime'] = (visits_new['session_month'] - visits_new['first_sessions_month'])/ np.timedelta64(1,'M')\n",
    "#Округляем полученные значения и приводим к целому числу\n",
    "visits_new['cohort_lifetime'] = visits_new['cohort_lifetime'].round().astype('int')"
   ]
  },
  {
   "cell_type": "markdown",
   "metadata": {},
   "source": [
    "Затем с помощью метода __pivot_table__ построим когортный анализ по количеству посетителей, в которой в индексе будет __first_sessions_month__, в столбцах  __cohort_lifetime__, а в значениях количество уникальных пользователей."
   ]
  },
  {
   "cell_type": "code",
   "execution_count": 19,
   "metadata": {},
   "outputs": [
    {
     "data": {
      "text/html": [
       "<div>\n",
       "<style scoped>\n",
       "    .dataframe tbody tr th:only-of-type {\n",
       "        vertical-align: middle;\n",
       "    }\n",
       "\n",
       "    .dataframe tbody tr th {\n",
       "        vertical-align: top;\n",
       "    }\n",
       "\n",
       "    .dataframe thead th {\n",
       "        text-align: right;\n",
       "    }\n",
       "</style>\n",
       "<table border=\"1\" class=\"dataframe\">\n",
       "  <thead>\n",
       "    <tr style=\"text-align: right;\">\n",
       "      <th>cohort_lifetime</th>\n",
       "      <th>0</th>\n",
       "      <th>1</th>\n",
       "      <th>2</th>\n",
       "      <th>3</th>\n",
       "      <th>4</th>\n",
       "      <th>5</th>\n",
       "      <th>6</th>\n",
       "      <th>7</th>\n",
       "      <th>8</th>\n",
       "      <th>9</th>\n",
       "      <th>10</th>\n",
       "      <th>11</th>\n",
       "    </tr>\n",
       "    <tr>\n",
       "      <th>first_sessions_month</th>\n",
       "      <th></th>\n",
       "      <th></th>\n",
       "      <th></th>\n",
       "      <th></th>\n",
       "      <th></th>\n",
       "      <th></th>\n",
       "      <th></th>\n",
       "      <th></th>\n",
       "      <th></th>\n",
       "      <th></th>\n",
       "      <th></th>\n",
       "      <th></th>\n",
       "    </tr>\n",
       "  </thead>\n",
       "  <tbody>\n",
       "    <tr>\n",
       "      <th>2017-06-01</th>\n",
       "      <td>13259.0</td>\n",
       "      <td>1043</td>\n",
       "      <td>713</td>\n",
       "      <td>814</td>\n",
       "      <td>909</td>\n",
       "      <td>947</td>\n",
       "      <td>809</td>\n",
       "      <td>766</td>\n",
       "      <td>694</td>\n",
       "      <td>674</td>\n",
       "      <td>539</td>\n",
       "      <td>596</td>\n",
       "    </tr>\n",
       "    <tr>\n",
       "      <th>2017-07-01</th>\n",
       "      <td>13140.0</td>\n",
       "      <td>737</td>\n",
       "      <td>674</td>\n",
       "      <td>738</td>\n",
       "      <td>765</td>\n",
       "      <td>633</td>\n",
       "      <td>596</td>\n",
       "      <td>601</td>\n",
       "      <td>510</td>\n",
       "      <td>376</td>\n",
       "      <td>361</td>\n",
       "      <td></td>\n",
       "    </tr>\n",
       "    <tr>\n",
       "      <th>2017-08-01</th>\n",
       "      <td>10181.0</td>\n",
       "      <td>783</td>\n",
       "      <td>640</td>\n",
       "      <td>639</td>\n",
       "      <td>510</td>\n",
       "      <td>448</td>\n",
       "      <td>370</td>\n",
       "      <td>402</td>\n",
       "      <td>284</td>\n",
       "      <td>265</td>\n",
       "      <td></td>\n",
       "      <td></td>\n",
       "    </tr>\n",
       "    <tr>\n",
       "      <th>2017-09-01</th>\n",
       "      <td>16704.0</td>\n",
       "      <td>1428</td>\n",
       "      <td>1156</td>\n",
       "      <td>847</td>\n",
       "      <td>658</td>\n",
       "      <td>632</td>\n",
       "      <td>599</td>\n",
       "      <td>404</td>\n",
       "      <td>381</td>\n",
       "      <td></td>\n",
       "      <td></td>\n",
       "      <td></td>\n",
       "    </tr>\n",
       "    <tr>\n",
       "      <th>2017-10-01</th>\n",
       "      <td>25977.0</td>\n",
       "      <td>2042</td>\n",
       "      <td>1357</td>\n",
       "      <td>1012</td>\n",
       "      <td>890</td>\n",
       "      <td>837</td>\n",
       "      <td>555</td>\n",
       "      <td>529</td>\n",
       "      <td></td>\n",
       "      <td></td>\n",
       "      <td></td>\n",
       "      <td></td>\n",
       "    </tr>\n",
       "    <tr>\n",
       "      <th>2017-11-01</th>\n",
       "      <td>27248.0</td>\n",
       "      <td>2133</td>\n",
       "      <td>1202</td>\n",
       "      <td>1054</td>\n",
       "      <td>919</td>\n",
       "      <td>638</td>\n",
       "      <td>594</td>\n",
       "      <td></td>\n",
       "      <td></td>\n",
       "      <td></td>\n",
       "      <td></td>\n",
       "      <td></td>\n",
       "    </tr>\n",
       "    <tr>\n",
       "      <th>2017-12-01</th>\n",
       "      <td>25268.0</td>\n",
       "      <td>1410</td>\n",
       "      <td>960</td>\n",
       "      <td>786</td>\n",
       "      <td>512</td>\n",
       "      <td>481</td>\n",
       "      <td></td>\n",
       "      <td></td>\n",
       "      <td></td>\n",
       "      <td></td>\n",
       "      <td></td>\n",
       "      <td></td>\n",
       "    </tr>\n",
       "    <tr>\n",
       "      <th>2018-01-01</th>\n",
       "      <td>22624.0</td>\n",
       "      <td>1351</td>\n",
       "      <td>890</td>\n",
       "      <td>565</td>\n",
       "      <td>458</td>\n",
       "      <td></td>\n",
       "      <td></td>\n",
       "      <td></td>\n",
       "      <td></td>\n",
       "      <td></td>\n",
       "      <td></td>\n",
       "      <td></td>\n",
       "    </tr>\n",
       "    <tr>\n",
       "      <th>2018-02-01</th>\n",
       "      <td>22197.0</td>\n",
       "      <td>1267</td>\n",
       "      <td>565</td>\n",
       "      <td>446</td>\n",
       "      <td></td>\n",
       "      <td></td>\n",
       "      <td></td>\n",
       "      <td></td>\n",
       "      <td></td>\n",
       "      <td></td>\n",
       "      <td></td>\n",
       "      <td></td>\n",
       "    </tr>\n",
       "    <tr>\n",
       "      <th>2018-03-01</th>\n",
       "      <td>20589.0</td>\n",
       "      <td>861</td>\n",
       "      <td>557</td>\n",
       "      <td></td>\n",
       "      <td></td>\n",
       "      <td></td>\n",
       "      <td></td>\n",
       "      <td></td>\n",
       "      <td></td>\n",
       "      <td></td>\n",
       "      <td></td>\n",
       "      <td></td>\n",
       "    </tr>\n",
       "    <tr>\n",
       "      <th>2018-04-01</th>\n",
       "      <td>15709.0</td>\n",
       "      <td>760</td>\n",
       "      <td></td>\n",
       "      <td></td>\n",
       "      <td></td>\n",
       "      <td></td>\n",
       "      <td></td>\n",
       "      <td></td>\n",
       "      <td></td>\n",
       "      <td></td>\n",
       "      <td></td>\n",
       "      <td></td>\n",
       "    </tr>\n",
       "    <tr>\n",
       "      <th>2018-05-01</th>\n",
       "      <td>15273.0</td>\n",
       "      <td></td>\n",
       "      <td></td>\n",
       "      <td></td>\n",
       "      <td></td>\n",
       "      <td></td>\n",
       "      <td></td>\n",
       "      <td></td>\n",
       "      <td></td>\n",
       "      <td></td>\n",
       "      <td></td>\n",
       "      <td></td>\n",
       "    </tr>\n",
       "  </tbody>\n",
       "</table>\n",
       "</div>"
      ],
      "text/plain": [
       "cohort_lifetime            0     1     2     3    4    5    6    7    8    9   \\\n",
       "first_sessions_month                                                            \n",
       "2017-06-01            13259.0  1043   713   814  909  947  809  766  694  674   \n",
       "2017-07-01            13140.0   737   674   738  765  633  596  601  510  376   \n",
       "2017-08-01            10181.0   783   640   639  510  448  370  402  284  265   \n",
       "2017-09-01            16704.0  1428  1156   847  658  632  599  404  381        \n",
       "2017-10-01            25977.0  2042  1357  1012  890  837  555  529             \n",
       "2017-11-01            27248.0  2133  1202  1054  919  638  594                  \n",
       "2017-12-01            25268.0  1410   960   786  512  481                       \n",
       "2018-01-01            22624.0  1351   890   565  458                            \n",
       "2018-02-01            22197.0  1267   565   446                                 \n",
       "2018-03-01            20589.0   861   557                                       \n",
       "2018-04-01            15709.0   760                                             \n",
       "2018-05-01            15273.0                                                   \n",
       "\n",
       "cohort_lifetime        10   11  \n",
       "first_sessions_month            \n",
       "2017-06-01            539  596  \n",
       "2017-07-01            361       \n",
       "2017-08-01                      \n",
       "2017-09-01                      \n",
       "2017-10-01                      \n",
       "2017-11-01                      \n",
       "2017-12-01                      \n",
       "2018-01-01                      \n",
       "2018-02-01                      \n",
       "2018-03-01                      \n",
       "2018-04-01                      \n",
       "2018-05-01                      "
      ]
     },
     "execution_count": 19,
     "metadata": {},
     "output_type": "execute_result"
    }
   ],
   "source": [
    "#Делаем когортный анализ по количеству посетителей\n",
    "cohorts = visits_new.pivot_table(\n",
    "    index='first_sessions_month', \n",
    "    columns='cohort_lifetime',\n",
    "    values='uid',\n",
    "    aggfunc='nunique'\n",
    ")\n",
    "\n",
    "cohorts.fillna('')"
   ]
  },
  {
   "cell_type": "markdown",
   "metadata": {},
   "source": [
    "В заключении произведем расчеты по Retention Rate. Для этого создадим новый DataFrame под названием __retention__. С помощью цикла загрузим в него отношение текущего количества активных пользователей на n-промежутке к количеству посетителей на нулевом lifetame. Затем построим тепловую карту методом __heatmap()__ . Передадим ему данные таблицы __retention__ "
   ]
  },
  {
   "cell_type": "code",
   "execution_count": 20,
   "metadata": {},
   "outputs": [
    {
     "data": {
      "image/png": "[encoded data removed]",
      "text/plain": [
       "<Figure size 936x648 with 2 Axes>"
      ]
     },
     "metadata": {
      "needs_background": "light"
     },
     "output_type": "display_data"
    }
   ],
   "source": [
    "#Производим расчеты Retention Rate\n",
    "retention =  pd.DataFrame()\n",
    "for col in cohorts.columns:\n",
    "    retention = pd.concat([retention, cohorts[col]/cohorts[0]], axis=1)\n",
    "retention.columns =  cohorts.columns\n",
    "retention.index = [str(x)[0:10] for x in retention.index]\n",
    "plt.figure(figsize=(13,9))\n",
    "#Нарисуем тепловую карту\n",
    "sns.heatmap(retention, annot=True, fmt='.1%', linewidths=1, linecolor='gray', vmax=0.1).set(title='Retention Rate')\n",
    "plt.show()"
   ]
  },
  {
   "cell_type": "markdown",
   "metadata": {},
   "source": [
    "Исходя из полученных результатов средний Retention Rate на второй месяц «жизни» когорт составил 0,065. При этом можно констатировать, что среднее значение по всем когортам снижается исходя из их продолжительности жизни."
   ]
  },
  {
   "cell_type": "code",
   "execution_count": 21,
   "metadata": {},
   "outputs": [
    {
     "data": {
      "text/html": [
       "<div>\n",
       "<style scoped>\n",
       "    .dataframe tbody tr th:only-of-type {\n",
       "        vertical-align: middle;\n",
       "    }\n",
       "\n",
       "    .dataframe tbody tr th {\n",
       "        vertical-align: top;\n",
       "    }\n",
       "\n",
       "    .dataframe thead th {\n",
       "        text-align: right;\n",
       "    }\n",
       "</style>\n",
       "<table border=\"1\" class=\"dataframe\">\n",
       "  <thead>\n",
       "    <tr style=\"text-align: right;\">\n",
       "      <th>cohort_lifetime</th>\n",
       "      <th>0</th>\n",
       "      <th>1</th>\n",
       "      <th>2</th>\n",
       "      <th>3</th>\n",
       "      <th>4</th>\n",
       "      <th>5</th>\n",
       "      <th>6</th>\n",
       "      <th>7</th>\n",
       "      <th>8</th>\n",
       "      <th>9</th>\n",
       "      <th>10</th>\n",
       "      <th>11</th>\n",
       "    </tr>\n",
       "  </thead>\n",
       "  <tbody>\n",
       "    <tr>\n",
       "      <th>count</th>\n",
       "      <td>12.0</td>\n",
       "      <td>11.000000</td>\n",
       "      <td>10.000000</td>\n",
       "      <td>9.000000</td>\n",
       "      <td>8.000000</td>\n",
       "      <td>7.000000</td>\n",
       "      <td>6.000000</td>\n",
       "      <td>5.000000</td>\n",
       "      <td>4.000000</td>\n",
       "      <td>3.000000</td>\n",
       "      <td>2.000000</td>\n",
       "      <td>1.000000</td>\n",
       "    </tr>\n",
       "    <tr>\n",
       "      <th>mean</th>\n",
       "      <td>1.0</td>\n",
       "      <td>0.065167</td>\n",
       "      <td>0.046333</td>\n",
       "      <td>0.042760</td>\n",
       "      <td>0.040595</td>\n",
       "      <td>0.039444</td>\n",
       "      <td>0.036957</td>\n",
       "      <td>0.037509</td>\n",
       "      <td>0.035465</td>\n",
       "      <td>0.035159</td>\n",
       "      <td>0.034062</td>\n",
       "      <td>0.044951</td>\n",
       "    </tr>\n",
       "    <tr>\n",
       "      <th>std</th>\n",
       "      <td>0.0</td>\n",
       "      <td>0.014757</td>\n",
       "      <td>0.014307</td>\n",
       "      <td>0.015761</td>\n",
       "      <td>0.017316</td>\n",
       "      <td>0.017549</td>\n",
       "      <td>0.014992</td>\n",
       "      <td>0.015441</td>\n",
       "      <td>0.013083</td>\n",
       "      <td>0.013636</td>\n",
       "      <td>0.009318</td>\n",
       "      <td>NaN</td>\n",
       "    </tr>\n",
       "    <tr>\n",
       "      <th>min</th>\n",
       "      <td>1.0</td>\n",
       "      <td>0.041818</td>\n",
       "      <td>0.025454</td>\n",
       "      <td>0.020093</td>\n",
       "      <td>0.020244</td>\n",
       "      <td>0.019036</td>\n",
       "      <td>0.021365</td>\n",
       "      <td>0.020364</td>\n",
       "      <td>0.022809</td>\n",
       "      <td>0.026029</td>\n",
       "      <td>0.027473</td>\n",
       "      <td>0.044951</td>\n",
       "    </tr>\n",
       "    <tr>\n",
       "      <th>25%</th>\n",
       "      <td>1.0</td>\n",
       "      <td>0.055945</td>\n",
       "      <td>0.038329</td>\n",
       "      <td>0.031107</td>\n",
       "      <td>0.030361</td>\n",
       "      <td>0.027818</td>\n",
       "      <td>0.025315</td>\n",
       "      <td>0.024186</td>\n",
       "      <td>0.026624</td>\n",
       "      <td>0.027322</td>\n",
       "      <td>0.030768</td>\n",
       "      <td>0.044951</td>\n",
       "    </tr>\n",
       "    <tr>\n",
       "      <th>50%</th>\n",
       "      <td>1.0</td>\n",
       "      <td>0.059715</td>\n",
       "      <td>0.047704</td>\n",
       "      <td>0.038958</td>\n",
       "      <td>0.036826</td>\n",
       "      <td>0.037835</td>\n",
       "      <td>0.036101</td>\n",
       "      <td>0.039485</td>\n",
       "      <td>0.033354</td>\n",
       "      <td>0.028615</td>\n",
       "      <td>0.034062</td>\n",
       "      <td>0.044951</td>\n",
       "    </tr>\n",
       "    <tr>\n",
       "      <th>75%</th>\n",
       "      <td>1.0</td>\n",
       "      <td>0.078444</td>\n",
       "      <td>0.053391</td>\n",
       "      <td>0.056164</td>\n",
       "      <td>0.052125</td>\n",
       "      <td>0.046089</td>\n",
       "      <td>0.043104</td>\n",
       "      <td>0.045738</td>\n",
       "      <td>0.042195</td>\n",
       "      <td>0.039724</td>\n",
       "      <td>0.037357</td>\n",
       "      <td>0.044951</td>\n",
       "    </tr>\n",
       "    <tr>\n",
       "      <th>max</th>\n",
       "      <td>1.0</td>\n",
       "      <td>0.085489</td>\n",
       "      <td>0.069205</td>\n",
       "      <td>0.062764</td>\n",
       "      <td>0.068557</td>\n",
       "      <td>0.071423</td>\n",
       "      <td>0.061015</td>\n",
       "      <td>0.057772</td>\n",
       "      <td>0.052342</td>\n",
       "      <td>0.050833</td>\n",
       "      <td>0.040652</td>\n",
       "      <td>0.044951</td>\n",
       "    </tr>\n",
       "  </tbody>\n",
       "</table>\n",
       "</div>"
      ],
      "text/plain": [
       "cohort_lifetime    0          1          2         3         4         5   \\\n",
       "count            12.0  11.000000  10.000000  9.000000  8.000000  7.000000   \n",
       "mean              1.0   0.065167   0.046333  0.042760  0.040595  0.039444   \n",
       "std               0.0   0.014757   0.014307  0.015761  0.017316  0.017549   \n",
       "min               1.0   0.041818   0.025454  0.020093  0.020244  0.019036   \n",
       "25%               1.0   0.055945   0.038329  0.031107  0.030361  0.027818   \n",
       "50%               1.0   0.059715   0.047704  0.038958  0.036826  0.037835   \n",
       "75%               1.0   0.078444   0.053391  0.056164  0.052125  0.046089   \n",
       "max               1.0   0.085489   0.069205  0.062764  0.068557  0.071423   \n",
       "\n",
       "cohort_lifetime        6         7         8         9         10        11  \n",
       "count            6.000000  5.000000  4.000000  3.000000  2.000000  1.000000  \n",
       "mean             0.036957  0.037509  0.035465  0.035159  0.034062  0.044951  \n",
       "std              0.014992  0.015441  0.013083  0.013636  0.009318       NaN  \n",
       "min              0.021365  0.020364  0.022809  0.026029  0.027473  0.044951  \n",
       "25%              0.025315  0.024186  0.026624  0.027322  0.030768  0.044951  \n",
       "50%              0.036101  0.039485  0.033354  0.028615  0.034062  0.044951  \n",
       "75%              0.043104  0.045738  0.042195  0.039724  0.037357  0.044951  \n",
       "max              0.061015  0.057772  0.052342  0.050833  0.040652  0.044951  "
      ]
     },
     "execution_count": 21,
     "metadata": {},
     "output_type": "execute_result"
    }
   ],
   "source": [
    "#Посмотрим среднее по всем когортам\n",
    "retention.describe()"
   ]
  },
  {
   "cell_type": "markdown",
   "metadata": {},
   "source": [
    "__Выводы:__\n",
    "На основе анализа продуктовых метрик можно сделать следующие выводы:\n",
    "- DAU составляет 907 посетителей, WAU -  5 621 посетителей, а MAU - 23228 посетителей. То есть по данным покахзателям наблюдается стабильным прирост. \n",
    "-  средняя продолжительность за один заход на сайте составляет 643 секунды, то есть чуть больше 10 минут. При этом если говорить о моде, то лна составляет 60 секунд.\n",
    "- Количество поситетелей, которые возвращаются после первого посещения сайта находится на очень низком уровне, то есть падение по всем когортам составляет в первый месяц жизни более 90%. Это говорит о том, что пользователь не возвращается на сайт после первого его посещения. В данном случае необходимо проводить более глубинный анализ, который позволит ответить в чем причина оттока такого большого количества посетителей.\n"
   ]
  },
  {
   "cell_type": "markdown",
   "metadata": {},
   "source": [
    "### 2.2. Метрики электронной коммерции <a name=\"e-commerce_metrics\"></a> "
   ]
  },
  {
   "cell_type": "markdown",
   "metadata": {},
   "source": [
    "#### Время первого посещания на сайте до совершения покупки\n",
    "Для того, чтобы определить время посещания на сайте, необходимо сначала сделать группировку по пользователям по первым визитам на сайт (таблица __visits__), а во второй сделать сделать группировку по пользователям по первой покупке на сайте (таблица __orders__)."
   ]
  },
  {
   "cell_type": "code",
   "execution_count": 22,
   "metadata": {},
   "outputs": [],
   "source": [
    "#добавим лень и месяц заказа, чтобы посчитать суммарную выручку за эти периоды\n",
    "orders['buy_dt'] = orders['buy_ts'].dt.date\n",
    "orders['order_month'] = orders['buy_ts'].astype('datetime64[M]')\n",
    "\n",
    "#Найдем время первой покупки\n",
    "first_orders = orders.groupby(['uid']).agg({'buy_ts': 'min'}).reset_index()\n",
    "first_orders.columns = ['uid', 'first_order_ts']\n",
    "first_orders['first_order_dt'] = first_orders['first_order_ts'].dt.date\n",
    "first_orders['first_order_month'] = first_orders['first_order_dt'].astype('datetime64[M]')\n",
    "\n",
    "#Соединим две таблицы по первому визиту и первому заказу\n",
    "buyers = pd.merge(first_orders, first_visit, on='uid')"
   ]
  },
  {
   "cell_type": "markdown",
   "metadata": {},
   "source": [
    "Следующим шагом стало нахождение среднего времени посещания на сайте до совершения покупки. Для этого мы создали новый столбей __'difference_day'__ и __'difference_seconds'__ , который показывает разницу между первым заказом и временем захода на сайт по дням и в секундах."
   ]
  },
  {
   "cell_type": "code",
   "execution_count": 23,
   "metadata": {},
   "outputs": [
    {
     "data": {
      "text/html": [
       "<div>\n",
       "<style scoped>\n",
       "    .dataframe tbody tr th:only-of-type {\n",
       "        vertical-align: middle;\n",
       "    }\n",
       "\n",
       "    .dataframe tbody tr th {\n",
       "        vertical-align: top;\n",
       "    }\n",
       "\n",
       "    .dataframe thead th {\n",
       "        text-align: right;\n",
       "    }\n",
       "</style>\n",
       "<table border=\"1\" class=\"dataframe\">\n",
       "  <thead>\n",
       "    <tr style=\"text-align: right;\">\n",
       "      <th></th>\n",
       "      <th>uid</th>\n",
       "      <th>first_order_ts</th>\n",
       "      <th>first_order_dt</th>\n",
       "      <th>first_order_month</th>\n",
       "      <th>first_session_ts</th>\n",
       "      <th>first_session_dt</th>\n",
       "      <th>first_sessions_month</th>\n",
       "      <th>difference_day</th>\n",
       "      <th>difference_seconds</th>\n",
       "    </tr>\n",
       "  </thead>\n",
       "  <tbody>\n",
       "    <tr>\n",
       "      <th>0</th>\n",
       "      <td>313578113262317</td>\n",
       "      <td>2018-01-03 21:51:00</td>\n",
       "      <td>2018-01-03</td>\n",
       "      <td>2018-01-01</td>\n",
       "      <td>2017-09-18 22:49:00</td>\n",
       "      <td>2017-09-18</td>\n",
       "      <td>2017-09-01</td>\n",
       "      <td>106</td>\n",
       "      <td>9241320</td>\n",
       "    </tr>\n",
       "    <tr>\n",
       "      <th>1</th>\n",
       "      <td>1575281904278712</td>\n",
       "      <td>2017-06-03 10:13:00</td>\n",
       "      <td>2017-06-03</td>\n",
       "      <td>2017-06-01</td>\n",
       "      <td>2017-06-03 10:13:00</td>\n",
       "      <td>2017-06-03</td>\n",
       "      <td>2017-06-01</td>\n",
       "      <td>0</td>\n",
       "      <td>0</td>\n",
       "    </tr>\n",
       "    <tr>\n",
       "      <th>2</th>\n",
       "      <td>2429014661409475</td>\n",
       "      <td>2017-10-11 18:33:00</td>\n",
       "      <td>2017-10-11</td>\n",
       "      <td>2017-10-01</td>\n",
       "      <td>2017-10-11 17:14:00</td>\n",
       "      <td>2017-10-11</td>\n",
       "      <td>2017-10-01</td>\n",
       "      <td>0</td>\n",
       "      <td>4740</td>\n",
       "    </tr>\n",
       "    <tr>\n",
       "      <th>3</th>\n",
       "      <td>2464366381792757</td>\n",
       "      <td>2018-01-28 15:54:00</td>\n",
       "      <td>2018-01-28</td>\n",
       "      <td>2018-01-01</td>\n",
       "      <td>2018-01-27 20:10:00</td>\n",
       "      <td>2018-01-27</td>\n",
       "      <td>2018-01-01</td>\n",
       "      <td>0</td>\n",
       "      <td>71040</td>\n",
       "    </tr>\n",
       "    <tr>\n",
       "      <th>4</th>\n",
       "      <td>2551852515556206</td>\n",
       "      <td>2017-11-24 10:14:00</td>\n",
       "      <td>2017-11-24</td>\n",
       "      <td>2017-11-01</td>\n",
       "      <td>2017-11-24 10:14:00</td>\n",
       "      <td>2017-11-24</td>\n",
       "      <td>2017-11-01</td>\n",
       "      <td>0</td>\n",
       "      <td>0</td>\n",
       "    </tr>\n",
       "  </tbody>\n",
       "</table>\n",
       "</div>"
      ],
      "text/plain": [
       "                uid      first_order_ts first_order_dt first_order_month  \\\n",
       "0   313578113262317 2018-01-03 21:51:00     2018-01-03        2018-01-01   \n",
       "1  1575281904278712 2017-06-03 10:13:00     2017-06-03        2017-06-01   \n",
       "2  2429014661409475 2017-10-11 18:33:00     2017-10-11        2017-10-01   \n",
       "3  2464366381792757 2018-01-28 15:54:00     2018-01-28        2018-01-01   \n",
       "4  2551852515556206 2017-11-24 10:14:00     2017-11-24        2017-11-01   \n",
       "\n",
       "     first_session_ts first_session_dt first_sessions_month  difference_day  \\\n",
       "0 2017-09-18 22:49:00       2017-09-18           2017-09-01             106   \n",
       "1 2017-06-03 10:13:00       2017-06-03           2017-06-01               0   \n",
       "2 2017-10-11 17:14:00       2017-10-11           2017-10-01               0   \n",
       "3 2018-01-27 20:10:00       2018-01-27           2018-01-01               0   \n",
       "4 2017-11-24 10:14:00       2017-11-24           2017-11-01               0   \n",
       "\n",
       "   difference_seconds  \n",
       "0             9241320  \n",
       "1                   0  \n",
       "2                4740  \n",
       "3               71040  \n",
       "4                   0  "
      ]
     },
     "execution_count": 23,
     "metadata": {},
     "output_type": "execute_result"
    }
   ],
   "source": [
    "buyers['first_order_dt'] = pd.to_datetime(buyers['first_order_dt'])\n",
    "buyers['first_session_dt'] = pd.to_datetime(buyers['first_session_dt'])\n",
    "buyers['first_session_ts'] = pd.to_datetime(buyers['first_session_ts'])\n",
    "buyers['first_order_ts'] = pd.to_datetime(buyers['first_order_ts'])\n",
    "#Находим разницу дней\n",
    "buyers['difference_day'] = ((buyers['first_order_ts'] - buyers['first_session_ts'])/np.timedelta64(1,'D')).astype(int)\n",
    "buyers['difference_day'] = buyers['difference_day'].round().astype(int)\n",
    "#Находим разницу в секундах\n",
    "buyers['difference_seconds'] = (buyers['first_order_ts'] - buyers['first_session_ts']).dt.total_seconds().astype(int)\n",
    "buyers.head(5)"
   ]
  },
  {
   "cell_type": "markdown",
   "metadata": {},
   "source": [
    "Построим функцию, которая будет нам строить гистограмму. которая нам покажет распределение времени от первого входа на сайт до покупки в разных измерениях - в днях, в минутах и в секундах."
   ]
  },
  {
   "cell_type": "code",
   "execution_count": 24,
   "metadata": {},
   "outputs": [],
   "source": [
    "#Построим гистограмму\n",
    "def build_hist(columns, bins, n):\n",
    "    (buyers[columns].plot(kind='hist', bins=bins, figsize=(12,7))\n",
    "                               .set(title='Распределение времени от первого входа на сайт до покупки по столбцу: ' + columns,\n",
    "                                   xlabel='Количество дней после посещения сайта',\n",
    "                                   ylabel='Частота'))\n",
    "    plt.xlim(0, n)\n",
    "    plt.show()"
   ]
  },
  {
   "cell_type": "markdown",
   "metadata": {},
   "source": [
    "Построим гистограмму, которая нам покажет распределение времени от первого входа на сайт до покупки в днях."
   ]
  },
  {
   "cell_type": "code",
   "execution_count": 25,
   "metadata": {},
   "outputs": [
    {
     "data": {
      "image/png": "[encoded data removed]",
      "text/plain": [
       "<Figure size 864x504 with 1 Axes>"
      ]
     },
     "metadata": {
      "needs_background": "light"
     },
     "output_type": "display_data"
    }
   ],
   "source": [
    "build_hist('difference_day', 200, 100)"
   ]
  },
  {
   "cell_type": "markdown",
   "metadata": {},
   "source": [
    "Так как распределение не близко к нормальному, то нужно использовать моду (значение в выборке, которое встречается чаще всего). Мода показала, что люди при заходе на сайт сразу же покупают необходимый товар."
   ]
  },
  {
   "cell_type": "code",
   "execution_count": 26,
   "metadata": {},
   "outputs": [
    {
     "data": {
      "text/plain": [
       "0    0\n",
       "dtype: int32"
      ]
     },
     "execution_count": 26,
     "metadata": {},
     "output_type": "execute_result"
    }
   ],
   "source": [
    "asl = buyers['difference_day'].mode()\n",
    "asl"
   ]
  },
  {
   "cell_type": "code",
   "execution_count": 27,
   "metadata": {},
   "outputs": [
    {
     "data": {
      "image/png": "[encoded data removed]",
      "text/plain": [
       "<Figure size 864x504 with 1 Axes>"
      ]
     },
     "metadata": {
      "needs_background": "light"
     },
     "output_type": "display_data"
    }
   ],
   "source": [
    "build_hist('difference_seconds', 100, 10000000)"
   ]
  },
  {
   "cell_type": "markdown",
   "metadata": {},
   "source": [
    "Так как в данном случае  распределение не близко к нормальному, то снова используем моду. Между заходом на сайт и покупкой составляет 60 секунд или 1 минута. То есть человек за очень короткий промежуток принимает решение купить необходимый для него товаор."
   ]
  },
  {
   "cell_type": "code",
   "execution_count": 28,
   "metadata": {},
   "outputs": [
    {
     "data": {
      "text/plain": [
       "0    60\n",
       "dtype: int32"
      ]
     },
     "execution_count": 28,
     "metadata": {},
     "output_type": "execute_result"
    }
   ],
   "source": [
    "asl = buyers['difference_seconds'].mode()\n",
    "asl"
   ]
  },
  {
   "cell_type": "markdown",
   "metadata": {},
   "source": [
    "#### Расчет среднего количества покупок на одного покупателя"
   ]
  },
  {
   "cell_type": "markdown",
   "metadata": {},
   "source": [
    "Для расчета среднего количества покупок на одного покупателя необходимо применить когортный анализ."
   ]
  },
  {
   "cell_type": "code",
   "execution_count": 29,
   "metadata": {},
   "outputs": [],
   "source": [
    "#Сделаем когорты, для этого объединим таблицу orders с таблицей первого визита\n",
    "orders_new = pd.merge(orders, first_orders, on='uid')\n",
    "#Найдем помесячные когорты\n",
    "orders_new['cohort_lifetime'] = (orders_new['order_month'] - orders_new['first_order_month'])/ np.timedelta64(1,'M')\n",
    "orders_new['cohort_lifetime'] = orders_new['cohort_lifetime'].round().astype('int')\n"
   ]
  },
  {
   "cell_type": "markdown",
   "metadata": {},
   "source": [
    "Сгруппируем данные по когорте и по первому месяцу заказа с нахождением количества уникальных пользователей и количество заказов. "
   ]
  },
  {
   "cell_type": "code",
   "execution_count": 30,
   "metadata": {},
   "outputs": [
    {
     "data": {
      "text/html": [
       "<div>\n",
       "<style scoped>\n",
       "    .dataframe tbody tr th:only-of-type {\n",
       "        vertical-align: middle;\n",
       "    }\n",
       "\n",
       "    .dataframe tbody tr th {\n",
       "        vertical-align: top;\n",
       "    }\n",
       "\n",
       "    .dataframe thead th {\n",
       "        text-align: right;\n",
       "    }\n",
       "</style>\n",
       "<table border=\"1\" class=\"dataframe\">\n",
       "  <thead>\n",
       "    <tr style=\"text-align: right;\">\n",
       "      <th></th>\n",
       "      <th>first_order_month</th>\n",
       "      <th>cohort_lifetime</th>\n",
       "      <th>uid</th>\n",
       "      <th>revenue</th>\n",
       "      <th>purchases_per_player</th>\n",
       "    </tr>\n",
       "  </thead>\n",
       "  <tbody>\n",
       "    <tr>\n",
       "      <th>0</th>\n",
       "      <td>2017-06-01</td>\n",
       "      <td>0</td>\n",
       "      <td>2023</td>\n",
       "      <td>2354</td>\n",
       "      <td>1.16</td>\n",
       "    </tr>\n",
       "    <tr>\n",
       "      <th>1</th>\n",
       "      <td>2017-06-01</td>\n",
       "      <td>1</td>\n",
       "      <td>61</td>\n",
       "      <td>177</td>\n",
       "      <td>2.90</td>\n",
       "    </tr>\n",
       "    <tr>\n",
       "      <th>2</th>\n",
       "      <td>2017-06-01</td>\n",
       "      <td>2</td>\n",
       "      <td>50</td>\n",
       "      <td>174</td>\n",
       "      <td>3.48</td>\n",
       "    </tr>\n",
       "    <tr>\n",
       "      <th>3</th>\n",
       "      <td>2017-06-01</td>\n",
       "      <td>3</td>\n",
       "      <td>54</td>\n",
       "      <td>226</td>\n",
       "      <td>4.19</td>\n",
       "    </tr>\n",
       "    <tr>\n",
       "      <th>4</th>\n",
       "      <td>2017-06-01</td>\n",
       "      <td>4</td>\n",
       "      <td>88</td>\n",
       "      <td>292</td>\n",
       "      <td>3.32</td>\n",
       "    </tr>\n",
       "    <tr>\n",
       "      <th>...</th>\n",
       "      <td>...</td>\n",
       "      <td>...</td>\n",
       "      <td>...</td>\n",
       "      <td>...</td>\n",
       "      <td>...</td>\n",
       "    </tr>\n",
       "    <tr>\n",
       "      <th>74</th>\n",
       "      <td>2018-03-01</td>\n",
       "      <td>2</td>\n",
       "      <td>58</td>\n",
       "      <td>176</td>\n",
       "      <td>3.03</td>\n",
       "    </tr>\n",
       "    <tr>\n",
       "      <th>75</th>\n",
       "      <td>2018-04-01</td>\n",
       "      <td>0</td>\n",
       "      <td>2276</td>\n",
       "      <td>2495</td>\n",
       "      <td>1.10</td>\n",
       "    </tr>\n",
       "    <tr>\n",
       "      <th>76</th>\n",
       "      <td>2018-04-01</td>\n",
       "      <td>1</td>\n",
       "      <td>69</td>\n",
       "      <td>195</td>\n",
       "      <td>2.83</td>\n",
       "    </tr>\n",
       "    <tr>\n",
       "      <th>77</th>\n",
       "      <td>2018-05-01</td>\n",
       "      <td>0</td>\n",
       "      <td>2988</td>\n",
       "      <td>3249</td>\n",
       "      <td>1.09</td>\n",
       "    </tr>\n",
       "    <tr>\n",
       "      <th>78</th>\n",
       "      <td>2018-06-01</td>\n",
       "      <td>0</td>\n",
       "      <td>1</td>\n",
       "      <td>1</td>\n",
       "      <td>1.00</td>\n",
       "    </tr>\n",
       "  </tbody>\n",
       "</table>\n",
       "<p>79 rows × 5 columns</p>\n",
       "</div>"
      ],
      "text/plain": [
       "   first_order_month  cohort_lifetime   uid  revenue  purchases_per_player\n",
       "0         2017-06-01                0  2023     2354                  1.16\n",
       "1         2017-06-01                1    61      177                  2.90\n",
       "2         2017-06-01                2    50      174                  3.48\n",
       "3         2017-06-01                3    54      226                  4.19\n",
       "4         2017-06-01                4    88      292                  3.32\n",
       "..               ...              ...   ...      ...                   ...\n",
       "74        2018-03-01                2    58      176                  3.03\n",
       "75        2018-04-01                0  2276     2495                  1.10\n",
       "76        2018-04-01                1    69      195                  2.83\n",
       "77        2018-05-01                0  2988     3249                  1.09\n",
       "78        2018-06-01                0     1        1                  1.00\n",
       "\n",
       "[79 rows x 5 columns]"
      ]
     },
     "execution_count": 30,
     "metadata": {},
     "output_type": "execute_result"
    }
   ],
   "source": [
    "#Сгруппируем данные по когорте и по первому месяцу заказа с нахождением количества уникальных пользователей и количество заказов\n",
    "cohorts_new_group = orders_new.groupby(['first_order_month', 'cohort_lifetime']).agg({'uid':'nunique', 'revenue' :'count'}).reset_index()\n",
    "#Посчитаем среднее количество количество покупок на одного покупателя\n",
    "cohorts_new_group['purchases_per_player'] = (cohorts_new_group['revenue'] / cohorts_new_group['uid']).map(lambda x: \"{0:.2f}\".format(x))\n",
    "cohorts_new_group['purchases_per_player'] = cohorts_new_group['purchases_per_player'].astype(float)\n",
    "cohorts_new_group"
   ]
  },
  {
   "cell_type": "markdown",
   "metadata": {},
   "source": [
    "Строим сводную таблицу, в которой индекс - __first_order_month__, столбцы - __cohort_lifetime__, а в значениях - __purchases_per_player__."
   ]
  },
  {
   "cell_type": "code",
   "execution_count": 31,
   "metadata": {},
   "outputs": [
    {
     "data": {
      "text/html": [
       "<div>\n",
       "<style scoped>\n",
       "    .dataframe tbody tr th:only-of-type {\n",
       "        vertical-align: middle;\n",
       "    }\n",
       "\n",
       "    .dataframe tbody tr th {\n",
       "        vertical-align: top;\n",
       "    }\n",
       "\n",
       "    .dataframe thead th {\n",
       "        text-align: right;\n",
       "    }\n",
       "</style>\n",
       "<table border=\"1\" class=\"dataframe\">\n",
       "  <thead>\n",
       "    <tr style=\"text-align: right;\">\n",
       "      <th>cohort_lifetime</th>\n",
       "      <th>first_order_month</th>\n",
       "      <th>0</th>\n",
       "      <th>1</th>\n",
       "      <th>2</th>\n",
       "      <th>3</th>\n",
       "      <th>4</th>\n",
       "      <th>5</th>\n",
       "      <th>6</th>\n",
       "      <th>7</th>\n",
       "      <th>8</th>\n",
       "      <th>9</th>\n",
       "      <th>10</th>\n",
       "      <th>11</th>\n",
       "    </tr>\n",
       "  </thead>\n",
       "  <tbody>\n",
       "    <tr>\n",
       "      <th>0</th>\n",
       "      <td>2017-06-01</td>\n",
       "      <td>1.16</td>\n",
       "      <td>2.9</td>\n",
       "      <td>3.48</td>\n",
       "      <td>4.19</td>\n",
       "      <td>3.32</td>\n",
       "      <td>3.25</td>\n",
       "      <td>4.45</td>\n",
       "      <td>3.7</td>\n",
       "      <td>3.66</td>\n",
       "      <td>3.4</td>\n",
       "      <td>2.13</td>\n",
       "      <td>1.62</td>\n",
       "    </tr>\n",
       "    <tr>\n",
       "      <th>1</th>\n",
       "      <td>2017-07-01</td>\n",
       "      <td>1.14</td>\n",
       "      <td>1.92</td>\n",
       "      <td>2.11</td>\n",
       "      <td>1.62</td>\n",
       "      <td>1.47</td>\n",
       "      <td>2.16</td>\n",
       "      <td>1.69</td>\n",
       "      <td>1.28</td>\n",
       "      <td>1.38</td>\n",
       "      <td>1.09</td>\n",
       "      <td>2.04</td>\n",
       "      <td></td>\n",
       "    </tr>\n",
       "    <tr>\n",
       "      <th>2</th>\n",
       "      <td>2017-08-01</td>\n",
       "      <td>1.12</td>\n",
       "      <td>1.86</td>\n",
       "      <td>1.89</td>\n",
       "      <td>1.84</td>\n",
       "      <td>2.12</td>\n",
       "      <td>1.94</td>\n",
       "      <td>1.63</td>\n",
       "      <td>1.77</td>\n",
       "      <td>2.42</td>\n",
       "      <td>1.48</td>\n",
       "      <td></td>\n",
       "      <td></td>\n",
       "    </tr>\n",
       "    <tr>\n",
       "      <th>3</th>\n",
       "      <td>2017-09-01</td>\n",
       "      <td>1.14</td>\n",
       "      <td>1.68</td>\n",
       "      <td>1.61</td>\n",
       "      <td>2.22</td>\n",
       "      <td>1.29</td>\n",
       "      <td>1.7</td>\n",
       "      <td>1.64</td>\n",
       "      <td>1.51</td>\n",
       "      <td>1.42</td>\n",
       "      <td></td>\n",
       "      <td></td>\n",
       "      <td></td>\n",
       "    </tr>\n",
       "    <tr>\n",
       "      <th>4</th>\n",
       "      <td>2017-10-01</td>\n",
       "      <td>1.14</td>\n",
       "      <td>1.52</td>\n",
       "      <td>1.32</td>\n",
       "      <td>1.33</td>\n",
       "      <td>1.39</td>\n",
       "      <td>1.43</td>\n",
       "      <td>1.54</td>\n",
       "      <td>1.87</td>\n",
       "      <td></td>\n",
       "      <td></td>\n",
       "      <td></td>\n",
       "      <td></td>\n",
       "    </tr>\n",
       "    <tr>\n",
       "      <th>5</th>\n",
       "      <td>2017-11-01</td>\n",
       "      <td>1.18</td>\n",
       "      <td>1.79</td>\n",
       "      <td>1.52</td>\n",
       "      <td>1.99</td>\n",
       "      <td>1.68</td>\n",
       "      <td>1.23</td>\n",
       "      <td>1.65</td>\n",
       "      <td></td>\n",
       "      <td></td>\n",
       "      <td></td>\n",
       "      <td></td>\n",
       "      <td></td>\n",
       "    </tr>\n",
       "    <tr>\n",
       "      <th>6</th>\n",
       "      <td>2017-12-01</td>\n",
       "      <td>1.15</td>\n",
       "      <td>1.85</td>\n",
       "      <td>1.96</td>\n",
       "      <td>1.85</td>\n",
       "      <td>1.72</td>\n",
       "      <td>1.67</td>\n",
       "      <td></td>\n",
       "      <td></td>\n",
       "      <td></td>\n",
       "      <td></td>\n",
       "      <td></td>\n",
       "      <td></td>\n",
       "    </tr>\n",
       "    <tr>\n",
       "      <th>7</th>\n",
       "      <td>2018-01-01</td>\n",
       "      <td>1.12</td>\n",
       "      <td>1.96</td>\n",
       "      <td>1.92</td>\n",
       "      <td>1.49</td>\n",
       "      <td>1.73</td>\n",
       "      <td></td>\n",
       "      <td></td>\n",
       "      <td></td>\n",
       "      <td></td>\n",
       "      <td></td>\n",
       "      <td></td>\n",
       "      <td></td>\n",
       "    </tr>\n",
       "    <tr>\n",
       "      <th>8</th>\n",
       "      <td>2018-02-01</td>\n",
       "      <td>1.12</td>\n",
       "      <td>1.88</td>\n",
       "      <td>1.43</td>\n",
       "      <td>1.79</td>\n",
       "      <td></td>\n",
       "      <td></td>\n",
       "      <td></td>\n",
       "      <td></td>\n",
       "      <td></td>\n",
       "      <td></td>\n",
       "      <td></td>\n",
       "      <td></td>\n",
       "    </tr>\n",
       "    <tr>\n",
       "      <th>9</th>\n",
       "      <td>2018-03-01</td>\n",
       "      <td>1.17</td>\n",
       "      <td>1.98</td>\n",
       "      <td>3.03</td>\n",
       "      <td></td>\n",
       "      <td></td>\n",
       "      <td></td>\n",
       "      <td></td>\n",
       "      <td></td>\n",
       "      <td></td>\n",
       "      <td></td>\n",
       "      <td></td>\n",
       "      <td></td>\n",
       "    </tr>\n",
       "    <tr>\n",
       "      <th>10</th>\n",
       "      <td>2018-04-01</td>\n",
       "      <td>1.10</td>\n",
       "      <td>2.83</td>\n",
       "      <td></td>\n",
       "      <td></td>\n",
       "      <td></td>\n",
       "      <td></td>\n",
       "      <td></td>\n",
       "      <td></td>\n",
       "      <td></td>\n",
       "      <td></td>\n",
       "      <td></td>\n",
       "      <td></td>\n",
       "    </tr>\n",
       "    <tr>\n",
       "      <th>11</th>\n",
       "      <td>2018-05-01</td>\n",
       "      <td>1.09</td>\n",
       "      <td></td>\n",
       "      <td></td>\n",
       "      <td></td>\n",
       "      <td></td>\n",
       "      <td></td>\n",
       "      <td></td>\n",
       "      <td></td>\n",
       "      <td></td>\n",
       "      <td></td>\n",
       "      <td></td>\n",
       "      <td></td>\n",
       "    </tr>\n",
       "    <tr>\n",
       "      <th>12</th>\n",
       "      <td>2018-06-01</td>\n",
       "      <td>1.00</td>\n",
       "      <td></td>\n",
       "      <td></td>\n",
       "      <td></td>\n",
       "      <td></td>\n",
       "      <td></td>\n",
       "      <td></td>\n",
       "      <td></td>\n",
       "      <td></td>\n",
       "      <td></td>\n",
       "      <td></td>\n",
       "      <td></td>\n",
       "    </tr>\n",
       "  </tbody>\n",
       "</table>\n",
       "</div>"
      ],
      "text/plain": [
       "cohort_lifetime first_order_month     0     1     2     3     4     5     6  \\\n",
       "0                      2017-06-01  1.16   2.9  3.48  4.19  3.32  3.25  4.45   \n",
       "1                      2017-07-01  1.14  1.92  2.11  1.62  1.47  2.16  1.69   \n",
       "2                      2017-08-01  1.12  1.86  1.89  1.84  2.12  1.94  1.63   \n",
       "3                      2017-09-01  1.14  1.68  1.61  2.22  1.29   1.7  1.64   \n",
       "4                      2017-10-01  1.14  1.52  1.32  1.33  1.39  1.43  1.54   \n",
       "5                      2017-11-01  1.18  1.79  1.52  1.99  1.68  1.23  1.65   \n",
       "6                      2017-12-01  1.15  1.85  1.96  1.85  1.72  1.67         \n",
       "7                      2018-01-01  1.12  1.96  1.92  1.49  1.73               \n",
       "8                      2018-02-01  1.12  1.88  1.43  1.79                     \n",
       "9                      2018-03-01  1.17  1.98  3.03                           \n",
       "10                     2018-04-01  1.10  2.83                                 \n",
       "11                     2018-05-01  1.09                                       \n",
       "12                     2018-06-01  1.00                                       \n",
       "\n",
       "cohort_lifetime     7     8     9    10    11  \n",
       "0                 3.7  3.66   3.4  2.13  1.62  \n",
       "1                1.28  1.38  1.09  2.04        \n",
       "2                1.77  2.42  1.48              \n",
       "3                1.51  1.42                    \n",
       "4                1.87                          \n",
       "5                                              \n",
       "6                                              \n",
       "7                                              \n",
       "8                                              \n",
       "9                                              \n",
       "10                                             \n",
       "11                                             \n",
       "12                                             "
      ]
     },
     "execution_count": 31,
     "metadata": {},
     "output_type": "execute_result"
    }
   ],
   "source": [
    "#Построим сводную таблицу\n",
    "number_purchases = cohorts_new_group.pivot_table(\n",
    "    index='first_order_month',\n",
    "    columns='cohort_lifetime',\n",
    "    values='purchases_per_player',\n",
    "    aggfunc='mean'\n",
    ").reset_index()\n",
    "\n",
    "number_purchases.fillna('')"
   ]
  },
  {
   "cell_type": "markdown",
   "metadata": {},
   "source": [
    "Сделаем расчеты среднего количества покупок на одного покупателя за 6 месяцев."
   ]
  },
  {
   "cell_type": "code",
   "execution_count": 32,
   "metadata": {},
   "outputs": [
    {
     "name": "stdout",
     "output_type": "stream",
     "text": [
      "Cреднее количество покупок на одного покупателя за 6 месяцев составило 1.91\n"
     ]
    }
   ],
   "source": [
    "#Найдем количество покупок на одного покупателя за 6 месяцев.\n",
    "mean_purchases = round(number_purchases[5].mean(), 2)\n",
    "print('Cреднее количество покупок на одного покупателя за 6 месяцев составило', mean_purchases)"
   ]
  },
  {
   "cell_type": "markdown",
   "metadata": {},
   "source": [
    "#### Рассчет среднего чека"
   ]
  },
  {
   "cell_type": "markdown",
   "metadata": {},
   "source": [
    "По большому счету расчет среднего чека очень схож с поиском среднего количества покупок на одного покупателя, просто нужно найти вместо количества заказов сумму полученной прибыли. Для этого сгруппируем данные по когорте и по первому месяцу заказа с нахождением количества уникальных пользователей и сумма заказов."
   ]
  },
  {
   "cell_type": "code",
   "execution_count": 33,
   "metadata": {},
   "outputs": [
    {
     "data": {
      "text/html": [
       "<div>\n",
       "<style scoped>\n",
       "    .dataframe tbody tr th:only-of-type {\n",
       "        vertical-align: middle;\n",
       "    }\n",
       "\n",
       "    .dataframe tbody tr th {\n",
       "        vertical-align: top;\n",
       "    }\n",
       "\n",
       "    .dataframe thead th {\n",
       "        text-align: right;\n",
       "    }\n",
       "</style>\n",
       "<table border=\"1\" class=\"dataframe\">\n",
       "  <thead>\n",
       "    <tr style=\"text-align: right;\">\n",
       "      <th></th>\n",
       "      <th>first_order_month</th>\n",
       "      <th>cohort_lifetime</th>\n",
       "      <th>uid</th>\n",
       "      <th>revenue</th>\n",
       "      <th>check_per_player</th>\n",
       "    </tr>\n",
       "  </thead>\n",
       "  <tbody>\n",
       "    <tr>\n",
       "      <th>0</th>\n",
       "      <td>2017-06-01</td>\n",
       "      <td>0</td>\n",
       "      <td>2023</td>\n",
       "      <td>9557.49</td>\n",
       "      <td>4.72</td>\n",
       "    </tr>\n",
       "    <tr>\n",
       "      <th>1</th>\n",
       "      <td>2017-06-01</td>\n",
       "      <td>1</td>\n",
       "      <td>61</td>\n",
       "      <td>981.82</td>\n",
       "      <td>16.10</td>\n",
       "    </tr>\n",
       "    <tr>\n",
       "      <th>2</th>\n",
       "      <td>2017-06-01</td>\n",
       "      <td>2</td>\n",
       "      <td>50</td>\n",
       "      <td>885.34</td>\n",
       "      <td>17.71</td>\n",
       "    </tr>\n",
       "    <tr>\n",
       "      <th>3</th>\n",
       "      <td>2017-06-01</td>\n",
       "      <td>3</td>\n",
       "      <td>54</td>\n",
       "      <td>1931.30</td>\n",
       "      <td>35.76</td>\n",
       "    </tr>\n",
       "    <tr>\n",
       "      <th>4</th>\n",
       "      <td>2017-06-01</td>\n",
       "      <td>4</td>\n",
       "      <td>88</td>\n",
       "      <td>2068.58</td>\n",
       "      <td>23.51</td>\n",
       "    </tr>\n",
       "    <tr>\n",
       "      <th>...</th>\n",
       "      <td>...</td>\n",
       "      <td>...</td>\n",
       "      <td>...</td>\n",
       "      <td>...</td>\n",
       "      <td>...</td>\n",
       "    </tr>\n",
       "    <tr>\n",
       "      <th>74</th>\n",
       "      <td>2018-03-01</td>\n",
       "      <td>2</td>\n",
       "      <td>58</td>\n",
       "      <td>1114.87</td>\n",
       "      <td>19.22</td>\n",
       "    </tr>\n",
       "    <tr>\n",
       "      <th>75</th>\n",
       "      <td>2018-04-01</td>\n",
       "      <td>0</td>\n",
       "      <td>2276</td>\n",
       "      <td>10600.69</td>\n",
       "      <td>4.66</td>\n",
       "    </tr>\n",
       "    <tr>\n",
       "      <th>76</th>\n",
       "      <td>2018-04-01</td>\n",
       "      <td>1</td>\n",
       "      <td>69</td>\n",
       "      <td>1209.92</td>\n",
       "      <td>17.54</td>\n",
       "    </tr>\n",
       "    <tr>\n",
       "      <th>77</th>\n",
       "      <td>2018-05-01</td>\n",
       "      <td>0</td>\n",
       "      <td>2988</td>\n",
       "      <td>13925.76</td>\n",
       "      <td>4.66</td>\n",
       "    </tr>\n",
       "    <tr>\n",
       "      <th>78</th>\n",
       "      <td>2018-06-01</td>\n",
       "      <td>0</td>\n",
       "      <td>1</td>\n",
       "      <td>3.42</td>\n",
       "      <td>3.42</td>\n",
       "    </tr>\n",
       "  </tbody>\n",
       "</table>\n",
       "<p>79 rows × 5 columns</p>\n",
       "</div>"
      ],
      "text/plain": [
       "   first_order_month  cohort_lifetime   uid   revenue  check_per_player\n",
       "0         2017-06-01                0  2023   9557.49              4.72\n",
       "1         2017-06-01                1    61    981.82             16.10\n",
       "2         2017-06-01                2    50    885.34             17.71\n",
       "3         2017-06-01                3    54   1931.30             35.76\n",
       "4         2017-06-01                4    88   2068.58             23.51\n",
       "..               ...              ...   ...       ...               ...\n",
       "74        2018-03-01                2    58   1114.87             19.22\n",
       "75        2018-04-01                0  2276  10600.69              4.66\n",
       "76        2018-04-01                1    69   1209.92             17.54\n",
       "77        2018-05-01                0  2988  13925.76              4.66\n",
       "78        2018-06-01                0     1      3.42              3.42\n",
       "\n",
       "[79 rows x 5 columns]"
      ]
     },
     "execution_count": 33,
     "metadata": {},
     "output_type": "execute_result"
    }
   ],
   "source": [
    "#Сгруппируем данные по когорте и по первому месяцу заказа с нахождением количества уникальных пользователей и сумма заказов.\n",
    "cohorts_average_check = orders_new.groupby(['first_order_month', 'cohort_lifetime']).agg({'uid':'nunique', 'revenue' :'sum'}).reset_index()\n",
    "\n",
    "#Посчитаем средний чек\n",
    "cohorts_average_check['check_per_player'] = (cohorts_average_check['revenue'] / cohorts_average_check['uid']).map(lambda x: \"{0:.2f}\".format(x))\n",
    "cohorts_average_check['check_per_player'] = cohorts_average_check['check_per_player'].astype(float)\n",
    "cohorts_average_check"
   ]
  },
  {
   "cell_type": "markdown",
   "metadata": {},
   "source": [
    "Строим сводную таблицу, в которой индекс - __first_order_month__, столбцы - __cohort_lifetime__, а в значениях - __purchases_per_player__."
   ]
  },
  {
   "cell_type": "code",
   "execution_count": 34,
   "metadata": {},
   "outputs": [
    {
     "data": {
      "text/html": [
       "<div>\n",
       "<style scoped>\n",
       "    .dataframe tbody tr th:only-of-type {\n",
       "        vertical-align: middle;\n",
       "    }\n",
       "\n",
       "    .dataframe tbody tr th {\n",
       "        vertical-align: top;\n",
       "    }\n",
       "\n",
       "    .dataframe thead th {\n",
       "        text-align: right;\n",
       "    }\n",
       "</style>\n",
       "<table border=\"1\" class=\"dataframe\">\n",
       "  <thead>\n",
       "    <tr style=\"text-align: right;\">\n",
       "      <th>cohort_lifetime</th>\n",
       "      <th>0</th>\n",
       "      <th>1</th>\n",
       "      <th>2</th>\n",
       "      <th>3</th>\n",
       "      <th>4</th>\n",
       "      <th>5</th>\n",
       "      <th>6</th>\n",
       "      <th>7</th>\n",
       "      <th>8</th>\n",
       "      <th>9</th>\n",
       "      <th>10</th>\n",
       "      <th>11</th>\n",
       "    </tr>\n",
       "    <tr>\n",
       "      <th>first_order_month</th>\n",
       "      <th></th>\n",
       "      <th></th>\n",
       "      <th></th>\n",
       "      <th></th>\n",
       "      <th></th>\n",
       "      <th></th>\n",
       "      <th></th>\n",
       "      <th></th>\n",
       "      <th></th>\n",
       "      <th></th>\n",
       "      <th></th>\n",
       "      <th></th>\n",
       "    </tr>\n",
       "  </thead>\n",
       "  <tbody>\n",
       "    <tr>\n",
       "      <th>2017-06-01</th>\n",
       "      <td>4.72</td>\n",
       "      <td>16.1</td>\n",
       "      <td>17.71</td>\n",
       "      <td>35.76</td>\n",
       "      <td>23.51</td>\n",
       "      <td>22.21</td>\n",
       "      <td>31.01</td>\n",
       "      <td>25.03</td>\n",
       "      <td>19.3</td>\n",
       "      <td>27.23</td>\n",
       "      <td>25.68</td>\n",
       "      <td>9.8</td>\n",
       "    </tr>\n",
       "    <tr>\n",
       "      <th>2017-07-01</th>\n",
       "      <td>6.01</td>\n",
       "      <td>12.4</td>\n",
       "      <td>21.04</td>\n",
       "      <td>10.79</td>\n",
       "      <td>6.94</td>\n",
       "      <td>7.9</td>\n",
       "      <td>6.42</td>\n",
       "      <td>6.99</td>\n",
       "      <td>7.38</td>\n",
       "      <td>12.86</td>\n",
       "      <td>11.51</td>\n",
       "      <td></td>\n",
       "    </tr>\n",
       "    <tr>\n",
       "      <th>2017-08-01</th>\n",
       "      <td>5.28</td>\n",
       "      <td>11.15</td>\n",
       "      <td>11.85</td>\n",
       "      <td>12.18</td>\n",
       "      <td>16.92</td>\n",
       "      <td>12.14</td>\n",
       "      <td>9.62</td>\n",
       "      <td>12.61</td>\n",
       "      <td>21.07</td>\n",
       "      <td>8.31</td>\n",
       "      <td></td>\n",
       "      <td></td>\n",
       "    </tr>\n",
       "    <tr>\n",
       "      <th>2017-09-01</th>\n",
       "      <td>5.64</td>\n",
       "      <td>22.19</td>\n",
       "      <td>13.45</td>\n",
       "      <td>138.67</td>\n",
       "      <td>19.88</td>\n",
       "      <td>26.1</td>\n",
       "      <td>27.44</td>\n",
       "      <td>16.96</td>\n",
       "      <td>11.04</td>\n",
       "      <td></td>\n",
       "      <td></td>\n",
       "      <td></td>\n",
       "    </tr>\n",
       "    <tr>\n",
       "      <th>2017-10-01</th>\n",
       "      <td>5.00</td>\n",
       "      <td>11.29</td>\n",
       "      <td>6.75</td>\n",
       "      <td>7.41</td>\n",
       "      <td>7.07</td>\n",
       "      <td>7.26</td>\n",
       "      <td>6.57</td>\n",
       "      <td>7.48</td>\n",
       "      <td></td>\n",
       "      <td></td>\n",
       "      <td></td>\n",
       "      <td></td>\n",
       "    </tr>\n",
       "    <tr>\n",
       "      <th>2017-11-01</th>\n",
       "      <td>5.15</td>\n",
       "      <td>7.34</td>\n",
       "      <td>6.79</td>\n",
       "      <td>12.51</td>\n",
       "      <td>7.46</td>\n",
       "      <td>4.58</td>\n",
       "      <td>7.56</td>\n",
       "      <td></td>\n",
       "      <td></td>\n",
       "      <td></td>\n",
       "      <td></td>\n",
       "      <td></td>\n",
       "    </tr>\n",
       "    <tr>\n",
       "      <th>2017-12-01</th>\n",
       "      <td>4.74</td>\n",
       "      <td>7.82</td>\n",
       "      <td>39.37</td>\n",
       "      <td>48.14</td>\n",
       "      <td>27.43</td>\n",
       "      <td>23.52</td>\n",
       "      <td></td>\n",
       "      <td></td>\n",
       "      <td></td>\n",
       "      <td></td>\n",
       "      <td></td>\n",
       "      <td></td>\n",
       "    </tr>\n",
       "    <tr>\n",
       "      <th>2018-01-01</th>\n",
       "      <td>4.14</td>\n",
       "      <td>8.72</td>\n",
       "      <td>12.37</td>\n",
       "      <td>11.2</td>\n",
       "      <td>4.7</td>\n",
       "      <td></td>\n",
       "      <td></td>\n",
       "      <td></td>\n",
       "      <td></td>\n",
       "      <td></td>\n",
       "      <td></td>\n",
       "      <td></td>\n",
       "    </tr>\n",
       "    <tr>\n",
       "      <th>2018-02-01</th>\n",
       "      <td>4.16</td>\n",
       "      <td>8.61</td>\n",
       "      <td>4.94</td>\n",
       "      <td>6.94</td>\n",
       "      <td></td>\n",
       "      <td></td>\n",
       "      <td></td>\n",
       "      <td></td>\n",
       "      <td></td>\n",
       "      <td></td>\n",
       "      <td></td>\n",
       "      <td></td>\n",
       "    </tr>\n",
       "    <tr>\n",
       "      <th>2018-03-01</th>\n",
       "      <td>4.84</td>\n",
       "      <td>11.81</td>\n",
       "      <td>19.22</td>\n",
       "      <td></td>\n",
       "      <td></td>\n",
       "      <td></td>\n",
       "      <td></td>\n",
       "      <td></td>\n",
       "      <td></td>\n",
       "      <td></td>\n",
       "      <td></td>\n",
       "      <td></td>\n",
       "    </tr>\n",
       "    <tr>\n",
       "      <th>2018-04-01</th>\n",
       "      <td>4.66</td>\n",
       "      <td>17.54</td>\n",
       "      <td></td>\n",
       "      <td></td>\n",
       "      <td></td>\n",
       "      <td></td>\n",
       "      <td></td>\n",
       "      <td></td>\n",
       "      <td></td>\n",
       "      <td></td>\n",
       "      <td></td>\n",
       "      <td></td>\n",
       "    </tr>\n",
       "    <tr>\n",
       "      <th>2018-05-01</th>\n",
       "      <td>4.66</td>\n",
       "      <td></td>\n",
       "      <td></td>\n",
       "      <td></td>\n",
       "      <td></td>\n",
       "      <td></td>\n",
       "      <td></td>\n",
       "      <td></td>\n",
       "      <td></td>\n",
       "      <td></td>\n",
       "      <td></td>\n",
       "      <td></td>\n",
       "    </tr>\n",
       "    <tr>\n",
       "      <th>2018-06-01</th>\n",
       "      <td>3.42</td>\n",
       "      <td></td>\n",
       "      <td></td>\n",
       "      <td></td>\n",
       "      <td></td>\n",
       "      <td></td>\n",
       "      <td></td>\n",
       "      <td></td>\n",
       "      <td></td>\n",
       "      <td></td>\n",
       "      <td></td>\n",
       "      <td></td>\n",
       "    </tr>\n",
       "  </tbody>\n",
       "</table>\n",
       "</div>"
      ],
      "text/plain": [
       "cohort_lifetime      0      1      2       3      4      5      6      7   \\\n",
       "first_order_month                                                           \n",
       "2017-06-01         4.72   16.1  17.71   35.76  23.51  22.21  31.01  25.03   \n",
       "2017-07-01         6.01   12.4  21.04   10.79   6.94    7.9   6.42   6.99   \n",
       "2017-08-01         5.28  11.15  11.85   12.18  16.92  12.14   9.62  12.61   \n",
       "2017-09-01         5.64  22.19  13.45  138.67  19.88   26.1  27.44  16.96   \n",
       "2017-10-01         5.00  11.29   6.75    7.41   7.07   7.26   6.57   7.48   \n",
       "2017-11-01         5.15   7.34   6.79   12.51   7.46   4.58   7.56          \n",
       "2017-12-01         4.74   7.82  39.37   48.14  27.43  23.52                 \n",
       "2018-01-01         4.14   8.72  12.37    11.2    4.7                        \n",
       "2018-02-01         4.16   8.61   4.94    6.94                               \n",
       "2018-03-01         4.84  11.81  19.22                                       \n",
       "2018-04-01         4.66  17.54                                              \n",
       "2018-05-01         4.66                                                     \n",
       "2018-06-01         3.42                                                     \n",
       "\n",
       "cohort_lifetime       8      9      10   11  \n",
       "first_order_month                            \n",
       "2017-06-01          19.3  27.23  25.68  9.8  \n",
       "2017-07-01          7.38  12.86  11.51       \n",
       "2017-08-01         21.07   8.31              \n",
       "2017-09-01         11.04                     \n",
       "2017-10-01                                   \n",
       "2017-11-01                                   \n",
       "2017-12-01                                   \n",
       "2018-01-01                                   \n",
       "2018-02-01                                   \n",
       "2018-03-01                                   \n",
       "2018-04-01                                   \n",
       "2018-05-01                                   \n",
       "2018-06-01                                   "
      ]
     },
     "execution_count": 34,
     "metadata": {},
     "output_type": "execute_result"
    }
   ],
   "source": [
    "#Построим сводную таблицу\n",
    "average_check = cohorts_average_check.pivot_table(\n",
    "    index='first_order_month',\n",
    "    columns='cohort_lifetime',\n",
    "    values='check_per_player',\n",
    "    aggfunc='mean'\n",
    ")\n",
    "\n",
    "average_check.fillna('')"
   ]
  },
  {
   "cell_type": "markdown",
   "metadata": {},
   "source": [
    "Найдем средний чек за 6 месяцев."
   ]
  },
  {
   "cell_type": "code",
   "execution_count": 35,
   "metadata": {},
   "outputs": [
    {
     "name": "stdout",
     "output_type": "stream",
     "text": [
      "Cредний чек за 6 месяцев составил 14.82\n"
     ]
    }
   ],
   "source": [
    "#Найдем количество покупок на одного покупателя за 6 месяцев.\n",
    "mean_check = round(average_check[5].mean(), 2)\n",
    "print('Cредний чек за 6 месяцев составил', mean_check)"
   ]
  },
  {
   "cell_type": "code",
   "execution_count": 36,
   "metadata": {},
   "outputs": [
    {
     "data": {
      "text/plain": [
       "4.999646930476993"
      ]
     },
     "execution_count": 36,
     "metadata": {},
     "output_type": "execute_result"
    }
   ],
   "source": [
    "### Код ревьювера ###\n",
    "\n",
    "orders['revenue'].mean()"
   ]
  },
  {
   "cell_type": "markdown",
   "metadata": {},
   "source": [
    "#### Расчет LTV на покупателя по когортам\n",
    "Для расчета LTV на нужно рассчитать два показателя, а именно количество уникальных покупателей за месяц первого заказа и сумму выручки, которая получается по каждой когорте. Для поиска количества уникальных покупателей сгруппируем данные в таблице __buyers__ по первому месяцу заказа, для это используем метод __'nunique'__."
   ]
  },
  {
   "cell_type": "code",
   "execution_count": 37,
   "metadata": {},
   "outputs": [
    {
     "data": {
      "text/html": [
       "<div>\n",
       "<style scoped>\n",
       "    .dataframe tbody tr th:only-of-type {\n",
       "        vertical-align: middle;\n",
       "    }\n",
       "\n",
       "    .dataframe tbody tr th {\n",
       "        vertical-align: top;\n",
       "    }\n",
       "\n",
       "    .dataframe thead th {\n",
       "        text-align: right;\n",
       "    }\n",
       "</style>\n",
       "<table border=\"1\" class=\"dataframe\">\n",
       "  <thead>\n",
       "    <tr style=\"text-align: right;\">\n",
       "      <th></th>\n",
       "      <th>first_order_month</th>\n",
       "      <th>n_buyers</th>\n",
       "    </tr>\n",
       "  </thead>\n",
       "  <tbody>\n",
       "    <tr>\n",
       "      <th>0</th>\n",
       "      <td>2017-06-01</td>\n",
       "      <td>2023</td>\n",
       "    </tr>\n",
       "    <tr>\n",
       "      <th>1</th>\n",
       "      <td>2017-07-01</td>\n",
       "      <td>1923</td>\n",
       "    </tr>\n",
       "    <tr>\n",
       "      <th>2</th>\n",
       "      <td>2017-08-01</td>\n",
       "      <td>1370</td>\n",
       "    </tr>\n",
       "    <tr>\n",
       "      <th>3</th>\n",
       "      <td>2017-09-01</td>\n",
       "      <td>2581</td>\n",
       "    </tr>\n",
       "    <tr>\n",
       "      <th>4</th>\n",
       "      <td>2017-10-01</td>\n",
       "      <td>4340</td>\n",
       "    </tr>\n",
       "  </tbody>\n",
       "</table>\n",
       "</div>"
      ],
      "text/plain": [
       "  first_order_month  n_buyers\n",
       "0        2017-06-01      2023\n",
       "1        2017-07-01      1923\n",
       "2        2017-08-01      1370\n",
       "3        2017-09-01      2581\n",
       "4        2017-10-01      4340"
      ]
     },
     "execution_count": 37,
     "metadata": {},
     "output_type": "execute_result"
    }
   ],
   "source": [
    "#Группируем уникальных пользователей\n",
    "cohort_sizes = buyers.groupby('first_order_month').agg({'uid': 'nunique'}).reset_index()\n",
    "#Переименовываем колонки\n",
    "cohort_sizes.columns = ['first_order_month', 'n_buyers']\n",
    "cohort_sizes.head(5)"
   ]
  },
  {
   "cell_type": "markdown",
   "metadata": {},
   "source": [
    "Для нахождения суммы выручки соединяем две таблицы __orders__ и __buyers__ и сразу же их группируем по месяцу заказа и по первому месяцу заказа. Затем найдем возраст когорты и соединим две таблицы -  __cohorts__ и __cohort_sizes__. LTV находим с помощью деления суммы доходов на количество посетителей."
   ]
  },
  {
   "cell_type": "code",
   "execution_count": 38,
   "metadata": {},
   "outputs": [
    {
     "data": {
      "text/html": [
       "<div>\n",
       "<style scoped>\n",
       "    .dataframe tbody tr th:only-of-type {\n",
       "        vertical-align: middle;\n",
       "    }\n",
       "\n",
       "    .dataframe tbody tr th {\n",
       "        vertical-align: top;\n",
       "    }\n",
       "\n",
       "    .dataframe thead th {\n",
       "        text-align: right;\n",
       "    }\n",
       "</style>\n",
       "<table border=\"1\" class=\"dataframe\">\n",
       "  <thead>\n",
       "    <tr style=\"text-align: right;\">\n",
       "      <th></th>\n",
       "      <th>first_order_month</th>\n",
       "      <th>order_month</th>\n",
       "      <th>revenue</th>\n",
       "      <th>age</th>\n",
       "      <th>n_buyers</th>\n",
       "      <th>ltv</th>\n",
       "    </tr>\n",
       "  </thead>\n",
       "  <tbody>\n",
       "    <tr>\n",
       "      <th>0</th>\n",
       "      <td>2017-06-01</td>\n",
       "      <td>2017-06-01</td>\n",
       "      <td>9557.49</td>\n",
       "      <td>0</td>\n",
       "      <td>2023</td>\n",
       "      <td>4.724414</td>\n",
       "    </tr>\n",
       "    <tr>\n",
       "      <th>1</th>\n",
       "      <td>2017-06-01</td>\n",
       "      <td>2017-07-01</td>\n",
       "      <td>981.82</td>\n",
       "      <td>1</td>\n",
       "      <td>2023</td>\n",
       "      <td>0.485329</td>\n",
       "    </tr>\n",
       "    <tr>\n",
       "      <th>2</th>\n",
       "      <td>2017-06-01</td>\n",
       "      <td>2017-08-01</td>\n",
       "      <td>885.34</td>\n",
       "      <td>2</td>\n",
       "      <td>2023</td>\n",
       "      <td>0.437637</td>\n",
       "    </tr>\n",
       "    <tr>\n",
       "      <th>3</th>\n",
       "      <td>2017-06-01</td>\n",
       "      <td>2017-09-01</td>\n",
       "      <td>1931.30</td>\n",
       "      <td>3</td>\n",
       "      <td>2023</td>\n",
       "      <td>0.954671</td>\n",
       "    </tr>\n",
       "    <tr>\n",
       "      <th>4</th>\n",
       "      <td>2017-06-01</td>\n",
       "      <td>2017-10-01</td>\n",
       "      <td>2068.58</td>\n",
       "      <td>4</td>\n",
       "      <td>2023</td>\n",
       "      <td>1.022531</td>\n",
       "    </tr>\n",
       "    <tr>\n",
       "      <th>5</th>\n",
       "      <td>2017-06-01</td>\n",
       "      <td>2017-11-01</td>\n",
       "      <td>1487.92</td>\n",
       "      <td>5</td>\n",
       "      <td>2023</td>\n",
       "      <td>0.735502</td>\n",
       "    </tr>\n",
       "    <tr>\n",
       "      <th>6</th>\n",
       "      <td>2017-06-01</td>\n",
       "      <td>2017-12-01</td>\n",
       "      <td>1922.74</td>\n",
       "      <td>6</td>\n",
       "      <td>2023</td>\n",
       "      <td>0.950440</td>\n",
       "    </tr>\n",
       "    <tr>\n",
       "      <th>7</th>\n",
       "      <td>2017-06-01</td>\n",
       "      <td>2018-01-01</td>\n",
       "      <td>1176.56</td>\n",
       "      <td>7</td>\n",
       "      <td>2023</td>\n",
       "      <td>0.581592</td>\n",
       "    </tr>\n",
       "    <tr>\n",
       "      <th>8</th>\n",
       "      <td>2017-06-01</td>\n",
       "      <td>2018-02-01</td>\n",
       "      <td>1119.15</td>\n",
       "      <td>8</td>\n",
       "      <td>2023</td>\n",
       "      <td>0.553213</td>\n",
       "    </tr>\n",
       "    <tr>\n",
       "      <th>9</th>\n",
       "      <td>2017-06-01</td>\n",
       "      <td>2018-03-01</td>\n",
       "      <td>1225.51</td>\n",
       "      <td>9</td>\n",
       "      <td>2023</td>\n",
       "      <td>0.605788</td>\n",
       "    </tr>\n",
       "  </tbody>\n",
       "</table>\n",
       "</div>"
      ],
      "text/plain": [
       "  first_order_month order_month  revenue  age  n_buyers       ltv\n",
       "0        2017-06-01  2017-06-01  9557.49    0      2023  4.724414\n",
       "1        2017-06-01  2017-07-01   981.82    1      2023  0.485329\n",
       "2        2017-06-01  2017-08-01   885.34    2      2023  0.437637\n",
       "3        2017-06-01  2017-09-01  1931.30    3      2023  0.954671\n",
       "4        2017-06-01  2017-10-01  2068.58    4      2023  1.022531\n",
       "5        2017-06-01  2017-11-01  1487.92    5      2023  0.735502\n",
       "6        2017-06-01  2017-12-01  1922.74    6      2023  0.950440\n",
       "7        2017-06-01  2018-01-01  1176.56    7      2023  0.581592\n",
       "8        2017-06-01  2018-02-01  1119.15    8      2023  0.553213\n",
       "9        2017-06-01  2018-03-01  1225.51    9      2023  0.605788"
      ]
     },
     "execution_count": 38,
     "metadata": {},
     "output_type": "execute_result"
    }
   ],
   "source": [
    "#Соединяем две таблицы orders и buyers,для подсчета суммы доходов\n",
    "cohorts = pd.merge(orders, buyers, how='inner', on='uid').groupby(['first_order_month', 'order_month']).agg({'revenue': 'sum'}).reset_index()\n",
    "\n",
    "#Находим возраст когорты\n",
    "cohorts['age'] = (cohorts['order_month'] - cohorts['first_order_month']) / np.timedelta64(1, 'M')\n",
    "cohorts['age'] = cohorts['age'].round().astype('int')\n",
    "\n",
    "#Соединяем две таблицы cohorts и cohort_sizes\n",
    "cohorts = pd.merge(cohorts, cohort_sizes, on='first_order_month')\n",
    "cohorts['ltv'] = cohorts['revenue'] / cohorts['n_buyers']\n",
    "cohorts.head(10)"
   ]
  },
  {
   "cell_type": "markdown",
   "metadata": {},
   "source": [
    "Строим сводную таблицу, в которой индекс - __first_order_month__, столбцы - __age__, а в значениях - __ltv__. При этом принято находить LTV накопительным итогом, для этого мы будем применять метод __cumsum()__. "
   ]
  },
  {
   "cell_type": "code",
   "execution_count": 39,
   "metadata": {},
   "outputs": [
    {
     "data": {
      "text/html": [
       "<div>\n",
       "<style scoped>\n",
       "    .dataframe tbody tr th:only-of-type {\n",
       "        vertical-align: middle;\n",
       "    }\n",
       "\n",
       "    .dataframe tbody tr th {\n",
       "        vertical-align: top;\n",
       "    }\n",
       "\n",
       "    .dataframe thead th {\n",
       "        text-align: right;\n",
       "    }\n",
       "</style>\n",
       "<table border=\"1\" class=\"dataframe\">\n",
       "  <thead>\n",
       "    <tr style=\"text-align: right;\">\n",
       "      <th>age</th>\n",
       "      <th>0</th>\n",
       "      <th>1</th>\n",
       "      <th>2</th>\n",
       "      <th>3</th>\n",
       "      <th>4</th>\n",
       "      <th>5</th>\n",
       "      <th>6</th>\n",
       "      <th>7</th>\n",
       "      <th>8</th>\n",
       "      <th>9</th>\n",
       "      <th>10</th>\n",
       "      <th>11</th>\n",
       "    </tr>\n",
       "    <tr>\n",
       "      <th>first_order_month</th>\n",
       "      <th></th>\n",
       "      <th></th>\n",
       "      <th></th>\n",
       "      <th></th>\n",
       "      <th></th>\n",
       "      <th></th>\n",
       "      <th></th>\n",
       "      <th></th>\n",
       "      <th></th>\n",
       "      <th></th>\n",
       "      <th></th>\n",
       "      <th></th>\n",
       "    </tr>\n",
       "  </thead>\n",
       "  <tbody>\n",
       "    <tr>\n",
       "      <th>2017-06-01</th>\n",
       "      <td>4.72</td>\n",
       "      <td>5.21</td>\n",
       "      <td>5.65</td>\n",
       "      <td>6.6</td>\n",
       "      <td>7.62</td>\n",
       "      <td>8.36</td>\n",
       "      <td>9.31</td>\n",
       "      <td>9.89</td>\n",
       "      <td>10.45</td>\n",
       "      <td>11.05</td>\n",
       "      <td>11.62</td>\n",
       "      <td>11.88</td>\n",
       "    </tr>\n",
       "    <tr>\n",
       "      <th>2017-07-01</th>\n",
       "      <td>6.01</td>\n",
       "      <td>6.35</td>\n",
       "      <td>6.97</td>\n",
       "      <td>7.33</td>\n",
       "      <td>7.5</td>\n",
       "      <td>7.66</td>\n",
       "      <td>7.78</td>\n",
       "      <td>7.92</td>\n",
       "      <td>8.08</td>\n",
       "      <td>8.23</td>\n",
       "      <td>8.39</td>\n",
       "      <td></td>\n",
       "    </tr>\n",
       "    <tr>\n",
       "      <th>2017-08-01</th>\n",
       "      <td>5.28</td>\n",
       "      <td>5.75</td>\n",
       "      <td>6.21</td>\n",
       "      <td>6.6</td>\n",
       "      <td>7.09</td>\n",
       "      <td>7.38</td>\n",
       "      <td>7.59</td>\n",
       "      <td>7.99</td>\n",
       "      <td>8.28</td>\n",
       "      <td>8.47</td>\n",
       "      <td></td>\n",
       "      <td></td>\n",
       "    </tr>\n",
       "    <tr>\n",
       "      <th>2017-09-01</th>\n",
       "      <td>5.64</td>\n",
       "      <td>6.76</td>\n",
       "      <td>7.28</td>\n",
       "      <td>11.26</td>\n",
       "      <td>11.66</td>\n",
       "      <td>12.31</td>\n",
       "      <td>13.01</td>\n",
       "      <td>13.25</td>\n",
       "      <td>13.44</td>\n",
       "      <td></td>\n",
       "      <td></td>\n",
       "      <td></td>\n",
       "    </tr>\n",
       "    <tr>\n",
       "      <th>2017-10-01</th>\n",
       "      <td>5.00</td>\n",
       "      <td>5.54</td>\n",
       "      <td>5.73</td>\n",
       "      <td>5.89</td>\n",
       "      <td>6.04</td>\n",
       "      <td>6.16</td>\n",
       "      <td>6.24</td>\n",
       "      <td>6.36</td>\n",
       "      <td></td>\n",
       "      <td></td>\n",
       "      <td></td>\n",
       "      <td></td>\n",
       "    </tr>\n",
       "    <tr>\n",
       "      <th>2017-11-01</th>\n",
       "      <td>5.15</td>\n",
       "      <td>5.55</td>\n",
       "      <td>5.75</td>\n",
       "      <td>6.08</td>\n",
       "      <td>6.23</td>\n",
       "      <td>6.28</td>\n",
       "      <td>6.4</td>\n",
       "      <td></td>\n",
       "      <td></td>\n",
       "      <td></td>\n",
       "      <td></td>\n",
       "      <td></td>\n",
       "    </tr>\n",
       "    <tr>\n",
       "      <th>2017-12-01</th>\n",
       "      <td>4.74</td>\n",
       "      <td>5</td>\n",
       "      <td>5.92</td>\n",
       "      <td>6.99</td>\n",
       "      <td>7.3</td>\n",
       "      <td>7.64</td>\n",
       "      <td></td>\n",
       "      <td></td>\n",
       "      <td></td>\n",
       "      <td></td>\n",
       "      <td></td>\n",
       "      <td></td>\n",
       "    </tr>\n",
       "    <tr>\n",
       "      <th>2018-01-01</th>\n",
       "      <td>4.14</td>\n",
       "      <td>4.43</td>\n",
       "      <td>4.73</td>\n",
       "      <td>4.88</td>\n",
       "      <td>4.94</td>\n",
       "      <td></td>\n",
       "      <td></td>\n",
       "      <td></td>\n",
       "      <td></td>\n",
       "      <td></td>\n",
       "      <td></td>\n",
       "      <td></td>\n",
       "    </tr>\n",
       "    <tr>\n",
       "      <th>2018-02-01</th>\n",
       "      <td>4.16</td>\n",
       "      <td>4.44</td>\n",
       "      <td>4.51</td>\n",
       "      <td>4.59</td>\n",
       "      <td></td>\n",
       "      <td></td>\n",
       "      <td></td>\n",
       "      <td></td>\n",
       "      <td></td>\n",
       "      <td></td>\n",
       "      <td></td>\n",
       "      <td></td>\n",
       "    </tr>\n",
       "    <tr>\n",
       "      <th>2018-03-01</th>\n",
       "      <td>4.84</td>\n",
       "      <td>5.14</td>\n",
       "      <td>5.46</td>\n",
       "      <td></td>\n",
       "      <td></td>\n",
       "      <td></td>\n",
       "      <td></td>\n",
       "      <td></td>\n",
       "      <td></td>\n",
       "      <td></td>\n",
       "      <td></td>\n",
       "      <td></td>\n",
       "    </tr>\n",
       "    <tr>\n",
       "      <th>2018-04-01</th>\n",
       "      <td>4.66</td>\n",
       "      <td>5.19</td>\n",
       "      <td></td>\n",
       "      <td></td>\n",
       "      <td></td>\n",
       "      <td></td>\n",
       "      <td></td>\n",
       "      <td></td>\n",
       "      <td></td>\n",
       "      <td></td>\n",
       "      <td></td>\n",
       "      <td></td>\n",
       "    </tr>\n",
       "    <tr>\n",
       "      <th>2018-05-01</th>\n",
       "      <td>4.66</td>\n",
       "      <td></td>\n",
       "      <td></td>\n",
       "      <td></td>\n",
       "      <td></td>\n",
       "      <td></td>\n",
       "      <td></td>\n",
       "      <td></td>\n",
       "      <td></td>\n",
       "      <td></td>\n",
       "      <td></td>\n",
       "      <td></td>\n",
       "    </tr>\n",
       "    <tr>\n",
       "      <th>2018-06-01</th>\n",
       "      <td>3.42</td>\n",
       "      <td></td>\n",
       "      <td></td>\n",
       "      <td></td>\n",
       "      <td></td>\n",
       "      <td></td>\n",
       "      <td></td>\n",
       "      <td></td>\n",
       "      <td></td>\n",
       "      <td></td>\n",
       "      <td></td>\n",
       "      <td></td>\n",
       "    </tr>\n",
       "  </tbody>\n",
       "</table>\n",
       "</div>"
      ],
      "text/plain": [
       "age                  0     1     2      3      4      5      6      7      8   \\\n",
       "first_order_month                                                               \n",
       "2017-06-01         4.72  5.21  5.65    6.6   7.62   8.36   9.31   9.89  10.45   \n",
       "2017-07-01         6.01  6.35  6.97   7.33    7.5   7.66   7.78   7.92   8.08   \n",
       "2017-08-01         5.28  5.75  6.21    6.6   7.09   7.38   7.59   7.99   8.28   \n",
       "2017-09-01         5.64  6.76  7.28  11.26  11.66  12.31  13.01  13.25  13.44   \n",
       "2017-10-01         5.00  5.54  5.73   5.89   6.04   6.16   6.24   6.36          \n",
       "2017-11-01         5.15  5.55  5.75   6.08   6.23   6.28    6.4                 \n",
       "2017-12-01         4.74     5  5.92   6.99    7.3   7.64                        \n",
       "2018-01-01         4.14  4.43  4.73   4.88   4.94                               \n",
       "2018-02-01         4.16  4.44  4.51   4.59                                      \n",
       "2018-03-01         4.84  5.14  5.46                                             \n",
       "2018-04-01         4.66  5.19                                                   \n",
       "2018-05-01         4.66                                                         \n",
       "2018-06-01         3.42                                                         \n",
       "\n",
       "age                   9      10     11  \n",
       "first_order_month                       \n",
       "2017-06-01         11.05  11.62  11.88  \n",
       "2017-07-01          8.23   8.39         \n",
       "2017-08-01          8.47                \n",
       "2017-09-01                              \n",
       "2017-10-01                              \n",
       "2017-11-01                              \n",
       "2017-12-01                              \n",
       "2018-01-01                              \n",
       "2018-02-01                              \n",
       "2018-03-01                              \n",
       "2018-04-01                              \n",
       "2018-05-01                              \n",
       "2018-06-01                              "
      ]
     },
     "execution_count": 39,
     "metadata": {},
     "output_type": "execute_result"
    }
   ],
   "source": [
    "output = cohorts.pivot_table(\n",
    "        index='first_order_month', \n",
    "        columns='age', \n",
    "        values='ltv', \n",
    "        aggfunc='sum')\n",
    "\n",
    "output.cumsum(axis=1).round(2).fillna('')"
   ]
  },
  {
   "cell_type": "markdown",
   "metadata": {},
   "source": [
    "Рассчитаем средний LTV по когортам за 6 месяцев; в расчёт включили когорты, «прожившие» не менее 6 месяцев."
   ]
  },
  {
   "cell_type": "code",
   "execution_count": 40,
   "metadata": {},
   "outputs": [
    {
     "name": "stdout",
     "output_type": "stream",
     "text": [
      "Средний LTV по когортам за 6 месяцев составляет 0.33\n"
     ]
    }
   ],
   "source": [
    "mean_ltv = round(output.loc[:, 5].mean(), 2)\n",
    "print('Средний LTV по когортам за 6 месяцев составляет', mean_ltv)"
   ]
  },
  {
   "cell_type": "markdown",
   "metadata": {},
   "source": [
    "__Вывод__<br>\n",
    "<br>\n",
    "Таким образом если рассматривать метрики электронной коммерции, то можно сделать следующие выводы:\n",
    "- время первого посещания на сайте до момента покупки как правило идентично, то есть люди заходят и сразу же покупают;\n",
    "- cреднее количество покупок на одного покупателя за 6 месяцев составило 10.98, что в целом не является большим показателем;\n",
    "- cредний чек за 6 месяцев составил 102.88 у.е, то есть люди в целом покупает не очень дорогие категории товара;\n",
    "- cредний LTV по когортам за 6 месяцев составляет 4.6, то есть выручка на одного покупателя не очень высокая."
   ]
  },
  {
   "cell_type": "markdown",
   "metadata": {},
   "source": [
    "### 2.3. Маркетинговые метрики <a name=\"marketing_metrics\"></a> "
   ]
  },
  {
   "cell_type": "markdown",
   "metadata": {},
   "source": [
    "#### Общая сумма расходов на маркетинг."
   ]
  },
  {
   "cell_type": "markdown",
   "metadata": {},
   "source": [
    "Общая сумма на маркетинг получилась 329 131 у.е. за анализируемый период"
   ]
  },
  {
   "cell_type": "code",
   "execution_count": 41,
   "metadata": {},
   "outputs": [
    {
     "name": "stdout",
     "output_type": "stream",
     "text": [
      "Общая сумма на маркетинг составила 329131.62\n"
     ]
    }
   ],
   "source": [
    "cost_total = costs['costs'].sum()\n",
    "print('Общая сумма на маркетинг составила', cost_total)"
   ]
  },
  {
   "cell_type": "markdown",
   "metadata": {},
   "source": [
    "Если по источникам рассматривать, то получилось, что на третий источник приходится больше всего расходов. При этом на данный источник приходится 42%. На втором месте стоит четвертый источник, а на пятом месте - пятый"
   ]
  },
  {
   "cell_type": "code",
   "execution_count": 42,
   "metadata": {
    "scrolled": true
   },
   "outputs": [
    {
     "data": {
      "image/png": "[encoded data removed]",
      "text/plain": [
       "<Figure size 1296x720 with 1 Axes>"
      ]
     },
     "metadata": {},
     "output_type": "display_data"
    }
   ],
   "source": [
    "costs_source = costs.groupby('source_id').sum().reset_index()\n",
    "sns.set_style('darkgrid',#задаем стили графикам\n",
    "            {'axes.facecolor': '0.9',\n",
    "            'grid.color': '0.1',\n",
    "            'figure.facecolor': '0.95'})\n",
    "    \n",
    "plt.figure(figsize=(18,10))\n",
    "sns.barplot(data=costs_source, x='source_id', y='costs')\n",
    "plt.title(\"Сумма расходов по источникам\")\n",
    "plt.xlabel(\"Источник\")\n",
    "plt.ylabel(\"Сумма расходов\");"
   ]
  },
  {
   "cell_type": "markdown",
   "metadata": {},
   "source": [
    ">**<span style=\"color:green\">Здесь все супер, молодец!</span>**"
   ]
  },
  {
   "cell_type": "markdown",
   "metadata": {},
   "source": [
    "#### Расчет САС.\n",
    "Рассчитаем средний CAC на одного покупателя для всего проекта и для каждого источника трафика. Для этого мы соединим вначале две таблицы __buyers__ (в нем содержится информация о покупатеоях) и __users__ (информация о source_id)."
   ]
  },
  {
   "cell_type": "code",
   "execution_count": 43,
   "metadata": {},
   "outputs": [
    {
     "data": {
      "text/html": [
       "<div>\n",
       "<style scoped>\n",
       "    .dataframe tbody tr th:only-of-type {\n",
       "        vertical-align: middle;\n",
       "    }\n",
       "\n",
       "    .dataframe tbody tr th {\n",
       "        vertical-align: top;\n",
       "    }\n",
       "\n",
       "    .dataframe thead th {\n",
       "        text-align: right;\n",
       "    }\n",
       "</style>\n",
       "<table border=\"1\" class=\"dataframe\">\n",
       "  <thead>\n",
       "    <tr style=\"text-align: right;\">\n",
       "      <th></th>\n",
       "      <th>uid</th>\n",
       "      <th>first_order_ts</th>\n",
       "      <th>first_order_dt</th>\n",
       "      <th>first_order_month</th>\n",
       "      <th>first_session_ts</th>\n",
       "      <th>first_session_dt</th>\n",
       "      <th>first_sessions_month</th>\n",
       "      <th>difference_day</th>\n",
       "      <th>difference_seconds</th>\n",
       "      <th>source_id</th>\n",
       "    </tr>\n",
       "  </thead>\n",
       "  <tbody>\n",
       "    <tr>\n",
       "      <th>0</th>\n",
       "      <td>313578113262317</td>\n",
       "      <td>2018-01-03 21:51:00</td>\n",
       "      <td>2018-01-03</td>\n",
       "      <td>2018-01-01</td>\n",
       "      <td>2017-09-18 22:49:00</td>\n",
       "      <td>2017-09-18</td>\n",
       "      <td>2017-09-01</td>\n",
       "      <td>106</td>\n",
       "      <td>9241320</td>\n",
       "      <td>2</td>\n",
       "    </tr>\n",
       "    <tr>\n",
       "      <th>1</th>\n",
       "      <td>1575281904278712</td>\n",
       "      <td>2017-06-03 10:13:00</td>\n",
       "      <td>2017-06-03</td>\n",
       "      <td>2017-06-01</td>\n",
       "      <td>2017-06-03 10:13:00</td>\n",
       "      <td>2017-06-03</td>\n",
       "      <td>2017-06-01</td>\n",
       "      <td>0</td>\n",
       "      <td>0</td>\n",
       "      <td>10</td>\n",
       "    </tr>\n",
       "    <tr>\n",
       "      <th>2</th>\n",
       "      <td>2429014661409475</td>\n",
       "      <td>2017-10-11 18:33:00</td>\n",
       "      <td>2017-10-11</td>\n",
       "      <td>2017-10-01</td>\n",
       "      <td>2017-10-11 17:14:00</td>\n",
       "      <td>2017-10-11</td>\n",
       "      <td>2017-10-01</td>\n",
       "      <td>0</td>\n",
       "      <td>4740</td>\n",
       "      <td>3</td>\n",
       "    </tr>\n",
       "    <tr>\n",
       "      <th>3</th>\n",
       "      <td>2464366381792757</td>\n",
       "      <td>2018-01-28 15:54:00</td>\n",
       "      <td>2018-01-28</td>\n",
       "      <td>2018-01-01</td>\n",
       "      <td>2018-01-27 20:10:00</td>\n",
       "      <td>2018-01-27</td>\n",
       "      <td>2018-01-01</td>\n",
       "      <td>0</td>\n",
       "      <td>71040</td>\n",
       "      <td>5</td>\n",
       "    </tr>\n",
       "    <tr>\n",
       "      <th>4</th>\n",
       "      <td>2551852515556206</td>\n",
       "      <td>2017-11-24 10:14:00</td>\n",
       "      <td>2017-11-24</td>\n",
       "      <td>2017-11-01</td>\n",
       "      <td>2017-11-24 10:14:00</td>\n",
       "      <td>2017-11-24</td>\n",
       "      <td>2017-11-01</td>\n",
       "      <td>0</td>\n",
       "      <td>0</td>\n",
       "      <td>5</td>\n",
       "    </tr>\n",
       "  </tbody>\n",
       "</table>\n",
       "</div>"
      ],
      "text/plain": [
       "                uid      first_order_ts first_order_dt first_order_month  \\\n",
       "0   313578113262317 2018-01-03 21:51:00     2018-01-03        2018-01-01   \n",
       "1  1575281904278712 2017-06-03 10:13:00     2017-06-03        2017-06-01   \n",
       "2  2429014661409475 2017-10-11 18:33:00     2017-10-11        2017-10-01   \n",
       "3  2464366381792757 2018-01-28 15:54:00     2018-01-28        2018-01-01   \n",
       "4  2551852515556206 2017-11-24 10:14:00     2017-11-24        2017-11-01   \n",
       "\n",
       "     first_session_ts first_session_dt first_sessions_month  difference_day  \\\n",
       "0 2017-09-18 22:49:00       2017-09-18           2017-09-01             106   \n",
       "1 2017-06-03 10:13:00       2017-06-03           2017-06-01               0   \n",
       "2 2017-10-11 17:14:00       2017-10-11           2017-10-01               0   \n",
       "3 2018-01-27 20:10:00       2018-01-27           2018-01-01               0   \n",
       "4 2017-11-24 10:14:00       2017-11-24           2017-11-01               0   \n",
       "\n",
       "   difference_seconds  source_id  \n",
       "0             9241320          2  \n",
       "1                   0         10  \n",
       "2                4740          3  \n",
       "3               71040          5  \n",
       "4                   0          5  "
      ]
     },
     "execution_count": 43,
     "metadata": {},
     "output_type": "execute_result"
    }
   ],
   "source": [
    "#Находим для каждого uid  источник по которому он попал на сайтпервый раз \n",
    "users = visits.sort_values('start_ts').groupby('uid').first()\n",
    "users = users[['source_id']]\n",
    "\n",
    "#Соединяем две таблицы buyers и users\n",
    "buyers = pd.merge(buyers, users, left_on='uid', right_index=True)\n",
    "buyers.head(5)"
   ]
  },
  {
   "cell_type": "markdown",
   "metadata": {},
   "source": [
    "Выделим уникальных пользователей за день, так как посчитаем, что нужно будет рассчитать CAC по дням, чтобы точно модно было определить уникальных пользователей"
   ]
  },
  {
   "cell_type": "code",
   "execution_count": 44,
   "metadata": {},
   "outputs": [],
   "source": [
    "#Создаем новую группировку по уникальным пользователем с присвоением источника захода\n",
    "user_daily = buyers.groupby(['source_id', 'first_order_dt']).agg({'uid': 'count'}).reset_index()\n",
    "\n",
    "#Переименовываем столбцы\n",
    "user_daily.rename(columns={'uid': 'n_buyers'})\n",
    "datetime(user_daily, 'first_order_dt')"
   ]
  },
  {
   "cell_type": "code",
   "execution_count": 45,
   "metadata": {},
   "outputs": [
    {
     "data": {
      "text/html": [
       "<div>\n",
       "<style scoped>\n",
       "    .dataframe tbody tr th:only-of-type {\n",
       "        vertical-align: middle;\n",
       "    }\n",
       "\n",
       "    .dataframe tbody tr th {\n",
       "        vertical-align: top;\n",
       "    }\n",
       "\n",
       "    .dataframe thead th {\n",
       "        text-align: right;\n",
       "    }\n",
       "</style>\n",
       "<table border=\"1\" class=\"dataframe\">\n",
       "  <thead>\n",
       "    <tr style=\"text-align: right;\">\n",
       "      <th></th>\n",
       "      <th>source_id</th>\n",
       "      <th>date</th>\n",
       "      <th>costs</th>\n",
       "      <th>costs_month</th>\n",
       "      <th>first_order_dt</th>\n",
       "      <th>uid</th>\n",
       "      <th>costs_per_buyer</th>\n",
       "    </tr>\n",
       "  </thead>\n",
       "  <tbody>\n",
       "    <tr>\n",
       "      <th>0</th>\n",
       "      <td>1</td>\n",
       "      <td>2017-06-01</td>\n",
       "      <td>75.20</td>\n",
       "      <td>2017-06-01</td>\n",
       "      <td>2017-06-01</td>\n",
       "      <td>14</td>\n",
       "      <td>5.371429</td>\n",
       "    </tr>\n",
       "    <tr>\n",
       "      <th>1</th>\n",
       "      <td>1</td>\n",
       "      <td>2017-06-02</td>\n",
       "      <td>62.25</td>\n",
       "      <td>2017-06-01</td>\n",
       "      <td>2017-06-02</td>\n",
       "      <td>7</td>\n",
       "      <td>8.892857</td>\n",
       "    </tr>\n",
       "    <tr>\n",
       "      <th>2</th>\n",
       "      <td>1</td>\n",
       "      <td>2017-06-03</td>\n",
       "      <td>36.53</td>\n",
       "      <td>2017-06-01</td>\n",
       "      <td>2017-06-03</td>\n",
       "      <td>7</td>\n",
       "      <td>5.218571</td>\n",
       "    </tr>\n",
       "    <tr>\n",
       "      <th>3</th>\n",
       "      <td>1</td>\n",
       "      <td>2017-06-04</td>\n",
       "      <td>55.00</td>\n",
       "      <td>2017-06-01</td>\n",
       "      <td>2017-06-04</td>\n",
       "      <td>3</td>\n",
       "      <td>18.333333</td>\n",
       "    </tr>\n",
       "    <tr>\n",
       "      <th>4</th>\n",
       "      <td>1</td>\n",
       "      <td>2017-06-05</td>\n",
       "      <td>57.08</td>\n",
       "      <td>2017-06-01</td>\n",
       "      <td>2017-06-05</td>\n",
       "      <td>18</td>\n",
       "      <td>3.171111</td>\n",
       "    </tr>\n",
       "  </tbody>\n",
       "</table>\n",
       "</div>"
      ],
      "text/plain": [
       "   source_id       date  costs costs_month first_order_dt  uid  \\\n",
       "0          1 2017-06-01  75.20  2017-06-01     2017-06-01   14   \n",
       "1          1 2017-06-02  62.25  2017-06-01     2017-06-02    7   \n",
       "2          1 2017-06-03  36.53  2017-06-01     2017-06-03    7   \n",
       "3          1 2017-06-04  55.00  2017-06-01     2017-06-04    3   \n",
       "4          1 2017-06-05  57.08  2017-06-01     2017-06-05   18   \n",
       "\n",
       "   costs_per_buyer  \n",
       "0         5.371429  \n",
       "1         8.892857  \n",
       "2         5.218571  \n",
       "3        18.333333  \n",
       "4         3.171111  "
      ]
     },
     "execution_count": 45,
     "metadata": {},
     "output_type": "execute_result"
    }
   ],
   "source": [
    "costs['costs_month'] = costs['date'].astype('datetime64[M]')\n",
    "#Создаем новую таблицу которая позволит нам рассчитать CAC, а именно поделить расходы на количество уникальных пользователей\n",
    "costs_new = pd.merge(costs, user_daily, left_on=['source_id', 'date'], right_on=['source_id', 'first_order_dt'])\n",
    "costs_new['costs_per_buyer'] = costs_new['costs'] / costs_new['uid']\n",
    "costs_new.head(5)"
   ]
  },
  {
   "cell_type": "code",
   "execution_count": 46,
   "metadata": {},
   "outputs": [
    {
     "data": {
      "text/html": [
       "<div>\n",
       "<style scoped>\n",
       "    .dataframe tbody tr th:only-of-type {\n",
       "        vertical-align: middle;\n",
       "    }\n",
       "\n",
       "    .dataframe tbody tr th {\n",
       "        vertical-align: top;\n",
       "    }\n",
       "\n",
       "    .dataframe thead th {\n",
       "        text-align: right;\n",
       "    }\n",
       "</style>\n",
       "<table border=\"1\" class=\"dataframe\">\n",
       "  <thead>\n",
       "    <tr style=\"text-align: right;\">\n",
       "      <th>source_id</th>\n",
       "      <th>1</th>\n",
       "      <th>2</th>\n",
       "      <th>3</th>\n",
       "      <th>4</th>\n",
       "      <th>5</th>\n",
       "      <th>9</th>\n",
       "      <th>10</th>\n",
       "    </tr>\n",
       "    <tr>\n",
       "      <th>costs_month</th>\n",
       "      <th></th>\n",
       "      <th></th>\n",
       "      <th></th>\n",
       "      <th></th>\n",
       "      <th></th>\n",
       "      <th></th>\n",
       "      <th></th>\n",
       "    </tr>\n",
       "  </thead>\n",
       "  <tbody>\n",
       "    <tr>\n",
       "      <th>2017-06-01</th>\n",
       "      <td>11.681283</td>\n",
       "      <td>12.883568</td>\n",
       "      <td>16.716919</td>\n",
       "      <td>10.792094</td>\n",
       "      <td>9.209676</td>\n",
       "      <td>5.253654</td>\n",
       "      <td>4.590158</td>\n",
       "    </tr>\n",
       "    <tr>\n",
       "      <th>2017-07-01</th>\n",
       "      <td>9.491485</td>\n",
       "      <td>18.000253</td>\n",
       "      <td>18.593952</td>\n",
       "      <td>8.054482</td>\n",
       "      <td>7.938157</td>\n",
       "      <td>5.582433</td>\n",
       "      <td>6.151880</td>\n",
       "    </tr>\n",
       "    <tr>\n",
       "      <th>2017-08-01</th>\n",
       "      <td>12.118898</td>\n",
       "      <td>18.886449</td>\n",
       "      <td>19.795068</td>\n",
       "      <td>11.554926</td>\n",
       "      <td>6.879620</td>\n",
       "      <td>4.900254</td>\n",
       "      <td>5.813398</td>\n",
       "    </tr>\n",
       "    <tr>\n",
       "      <th>2017-09-01</th>\n",
       "      <td>8.155731</td>\n",
       "      <td>17.672249</td>\n",
       "      <td>13.084043</td>\n",
       "      <td>9.533800</td>\n",
       "      <td>6.864844</td>\n",
       "      <td>6.049126</td>\n",
       "      <td>8.306581</td>\n",
       "    </tr>\n",
       "    <tr>\n",
       "      <th>2017-10-01</th>\n",
       "      <td>8.202083</td>\n",
       "      <td>14.193003</td>\n",
       "      <td>14.613088</td>\n",
       "      <td>6.233562</td>\n",
       "      <td>6.305969</td>\n",
       "      <td>5.923235</td>\n",
       "      <td>6.362921</td>\n",
       "    </tr>\n",
       "    <tr>\n",
       "      <th>2017-11-01</th>\n",
       "      <td>8.908503</td>\n",
       "      <td>17.437690</td>\n",
       "      <td>16.091445</td>\n",
       "      <td>5.013132</td>\n",
       "      <td>9.368019</td>\n",
       "      <td>9.400503</td>\n",
       "      <td>10.801337</td>\n",
       "    </tr>\n",
       "    <tr>\n",
       "      <th>2017-12-01</th>\n",
       "      <td>8.570439</td>\n",
       "      <td>13.871086</td>\n",
       "      <td>12.948321</td>\n",
       "      <td>5.656507</td>\n",
       "      <td>8.399174</td>\n",
       "      <td>7.899420</td>\n",
       "      <td>7.803197</td>\n",
       "    </tr>\n",
       "    <tr>\n",
       "      <th>2018-01-01</th>\n",
       "      <td>11.719181</td>\n",
       "      <td>15.850151</td>\n",
       "      <td>15.134989</td>\n",
       "      <td>5.901092</td>\n",
       "      <td>9.371755</td>\n",
       "      <td>9.792713</td>\n",
       "      <td>9.851557</td>\n",
       "    </tr>\n",
       "    <tr>\n",
       "      <th>2018-02-01</th>\n",
       "      <td>10.752216</td>\n",
       "      <td>18.209325</td>\n",
       "      <td>13.894612</td>\n",
       "      <td>5.428068</td>\n",
       "      <td>7.725369</td>\n",
       "      <td>8.181382</td>\n",
       "      <td>4.489624</td>\n",
       "    </tr>\n",
       "    <tr>\n",
       "      <th>2018-03-01</th>\n",
       "      <td>8.021974</td>\n",
       "      <td>16.122180</td>\n",
       "      <td>15.563841</td>\n",
       "      <td>6.753624</td>\n",
       "      <td>10.309222</td>\n",
       "      <td>5.312877</td>\n",
       "      <td>4.233605</td>\n",
       "    </tr>\n",
       "    <tr>\n",
       "      <th>2018-04-01</th>\n",
       "      <td>8.584114</td>\n",
       "      <td>17.648538</td>\n",
       "      <td>15.961657</td>\n",
       "      <td>6.567086</td>\n",
       "      <td>9.631068</td>\n",
       "      <td>6.491157</td>\n",
       "      <td>4.394415</td>\n",
       "    </tr>\n",
       "    <tr>\n",
       "      <th>2018-05-01</th>\n",
       "      <td>7.851694</td>\n",
       "      <td>14.994208</td>\n",
       "      <td>14.401278</td>\n",
       "      <td>5.628901</td>\n",
       "      <td>8.139812</td>\n",
       "      <td>6.506049</td>\n",
       "      <td>5.176317</td>\n",
       "    </tr>\n",
       "  </tbody>\n",
       "</table>\n",
       "</div>"
      ],
      "text/plain": [
       "source_id           1          2          3          4          5         9   \\\n",
       "costs_month                                                                    \n",
       "2017-06-01   11.681283  12.883568  16.716919  10.792094   9.209676  5.253654   \n",
       "2017-07-01    9.491485  18.000253  18.593952   8.054482   7.938157  5.582433   \n",
       "2017-08-01   12.118898  18.886449  19.795068  11.554926   6.879620  4.900254   \n",
       "2017-09-01    8.155731  17.672249  13.084043   9.533800   6.864844  6.049126   \n",
       "2017-10-01    8.202083  14.193003  14.613088   6.233562   6.305969  5.923235   \n",
       "2017-11-01    8.908503  17.437690  16.091445   5.013132   9.368019  9.400503   \n",
       "2017-12-01    8.570439  13.871086  12.948321   5.656507   8.399174  7.899420   \n",
       "2018-01-01   11.719181  15.850151  15.134989   5.901092   9.371755  9.792713   \n",
       "2018-02-01   10.752216  18.209325  13.894612   5.428068   7.725369  8.181382   \n",
       "2018-03-01    8.021974  16.122180  15.563841   6.753624  10.309222  5.312877   \n",
       "2018-04-01    8.584114  17.648538  15.961657   6.567086   9.631068  6.491157   \n",
       "2018-05-01    7.851694  14.994208  14.401278   5.628901   8.139812  6.506049   \n",
       "\n",
       "source_id           10  \n",
       "costs_month             \n",
       "2017-06-01    4.590158  \n",
       "2017-07-01    6.151880  \n",
       "2017-08-01    5.813398  \n",
       "2017-09-01    8.306581  \n",
       "2017-10-01    6.362921  \n",
       "2017-11-01   10.801337  \n",
       "2017-12-01    7.803197  \n",
       "2018-01-01    9.851557  \n",
       "2018-02-01    4.489624  \n",
       "2018-03-01    4.233605  \n",
       "2018-04-01    4.394415  \n",
       "2018-05-01    5.176317  "
      ]
     },
     "execution_count": 46,
     "metadata": {},
     "output_type": "execute_result"
    }
   ],
   "source": [
    "#Создаем сводную таблицу, в котором будет отражен CAC расчитанный помесячно\n",
    "costs_id = costs_new .pivot_table(\n",
    "        index='costs_month', \n",
    "        columns='source_id', \n",
    "        values='costs_per_buyer', \n",
    "        aggfunc='mean')\n",
    "\n",
    "costs_id"
   ]
  },
  {
   "cell_type": "code",
   "execution_count": 47,
   "metadata": {},
   "outputs": [
    {
     "data": {
      "image/png": "[encoded data removed]",
      "text/plain": [
       "<Figure size 1152x648 with 1 Axes>"
      ]
     },
     "metadata": {},
     "output_type": "display_data"
    }
   ],
   "source": [
    "#Нарисуем график\n",
    "costs_id.plot(figsize=(16,9), title='Стоимость привлечения одного покупателя из каждого источника')\n",
    "plt.xlabel('Месяц')\n",
    "plt.ylabel('у.e.')   \n",
    "plt.show()"
   ]
  },
  {
   "cell_type": "markdown",
   "metadata": {},
   "source": [
    "На основе полученного анализа можно сделать вывод, что самые дорогими источниками для привлечения клиентов являются источник номер 2 и номер 3. Их CAC за месяц как правило превышает 15 у.е. Самым дешевым источником является источник 4, при этом по нему наблюдается самое резкое падение с 11 у.е в августе месяце до 5 у.е. в ноябре. В целом можно говорить, что по всем источникам наблюдается скачкообразное тенденция, то вверх, то вниз, что требует более детального изучения."
   ]
  },
  {
   "cell_type": "markdown",
   "metadata": {},
   "source": [
    "#### Рассчет ROMI по когортам в разрезе источников. "
   ]
  },
  {
   "cell_type": "markdown",
   "metadata": {},
   "source": [
    "Для подсчета ROMI необходимо найти выручку и количество покупателей за определенный месяц. Вначале найдем количество уникальных пользователей по первому заказу в разрезе источников трафика. Создадим новый данные __user_month__ с группировкой по __source_id__, __first_order_month__. "
   ]
  },
  {
   "cell_type": "code",
   "execution_count": 48,
   "metadata": {},
   "outputs": [],
   "source": [
    "#Сгруппируем данные по ууникальным пользователям в разрезе источников и первого заказа.\n",
    "user_month = buyers.groupby(['source_id', 'first_order_month']).agg({'uid': 'nunique'}).reset_index()\n",
    "user_month.columns = ['source_id', 'first_order_month', 'n_buyers']"
   ]
  },
  {
   "cell_type": "markdown",
   "metadata": {},
   "source": [
    "Затем с помощью __merge__ и __groupby__ рассчитаем сумму выручки в разрезе первого месяца заказа, месяца заказа и источника трафика. Следующим этапом является нахождение разницы между выполненным заказом и первым заказом. Создадим новый Series __calculation_romi__, который соединит нам количество уникальных пользователей и сумму выручку в разрезе источников по первой покупке. Все это позволит нам рассчитать такой показатель как __ltv__, то есть отношение валовой прибыли к количеству покупателей.   "
   ]
  },
  {
   "cell_type": "code",
   "execution_count": 49,
   "metadata": {},
   "outputs": [
    {
     "data": {
      "text/html": [
       "<div>\n",
       "<style scoped>\n",
       "    .dataframe tbody tr th:only-of-type {\n",
       "        vertical-align: middle;\n",
       "    }\n",
       "\n",
       "    .dataframe tbody tr th {\n",
       "        vertical-align: top;\n",
       "    }\n",
       "\n",
       "    .dataframe thead th {\n",
       "        text-align: right;\n",
       "    }\n",
       "</style>\n",
       "<table border=\"1\" class=\"dataframe\">\n",
       "  <thead>\n",
       "    <tr style=\"text-align: right;\">\n",
       "      <th></th>\n",
       "      <th>first_order_month</th>\n",
       "      <th>order_month</th>\n",
       "      <th>source_id</th>\n",
       "      <th>revenue</th>\n",
       "      <th>age</th>\n",
       "      <th>n_buyers</th>\n",
       "      <th>ltv</th>\n",
       "    </tr>\n",
       "  </thead>\n",
       "  <tbody>\n",
       "    <tr>\n",
       "      <th>0</th>\n",
       "      <td>2017-06-01</td>\n",
       "      <td>2017-06-01</td>\n",
       "      <td>1</td>\n",
       "      <td>1378.70</td>\n",
       "      <td>0</td>\n",
       "      <td>190</td>\n",
       "      <td>7.256316</td>\n",
       "    </tr>\n",
       "    <tr>\n",
       "      <th>1</th>\n",
       "      <td>2017-06-01</td>\n",
       "      <td>2017-07-01</td>\n",
       "      <td>1</td>\n",
       "      <td>414.98</td>\n",
       "      <td>1</td>\n",
       "      <td>190</td>\n",
       "      <td>2.184105</td>\n",
       "    </tr>\n",
       "    <tr>\n",
       "      <th>2</th>\n",
       "      <td>2017-06-01</td>\n",
       "      <td>2017-08-01</td>\n",
       "      <td>1</td>\n",
       "      <td>419.43</td>\n",
       "      <td>2</td>\n",
       "      <td>190</td>\n",
       "      <td>2.207526</td>\n",
       "    </tr>\n",
       "    <tr>\n",
       "      <th>3</th>\n",
       "      <td>2017-06-01</td>\n",
       "      <td>2017-09-01</td>\n",
       "      <td>1</td>\n",
       "      <td>714.24</td>\n",
       "      <td>3</td>\n",
       "      <td>190</td>\n",
       "      <td>3.759158</td>\n",
       "    </tr>\n",
       "    <tr>\n",
       "      <th>4</th>\n",
       "      <td>2017-06-01</td>\n",
       "      <td>2017-10-01</td>\n",
       "      <td>1</td>\n",
       "      <td>811.20</td>\n",
       "      <td>4</td>\n",
       "      <td>190</td>\n",
       "      <td>4.269474</td>\n",
       "    </tr>\n",
       "    <tr>\n",
       "      <th>5</th>\n",
       "      <td>2017-06-01</td>\n",
       "      <td>2017-11-01</td>\n",
       "      <td>1</td>\n",
       "      <td>389.34</td>\n",
       "      <td>5</td>\n",
       "      <td>190</td>\n",
       "      <td>2.049158</td>\n",
       "    </tr>\n",
       "    <tr>\n",
       "      <th>6</th>\n",
       "      <td>2017-06-01</td>\n",
       "      <td>2017-12-01</td>\n",
       "      <td>1</td>\n",
       "      <td>490.48</td>\n",
       "      <td>6</td>\n",
       "      <td>190</td>\n",
       "      <td>2.581474</td>\n",
       "    </tr>\n",
       "    <tr>\n",
       "      <th>7</th>\n",
       "      <td>2017-06-01</td>\n",
       "      <td>2018-01-01</td>\n",
       "      <td>1</td>\n",
       "      <td>479.23</td>\n",
       "      <td>7</td>\n",
       "      <td>190</td>\n",
       "      <td>2.522263</td>\n",
       "    </tr>\n",
       "    <tr>\n",
       "      <th>8</th>\n",
       "      <td>2017-06-01</td>\n",
       "      <td>2018-02-01</td>\n",
       "      <td>1</td>\n",
       "      <td>432.15</td>\n",
       "      <td>8</td>\n",
       "      <td>190</td>\n",
       "      <td>2.274474</td>\n",
       "    </tr>\n",
       "    <tr>\n",
       "      <th>9</th>\n",
       "      <td>2017-06-01</td>\n",
       "      <td>2018-03-01</td>\n",
       "      <td>1</td>\n",
       "      <td>316.30</td>\n",
       "      <td>9</td>\n",
       "      <td>190</td>\n",
       "      <td>1.664737</td>\n",
       "    </tr>\n",
       "  </tbody>\n",
       "</table>\n",
       "</div>"
      ],
      "text/plain": [
       "  first_order_month order_month  source_id  revenue  age  n_buyers       ltv\n",
       "0        2017-06-01  2017-06-01          1  1378.70    0       190  7.256316\n",
       "1        2017-06-01  2017-07-01          1   414.98    1       190  2.184105\n",
       "2        2017-06-01  2017-08-01          1   419.43    2       190  2.207526\n",
       "3        2017-06-01  2017-09-01          1   714.24    3       190  3.759158\n",
       "4        2017-06-01  2017-10-01          1   811.20    4       190  4.269474\n",
       "5        2017-06-01  2017-11-01          1   389.34    5       190  2.049158\n",
       "6        2017-06-01  2017-12-01          1   490.48    6       190  2.581474\n",
       "7        2017-06-01  2018-01-01          1   479.23    7       190  2.522263\n",
       "8        2017-06-01  2018-02-01          1   432.15    8       190  2.274474\n",
       "9        2017-06-01  2018-03-01          1   316.30    9       190  1.664737"
      ]
     },
     "execution_count": 49,
     "metadata": {},
     "output_type": "execute_result"
    }
   ],
   "source": [
    "#Соединяем две таблицы orders и buyers для подсчета суммы доходов\n",
    "calculation_romi= pd.merge(orders, buyers, how='inner', on='uid').groupby(['first_order_month', 'order_month', 'source_id']).agg({'revenue': 'sum'}).reset_index()\n",
    "\n",
    "\n",
    "#Находим возраст когорты\n",
    "calculation_romi['age'] = (calculation_romi['order_month'] - calculation_romi['first_order_month']) / np.timedelta64(1, 'M')\n",
    "calculation_romi['age'] = calculation_romi['age'].round().astype('int')\n",
    "\n",
    "#Соединяем две таблицы calculation_romi и user_month\n",
    "calculation_romi = pd.merge(calculation_romi, user_month, on=['first_order_month', 'source_id'])\n",
    "#Рассчитаем  показатель  ltv - отношение валовой прибыли к количеству покупателей.\n",
    "calculation_romi['ltv'] = calculation_romi['revenue'] / calculation_romi['n_buyers']\n",
    "calculation_romi.head(10)"
   ]
  },
  {
   "cell_type": "markdown",
   "metadata": {},
   "source": [
    "Затем добавим к вновь созданной таблице __calculation_romi__ информацию о среднем показателе CAC по каждому виду источника. __ROMI__ находим просто, делим покахзатель __LTV__ на __CAC__. "
   ]
  },
  {
   "cell_type": "code",
   "execution_count": 50,
   "metadata": {},
   "outputs": [],
   "source": [
    "#Найдем средний показатель CAC по каждому виду источнику из данных costs_new\n",
    "cac_mean = costs_new.groupby('source_id').agg({'costs_per_buyer': 'mean'})\n",
    "\n",
    "#Добавляем к вновь созданной таблице сalculation_romi информацию о среднем показателе CAC по каждому виду источника\n",
    "calculation_romi = calculation_romi.join(cac_mean, on='source_id')\n",
    "calculation_romi.rename(columns={'costs_per_buyer': 'cac'}, inplace=True)\n",
    "calculation_romi['romi'] = calculation_romi['ltv'] / calculation_romi['cac']"
   ]
  },
  {
   "cell_type": "markdown",
   "metadata": {},
   "source": [
    "Сделаем функцию, которая построит нам тепловую карту по __ROMI__ по каждому виду  источнику. Исходя из полученных данных можно сделать вывод что самым рентабельным источником является первый, по крайней такая тенденция прослеживалась вначале, но с каждой когортой показатель по __ROMI__ снижался, то есть популярность данного источника снижалась с каждой когортой. Второй и третий источник из-за высоких расходов не показывают большую рентабельность. Отметим, что по второму источнику наблюдается некая положительная динамика по рентабельности по некоторым когортам.\n"
   ]
  },
  {
   "cell_type": "code",
   "execution_count": 51,
   "metadata": {},
   "outputs": [
    {
     "data": {
      "image/png": "[encoded data removed]",
      "text/plain": [
       "<Figure size 936x648 with 2 Axes>"
      ]
     },
     "metadata": {},
     "output_type": "display_data"
    },
    {
     "data": {
      "image/png": "[encoded data removed]",
      "text/plain": [
       "<Figure size 936x648 with 2 Axes>"
      ]
     },
     "metadata": {},
     "output_type": "display_data"
    },
    {
     "data": {
      "image/png": "[encoded data removed]",
      "text/plain": [
       "<Figure size 936x648 with 2 Axes>"
      ]
     },
     "metadata": {},
     "output_type": "display_data"
    },
    {
     "data": {
      "image/png": "[encoded data removed]",
      "text/plain": [
       "<Figure size 936x648 with 2 Axes>"
      ]
     },
     "metadata": {},
     "output_type": "display_data"
    },
    {
     "data": {
      "image/png": "[encoded data removed]",
      "text/plain": [
       "<Figure size 936x648 with 2 Axes>"
      ]
     },
     "metadata": {},
     "output_type": "display_data"
    },
    {
     "data": {
      "image/png": "[encoded data removed]",
      "text/plain": [
       "<Figure size 936x648 with 2 Axes>"
      ]
     },
     "metadata": {},
     "output_type": "display_data"
    },
    {
     "data": {
      "image/png": "[encoded data removed]",
      "text/plain": [
       "<Figure size 936x648 with 2 Axes>"
      ]
     },
     "metadata": {},
     "output_type": "display_data"
    }
   ],
   "source": [
    "#Создадим функцию, которую нам будет строить тепловую карту по ROMI по каждому виду  источнику\n",
    "def columns(column):\n",
    "    romi_pivot = calculation_romi.query('source_id == @column')#Делаем срез по виду источника \n",
    "    cohorts_pivot = romi_pivot.pivot_table(#Создаем сводную таблицу\n",
    "        index='first_order_month',\n",
    "        columns='age',\n",
    "        values = 'romi',\n",
    "        aggfunc='mean').cumsum(axis=1)\n",
    "    cohorts_pivot.fillna('')\n",
    "    \n",
    "    #Строим тепловую карту\n",
    "    plt.figure(figsize=(13, 9))\n",
    "    plt.title('ROMI по источнику ' + str(column))\n",
    "    cohorts_pivot.index = [str(x)[0:10] for x in cohorts_pivot.index]\n",
    "    sns.heatmap(cohorts_pivot, annot=True, fmt='.2f', linewidths=1, linecolor='gray');\n",
    "\n",
    "#Прогоняем данные по циклу\n",
    "data = [1, 2, 3, 4, 5, 9, 10]\n",
    "\n",
    "for i in data:\n",
    "    columns(i)"
   ]
  },
  {
   "cell_type": "code",
   "execution_count": null,
   "metadata": {},
   "outputs": [],
   "source": []
  },
  {
   "cell_type": "markdown",
   "metadata": {},
   "source": [
    "__Вывод__<br>\n",
    "<br>\n",
    "Таким образом если рассматривать маркетинговые метрики, то можно сделать следующие выводы:\n",
    "- общая сумма на маркетинг получилась 329 131 у.е. за анализируемый период.\n",
    "- на третий источник приходится больше всего расходов, а именно 42% от общего объема расходов по всем видам истоничков.\n",
    "- самыми дорогими источниками для привлечения клиентов являются источник номер 2 и номер 3,  их CAC за месяц как правило превышает 15 у.е.ъ\n",
    "- самым рентабельным источником является первый, у него самые большие показатели ROMI. При этом такие прибыльные источники как второй и третий из-за высоких расходов обладают не самым высоким ROMI."
   ]
  },
  {
   "cell_type": "markdown",
   "metadata": {},
   "source": [
    "## 3. Сформулируйте выводы и рекомендации <a name=\"conclusion\"></a>"
   ]
  },
  {
   "cell_type": "markdown",
   "metadata": {},
   "source": [
    "Исходя из проведенного анализа сделаем следующие выводы:<br>\n",
    "1) Необходимо делать ставку отделу маркетинга на первый источник, на второй и на четвертый. Первый источник требует относительно немного затрат, но при этом нужно проанализировать причины снижения показателей по сравнению с первой когортой. Второй источник демонстрирует относительно повышения показателей по некоторым когортам, то есть у этого источника есть определенный потенициал для роста. Относительно стабильным является четвертый источник, при этом он занимает второе место по показателю ROMI по первой когорте. Наименее перспективным является с нашей точки зрения последний источник, за некоторые периоды даже не удалось найти ROMI, а также третий источник, от него очень низкий показатель ROMI, а расходы на него огромные"
   ]
  },
  {
   "cell_type": "markdown",
   "metadata": {},
   "source": [
    "2) Подсчет метрик трех видов: маркетинговых, продуктовых и метрик электронной коммерции, выявил следующие проблемные зоны:\n",
    "- огромный отток пользователей после первого посещения сайта, то есть людей не заинтересовывает контент сайт и они потом не возвращаются, при этом если анализировать такие показатели как DAU, MAU и WAU, то они показывают положительную динамику;\n",
    "- люди проводят малое время на сайте, как правило они заходят на сайт, покупает, то что нужно и выходят, средний чек и количество покупок тоже находится не на самом высоком уровне,  именно среднее количество покупок на одного покупателя за 6 месяцев составило 10.98, а средний чек 103 доллара. То есть люди заходят и покупают не часто и не на большую сумму;\n",
    "- cредний LTV по когортам за 6 месяцев составляет 4.6, то есть выручка на одного покупателя не очень высокая. Самые высокие результаты по выручке на одного человека показали когорта в июне и в сентябре. А в целом можно говорить, что LTV по каждой когорте снижался по сравнению с предыдущей;\n",
    "- самыми дорогими источниками для привлечения клиентов являются источник номер 2 и номер 3. Их CAC за месяц как правило превышает 15 у.е. Самым дешевым источником является источник 4, при этом по нему наблюдается самое резкое падение;\n",
    "- самым рентабельным источником является первый, по крайней такая тенденция прослеживалась вначале, но с каждой когортой показатель по ROMI по данному виду источника снижался, то есть популярность данного источника снижалась с каждой когортой. Второй и третий источник из-за высоких расходов не показывают большую рентабельность. Отметим, что по второму источнику наблюдается некая положительная динамика по рентабельности по некоторым когортам."
   ]
  },
  {
   "cell_type": "markdown",
   "metadata": {},
   "source": [
    "3) Подводя итог, можно сказать, что все проанализируемые показатели говорят о динамике их снижения за определенные периоды времени. То есть необходимо делать более глубинный анализ причин падения данных показателей. Если говорить о когортах, то самыми из них перспективными для компании являются когорты июня и  когорты сентября, видимо это связано с тем, что в сентябре люди многие возвращаются с отпусков или на учебу, поэтому они являются более активными в плане покупок товаров. Самыми не рентабельными когортами являются когорты января и февраля, то есть это период после новогодних каникул, когда люди спускают огромную часть средств, поэтому их покупательная активность снижается. "
   ]
  }
 ],
 "metadata": {
  "ExecuteTimeLog": [
   {
    "duration": 1315,
    "start_time": "2021-07-06T15:46:10.149Z"
   },
   {
    "duration": 534,
    "start_time": "2021-07-06T15:46:11.466Z"
   },
   {
    "duration": 127,
    "start_time": "2021-07-06T15:46:12.002Z"
   },
   {
    "duration": 33,
    "start_time": "2021-07-06T15:46:12.131Z"
   },
   {
    "duration": 211,
    "start_time": "2021-07-06T15:46:12.166Z"
   },
   {
    "duration": 194,
    "start_time": "2021-07-06T15:46:12.379Z"
   },
   {
    "duration": 310,
    "start_time": "2021-07-06T15:46:12.574Z"
   },
   {
    "duration": 3,
    "start_time": "2021-07-06T15:46:12.890Z"
   },
   {
    "duration": 741,
    "start_time": "2021-07-06T15:46:12.895Z"
   },
   {
    "duration": 476,
    "start_time": "2021-07-06T15:46:13.638Z"
   },
   {
    "duration": 431,
    "start_time": "2021-07-06T15:46:14.116Z"
   },
   {
    "duration": 106,
    "start_time": "2021-07-06T15:46:14.549Z"
   },
   {
    "duration": 221,
    "start_time": "2021-07-06T15:46:14.657Z"
   },
   {
    "duration": 22,
    "start_time": "2021-07-06T15:46:14.880Z"
   },
   {
    "duration": 579,
    "start_time": "2021-07-06T15:46:14.904Z"
   },
   {
    "duration": 11,
    "start_time": "2021-07-06T15:46:15.485Z"
   },
   {
    "duration": 204,
    "start_time": "2021-07-06T15:46:15.497Z"
   },
   {
    "duration": 269,
    "start_time": "2021-07-06T15:46:15.702Z"
   },
   {
    "duration": 172,
    "start_time": "2021-07-06T15:46:15.973Z"
   },
   {
    "duration": 812,
    "start_time": "2021-07-06T15:46:16.147Z"
   },
   {
    "duration": 45,
    "start_time": "2021-07-06T15:46:16.960Z"
   },
   {
    "duration": 107,
    "start_time": "2021-07-06T15:46:17.006Z"
   },
   {
    "duration": 29,
    "start_time": "2021-07-06T15:46:17.117Z"
   },
   {
    "duration": 2,
    "start_time": "2021-07-06T15:46:17.148Z"
   },
   {
    "duration": 487,
    "start_time": "2021-07-06T15:46:17.152Z"
   },
   {
    "duration": 5,
    "start_time": "2021-07-06T15:46:17.641Z"
   },
   {
    "duration": 353,
    "start_time": "2021-07-06T15:46:17.647Z"
   },
   {
    "duration": 5,
    "start_time": "2021-07-06T15:46:18.001Z"
   },
   {
    "duration": 26,
    "start_time": "2021-07-06T15:46:18.008Z"
   },
   {
    "duration": 28,
    "start_time": "2021-07-06T15:46:18.035Z"
   },
   {
    "duration": 48,
    "start_time": "2021-07-06T15:46:18.065Z"
   },
   {
    "duration": 4,
    "start_time": "2021-07-06T15:46:18.115Z"
   },
   {
    "duration": 30,
    "start_time": "2021-07-06T15:46:18.121Z"
   },
   {
    "duration": 46,
    "start_time": "2021-07-06T15:46:18.152Z"
   },
   {
    "duration": 4,
    "start_time": "2021-07-06T15:46:18.199Z"
   },
   {
    "duration": 13,
    "start_time": "2021-07-06T15:46:18.204Z"
   },
   {
    "duration": 15,
    "start_time": "2021-07-06T15:46:18.218Z"
   },
   {
    "duration": 39,
    "start_time": "2021-07-06T15:46:18.234Z"
   },
   {
    "duration": 45,
    "start_time": "2021-07-06T15:46:18.274Z"
   },
   {
    "duration": 4,
    "start_time": "2021-07-06T15:46:18.320Z"
   },
   {
    "duration": 8,
    "start_time": "2021-07-06T15:46:18.325Z"
   },
   {
    "duration": 327,
    "start_time": "2021-07-06T15:46:18.334Z"
   },
   {
    "duration": 460,
    "start_time": "2021-07-06T15:46:18.662Z"
   },
   {
    "duration": 12,
    "start_time": "2021-07-06T15:46:19.124Z"
   },
   {
    "duration": 16,
    "start_time": "2021-07-06T15:46:19.137Z"
   },
   {
    "duration": 37,
    "start_time": "2021-07-06T15:46:19.155Z"
   },
   {
    "duration": 404,
    "start_time": "2021-07-06T15:46:19.193Z"
   },
   {
    "duration": 2,
    "start_time": "2021-07-06T15:46:19.598Z"
   },
   {
    "duration": 19,
    "start_time": "2021-07-06T15:46:19.601Z"
   },
   {
    "duration": 40,
    "start_time": "2021-07-06T15:46:19.621Z"
   },
   {
    "duration": 7,
    "start_time": "2021-07-06T15:46:19.663Z"
   },
   {
    "duration": 4736,
    "start_time": "2021-07-06T15:46:19.671Z"
   },
   {
    "duration": 1405,
    "start_time": "2021-07-12T09:57:37.261Z"
   },
   {
    "duration": 762,
    "start_time": "2021-07-12T09:57:38.668Z"
   },
   {
    "duration": 212,
    "start_time": "2021-07-12T09:57:39.435Z"
   },
   {
    "duration": 36,
    "start_time": "2021-07-12T09:57:39.649Z"
   },
   {
    "duration": 256,
    "start_time": "2021-07-12T09:57:39.687Z"
   },
   {
    "duration": 203,
    "start_time": "2021-07-12T09:57:39.945Z"
   },
   {
    "duration": 319,
    "start_time": "2021-07-12T09:57:40.150Z"
   },
   {
    "duration": 3,
    "start_time": "2021-07-12T09:57:40.472Z"
   },
   {
    "duration": 806,
    "start_time": "2021-07-12T09:57:40.477Z"
   },
   {
    "duration": 393,
    "start_time": "2021-07-12T09:57:41.285Z"
   },
   {
    "duration": 427,
    "start_time": "2021-07-12T09:57:41.679Z"
   },
   {
    "duration": 108,
    "start_time": "2021-07-12T09:57:42.108Z"
   },
   {
    "duration": 223,
    "start_time": "2021-07-12T09:57:42.217Z"
   },
   {
    "duration": 18,
    "start_time": "2021-07-12T09:57:42.442Z"
   },
   {
    "duration": 606,
    "start_time": "2021-07-12T09:57:42.462Z"
   },
   {
    "duration": 6,
    "start_time": "2021-07-12T09:57:43.070Z"
   },
   {
    "duration": 215,
    "start_time": "2021-07-12T09:57:43.078Z"
   },
   {
    "duration": 247,
    "start_time": "2021-07-12T09:57:43.295Z"
   },
   {
    "duration": 389,
    "start_time": "2021-07-12T09:57:43.543Z"
   },
   {
    "duration": 921,
    "start_time": "2021-07-12T09:57:43.933Z"
   },
   {
    "duration": 37,
    "start_time": "2021-07-12T09:57:44.856Z"
   },
   {
    "duration": 116,
    "start_time": "2021-07-12T09:57:44.897Z"
   },
   {
    "duration": 37,
    "start_time": "2021-07-12T09:57:45.016Z"
   },
   {
    "duration": 4,
    "start_time": "2021-07-12T09:57:45.055Z"
   },
   {
    "duration": 514,
    "start_time": "2021-07-12T09:57:45.061Z"
   },
   {
    "duration": 6,
    "start_time": "2021-07-12T09:57:45.577Z"
   },
   {
    "duration": 382,
    "start_time": "2021-07-12T09:57:45.585Z"
   },
   {
    "duration": 6,
    "start_time": "2021-07-12T09:57:45.969Z"
   },
   {
    "duration": 24,
    "start_time": "2021-07-12T09:57:45.977Z"
   },
   {
    "duration": 44,
    "start_time": "2021-07-12T09:57:46.003Z"
   },
   {
    "duration": 32,
    "start_time": "2021-07-12T09:57:46.049Z"
   },
   {
    "duration": 5,
    "start_time": "2021-07-12T09:57:46.082Z"
   },
   {
    "duration": 50,
    "start_time": "2021-07-12T09:57:46.093Z"
   },
   {
    "duration": 29,
    "start_time": "2021-07-12T09:57:46.145Z"
   },
   {
    "duration": 4,
    "start_time": "2021-07-12T09:57:46.175Z"
   },
   {
    "duration": 8,
    "start_time": "2021-07-12T09:57:46.181Z"
   },
   {
    "duration": 15,
    "start_time": "2021-07-12T09:57:46.191Z"
   },
   {
    "duration": 69,
    "start_time": "2021-07-12T09:57:46.208Z"
   },
   {
    "duration": 31,
    "start_time": "2021-07-12T09:57:46.279Z"
   },
   {
    "duration": 4,
    "start_time": "2021-07-12T09:57:46.312Z"
   },
   {
    "duration": 25,
    "start_time": "2021-07-12T09:57:46.318Z"
   },
   {
    "duration": 343,
    "start_time": "2021-07-12T09:57:46.345Z"
   },
   {
    "duration": 463,
    "start_time": "2021-07-12T09:57:46.689Z"
   },
   {
    "duration": 12,
    "start_time": "2021-07-12T09:57:47.154Z"
   },
   {
    "duration": 16,
    "start_time": "2021-07-12T09:57:47.168Z"
   },
   {
    "duration": 25,
    "start_time": "2021-07-12T09:57:47.185Z"
   },
   {
    "duration": 445,
    "start_time": "2021-07-12T09:57:47.211Z"
   },
   {
    "duration": 2,
    "start_time": "2021-07-12T09:57:47.658Z"
   },
   {
    "duration": 28,
    "start_time": "2021-07-12T09:57:47.662Z"
   },
   {
    "duration": 49,
    "start_time": "2021-07-12T09:57:47.692Z"
   },
   {
    "duration": 9,
    "start_time": "2021-07-12T09:57:47.744Z"
   },
   {
    "duration": 5076,
    "start_time": "2021-07-12T09:57:47.754Z"
   },
   {
    "duration": 2021,
    "start_time": "2021-07-26T14:18:25.997Z"
   },
   {
    "duration": 800,
    "start_time": "2021-07-26T14:18:28.020Z"
   },
   {
    "duration": 198,
    "start_time": "2021-07-26T14:18:28.823Z"
   },
   {
    "duration": 71,
    "start_time": "2021-07-26T14:18:29.024Z"
   },
   {
    "duration": 313,
    "start_time": "2021-07-26T14:18:29.098Z"
   },
   {
    "duration": 338,
    "start_time": "2021-07-26T14:18:29.413Z"
   },
   {
    "duration": 445,
    "start_time": "2021-07-26T14:18:29.754Z"
   },
   {
    "duration": 6,
    "start_time": "2021-07-26T14:18:30.202Z"
   },
   {
    "duration": 1205,
    "start_time": "2021-07-26T14:18:30.214Z"
   },
   {
    "duration": 645,
    "start_time": "2021-07-26T14:18:31.422Z"
   },
   {
    "duration": 639,
    "start_time": "2021-07-26T14:18:32.069Z"
   },
   {
    "duration": 161,
    "start_time": "2021-07-26T14:18:32.711Z"
   },
   {
    "duration": 406,
    "start_time": "2021-07-26T14:18:32.875Z"
   },
   {
    "duration": 24,
    "start_time": "2021-07-26T14:18:33.283Z"
   },
   {
    "duration": 1164,
    "start_time": "2021-07-26T14:18:33.309Z"
   },
   {
    "duration": 11,
    "start_time": "2021-07-26T14:18:34.475Z"
   },
   {
    "duration": 340,
    "start_time": "2021-07-26T14:18:34.488Z"
   },
   {
    "duration": 378,
    "start_time": "2021-07-26T14:18:34.831Z"
   },
   {
    "duration": 250,
    "start_time": "2021-07-26T14:18:35.212Z"
   },
   {
    "duration": 1256,
    "start_time": "2021-07-26T14:18:35.465Z"
   },
   {
    "duration": 81,
    "start_time": "2021-07-26T14:18:36.724Z"
   },
   {
    "duration": 203,
    "start_time": "2021-07-26T14:18:36.809Z"
   },
   {
    "duration": 64,
    "start_time": "2021-07-26T14:18:37.015Z"
   },
   {
    "duration": 5,
    "start_time": "2021-07-26T14:18:37.081Z"
   },
   {
    "duration": 947,
    "start_time": "2021-07-26T14:18:37.089Z"
   },
   {
    "duration": 6,
    "start_time": "2021-07-26T14:18:38.039Z"
   },
   {
    "duration": 669,
    "start_time": "2021-07-26T14:18:38.066Z"
   },
   {
    "duration": 8,
    "start_time": "2021-07-26T14:18:38.738Z"
   },
   {
    "duration": 49,
    "start_time": "2021-07-26T14:18:38.749Z"
   },
   {
    "duration": 43,
    "start_time": "2021-07-26T14:18:38.801Z"
   },
   {
    "duration": 70,
    "start_time": "2021-07-26T14:18:38.847Z"
   },
   {
    "duration": 5,
    "start_time": "2021-07-26T14:18:38.920Z"
   },
   {
    "duration": 73,
    "start_time": "2021-07-26T14:18:38.928Z"
   },
   {
    "duration": 63,
    "start_time": "2021-07-26T14:18:39.004Z"
   },
   {
    "duration": 6,
    "start_time": "2021-07-26T14:18:39.070Z"
   },
   {
    "duration": 9,
    "start_time": "2021-07-26T14:18:39.078Z"
   },
   {
    "duration": 23,
    "start_time": "2021-07-26T14:18:39.090Z"
   },
   {
    "duration": 105,
    "start_time": "2021-07-26T14:18:39.115Z"
   },
   {
    "duration": 75,
    "start_time": "2021-07-26T14:18:39.222Z"
   },
   {
    "duration": 6,
    "start_time": "2021-07-26T14:18:39.299Z"
   },
   {
    "duration": 16,
    "start_time": "2021-07-26T14:18:39.307Z"
   },
   {
    "duration": 637,
    "start_time": "2021-07-26T14:18:39.325Z"
   },
   {
    "duration": 705,
    "start_time": "2021-07-26T14:18:39.967Z"
   },
   {
    "duration": 18,
    "start_time": "2021-07-26T14:18:40.674Z"
   },
   {
    "duration": 25,
    "start_time": "2021-07-26T14:18:40.695Z"
   },
   {
    "duration": 64,
    "start_time": "2021-07-26T14:18:40.723Z"
   },
   {
    "duration": 767,
    "start_time": "2021-07-26T14:18:40.789Z"
   },
   {
    "duration": 21,
    "start_time": "2021-07-26T14:18:41.558Z"
   },
   {
    "duration": 91,
    "start_time": "2021-07-26T14:18:41.581Z"
   },
   {
    "duration": 15,
    "start_time": "2021-07-26T14:18:41.674Z"
   },
   {
    "duration": 8394,
    "start_time": "2021-07-26T14:18:41.691Z"
   }
  ],
  "kernelspec": {
   "display_name": "Python 3",
   "language": "python",
   "name": "python3"
  },
  "language_info": {
   "codemirror_mode": {
    "name": "ipython",
    "version": 3
   },
   "file_extension": ".py",
   "mimetype": "text/x-python",
   "name": "python",
   "nbconvert_exporter": "python",
   "pygments_lexer": "ipython3",
   "version": "3.8.5"
  },
  "toc": {
   "base_numbering": 1,
   "nav_menu": {},
   "number_sections": true,
   "sideBar": true,
   "skip_h1_title": true,
   "title_cell": "Table of Contents",
   "title_sidebar": "Contents",
   "toc_cell": false,
   "toc_position": {},
   "toc_section_display": true,
   "toc_window_display": true
  }
 },
 "nbformat": 4,
 "nbformat_minor": 2
}
