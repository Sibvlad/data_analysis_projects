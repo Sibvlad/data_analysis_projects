{
 "cells": [
  {
   "cell_type": "markdown",
   "metadata": {},
   "source": [
    "# Формирование модели монетизации\n",
    "\n",
    "__Задачи__:\n",
    "\n",
    "Необходимо сформировать модель монетизации игрового приложения на основе рекламы с учетом следующих рисков:\n",
    "- пользователи будут уходить, в случае если начать показывать раньше рекламу до того момента как его игра затянет;\n",
    "- чем позже создатели игры включат рекламу тем больше доходов они потеряют. \n",
    "\n",
    "__Цель исследования:__ выбор оптимального времени для запуска рекламы на основе расчета ее окупаемости при разных сценариях исходя из расходов на ее продвижение. \n",
    "\n",
    "Для достижения цели нам необходимо выполнить следующий порядок:\n",
    "- Провести исследовательский анализ данных;\n",
    "- Проанализировать влияние событий на совершение целевого события;\n",
    "- Проверить статистические гипотезы.\n",
    "\n",
    "__Выполненные задачи в рамках проекта:__ <br>\n",
    "- подготовлены данные для анализа;\n",
    "- построены диаграмму по количеству построенных объектов и гистограмму по количеству событий по дате и времени? отбросили ненужные данные;\n",
    "- рассчитаны средний CAC на одного покупателя для каждого источника трафика;\n",
    "- проведен когортный анализ для расчета Retention Rate;\n",
    "- расчитан на основе lifetime когорты время, которое затрачивает пользователь, по событиям;\n",
    "- проверена гипотеза о времени прохождения уровня между пользователями;\n",
    "- подготовлены выводы по возможности монетизации проекта."
   ]
  },
  {
   "cell_type": "markdown",
   "metadata": {},
   "source": [
    "### Содержание\n",
    "<ul style=\"list-style:none; text-decoration: none\">\n",
    "    <li><a style=\"text-decoration: none\" href=\"#introduction\">1. Изучение общей информации</a></li>\n",
    "    <li><a style=\"text-decoration: none\" href=\"#data_pre-processing\">2. Подготовка данных для анализа</a></li>\n",
    "    <li><a style=\"text-decoration: none\" href=\"#analysis\">3. Изучение и проверка данных</a></li>\n",
    "    <li><a style=\"text-decoration: none\" href=\"#research_analysis\">4. Анализ данных</a></li>\n",
    "    <li><a style=\"text-decoration: none\" href=\"#hypothesis_testing\">5. Проверка гипотез</a></li>\n",
    "    <li><a style=\"text-decoration: none\" href=\"#conclusion\">6. Выводы</a></li>\n",
    "</ul>"
   ]
  },
  {
   "cell_type": "markdown",
   "metadata": {},
   "source": [
    "# Материалы к проекту\n",
    "Презентация: https://drive.google.com/file/d/1Dhzs9zeYNk2lOVkWqUAgfA55IIBSnIMi/view?usp=sharing\n",
    "Дашборд: https://public.tableau.com/app/profile/sibvlad/viz/FinalProject_16259154177400/Dashboard1\n",
    "https://public.tableau.com/app/profile/sibvlad/viz/FinalProject1_16259161686310/Dashboard2"
   ]
  },
  {
   "cell_type": "markdown",
   "metadata": {},
   "source": [
    "## 1. Изучение общей информации <a name=\"introduction\"></a> "
   ]
  },
  {
   "cell_type": "code",
   "execution_count": 1,
   "metadata": {},
   "outputs": [],
   "source": [
    "#Импортирую библиотеку\n",
    "import pandas as pd\n",
    "import numpy as np\n",
    "import plotly.express as px\n",
    "import seaborn as sns\n",
    "import matplotlib.pyplot as plt\n",
    "from scipy import stats as st"
   ]
  },
  {
   "cell_type": "markdown",
   "metadata": {},
   "source": [
    "Импортирую библиотеку Pandas и с помощью метода .read_csv() создаю новые DataFrame __mobile_dataset__ и __mobile_soures__."
   ]
  },
  {
   "cell_type": "code",
   "execution_count": 2,
   "metadata": {},
   "outputs": [],
   "source": [
    "user_source = pd.read_csv('user_source.csv')\n",
    "ad_costs = pd.read_csv('ad_costs.csv')\n",
    "game_actions = pd.read_csv('game_actions.csv')"
   ]
  },
  {
   "cell_type": "code",
   "execution_count": 3,
   "metadata": {},
   "outputs": [
    {
     "data": {
      "text/html": [
       "<div>\n",
       "<style scoped>\n",
       "    .dataframe tbody tr th:only-of-type {\n",
       "        vertical-align: middle;\n",
       "    }\n",
       "\n",
       "    .dataframe tbody tr th {\n",
       "        vertical-align: top;\n",
       "    }\n",
       "\n",
       "    .dataframe thead th {\n",
       "        text-align: right;\n",
       "    }\n",
       "</style>\n",
       "<table border=\"1\" class=\"dataframe\">\n",
       "  <thead>\n",
       "    <tr style=\"text-align: right;\">\n",
       "      <th></th>\n",
       "      <th>user_id</th>\n",
       "      <th>source</th>\n",
       "    </tr>\n",
       "  </thead>\n",
       "  <tbody>\n",
       "    <tr>\n",
       "      <th>0</th>\n",
       "      <td>0001f83c-c6ac-4621-b7f0-8a28b283ac30</td>\n",
       "      <td>facebook_ads</td>\n",
       "    </tr>\n",
       "    <tr>\n",
       "      <th>1</th>\n",
       "      <td>00151b4f-ba38-44a8-a650-d7cf130a0105</td>\n",
       "      <td>yandex_direct</td>\n",
       "    </tr>\n",
       "    <tr>\n",
       "      <th>2</th>\n",
       "      <td>001aaea6-3d14-43f1-8ca8-7f48820f17aa</td>\n",
       "      <td>youtube_channel_reklama</td>\n",
       "    </tr>\n",
       "    <tr>\n",
       "      <th>3</th>\n",
       "      <td>001d39dc-366c-4021-9604-6a3b9ff01e25</td>\n",
       "      <td>instagram_new_adverts</td>\n",
       "    </tr>\n",
       "    <tr>\n",
       "      <th>4</th>\n",
       "      <td>002f508f-67b6-479f-814b-b05f00d4e995</td>\n",
       "      <td>facebook_ads</td>\n",
       "    </tr>\n",
       "    <tr>\n",
       "      <th>5</th>\n",
       "      <td>003b80c6-4164-4157-bb2a-03d0181d39c4</td>\n",
       "      <td>yandex_direct</td>\n",
       "    </tr>\n",
       "    <tr>\n",
       "      <th>6</th>\n",
       "      <td>003ee7e8-6356-4286-a715-62f22a18d2a1</td>\n",
       "      <td>instagram_new_adverts</td>\n",
       "    </tr>\n",
       "    <tr>\n",
       "      <th>7</th>\n",
       "      <td>004074f8-251a-4776-922c-8348dca1a2f6</td>\n",
       "      <td>facebook_ads</td>\n",
       "    </tr>\n",
       "    <tr>\n",
       "      <th>8</th>\n",
       "      <td>00440efd-aa50-4b4b-aae8-ffcd1782729d</td>\n",
       "      <td>facebook_ads</td>\n",
       "    </tr>\n",
       "    <tr>\n",
       "      <th>9</th>\n",
       "      <td>00464e5e-28ed-4be6-bf44-517ef7b3937b</td>\n",
       "      <td>yandex_direct</td>\n",
       "    </tr>\n",
       "  </tbody>\n",
       "</table>\n",
       "</div>"
      ],
      "text/plain": [
       "                                user_id                   source\n",
       "0  0001f83c-c6ac-4621-b7f0-8a28b283ac30             facebook_ads\n",
       "1  00151b4f-ba38-44a8-a650-d7cf130a0105            yandex_direct\n",
       "2  001aaea6-3d14-43f1-8ca8-7f48820f17aa  youtube_channel_reklama\n",
       "3  001d39dc-366c-4021-9604-6a3b9ff01e25    instagram_new_adverts\n",
       "4  002f508f-67b6-479f-814b-b05f00d4e995             facebook_ads\n",
       "5  003b80c6-4164-4157-bb2a-03d0181d39c4            yandex_direct\n",
       "6  003ee7e8-6356-4286-a715-62f22a18d2a1    instagram_new_adverts\n",
       "7  004074f8-251a-4776-922c-8348dca1a2f6             facebook_ads\n",
       "8  00440efd-aa50-4b4b-aae8-ffcd1782729d             facebook_ads\n",
       "9  00464e5e-28ed-4be6-bf44-517ef7b3937b            yandex_direct"
      ]
     },
     "metadata": {},
     "output_type": "display_data"
    },
    {
     "data": {
      "text/html": [
       "<div>\n",
       "<style scoped>\n",
       "    .dataframe tbody tr th:only-of-type {\n",
       "        vertical-align: middle;\n",
       "    }\n",
       "\n",
       "    .dataframe tbody tr th {\n",
       "        vertical-align: top;\n",
       "    }\n",
       "\n",
       "    .dataframe thead th {\n",
       "        text-align: right;\n",
       "    }\n",
       "</style>\n",
       "<table border=\"1\" class=\"dataframe\">\n",
       "  <thead>\n",
       "    <tr style=\"text-align: right;\">\n",
       "      <th></th>\n",
       "      <th>user_id</th>\n",
       "      <th>source</th>\n",
       "    </tr>\n",
       "  </thead>\n",
       "  <tbody>\n",
       "    <tr>\n",
       "      <th>count</th>\n",
       "      <td>13576</td>\n",
       "      <td>13576</td>\n",
       "    </tr>\n",
       "    <tr>\n",
       "      <th>unique</th>\n",
       "      <td>13576</td>\n",
       "      <td>4</td>\n",
       "    </tr>\n",
       "    <tr>\n",
       "      <th>top</th>\n",
       "      <td>dbd07c7f-799d-4c93-a9cb-b5deaf264576</td>\n",
       "      <td>yandex_direct</td>\n",
       "    </tr>\n",
       "    <tr>\n",
       "      <th>freq</th>\n",
       "      <td>1</td>\n",
       "      <td>4817</td>\n",
       "    </tr>\n",
       "  </tbody>\n",
       "</table>\n",
       "</div>"
      ],
      "text/plain": [
       "                                     user_id         source\n",
       "count                                  13576          13576\n",
       "unique                                 13576              4\n",
       "top     dbd07c7f-799d-4c93-a9cb-b5deaf264576  yandex_direct\n",
       "freq                                       1           4817"
      ]
     },
     "metadata": {},
     "output_type": "display_data"
    },
    {
     "name": "stdout",
     "output_type": "stream",
     "text": [
      "<class 'pandas.core.frame.DataFrame'>\n",
      "RangeIndex: 13576 entries, 0 to 13575\n",
      "Data columns (total 2 columns):\n",
      " #   Column   Non-Null Count  Dtype \n",
      "---  ------   --------------  ----- \n",
      " 0   user_id  13576 non-null  object\n",
      " 1   source   13576 non-null  object\n",
      "dtypes: object(2)\n",
      "memory usage: 212.2+ KB\n"
     ]
    },
    {
     "data": {
      "text/html": [
       "<div>\n",
       "<style scoped>\n",
       "    .dataframe tbody tr th:only-of-type {\n",
       "        vertical-align: middle;\n",
       "    }\n",
       "\n",
       "    .dataframe tbody tr th {\n",
       "        vertical-align: top;\n",
       "    }\n",
       "\n",
       "    .dataframe thead th {\n",
       "        text-align: right;\n",
       "    }\n",
       "</style>\n",
       "<table border=\"1\" class=\"dataframe\">\n",
       "  <thead>\n",
       "    <tr style=\"text-align: right;\">\n",
       "      <th></th>\n",
       "      <th>source</th>\n",
       "      <th>day</th>\n",
       "      <th>cost</th>\n",
       "    </tr>\n",
       "  </thead>\n",
       "  <tbody>\n",
       "    <tr>\n",
       "      <th>0</th>\n",
       "      <td>facebook_ads</td>\n",
       "      <td>2020-05-03</td>\n",
       "      <td>935.882786</td>\n",
       "    </tr>\n",
       "    <tr>\n",
       "      <th>1</th>\n",
       "      <td>facebook_ads</td>\n",
       "      <td>2020-05-04</td>\n",
       "      <td>548.354480</td>\n",
       "    </tr>\n",
       "    <tr>\n",
       "      <th>2</th>\n",
       "      <td>facebook_ads</td>\n",
       "      <td>2020-05-05</td>\n",
       "      <td>260.185754</td>\n",
       "    </tr>\n",
       "    <tr>\n",
       "      <th>3</th>\n",
       "      <td>facebook_ads</td>\n",
       "      <td>2020-05-06</td>\n",
       "      <td>177.982200</td>\n",
       "    </tr>\n",
       "    <tr>\n",
       "      <th>4</th>\n",
       "      <td>facebook_ads</td>\n",
       "      <td>2020-05-07</td>\n",
       "      <td>111.766796</td>\n",
       "    </tr>\n",
       "    <tr>\n",
       "      <th>5</th>\n",
       "      <td>facebook_ads</td>\n",
       "      <td>2020-05-08</td>\n",
       "      <td>68.009276</td>\n",
       "    </tr>\n",
       "    <tr>\n",
       "      <th>6</th>\n",
       "      <td>facebook_ads</td>\n",
       "      <td>2020-05-09</td>\n",
       "      <td>38.723350</td>\n",
       "    </tr>\n",
       "    <tr>\n",
       "      <th>7</th>\n",
       "      <td>instagram_new_adverts</td>\n",
       "      <td>2020-05-03</td>\n",
       "      <td>943.204717</td>\n",
       "    </tr>\n",
       "    <tr>\n",
       "      <th>8</th>\n",
       "      <td>instagram_new_adverts</td>\n",
       "      <td>2020-05-04</td>\n",
       "      <td>502.925451</td>\n",
       "    </tr>\n",
       "    <tr>\n",
       "      <th>9</th>\n",
       "      <td>instagram_new_adverts</td>\n",
       "      <td>2020-05-05</td>\n",
       "      <td>313.970984</td>\n",
       "    </tr>\n",
       "  </tbody>\n",
       "</table>\n",
       "</div>"
      ],
      "text/plain": [
       "                  source         day        cost\n",
       "0           facebook_ads  2020-05-03  935.882786\n",
       "1           facebook_ads  2020-05-04  548.354480\n",
       "2           facebook_ads  2020-05-05  260.185754\n",
       "3           facebook_ads  2020-05-06  177.982200\n",
       "4           facebook_ads  2020-05-07  111.766796\n",
       "5           facebook_ads  2020-05-08   68.009276\n",
       "6           facebook_ads  2020-05-09   38.723350\n",
       "7  instagram_new_adverts  2020-05-03  943.204717\n",
       "8  instagram_new_adverts  2020-05-04  502.925451\n",
       "9  instagram_new_adverts  2020-05-05  313.970984"
      ]
     },
     "metadata": {},
     "output_type": "display_data"
    },
    {
     "data": {
      "text/html": [
       "<div>\n",
       "<style scoped>\n",
       "    .dataframe tbody tr th:only-of-type {\n",
       "        vertical-align: middle;\n",
       "    }\n",
       "\n",
       "    .dataframe tbody tr th {\n",
       "        vertical-align: top;\n",
       "    }\n",
       "\n",
       "    .dataframe thead th {\n",
       "        text-align: right;\n",
       "    }\n",
       "</style>\n",
       "<table border=\"1\" class=\"dataframe\">\n",
       "  <thead>\n",
       "    <tr style=\"text-align: right;\">\n",
       "      <th></th>\n",
       "      <th>cost</th>\n",
       "    </tr>\n",
       "  </thead>\n",
       "  <tbody>\n",
       "    <tr>\n",
       "      <th>count</th>\n",
       "      <td>28.000000</td>\n",
       "    </tr>\n",
       "    <tr>\n",
       "      <th>mean</th>\n",
       "      <td>271.556321</td>\n",
       "    </tr>\n",
       "    <tr>\n",
       "      <th>std</th>\n",
       "      <td>286.867650</td>\n",
       "    </tr>\n",
       "    <tr>\n",
       "      <th>min</th>\n",
       "      <td>23.314669</td>\n",
       "    </tr>\n",
       "    <tr>\n",
       "      <th>25%</th>\n",
       "      <td>66.747365</td>\n",
       "    </tr>\n",
       "    <tr>\n",
       "      <th>50%</th>\n",
       "      <td>160.056443</td>\n",
       "    </tr>\n",
       "    <tr>\n",
       "      <th>75%</th>\n",
       "      <td>349.034473</td>\n",
       "    </tr>\n",
       "    <tr>\n",
       "      <th>max</th>\n",
       "      <td>969.139394</td>\n",
       "    </tr>\n",
       "  </tbody>\n",
       "</table>\n",
       "</div>"
      ],
      "text/plain": [
       "             cost\n",
       "count   28.000000\n",
       "mean   271.556321\n",
       "std    286.867650\n",
       "min     23.314669\n",
       "25%     66.747365\n",
       "50%    160.056443\n",
       "75%    349.034473\n",
       "max    969.139394"
      ]
     },
     "metadata": {},
     "output_type": "display_data"
    },
    {
     "name": "stdout",
     "output_type": "stream",
     "text": [
      "<class 'pandas.core.frame.DataFrame'>\n",
      "RangeIndex: 28 entries, 0 to 27\n",
      "Data columns (total 3 columns):\n",
      " #   Column  Non-Null Count  Dtype  \n",
      "---  ------  --------------  -----  \n",
      " 0   source  28 non-null     object \n",
      " 1   day     28 non-null     object \n",
      " 2   cost    28 non-null     float64\n",
      "dtypes: float64(1), object(2)\n",
      "memory usage: 800.0+ bytes\n"
     ]
    },
    {
     "data": {
      "text/html": [
       "<div>\n",
       "<style scoped>\n",
       "    .dataframe tbody tr th:only-of-type {\n",
       "        vertical-align: middle;\n",
       "    }\n",
       "\n",
       "    .dataframe tbody tr th {\n",
       "        vertical-align: top;\n",
       "    }\n",
       "\n",
       "    .dataframe thead th {\n",
       "        text-align: right;\n",
       "    }\n",
       "</style>\n",
       "<table border=\"1\" class=\"dataframe\">\n",
       "  <thead>\n",
       "    <tr style=\"text-align: right;\">\n",
       "      <th></th>\n",
       "      <th>event_datetime</th>\n",
       "      <th>event</th>\n",
       "      <th>building_type</th>\n",
       "      <th>user_id</th>\n",
       "      <th>project_type</th>\n",
       "    </tr>\n",
       "  </thead>\n",
       "  <tbody>\n",
       "    <tr>\n",
       "      <th>0</th>\n",
       "      <td>2020-05-04 00:00:01</td>\n",
       "      <td>building</td>\n",
       "      <td>assembly_shop</td>\n",
       "      <td>55e92310-cb8e-4754-b622-597e124b03de</td>\n",
       "      <td>NaN</td>\n",
       "    </tr>\n",
       "    <tr>\n",
       "      <th>1</th>\n",
       "      <td>2020-05-04 00:00:03</td>\n",
       "      <td>building</td>\n",
       "      <td>assembly_shop</td>\n",
       "      <td>c07b1c10-f477-44dc-81dc-ec82254b1347</td>\n",
       "      <td>NaN</td>\n",
       "    </tr>\n",
       "    <tr>\n",
       "      <th>2</th>\n",
       "      <td>2020-05-04 00:00:16</td>\n",
       "      <td>building</td>\n",
       "      <td>assembly_shop</td>\n",
       "      <td>6edd42cc-e753-4ff6-a947-2107cd560710</td>\n",
       "      <td>NaN</td>\n",
       "    </tr>\n",
       "    <tr>\n",
       "      <th>3</th>\n",
       "      <td>2020-05-04 00:00:16</td>\n",
       "      <td>building</td>\n",
       "      <td>assembly_shop</td>\n",
       "      <td>92c69003-d60a-444a-827f-8cc51bf6bf4c</td>\n",
       "      <td>NaN</td>\n",
       "    </tr>\n",
       "    <tr>\n",
       "      <th>4</th>\n",
       "      <td>2020-05-04 00:00:35</td>\n",
       "      <td>building</td>\n",
       "      <td>assembly_shop</td>\n",
       "      <td>cdc6bb92-0ccb-4490-9866-ef142f09139d</td>\n",
       "      <td>NaN</td>\n",
       "    </tr>\n",
       "    <tr>\n",
       "      <th>5</th>\n",
       "      <td>2020-05-04 00:00:36</td>\n",
       "      <td>building</td>\n",
       "      <td>assembly_shop</td>\n",
       "      <td>06c592ca-902d-42bb-bac3-75ce84cca159</td>\n",
       "      <td>NaN</td>\n",
       "    </tr>\n",
       "    <tr>\n",
       "      <th>6</th>\n",
       "      <td>2020-05-04 00:00:36</td>\n",
       "      <td>building</td>\n",
       "      <td>assembly_shop</td>\n",
       "      <td>4fe0f101-694b-4e31-9740-d1d87f7208ea</td>\n",
       "      <td>NaN</td>\n",
       "    </tr>\n",
       "    <tr>\n",
       "      <th>7</th>\n",
       "      <td>2020-05-04 00:00:38</td>\n",
       "      <td>building</td>\n",
       "      <td>assembly_shop</td>\n",
       "      <td>beb8ca15-33a9-465d-b47b-89aa96f89c9a</td>\n",
       "      <td>NaN</td>\n",
       "    </tr>\n",
       "    <tr>\n",
       "      <th>8</th>\n",
       "      <td>2020-05-04 00:00:44</td>\n",
       "      <td>building</td>\n",
       "      <td>assembly_shop</td>\n",
       "      <td>65a92713-5969-48b1-8945-bfefa5063887</td>\n",
       "      <td>NaN</td>\n",
       "    </tr>\n",
       "    <tr>\n",
       "      <th>9</th>\n",
       "      <td>2020-05-04 00:01:33</td>\n",
       "      <td>building</td>\n",
       "      <td>assembly_shop</td>\n",
       "      <td>fa352362-d258-472c-b295-2796ccc39fa3</td>\n",
       "      <td>NaN</td>\n",
       "    </tr>\n",
       "  </tbody>\n",
       "</table>\n",
       "</div>"
      ],
      "text/plain": [
       "        event_datetime     event  building_type  \\\n",
       "0  2020-05-04 00:00:01  building  assembly_shop   \n",
       "1  2020-05-04 00:00:03  building  assembly_shop   \n",
       "2  2020-05-04 00:00:16  building  assembly_shop   \n",
       "3  2020-05-04 00:00:16  building  assembly_shop   \n",
       "4  2020-05-04 00:00:35  building  assembly_shop   \n",
       "5  2020-05-04 00:00:36  building  assembly_shop   \n",
       "6  2020-05-04 00:00:36  building  assembly_shop   \n",
       "7  2020-05-04 00:00:38  building  assembly_shop   \n",
       "8  2020-05-04 00:00:44  building  assembly_shop   \n",
       "9  2020-05-04 00:01:33  building  assembly_shop   \n",
       "\n",
       "                                user_id project_type  \n",
       "0  55e92310-cb8e-4754-b622-597e124b03de          NaN  \n",
       "1  c07b1c10-f477-44dc-81dc-ec82254b1347          NaN  \n",
       "2  6edd42cc-e753-4ff6-a947-2107cd560710          NaN  \n",
       "3  92c69003-d60a-444a-827f-8cc51bf6bf4c          NaN  \n",
       "4  cdc6bb92-0ccb-4490-9866-ef142f09139d          NaN  \n",
       "5  06c592ca-902d-42bb-bac3-75ce84cca159          NaN  \n",
       "6  4fe0f101-694b-4e31-9740-d1d87f7208ea          NaN  \n",
       "7  beb8ca15-33a9-465d-b47b-89aa96f89c9a          NaN  \n",
       "8  65a92713-5969-48b1-8945-bfefa5063887          NaN  \n",
       "9  fa352362-d258-472c-b295-2796ccc39fa3          NaN  "
      ]
     },
     "metadata": {},
     "output_type": "display_data"
    },
    {
     "data": {
      "text/html": [
       "<div>\n",
       "<style scoped>\n",
       "    .dataframe tbody tr th:only-of-type {\n",
       "        vertical-align: middle;\n",
       "    }\n",
       "\n",
       "    .dataframe tbody tr th {\n",
       "        vertical-align: top;\n",
       "    }\n",
       "\n",
       "    .dataframe thead th {\n",
       "        text-align: right;\n",
       "    }\n",
       "</style>\n",
       "<table border=\"1\" class=\"dataframe\">\n",
       "  <thead>\n",
       "    <tr style=\"text-align: right;\">\n",
       "      <th></th>\n",
       "      <th>event_datetime</th>\n",
       "      <th>event</th>\n",
       "      <th>building_type</th>\n",
       "      <th>user_id</th>\n",
       "      <th>project_type</th>\n",
       "    </tr>\n",
       "  </thead>\n",
       "  <tbody>\n",
       "    <tr>\n",
       "      <th>count</th>\n",
       "      <td>135640</td>\n",
       "      <td>135640</td>\n",
       "      <td>127957</td>\n",
       "      <td>135640</td>\n",
       "      <td>1866</td>\n",
       "    </tr>\n",
       "    <tr>\n",
       "      <th>unique</th>\n",
       "      <td>128790</td>\n",
       "      <td>3</td>\n",
       "      <td>3</td>\n",
       "      <td>13576</td>\n",
       "      <td>1</td>\n",
       "    </tr>\n",
       "    <tr>\n",
       "      <th>top</th>\n",
       "      <td>2020-05-04 04:02:30</td>\n",
       "      <td>building</td>\n",
       "      <td>spaceport</td>\n",
       "      <td>bf542075-e3a2-4e79-82d8-3838e86d2a25</td>\n",
       "      <td>satellite_orbital_assembly</td>\n",
       "    </tr>\n",
       "    <tr>\n",
       "      <th>freq</th>\n",
       "      <td>4</td>\n",
       "      <td>127957</td>\n",
       "      <td>59325</td>\n",
       "      <td>22</td>\n",
       "      <td>1866</td>\n",
       "    </tr>\n",
       "  </tbody>\n",
       "</table>\n",
       "</div>"
      ],
      "text/plain": [
       "             event_datetime     event building_type  \\\n",
       "count                135640    135640        127957   \n",
       "unique               128790         3             3   \n",
       "top     2020-05-04 04:02:30  building     spaceport   \n",
       "freq                      4    127957         59325   \n",
       "\n",
       "                                     user_id                project_type  \n",
       "count                                 135640                        1866  \n",
       "unique                                 13576                           1  \n",
       "top     bf542075-e3a2-4e79-82d8-3838e86d2a25  satellite_orbital_assembly  \n",
       "freq                                      22                        1866  "
      ]
     },
     "metadata": {},
     "output_type": "display_data"
    },
    {
     "name": "stdout",
     "output_type": "stream",
     "text": [
      "<class 'pandas.core.frame.DataFrame'>\n",
      "RangeIndex: 135640 entries, 0 to 135639\n",
      "Data columns (total 5 columns):\n",
      " #   Column          Non-Null Count   Dtype \n",
      "---  ------          --------------   ----- \n",
      " 0   event_datetime  135640 non-null  object\n",
      " 1   event           135640 non-null  object\n",
      " 2   building_type   127957 non-null  object\n",
      " 3   user_id         135640 non-null  object\n",
      " 4   project_type    1866 non-null    object\n",
      "dtypes: object(5)\n",
      "memory usage: 5.2+ MB\n"
     ]
    }
   ],
   "source": [
    "#пропишем функцию для получения основной информации о датафрейме\n",
    "def dataDescribe(dataframe):\n",
    "    display(dataframe.head(10))\n",
    "    display(dataframe.describe())\n",
    "    dataframe.info()\n",
    "    \n",
    "#запускаем функцию\n",
    "for dataframe in [user_source, ad_costs, game_actions]:\n",
    "    dataDescribe(dataframe)"
   ]
  },
  {
   "cell_type": "markdown",
   "metadata": {},
   "source": [
    "Получаем следующую структуру таблицы __``user_source``__:\n",
    " \n",
    "* Количество столбцов: __3__\n",
    "* Количество строк: __13576__\n",
    "* Тип данных в столбцах: __object(2)__\n",
    "\n",
    "Получаем следующую структуру таблицы __``ad_costs``__:\n",
    "* Количество столбцов: __2__\n",
    "* Количество строк: __13576__\n",
    "* Тип данных в столбцах: __float64(1)__, __object(2)__\n",
    "\n",
    "Получаем следующую структуру таблицы __``game_actions``__:\n",
    "* Количество столбцов: __5__\n",
    "* Количество строк: __135640__\n",
    "* Тип данных в столбцах: __object(5)__\n",
    "\n",
    "В <code>game_actions.csv</code> существуют следующие колонки:<br>\n",
    "- <code>event_datetime</code> — время события;\n",
    "-<code>event</code> — одно из трех событий:\n",
    "<br>\n",
    "\n",
    "1. <code>building</code> — объект построен,<br>\n",
    "2. <code>finished_stage_1</code> — первый уровень завершён,<br>\n",
    "3. <code>project</code> — проект завершён;<br>\n",
    "\n",
    "- <code>building_type</code> — один из трёх типов здания:\n",
    "1. <code>assembly_shop</code> — сборочный цех,<br>\n",
    "2. <code>spaceport</code> — космопорт,<br>\n",
    "3. <code>research_center</code> — исследовательский центр;<br>\n",
    "- <code>user_id</code> — идентификатор пользователя;\n",
    "- <code>project_type</code> — тип реализованного проекта.\n",
    "\n",
    "Датасет <code>ad_cost.csv</code> содержит колонки:<br>\n",
    "- <code>day</code> - день, в который был совершен клик по объявлению<br>\n",
    "- <code>source</code> - источник трафика<br>\n",
    "- <code>cost</code> - стоимость кликов<br>\n",
    "\n",
    "Датасет <code>user_source.csv</code> содержит колонки:<br>\n",
    "- <code>user_id</code> - идентификатор пользователя<br>\n",
    "- <code>source</code> - источников, с которого пришёл пользователь, установивший приложение<br>"
   ]
  },
  {
   "cell_type": "markdown",
   "metadata": {},
   "source": [
    "## 2.  Подготовка данных для анализа  <a name=\"data_pre-processing\"></a>"
   ]
  },
  {
   "cell_type": "markdown",
   "metadata": {},
   "source": [
    "В данном блоке проведем следующую работу:\n",
    "\n",
    "- приведем данные данные к нужным типам;\n",
    "- удалим дубликаты, если они имеются;\n",
    "- проведем работу с пропусками при их наличии;\n",
    "- исправим ошибки в данных. То есть в данном этапе подгатавливаем данные к анализу."
   ]
  },
  {
   "cell_type": "code",
   "execution_count": 4,
   "metadata": {},
   "outputs": [
    {
     "name": "stdout",
     "output_type": "stream",
     "text": [
      "\n",
      "Наличие дубликатов в данных \"user_source\": 0\n",
      "\n",
      "\n",
      "Наличие дубликатов в данных \"ad_costs\": 0\n",
      "\n",
      "\n",
      "Наличие дубликатов в данных \"game_actions\": 1\n",
      "\n"
     ]
    }
   ],
   "source": [
    "print('\\nНаличие дубликатов в данных \"user_source\": {}\\n'.format(user_source.duplicated().sum()))\n",
    "print('\\nНаличие дубликатов в данных \"ad_costs\": {}\\n'.format(ad_costs.duplicated().sum()))\n",
    "print('\\nНаличие дубликатов в данных \"game_actions\": {}\\n'.format(game_actions.duplicated().sum()))"
   ]
  },
  {
   "cell_type": "markdown",
   "metadata": {},
   "source": [
    "Удаляем дубликаты в датафрейме game_actions"
   ]
  },
  {
   "cell_type": "code",
   "execution_count": 5,
   "metadata": {},
   "outputs": [
    {
     "name": "stdout",
     "output_type": "stream",
     "text": [
      "\n",
      "Наличие дубликатов в данных \"game_actions\": 0\n",
      "\n"
     ]
    }
   ],
   "source": [
    "game_actions = game_actions.drop_duplicates().reset_index(drop=True) \n",
    "#Проверяем снова на дубликаты датафрейм game_actions\n",
    "print('\\nНаличие дубликатов в данных \"game_actions\": {}\\n'.format(game_actions.duplicated().sum()))"
   ]
  },
  {
   "cell_type": "markdown",
   "metadata": {},
   "source": [
    "Переведем столбец __'day'__ в датафрейме __ad_costs__  в другой тип данных, из объекта в дату."
   ]
  },
  {
   "cell_type": "code",
   "execution_count": 6,
   "metadata": {},
   "outputs": [
    {
     "name": "stdout",
     "output_type": "stream",
     "text": [
      "<class 'pandas.core.frame.DataFrame'>\n",
      "RangeIndex: 28 entries, 0 to 27\n",
      "Data columns (total 3 columns):\n",
      " #   Column  Non-Null Count  Dtype         \n",
      "---  ------  --------------  -----         \n",
      " 0   source  28 non-null     object        \n",
      " 1   day     28 non-null     datetime64[ns]\n",
      " 2   cost    28 non-null     float64       \n",
      "dtypes: datetime64[ns](1), float64(1), object(1)\n",
      "memory usage: 800.0+ bytes\n"
     ]
    }
   ],
   "source": [
    "ad_costs['day'] = pd.to_datetime(ad_costs['day'], unit='ns')\n",
    "ad_costs.info()"
   ]
  },
  {
   "cell_type": "markdown",
   "metadata": {},
   "source": [
    "Переведем столбец __'event_datetime'__ в датафрейме __game_actions__  в другой тип данных, из объекта в дату."
   ]
  },
  {
   "cell_type": "code",
   "execution_count": 7,
   "metadata": {},
   "outputs": [
    {
     "name": "stdout",
     "output_type": "stream",
     "text": [
      "<class 'pandas.core.frame.DataFrame'>\n",
      "RangeIndex: 135639 entries, 0 to 135638\n",
      "Data columns (total 5 columns):\n",
      " #   Column          Non-Null Count   Dtype         \n",
      "---  ------          --------------   -----         \n",
      " 0   event_datetime  135639 non-null  datetime64[ns]\n",
      " 1   event           135639 non-null  object        \n",
      " 2   building_type   127956 non-null  object        \n",
      " 3   user_id         135639 non-null  object        \n",
      " 4   project_type    1866 non-null    object        \n",
      "dtypes: datetime64[ns](1), object(4)\n",
      "memory usage: 5.2+ MB\n"
     ]
    }
   ],
   "source": [
    "game_actions['event_datetime'] = pd.to_datetime(game_actions['event_datetime'], unit='ns')\n",
    "game_actions.info()"
   ]
  },
  {
   "cell_type": "markdown",
   "metadata": {},
   "source": [
    "Поработаем с пропусками в датафрейме __game_actions__"
   ]
  },
  {
   "cell_type": "code",
   "execution_count": 8,
   "metadata": {},
   "outputs": [
    {
     "name": "stdout",
     "output_type": "stream",
     "text": [
      "Пропущенные значения в столбце building_type: 0\n",
      "\n",
      "Пропущенные значения в столбце project_type: 0\n",
      "\n"
     ]
    }
   ],
   "source": [
    "for i in ['building_type', 'project_type']:\n",
    "    game_actions[i] = game_actions[i].fillna('no_informations') \n",
    "    print('Пропущенные значения в столбце {}: {}\\n'.format(i, game_actions[i].isnull().sum()))"
   ]
  },
  {
   "cell_type": "markdown",
   "metadata": {},
   "source": [
    "__Выводы:__\n",
    "Данные подготовлены к работе для анализа. Так в датафрейме __game_actions__ у нас были заменены все пропущенные значения в столбцах 'building_type', 'project_type', а также удалены дубликаты. Переведен столбец __'day'__ в датафрейме __ad_costs__  и столбец __'event_datetime'__ в датафрейме __game_actions__ в другой тип данных, из объекта в дату."
   ]
  },
  {
   "cell_type": "markdown",
   "metadata": {},
   "source": [
    "## 3. Изучение и проверка данных <a name=\"analysis\"></a> "
   ]
  },
  {
   "cell_type": "markdown",
   "metadata": {},
   "source": [
    "Построим диаграмму распределения количества построенных объектов. Для этого сгруппируем __building_type__ по  __user_id__ по количеству и по уникальным показателем, а затем найдем среднее значение построенных объектов и посчитаем процент по количеству построенных объектов и по количеству построенных уникальных объектов. Наиболее популярными объектами выступаем тип постройки __spaceport__ (43,7% в общем доли построенных объектов)  и __assembly_shop__ (40,2% в общем доли построенных объектов). В среднем данные типы постройки строят чуть более 4 раз. Тип __research_center__ пользуется меньшей популярностью."
   ]
  },
  {
   "cell_type": "code",
   "execution_count": 9,
   "metadata": {},
   "outputs": [
    {
     "name": "stdout",
     "output_type": "stream",
     "text": [
      "     building_type  count  nunique  averageNumberBuilding percentCount  \\\n",
      "3        spaceport  59325    13231                   4.48        43.7%   \n",
      "0    assembly_shop  54494    13576                   4.01        40.2%   \n",
      "2  research_center  14137     7671                   1.84        10.4%   \n",
      "1  no_informations   7683     5817                   1.32         5.7%   \n",
      "\n",
      "  percentNunique  \n",
      "3          32.8%  \n",
      "0          33.7%  \n",
      "2          19.0%  \n",
      "1          14.4%  \n"
     ]
    }
   ],
   "source": [
    "#Группируем из датафрейма game_actions по количеству построенных объектов\n",
    "buildingCount = game_actions.groupby('building_type')['user_id'].agg(['count', 'nunique']).reset_index().sort_values(by='count', ascending=False)\n",
    "#Посчитаем среднее значение построенных объектов\n",
    "buildingCount['averageNumberBuilding'] = (buildingCount['count'] / buildingCount['nunique']).round(2)\n",
    "#Посчитаем процент по количеству построенных объектов\n",
    "buildingCount['percentCount'] = (buildingCount['count'] / buildingCount['count'].sum()*100).round(1).astype('str')+'%'\n",
    "#Посчитаем процент по количеству построенных уникальных объектов\n",
    "buildingCount['percentNunique'] = (buildingCount['nunique'] / buildingCount['nunique'].sum()*100).round(1).astype('str')+'%'\n",
    "#Выведем данные\n",
    "print(buildingCount)"
   ]
  },
  {
   "cell_type": "code",
   "execution_count": 10,
   "metadata": {},
   "outputs": [
    {
     "data": {
      "text/plain": [
       "135639"
      ]
     },
     "execution_count": 10,
     "metadata": {},
     "output_type": "execute_result"
    }
   ],
   "source": [
    "game_actions['building_type'].count()"
   ]
  },
  {
   "cell_type": "markdown",
   "metadata": {},
   "source": [
    "Строим функцию, которая нам будет строить диаграммы с процентами по каждому значению"
   ]
  },
  {
   "cell_type": "code",
   "execution_count": 11,
   "metadata": {},
   "outputs": [],
   "source": [
    "#Построим функцию, котрая будет строить диаграммы\n",
    "def doBar(data, x, y, title, percent):\n",
    "    fig = px.bar(data, x=x, y=y, text=y, color=x)\n",
    "    fig.update_layout(\n",
    "    title = title  + y,\n",
    "    yaxis_title=\"Количество\")\n",
    "    #прописываем проценты по каждому значению\n",
    "    for trace, percent in zip(fig.data, data[percent]):\n",
    "        trace.name = trace.name.split('=')[0] + ' (' + percent+ ')';\n",
    "    \n",
    "    fig.show(renderer='svg')"
   ]
  },
  {
   "cell_type": "markdown",
   "metadata": {},
   "source": [
    "В принципе построенные диаграммы показывают, что самыми популярными построенными объектами выступаем __spaceport__ и __assembly_shop__. Первый график показывает, сколько всего объектов было построено, а второй график показывает, сколько было построено уникальными пользователями."
   ]
  },
  {
   "cell_type": "code",
   "execution_count": 12,
   "metadata": {},
   "outputs": [
    {
     "data": {
      "image/svg+xml": [
       "<svg class=\"main-svg\" xmlns=\"http://www.w3.org/2000/svg\" xmlns:xlink=\"http://www.w3.org/1999/xlink\" width=\"700\" height=\"500\" style=\"\" viewBox=\"0 0 700 500\"><rect x=\"0\" y=\"0\" width=\"700\" height=\"500\" style=\"fill: rgb(255, 255, 255); fill-opacity: 1;\"/><defs id=\"defs-21ccf1\"><g class=\"clips\"><clipPath id=\"clip21ccf1xyplot\" class=\"plotclip\"><rect width=\"402\" height=\"339\"/></clipPath><clipPath class=\"axesclip\" id=\"clip21ccf1x\"><rect x=\"80\" y=\"0\" width=\"402\" height=\"500\"/></clipPath><clipPath class=\"axesclip\" id=\"clip21ccf1y\"><rect x=\"0\" y=\"60\" width=\"700\" height=\"339\"/></clipPath><clipPath class=\"axesclip\" id=\"clip21ccf1xy\"><rect x=\"80\" y=\"60\" width=\"402\" height=\"339\"/></clipPath></g><g class=\"gradients\"/><g class=\"patterns\"/></defs><g class=\"bglayer\"><rect class=\"bg\" x=\"80\" y=\"60\" width=\"402\" height=\"339\" style=\"fill: rgb(229, 236, 246); fill-opacity: 1; stroke-width: 0;\"/></g><g class=\"layer-below\"><g class=\"imagelayer\"/><g class=\"shapelayer\"/></g><g class=\"cartesianlayer\"><g class=\"subplot xy\"><g class=\"layer-subplot\"><g class=\"shapelayer\"/><g class=\"imagelayer\"/></g><g class=\"gridlayer\"><g class=\"x\"/><g class=\"y\"><path class=\"ygrid crisp\" transform=\"translate(0,344.71)\" d=\"M80,0h402\" style=\"stroke: rgb(255, 255, 255); stroke-opacity: 1; stroke-width: 1px;\"/><path class=\"ygrid crisp\" transform=\"translate(0,290.43)\" d=\"M80,0h402\" style=\"stroke: rgb(255, 255, 255); stroke-opacity: 1; stroke-width: 1px;\"/><path class=\"ygrid crisp\" transform=\"translate(0,236.14)\" d=\"M80,0h402\" style=\"stroke: rgb(255, 255, 255); stroke-opacity: 1; stroke-width: 1px;\"/><path class=\"ygrid crisp\" transform=\"translate(0,181.86)\" d=\"M80,0h402\" style=\"stroke: rgb(255, 255, 255); stroke-opacity: 1; stroke-width: 1px;\"/><path class=\"ygrid crisp\" transform=\"translate(0,127.57)\" d=\"M80,0h402\" style=\"stroke: rgb(255, 255, 255); stroke-opacity: 1; stroke-width: 1px;\"/><path class=\"ygrid crisp\" transform=\"translate(0,73.28999999999999)\" d=\"M80,0h402\" style=\"stroke: rgb(255, 255, 255); stroke-opacity: 1; stroke-width: 1px;\"/></g></g><g class=\"zerolinelayer\"><path class=\"yzl zl crisp\" transform=\"translate(0,399)\" d=\"M80,0h402\" style=\"stroke: rgb(255, 255, 255); stroke-opacity: 1; stroke-width: 2px;\"/></g><path class=\"xlines-below\"/><path class=\"ylines-below\"/><g class=\"overlines-below\"/><g class=\"xaxislayer-below\"/><g class=\"yaxislayer-below\"/><g class=\"overaxes-below\"/><g class=\"plot\" transform=\"translate(80,60)\" clip-path=\"url(#clip21ccf1xyplot)\"><g class=\"barlayer mlayer\"><g class=\"trace bars\" style=\"opacity: 1;\"><g class=\"points\"><g class=\"point\"><path d=\"M10.05,339V16.95H90.45V339Z\" style=\"vector-effect: non-scaling-stroke; opacity: 1; stroke-width: 0.5px; fill: rgb(99, 110, 250); fill-opacity: 1; stroke: rgb(229, 236, 246); stroke-opacity: 1;\"/><text class=\"bartext bartext-inside\" text-anchor=\"middle\" data-notex=\"1\" x=\"0\" y=\"0\" style=\"font-family: 'Open Sans', verdana, arial, sans-serif; font-size: 12px; fill: rgb(255, 255, 255); fill-opacity: 1; white-space: pre;\" transform=\"translate(50.0625,31.95)\">59325</text></g></g></g><g class=\"trace bars\" style=\"opacity: 1;\"><g class=\"points\"><g class=\"point\"><path d=\"M110.55,339V43.18H190.95V339Z\" style=\"vector-effect: non-scaling-stroke; opacity: 1; stroke-width: 0.5px; fill: rgb(239, 85, 59); fill-opacity: 1; stroke: rgb(229, 236, 246); stroke-opacity: 1;\"/><text class=\"bartext bartext-inside\" text-anchor=\"middle\" data-notex=\"1\" x=\"0\" y=\"0\" style=\"font-family: 'Open Sans', verdana, arial, sans-serif; font-size: 12px; fill: rgb(68, 68, 68); fill-opacity: 1; white-space: pre;\" transform=\"translate(150.5625,58.18)\">54494</text></g></g></g><g class=\"trace bars\" style=\"opacity: 1;\"><g class=\"points\"><g class=\"point\"><path d=\"M211.05,339V262.26H291.45V339Z\" style=\"vector-effect: non-scaling-stroke; opacity: 1; stroke-width: 0.5px; fill: rgb(0, 204, 150); fill-opacity: 1; stroke: rgb(229, 236, 246); stroke-opacity: 1;\"/><text class=\"bartext bartext-inside\" text-anchor=\"middle\" data-notex=\"1\" x=\"0\" y=\"0\" style=\"font-family: 'Open Sans', verdana, arial, sans-serif; font-size: 12px; fill: rgb(68, 68, 68); fill-opacity: 1; white-space: pre;\" transform=\"translate(251.0625,277.26)\">14137</text></g></g></g><g class=\"trace bars\" style=\"opacity: 1;\"><g class=\"points\"><g class=\"point\"><path d=\"M311.55,339V297.29H391.95V339Z\" style=\"vector-effect: non-scaling-stroke; opacity: 1; stroke-width: 0.5px; fill: rgb(171, 99, 250); fill-opacity: 1; stroke: rgb(229, 236, 246); stroke-opacity: 1;\"/><text class=\"bartext bartext-inside\" text-anchor=\"middle\" data-notex=\"1\" x=\"0\" y=\"0\" style=\"font-family: 'Open Sans', verdana, arial, sans-serif; font-size: 12px; fill: rgb(68, 68, 68); fill-opacity: 1; white-space: pre;\" transform=\"translate(351.75,312.29)\">7683</text></g></g></g></g></g><g class=\"overplot\"/><path class=\"xlines-above crisp\" d=\"M0,0\" style=\"fill: none;\"/><path class=\"ylines-above crisp\" d=\"M0,0\" style=\"fill: none;\"/><g class=\"overlines-above\"/><g class=\"xaxislayer-above\"><g class=\"xtick\"><text text-anchor=\"start\" x=\"0\" y=\"412\" transform=\"translate(130.25,0) rotate(30,0,406)\" style=\"font-family: 'Open Sans', verdana, arial, sans-serif; font-size: 12px; fill: rgb(42, 63, 95); fill-opacity: 1; white-space: pre; opacity: 1;\">spaceport</text></g><g class=\"xtick\"><text text-anchor=\"start\" x=\"0\" y=\"412\" transform=\"translate(230.75,0) rotate(30,0,406)\" style=\"font-family: 'Open Sans', verdana, arial, sans-serif; font-size: 12px; fill: rgb(42, 63, 95); fill-opacity: 1; white-space: pre; opacity: 1;\">assembly_shop</text></g><g class=\"xtick\"><text text-anchor=\"start\" x=\"0\" y=\"412\" transform=\"translate(331.25,0) rotate(30,0,406)\" style=\"font-family: 'Open Sans', verdana, arial, sans-serif; font-size: 12px; fill: rgb(42, 63, 95); fill-opacity: 1; white-space: pre; opacity: 1;\">research_center</text></g><g class=\"xtick\"><text text-anchor=\"start\" x=\"0\" y=\"412\" transform=\"translate(431.75,0) rotate(30,0,406)\" style=\"font-family: 'Open Sans', verdana, arial, sans-serif; font-size: 12px; fill: rgb(42, 63, 95); fill-opacity: 1; white-space: pre; opacity: 1;\">no_informations</text></g></g><g class=\"yaxislayer-above\"><g class=\"ytick\"><text text-anchor=\"end\" x=\"79\" y=\"4.199999999999999\" transform=\"translate(0,399)\" style=\"font-family: 'Open Sans', verdana, arial, sans-serif; font-size: 12px; fill: rgb(42, 63, 95); fill-opacity: 1; white-space: pre; opacity: 1;\">0</text></g><g class=\"ytick\"><text text-anchor=\"end\" x=\"79\" y=\"4.199999999999999\" style=\"font-family: 'Open Sans', verdana, arial, sans-serif; font-size: 12px; fill: rgb(42, 63, 95); fill-opacity: 1; white-space: pre; opacity: 1;\" transform=\"translate(0,344.71)\">10k</text></g><g class=\"ytick\"><text text-anchor=\"end\" x=\"79\" y=\"4.199999999999999\" style=\"font-family: 'Open Sans', verdana, arial, sans-serif; font-size: 12px; fill: rgb(42, 63, 95); fill-opacity: 1; white-space: pre; opacity: 1;\" transform=\"translate(0,290.43)\">20k</text></g><g class=\"ytick\"><text text-anchor=\"end\" x=\"79\" y=\"4.199999999999999\" style=\"font-family: 'Open Sans', verdana, arial, sans-serif; font-size: 12px; fill: rgb(42, 63, 95); fill-opacity: 1; white-space: pre; opacity: 1;\" transform=\"translate(0,236.14)\">30k</text></g><g class=\"ytick\"><text text-anchor=\"end\" x=\"79\" y=\"4.199999999999999\" style=\"font-family: 'Open Sans', verdana, arial, sans-serif; font-size: 12px; fill: rgb(42, 63, 95); fill-opacity: 1; white-space: pre; opacity: 1;\" transform=\"translate(0,181.86)\">40k</text></g><g class=\"ytick\"><text text-anchor=\"end\" x=\"79\" y=\"4.199999999999999\" style=\"font-family: 'Open Sans', verdana, arial, sans-serif; font-size: 12px; fill: rgb(42, 63, 95); fill-opacity: 1; white-space: pre; opacity: 1;\" transform=\"translate(0,127.57)\">50k</text></g><g class=\"ytick\"><text text-anchor=\"end\" x=\"79\" y=\"4.199999999999999\" style=\"font-family: 'Open Sans', verdana, arial, sans-serif; font-size: 12px; fill: rgb(42, 63, 95); fill-opacity: 1; white-space: pre; opacity: 1;\" transform=\"translate(0,73.28999999999999)\">60k</text></g></g><g class=\"overaxes-above\"/></g></g><g class=\"polarlayer\"/><g class=\"ternarylayer\"/><g class=\"geolayer\"/><g class=\"funnelarealayer\"/><g class=\"pielayer\"/><g class=\"iciclelayer\"/><g class=\"treemaplayer\"/><g class=\"sunburstlayer\"/><g class=\"glimages\"/><defs id=\"topdefs-21ccf1\"><g class=\"clips\"/><clipPath id=\"legend21ccf1\"><rect width=\"198\" height=\"105\" x=\"0\" y=\"0\"/></clipPath></defs><g class=\"layer-above\"><g class=\"imagelayer\"/><g class=\"shapelayer\"/></g><g class=\"infolayer\"><g class=\"legend\" pointer-events=\"all\" transform=\"translate(490.04,60)\"><rect class=\"bg\" shape-rendering=\"crispEdges\" style=\"stroke: rgb(68, 68, 68); stroke-opacity: 1; fill: rgb(255, 255, 255); fill-opacity: 1; stroke-width: 0px;\" width=\"198\" height=\"105\" x=\"0\" y=\"0\"/><g class=\"scrollbox\" transform=\"\" clip-path=\"url(#legend21ccf1)\"><text class=\"legendtitletext\" text-anchor=\"start\" x=\"2\" y=\"18.2\" style=\"font-family: 'Open Sans', verdana, arial, sans-serif; font-size: 14px; fill: rgb(42, 63, 95); fill-opacity: 1; white-space: pre;\">building_type</text><g class=\"groups\" transform=\"\"><g class=\"traces\" transform=\"translate(0,32.7)\" style=\"opacity: 1;\"><text class=\"legendtext\" text-anchor=\"start\" x=\"40\" y=\"4.680000000000001\" style=\"font-family: 'Open Sans', verdana, arial, sans-serif; font-size: 12px; fill: rgb(42, 63, 95); fill-opacity: 1; white-space: pre;\">spaceport (43.7%)</text><g class=\"layers\" style=\"opacity: 1;\"><g class=\"legendfill\"/><g class=\"legendlines\"/><g class=\"legendsymbols\"><g class=\"legendpoints\"><path class=\"legendundefined\" d=\"M6,6H-6V-6H6Z\" transform=\"translate(20,0)\" style=\"stroke-width: 0.5px; fill: rgb(99, 110, 250); fill-opacity: 1; stroke: rgb(229, 236, 246); stroke-opacity: 1;\"/></g></g></g><rect class=\"legendtoggle\" x=\"0\" y=\"-9.5\" width=\"192.75\" height=\"19\" style=\"fill: rgb(0, 0, 0); fill-opacity: 0;\"/></g></g><g class=\"groups\" transform=\"\"><g class=\"traces\" transform=\"translate(0,51.7)\" style=\"opacity: 1;\"><text class=\"legendtext\" text-anchor=\"start\" x=\"40\" y=\"4.680000000000001\" style=\"font-family: 'Open Sans', verdana, arial, sans-serif; font-size: 12px; fill: rgb(42, 63, 95); fill-opacity: 1; white-space: pre;\">assembly_shop (40.2%)</text><g class=\"layers\" style=\"opacity: 1;\"><g class=\"legendfill\"/><g class=\"legendlines\"/><g class=\"legendsymbols\"><g class=\"legendpoints\"><path class=\"legendundefined\" d=\"M6,6H-6V-6H6Z\" transform=\"translate(20,0)\" style=\"stroke-width: 0.5px; fill: rgb(239, 85, 59); fill-opacity: 1; stroke: rgb(229, 236, 246); stroke-opacity: 1;\"/></g></g></g><rect class=\"legendtoggle\" x=\"0\" y=\"-9.5\" width=\"192.75\" height=\"19\" style=\"fill: rgb(0, 0, 0); fill-opacity: 0;\"/></g></g><g class=\"groups\" transform=\"\"><g class=\"traces\" transform=\"translate(0,70.7)\" style=\"opacity: 1;\"><text class=\"legendtext\" text-anchor=\"start\" x=\"40\" y=\"4.680000000000001\" style=\"font-family: 'Open Sans', verdana, arial, sans-serif; font-size: 12px; fill: rgb(42, 63, 95); fill-opacity: 1; white-space: pre;\">research_center (10.4%)</text><g class=\"layers\" style=\"opacity: 1;\"><g class=\"legendfill\"/><g class=\"legendlines\"/><g class=\"legendsymbols\"><g class=\"legendpoints\"><path class=\"legendundefined\" d=\"M6,6H-6V-6H6Z\" transform=\"translate(20,0)\" style=\"stroke-width: 0.5px; fill: rgb(0, 204, 150); fill-opacity: 1; stroke: rgb(229, 236, 246); stroke-opacity: 1;\"/></g></g></g><rect class=\"legendtoggle\" x=\"0\" y=\"-9.5\" width=\"192.75\" height=\"19\" style=\"fill: rgb(0, 0, 0); fill-opacity: 0;\"/></g></g><g class=\"groups\" transform=\"\"><g class=\"traces\" transform=\"translate(0,89.7)\" style=\"opacity: 1;\"><text class=\"legendtext\" text-anchor=\"start\" x=\"40\" y=\"4.680000000000001\" style=\"font-family: 'Open Sans', verdana, arial, sans-serif; font-size: 12px; fill: rgb(42, 63, 95); fill-opacity: 1; white-space: pre;\">no_informations (5.7%)</text><g class=\"layers\" style=\"opacity: 1;\"><g class=\"legendfill\"/><g class=\"legendlines\"/><g class=\"legendsymbols\"><g class=\"legendpoints\"><path class=\"legendundefined\" d=\"M6,6H-6V-6H6Z\" transform=\"translate(20,0)\" style=\"stroke-width: 0.5px; fill: rgb(171, 99, 250); fill-opacity: 1; stroke: rgb(229, 236, 246); stroke-opacity: 1;\"/></g></g></g><rect class=\"legendtoggle\" x=\"0\" y=\"-9.5\" width=\"192.75\" height=\"19\" style=\"fill: rgb(0, 0, 0); fill-opacity: 0;\"/></g></g></g><rect class=\"scrollbar\" rx=\"20\" ry=\"3\" width=\"0\" height=\"0\" style=\"fill: rgb(128, 139, 164); fill-opacity: 1;\" x=\"0\" y=\"0\"/></g><g class=\"g-gtitle\"><text class=\"gtitle\" x=\"35\" y=\"30\" text-anchor=\"start\" dy=\"0em\" style=\"font-family: 'Open Sans', verdana, arial, sans-serif; font-size: 17px; fill: rgb(42, 63, 95); opacity: 1; font-weight: normal; white-space: pre;\">Количество построенных объектов count</text></g><g class=\"g-xtitle\"><text class=\"xtitle\" x=\"281\" y=\"487.9923828125\" text-anchor=\"middle\" style=\"font-family: 'Open Sans', verdana, arial, sans-serif; font-size: 14px; fill: rgb(42, 63, 95); opacity: 1; font-weight: normal; white-space: pre;\">building_type</text></g><g class=\"g-ytitle\"><text class=\"ytitle\" transform=\"rotate(-90,31.840625000000003,229.5)\" x=\"31.840625000000003\" y=\"229.5\" text-anchor=\"middle\" style=\"font-family: 'Open Sans', verdana, arial, sans-serif; font-size: 14px; fill: rgb(42, 63, 95); opacity: 1; font-weight: normal; white-space: pre;\">Количество</text></g></g></svg>"
      ]
     },
     "metadata": {},
     "output_type": "display_data"
    },
    {
     "data": {
      "image/svg+xml": [
       "<svg class=\"main-svg\" xmlns=\"http://www.w3.org/2000/svg\" xmlns:xlink=\"http://www.w3.org/1999/xlink\" width=\"700\" height=\"500\" style=\"\" viewBox=\"0 0 700 500\"><rect x=\"0\" y=\"0\" width=\"700\" height=\"500\" style=\"fill: rgb(255, 255, 255); fill-opacity: 1;\"/><defs id=\"defs-c3e048\"><g class=\"clips\"><clipPath id=\"clipc3e048xyplot\" class=\"plotclip\"><rect width=\"401\" height=\"339\"/></clipPath><clipPath class=\"axesclip\" id=\"clipc3e048x\"><rect x=\"80\" y=\"0\" width=\"401\" height=\"500\"/></clipPath><clipPath class=\"axesclip\" id=\"clipc3e048y\"><rect x=\"0\" y=\"60\" width=\"700\" height=\"339\"/></clipPath><clipPath class=\"axesclip\" id=\"clipc3e048xy\"><rect x=\"80\" y=\"60\" width=\"401\" height=\"339\"/></clipPath></g><g class=\"gradients\"/><g class=\"patterns\"/></defs><g class=\"bglayer\"><rect class=\"bg\" x=\"80\" y=\"60\" width=\"401\" height=\"339\" style=\"fill: rgb(229, 236, 246); fill-opacity: 1; stroke-width: 0;\"/></g><g class=\"layer-below\"><g class=\"imagelayer\"/><g class=\"shapelayer\"/></g><g class=\"cartesianlayer\"><g class=\"subplot xy\"><g class=\"layer-subplot\"><g class=\"shapelayer\"/><g class=\"imagelayer\"/></g><g class=\"gridlayer\"><g class=\"x\"/><g class=\"y\"><path class=\"ygrid crisp\" transform=\"translate(0,351.56)\" d=\"M80,0h401\" style=\"stroke: rgb(255, 255, 255); stroke-opacity: 1; stroke-width: 1px;\"/><path class=\"ygrid crisp\" transform=\"translate(0,304.11)\" d=\"M80,0h401\" style=\"stroke: rgb(255, 255, 255); stroke-opacity: 1; stroke-width: 1px;\"/><path class=\"ygrid crisp\" transform=\"translate(0,256.66999999999996)\" d=\"M80,0h401\" style=\"stroke: rgb(255, 255, 255); stroke-opacity: 1; stroke-width: 1px;\"/><path class=\"ygrid crisp\" transform=\"translate(0,209.22)\" d=\"M80,0h401\" style=\"stroke: rgb(255, 255, 255); stroke-opacity: 1; stroke-width: 1px;\"/><path class=\"ygrid crisp\" transform=\"translate(0,161.78)\" d=\"M80,0h401\" style=\"stroke: rgb(255, 255, 255); stroke-opacity: 1; stroke-width: 1px;\"/><path class=\"ygrid crisp\" transform=\"translate(0,114.34)\" d=\"M80,0h401\" style=\"stroke: rgb(255, 255, 255); stroke-opacity: 1; stroke-width: 1px;\"/><path class=\"ygrid crisp\" transform=\"translate(0,66.89)\" d=\"M80,0h401\" style=\"stroke: rgb(255, 255, 255); stroke-opacity: 1; stroke-width: 1px;\"/></g></g><g class=\"zerolinelayer\"><path class=\"yzl zl crisp\" transform=\"translate(0,399)\" d=\"M80,0h401\" style=\"stroke: rgb(255, 255, 255); stroke-opacity: 1; stroke-width: 2px;\"/></g><path class=\"xlines-below\"/><path class=\"ylines-below\"/><g class=\"overlines-below\"/><g class=\"xaxislayer-below\"/><g class=\"yaxislayer-below\"/><g class=\"overaxes-below\"/><g class=\"plot\" transform=\"translate(80,60)\" clip-path=\"url(#clipc3e048xyplot)\"><g class=\"barlayer mlayer\"><g class=\"trace bars\" style=\"opacity: 1;\"><g class=\"points\"><g class=\"point\"><path d=\"M10.02,339V25.13H90.23V339Z\" style=\"vector-effect: non-scaling-stroke; opacity: 1; stroke-width: 0.5px; fill: rgb(99, 110, 250); fill-opacity: 1; stroke: rgb(229, 236, 246); stroke-opacity: 1;\"/><text class=\"bartext bartext-inside\" text-anchor=\"middle\" data-notex=\"1\" x=\"0\" y=\"0\" style=\"font-family: 'Open Sans', verdana, arial, sans-serif; font-size: 12px; fill: rgb(255, 255, 255); fill-opacity: 1; white-space: pre;\" transform=\"translate(50.125,40.129999999999995)\">13231</text></g></g></g><g class=\"trace bars\" style=\"opacity: 1;\"><g class=\"points\"><g class=\"point\"><path d=\"M110.28,339V16.95H190.48V339Z\" style=\"vector-effect: non-scaling-stroke; opacity: 1; stroke-width: 0.5px; fill: rgb(239, 85, 59); fill-opacity: 1; stroke: rgb(229, 236, 246); stroke-opacity: 1;\"/><text class=\"bartext bartext-inside\" text-anchor=\"middle\" data-notex=\"1\" x=\"0\" y=\"0\" style=\"font-family: 'Open Sans', verdana, arial, sans-serif; font-size: 12px; fill: rgb(68, 68, 68); fill-opacity: 1; white-space: pre;\" transform=\"translate(150.1925,31.95)\">13576</text></g></g></g><g class=\"trace bars\" style=\"opacity: 1;\"><g class=\"points\"><g class=\"point\"><path d=\"M210.53,339V157.03H290.73V339Z\" style=\"vector-effect: non-scaling-stroke; opacity: 1; stroke-width: 0.5px; fill: rgb(0, 204, 150); fill-opacity: 1; stroke: rgb(229, 236, 246); stroke-opacity: 1;\"/><text class=\"bartext bartext-inside\" text-anchor=\"middle\" data-notex=\"1\" x=\"0\" y=\"0\" style=\"font-family: 'Open Sans', verdana, arial, sans-serif; font-size: 12px; fill: rgb(68, 68, 68); fill-opacity: 1; white-space: pre;\" transform=\"translate(250.63,172.03)\">7671</text></g></g></g><g class=\"trace bars\" style=\"opacity: 1;\"><g class=\"points\"><g class=\"point\"><path d=\"M310.78,339V201.01H390.98V339Z\" style=\"vector-effect: non-scaling-stroke; opacity: 1; stroke-width: 0.5px; fill: rgb(171, 99, 250); fill-opacity: 1; stroke: rgb(229, 236, 246); stroke-opacity: 1;\"/><text class=\"bartext bartext-inside\" text-anchor=\"middle\" data-notex=\"1\" x=\"0\" y=\"0\" style=\"font-family: 'Open Sans', verdana, arial, sans-serif; font-size: 12px; fill: rgb(68, 68, 68); fill-opacity: 1; white-space: pre;\" transform=\"translate(350.6925,216.01)\">5817</text></g></g></g></g></g><g class=\"overplot\"/><path class=\"xlines-above crisp\" d=\"M0,0\" style=\"fill: none;\"/><path class=\"ylines-above crisp\" d=\"M0,0\" style=\"fill: none;\"/><g class=\"overlines-above\"/><g class=\"xaxislayer-above\"><g class=\"xtick\"><text text-anchor=\"start\" x=\"0\" y=\"412\" transform=\"translate(130.13,0) rotate(30,0,406)\" style=\"font-family: 'Open Sans', verdana, arial, sans-serif; font-size: 12px; fill: rgb(42, 63, 95); fill-opacity: 1; white-space: pre; opacity: 1;\">spaceport</text></g><g class=\"xtick\"><text text-anchor=\"start\" x=\"0\" y=\"412\" transform=\"translate(230.38,0) rotate(30,0,406)\" style=\"font-family: 'Open Sans', verdana, arial, sans-serif; font-size: 12px; fill: rgb(42, 63, 95); fill-opacity: 1; white-space: pre; opacity: 1;\">assembly_shop</text></g><g class=\"xtick\"><text text-anchor=\"start\" x=\"0\" y=\"412\" transform=\"translate(330.63,0) rotate(30,0,406)\" style=\"font-family: 'Open Sans', verdana, arial, sans-serif; font-size: 12px; fill: rgb(42, 63, 95); fill-opacity: 1; white-space: pre; opacity: 1;\">research_center</text></g><g class=\"xtick\"><text text-anchor=\"start\" x=\"0\" y=\"412\" transform=\"translate(430.88,0) rotate(30,0,406)\" style=\"font-family: 'Open Sans', verdana, arial, sans-serif; font-size: 12px; fill: rgb(42, 63, 95); fill-opacity: 1; white-space: pre; opacity: 1;\">no_informations</text></g></g><g class=\"yaxislayer-above\"><g class=\"ytick\"><text text-anchor=\"end\" x=\"79\" y=\"4.199999999999999\" transform=\"translate(0,399)\" style=\"font-family: 'Open Sans', verdana, arial, sans-serif; font-size: 12px; fill: rgb(42, 63, 95); fill-opacity: 1; white-space: pre; opacity: 1;\">0</text></g><g class=\"ytick\"><text text-anchor=\"end\" x=\"79\" y=\"4.199999999999999\" style=\"font-family: 'Open Sans', verdana, arial, sans-serif; font-size: 12px; fill: rgb(42, 63, 95); fill-opacity: 1; white-space: pre; opacity: 1;\" transform=\"translate(0,351.56)\">2k</text></g><g class=\"ytick\"><text text-anchor=\"end\" x=\"79\" y=\"4.199999999999999\" style=\"font-family: 'Open Sans', verdana, arial, sans-serif; font-size: 12px; fill: rgb(42, 63, 95); fill-opacity: 1; white-space: pre; opacity: 1;\" transform=\"translate(0,304.11)\">4k</text></g><g class=\"ytick\"><text text-anchor=\"end\" x=\"79\" y=\"4.199999999999999\" style=\"font-family: 'Open Sans', verdana, arial, sans-serif; font-size: 12px; fill: rgb(42, 63, 95); fill-opacity: 1; white-space: pre; opacity: 1;\" transform=\"translate(0,256.66999999999996)\">6k</text></g><g class=\"ytick\"><text text-anchor=\"end\" x=\"79\" y=\"4.199999999999999\" style=\"font-family: 'Open Sans', verdana, arial, sans-serif; font-size: 12px; fill: rgb(42, 63, 95); fill-opacity: 1; white-space: pre; opacity: 1;\" transform=\"translate(0,209.22)\">8k</text></g><g class=\"ytick\"><text text-anchor=\"end\" x=\"79\" y=\"4.199999999999999\" style=\"font-family: 'Open Sans', verdana, arial, sans-serif; font-size: 12px; fill: rgb(42, 63, 95); fill-opacity: 1; white-space: pre; opacity: 1;\" transform=\"translate(0,161.78)\">10k</text></g><g class=\"ytick\"><text text-anchor=\"end\" x=\"79\" y=\"4.199999999999999\" style=\"font-family: 'Open Sans', verdana, arial, sans-serif; font-size: 12px; fill: rgb(42, 63, 95); fill-opacity: 1; white-space: pre; opacity: 1;\" transform=\"translate(0,114.34)\">12k</text></g><g class=\"ytick\"><text text-anchor=\"end\" x=\"79\" y=\"4.199999999999999\" style=\"font-family: 'Open Sans', verdana, arial, sans-serif; font-size: 12px; fill: rgb(42, 63, 95); fill-opacity: 1; white-space: pre; opacity: 1;\" transform=\"translate(0,66.89)\">14k</text></g></g><g class=\"overaxes-above\"/></g></g><g class=\"polarlayer\"/><g class=\"ternarylayer\"/><g class=\"geolayer\"/><g class=\"funnelarealayer\"/><g class=\"pielayer\"/><g class=\"iciclelayer\"/><g class=\"treemaplayer\"/><g class=\"sunburstlayer\"/><g class=\"glimages\"/><defs id=\"topdefs-c3e048\"><g class=\"clips\"/><clipPath id=\"legendc3e048\"><rect width=\"199\" height=\"105\" x=\"0\" y=\"0\"/></clipPath></defs><g class=\"layer-above\"><g class=\"imagelayer\"/><g class=\"shapelayer\"/></g><g class=\"infolayer\"><g class=\"legend\" pointer-events=\"all\" transform=\"translate(489.02,60)\"><rect class=\"bg\" shape-rendering=\"crispEdges\" style=\"stroke: rgb(68, 68, 68); stroke-opacity: 1; fill: rgb(255, 255, 255); fill-opacity: 1; stroke-width: 0px;\" width=\"199\" height=\"105\" x=\"0\" y=\"0\"/><g class=\"scrollbox\" transform=\"\" clip-path=\"url(#legendc3e048)\"><text class=\"legendtitletext\" text-anchor=\"start\" x=\"2\" y=\"18.2\" style=\"font-family: 'Open Sans', verdana, arial, sans-serif; font-size: 14px; fill: rgb(42, 63, 95); fill-opacity: 1; white-space: pre;\">building_type</text><g class=\"groups\" transform=\"\"><g class=\"traces\" transform=\"translate(0,32.7)\" style=\"opacity: 1;\"><text class=\"legendtext\" text-anchor=\"start\" x=\"40\" y=\"4.680000000000001\" style=\"font-family: 'Open Sans', verdana, arial, sans-serif; font-size: 12px; fill: rgb(42, 63, 95); fill-opacity: 1; white-space: pre;\">spaceport (32.8%)</text><g class=\"layers\" style=\"opacity: 1;\"><g class=\"legendfill\"/><g class=\"legendlines\"/><g class=\"legendsymbols\"><g class=\"legendpoints\"><path class=\"legendundefined\" d=\"M6,6H-6V-6H6Z\" transform=\"translate(20,0)\" style=\"stroke-width: 0.5px; fill: rgb(99, 110, 250); fill-opacity: 1; stroke: rgb(229, 236, 246); stroke-opacity: 1;\"/></g></g></g><rect class=\"legendtoggle\" x=\"0\" y=\"-9.5\" width=\"193.328125\" height=\"19\" style=\"fill: rgb(0, 0, 0); fill-opacity: 0;\"/></g></g><g class=\"groups\" transform=\"\"><g class=\"traces\" transform=\"translate(0,51.7)\" style=\"opacity: 1;\"><text class=\"legendtext\" text-anchor=\"start\" x=\"40\" y=\"4.680000000000001\" style=\"font-family: 'Open Sans', verdana, arial, sans-serif; font-size: 12px; fill: rgb(42, 63, 95); fill-opacity: 1; white-space: pre;\">assembly_shop (33.7%)</text><g class=\"layers\" style=\"opacity: 1;\"><g class=\"legendfill\"/><g class=\"legendlines\"/><g class=\"legendsymbols\"><g class=\"legendpoints\"><path class=\"legendundefined\" d=\"M6,6H-6V-6H6Z\" transform=\"translate(20,0)\" style=\"stroke-width: 0.5px; fill: rgb(239, 85, 59); fill-opacity: 1; stroke: rgb(229, 236, 246); stroke-opacity: 1;\"/></g></g></g><rect class=\"legendtoggle\" x=\"0\" y=\"-9.5\" width=\"193.328125\" height=\"19\" style=\"fill: rgb(0, 0, 0); fill-opacity: 0;\"/></g></g><g class=\"groups\" transform=\"\"><g class=\"traces\" transform=\"translate(0,70.7)\" style=\"opacity: 1;\"><text class=\"legendtext\" text-anchor=\"start\" x=\"40\" y=\"4.680000000000001\" style=\"font-family: 'Open Sans', verdana, arial, sans-serif; font-size: 12px; fill: rgb(42, 63, 95); fill-opacity: 1; white-space: pre;\">research_center (19.0%)</text><g class=\"layers\" style=\"opacity: 1;\"><g class=\"legendfill\"/><g class=\"legendlines\"/><g class=\"legendsymbols\"><g class=\"legendpoints\"><path class=\"legendundefined\" d=\"M6,6H-6V-6H6Z\" transform=\"translate(20,0)\" style=\"stroke-width: 0.5px; fill: rgb(0, 204, 150); fill-opacity: 1; stroke: rgb(229, 236, 246); stroke-opacity: 1;\"/></g></g></g><rect class=\"legendtoggle\" x=\"0\" y=\"-9.5\" width=\"193.328125\" height=\"19\" style=\"fill: rgb(0, 0, 0); fill-opacity: 0;\"/></g></g><g class=\"groups\" transform=\"\"><g class=\"traces\" transform=\"translate(0,89.7)\" style=\"opacity: 1;\"><text class=\"legendtext\" text-anchor=\"start\" x=\"40\" y=\"4.680000000000001\" style=\"font-family: 'Open Sans', verdana, arial, sans-serif; font-size: 12px; fill: rgb(42, 63, 95); fill-opacity: 1; white-space: pre;\">no_informations (14.4%)</text><g class=\"layers\" style=\"opacity: 1;\"><g class=\"legendfill\"/><g class=\"legendlines\"/><g class=\"legendsymbols\"><g class=\"legendpoints\"><path class=\"legendundefined\" d=\"M6,6H-6V-6H6Z\" transform=\"translate(20,0)\" style=\"stroke-width: 0.5px; fill: rgb(171, 99, 250); fill-opacity: 1; stroke: rgb(229, 236, 246); stroke-opacity: 1;\"/></g></g></g><rect class=\"legendtoggle\" x=\"0\" y=\"-9.5\" width=\"193.328125\" height=\"19\" style=\"fill: rgb(0, 0, 0); fill-opacity: 0;\"/></g></g></g><rect class=\"scrollbar\" rx=\"20\" ry=\"3\" width=\"0\" height=\"0\" style=\"fill: rgb(128, 139, 164); fill-opacity: 1;\" x=\"0\" y=\"0\"/></g><g class=\"g-gtitle\"><text class=\"gtitle\" x=\"35\" y=\"30\" text-anchor=\"start\" dy=\"0em\" style=\"font-family: 'Open Sans', verdana, arial, sans-serif; font-size: 17px; fill: rgb(42, 63, 95); opacity: 1; font-weight: normal; white-space: pre;\">Количество построенных уникальных объектов nunique</text></g><g class=\"g-xtitle\"><text class=\"xtitle\" x=\"280.5\" y=\"487.9923828125\" text-anchor=\"middle\" style=\"font-family: 'Open Sans', verdana, arial, sans-serif; font-size: 14px; fill: rgb(42, 63, 95); opacity: 1; font-weight: normal; white-space: pre;\">building_type</text></g><g class=\"g-ytitle\"><text class=\"ytitle\" transform=\"rotate(-90,31.840625000000003,229.5)\" x=\"31.840625000000003\" y=\"229.5\" text-anchor=\"middle\" style=\"font-family: 'Open Sans', verdana, arial, sans-serif; font-size: 14px; fill: rgb(42, 63, 95); opacity: 1; font-weight: normal; white-space: pre;\">Количество</text></g></g></svg>"
      ]
     },
     "metadata": {},
     "output_type": "display_data"
    }
   ],
   "source": [
    "#Прорисовываем функцию\n",
    "doBar(buildingCount, 'building_type', 'count', \"Количество построенных объектов \", 'percentCount')\n",
    "doBar(buildingCount, 'building_type', 'nunique', \"Количество построенных уникальных объектов \", 'percentNunique')"
   ]
  },
  {
   "cell_type": "markdown",
   "metadata": {},
   "source": [
    "Расмотрим долю людей прошедших первых этап в разрезе построенных объектов. Построено 127 тыс. объектов 13,5 пользователями."
   ]
  },
  {
   "cell_type": "code",
   "execution_count": 13,
   "metadata": {},
   "outputs": [
    {
     "name": "stdout",
     "output_type": "stream",
     "text": [
      "              event   count  nunique\n",
      "0          building  127956    13576\n",
      "1  finished_stage_1    5817     5817\n",
      "2           project    1866     1866\n",
      "\n",
      "\n",
      "Доля, кто дошел до первого уровня составляет 42.85%\n",
      "Доля, кто дошел до реализации проекта составляет 13.74%\n"
     ]
    }
   ],
   "source": [
    "eventCount = game_actions.groupby('event')['user_id'].agg(['count', 'nunique']).reset_index().sort_values(by='count', ascending=False)\n",
    "print(eventCount)\n",
    "print('')\n",
    "print('')\n",
    "print('Доля, кто дошел до первого уровня составляет {:.2%}'.format((eventCount.loc[1, 'nunique']/ eventCount.loc[0, 'nunique'])))\n",
    "print('Доля, кто дошел до реализации проекта составляет {:.2%}'.format((eventCount.loc[2, 'nunique']/ eventCount.loc[0, 'nunique'])))"
   ]
  },
  {
   "cell_type": "markdown",
   "metadata": {},
   "source": [
    "Построим гистограмму по количеству событий по дате и времени. На основе данных можно сделать вывод, что всплеск наблюдался только до 10 мая, затем произошло падение. Необходимо в дальнейшем проанализировать причины падения количество пользователей. При это до 10 мая наблюдался значительный рост."
   ]
  },
  {
   "cell_type": "code",
   "execution_count": 14,
   "metadata": {},
   "outputs": [
    {
     "data": {
      "image/svg+xml": [
       "<svg class=\"main-svg\" xmlns=\"http://www.w3.org/2000/svg\" xmlns:xlink=\"http://www.w3.org/1999/xlink\" width=\"700\" height=\"500\" style=\"\" viewBox=\"0 0 700 500\"><rect x=\"0\" y=\"0\" width=\"700\" height=\"500\" style=\"fill: rgb(255, 255, 255); fill-opacity: 1;\"/><defs id=\"defs-18c568\"><g class=\"clips\"><clipPath id=\"clip18c568xyplot\" class=\"plotclip\"><rect width=\"540\" height=\"360\"/></clipPath><clipPath class=\"axesclip\" id=\"clip18c568x\"><rect x=\"80\" y=\"0\" width=\"540\" height=\"500\"/></clipPath><clipPath class=\"axesclip\" id=\"clip18c568y\"><rect x=\"0\" y=\"60\" width=\"700\" height=\"360\"/></clipPath><clipPath class=\"axesclip\" id=\"clip18c568xy\"><rect x=\"80\" y=\"60\" width=\"540\" height=\"360\"/></clipPath></g><g class=\"gradients\"/><g class=\"patterns\"/></defs><g class=\"bglayer\"><rect class=\"bg\" x=\"80\" y=\"60\" width=\"540\" height=\"360\" style=\"fill: rgb(229, 236, 246); fill-opacity: 1; stroke-width: 0;\"/></g><g class=\"layer-below\"><g class=\"imagelayer\"/><g class=\"shapelayer\"/></g><g class=\"cartesianlayer\"><g class=\"subplot xy\"><g class=\"layer-subplot\"><g class=\"shapelayer\"/><g class=\"imagelayer\"/></g><g class=\"gridlayer\"><g class=\"x\"/><g class=\"y\"><path class=\"ygrid crisp\" transform=\"translate(0,334.11)\" d=\"M80,0h540\" style=\"stroke: rgb(255, 255, 255); stroke-opacity: 1; stroke-width: 1px;\"/><path class=\"ygrid crisp\" transform=\"translate(0,248.23)\" d=\"M80,0h540\" style=\"stroke: rgb(255, 255, 255); stroke-opacity: 1; stroke-width: 1px;\"/><path class=\"ygrid crisp\" transform=\"translate(0,162.34)\" d=\"M80,0h540\" style=\"stroke: rgb(255, 255, 255); stroke-opacity: 1; stroke-width: 1px;\"/><path class=\"ygrid crisp\" transform=\"translate(0,76.45)\" d=\"M80,0h540\" style=\"stroke: rgb(255, 255, 255); stroke-opacity: 1; stroke-width: 1px;\"/></g></g><g class=\"zerolinelayer\"><path class=\"yzl zl crisp\" transform=\"translate(0,420)\" d=\"M80,0h540\" style=\"stroke: rgb(255, 255, 255); stroke-opacity: 1; stroke-width: 2px;\"/></g><path class=\"xlines-below\"/><path class=\"ylines-below\"/><g class=\"overlines-below\"/><g class=\"xaxislayer-below\"/><g class=\"yaxislayer-below\"/><g class=\"overaxes-below\"/><g class=\"plot\" transform=\"translate(80,60)\" clip-path=\"url(#clip18c568xyplot)\"><g class=\"barlayer mlayer\"><g class=\"trace bars\" shape-rendering=\"crispEdges\" style=\"opacity: 1;\"><g class=\"points\"><g class=\"point\"><path d=\"M0,360V275.83H2.07V360Z\" style=\"vector-effect: non-scaling-stroke; opacity: 1; stroke-width: 0px; fill: rgb(99, 110, 250); fill-opacity: 1;\"/></g><g class=\"point\"><path d=\"M2.07,360V196.3H4.14V360Z\" style=\"vector-effect: non-scaling-stroke; opacity: 1; stroke-width: 0px; fill: rgb(99, 110, 250); fill-opacity: 1;\"/></g><g class=\"point\"><path d=\"M4.14,360V195.27H6.21V360Z\" style=\"vector-effect: non-scaling-stroke; opacity: 1; stroke-width: 0px; fill: rgb(99, 110, 250); fill-opacity: 1;\"/></g><g class=\"point\"><path d=\"M6.21,360V182.39H8.28V360Z\" style=\"vector-effect: non-scaling-stroke; opacity: 1; stroke-width: 0px; fill: rgb(99, 110, 250); fill-opacity: 1;\"/></g><g class=\"point\"><path d=\"M8.28,360V184.1H10.34V360Z\" style=\"vector-effect: non-scaling-stroke; opacity: 1; stroke-width: 0px; fill: rgb(99, 110, 250); fill-opacity: 1;\"/></g><g class=\"point\"><path d=\"M10.34,360V179.64H12.41V360Z\" style=\"vector-effect: non-scaling-stroke; opacity: 1; stroke-width: 0px; fill: rgb(99, 110, 250); fill-opacity: 1;\"/></g><g class=\"point\"><path d=\"M12.41,360V181.7H14.48V360Z\" style=\"vector-effect: non-scaling-stroke; opacity: 1; stroke-width: 0px; fill: rgb(99, 110, 250); fill-opacity: 1;\"/></g><g class=\"point\"><path d=\"M14.48,360V172.77H16.55V360Z\" style=\"vector-effect: non-scaling-stroke; opacity: 1; stroke-width: 0px; fill: rgb(99, 110, 250); fill-opacity: 1;\"/></g><g class=\"point\"><path d=\"M16.55,360V173.28H18.62V360Z\" style=\"vector-effect: non-scaling-stroke; opacity: 1; stroke-width: 0px; fill: rgb(99, 110, 250); fill-opacity: 1;\"/></g><g class=\"point\"><path d=\"M18.62,360V175.86H20.69V360Z\" style=\"vector-effect: non-scaling-stroke; opacity: 1; stroke-width: 0px; fill: rgb(99, 110, 250); fill-opacity: 1;\"/></g><g class=\"point\"><path d=\"M20.69,360V169.68H22.76V360Z\" style=\"vector-effect: non-scaling-stroke; opacity: 1; stroke-width: 0px; fill: rgb(99, 110, 250); fill-opacity: 1;\"/></g><g class=\"point\"><path d=\"M22.76,360V166.07H24.83V360Z\" style=\"vector-effect: non-scaling-stroke; opacity: 1; stroke-width: 0px; fill: rgb(99, 110, 250); fill-opacity: 1;\"/></g><g class=\"point\"><path d=\"M24.83,360V165.38H26.9V360Z\" style=\"vector-effect: non-scaling-stroke; opacity: 1; stroke-width: 0px; fill: rgb(99, 110, 250); fill-opacity: 1;\"/></g><g class=\"point\"><path d=\"M26.9,360V161.26H28.97V360Z\" style=\"vector-effect: non-scaling-stroke; opacity: 1; stroke-width: 0px; fill: rgb(99, 110, 250); fill-opacity: 1;\"/></g><g class=\"point\"><path d=\"M28.97,360V152.67H31.03V360Z\" style=\"vector-effect: non-scaling-stroke; opacity: 1; stroke-width: 0px; fill: rgb(99, 110, 250); fill-opacity: 1;\"/></g><g class=\"point\"><path d=\"M31.03,360V160.57H33.1V360Z\" style=\"vector-effect: non-scaling-stroke; opacity: 1; stroke-width: 0px; fill: rgb(99, 110, 250); fill-opacity: 1;\"/></g><g class=\"point\"><path d=\"M33.1,360V161.43H35.17V360Z\" style=\"vector-effect: non-scaling-stroke; opacity: 1; stroke-width: 0px; fill: rgb(99, 110, 250); fill-opacity: 1;\"/></g><g class=\"point\"><path d=\"M35.17,360V157.48H37.24V360Z\" style=\"vector-effect: non-scaling-stroke; opacity: 1; stroke-width: 0px; fill: rgb(99, 110, 250); fill-opacity: 1;\"/></g><g class=\"point\"><path d=\"M37.24,360V149.41H39.31V360Z\" style=\"vector-effect: non-scaling-stroke; opacity: 1; stroke-width: 0px; fill: rgb(99, 110, 250); fill-opacity: 1;\"/></g><g class=\"point\"><path d=\"M39.31,360V151.81H41.38V360Z\" style=\"vector-effect: non-scaling-stroke; opacity: 1; stroke-width: 0px; fill: rgb(99, 110, 250); fill-opacity: 1;\"/></g><g class=\"point\"><path d=\"M41.38,360V146.66H43.45V360Z\" style=\"vector-effect: non-scaling-stroke; opacity: 1; stroke-width: 0px; fill: rgb(99, 110, 250); fill-opacity: 1;\"/></g><g class=\"point\"><path d=\"M43.45,360V143.05H45.52V360Z\" style=\"vector-effect: non-scaling-stroke; opacity: 1; stroke-width: 0px; fill: rgb(99, 110, 250); fill-opacity: 1;\"/></g><g class=\"point\"><path d=\"M45.52,360V152.5H47.59V360Z\" style=\"vector-effect: non-scaling-stroke; opacity: 1; stroke-width: 0px; fill: rgb(99, 110, 250); fill-opacity: 1;\"/></g><g class=\"point\"><path d=\"M47.59,360V143.22H49.66V360Z\" style=\"vector-effect: non-scaling-stroke; opacity: 1; stroke-width: 0px; fill: rgb(99, 110, 250); fill-opacity: 1;\"/></g><g class=\"point\"><path d=\"M49.66,360V129.31H51.72V360Z\" style=\"vector-effect: non-scaling-stroke; opacity: 1; stroke-width: 0px; fill: rgb(99, 110, 250); fill-opacity: 1;\"/></g><g class=\"point\"><path d=\"M51.72,360V129.65H53.79V360Z\" style=\"vector-effect: non-scaling-stroke; opacity: 1; stroke-width: 0px; fill: rgb(99, 110, 250); fill-opacity: 1;\"/></g><g class=\"point\"><path d=\"M53.79,360V125.87H55.86V360Z\" style=\"vector-effect: non-scaling-stroke; opacity: 1; stroke-width: 0px; fill: rgb(99, 110, 250); fill-opacity: 1;\"/></g><g class=\"point\"><path d=\"M55.86,360V132.57H57.93V360Z\" style=\"vector-effect: non-scaling-stroke; opacity: 1; stroke-width: 0px; fill: rgb(99, 110, 250); fill-opacity: 1;\"/></g><g class=\"point\"><path d=\"M57.93,360V121.75H60V360Z\" style=\"vector-effect: non-scaling-stroke; opacity: 1; stroke-width: 0px; fill: rgb(99, 110, 250); fill-opacity: 1;\"/></g><g class=\"point\"><path d=\"M60,360V125.36H62.07V360Z\" style=\"vector-effect: non-scaling-stroke; opacity: 1; stroke-width: 0px; fill: rgb(99, 110, 250); fill-opacity: 1;\"/></g><g class=\"point\"><path d=\"M62.07,360V131.71H64.14V360Z\" style=\"vector-effect: non-scaling-stroke; opacity: 1; stroke-width: 0px; fill: rgb(99, 110, 250); fill-opacity: 1;\"/></g><g class=\"point\"><path d=\"M64.14,360V120.38H66.21V360Z\" style=\"vector-effect: non-scaling-stroke; opacity: 1; stroke-width: 0px; fill: rgb(99, 110, 250); fill-opacity: 1;\"/></g><g class=\"point\"><path d=\"M66.21,360V111.1H68.28V360Z\" style=\"vector-effect: non-scaling-stroke; opacity: 1; stroke-width: 0px; fill: rgb(99, 110, 250); fill-opacity: 1;\"/></g><g class=\"point\"><path d=\"M68.28,360V109.21H70.34V360Z\" style=\"vector-effect: non-scaling-stroke; opacity: 1; stroke-width: 0px; fill: rgb(99, 110, 250); fill-opacity: 1;\"/></g><g class=\"point\"><path d=\"M70.34,360V95.98H72.41V360Z\" style=\"vector-effect: non-scaling-stroke; opacity: 1; stroke-width: 0px; fill: rgb(99, 110, 250); fill-opacity: 1;\"/></g><g class=\"point\"><path d=\"M72.41,360V107.32H74.48V360Z\" style=\"vector-effect: non-scaling-stroke; opacity: 1; stroke-width: 0px; fill: rgb(99, 110, 250); fill-opacity: 1;\"/></g><g class=\"point\"><path d=\"M74.48,360V94.1H76.55V360Z\" style=\"vector-effect: non-scaling-stroke; opacity: 1; stroke-width: 0px; fill: rgb(99, 110, 250); fill-opacity: 1;\"/></g><g class=\"point\"><path d=\"M76.55,360V100.97H78.62V360Z\" style=\"vector-effect: non-scaling-stroke; opacity: 1; stroke-width: 0px; fill: rgb(99, 110, 250); fill-opacity: 1;\"/></g><g class=\"point\"><path d=\"M78.62,360V101.14H80.69V360Z\" style=\"vector-effect: non-scaling-stroke; opacity: 1; stroke-width: 0px; fill: rgb(99, 110, 250); fill-opacity: 1;\"/></g><g class=\"point\"><path d=\"M80.69,360V102.34H82.76V360Z\" style=\"vector-effect: non-scaling-stroke; opacity: 1; stroke-width: 0px; fill: rgb(99, 110, 250); fill-opacity: 1;\"/></g><g class=\"point\"><path d=\"M82.76,360V87.91H84.83V360Z\" style=\"vector-effect: non-scaling-stroke; opacity: 1; stroke-width: 0px; fill: rgb(99, 110, 250); fill-opacity: 1;\"/></g><g class=\"point\"><path d=\"M84.83,360V99.08H86.9V360Z\" style=\"vector-effect: non-scaling-stroke; opacity: 1; stroke-width: 0px; fill: rgb(99, 110, 250); fill-opacity: 1;\"/></g><g class=\"point\"><path d=\"M86.9,360V84.65H88.97V360Z\" style=\"vector-effect: non-scaling-stroke; opacity: 1; stroke-width: 0px; fill: rgb(99, 110, 250); fill-opacity: 1;\"/></g><g class=\"point\"><path d=\"M88.97,360V78.46H91.03V360Z\" style=\"vector-effect: non-scaling-stroke; opacity: 1; stroke-width: 0px; fill: rgb(99, 110, 250); fill-opacity: 1;\"/></g><g class=\"point\"><path d=\"M91.03,360V81.56H93.1V360Z\" style=\"vector-effect: non-scaling-stroke; opacity: 1; stroke-width: 0px; fill: rgb(99, 110, 250); fill-opacity: 1;\"/></g><g class=\"point\"><path d=\"M93.1,360V75.54H95.17V360Z\" style=\"vector-effect: non-scaling-stroke; opacity: 1; stroke-width: 0px; fill: rgb(99, 110, 250); fill-opacity: 1;\"/></g><g class=\"point\"><path d=\"M95.17,360V64.72H97.24V360Z\" style=\"vector-effect: non-scaling-stroke; opacity: 1; stroke-width: 0px; fill: rgb(99, 110, 250); fill-opacity: 1;\"/></g><g class=\"point\"><path d=\"M97.24,360V65.58H99.31V360Z\" style=\"vector-effect: non-scaling-stroke; opacity: 1; stroke-width: 0px; fill: rgb(99, 110, 250); fill-opacity: 1;\"/></g><g class=\"point\"><path d=\"M99.31,360V57.85H101.38V360Z\" style=\"vector-effect: non-scaling-stroke; opacity: 1; stroke-width: 0px; fill: rgb(99, 110, 250); fill-opacity: 1;\"/></g><g class=\"point\"><path d=\"M101.38,360V57.68H103.45V360Z\" style=\"vector-effect: non-scaling-stroke; opacity: 1; stroke-width: 0px; fill: rgb(99, 110, 250); fill-opacity: 1;\"/></g><g class=\"point\"><path d=\"M103.45,360V38.1H105.52V360Z\" style=\"vector-effect: non-scaling-stroke; opacity: 1; stroke-width: 0px; fill: rgb(99, 110, 250); fill-opacity: 1;\"/></g><g class=\"point\"><path d=\"M105.52,360V35.86H107.59V360Z\" style=\"vector-effect: non-scaling-stroke; opacity: 1; stroke-width: 0px; fill: rgb(99, 110, 250); fill-opacity: 1;\"/></g><g class=\"point\"><path d=\"M107.59,360V39.64H109.66V360Z\" style=\"vector-effect: non-scaling-stroke; opacity: 1; stroke-width: 0px; fill: rgb(99, 110, 250); fill-opacity: 1;\"/></g><g class=\"point\"><path d=\"M109.66,360V25.73H111.72V360Z\" style=\"vector-effect: non-scaling-stroke; opacity: 1; stroke-width: 0px; fill: rgb(99, 110, 250); fill-opacity: 1;\"/></g><g class=\"point\"><path d=\"M111.72,360V18H113.79V360Z\" style=\"vector-effect: non-scaling-stroke; opacity: 1; stroke-width: 0px; fill: rgb(99, 110, 250); fill-opacity: 1;\"/></g><g class=\"point\"><path d=\"M113.79,360V23.84H115.86V360Z\" style=\"vector-effect: non-scaling-stroke; opacity: 1; stroke-width: 0px; fill: rgb(99, 110, 250); fill-opacity: 1;\"/></g><g class=\"point\"><path d=\"M115.86,360V97.02H117.93V360Z\" style=\"vector-effect: non-scaling-stroke; opacity: 1; stroke-width: 0px; fill: rgb(99, 110, 250); fill-opacity: 1;\"/></g><g class=\"point\"><path d=\"M117.93,360V178.09H120V360Z\" style=\"vector-effect: non-scaling-stroke; opacity: 1; stroke-width: 0px; fill: rgb(99, 110, 250); fill-opacity: 1;\"/></g><g class=\"point\"><path d=\"M120,360V186.17H122.07V360Z\" style=\"vector-effect: non-scaling-stroke; opacity: 1; stroke-width: 0px; fill: rgb(99, 110, 250); fill-opacity: 1;\"/></g><g class=\"point\"><path d=\"M122.07,360V179.98H124.14V360Z\" style=\"vector-effect: non-scaling-stroke; opacity: 1; stroke-width: 0px; fill: rgb(99, 110, 250); fill-opacity: 1;\"/></g><g class=\"point\"><path d=\"M124.14,360V188.06H126.21V360Z\" style=\"vector-effect: non-scaling-stroke; opacity: 1; stroke-width: 0px; fill: rgb(99, 110, 250); fill-opacity: 1;\"/></g><g class=\"point\"><path d=\"M126.21,360V184.79H128.28V360Z\" style=\"vector-effect: non-scaling-stroke; opacity: 1; stroke-width: 0px; fill: rgb(99, 110, 250); fill-opacity: 1;\"/></g><g class=\"point\"><path d=\"M128.28,360V191.32H130.34V360Z\" style=\"vector-effect: non-scaling-stroke; opacity: 1; stroke-width: 0px; fill: rgb(99, 110, 250); fill-opacity: 1;\"/></g><g class=\"point\"><path d=\"M130.34,360V184.96H132.41V360Z\" style=\"vector-effect: non-scaling-stroke; opacity: 1; stroke-width: 0px; fill: rgb(99, 110, 250); fill-opacity: 1;\"/></g><g class=\"point\"><path d=\"M132.41,360V178.61H134.48V360Z\" style=\"vector-effect: non-scaling-stroke; opacity: 1; stroke-width: 0px; fill: rgb(99, 110, 250); fill-opacity: 1;\"/></g><g class=\"point\"><path d=\"M134.48,360V187.88H136.55V360Z\" style=\"vector-effect: non-scaling-stroke; opacity: 1; stroke-width: 0px; fill: rgb(99, 110, 250); fill-opacity: 1;\"/></g><g class=\"point\"><path d=\"M136.55,360V193.55H138.62V360Z\" style=\"vector-effect: non-scaling-stroke; opacity: 1; stroke-width: 0px; fill: rgb(99, 110, 250); fill-opacity: 1;\"/></g><g class=\"point\"><path d=\"M138.62,360V187.02H140.69V360Z\" style=\"vector-effect: non-scaling-stroke; opacity: 1; stroke-width: 0px; fill: rgb(99, 110, 250); fill-opacity: 1;\"/></g><g class=\"point\"><path d=\"M140.69,360V185.14H142.76V360Z\" style=\"vector-effect: non-scaling-stroke; opacity: 1; stroke-width: 0px; fill: rgb(99, 110, 250); fill-opacity: 1;\"/></g><g class=\"point\"><path d=\"M142.76,360V194.24H144.83V360Z\" style=\"vector-effect: non-scaling-stroke; opacity: 1; stroke-width: 0px; fill: rgb(99, 110, 250); fill-opacity: 1;\"/></g><g class=\"point\"><path d=\"M144.83,360V194.58H146.9V360Z\" style=\"vector-effect: non-scaling-stroke; opacity: 1; stroke-width: 0px; fill: rgb(99, 110, 250); fill-opacity: 1;\"/></g><g class=\"point\"><path d=\"M146.9,360V194.24H148.97V360Z\" style=\"vector-effect: non-scaling-stroke; opacity: 1; stroke-width: 0px; fill: rgb(99, 110, 250); fill-opacity: 1;\"/></g><g class=\"point\"><path d=\"M148.97,360V189.94H151.03V360Z\" style=\"vector-effect: non-scaling-stroke; opacity: 1; stroke-width: 0px; fill: rgb(99, 110, 250); fill-opacity: 1;\"/></g><g class=\"point\"><path d=\"M151.03,360V190.46H153.1V360Z\" style=\"vector-effect: non-scaling-stroke; opacity: 1; stroke-width: 0px; fill: rgb(99, 110, 250); fill-opacity: 1;\"/></g><g class=\"point\"><path d=\"M153.1,360V194.41H155.17V360Z\" style=\"vector-effect: non-scaling-stroke; opacity: 1; stroke-width: 0px; fill: rgb(99, 110, 250); fill-opacity: 1;\"/></g><g class=\"point\"><path d=\"M155.17,360V196.64H157.24V360Z\" style=\"vector-effect: non-scaling-stroke; opacity: 1; stroke-width: 0px; fill: rgb(99, 110, 250); fill-opacity: 1;\"/></g><g class=\"point\"><path d=\"M157.24,360V196.13H159.31V360Z\" style=\"vector-effect: non-scaling-stroke; opacity: 1; stroke-width: 0px; fill: rgb(99, 110, 250); fill-opacity: 1;\"/></g><g class=\"point\"><path d=\"M159.31,360V201.45H161.38V360Z\" style=\"vector-effect: non-scaling-stroke; opacity: 1; stroke-width: 0px; fill: rgb(99, 110, 250); fill-opacity: 1;\"/></g><g class=\"point\"><path d=\"M161.38,360V197.33H163.45V360Z\" style=\"vector-effect: non-scaling-stroke; opacity: 1; stroke-width: 0px; fill: rgb(99, 110, 250); fill-opacity: 1;\"/></g><g class=\"point\"><path d=\"M163.45,360V197.67H165.52V360Z\" style=\"vector-effect: non-scaling-stroke; opacity: 1; stroke-width: 0px; fill: rgb(99, 110, 250); fill-opacity: 1;\"/></g><g class=\"point\"><path d=\"M165.52,360V192.52H167.59V360Z\" style=\"vector-effect: non-scaling-stroke; opacity: 1; stroke-width: 0px; fill: rgb(99, 110, 250); fill-opacity: 1;\"/></g><g class=\"point\"><path d=\"M167.59,360V212.28H169.66V360Z\" style=\"vector-effect: non-scaling-stroke; opacity: 1; stroke-width: 0px; fill: rgb(99, 110, 250); fill-opacity: 1;\"/></g><g class=\"point\"><path d=\"M169.66,360V215.02H171.72V360Z\" style=\"vector-effect: non-scaling-stroke; opacity: 1; stroke-width: 0px; fill: rgb(99, 110, 250); fill-opacity: 1;\"/></g><g class=\"point\"><path d=\"M171.72,360V209.87H173.79V360Z\" style=\"vector-effect: non-scaling-stroke; opacity: 1; stroke-width: 0px; fill: rgb(99, 110, 250); fill-opacity: 1;\"/></g><g class=\"point\"><path d=\"M173.79,360V213.31H175.86V360Z\" style=\"vector-effect: non-scaling-stroke; opacity: 1; stroke-width: 0px; fill: rgb(99, 110, 250); fill-opacity: 1;\"/></g><g class=\"point\"><path d=\"M175.86,360V210.9H177.93V360Z\" style=\"vector-effect: non-scaling-stroke; opacity: 1; stroke-width: 0px; fill: rgb(99, 110, 250); fill-opacity: 1;\"/></g><g class=\"point\"><path d=\"M177.93,360V220.01H180V360Z\" style=\"vector-effect: non-scaling-stroke; opacity: 1; stroke-width: 0px; fill: rgb(99, 110, 250); fill-opacity: 1;\"/></g><g class=\"point\"><path d=\"M180,360V219.49H182.07V360Z\" style=\"vector-effect: non-scaling-stroke; opacity: 1; stroke-width: 0px; fill: rgb(99, 110, 250); fill-opacity: 1;\"/></g><g class=\"point\"><path d=\"M182.07,360V220.35H184.14V360Z\" style=\"vector-effect: non-scaling-stroke; opacity: 1; stroke-width: 0px; fill: rgb(99, 110, 250); fill-opacity: 1;\"/></g><g class=\"point\"><path d=\"M184.14,360V226.7H186.21V360Z\" style=\"vector-effect: non-scaling-stroke; opacity: 1; stroke-width: 0px; fill: rgb(99, 110, 250); fill-opacity: 1;\"/></g><g class=\"point\"><path d=\"M186.21,360V228.94H188.28V360Z\" style=\"vector-effect: non-scaling-stroke; opacity: 1; stroke-width: 0px; fill: rgb(99, 110, 250); fill-opacity: 1;\"/></g><g class=\"point\"><path d=\"M188.28,360V223.1H190.34V360Z\" style=\"vector-effect: non-scaling-stroke; opacity: 1; stroke-width: 0px; fill: rgb(99, 110, 250); fill-opacity: 1;\"/></g><g class=\"point\"><path d=\"M190.34,360V236.15H192.41V360Z\" style=\"vector-effect: non-scaling-stroke; opacity: 1; stroke-width: 0px; fill: rgb(99, 110, 250); fill-opacity: 1;\"/></g><g class=\"point\"><path d=\"M192.41,360V236.5H194.48V360Z\" style=\"vector-effect: non-scaling-stroke; opacity: 1; stroke-width: 0px; fill: rgb(99, 110, 250); fill-opacity: 1;\"/></g><g class=\"point\"><path d=\"M194.48,360V233.06H196.55V360Z\" style=\"vector-effect: non-scaling-stroke; opacity: 1; stroke-width: 0px; fill: rgb(99, 110, 250); fill-opacity: 1;\"/></g><g class=\"point\"><path d=\"M196.55,360V238.73H198.62V360Z\" style=\"vector-effect: non-scaling-stroke; opacity: 1; stroke-width: 0px; fill: rgb(99, 110, 250); fill-opacity: 1;\"/></g><g class=\"point\"><path d=\"M198.62,360V243.88H200.69V360Z\" style=\"vector-effect: non-scaling-stroke; opacity: 1; stroke-width: 0px; fill: rgb(99, 110, 250); fill-opacity: 1;\"/></g><g class=\"point\"><path d=\"M200.69,360V242.16H202.76V360Z\" style=\"vector-effect: non-scaling-stroke; opacity: 1; stroke-width: 0px; fill: rgb(99, 110, 250); fill-opacity: 1;\"/></g><g class=\"point\"><path d=\"M202.76,360V241.3H204.83V360Z\" style=\"vector-effect: non-scaling-stroke; opacity: 1; stroke-width: 0px; fill: rgb(99, 110, 250); fill-opacity: 1;\"/></g><g class=\"point\"><path d=\"M204.83,360V247.49H206.9V360Z\" style=\"vector-effect: non-scaling-stroke; opacity: 1; stroke-width: 0px; fill: rgb(99, 110, 250); fill-opacity: 1;\"/></g><g class=\"point\"><path d=\"M206.9,360V253.33H208.97V360Z\" style=\"vector-effect: non-scaling-stroke; opacity: 1; stroke-width: 0px; fill: rgb(99, 110, 250); fill-opacity: 1;\"/></g><g class=\"point\"><path d=\"M208.97,360V247.83H211.03V360Z\" style=\"vector-effect: non-scaling-stroke; opacity: 1; stroke-width: 0px; fill: rgb(99, 110, 250); fill-opacity: 1;\"/></g><g class=\"point\"><path d=\"M211.03,360V256.94H213.1V360Z\" style=\"vector-effect: non-scaling-stroke; opacity: 1; stroke-width: 0px; fill: rgb(99, 110, 250); fill-opacity: 1;\"/></g><g class=\"point\"><path d=\"M213.1,360V256.25H215.17V360Z\" style=\"vector-effect: non-scaling-stroke; opacity: 1; stroke-width: 0px; fill: rgb(99, 110, 250); fill-opacity: 1;\"/></g><g class=\"point\"><path d=\"M215.17,360V266.04H217.24V360Z\" style=\"vector-effect: non-scaling-stroke; opacity: 1; stroke-width: 0px; fill: rgb(99, 110, 250); fill-opacity: 1;\"/></g><g class=\"point\"><path d=\"M217.24,360V260.89H219.31V360Z\" style=\"vector-effect: non-scaling-stroke; opacity: 1; stroke-width: 0px; fill: rgb(99, 110, 250); fill-opacity: 1;\"/></g><g class=\"point\"><path d=\"M219.31,360V264.15H221.38V360Z\" style=\"vector-effect: non-scaling-stroke; opacity: 1; stroke-width: 0px; fill: rgb(99, 110, 250); fill-opacity: 1;\"/></g><g class=\"point\"><path d=\"M221.38,360V274.46H223.45V360Z\" style=\"vector-effect: non-scaling-stroke; opacity: 1; stroke-width: 0px; fill: rgb(99, 110, 250); fill-opacity: 1;\"/></g><g class=\"point\"><path d=\"M223.45,360V276.52H225.52V360Z\" style=\"vector-effect: non-scaling-stroke; opacity: 1; stroke-width: 0px; fill: rgb(99, 110, 250); fill-opacity: 1;\"/></g><g class=\"point\"><path d=\"M225.52,360V284.25H227.59V360Z\" style=\"vector-effect: non-scaling-stroke; opacity: 1; stroke-width: 0px; fill: rgb(99, 110, 250); fill-opacity: 1;\"/></g><g class=\"point\"><path d=\"M227.59,360V280.3H229.66V360Z\" style=\"vector-effect: non-scaling-stroke; opacity: 1; stroke-width: 0px; fill: rgb(99, 110, 250); fill-opacity: 1;\"/></g><g class=\"point\"><path d=\"M229.66,360V286.65H231.72V360Z\" style=\"vector-effect: non-scaling-stroke; opacity: 1; stroke-width: 0px; fill: rgb(99, 110, 250); fill-opacity: 1;\"/></g><g class=\"point\"><path d=\"M231.72,360V294.04H233.79V360Z\" style=\"vector-effect: non-scaling-stroke; opacity: 1; stroke-width: 0px; fill: rgb(99, 110, 250); fill-opacity: 1;\"/></g><g class=\"point\"><path d=\"M233.79,360V297.65H235.86V360Z\" style=\"vector-effect: non-scaling-stroke; opacity: 1; stroke-width: 0px; fill: rgb(99, 110, 250); fill-opacity: 1;\"/></g><g class=\"point\"><path d=\"M235.86,360V292.49H237.93V360Z\" style=\"vector-effect: non-scaling-stroke; opacity: 1; stroke-width: 0px; fill: rgb(99, 110, 250); fill-opacity: 1;\"/></g><g class=\"point\"><path d=\"M237.93,360V296.62H240V360Z\" style=\"vector-effect: non-scaling-stroke; opacity: 1; stroke-width: 0px; fill: rgb(99, 110, 250); fill-opacity: 1;\"/></g><g class=\"point\"><path d=\"M240,360V299.54H242.07V360Z\" style=\"vector-effect: non-scaling-stroke; opacity: 1; stroke-width: 0px; fill: rgb(99, 110, 250); fill-opacity: 1;\"/></g><g class=\"point\"><path d=\"M242.07,360V298.16H244.14V360Z\" style=\"vector-effect: non-scaling-stroke; opacity: 1; stroke-width: 0px; fill: rgb(99, 110, 250); fill-opacity: 1;\"/></g><g class=\"point\"><path d=\"M244.14,360V300.91H246.21V360Z\" style=\"vector-effect: non-scaling-stroke; opacity: 1; stroke-width: 0px; fill: rgb(99, 110, 250); fill-opacity: 1;\"/></g><g class=\"point\"><path d=\"M246.21,360V305.03H248.28V360Z\" style=\"vector-effect: non-scaling-stroke; opacity: 1; stroke-width: 0px; fill: rgb(99, 110, 250); fill-opacity: 1;\"/></g><g class=\"point\"><path d=\"M248.28,360V299.54H250.34V360Z\" style=\"vector-effect: non-scaling-stroke; opacity: 1; stroke-width: 0px; fill: rgb(99, 110, 250); fill-opacity: 1;\"/></g><g class=\"point\"><path d=\"M250.34,360V302.63H252.41V360Z\" style=\"vector-effect: non-scaling-stroke; opacity: 1; stroke-width: 0px; fill: rgb(99, 110, 250); fill-opacity: 1;\"/></g><g class=\"point\"><path d=\"M252.41,360V308.47H254.48V360Z\" style=\"vector-effect: non-scaling-stroke; opacity: 1; stroke-width: 0px; fill: rgb(99, 110, 250); fill-opacity: 1;\"/></g><g class=\"point\"><path d=\"M254.48,360V308.81H256.55V360Z\" style=\"vector-effect: non-scaling-stroke; opacity: 1; stroke-width: 0px; fill: rgb(99, 110, 250); fill-opacity: 1;\"/></g><g class=\"point\"><path d=\"M256.55,360V313.79H258.62V360Z\" style=\"vector-effect: non-scaling-stroke; opacity: 1; stroke-width: 0px; fill: rgb(99, 110, 250); fill-opacity: 1;\"/></g><g class=\"point\"><path d=\"M258.62,360V310.7H260.69V360Z\" style=\"vector-effect: non-scaling-stroke; opacity: 1; stroke-width: 0px; fill: rgb(99, 110, 250); fill-opacity: 1;\"/></g><g class=\"point\"><path d=\"M260.69,360V315.68H262.76V360Z\" style=\"vector-effect: non-scaling-stroke; opacity: 1; stroke-width: 0px; fill: rgb(99, 110, 250); fill-opacity: 1;\"/></g><g class=\"point\"><path d=\"M262.76,360V313.96H264.83V360Z\" style=\"vector-effect: non-scaling-stroke; opacity: 1; stroke-width: 0px; fill: rgb(99, 110, 250); fill-opacity: 1;\"/></g><g class=\"point\"><path d=\"M264.83,360V318.43H266.9V360Z\" style=\"vector-effect: non-scaling-stroke; opacity: 1; stroke-width: 0px; fill: rgb(99, 110, 250); fill-opacity: 1;\"/></g><g class=\"point\"><path d=\"M266.9,360V315.68H268.97V360Z\" style=\"vector-effect: non-scaling-stroke; opacity: 1; stroke-width: 0px; fill: rgb(99, 110, 250); fill-opacity: 1;\"/></g><g class=\"point\"><path d=\"M268.97,360V317.23H271.03V360Z\" style=\"vector-effect: non-scaling-stroke; opacity: 1; stroke-width: 0px; fill: rgb(99, 110, 250); fill-opacity: 1;\"/></g><g class=\"point\"><path d=\"M271.03,360V320.32H273.1V360Z\" style=\"vector-effect: non-scaling-stroke; opacity: 1; stroke-width: 0px; fill: rgb(99, 110, 250); fill-opacity: 1;\"/></g><g class=\"point\"><path d=\"M273.1,360V322.21H275.17V360Z\" style=\"vector-effect: non-scaling-stroke; opacity: 1; stroke-width: 0px; fill: rgb(99, 110, 250); fill-opacity: 1;\"/></g><g class=\"point\"><path d=\"M275.17,360V321.18H277.24V360Z\" style=\"vector-effect: non-scaling-stroke; opacity: 1; stroke-width: 0px; fill: rgb(99, 110, 250); fill-opacity: 1;\"/></g><g class=\"point\"><path d=\"M277.24,360V322.04H279.31V360Z\" style=\"vector-effect: non-scaling-stroke; opacity: 1; stroke-width: 0px; fill: rgb(99, 110, 250); fill-opacity: 1;\"/></g><g class=\"point\"><path d=\"M279.31,360V324.44H281.38V360Z\" style=\"vector-effect: non-scaling-stroke; opacity: 1; stroke-width: 0px; fill: rgb(99, 110, 250); fill-opacity: 1;\"/></g><g class=\"point\"><path d=\"M281.38,360V326.5H283.45V360Z\" style=\"vector-effect: non-scaling-stroke; opacity: 1; stroke-width: 0px; fill: rgb(99, 110, 250); fill-opacity: 1;\"/></g><g class=\"point\"><path d=\"M283.45,360V322.55H285.52V360Z\" style=\"vector-effect: non-scaling-stroke; opacity: 1; stroke-width: 0px; fill: rgb(99, 110, 250); fill-opacity: 1;\"/></g><g class=\"point\"><path d=\"M285.52,360V328.22H287.59V360Z\" style=\"vector-effect: non-scaling-stroke; opacity: 1; stroke-width: 0px; fill: rgb(99, 110, 250); fill-opacity: 1;\"/></g><g class=\"point\"><path d=\"M287.59,360V333.38H289.66V360Z\" style=\"vector-effect: non-scaling-stroke; opacity: 1; stroke-width: 0px; fill: rgb(99, 110, 250); fill-opacity: 1;\"/></g><g class=\"point\"><path d=\"M289.66,360V330.97H291.72V360Z\" style=\"vector-effect: non-scaling-stroke; opacity: 1; stroke-width: 0px; fill: rgb(99, 110, 250); fill-opacity: 1;\"/></g><g class=\"point\"><path d=\"M291.72,360V329.94H293.79V360Z\" style=\"vector-effect: non-scaling-stroke; opacity: 1; stroke-width: 0px; fill: rgb(99, 110, 250); fill-opacity: 1;\"/></g><g class=\"point\"><path d=\"M293.79,360V334.92H295.86V360Z\" style=\"vector-effect: non-scaling-stroke; opacity: 1; stroke-width: 0px; fill: rgb(99, 110, 250); fill-opacity: 1;\"/></g><g class=\"point\"><path d=\"M295.86,360V335.09H297.93V360Z\" style=\"vector-effect: non-scaling-stroke; opacity: 1; stroke-width: 0px; fill: rgb(99, 110, 250); fill-opacity: 1;\"/></g><g class=\"point\"><path d=\"M297.93,360V334.92H300V360Z\" style=\"vector-effect: non-scaling-stroke; opacity: 1; stroke-width: 0px; fill: rgb(99, 110, 250); fill-opacity: 1;\"/></g><g class=\"point\"><path d=\"M300,360V334.75H302.07V360Z\" style=\"vector-effect: non-scaling-stroke; opacity: 1; stroke-width: 0px; fill: rgb(99, 110, 250); fill-opacity: 1;\"/></g><g class=\"point\"><path d=\"M302.07,360V337.84H304.14V360Z\" style=\"vector-effect: non-scaling-stroke; opacity: 1; stroke-width: 0px; fill: rgb(99, 110, 250); fill-opacity: 1;\"/></g><g class=\"point\"><path d=\"M304.14,360V338.01H306.21V360Z\" style=\"vector-effect: non-scaling-stroke; opacity: 1; stroke-width: 0px; fill: rgb(99, 110, 250); fill-opacity: 1;\"/></g><g class=\"point\"><path d=\"M306.21,360V342.48H308.28V360Z\" style=\"vector-effect: non-scaling-stroke; opacity: 1; stroke-width: 0px; fill: rgb(99, 110, 250); fill-opacity: 1;\"/></g><g class=\"point\"><path d=\"M308.28,360V340.42H310.34V360Z\" style=\"vector-effect: non-scaling-stroke; opacity: 1; stroke-width: 0px; fill: rgb(99, 110, 250); fill-opacity: 1;\"/></g><g class=\"point\"><path d=\"M310.34,360V341.62H312.41V360Z\" style=\"vector-effect: non-scaling-stroke; opacity: 1; stroke-width: 0px; fill: rgb(99, 110, 250); fill-opacity: 1;\"/></g><g class=\"point\"><path d=\"M312.41,360V342.65H314.48V360Z\" style=\"vector-effect: non-scaling-stroke; opacity: 1; stroke-width: 0px; fill: rgb(99, 110, 250); fill-opacity: 1;\"/></g><g class=\"point\"><path d=\"M314.48,360V342.14H316.55V360Z\" style=\"vector-effect: non-scaling-stroke; opacity: 1; stroke-width: 0px; fill: rgb(99, 110, 250); fill-opacity: 1;\"/></g><g class=\"point\"><path d=\"M316.55,360V344.54H318.62V360Z\" style=\"vector-effect: non-scaling-stroke; opacity: 1; stroke-width: 0px; fill: rgb(99, 110, 250); fill-opacity: 1;\"/></g><g class=\"point\"><path d=\"M318.62,360V340.42H320.69V360Z\" style=\"vector-effect: non-scaling-stroke; opacity: 1; stroke-width: 0px; fill: rgb(99, 110, 250); fill-opacity: 1;\"/></g><g class=\"point\"><path d=\"M320.69,360V345.91H322.76V360Z\" style=\"vector-effect: non-scaling-stroke; opacity: 1; stroke-width: 0px; fill: rgb(99, 110, 250); fill-opacity: 1;\"/></g><g class=\"point\"><path d=\"M322.76,360V344.88H324.83V360Z\" style=\"vector-effect: non-scaling-stroke; opacity: 1; stroke-width: 0px; fill: rgb(99, 110, 250); fill-opacity: 1;\"/></g><g class=\"point\"><path d=\"M324.83,360V343.34H326.9V360Z\" style=\"vector-effect: non-scaling-stroke; opacity: 1; stroke-width: 0px; fill: rgb(99, 110, 250); fill-opacity: 1;\"/></g><g class=\"point\"><path d=\"M326.9,360V347.8H328.97V360Z\" style=\"vector-effect: non-scaling-stroke; opacity: 1; stroke-width: 0px; fill: rgb(99, 110, 250); fill-opacity: 1;\"/></g><g class=\"point\"><path d=\"M328.97,360V345.91H331.03V360Z\" style=\"vector-effect: non-scaling-stroke; opacity: 1; stroke-width: 0px; fill: rgb(99, 110, 250); fill-opacity: 1;\"/></g><g class=\"point\"><path d=\"M331.03,360V349.52H333.1V360Z\" style=\"vector-effect: non-scaling-stroke; opacity: 1; stroke-width: 0px; fill: rgb(99, 110, 250); fill-opacity: 1;\"/></g><g class=\"point\"><path d=\"M333.1,360V349.69H335.17V360Z\" style=\"vector-effect: non-scaling-stroke; opacity: 1; stroke-width: 0px; fill: rgb(99, 110, 250); fill-opacity: 1;\"/></g><g class=\"point\"><path d=\"M335.17,360V350.04H337.24V360Z\" style=\"vector-effect: non-scaling-stroke; opacity: 1; stroke-width: 0px; fill: rgb(99, 110, 250); fill-opacity: 1;\"/></g><g class=\"point\"><path d=\"M337.24,360V348.15H339.31V360Z\" style=\"vector-effect: non-scaling-stroke; opacity: 1; stroke-width: 0px; fill: rgb(99, 110, 250); fill-opacity: 1;\"/></g><g class=\"point\"><path d=\"M339.31,360V348.66H341.38V360Z\" style=\"vector-effect: non-scaling-stroke; opacity: 1; stroke-width: 0px; fill: rgb(99, 110, 250); fill-opacity: 1;\"/></g><g class=\"point\"><path d=\"M341.38,360V348.15H343.45V360Z\" style=\"vector-effect: non-scaling-stroke; opacity: 1; stroke-width: 0px; fill: rgb(99, 110, 250); fill-opacity: 1;\"/></g><g class=\"point\"><path d=\"M343.45,360V348.32H345.52V360Z\" style=\"vector-effect: non-scaling-stroke; opacity: 1; stroke-width: 0px; fill: rgb(99, 110, 250); fill-opacity: 1;\"/></g><g class=\"point\"><path d=\"M345.52,360V352.27H347.59V360Z\" style=\"vector-effect: non-scaling-stroke; opacity: 1; stroke-width: 0px; fill: rgb(99, 110, 250); fill-opacity: 1;\"/></g><g class=\"point\"><path d=\"M347.59,360V349.69H349.66V360Z\" style=\"vector-effect: non-scaling-stroke; opacity: 1; stroke-width: 0px; fill: rgb(99, 110, 250); fill-opacity: 1;\"/></g><g class=\"point\"><path d=\"M349.66,360V351.07H351.72V360Z\" style=\"vector-effect: non-scaling-stroke; opacity: 1; stroke-width: 0px; fill: rgb(99, 110, 250); fill-opacity: 1;\"/></g><g class=\"point\"><path d=\"M351.72,360V351.24H353.79V360Z\" style=\"vector-effect: non-scaling-stroke; opacity: 1; stroke-width: 0px; fill: rgb(99, 110, 250); fill-opacity: 1;\"/></g><g class=\"point\"><path d=\"M353.79,360V350.72H355.86V360Z\" style=\"vector-effect: non-scaling-stroke; opacity: 1; stroke-width: 0px; fill: rgb(99, 110, 250); fill-opacity: 1;\"/></g><g class=\"point\"><path d=\"M355.86,360V353.64H357.93V360Z\" style=\"vector-effect: non-scaling-stroke; opacity: 1; stroke-width: 0px; fill: rgb(99, 110, 250); fill-opacity: 1;\"/></g><g class=\"point\"><path d=\"M357.93,360V349.52H360V360Z\" style=\"vector-effect: non-scaling-stroke; opacity: 1; stroke-width: 0px; fill: rgb(99, 110, 250); fill-opacity: 1;\"/></g><g class=\"point\"><path d=\"M360,360V352.79H362.07V360Z\" style=\"vector-effect: non-scaling-stroke; opacity: 1; stroke-width: 0px; fill: rgb(99, 110, 250); fill-opacity: 1;\"/></g><g class=\"point\"><path d=\"M362.07,360V352.61H364.14V360Z\" style=\"vector-effect: non-scaling-stroke; opacity: 1; stroke-width: 0px; fill: rgb(99, 110, 250); fill-opacity: 1;\"/></g><g class=\"point\"><path d=\"M364.14,360V355.71H366.21V360Z\" style=\"vector-effect: non-scaling-stroke; opacity: 1; stroke-width: 0px; fill: rgb(99, 110, 250); fill-opacity: 1;\"/></g><g class=\"point\"><path d=\"M366.21,360V355.36H368.28V360Z\" style=\"vector-effect: non-scaling-stroke; opacity: 1; stroke-width: 0px; fill: rgb(99, 110, 250); fill-opacity: 1;\"/></g><g class=\"point\"><path d=\"M368.28,360V354.33H370.34V360Z\" style=\"vector-effect: non-scaling-stroke; opacity: 1; stroke-width: 0px; fill: rgb(99, 110, 250); fill-opacity: 1;\"/></g><g class=\"point\"><path d=\"M370.34,360V352.27H372.41V360Z\" style=\"vector-effect: non-scaling-stroke; opacity: 1; stroke-width: 0px; fill: rgb(99, 110, 250); fill-opacity: 1;\"/></g><g class=\"point\"><path d=\"M372.41,360V354.68H374.48V360Z\" style=\"vector-effect: non-scaling-stroke; opacity: 1; stroke-width: 0px; fill: rgb(99, 110, 250); fill-opacity: 1;\"/></g><g class=\"point\"><path d=\"M374.48,360V353.3H376.55V360Z\" style=\"vector-effect: non-scaling-stroke; opacity: 1; stroke-width: 0px; fill: rgb(99, 110, 250); fill-opacity: 1;\"/></g><g class=\"point\"><path d=\"M376.55,360V354.85H378.62V360Z\" style=\"vector-effect: non-scaling-stroke; opacity: 1; stroke-width: 0px; fill: rgb(99, 110, 250); fill-opacity: 1;\"/></g><g class=\"point\"><path d=\"M378.62,360V355.53H380.69V360Z\" style=\"vector-effect: non-scaling-stroke; opacity: 1; stroke-width: 0px; fill: rgb(99, 110, 250); fill-opacity: 1;\"/></g><g class=\"point\"><path d=\"M380.69,360V355.71H382.76V360Z\" style=\"vector-effect: non-scaling-stroke; opacity: 1; stroke-width: 0px; fill: rgb(99, 110, 250); fill-opacity: 1;\"/></g><g class=\"point\"><path d=\"M382.76,360V356.39H384.83V360Z\" style=\"vector-effect: non-scaling-stroke; opacity: 1; stroke-width: 0px; fill: rgb(99, 110, 250); fill-opacity: 1;\"/></g><g class=\"point\"><path d=\"M384.83,360V355.88H386.9V360Z\" style=\"vector-effect: non-scaling-stroke; opacity: 1; stroke-width: 0px; fill: rgb(99, 110, 250); fill-opacity: 1;\"/></g><g class=\"point\"><path d=\"M386.9,360V355.36H388.97V360Z\" style=\"vector-effect: non-scaling-stroke; opacity: 1; stroke-width: 0px; fill: rgb(99, 110, 250); fill-opacity: 1;\"/></g><g class=\"point\"><path d=\"M388.97,360V356.91H391.03V360Z\" style=\"vector-effect: non-scaling-stroke; opacity: 1; stroke-width: 0px; fill: rgb(99, 110, 250); fill-opacity: 1;\"/></g><g class=\"point\"><path d=\"M391.03,360V357.08H393.1V360Z\" style=\"vector-effect: non-scaling-stroke; opacity: 1; stroke-width: 0px; fill: rgb(99, 110, 250); fill-opacity: 1;\"/></g><g class=\"point\"><path d=\"M393.1,360V354.5H395.17V360Z\" style=\"vector-effect: non-scaling-stroke; opacity: 1; stroke-width: 0px; fill: rgb(99, 110, 250); fill-opacity: 1;\"/></g><g class=\"point\"><path d=\"M395.17,360V355.88H397.24V360Z\" style=\"vector-effect: non-scaling-stroke; opacity: 1; stroke-width: 0px; fill: rgb(99, 110, 250); fill-opacity: 1;\"/></g><g class=\"point\"><path d=\"M397.24,360V357.25H399.31V360Z\" style=\"vector-effect: non-scaling-stroke; opacity: 1; stroke-width: 0px; fill: rgb(99, 110, 250); fill-opacity: 1;\"/></g><g class=\"point\"><path d=\"M399.31,360V356.91H401.38V360Z\" style=\"vector-effect: non-scaling-stroke; opacity: 1; stroke-width: 0px; fill: rgb(99, 110, 250); fill-opacity: 1;\"/></g><g class=\"point\"><path d=\"M401.38,360V356.56H403.45V360Z\" style=\"vector-effect: non-scaling-stroke; opacity: 1; stroke-width: 0px; fill: rgb(99, 110, 250); fill-opacity: 1;\"/></g><g class=\"point\"><path d=\"M403.45,360V357.25H405.52V360Z\" style=\"vector-effect: non-scaling-stroke; opacity: 1; stroke-width: 0px; fill: rgb(99, 110, 250); fill-opacity: 1;\"/></g><g class=\"point\"><path d=\"M405.52,360V357.42H407.59V360Z\" style=\"vector-effect: non-scaling-stroke; opacity: 1; stroke-width: 0px; fill: rgb(99, 110, 250); fill-opacity: 1;\"/></g><g class=\"point\"><path d=\"M407.59,360V358.8H409.66V360Z\" style=\"vector-effect: non-scaling-stroke; opacity: 1; stroke-width: 0px; fill: rgb(99, 110, 250); fill-opacity: 1;\"/></g><g class=\"point\"><path d=\"M409.66,360V358.11H411.72V360Z\" style=\"vector-effect: non-scaling-stroke; opacity: 1; stroke-width: 0px; fill: rgb(99, 110, 250); fill-opacity: 1;\"/></g><g class=\"point\"><path d=\"M411.72,360V358.11H413.79V360Z\" style=\"vector-effect: non-scaling-stroke; opacity: 1; stroke-width: 0px; fill: rgb(99, 110, 250); fill-opacity: 1;\"/></g><g class=\"point\"><path d=\"M413.79,360V356.56H415.86V360Z\" style=\"vector-effect: non-scaling-stroke; opacity: 1; stroke-width: 0px; fill: rgb(99, 110, 250); fill-opacity: 1;\"/></g><g class=\"point\"><path d=\"M415.86,360V358.45H417.93V360Z\" style=\"vector-effect: non-scaling-stroke; opacity: 1; stroke-width: 0px; fill: rgb(99, 110, 250); fill-opacity: 1;\"/></g><g class=\"point\"><path d=\"M417.93,360V357.94H420V360Z\" style=\"vector-effect: non-scaling-stroke; opacity: 1; stroke-width: 0px; fill: rgb(99, 110, 250); fill-opacity: 1;\"/></g><g class=\"point\"><path d=\"M420,360V357.94H422.07V360Z\" style=\"vector-effect: non-scaling-stroke; opacity: 1; stroke-width: 0px; fill: rgb(99, 110, 250); fill-opacity: 1;\"/></g><g class=\"point\"><path d=\"M422.07,360V358.45H424.14V360Z\" style=\"vector-effect: non-scaling-stroke; opacity: 1; stroke-width: 0px; fill: rgb(99, 110, 250); fill-opacity: 1;\"/></g><g class=\"point\"><path d=\"M424.14,360V358.97H426.21V360Z\" style=\"vector-effect: non-scaling-stroke; opacity: 1; stroke-width: 0px; fill: rgb(99, 110, 250); fill-opacity: 1;\"/></g><g class=\"point\"><path d=\"M426.21,360V357.6H428.28V360Z\" style=\"vector-effect: non-scaling-stroke; opacity: 1; stroke-width: 0px; fill: rgb(99, 110, 250); fill-opacity: 1;\"/></g><g class=\"point\"><path d=\"M428.28,360V358.97H430.34V360Z\" style=\"vector-effect: non-scaling-stroke; opacity: 1; stroke-width: 0px; fill: rgb(99, 110, 250); fill-opacity: 1;\"/></g><g class=\"point\"><path d=\"M430.34,360V359.14H432.41V360Z\" style=\"vector-effect: non-scaling-stroke; opacity: 1; stroke-width: 0px; fill: rgb(99, 110, 250); fill-opacity: 1;\"/></g><g class=\"point\"><path d=\"M432.41,360V359.31H434.48V360Z\" style=\"vector-effect: non-scaling-stroke; opacity: 1; stroke-width: 0px; fill: rgb(99, 110, 250); fill-opacity: 1;\"/></g><g class=\"point\"><path d=\"M434.48,360V358.28H436.55V360Z\" style=\"vector-effect: non-scaling-stroke; opacity: 1; stroke-width: 0px; fill: rgb(99, 110, 250); fill-opacity: 1;\"/></g><g class=\"point\"><path d=\"M436.55,360V359.31H438.62V360Z\" style=\"vector-effect: non-scaling-stroke; opacity: 1; stroke-width: 0px; fill: rgb(99, 110, 250); fill-opacity: 1;\"/></g><g class=\"point\"><path d=\"M438.62,360V359.31H440.69V360Z\" style=\"vector-effect: non-scaling-stroke; opacity: 1; stroke-width: 0px; fill: rgb(99, 110, 250); fill-opacity: 1;\"/></g><g class=\"point\"><path d=\"M440.69,360V358.97H442.76V360Z\" style=\"vector-effect: non-scaling-stroke; opacity: 1; stroke-width: 0px; fill: rgb(99, 110, 250); fill-opacity: 1;\"/></g><g class=\"point\"><path d=\"M442.76,360V359.31H444.83V360Z\" style=\"vector-effect: non-scaling-stroke; opacity: 1; stroke-width: 0px; fill: rgb(99, 110, 250); fill-opacity: 1;\"/></g><g class=\"point\"><path d=\"M444.83,360V358.8H446.9V360Z\" style=\"vector-effect: non-scaling-stroke; opacity: 1; stroke-width: 0px; fill: rgb(99, 110, 250); fill-opacity: 1;\"/></g><g class=\"point\"><path d=\"M446.9,360V359.48H448.97V360Z\" style=\"vector-effect: non-scaling-stroke; opacity: 1; stroke-width: 0px; fill: rgb(99, 110, 250); fill-opacity: 1;\"/></g><g class=\"point\"><path d=\"M448.97,360V359.48H451.03V360Z\" style=\"vector-effect: non-scaling-stroke; opacity: 1; stroke-width: 0px; fill: rgb(99, 110, 250); fill-opacity: 1;\"/></g><g class=\"point\"><path d=\"M451.03,360V358.97H453.1V360Z\" style=\"vector-effect: non-scaling-stroke; opacity: 1; stroke-width: 0px; fill: rgb(99, 110, 250); fill-opacity: 1;\"/></g><g class=\"point\"><path d=\"M453.1,360V359.14H455.17V360Z\" style=\"vector-effect: non-scaling-stroke; opacity: 1; stroke-width: 0px; fill: rgb(99, 110, 250); fill-opacity: 1;\"/></g><g class=\"point\"><path d=\"M455.17,360V359.48H457.24V360Z\" style=\"vector-effect: non-scaling-stroke; opacity: 1; stroke-width: 0px; fill: rgb(99, 110, 250); fill-opacity: 1;\"/></g><g class=\"point\"><path d=\"M457.24,360V358.97H459.31V360Z\" style=\"vector-effect: non-scaling-stroke; opacity: 1; stroke-width: 0px; fill: rgb(99, 110, 250); fill-opacity: 1;\"/></g><g class=\"point\"><path d=\"M459.31,360V359.66H461.38V360Z\" style=\"vector-effect: non-scaling-stroke; opacity: 1; stroke-width: 0px; fill: rgb(99, 110, 250); fill-opacity: 1;\"/></g><g class=\"point\"><path d=\"M461.38,360V359.83H463.45V360Z\" style=\"vector-effect: non-scaling-stroke; opacity: 1; stroke-width: 0px; fill: rgb(99, 110, 250); fill-opacity: 1;\"/></g><g class=\"point\"><path d=\"M463.45,360V359.31H465.52V360Z\" style=\"vector-effect: non-scaling-stroke; opacity: 1; stroke-width: 0px; fill: rgb(99, 110, 250); fill-opacity: 1;\"/></g><g class=\"point\"><path d=\"M465.52,360V358.97H467.59V360Z\" style=\"vector-effect: non-scaling-stroke; opacity: 1; stroke-width: 0px; fill: rgb(99, 110, 250); fill-opacity: 1;\"/></g><g class=\"point\"><path d=\"M467.59,360V359.66H469.66V360Z\" style=\"vector-effect: non-scaling-stroke; opacity: 1; stroke-width: 0px; fill: rgb(99, 110, 250); fill-opacity: 1;\"/></g><g class=\"point\"><path d=\"M0,0Z\" style=\"vector-effect: non-scaling-stroke; opacity: 1; stroke-width: 0px; fill: rgb(99, 110, 250); fill-opacity: 1;\"/></g><g class=\"point\"><path d=\"M471.72,360V359.66H473.79V360Z\" style=\"vector-effect: non-scaling-stroke; opacity: 1; stroke-width: 0px; fill: rgb(99, 110, 250); fill-opacity: 1;\"/></g><g class=\"point\"><path d=\"M473.79,360V359.31H475.86V360Z\" style=\"vector-effect: non-scaling-stroke; opacity: 1; stroke-width: 0px; fill: rgb(99, 110, 250); fill-opacity: 1;\"/></g><g class=\"point\"><path d=\"M475.86,360V359.83H477.93V360Z\" style=\"vector-effect: non-scaling-stroke; opacity: 1; stroke-width: 0px; fill: rgb(99, 110, 250); fill-opacity: 1;\"/></g><g class=\"point\"><path d=\"M477.93,360V359.48H480V360Z\" style=\"vector-effect: non-scaling-stroke; opacity: 1; stroke-width: 0px; fill: rgb(99, 110, 250); fill-opacity: 1;\"/></g><g class=\"point\"><path d=\"M480,360V359.66H482.07V360Z\" style=\"vector-effect: non-scaling-stroke; opacity: 1; stroke-width: 0px; fill: rgb(99, 110, 250); fill-opacity: 1;\"/></g><g class=\"point\"><path d=\"M482.07,360V359.66H484.14V360Z\" style=\"vector-effect: non-scaling-stroke; opacity: 1; stroke-width: 0px; fill: rgb(99, 110, 250); fill-opacity: 1;\"/></g><g class=\"point\"><path d=\"M484.14,360V359.83H486.21V360Z\" style=\"vector-effect: non-scaling-stroke; opacity: 1; stroke-width: 0px; fill: rgb(99, 110, 250); fill-opacity: 1;\"/></g><g class=\"point\"><path d=\"M486.21,360V359.14H488.28V360Z\" style=\"vector-effect: non-scaling-stroke; opacity: 1; stroke-width: 0px; fill: rgb(99, 110, 250); fill-opacity: 1;\"/></g><g class=\"point\"><path d=\"M0,0Z\" style=\"vector-effect: non-scaling-stroke; opacity: 1; stroke-width: 0px; fill: rgb(99, 110, 250); fill-opacity: 1;\"/></g><g class=\"point\"><path d=\"M0,0Z\" style=\"vector-effect: non-scaling-stroke; opacity: 1; stroke-width: 0px; fill: rgb(99, 110, 250); fill-opacity: 1;\"/></g><g class=\"point\"><path d=\"M492.41,360V359.66H494.48V360Z\" style=\"vector-effect: non-scaling-stroke; opacity: 1; stroke-width: 0px; fill: rgb(99, 110, 250); fill-opacity: 1;\"/></g><g class=\"point\"><path d=\"M494.48,360V359.66H496.55V360Z\" style=\"vector-effect: non-scaling-stroke; opacity: 1; stroke-width: 0px; fill: rgb(99, 110, 250); fill-opacity: 1;\"/></g><g class=\"point\"><path d=\"M496.55,360V359.66H498.62V360Z\" style=\"vector-effect: non-scaling-stroke; opacity: 1; stroke-width: 0px; fill: rgb(99, 110, 250); fill-opacity: 1;\"/></g><g class=\"point\"><path d=\"M498.62,360V359.83H500.69V360Z\" style=\"vector-effect: non-scaling-stroke; opacity: 1; stroke-width: 0px; fill: rgb(99, 110, 250); fill-opacity: 1;\"/></g><g class=\"point\"><path d=\"M0,0Z\" style=\"vector-effect: non-scaling-stroke; opacity: 1; stroke-width: 0px; fill: rgb(99, 110, 250); fill-opacity: 1;\"/></g><g class=\"point\"><path d=\"M502.76,360V359.66H504.83V360Z\" style=\"vector-effect: non-scaling-stroke; opacity: 1; stroke-width: 0px; fill: rgb(99, 110, 250); fill-opacity: 1;\"/></g><g class=\"point\"><path d=\"M504.83,360V359.83H506.9V360Z\" style=\"vector-effect: non-scaling-stroke; opacity: 1; stroke-width: 0px; fill: rgb(99, 110, 250); fill-opacity: 1;\"/></g><g class=\"point\"><path d=\"M506.9,360V359.66H508.97V360Z\" style=\"vector-effect: non-scaling-stroke; opacity: 1; stroke-width: 0px; fill: rgb(99, 110, 250); fill-opacity: 1;\"/></g><g class=\"point\"><path d=\"M508.97,360V359.66H511.03V360Z\" style=\"vector-effect: non-scaling-stroke; opacity: 1; stroke-width: 0px; fill: rgb(99, 110, 250); fill-opacity: 1;\"/></g><g class=\"point\"><path d=\"M511.03,360V359.83H513.1V360Z\" style=\"vector-effect: non-scaling-stroke; opacity: 1; stroke-width: 0px; fill: rgb(99, 110, 250); fill-opacity: 1;\"/></g><g class=\"point\"><path d=\"M513.1,360V359.83H515.17V360Z\" style=\"vector-effect: non-scaling-stroke; opacity: 1; stroke-width: 0px; fill: rgb(99, 110, 250); fill-opacity: 1;\"/></g><g class=\"point\"><path d=\"M515.17,360V359.83H517.24V360Z\" style=\"vector-effect: non-scaling-stroke; opacity: 1; stroke-width: 0px; fill: rgb(99, 110, 250); fill-opacity: 1;\"/></g><g class=\"point\"><path d=\"M517.24,360V359.48H519.31V360Z\" style=\"vector-effect: non-scaling-stroke; opacity: 1; stroke-width: 0px; fill: rgb(99, 110, 250); fill-opacity: 1;\"/></g><g class=\"point\"><path d=\"M519.31,360V359.66H521.38V360Z\" style=\"vector-effect: non-scaling-stroke; opacity: 1; stroke-width: 0px; fill: rgb(99, 110, 250); fill-opacity: 1;\"/></g><g class=\"point\"><path d=\"M521.38,360V359.83H523.45V360Z\" style=\"vector-effect: non-scaling-stroke; opacity: 1; stroke-width: 0px; fill: rgb(99, 110, 250); fill-opacity: 1;\"/></g><g class=\"point\"><path d=\"M523.45,360V359.83H525.52V360Z\" style=\"vector-effect: non-scaling-stroke; opacity: 1; stroke-width: 0px; fill: rgb(99, 110, 250); fill-opacity: 1;\"/></g><g class=\"point\"><path d=\"M525.52,360V359.66H527.59V360Z\" style=\"vector-effect: non-scaling-stroke; opacity: 1; stroke-width: 0px; fill: rgb(99, 110, 250); fill-opacity: 1;\"/></g><g class=\"point\"><path d=\"M0,0Z\" style=\"vector-effect: non-scaling-stroke; opacity: 1; stroke-width: 0px; fill: rgb(99, 110, 250); fill-opacity: 1;\"/></g><g class=\"point\"><path d=\"M529.66,360V359.83H531.72V360Z\" style=\"vector-effect: non-scaling-stroke; opacity: 1; stroke-width: 0px; fill: rgb(99, 110, 250); fill-opacity: 1;\"/></g><g class=\"point\"><path d=\"M531.72,360V359.83H533.79V360Z\" style=\"vector-effect: non-scaling-stroke; opacity: 1; stroke-width: 0px; fill: rgb(99, 110, 250); fill-opacity: 1;\"/></g><g class=\"point\"><path d=\"M0,0Z\" style=\"vector-effect: non-scaling-stroke; opacity: 1; stroke-width: 0px; fill: rgb(99, 110, 250); fill-opacity: 1;\"/></g><g class=\"point\"><path d=\"M535.86,360V359.83H537.93V360Z\" style=\"vector-effect: non-scaling-stroke; opacity: 1; stroke-width: 0px; fill: rgb(99, 110, 250); fill-opacity: 1;\"/></g><g class=\"point\"><path d=\"M537.93,360V359.66H540V360Z\" style=\"vector-effect: non-scaling-stroke; opacity: 1; stroke-width: 0px; fill: rgb(99, 110, 250); fill-opacity: 1;\"/></g></g></g></g></g><g class=\"overplot\"/><path class=\"xlines-above crisp\" d=\"M0,0\" style=\"fill: none;\"/><path class=\"ylines-above crisp\" d=\"M0,0\" style=\"fill: none;\"/><g class=\"overlines-above\"/><g class=\"xaxislayer-above\"><g class=\"xtick\"><text text-anchor=\"middle\" x=\"0\" y=\"433\" transform=\"translate(180.34,0)\" style=\"font-family: 'Open Sans', verdana, arial, sans-serif; font-size: 12px; fill: rgb(42, 63, 95); fill-opacity: 1; white-space: pre; opacity: 1;\"><tspan class=\"line\" dy=\"0em\" x=\"0\" y=\"433\">May 10</tspan><tspan class=\"line\" dy=\"1.3em\" x=\"0\" y=\"433\">2020</tspan></text></g><g class=\"xtick\"><text text-anchor=\"middle\" x=\"0\" y=\"433\" style=\"font-family: 'Open Sans', verdana, arial, sans-serif; font-size: 12px; fill: rgb(42, 63, 95); fill-opacity: 1; white-space: pre; opacity: 1;\" transform=\"translate(296.21000000000004,0)\">May 17</text></g><g class=\"xtick\"><text text-anchor=\"middle\" x=\"0\" y=\"433\" style=\"font-family: 'Open Sans', verdana, arial, sans-serif; font-size: 12px; fill: rgb(42, 63, 95); fill-opacity: 1; white-space: pre; opacity: 1;\" transform=\"translate(412.07,0)\">May 24</text></g><g class=\"xtick\"><text text-anchor=\"middle\" x=\"0\" y=\"433\" style=\"font-family: 'Open Sans', verdana, arial, sans-serif; font-size: 12px; fill: rgb(42, 63, 95); fill-opacity: 1; white-space: pre; opacity: 1;\" transform=\"translate(527.9300000000001,0)\">May 31</text></g></g><g class=\"yaxislayer-above\"><g class=\"ytick\"><text text-anchor=\"end\" x=\"79\" y=\"4.199999999999999\" transform=\"translate(0,420)\" style=\"font-family: 'Open Sans', verdana, arial, sans-serif; font-size: 12px; fill: rgb(42, 63, 95); fill-opacity: 1; white-space: pre; opacity: 1;\">0</text></g><g class=\"ytick\"><text text-anchor=\"end\" x=\"79\" y=\"4.199999999999999\" style=\"font-family: 'Open Sans', verdana, arial, sans-serif; font-size: 12px; fill: rgb(42, 63, 95); fill-opacity: 1; white-space: pre; opacity: 1;\" transform=\"translate(0,334.11)\">500</text></g><g class=\"ytick\"><text text-anchor=\"end\" x=\"79\" y=\"4.199999999999999\" style=\"font-family: 'Open Sans', verdana, arial, sans-serif; font-size: 12px; fill: rgb(42, 63, 95); fill-opacity: 1; white-space: pre; opacity: 1;\" transform=\"translate(0,248.23)\">1000</text></g><g class=\"ytick\"><text text-anchor=\"end\" x=\"79\" y=\"4.199999999999999\" style=\"font-family: 'Open Sans', verdana, arial, sans-serif; font-size: 12px; fill: rgb(42, 63, 95); fill-opacity: 1; white-space: pre; opacity: 1;\" transform=\"translate(0,162.34)\">1500</text></g><g class=\"ytick\"><text text-anchor=\"end\" x=\"79\" y=\"4.199999999999999\" style=\"font-family: 'Open Sans', verdana, arial, sans-serif; font-size: 12px; fill: rgb(42, 63, 95); fill-opacity: 1; white-space: pre; opacity: 1;\" transform=\"translate(0,76.45)\">2000</text></g></g><g class=\"overaxes-above\"/></g></g><g class=\"polarlayer\"/><g class=\"ternarylayer\"/><g class=\"geolayer\"/><g class=\"funnelarealayer\"/><g class=\"pielayer\"/><g class=\"iciclelayer\"/><g class=\"treemaplayer\"/><g class=\"sunburstlayer\"/><g class=\"glimages\"/><defs id=\"topdefs-18c568\"><g class=\"clips\"/></defs><g class=\"layer-above\"><g class=\"imagelayer\"/><g class=\"shapelayer\"/></g><g class=\"infolayer\"><g class=\"g-gtitle\"><text class=\"gtitle\" x=\"35\" y=\"30\" text-anchor=\"start\" dy=\"0em\" style=\"font-family: 'Open Sans', verdana, arial, sans-serif; font-size: 17px; fill: rgb(42, 63, 95); opacity: 1; font-weight: normal; white-space: pre;\">Гистограмма по количеству событий по дате и времени</text></g><g class=\"g-xtitle\"><text class=\"xtitle\" x=\"350\" y=\"476.409375\" text-anchor=\"middle\" style=\"font-family: 'Open Sans', verdana, arial, sans-serif; font-size: 14px; fill: rgb(42, 63, 95); opacity: 1; font-weight: normal; white-space: pre;\">Дата</text></g><g class=\"g-ytitle\"><text class=\"ytitle\" transform=\"rotate(-90,23.684375000000003,240)\" x=\"23.684375000000003\" y=\"240\" text-anchor=\"middle\" style=\"font-family: 'Open Sans', verdana, arial, sans-serif; font-size: 14px; fill: rgb(42, 63, 95); opacity: 1; font-weight: normal; white-space: pre;\">Количество событий</text></g></g></svg>"
      ]
     },
     "metadata": {},
     "output_type": "display_data"
    }
   ],
   "source": [
    "#Группириуем данные по дате \n",
    "eventNumberCount = game_actions.groupby('event_datetime').agg({'event': 'count'}).reset_index()\n",
    "\n",
    "#Строим гистограмму\n",
    "fig = px.histogram(eventNumberCount, x=\"event_datetime\", y=\"event\")\n",
    "fig.update_layout(\n",
    "    title = 'Гистограмма по количеству событий по дате и времени',\n",
    "    xaxis_title=\"Дата\",\n",
    "    yaxis_title=\"Количество событий\")\n",
    "fig.show(renderer='svg')"
   ]
  },
  {
   "cell_type": "markdown",
   "metadata": {},
   "source": [
    "Теперь перейдем к анализу ресурсов, для этого мы сгруппируем данные по ресурсам по их количеству. Построим для этого график. На основе полученных данных можно говорить, что наиболее популярными источниками, по которому люди переходят в игру являются yandex_direct (35,5% от общей доли источников) и инстаграм (24,7% от общей доли источников)."
   ]
  },
  {
   "cell_type": "code",
   "execution_count": 15,
   "metadata": {},
   "outputs": [
    {
     "data": {
      "image/svg+xml": [
       "<svg class=\"main-svg\" xmlns=\"http://www.w3.org/2000/svg\" xmlns:xlink=\"http://www.w3.org/1999/xlink\" width=\"700\" height=\"500\" style=\"\" viewBox=\"0 0 700 500\"><rect x=\"0\" y=\"0\" width=\"700\" height=\"500\" style=\"fill: rgb(255, 255, 255); fill-opacity: 1;\"/><defs id=\"defs-9c7a8f\"><g class=\"clips\"><clipPath id=\"clip9c7a8fxyplot\" class=\"plotclip\"><rect width=\"341\" height=\"309\"/></clipPath><clipPath class=\"axesclip\" id=\"clip9c7a8fx\"><rect x=\"80\" y=\"0\" width=\"341\" height=\"500\"/></clipPath><clipPath class=\"axesclip\" id=\"clip9c7a8fy\"><rect x=\"0\" y=\"60\" width=\"700\" height=\"309\"/></clipPath><clipPath class=\"axesclip\" id=\"clip9c7a8fxy\"><rect x=\"80\" y=\"60\" width=\"341\" height=\"309\"/></clipPath></g><g class=\"gradients\"/><g class=\"patterns\"/></defs><g class=\"bglayer\"><rect class=\"bg\" x=\"80\" y=\"60\" width=\"341\" height=\"309\" style=\"fill: rgb(229, 236, 246); fill-opacity: 1; stroke-width: 0;\"/></g><g class=\"layer-below\"><g class=\"imagelayer\"/><g class=\"shapelayer\"/></g><g class=\"cartesianlayer\"><g class=\"subplot xy\"><g class=\"layer-subplot\"><g class=\"shapelayer\"/><g class=\"imagelayer\"/></g><g class=\"gridlayer\"><g class=\"x\"/><g class=\"y\"><path class=\"ygrid crisp\" transform=\"translate(0,308.06)\" d=\"M80,0h341\" style=\"stroke: rgb(255, 255, 255); stroke-opacity: 1; stroke-width: 1px;\"/><path class=\"ygrid crisp\" transform=\"translate(0,247.12)\" d=\"M80,0h341\" style=\"stroke: rgb(255, 255, 255); stroke-opacity: 1; stroke-width: 1px;\"/><path class=\"ygrid crisp\" transform=\"translate(0,186.18)\" d=\"M80,0h341\" style=\"stroke: rgb(255, 255, 255); stroke-opacity: 1; stroke-width: 1px;\"/><path class=\"ygrid crisp\" transform=\"translate(0,125.24)\" d=\"M80,0h341\" style=\"stroke: rgb(255, 255, 255); stroke-opacity: 1; stroke-width: 1px;\"/><path class=\"ygrid crisp\" transform=\"translate(0,64.3)\" d=\"M80,0h341\" style=\"stroke: rgb(255, 255, 255); stroke-opacity: 1; stroke-width: 1px;\"/></g></g><g class=\"zerolinelayer\"><path class=\"yzl zl crisp\" transform=\"translate(0,369)\" d=\"M80,0h341\" style=\"stroke: rgb(255, 255, 255); stroke-opacity: 1; stroke-width: 2px;\"/></g><path class=\"xlines-below\"/><path class=\"ylines-below\"/><g class=\"overlines-below\"/><g class=\"xaxislayer-below\"/><g class=\"yaxislayer-below\"/><g class=\"overaxes-below\"/><g class=\"plot\" transform=\"translate(80,60)\" clip-path=\"url(#clip9c7a8fxyplot)\"><g class=\"barlayer mlayer\"><g class=\"trace bars\" style=\"opacity: 1;\"><g class=\"points\"><g class=\"point\"><path d=\"M8.52,309V15.45H76.72V309Z\" style=\"vector-effect: non-scaling-stroke; opacity: 1; stroke-width: 0.5px; fill: rgb(99, 110, 250); fill-opacity: 1; stroke: rgb(229, 236, 246); stroke-opacity: 1;\"/><text class=\"bartext bartext-inside\" text-anchor=\"middle\" data-notex=\"1\" x=\"0\" y=\"0\" style=\"font-family: 'Open Sans', verdana, arial, sans-serif; font-size: 12px; fill: rgb(255, 255, 255); fill-opacity: 1; white-space: pre;\" transform=\"translate(42.4325,30.45)\">4817</text></g></g></g><g class=\"trace bars\" style=\"opacity: 1;\"><g class=\"points\"><g class=\"point\"><path d=\"M93.78,309V105.03H161.98V309Z\" style=\"vector-effect: non-scaling-stroke; opacity: 1; stroke-width: 0.5px; fill: rgb(239, 85, 59); fill-opacity: 1; stroke: rgb(229, 236, 246); stroke-opacity: 1;\"/><text class=\"bartext bartext-inside\" text-anchor=\"middle\" data-notex=\"1\" x=\"0\" y=\"0\" style=\"font-family: 'Open Sans', verdana, arial, sans-serif; font-size: 12px; fill: rgb(68, 68, 68); fill-opacity: 1; white-space: pre;\" transform=\"translate(127.6925,120.03)\">3347</text></g></g></g><g class=\"trace bars\" style=\"opacity: 1;\"><g class=\"points\"><g class=\"point\"><path d=\"M179.03,309V142.88H247.23V309Z\" style=\"vector-effect: non-scaling-stroke; opacity: 1; stroke-width: 0.5px; fill: rgb(0, 204, 150); fill-opacity: 1; stroke: rgb(229, 236, 246); stroke-opacity: 1;\"/><text class=\"bartext bartext-inside\" text-anchor=\"middle\" data-notex=\"1\" x=\"0\" y=\"0\" style=\"font-family: 'Open Sans', verdana, arial, sans-serif; font-size: 12px; fill: rgb(68, 68, 68); fill-opacity: 1; white-space: pre;\" transform=\"translate(212.9425,157.88)\">2726</text></g></g></g><g class=\"trace bars\" style=\"opacity: 1;\"><g class=\"points\"><g class=\"point\"><path d=\"M264.27,309V145.31H332.48V309Z\" style=\"vector-effect: non-scaling-stroke; opacity: 1; stroke-width: 0.5px; fill: rgb(171, 99, 250); fill-opacity: 1; stroke: rgb(229, 236, 246); stroke-opacity: 1;\"/><text class=\"bartext bartext-inside\" text-anchor=\"middle\" data-notex=\"1\" x=\"0\" y=\"0\" style=\"font-family: 'Open Sans', verdana, arial, sans-serif; font-size: 12px; fill: rgb(68, 68, 68); fill-opacity: 1; white-space: pre;\" transform=\"translate(298.1875,160.31)\">2686</text></g></g></g></g></g><g class=\"overplot\"/><path class=\"xlines-above crisp\" d=\"M0,0\" style=\"fill: none;\"/><path class=\"ylines-above crisp\" d=\"M0,0\" style=\"fill: none;\"/><g class=\"overlines-above\"/><g class=\"xaxislayer-above\"><g class=\"xtick\"><text text-anchor=\"start\" x=\"0\" y=\"382\" transform=\"translate(122.63,0) rotate(30,0,376)\" style=\"font-family: 'Open Sans', verdana, arial, sans-serif; font-size: 12px; fill: rgb(42, 63, 95); fill-opacity: 1; white-space: pre; opacity: 1;\">yandex_direct</text></g><g class=\"xtick\"><text text-anchor=\"start\" x=\"0\" y=\"382\" transform=\"translate(207.88,0) rotate(30,0,376)\" style=\"font-family: 'Open Sans', verdana, arial, sans-serif; font-size: 12px; fill: rgb(42, 63, 95); fill-opacity: 1; white-space: pre; opacity: 1;\">instagram_new_adverts</text></g><g class=\"xtick\"><text text-anchor=\"start\" x=\"0\" y=\"382\" transform=\"translate(293.13,0) rotate(30,0,376)\" style=\"font-family: 'Open Sans', verdana, arial, sans-serif; font-size: 12px; fill: rgb(42, 63, 95); fill-opacity: 1; white-space: pre; opacity: 1;\">facebook_ads</text></g><g class=\"xtick\"><text text-anchor=\"start\" x=\"0\" y=\"382\" transform=\"translate(378.38,0) rotate(30,0,376)\" style=\"font-family: 'Open Sans', verdana, arial, sans-serif; font-size: 12px; fill: rgb(42, 63, 95); fill-opacity: 1; white-space: pre; opacity: 1;\">youtube_channel_reklama</text></g></g><g class=\"yaxislayer-above\"><g class=\"ytick\"><text text-anchor=\"end\" x=\"79\" y=\"4.199999999999999\" transform=\"translate(0,369)\" style=\"font-family: 'Open Sans', verdana, arial, sans-serif; font-size: 12px; fill: rgb(42, 63, 95); fill-opacity: 1; white-space: pre; opacity: 1;\">0</text></g><g class=\"ytick\"><text text-anchor=\"end\" x=\"79\" y=\"4.199999999999999\" style=\"font-family: 'Open Sans', verdana, arial, sans-serif; font-size: 12px; fill: rgb(42, 63, 95); fill-opacity: 1; white-space: pre; opacity: 1;\" transform=\"translate(0,308.06)\">1000</text></g><g class=\"ytick\"><text text-anchor=\"end\" x=\"79\" y=\"4.199999999999999\" style=\"font-family: 'Open Sans', verdana, arial, sans-serif; font-size: 12px; fill: rgb(42, 63, 95); fill-opacity: 1; white-space: pre; opacity: 1;\" transform=\"translate(0,247.12)\">2000</text></g><g class=\"ytick\"><text text-anchor=\"end\" x=\"79\" y=\"4.199999999999999\" style=\"font-family: 'Open Sans', verdana, arial, sans-serif; font-size: 12px; fill: rgb(42, 63, 95); fill-opacity: 1; white-space: pre; opacity: 1;\" transform=\"translate(0,186.18)\">3000</text></g><g class=\"ytick\"><text text-anchor=\"end\" x=\"79\" y=\"4.199999999999999\" style=\"font-family: 'Open Sans', verdana, arial, sans-serif; font-size: 12px; fill: rgb(42, 63, 95); fill-opacity: 1; white-space: pre; opacity: 1;\" transform=\"translate(0,125.24)\">4000</text></g><g class=\"ytick\"><text text-anchor=\"end\" x=\"79\" y=\"4.199999999999999\" style=\"font-family: 'Open Sans', verdana, arial, sans-serif; font-size: 12px; fill: rgb(42, 63, 95); fill-opacity: 1; white-space: pre; opacity: 1;\" transform=\"translate(0,64.3)\">5000</text></g></g><g class=\"overaxes-above\"/></g></g><g class=\"polarlayer\"/><g class=\"ternarylayer\"/><g class=\"geolayer\"/><g class=\"funnelarealayer\"/><g class=\"pielayer\"/><g class=\"iciclelayer\"/><g class=\"treemaplayer\"/><g class=\"sunburstlayer\"/><g class=\"glimages\"/><defs id=\"topdefs-9c7a8f\"><g class=\"clips\"/><clipPath id=\"legend9c7a8f\"><rect width=\"260\" height=\"105\" x=\"0\" y=\"0\"/></clipPath></defs><g class=\"layer-above\"><g class=\"imagelayer\"/><g class=\"shapelayer\"/></g><g class=\"infolayer\"><g class=\"legend\" pointer-events=\"all\" transform=\"translate(427.82,60)\"><rect class=\"bg\" shape-rendering=\"crispEdges\" style=\"stroke: rgb(68, 68, 68); stroke-opacity: 1; fill: rgb(255, 255, 255); fill-opacity: 1; stroke-width: 0px;\" width=\"260\" height=\"105\" x=\"0\" y=\"0\"/><g class=\"scrollbox\" transform=\"\" clip-path=\"url(#legend9c7a8f)\"><text class=\"legendtitletext\" text-anchor=\"start\" x=\"2\" y=\"18.2\" style=\"font-family: 'Open Sans', verdana, arial, sans-serif; font-size: 14px; fill: rgb(42, 63, 95); fill-opacity: 1; white-space: pre;\">source</text><g class=\"groups\" transform=\"\"><g class=\"traces\" transform=\"translate(0,32.7)\" style=\"opacity: 1;\"><text class=\"legendtext\" text-anchor=\"start\" x=\"40\" y=\"4.680000000000001\" style=\"font-family: 'Open Sans', verdana, arial, sans-serif; font-size: 12px; fill: rgb(42, 63, 95); fill-opacity: 1; white-space: pre;\">yandex_direct (35.5%)</text><g class=\"layers\" style=\"opacity: 1;\"><g class=\"legendfill\"/><g class=\"legendlines\"/><g class=\"legendsymbols\"><g class=\"legendpoints\"><path class=\"legendundefined\" d=\"M6,6H-6V-6H6Z\" transform=\"translate(20,0)\" style=\"stroke-width: 0.5px; fill: rgb(99, 110, 250); fill-opacity: 1; stroke: rgb(229, 236, 246); stroke-opacity: 1;\"/></g></g></g><rect class=\"legendtoggle\" x=\"0\" y=\"-9.5\" width=\"254.796875\" height=\"19\" style=\"fill: rgb(0, 0, 0); fill-opacity: 0;\"/></g></g><g class=\"groups\" transform=\"\"><g class=\"traces\" transform=\"translate(0,51.7)\" style=\"opacity: 1;\"><text class=\"legendtext\" text-anchor=\"start\" x=\"40\" y=\"4.680000000000001\" style=\"font-family: 'Open Sans', verdana, arial, sans-serif; font-size: 12px; fill: rgb(42, 63, 95); fill-opacity: 1; white-space: pre;\">instagram_new_adverts (24.7%)</text><g class=\"layers\" style=\"opacity: 1;\"><g class=\"legendfill\"/><g class=\"legendlines\"/><g class=\"legendsymbols\"><g class=\"legendpoints\"><path class=\"legendundefined\" d=\"M6,6H-6V-6H6Z\" transform=\"translate(20,0)\" style=\"stroke-width: 0.5px; fill: rgb(239, 85, 59); fill-opacity: 1; stroke: rgb(229, 236, 246); stroke-opacity: 1;\"/></g></g></g><rect class=\"legendtoggle\" x=\"0\" y=\"-9.5\" width=\"254.796875\" height=\"19\" style=\"fill: rgb(0, 0, 0); fill-opacity: 0;\"/></g></g><g class=\"groups\" transform=\"\"><g class=\"traces\" transform=\"translate(0,70.7)\" style=\"opacity: 1;\"><text class=\"legendtext\" text-anchor=\"start\" x=\"40\" y=\"4.680000000000001\" style=\"font-family: 'Open Sans', verdana, arial, sans-serif; font-size: 12px; fill: rgb(42, 63, 95); fill-opacity: 1; white-space: pre;\">facebook_ads (20.1%)</text><g class=\"layers\" style=\"opacity: 1;\"><g class=\"legendfill\"/><g class=\"legendlines\"/><g class=\"legendsymbols\"><g class=\"legendpoints\"><path class=\"legendundefined\" d=\"M6,6H-6V-6H6Z\" transform=\"translate(20,0)\" style=\"stroke-width: 0.5px; fill: rgb(0, 204, 150); fill-opacity: 1; stroke: rgb(229, 236, 246); stroke-opacity: 1;\"/></g></g></g><rect class=\"legendtoggle\" x=\"0\" y=\"-9.5\" width=\"254.796875\" height=\"19\" style=\"fill: rgb(0, 0, 0); fill-opacity: 0;\"/></g></g><g class=\"groups\" transform=\"\"><g class=\"traces\" transform=\"translate(0,89.7)\" style=\"opacity: 1;\"><text class=\"legendtext\" text-anchor=\"start\" x=\"40\" y=\"4.680000000000001\" style=\"font-family: 'Open Sans', verdana, arial, sans-serif; font-size: 12px; fill: rgb(42, 63, 95); fill-opacity: 1; white-space: pre;\">youtube_channel_reklama (19.8%)</text><g class=\"layers\" style=\"opacity: 1;\"><g class=\"legendfill\"/><g class=\"legendlines\"/><g class=\"legendsymbols\"><g class=\"legendpoints\"><path class=\"legendundefined\" d=\"M6,6H-6V-6H6Z\" transform=\"translate(20,0)\" style=\"stroke-width: 0.5px; fill: rgb(171, 99, 250); fill-opacity: 1; stroke: rgb(229, 236, 246); stroke-opacity: 1;\"/></g></g></g><rect class=\"legendtoggle\" x=\"0\" y=\"-9.5\" width=\"254.796875\" height=\"19\" style=\"fill: rgb(0, 0, 0); fill-opacity: 0;\"/></g></g></g><rect class=\"scrollbar\" rx=\"20\" ry=\"3\" width=\"0\" height=\"0\" style=\"fill: rgb(128, 139, 164); fill-opacity: 1;\" x=\"0\" y=\"0\"/></g><g class=\"g-gtitle\"><text class=\"gtitle\" x=\"35\" y=\"30\" text-anchor=\"start\" dy=\"0em\" style=\"font-family: 'Open Sans', verdana, arial, sans-serif; font-size: 17px; fill: rgb(42, 63, 95); opacity: 1; font-weight: normal; white-space: pre;\">Распределение по ресурсам count</text></g><g class=\"g-xtitle\"><text class=\"xtitle\" x=\"250.5\" y=\"488.3517578125\" text-anchor=\"middle\" style=\"font-family: 'Open Sans', verdana, arial, sans-serif; font-size: 14px; fill: rgb(42, 63, 95); opacity: 1; font-weight: normal; white-space: pre;\">source</text></g><g class=\"g-ytitle\"><text class=\"ytitle\" transform=\"rotate(-90,23.684375000000003,214.5)\" x=\"23.684375000000003\" y=\"214.5\" text-anchor=\"middle\" style=\"font-family: 'Open Sans', verdana, arial, sans-serif; font-size: 14px; fill: rgb(42, 63, 95); opacity: 1; font-weight: normal; white-space: pre;\">Количество</text></g></g></svg>"
      ]
     },
     "metadata": {},
     "output_type": "display_data"
    }
   ],
   "source": [
    "sourceCount = user_source.groupby('source')['user_id'].agg(['count']).reset_index().sort_values(by='count', ascending=False)\n",
    "sourceCount['percent'] = (sourceCount['count'] / sourceCount['count'].sum()*100).round(1).astype('str')+'%'\n",
    "\n",
    "doBar(sourceCount, 'source', 'count', \"Распределение по ресурсам \", 'percent')"
   ]
  },
  {
   "cell_type": "markdown",
   "metadata": {},
   "source": [
    "__Выводы:__\n",
    "- Наиболее популярными объектами выступаем тип постройки __spaceport__ (43,7% в общем доли построенных объектов)  и __assembly_shop__ (40,2% в общем доли построенных объектов). В среднем данные типы постройки строят чуть более 4 раз.\n",
    "- Доля, кто дошел до первого уровня от общего количества пользователей составляет 42.85%, а доля, кто дошел до реализации проекта составляет 13.74%. То есть люди предпочитают убивать врага для прохождения уровня.\n",
    "- Наиболее популярными источниками, по которому люди переходят в игру являются yandex_direct (35,5% от общей доли источников) и инстаграм (24,7% от общей доли источников)."
   ]
  },
  {
   "cell_type": "markdown",
   "metadata": {},
   "source": [
    "## 4. Анализ данных <a name=\"research_analysis\"></a> "
   ]
  },
  {
   "cell_type": "markdown",
   "metadata": {},
   "source": [
    "Проанализируем расходы по источникам."
   ]
  },
  {
   "cell_type": "code",
   "execution_count": 16,
   "metadata": {},
   "outputs": [
    {
     "name": "stdout",
     "output_type": "stream",
     "text": [
      "Общая сумма по источникам составила 7603.576986788022\n"
     ]
    }
   ],
   "source": [
    "cost_total = ad_costs['cost'].sum()\n",
    "print('Общая сумма по источникам составила', cost_total)"
   ]
  },
  {
   "cell_type": "markdown",
   "metadata": {},
   "source": [
    "Построим график по распределению расходов по источникам. Наибольшие расходы приходятся на три источника: yandex_direct (2233), instagram (2161) и facebook (2140). "
   ]
  },
  {
   "cell_type": "code",
   "execution_count": 17,
   "metadata": {},
   "outputs": [
    {
     "data": {
      "image/png": "[encoded data removed]",
      "text/plain": [
       "<Figure size 1296x720 with 1 Axes>"
      ]
     },
     "metadata": {},
     "output_type": "display_data"
    }
   ],
   "source": [
    "costs_source = ad_costs.groupby('source').sum().reset_index()\n",
    "sns.set_style('darkgrid',#задаем стили графикам\n",
    "            {'axes.facecolor': '0.9',\n",
    "            'grid.color': '0.1',\n",
    "            'figure.facecolor': '0.95'})\n",
    "    \n",
    "plt.figure(figsize=(18,10))\n",
    "sns.barplot(data=costs_source, x='source', y='cost')\n",
    "plt.title(\"Сумма расходов по источникам\")\n",
    "plt.xlabel(\"Источник\")\n",
    "plt.ylabel(\"Сумма расходов\");"
   ]
  },
  {
   "cell_type": "markdown",
   "metadata": {},
   "source": [
    "Рассчитаем средний CAC на одного покупателя для каждого источника трафика, для этого разделим стоимость на каждый источник на количество привлеченных клиентов. Самым дорогим источникам по CAC является Facebook (0,78) и instagram (0.64)."
   ]
  },
  {
   "cell_type": "code",
   "execution_count": 18,
   "metadata": {},
   "outputs": [
    {
     "data": {
      "text/html": [
       "<div>\n",
       "<style scoped>\n",
       "    .dataframe tbody tr th:only-of-type {\n",
       "        vertical-align: middle;\n",
       "    }\n",
       "\n",
       "    .dataframe tbody tr th {\n",
       "        vertical-align: top;\n",
       "    }\n",
       "\n",
       "    .dataframe thead th {\n",
       "        text-align: right;\n",
       "    }\n",
       "</style>\n",
       "<table border=\"1\" class=\"dataframe\">\n",
       "  <thead>\n",
       "    <tr style=\"text-align: right;\">\n",
       "      <th></th>\n",
       "      <th>source</th>\n",
       "      <th>cost</th>\n",
       "      <th>count</th>\n",
       "      <th>percent</th>\n",
       "      <th>cac</th>\n",
       "    </tr>\n",
       "  </thead>\n",
       "  <tbody>\n",
       "    <tr>\n",
       "      <th>0</th>\n",
       "      <td>facebook_ads</td>\n",
       "      <td>2140.904643</td>\n",
       "      <td>2726</td>\n",
       "      <td>20.1%</td>\n",
       "      <td>0.785365</td>\n",
       "    </tr>\n",
       "    <tr>\n",
       "      <th>1</th>\n",
       "      <td>instagram_new_adverts</td>\n",
       "      <td>2161.441691</td>\n",
       "      <td>3347</td>\n",
       "      <td>24.7%</td>\n",
       "      <td>0.645785</td>\n",
       "    </tr>\n",
       "    <tr>\n",
       "      <th>2</th>\n",
       "      <td>yandex_direct</td>\n",
       "      <td>2233.111449</td>\n",
       "      <td>4817</td>\n",
       "      <td>35.5%</td>\n",
       "      <td>0.463590</td>\n",
       "    </tr>\n",
       "    <tr>\n",
       "      <th>3</th>\n",
       "      <td>youtube_channel_reklama</td>\n",
       "      <td>1068.119204</td>\n",
       "      <td>2686</td>\n",
       "      <td>19.8%</td>\n",
       "      <td>0.397662</td>\n",
       "    </tr>\n",
       "  </tbody>\n",
       "</table>\n",
       "</div>"
      ],
      "text/plain": [
       "                    source         cost  count percent       cac\n",
       "0             facebook_ads  2140.904643   2726   20.1%  0.785365\n",
       "1    instagram_new_adverts  2161.441691   3347   24.7%  0.645785\n",
       "2            yandex_direct  2233.111449   4817   35.5%  0.463590\n",
       "3  youtube_channel_reklama  1068.119204   2686   19.8%  0.397662"
      ]
     },
     "execution_count": 18,
     "metadata": {},
     "output_type": "execute_result"
    }
   ],
   "source": [
    "costSource = costs_source.merge(sourceCount, on='source')\n",
    "costSource['cac'] = costSource['cost'] / costSource['count']\n",
    "costSource"
   ]
  },
  {
   "cell_type": "markdown",
   "metadata": {},
   "source": [
    "Затем проведем когортный анализ, который позволит нам рассчитать Retention Rate."
   ]
  },
  {
   "cell_type": "markdown",
   "metadata": {},
   "source": [
    "Сгруппируем данные по столбцу __user_id__ методом groupby(). Для каждого пользователя получим дату его первого захода в игру — __'event_datetime'.min()__. Методом __merge()__ объединим датафрейм game_actions и Series first_date по столбцу __customer_id__."
   ]
  },
  {
   "cell_type": "code",
   "execution_count": 19,
   "metadata": {},
   "outputs": [
    {
     "name": "stdout",
     "output_type": "stream",
     "text": [
      "       event_datetime     event  building_type  \\\n",
      "0 2020-05-04 00:00:01  building  assembly_shop   \n",
      "1 2020-05-05 05:20:15  building  assembly_shop   \n",
      "2 2020-05-05 19:24:02  building  assembly_shop   \n",
      "3 2020-05-05 20:59:19  building  assembly_shop   \n",
      "4 2020-05-06 00:52:56  building  assembly_shop   \n",
      "5 2020-05-08 08:16:51  building  assembly_shop   \n",
      "6 2020-05-10 20:27:01  building  assembly_shop   \n",
      "7 2020-05-04 00:00:03  building  assembly_shop   \n",
      "8 2020-05-06 23:49:25  building  assembly_shop   \n",
      "9 2020-05-07 03:56:30  building      spaceport   \n",
      "\n",
      "                                user_id     project_type    first_event_date  \\\n",
      "0  55e92310-cb8e-4754-b622-597e124b03de  no_informations 2020-05-04 00:00:01   \n",
      "1  55e92310-cb8e-4754-b622-597e124b03de  no_informations 2020-05-04 00:00:01   \n",
      "2  55e92310-cb8e-4754-b622-597e124b03de  no_informations 2020-05-04 00:00:01   \n",
      "3  55e92310-cb8e-4754-b622-597e124b03de  no_informations 2020-05-04 00:00:01   \n",
      "4  55e92310-cb8e-4754-b622-597e124b03de  no_informations 2020-05-04 00:00:01   \n",
      "5  55e92310-cb8e-4754-b622-597e124b03de  no_informations 2020-05-04 00:00:01   \n",
      "6  55e92310-cb8e-4754-b622-597e124b03de  no_informations 2020-05-04 00:00:01   \n",
      "7  c07b1c10-f477-44dc-81dc-ec82254b1347  no_informations 2020-05-04 00:00:03   \n",
      "8  c07b1c10-f477-44dc-81dc-ec82254b1347  no_informations 2020-05-04 00:00:03   \n",
      "9  c07b1c10-f477-44dc-81dc-ec82254b1347  no_informations 2020-05-04 00:00:03   \n",
      "\n",
      "  first_event_day event_week  \n",
      "0      2020-05-04 2020-05-04  \n",
      "1      2020-05-04 2020-05-05  \n",
      "2      2020-05-04 2020-05-05  \n",
      "3      2020-05-04 2020-05-05  \n",
      "4      2020-05-04 2020-05-06  \n",
      "5      2020-05-04 2020-05-08  \n",
      "6      2020-05-04 2020-05-10  \n",
      "7      2020-05-04 2020-05-04  \n",
      "8      2020-05-04 2020-05-06  \n",
      "9      2020-05-04 2020-05-07  \n"
     ]
    }
   ],
   "source": [
    "#Группируем данные по столбцу __user_id__ методом groupby().\n",
    "first_date = game_actions.groupby('user_id')[\n",
    "    'event_datetime'\n",
    "].min()\n",
    "\n",
    "#Переименовываем столбец\n",
    "first_date.name = 'first_event_date'\n",
    "\n",
    "#Методом merge() объединим датафрейм game_actions и Series first_date по столбцу 'customer_id':\n",
    "user_activity = game_actions.merge(first_date, on='user_id')\n",
    "\n",
    "#Выделим из столбцов first_event_day и event_week дату без обозначения времени.\n",
    "user_activity['first_event_day'] = user_activity['first_event_date'].astype(\n",
    "    'datetime64[D]'\n",
    ")\n",
    "\n",
    "user_activity['event_week'] = user_activity['event_datetime'].astype('datetime64[D]')\n",
    "print(user_activity.head(10)) "
   ]
  },
  {
   "cell_type": "markdown",
   "metadata": {},
   "source": [
    "Когортой станет столбец __first_event_day__ — день, в котором был сделан первый заход в игру. Сгруппируем данные по этому столбцу и оценим показатели каждой когорты. Применим знакомый метод agg. Ему передают словарь, где ключи — названия столбцов, а значения — агрегирующие функции. Затем находим lifetime когорты, а именно из месяца входа в игру event_week вычитаем месяц когорты first_event_day. Сгруппируем данные по когорте и lifetime и  посчитаем для каждой когорты количество активных пользователей на определённую «неделю жизни». Затем найдём исходное количество пользователей в когорте. Возьмём их число на нулевую неделю и объединим данные по когортам с исходным количеством пользователей в когорте. В заключении построим сводную таблицу и создадим тепловую карту."
   ]
  },
  {
   "cell_type": "code",
   "execution_count": 20,
   "metadata": {},
   "outputs": [
    {
     "data": {
      "image/png": "[encoded data removed]",
      "text/plain": [
       "<Figure size 936x648 with 2 Axes>"
      ]
     },
     "metadata": {},
     "output_type": "display_data"
    }
   ],
   "source": [
    "#Строим когорту\n",
    "cohort_grouped = user_activity.groupby('first_event_day').agg(\n",
    "    {'user_id': 'nunique'}\n",
    ")\n",
    "\n",
    "#Найдём lifetime когорты. Из месяца входа в игру event_week вычтем месяц когорты first_event_day\n",
    "user_activity['cohort_lifetime'] = (\n",
    "    user_activity['event_week']\n",
    "    - user_activity['first_event_day']\n",
    ")\n",
    "\n",
    "#Преобразуем этот тип в дни, прошедших между датами. Огруглим до целого число\n",
    "user_activity['cohort_lifetime'] = user_activity['cohort_lifetime'] / np.timedelta64(1, 'D')\n",
    "\n",
    "user_activity['cohort_lifetime'] = (\n",
    "    user_activity['cohort_lifetime'].round().astype('int')\n",
    ")\n",
    "\n",
    "#Сгруппируем данные по когорте и lifetime. Посчитаем для каждой когорты количество активных пользователей на определённую «неделю жизни»\n",
    "cohorts = user_activity.groupby(['first_event_day','cohort_lifetime']).agg({'user_id':'nunique'}).reset_index() \n",
    "\n",
    "#Найдём исходное количество пользователей в когорте. Возьмём их число на нулевую неделю\n",
    "initial_users_count = cohorts[cohorts['cohort_lifetime'] == 0][\n",
    "    ['first_event_day', 'user_id']\n",
    "]\n",
    "\n",
    "#Переименуем столбец\n",
    "initial_users_count = initial_users_count.rename(columns={'user_id':'cohort_users'}) \n",
    "\n",
    "#Объединим данные по когортам с исходным количеством пользователей в когорте.\n",
    "cohorts = cohorts.merge(initial_users_count,on='first_event_day')\n",
    "\n",
    "#Рассчитаем Retention Rate\n",
    "cohorts['retention'] = cohorts['user_id']/cohorts['cohort_users'] \n",
    "\n",
    "#Построим сводную таблицу и создадим тепловую карту\n",
    "retention_pivot = cohorts.pivot_table(\n",
    "    index='cohort_lifetime',\n",
    "    columns='first_event_day',\n",
    "    values='retention',\n",
    "    aggfunc='sum',\n",
    ") \n",
    "\n",
    "\n",
    "sns.set(style='white')\n",
    "plt.figure(figsize=(13, 9))\n",
    "retention_pivot.columns = [str(x)[0:10] for x in retention_pivot.columns]\n",
    "plt.title('Cohorts: User Retention')\n",
    "sns.heatmap(retention_pivot, annot=True, fmt='.1%', linewidths=1, linecolor='gray'); "
   ]
  },
  {
   "cell_type": "markdown",
   "metadata": {},
   "source": [
    "__Вывод по когортном анализу__: на основе когортного анализа можно сделать вывод, что после посещения первого раза, где-то около 50% происходит падение по пользователям. В целом как правило большая часть людей возвращается на третий четвертый день. В целом показатели активности снижается после 10 дней, то есть или человек проходит первый уровень или он остывает к игре."
   ]
  },
  {
   "cell_type": "markdown",
   "metadata": {},
   "source": [
    "На основе lifetime когорты рассчитаем сколько времени тратят пользователь по событиям. Для этого построим функцию, которая будет строить диаграмму распределения по событиям."
   ]
  },
  {
   "cell_type": "code",
   "execution_count": 21,
   "metadata": {},
   "outputs": [],
   "source": [
    "#Сделаем функцию, которая будет строить диаграмму распределения по событиям.\n",
    "def doEvent(event):\n",
    "    filtered_events = user_activity[user_activity['event'] == event]\n",
    "    filtre_event = filtered_events.groupby('cohort_lifetime')['user_id'].agg('count').reset_index()\n",
    "    sns.set_style('darkgrid',#задаем стили графикам\n",
    "            {'axes.facecolor': '0.9',\n",
    "            'grid.color': '0.1',\n",
    "            'figure.facecolor': '0.95'})\n",
    "    \n",
    "    plt.figure(figsize=(18,10))\n",
    "    sns.barplot(data=filtre_event, x='cohort_lifetime', y='user_id')\n",
    "    plt.title(\"Распределение по событию \" + event)\n",
    "    plt.xlabel(\"Когорта\")\n",
    "    plt.ylabel(\"Частота\");  \n",
    "    plt.show()"
   ]
  },
  {
   "cell_type": "markdown",
   "metadata": {},
   "source": [
    "Применим данную функцию"
   ]
  },
  {
   "cell_type": "code",
   "execution_count": 22,
   "metadata": {},
   "outputs": [
    {
     "data": {
      "image/png": "[encoded data removed]",
      "text/plain": [
       "<Figure size 1296x720 with 1 Axes>"
      ]
     },
     "metadata": {},
     "output_type": "display_data"
    },
    {
     "data": {
      "image/png": "[encoded data removed]",
      "text/plain": [
       "<Figure size 1296x720 with 1 Axes>"
      ]
     },
     "metadata": {},
     "output_type": "display_data"
    },
    {
     "data": {
      "image/png": "[encoded data removed]",
      "text/plain": [
       "<Figure size 1296x720 with 1 Axes>"
      ]
     },
     "metadata": {},
     "output_type": "display_data"
    }
   ],
   "source": [
    "for event in ['finished_stage_1', 'building', 'project']:\n",
    "    doEvent(event)"
   ]
  },
  {
   "cell_type": "markdown",
   "metadata": {},
   "source": [
    "__Выводы по распределению событий.__<br>\n",
    "На основе полученных диаграмм можно сделать следующие выводы: \n",
    "- больше всего объектов строится в первый день, затем всплеск по строительству объектов приходится на 4 или 5 день;\n",
    "- проект реализовывают как правило на 10 или 11 день;\n",
    "- первый уровень завершают на 11 или 12 день пользования игрой.\n",
    "\n",
    "На основе полученных данных с нашей точки зрения необходимо включать рекламу на третий или четвертый день пользования рекламой, так как именно в эти дни происходит привыкание к игре и увеличивается активность ее пользованием. "
   ]
  },
  {
   "cell_type": "markdown",
   "metadata": {},
   "source": [
    "##  5. Проверка гипотез <a name=\"hypothesis_testing\"></a> "
   ]
  },
  {
   "cell_type": "markdown",
   "metadata": {},
   "source": [
    "Для того, чтобы между собой проверить гипотезы мы проверяем распределение данных с помощью построения трех графиков, которые нам могут показать нормально ли распределяются данные. Для это мы построим функцию. "
   ]
  },
  {
   "cell_type": "code",
   "execution_count": 23,
   "metadata": {},
   "outputs": [],
   "source": [
    "#Сделаем функцию которая отобразит нужное количество корзин\n",
    "def my_bins(df,value):\n",
    "    if df[value].max() > 100:\n",
    "        return 50\n",
    "    elif df[value].max() > 500:\n",
    "        return 100\n",
    "    elif df[value].max() > 1000:\n",
    "        return 200\n",
    "    else: return 20\n",
    "\n",
    "#Сделаем функцию которая будет нам отображать три графика    \n",
    "def my_hist(df, col):\n",
    "    coef_bins = 0.005\n",
    "    X_1 = df.loc[(df[col] >= df[col].quantile(.01))&(df[col] <= df[col].quantile(.99)),col]\n",
    "    plt.figure(figsize =(6, 4))\n",
    "    hist = X_1.plot(#Первый график\n",
    "                kind='hist',\n",
    "                bins=my_bins(df, col),\n",
    "                alpha=0.5,\n",
    "                ec='black',\n",
    "                color='green',\n",
    "    )\n",
    "    X_1.plot(kind='kde', color='g')\n",
    "    plt.axvline(x=X_1.median(),#Медиана\n",
    "                linewidth=3,\n",
    "                color='red',\n",
    "                linestyle='--')\n",
    "    plt.axvline(x=X_1.mean(),#Среднее\n",
    "                linewidth=3,\n",
    "                color='b',\n",
    "                linestyle=':')\n",
    "    plt.axvline(x=X_1.quantile(.05),#Квантиль 5%\n",
    "                linewidth=3,\n",
    "                color='y',\n",
    "                linestyle='--')\n",
    "    plt.axvline(x=X_1.quantile(.95),#Квантиль 95%\n",
    "                linewidth=3,\n",
    "                color='y',\n",
    "                linestyle='--')\n",
    "    plt.xlim(df[col].quantile(.01), df[col].quantile(.99))\n",
    "    plt.title('Распределение по столбцу ' + col)\n",
    "    plt.xlabel('Значение')\n",
    "    plt.ylabel('Частота')\n",
    "    plt.grid()\n",
    "    plt.show()\n",
    "    plt.figure(figsize =(6, 4))\n",
    "    X_1.plot(kind='kde',#Второй график\n",
    "    alpha=0.5,\n",
    "    color='green',\n",
    "    )\n",
    "    plt.xlim(df[col].quantile(.01), df[col].quantile(.99))\n",
    "    plt.title('Распределение по столбцу ' + col)\n",
    "    plt.xlabel('Значение')\n",
    "    plt.ylabel('Частота')\n",
    "    plt.grid()\n",
    "    plt.show()\n",
    "    #Проверка на нормальность распределения;\n",
    "    from statsmodels.graphics.gofplots import qqplot\n",
    "    qqplot(df[col], line='s')\n",
    "    plt.title('Близость к нормальному распределению (красная линия)', fontsize=12, color='black')\n",
    "    plt.show()\n",
    "    print('--------------------------------------------------------------')"
   ]
  },
  {
   "cell_type": "markdown",
   "metadata": {},
   "source": [
    "Разделим данные по тем, кто прошел первый уровень, убив врага и тем, кто рнализовал проект. Построим графики распределение на нормальность данных. На основе построенных графиков распределения можно сделать вывод, что распределение является ненормальным по двум полученным данным. "
   ]
  },
  {
   "cell_type": "code",
   "execution_count": 24,
   "metadata": {},
   "outputs": [],
   "source": [
    "#создаем данные по тем кто прошел первый уровень\n",
    "gameFinish = user_activity.query('event==\"finished_stage_1\"')[['user_id', 'event', 'cohort_lifetime']]\n",
    "\n",
    "#создаем данные по тем кто завершил проект\n",
    "gameProject = user_activity.query('event==\"project\"')[['user_id', 'event', 'cohort_lifetime']]\n",
    " \n",
    "#объединяем эти данные для того, чтобы понять кто закончил проект и прошел первый этап и тех кто прошел проект, убив врага.\n",
    "gameMerge = gameFinish.merge(gameProject, on='user_id', how='outer')\n",
    "\n",
    "#Заменим пропущенные значения\n",
    "gameMerge['event_y'] = gameMerge['event_y'].fillna('no_project') \n",
    "\n",
    "#Сделаем срез только по людям кто прошел первый этап\n",
    "gameFinishedStage = gameMerge.query('event_y==\"no_project\"')[['user_id', 'event_x', 'cohort_lifetime_x']]\n",
    "#Переимоновываем ячейки\n",
    "gameFinishedStage.rename(columns={'event_x': 'event', 'cohort_lifetime_x': 'cohort_lifetime'}, inplace=True)"
   ]
  },
  {
   "cell_type": "code",
   "execution_count": 25,
   "metadata": {
    "scrolled": false
   },
   "outputs": [
    {
     "data": {
      "image/png": "[encoded data removed]",
      "text/plain": [
       "<Figure size 432x288 with 1 Axes>"
      ]
     },
     "metadata": {},
     "output_type": "display_data"
    },
    {
     "data": {
      "image/png": "[encoded data removed]",
      "text/plain": [
       "<Figure size 432x288 with 1 Axes>"
      ]
     },
     "metadata": {},
     "output_type": "display_data"
    },
    {
     "data": {
      "image/png": "[encoded data removed]",
      "text/plain": [
       "<Figure size 432x288 with 1 Axes>"
      ]
     },
     "metadata": {},
     "output_type": "display_data"
    },
    {
     "name": "stdout",
     "output_type": "stream",
     "text": [
      "--------------------------------------------------------------\n"
     ]
    },
    {
     "data": {
      "image/png": "[encoded data removed]",
      "text/plain": [
       "<Figure size 432x288 with 1 Axes>"
      ]
     },
     "metadata": {},
     "output_type": "display_data"
    },
    {
     "data": {
      "image/png": "[encoded data removed]",
      "text/plain": [
       "<Figure size 432x288 with 1 Axes>"
      ]
     },
     "metadata": {},
     "output_type": "display_data"
    },
    {
     "data": {
      "image/png": "[encoded data removed]",
      "text/plain": [
       "<Figure size 432x288 with 1 Axes>"
      ]
     },
     "metadata": {},
     "output_type": "display_data"
    },
    {
     "name": "stdout",
     "output_type": "stream",
     "text": [
      "--------------------------------------------------------------\n"
     ]
    }
   ],
   "source": [
    "my_hist(gameProject, \"cohort_lifetime\")\n",
    "my_hist(gameFinishedStage, \"cohort_lifetime\")"
   ]
  },
  {
   "cell_type": "markdown",
   "metadata": {},
   "source": [
    "Проведем тест Шапиро-Уилка, где<br> \n",
    "<b>H0</b> - данные распределены нормально<br>\n",
    "<b>H1</b> - данные распределены не нормально<br>\n",
    "Исходя из полученных данных можем сделать вывод что данные распределены не нормально"
   ]
  },
  {
   "cell_type": "code",
   "execution_count": 26,
   "metadata": {},
   "outputs": [
    {
     "name": "stdout",
     "output_type": "stream",
     "text": [
      "p-значение: 7.337791658304978e-24\n",
      "Отвергаем нулевую гипотезу\n"
     ]
    }
   ],
   "source": [
    "alpha = 0.05\n",
    "statistic, pvalue = st.shapiro(gameProject[\"cohort_lifetime\"])\n",
    "print('p-значение:', pvalue)\n",
    "if (pvalue < alpha):\n",
    "    print(\"Отвергаем нулевую гипотезу\")\n",
    "else:\n",
    "    print(\"Не получилось отвергнуть нулевую гипотезу\")"
   ]
  },
  {
   "cell_type": "markdown",
   "metadata": {},
   "source": [
    "Также можем проверить дисперсию вручную, если разница меньше 5% - дисперсии считаем равными, и наоборот.<br>\n",
    "На основе полученных данных дисперсии являются не равными."
   ]
  },
  {
   "cell_type": "code",
   "execution_count": 27,
   "metadata": {},
   "outputs": [
    {
     "data": {
      "text/plain": [
       "False"
      ]
     },
     "execution_count": 27,
     "metadata": {},
     "output_type": "execute_result"
    }
   ],
   "source": [
    "def var_pr(df1, df2):\n",
    "    x = round(df1.var()/df2.var()*100)\n",
    "    if x >= 5:\n",
    "        return False\n",
    "    else:\n",
    "        return True\n",
    "    \n",
    "var_pr(gameProject[\"cohort_lifetime\"], gameFinishedStage[\"cohort_lifetime\"]) "
   ]
  },
  {
   "cell_type": "markdown",
   "metadata": {},
   "source": [
    "Чтобы проверить гипотезу о равенстве среднего двух генеральных совокупностей по взятым из них выборкам, воспользуюсь методом: <b>st.ttest_ind()</b>. При этом так как данные распределены не нормально, то установим <b>equal_var = False</b>, то есть считаем дисперсию наших двух выборок не равной. Этот аргумент <b>equal_var = false</b> делает этот конкретный вызов t-критерия равным t-критерию Уэлча.<br> \n",
    "\n",
    "<b>H0</b> - время прохождения уровня между пользователями, которые заканчивают уровень через реализацию проекта, и пользователями, которые заканчивают уровень победой над другим игроком не различается.<br>\n",
    "<b>H1</b> - время прохождения уровня между пользователями, которые заканчивают уровень через реализацию проекта, и пользователями, которые заканчивают уровень победой над другим игроком  различается.<br>    \n",
    "</div>"
   ]
  },
  {
   "cell_type": "code",
   "execution_count": 28,
   "metadata": {},
   "outputs": [
    {
     "name": "stdout",
     "output_type": "stream",
     "text": [
      "p-значение: 6.51887969232864e-13\n",
      "Отвергаем нулевую гипотезу\n"
     ]
    }
   ],
   "source": [
    "alpha = .05# критический уровень статистической значимости\n",
    "            # если p-value окажется меньше него - отвергнем гипотезу\n",
    "\n",
    "results = st.ttest_ind(\n",
    "    gameFinishedStage[\"cohort_lifetime\"], \n",
    "    gameProject[\"cohort_lifetime\"],\n",
    "    equal_var = False) \n",
    "\n",
    "print('p-значение:', results.pvalue)\n",
    "\n",
    "if (results.pvalue < alpha):\n",
    "    print(\"Отвергаем нулевую гипотезу\")\n",
    "else:\n",
    "    print(\"Не получилось отвергнуть нулевую гипотезу\")"
   ]
  },
  {
   "cell_type": "markdown",
   "metadata": {},
   "source": [
    "Полученное p-значение находится на довольно таки высоком уровне, что говорит о том, что мы не отбрасываем нулевую гипотезу. То есть предполагаем, что время прохождения уровня между пользователями, которые заканчивают уровень через реализацию проекта, и пользователями, которые заканчивают уровень победой над другим игроком статистически значимо не отличаются."
   ]
  },
  {
   "cell_type": "markdown",
   "metadata": {},
   "source": [
    "Проверим еще одну гипотезу, а именно отличается ли количество построек от стратегии. Для этого с помощью метода __pivot_table()__ посчитаем сколько построек построил каждый пользователь, а затем разделим таблицы на тех кто убил врага и на тех, кто реализовал проект."
   ]
  },
  {
   "cell_type": "code",
   "execution_count": 29,
   "metadata": {},
   "outputs": [
    {
     "data": {
      "image/png": "[encoded data removed]",
      "text/plain": [
       "<Figure size 432x288 with 1 Axes>"
      ]
     },
     "metadata": {},
     "output_type": "display_data"
    },
    {
     "data": {
      "image/png": "[encoded data removed]",
      "text/plain": [
       "<Figure size 432x288 with 1 Axes>"
      ]
     },
     "metadata": {},
     "output_type": "display_data"
    },
    {
     "data": {
      "image/png": "[encoded data removed]",
      "text/plain": [
       "<Figure size 432x288 with 1 Axes>"
      ]
     },
     "metadata": {},
     "output_type": "display_data"
    },
    {
     "name": "stdout",
     "output_type": "stream",
     "text": [
      "--------------------------------------------------------------\n"
     ]
    },
    {
     "data": {
      "image/png": "[encoded data removed]",
      "text/plain": [
       "<Figure size 432x288 with 1 Axes>"
      ]
     },
     "metadata": {},
     "output_type": "display_data"
    },
    {
     "data": {
      "image/png": "[encoded data removed]",
      "text/plain": [
       "<Figure size 432x288 with 1 Axes>"
      ]
     },
     "metadata": {},
     "output_type": "display_data"
    },
    {
     "data": {
      "image/png": "[encoded data removed]",
      "text/plain": [
       "<Figure size 432x288 with 1 Axes>"
      ]
     },
     "metadata": {},
     "output_type": "display_data"
    },
    {
     "name": "stdout",
     "output_type": "stream",
     "text": [
      "--------------------------------------------------------------\n"
     ]
    }
   ],
   "source": [
    "gamePivotTable = user_activity.pivot_table(index='user_id', values='building_type', aggfunc='count')\n",
    "buildingProject = gameProject.merge(gamePivotTable, on='user_id')\n",
    "buildingFinishedProject = gameFinishedStage.merge(gamePivotTable, on='user_id')\n",
    "\n",
    "my_hist(buildingProject, \"building_type\")\n",
    "my_hist(buildingFinishedProject, \"building_type\")"
   ]
  },
  {
   "cell_type": "markdown",
   "metadata": {},
   "source": [
    "Проведем тест Шапиро-Уилка, где<br> \n",
    "<b>H0</b> - данные распределены нормально<br>\n",
    "<b>H1</b> - данные распределены не нормально<br>\n",
    "Исходя из полученных данных можем сделать вывод что данные распределены не нормально"
   ]
  },
  {
   "cell_type": "code",
   "execution_count": 30,
   "metadata": {},
   "outputs": [
    {
     "name": "stdout",
     "output_type": "stream",
     "text": [
      "p-значение: 2.478872706901041e-30\n",
      "Отвергаем нулевую гипотезу\n"
     ]
    }
   ],
   "source": [
    "alpha = 0.05\n",
    "statistic, pvalue = st.shapiro(buildingProject[\"building_type\"])\n",
    "print('p-значение:', pvalue)\n",
    "if (pvalue < alpha):\n",
    "    print(\"Отвергаем нулевую гипотезу\")\n",
    "else:\n",
    "    print(\"Не получилось отвергнуть нулевую гипотезу\")"
   ]
  },
  {
   "cell_type": "markdown",
   "metadata": {},
   "source": [
    "Чтобы проверить гипотезу о равенстве среднего двух генеральных совокупностей по взятым из них выборкам, воспользуюсь методом: <b>st.ttest_ind()</b>. При этом так как данные распределены не нормально, то установим <b>equal_var = False</b>, то есть считаем дисперсию наших двух выборок не равной. Этот аргумент <b>equal_var = false</b> делает этот конкретный вызов t-критерия равным t-критерию Уэлча.<br> \n",
    "\n",
    "<b>H0</b> - количество построек не отличается от выбранной стратегии<br>\n",
    "<b>H1</b> - количество построек отличается от выбранной стратегии<br>    \n",
    "</div>"
   ]
  },
  {
   "cell_type": "code",
   "execution_count": 31,
   "metadata": {},
   "outputs": [
    {
     "name": "stdout",
     "output_type": "stream",
     "text": [
      "p-значение: 0.0\n",
      "Отвергаем нулевую гипотезу\n"
     ]
    }
   ],
   "source": [
    "alpha = .05# критический уровень статистической значимости\n",
    "            # если p-value окажется меньше него - отвергнем гипотезу\n",
    "\n",
    "results = st.ttest_ind(\n",
    "    buildingProject[\"building_type\"], \n",
    "    buildingFinishedProject[\"building_type\"],\n",
    "    equal_var = False\n",
    ") \n",
    "\n",
    "print('p-значение:', results.pvalue)\n",
    "\n",
    "if (results.pvalue < alpha):\n",
    "    print(\"Отвергаем нулевую гипотезу\")\n",
    "else:\n",
    "    print(\"Не получилось отвергнуть нулевую гипотезу\")"
   ]
  },
  {
   "cell_type": "markdown",
   "metadata": {},
   "source": [
    "Полученное p-значение находится на 0, что говорит о том, что необходимо отвергнуть нулевую гипотезу, то есть количество построек статистически отличается от выбранной стратегии."
   ]
  },
  {
   "cell_type": "markdown",
   "metadata": {},
   "source": [
    "## 6.  Выводы <a name=\"conclusion\"></a> "
   ]
  },
  {
   "cell_type": "markdown",
   "metadata": {},
   "source": [
    "Исходя из проведенного исследования нами были получены следующие выводы:\n",
    "- перед анализом данных, мы подготовили наши данные, так в некоторых столбцах у нас были заменены все пропущенные значения, а также удалены дубликаты. Изменен тип данных по некоторым столбцам из объекта в дату.\n",
    "- анализ показал, что наиболее популярными объектами выступаем тип постройки spaceport  и assembly_shop. В среднем данные типы постройки строят чуть более 4 раз.\n",
    "- доля, кто дошел до первого уровня от общего количества пользователей составляет 42.85%, а доля, кто дошел до реализации проекта составляет 13.74%. То есть люди предпочитают убивать врага для прохождения уровня.\n",
    "- наиболее популярными источниками, по которому люди переходят в игру являются yandex_direct (35,5% от общей доли источников) и инстаграм (24,7% от общей доли источников).\n",
    "- Наибольшие расходы приходятся на три источника: yandex_direct (2233), instagram (2161) и facebook (2140), также был рассчитан средний САС, так самыми дорогими источниками по данному показателю стали Facebook (0,78) и instagram (0.64).\n",
    "- в рамках исследования нами был сделан когортный анализ, который показал, что  после посещения первого раза падение по пользователям составило около 50%, большая часть людей возвращается на третий или четвертый день. В целом активность снижается после 10 дней, то есть или человек проходит первый уровень или он остывает к игре.\n",
    "- Нами была проверена гипотеза о времени прохождения уровня между пользователями, которая показала, что время прохождения уровня между пользователями, которые заканчивают уровень через реализацию проекта, и пользователями, которые заканчивают уровень победой над другим игроком статистически значимо не отличаются.\n",
    "\n",
    "\n",
    "На основе полученного анализа сделаем предложения по монетизации проекта:\n",
    "- необходимо сократить расходы на источник Facebook, так как расходы на него примерно равны как на самый прибыльный источник Яндекс директ,при этом через данный канал заходит не так уж много народу.\n",
    "- на основе полученных данных с нашей точки зрения необходимо включить рекламу на третий или четвертый день пользования игрой, так как именно в эти дни происходит привыкание к игре и увеличивается активность ее пользования.\n",
    "- один показ должен стоить больше, чем расходы на одного человека (данный показатель равен 0,56), поэтому стоимость рекламы должна составлять на 50% выше показателя CAC на одного человека, а именно 1.12. Но опять же можно поднять стоимость и выше. Предлагаем показывать рекламу на третий или четвертый день после того как человек начал пользоваться игрой, при этом показ рекламы необходимо начинать при строительстве нового объекта с выбором типа объекта для постройки. В среднем один игрок строит около девяти объектов, поэтому игроку будет предлагаться около 9 раз реклама с возможностью выбора нового объекта для строительства."
   ]
  }
 ],
 "metadata": {
  "ExecuteTimeLog": [
   {
    "duration": 875,
    "start_time": "2021-07-05T13:20:05.037Z"
   },
   {
    "duration": 872,
    "start_time": "2021-07-06T08:25:19.139Z"
   },
   {
    "duration": 368,
    "start_time": "2021-07-06T08:25:22.163Z"
   },
   {
    "duration": 2,
    "start_time": "2021-07-06T08:28:06.959Z"
   },
   {
    "duration": 623,
    "start_time": "2021-07-06T08:28:08.232Z"
   },
   {
    "duration": 233,
    "start_time": "2021-07-06T08:28:29.518Z"
   },
   {
    "duration": 27,
    "start_time": "2021-07-06T09:16:46.645Z"
   },
   {
    "duration": 61,
    "start_time": "2021-07-06T09:17:55.535Z"
   },
   {
    "duration": 70,
    "start_time": "2021-07-06T09:20:05.382Z"
   },
   {
    "duration": 89,
    "start_time": "2021-07-06T09:34:25.407Z"
   },
   {
    "duration": 217,
    "start_time": "2021-07-06T09:34:35.508Z"
   },
   {
    "duration": 5,
    "start_time": "2021-07-06T09:45:29.765Z"
   },
   {
    "duration": 7,
    "start_time": "2021-07-06T09:45:42.503Z"
   },
   {
    "duration": 10,
    "start_time": "2021-07-06T09:45:56.976Z"
   },
   {
    "duration": 7,
    "start_time": "2021-07-06T09:46:06.838Z"
   },
   {
    "duration": 6009,
    "start_time": "2021-07-06T09:47:59.190Z"
   },
   {
    "duration": 48,
    "start_time": "2021-07-06T09:48:18.036Z"
   },
   {
    "duration": 7,
    "start_time": "2021-07-06T09:48:52.047Z"
   },
   {
    "duration": 254,
    "start_time": "2021-07-06T09:48:54.718Z"
   },
   {
    "duration": 242,
    "start_time": "2021-07-06T09:49:23.398Z"
   },
   {
    "duration": 25,
    "start_time": "2021-07-06T09:49:28.446Z"
   },
   {
    "duration": 225,
    "start_time": "2021-07-06T09:50:09.013Z"
   },
   {
    "duration": 8,
    "start_time": "2021-07-06T09:50:23.134Z"
   },
   {
    "duration": 14,
    "start_time": "2021-07-06T11:14:18.256Z"
   },
   {
    "duration": 14,
    "start_time": "2021-07-06T11:14:20.927Z"
   },
   {
    "duration": 15,
    "start_time": "2021-07-06T11:14:31.447Z"
   },
   {
    "duration": 19,
    "start_time": "2021-07-06T11:14:45.247Z"
   },
   {
    "duration": 23,
    "start_time": "2021-07-06T11:14:57.138Z"
   },
   {
    "duration": 8,
    "start_time": "2021-07-06T11:21:20.358Z"
   },
   {
    "duration": 9,
    "start_time": "2021-07-06T12:38:13.730Z"
   },
   {
    "duration": 15,
    "start_time": "2021-07-06T12:38:24.608Z"
   },
   {
    "duration": 14,
    "start_time": "2021-07-06T12:38:29.410Z"
   },
   {
    "duration": 16,
    "start_time": "2021-07-06T12:38:30.346Z"
   },
   {
    "duration": 25,
    "start_time": "2021-07-06T12:43:58.536Z"
   },
   {
    "duration": 15,
    "start_time": "2021-07-06T12:43:59.974Z"
   },
   {
    "duration": 24,
    "start_time": "2021-07-06T12:44:42.976Z"
   },
   {
    "duration": 14,
    "start_time": "2021-07-06T12:45:14.847Z"
   },
   {
    "duration": 23,
    "start_time": "2021-07-06T12:46:46.629Z"
   },
   {
    "duration": 85,
    "start_time": "2021-07-06T12:47:44.599Z"
   },
   {
    "duration": 71,
    "start_time": "2021-07-06T12:47:51.028Z"
   },
   {
    "duration": 75,
    "start_time": "2021-07-06T12:48:13.526Z"
   },
   {
    "duration": 26,
    "start_time": "2021-07-06T12:48:23.194Z"
   },
   {
    "duration": 23,
    "start_time": "2021-07-06T12:48:45.566Z"
   },
   {
    "duration": 25,
    "start_time": "2021-07-06T12:48:55.596Z"
   },
   {
    "duration": 25,
    "start_time": "2021-07-06T12:58:31.811Z"
   },
   {
    "duration": 13,
    "start_time": "2021-07-06T13:49:42.705Z"
   },
   {
    "duration": 3,
    "start_time": "2021-07-06T13:50:17.183Z"
   },
   {
    "duration": 651,
    "start_time": "2021-07-06T13:50:18.271Z"
   },
   {
    "duration": 229,
    "start_time": "2021-07-06T13:50:19.153Z"
   },
   {
    "duration": 61,
    "start_time": "2021-07-06T13:50:22.215Z"
   },
   {
    "duration": 122,
    "start_time": "2021-07-06T13:50:24.557Z"
   },
   {
    "duration": 7,
    "start_time": "2021-07-06T13:50:26.348Z"
   },
   {
    "duration": 44,
    "start_time": "2021-07-06T13:50:28.527Z"
   },
   {
    "duration": 25,
    "start_time": "2021-07-06T13:50:30.044Z"
   },
   {
    "duration": 14,
    "start_time": "2021-07-06T13:50:34.022Z"
   },
   {
    "duration": 111,
    "start_time": "2021-07-06T14:04:33.455Z"
   },
   {
    "duration": 112,
    "start_time": "2021-07-06T14:04:37.417Z"
   },
   {
    "duration": 345,
    "start_time": "2021-07-06T14:06:15.256Z"
   },
   {
    "duration": 949,
    "start_time": "2021-07-06T14:06:31.488Z"
   },
   {
    "duration": 572,
    "start_time": "2021-07-06T14:07:06.233Z"
   },
   {
    "duration": 665,
    "start_time": "2021-07-06T14:09:41.630Z"
   },
   {
    "duration": 661,
    "start_time": "2021-07-06T14:10:20.633Z"
   },
   {
    "duration": 78,
    "start_time": "2021-07-06T14:13:37.580Z"
   },
   {
    "duration": 5346,
    "start_time": "2021-07-06T14:13:41.492Z"
   },
   {
    "duration": 646,
    "start_time": "2021-07-06T14:14:01.862Z"
   },
   {
    "duration": 626,
    "start_time": "2021-07-06T14:14:14.333Z"
   },
   {
    "duration": 741,
    "start_time": "2021-07-06T14:14:53.950Z"
   },
   {
    "duration": 636,
    "start_time": "2021-07-06T14:15:03.398Z"
   },
   {
    "duration": 646,
    "start_time": "2021-07-06T14:15:17.133Z"
   },
   {
    "duration": 643,
    "start_time": "2021-07-06T14:15:35.102Z"
   },
   {
    "duration": 656,
    "start_time": "2021-07-06T14:15:49.068Z"
   },
   {
    "duration": 640,
    "start_time": "2021-07-06T14:16:01.286Z"
   },
   {
    "duration": 657,
    "start_time": "2021-07-06T14:17:09.275Z"
   },
   {
    "duration": 105,
    "start_time": "2021-07-06T14:22:10.257Z"
   },
   {
    "duration": 109,
    "start_time": "2021-07-06T14:22:22.400Z"
   },
   {
    "duration": 109,
    "start_time": "2021-07-06T14:23:25.968Z"
   },
   {
    "duration": 96,
    "start_time": "2021-07-06T14:54:52.474Z"
   },
   {
    "duration": 4,
    "start_time": "2021-07-06T14:55:07.347Z"
   },
   {
    "duration": 5,
    "start_time": "2021-07-06T14:55:12.558Z"
   },
   {
    "duration": 4,
    "start_time": "2021-07-06T14:55:50.919Z"
   },
   {
    "duration": 106,
    "start_time": "2021-07-06T14:56:26.415Z"
   },
   {
    "duration": 120,
    "start_time": "2021-07-06T14:56:32.533Z"
   },
   {
    "duration": 122,
    "start_time": "2021-07-06T14:56:46.790Z"
   },
   {
    "duration": 4,
    "start_time": "2021-07-06T14:57:04.624Z"
   },
   {
    "duration": 75,
    "start_time": "2021-07-06T14:57:22.278Z"
   },
   {
    "duration": 77,
    "start_time": "2021-07-06T14:57:31.990Z"
   },
   {
    "duration": 225,
    "start_time": "2021-07-06T14:57:34.925Z"
   },
   {
    "duration": 78,
    "start_time": "2021-07-06T14:57:38.165Z"
   },
   {
    "duration": 81,
    "start_time": "2021-07-06T14:57:42.231Z"
   },
   {
    "duration": 73,
    "start_time": "2021-07-06T14:57:48.662Z"
   },
   {
    "duration": 220,
    "start_time": "2021-07-06T14:57:52.896Z"
   },
   {
    "duration": 139,
    "start_time": "2021-07-06T14:58:05.055Z"
   },
   {
    "duration": 355,
    "start_time": "2021-07-06T14:58:10.956Z"
   },
   {
    "duration": 123,
    "start_time": "2021-07-06T14:58:16.535Z"
   },
   {
    "duration": 73,
    "start_time": "2021-07-06T14:58:28.564Z"
   },
   {
    "duration": 130,
    "start_time": "2021-07-06T14:58:32.791Z"
   },
   {
    "duration": 336,
    "start_time": "2021-07-06T14:58:43.725Z"
   },
   {
    "duration": 81,
    "start_time": "2021-07-06T15:01:52.048Z"
   },
   {
    "duration": 88,
    "start_time": "2021-07-06T15:09:00.233Z"
   },
   {
    "duration": 236,
    "start_time": "2021-07-06T15:09:08.315Z"
   },
   {
    "duration": 131,
    "start_time": "2021-07-06T15:09:12.185Z"
   },
   {
    "duration": 82,
    "start_time": "2021-07-06T15:09:26.893Z"
   },
   {
    "duration": 114,
    "start_time": "2021-07-06T15:09:31.218Z"
   },
   {
    "duration": 353,
    "start_time": "2021-07-06T15:09:39.553Z"
   },
   {
    "duration": 364,
    "start_time": "2021-07-06T15:09:57.953Z"
   },
   {
    "duration": 109,
    "start_time": "2021-07-06T15:14:18.580Z"
   },
   {
    "duration": 3458,
    "start_time": "2021-07-06T15:37:29.323Z"
   },
   {
    "duration": 3663,
    "start_time": "2021-07-06T15:40:06.563Z"
   },
   {
    "duration": 3544,
    "start_time": "2021-07-06T15:40:25.475Z"
   },
   {
    "duration": 3676,
    "start_time": "2021-07-06T15:41:49.356Z"
   },
   {
    "duration": 14,
    "start_time": "2021-07-06T15:53:17.618Z"
   },
   {
    "duration": 11,
    "start_time": "2021-07-06T15:53:30.450Z"
   },
   {
    "duration": 233,
    "start_time": "2021-07-06T15:54:11.194Z"
   },
   {
    "duration": 655,
    "start_time": "2021-07-06T15:58:47.402Z"
   },
   {
    "duration": 668,
    "start_time": "2021-07-06T15:59:00.708Z"
   },
   {
    "duration": 778,
    "start_time": "2021-07-06T15:59:51.585Z"
   },
   {
    "duration": 644,
    "start_time": "2021-07-06T16:00:12.388Z"
   },
   {
    "duration": 546,
    "start_time": "2021-07-06T16:01:02.755Z"
   },
   {
    "duration": 681,
    "start_time": "2021-07-06T16:01:46.319Z"
   },
   {
    "duration": 579,
    "start_time": "2021-07-06T16:02:45.881Z"
   },
   {
    "duration": 689,
    "start_time": "2021-07-06T16:03:29.056Z"
   },
   {
    "duration": 672,
    "start_time": "2021-07-06T16:04:34.497Z"
   },
   {
    "duration": 665,
    "start_time": "2021-07-06T16:07:08.135Z"
   },
   {
    "duration": 942,
    "start_time": "2021-07-06T16:07:30.965Z"
   },
   {
    "duration": 1013,
    "start_time": "2021-07-06T16:07:53.245Z"
   },
   {
    "duration": 941,
    "start_time": "2021-07-06T16:08:26.702Z"
   },
   {
    "duration": 749,
    "start_time": "2021-07-06T16:08:42.423Z"
   },
   {
    "duration": 1288,
    "start_time": "2021-07-07T13:31:38.784Z"
   },
   {
    "duration": 939,
    "start_time": "2021-07-07T13:31:40.076Z"
   },
   {
    "duration": 422,
    "start_time": "2021-07-07T13:31:41.018Z"
   },
   {
    "duration": 111,
    "start_time": "2021-07-07T13:31:41.442Z"
   },
   {
    "duration": 215,
    "start_time": "2021-07-07T13:31:41.556Z"
   },
   {
    "duration": 16,
    "start_time": "2021-07-07T13:31:41.774Z"
   },
   {
    "duration": 92,
    "start_time": "2021-07-07T13:31:41.793Z"
   },
   {
    "duration": 37,
    "start_time": "2021-07-07T13:31:41.889Z"
   },
   {
    "duration": 1822,
    "start_time": "2021-07-07T13:31:41.928Z"
   },
   {
    "duration": 194,
    "start_time": "2021-07-07T13:31:43.752Z"
   },
   {
    "duration": 6433,
    "start_time": "2021-07-07T13:31:43.948Z"
   },
   {
    "duration": 730,
    "start_time": "2021-07-07T13:31:50.386Z"
   },
   {
    "duration": 8994,
    "start_time": "2021-07-07T13:33:34.594Z"
   },
   {
    "duration": 799,
    "start_time": "2021-07-07T13:34:00.221Z"
   },
   {
    "duration": 876,
    "start_time": "2021-07-07T13:34:19.293Z"
   },
   {
    "duration": 556,
    "start_time": "2021-07-07T13:34:31.717Z"
   },
   {
    "duration": 8443,
    "start_time": "2021-07-07T13:52:43.337Z"
   },
   {
    "duration": 5,
    "start_time": "2021-07-07T13:53:07.208Z"
   },
   {
    "duration": 316,
    "start_time": "2021-07-07T13:58:16.764Z"
   },
   {
    "duration": 645,
    "start_time": "2021-07-07T13:58:36.611Z"
   },
   {
    "duration": 352,
    "start_time": "2021-07-07T13:58:41.843Z"
   },
   {
    "duration": 4,
    "start_time": "2021-07-07T13:59:25.659Z"
   },
   {
    "duration": 569,
    "start_time": "2021-07-07T13:59:29.611Z"
   },
   {
    "duration": 10,
    "start_time": "2021-07-07T14:03:27.705Z"
   },
   {
    "duration": 10,
    "start_time": "2021-07-07T14:03:53.105Z"
   },
   {
    "duration": 344,
    "start_time": "2021-07-07T14:05:24.232Z"
   },
   {
    "duration": 10,
    "start_time": "2021-07-07T14:06:18.392Z"
   },
   {
    "duration": 15,
    "start_time": "2021-07-07T14:06:23.655Z"
   },
   {
    "duration": 9,
    "start_time": "2021-07-07T14:07:55.702Z"
   },
   {
    "duration": 20,
    "start_time": "2021-07-07T14:08:01.822Z"
   },
   {
    "duration": 19,
    "start_time": "2021-07-07T14:08:10.736Z"
   },
   {
    "duration": 18,
    "start_time": "2021-07-07T14:08:19.575Z"
   },
   {
    "duration": 199,
    "start_time": "2021-07-07T14:13:17.386Z"
   },
   {
    "duration": 6603,
    "start_time": "2021-07-07T14:14:21.973Z"
   },
   {
    "duration": 16,
    "start_time": "2021-07-07T14:14:43.549Z"
   },
   {
    "duration": 6709,
    "start_time": "2021-07-07T14:15:03.401Z"
   },
   {
    "duration": 14,
    "start_time": "2021-07-07T14:15:15.365Z"
   },
   {
    "duration": 3,
    "start_time": "2021-07-07T14:23:55.376Z"
   },
   {
    "duration": 78,
    "start_time": "2021-07-07T14:25:09.416Z"
   },
   {
    "duration": 23,
    "start_time": "2021-07-07T14:25:14.377Z"
   },
   {
    "duration": 72,
    "start_time": "2021-07-07T14:27:25.160Z"
   },
   {
    "duration": 24,
    "start_time": "2021-07-07T14:27:30.583Z"
   },
   {
    "duration": 66,
    "start_time": "2021-07-07T14:31:06.748Z"
   },
   {
    "duration": 187,
    "start_time": "2021-07-07T14:31:28.542Z"
   },
   {
    "duration": 14,
    "start_time": "2021-07-07T14:31:32.181Z"
   },
   {
    "duration": 7,
    "start_time": "2021-07-07T14:32:30.366Z"
   },
   {
    "duration": 8,
    "start_time": "2021-07-07T14:32:40.923Z"
   },
   {
    "duration": 15,
    "start_time": "2021-07-07T14:33:25.620Z"
   },
   {
    "duration": 48,
    "start_time": "2021-07-07T14:42:47.129Z"
   },
   {
    "duration": 48,
    "start_time": "2021-07-07T14:43:14.289Z"
   },
   {
    "duration": 79,
    "start_time": "2021-07-07T14:43:52.478Z"
   },
   {
    "duration": 96,
    "start_time": "2021-07-07T14:43:58.440Z"
   },
   {
    "duration": 72,
    "start_time": "2021-07-07T14:44:13.041Z"
   },
   {
    "duration": 54,
    "start_time": "2021-07-07T14:44:22.945Z"
   },
   {
    "duration": 81,
    "start_time": "2021-07-07T14:48:55.376Z"
   },
   {
    "duration": 53,
    "start_time": "2021-07-07T14:48:55.798Z"
   },
   {
    "duration": 75,
    "start_time": "2021-07-07T14:49:02.366Z"
   },
   {
    "duration": 78,
    "start_time": "2021-07-07T14:55:05.305Z"
   },
   {
    "duration": 2673,
    "start_time": "2021-07-07T14:55:28.621Z"
   },
   {
    "duration": 1243,
    "start_time": "2021-07-07T14:55:34.021Z"
   },
   {
    "duration": 1207,
    "start_time": "2021-07-07T14:56:05.369Z"
   },
   {
    "duration": 3001,
    "start_time": "2021-07-07T14:57:37.691Z"
   },
   {
    "duration": 8785,
    "start_time": "2021-07-07T14:58:27.482Z"
   },
   {
    "duration": 177,
    "start_time": "2021-07-07T14:58:36.715Z"
   },
   {
    "duration": 172,
    "start_time": "2021-07-07T14:58:44.546Z"
   },
   {
    "duration": 183,
    "start_time": "2021-07-07T14:58:55.513Z"
   },
   {
    "duration": 195,
    "start_time": "2021-07-07T14:59:11.625Z"
   },
   {
    "duration": 160,
    "start_time": "2021-07-07T14:59:17.291Z"
   },
   {
    "duration": 57,
    "start_time": "2021-07-07T14:59:19.186Z"
   },
   {
    "duration": 64,
    "start_time": "2021-07-07T14:59:47.962Z"
   },
   {
    "duration": 175,
    "start_time": "2021-07-07T15:00:06.313Z"
   },
   {
    "duration": 11,
    "start_time": "2021-07-07T15:00:19.249Z"
   },
   {
    "duration": 189,
    "start_time": "2021-07-07T15:00:58.266Z"
   },
   {
    "duration": 94,
    "start_time": "2021-07-07T15:01:39.033Z"
   },
   {
    "duration": 9,
    "start_time": "2021-07-07T15:02:21.144Z"
   },
   {
    "duration": 67,
    "start_time": "2021-07-07T15:03:46.843Z"
   },
   {
    "duration": 174,
    "start_time": "2021-07-07T15:03:49.031Z"
   },
   {
    "duration": 11,
    "start_time": "2021-07-07T15:03:51.149Z"
   },
   {
    "duration": 7,
    "start_time": "2021-07-07T15:04:18.904Z"
   },
   {
    "duration": 9,
    "start_time": "2021-07-07T15:04:26.471Z"
   },
   {
    "duration": 5,
    "start_time": "2021-07-07T15:04:39.951Z"
   },
   {
    "duration": 25,
    "start_time": "2021-07-07T15:04:48.207Z"
   },
   {
    "duration": 599,
    "start_time": "2021-07-07T15:04:59.159Z"
   },
   {
    "duration": 93,
    "start_time": "2021-07-07T15:08:24.711Z"
   },
   {
    "duration": 87,
    "start_time": "2021-07-07T15:08:46.582Z"
   },
   {
    "duration": 59,
    "start_time": "2021-07-07T15:08:47.182Z"
   },
   {
    "duration": 182,
    "start_time": "2021-07-07T15:08:47.797Z"
   },
   {
    "duration": 12,
    "start_time": "2021-07-07T15:08:48.471Z"
   },
   {
    "duration": 5,
    "start_time": "2021-07-07T15:08:49.454Z"
   },
   {
    "duration": 13,
    "start_time": "2021-07-07T15:08:50.166Z"
   },
   {
    "duration": 5,
    "start_time": "2021-07-07T15:08:50.742Z"
   },
   {
    "duration": 39,
    "start_time": "2021-07-07T15:08:51.246Z"
   },
   {
    "duration": 128686,
    "start_time": "2021-07-07T15:08:51.775Z"
   },
   {
    "duration": 186,
    "start_time": "2021-07-07T15:42:01.294Z"
   },
   {
    "duration": 78,
    "start_time": "2021-07-07T15:43:34.981Z"
   },
   {
    "duration": 67,
    "start_time": "2021-07-07T15:44:54.206Z"
   },
   {
    "duration": 72,
    "start_time": "2021-07-07T15:46:01.830Z"
   },
   {
    "duration": 173,
    "start_time": "2021-07-07T15:52:57.627Z"
   },
   {
    "duration": -45,
    "start_time": "2021-07-07T15:57:13.542Z"
   },
   {
    "duration": 9759,
    "start_time": "2021-07-07T15:57:15.338Z"
   },
   {
    "duration": 14686,
    "start_time": "2021-07-07T15:57:53.746Z"
   },
   {
    "duration": 524,
    "start_time": "2021-07-07T15:58:25.874Z"
   },
   {
    "duration": 4,
    "start_time": "2021-07-07T16:46:22.735Z"
   },
   {
    "duration": 994,
    "start_time": "2021-07-07T16:46:23.831Z"
   },
   {
    "duration": 465,
    "start_time": "2021-07-07T16:46:24.828Z"
   },
   {
    "duration": 104,
    "start_time": "2021-07-07T16:46:27.172Z"
   },
   {
    "duration": 208,
    "start_time": "2021-07-07T16:46:28.318Z"
   },
   {
    "duration": 10,
    "start_time": "2021-07-07T16:46:29.116Z"
   },
   {
    "duration": 74,
    "start_time": "2021-07-07T16:46:29.791Z"
   },
   {
    "duration": 38,
    "start_time": "2021-07-07T16:46:31.431Z"
   },
   {
    "duration": 1017,
    "start_time": "2021-07-07T16:46:33.413Z"
   },
   {
    "duration": 178,
    "start_time": "2021-07-07T16:46:38.300Z"
   },
   {
    "duration": 6235,
    "start_time": "2021-07-07T16:46:39.272Z"
   },
   {
    "duration": 1191,
    "start_time": "2021-07-07T16:46:45.512Z"
   },
   {
    "duration": 8878,
    "start_time": "2021-07-07T16:46:50.826Z"
   },
   {
    "duration": 6,
    "start_time": "2021-07-07T16:46:59.708Z"
   },
   {
    "duration": 928,
    "start_time": "2021-07-07T16:46:59.717Z"
   },
   {
    "duration": 19,
    "start_time": "2021-07-07T16:47:06.902Z"
   },
   {
    "duration": 454,
    "start_time": "2021-07-07T16:47:06.925Z"
   },
   {
    "duration": 8375,
    "start_time": "2021-07-07T16:47:43.285Z"
   },
   {
    "duration": 134,
    "start_time": "2021-07-07T16:48:08.930Z"
   },
   {
    "duration": 150,
    "start_time": "2021-07-07T16:48:23.893Z"
   },
   {
    "duration": 66,
    "start_time": "2021-07-07T16:48:35.209Z"
   },
   {
    "duration": 140,
    "start_time": "2021-07-07T16:48:40.145Z"
   },
   {
    "duration": 8725,
    "start_time": "2021-07-07T16:48:55.407Z"
   },
   {
    "duration": 236,
    "start_time": "2021-07-07T16:49:56.491Z"
   },
   {
    "duration": 146,
    "start_time": "2021-07-07T16:50:05.278Z"
   },
   {
    "duration": 38,
    "start_time": "2021-07-07T17:56:08.812Z"
   },
   {
    "duration": 38,
    "start_time": "2021-07-07T17:56:53.487Z"
   },
   {
    "duration": 41,
    "start_time": "2021-07-07T17:57:03.753Z"
   },
   {
    "duration": 48,
    "start_time": "2021-07-07T17:57:19.255Z"
   },
   {
    "duration": 73,
    "start_time": "2021-07-07T18:00:44.566Z"
   },
   {
    "duration": 77,
    "start_time": "2021-07-07T18:00:58.405Z"
   },
   {
    "duration": 68,
    "start_time": "2021-07-07T18:04:18.313Z"
   },
   {
    "duration": 80,
    "start_time": "2021-07-07T18:04:27.146Z"
   },
   {
    "duration": 76,
    "start_time": "2021-07-07T18:04:41.219Z"
   },
   {
    "duration": 263,
    "start_time": "2021-07-07T18:05:23.057Z"
   },
   {
    "duration": 11,
    "start_time": "2021-07-07T18:05:28.862Z"
   },
   {
    "duration": 178,
    "start_time": "2021-07-07T18:20:00.971Z"
   },
   {
    "duration": 166,
    "start_time": "2021-07-07T19:03:43.504Z"
   },
   {
    "duration": 182,
    "start_time": "2021-07-07T19:03:56.227Z"
   },
   {
    "duration": 2014,
    "start_time": "2021-07-08T07:56:41.546Z"
   },
   {
    "duration": 771,
    "start_time": "2021-07-08T07:56:43.563Z"
   },
   {
    "duration": 631,
    "start_time": "2021-07-08T07:56:44.337Z"
   },
   {
    "duration": 159,
    "start_time": "2021-07-08T07:56:44.971Z"
   },
   {
    "duration": 297,
    "start_time": "2021-07-08T07:56:45.133Z"
   },
   {
    "duration": 22,
    "start_time": "2021-07-08T07:56:45.433Z"
   },
   {
    "duration": 140,
    "start_time": "2021-07-08T07:56:45.458Z"
   },
   {
    "duration": 71,
    "start_time": "2021-07-08T07:56:45.603Z"
   },
   {
    "duration": 2533,
    "start_time": "2021-07-08T07:56:45.678Z"
   },
   {
    "duration": 289,
    "start_time": "2021-07-08T07:56:48.214Z"
   },
   {
    "duration": 6592,
    "start_time": "2021-07-08T07:56:48.506Z"
   },
   {
    "duration": 774,
    "start_time": "2021-07-08T07:56:55.102Z"
   },
   {
    "duration": 5,
    "start_time": "2021-07-08T07:56:55.879Z"
   },
   {
    "duration": 568,
    "start_time": "2021-07-08T07:56:55.886Z"
   },
   {
    "duration": 18,
    "start_time": "2021-07-08T07:56:56.457Z"
   },
   {
    "duration": 153,
    "start_time": "2021-07-08T07:56:56.477Z"
   },
   {
    "duration": 485,
    "start_time": "2021-07-08T07:56:56.632Z"
   },
   {
    "duration": -32,
    "start_time": "2021-07-08T07:56:57.151Z"
   },
   {
    "duration": -32,
    "start_time": "2021-07-08T07:56:57.153Z"
   },
   {
    "duration": -32,
    "start_time": "2021-07-08T07:56:57.155Z"
   },
   {
    "duration": -34,
    "start_time": "2021-07-08T07:56:57.158Z"
   },
   {
    "duration": -36,
    "start_time": "2021-07-08T07:56:57.161Z"
   },
   {
    "duration": -35,
    "start_time": "2021-07-08T07:56:57.162Z"
   },
   {
    "duration": -36,
    "start_time": "2021-07-08T07:56:57.164Z"
   },
   {
    "duration": 135,
    "start_time": "2021-07-08T08:03:32.600Z"
   },
   {
    "duration": 284,
    "start_time": "2021-07-08T08:03:42.130Z"
   },
   {
    "duration": 714,
    "start_time": "2021-07-08T08:14:15.420Z"
   },
   {
    "duration": 192,
    "start_time": "2021-07-08T08:14:47.157Z"
   },
   {
    "duration": 222,
    "start_time": "2021-07-08T08:14:56.333Z"
   },
   {
    "duration": 1968,
    "start_time": "2021-07-08T08:15:26.327Z"
   },
   {
    "duration": 833,
    "start_time": "2021-07-08T08:15:28.298Z"
   },
   {
    "duration": 402,
    "start_time": "2021-07-08T08:15:29.133Z"
   },
   {
    "duration": 119,
    "start_time": "2021-07-08T08:15:29.538Z"
   },
   {
    "duration": 215,
    "start_time": "2021-07-08T08:15:29.660Z"
   },
   {
    "duration": 10,
    "start_time": "2021-07-08T08:15:29.877Z"
   },
   {
    "duration": 93,
    "start_time": "2021-07-08T08:15:29.890Z"
   },
   {
    "duration": 44,
    "start_time": "2021-07-08T08:15:29.988Z"
   },
   {
    "duration": 1809,
    "start_time": "2021-07-08T08:15:30.036Z"
   },
   {
    "duration": 182,
    "start_time": "2021-07-08T08:15:31.854Z"
   },
   {
    "duration": 6277,
    "start_time": "2021-07-08T08:15:32.039Z"
   },
   {
    "duration": 764,
    "start_time": "2021-07-08T08:15:38.320Z"
   },
   {
    "duration": 5,
    "start_time": "2021-07-08T08:15:39.087Z"
   },
   {
    "duration": 586,
    "start_time": "2021-07-08T08:15:39.095Z"
   },
   {
    "duration": 19,
    "start_time": "2021-07-08T08:15:39.684Z"
   },
   {
    "duration": 205,
    "start_time": "2021-07-08T08:15:39.706Z"
   },
   {
    "duration": 7186,
    "start_time": "2021-07-08T08:15:39.914Z"
   },
   {
    "duration": -47,
    "start_time": "2021-07-08T08:15:47.150Z"
   },
   {
    "duration": -47,
    "start_time": "2021-07-08T08:15:47.152Z"
   },
   {
    "duration": -47,
    "start_time": "2021-07-08T08:15:47.154Z"
   },
   {
    "duration": -48,
    "start_time": "2021-07-08T08:15:47.156Z"
   },
   {
    "duration": -47,
    "start_time": "2021-07-08T08:15:47.157Z"
   },
   {
    "duration": -47,
    "start_time": "2021-07-08T08:15:47.159Z"
   },
   {
    "duration": -45,
    "start_time": "2021-07-08T08:15:47.160Z"
   },
   {
    "duration": 441,
    "start_time": "2021-07-08T08:18:21.823Z"
   },
   {
    "duration": 188,
    "start_time": "2021-07-08T08:18:36.325Z"
   },
   {
    "duration": 8130,
    "start_time": "2021-07-08T08:19:05.877Z"
   },
   {
    "duration": 201,
    "start_time": "2021-07-08T08:19:27.395Z"
   },
   {
    "duration": 1931,
    "start_time": "2021-07-08T08:19:39.869Z"
   },
   {
    "duration": 760,
    "start_time": "2021-07-08T08:19:41.803Z"
   },
   {
    "duration": 402,
    "start_time": "2021-07-08T08:19:42.569Z"
   },
   {
    "duration": 116,
    "start_time": "2021-07-08T08:19:42.973Z"
   },
   {
    "duration": 211,
    "start_time": "2021-07-08T08:19:43.091Z"
   },
   {
    "duration": 11,
    "start_time": "2021-07-08T08:19:43.305Z"
   },
   {
    "duration": 94,
    "start_time": "2021-07-08T08:19:43.320Z"
   },
   {
    "duration": 44,
    "start_time": "2021-07-08T08:19:43.417Z"
   },
   {
    "duration": 1784,
    "start_time": "2021-07-08T08:19:43.463Z"
   },
   {
    "duration": 192,
    "start_time": "2021-07-08T08:19:45.250Z"
   },
   {
    "duration": 6302,
    "start_time": "2021-07-08T08:19:45.445Z"
   },
   {
    "duration": 812,
    "start_time": "2021-07-08T08:19:51.751Z"
   },
   {
    "duration": 5,
    "start_time": "2021-07-08T08:19:52.565Z"
   },
   {
    "duration": 562,
    "start_time": "2021-07-08T08:19:52.573Z"
   },
   {
    "duration": 29,
    "start_time": "2021-07-08T08:19:53.137Z"
   },
   {
    "duration": 688,
    "start_time": "2021-07-08T08:19:53.168Z"
   },
   {
    "duration": -347,
    "start_time": "2021-07-08T08:19:54.205Z"
   },
   {
    "duration": -349,
    "start_time": "2021-07-08T08:19:54.209Z"
   },
   {
    "duration": -350,
    "start_time": "2021-07-08T08:19:54.211Z"
   },
   {
    "duration": -350,
    "start_time": "2021-07-08T08:19:54.212Z"
   },
   {
    "duration": -350,
    "start_time": "2021-07-08T08:19:54.214Z"
   },
   {
    "duration": -351,
    "start_time": "2021-07-08T08:19:54.216Z"
   },
   {
    "duration": -351,
    "start_time": "2021-07-08T08:19:54.217Z"
   },
   {
    "duration": -352,
    "start_time": "2021-07-08T08:19:54.220Z"
   },
   {
    "duration": 927,
    "start_time": "2021-07-08T08:20:43.245Z"
   },
   {
    "duration": 2144,
    "start_time": "2021-07-08T08:20:57.461Z"
   },
   {
    "duration": 739,
    "start_time": "2021-07-08T08:20:59.609Z"
   },
   {
    "duration": 429,
    "start_time": "2021-07-08T08:21:00.351Z"
   },
   {
    "duration": 101,
    "start_time": "2021-07-08T08:21:00.783Z"
   },
   {
    "duration": 217,
    "start_time": "2021-07-08T08:21:00.886Z"
   },
   {
    "duration": 11,
    "start_time": "2021-07-08T08:21:01.107Z"
   },
   {
    "duration": 133,
    "start_time": "2021-07-08T08:21:01.121Z"
   },
   {
    "duration": 45,
    "start_time": "2021-07-08T08:21:01.257Z"
   },
   {
    "duration": 1690,
    "start_time": "2021-07-08T08:21:01.305Z"
   },
   {
    "duration": 172,
    "start_time": "2021-07-08T08:21:02.998Z"
   },
   {
    "duration": 7323,
    "start_time": "2021-07-08T08:21:03.173Z"
   },
   {
    "duration": 1135,
    "start_time": "2021-07-08T08:21:10.499Z"
   },
   {
    "duration": 19,
    "start_time": "2021-07-08T08:21:11.636Z"
   },
   {
    "duration": 552,
    "start_time": "2021-07-08T08:21:11.658Z"
   },
   {
    "duration": 20,
    "start_time": "2021-07-08T08:21:12.214Z"
   },
   {
    "duration": 1900,
    "start_time": "2021-07-08T08:21:12.237Z"
   },
   {
    "duration": -27,
    "start_time": "2021-07-08T08:21:14.166Z"
   },
   {
    "duration": -28,
    "start_time": "2021-07-08T08:21:14.169Z"
   },
   {
    "duration": -27,
    "start_time": "2021-07-08T08:21:14.170Z"
   },
   {
    "duration": -28,
    "start_time": "2021-07-08T08:21:14.172Z"
   },
   {
    "duration": -27,
    "start_time": "2021-07-08T08:21:14.173Z"
   },
   {
    "duration": -28,
    "start_time": "2021-07-08T08:21:14.175Z"
   },
   {
    "duration": -28,
    "start_time": "2021-07-08T08:21:14.177Z"
   },
   {
    "duration": -29,
    "start_time": "2021-07-08T08:21:14.179Z"
   },
   {
    "duration": 206,
    "start_time": "2021-07-08T08:23:15.411Z"
   },
   {
    "duration": 816,
    "start_time": "2021-07-08T08:35:22.735Z"
   },
   {
    "duration": 869,
    "start_time": "2021-07-08T08:35:53.146Z"
   },
   {
    "duration": 1299,
    "start_time": "2021-07-08T08:36:01.954Z"
   },
   {
    "duration": 39,
    "start_time": "2021-07-08T08:36:32.377Z"
   },
   {
    "duration": 48,
    "start_time": "2021-07-08T08:36:40.655Z"
   },
   {
    "duration": 101,
    "start_time": "2021-07-08T08:38:38.918Z"
   },
   {
    "duration": 123,
    "start_time": "2021-07-08T08:38:47.344Z"
   },
   {
    "duration": 2199,
    "start_time": "2021-07-08T08:39:09.996Z"
   },
   {
    "duration": 782,
    "start_time": "2021-07-08T08:39:12.197Z"
   },
   {
    "duration": 395,
    "start_time": "2021-07-08T08:39:12.982Z"
   },
   {
    "duration": 112,
    "start_time": "2021-07-08T08:39:13.380Z"
   },
   {
    "duration": 210,
    "start_time": "2021-07-08T08:39:13.494Z"
   },
   {
    "duration": 10,
    "start_time": "2021-07-08T08:39:13.707Z"
   },
   {
    "duration": 90,
    "start_time": "2021-07-08T08:39:13.719Z"
   },
   {
    "duration": 49,
    "start_time": "2021-07-08T08:39:13.813Z"
   },
   {
    "duration": 1765,
    "start_time": "2021-07-08T08:39:13.864Z"
   },
   {
    "duration": 180,
    "start_time": "2021-07-08T08:39:15.632Z"
   },
   {
    "duration": 6235,
    "start_time": "2021-07-08T08:39:15.814Z"
   },
   {
    "duration": 761,
    "start_time": "2021-07-08T08:39:22.056Z"
   },
   {
    "duration": 4,
    "start_time": "2021-07-08T08:39:22.819Z"
   },
   {
    "duration": 560,
    "start_time": "2021-07-08T08:39:22.826Z"
   },
   {
    "duration": 19,
    "start_time": "2021-07-08T08:39:23.388Z"
   },
   {
    "duration": 130,
    "start_time": "2021-07-08T08:39:23.410Z"
   },
   {
    "duration": 613,
    "start_time": "2021-07-08T09:10:57.132Z"
   },
   {
    "duration": 10913,
    "start_time": "2021-07-08T09:11:06.927Z"
   },
   {
    "duration": 370,
    "start_time": "2021-07-08T09:12:51.236Z"
   },
   {
    "duration": 111,
    "start_time": "2021-07-08T09:13:13.306Z"
   },
   {
    "duration": 106,
    "start_time": "2021-07-08T09:14:10.891Z"
   },
   {
    "duration": 118,
    "start_time": "2021-07-08T09:14:27.195Z"
   },
   {
    "duration": 106,
    "start_time": "2021-07-08T09:14:36.898Z"
   },
   {
    "duration": 118,
    "start_time": "2021-07-08T09:17:38.850Z"
   },
   {
    "duration": 118,
    "start_time": "2021-07-08T09:18:03.722Z"
   },
   {
    "duration": 179,
    "start_time": "2021-07-08T09:25:13.561Z"
   },
   {
    "duration": 298,
    "start_time": "2021-07-08T09:25:18.712Z"
   },
   {
    "duration": 117,
    "start_time": "2021-07-08T09:25:44.431Z"
   },
   {
    "duration": 119,
    "start_time": "2021-07-08T09:25:51.727Z"
   },
   {
    "duration": 249,
    "start_time": "2021-07-08T09:29:26.202Z"
   },
   {
    "duration": 205,
    "start_time": "2021-07-08T09:29:40.451Z"
   },
   {
    "duration": 124,
    "start_time": "2021-07-08T09:30:20.220Z"
   },
   {
    "duration": 118,
    "start_time": "2021-07-08T09:30:22.939Z"
   },
   {
    "duration": 298,
    "start_time": "2021-07-08T09:30:23.951Z"
   },
   {
    "duration": 167,
    "start_time": "2021-07-08T09:30:37.591Z"
   },
   {
    "duration": 118,
    "start_time": "2021-07-08T09:33:10.117Z"
   },
   {
    "duration": 126,
    "start_time": "2021-07-08T09:33:10.675Z"
   },
   {
    "duration": 204,
    "start_time": "2021-07-08T09:33:11.339Z"
   },
   {
    "duration": 124,
    "start_time": "2021-07-08T09:33:33.149Z"
   },
   {
    "duration": 122,
    "start_time": "2021-07-08T09:33:33.603Z"
   },
   {
    "duration": 175,
    "start_time": "2021-07-08T09:33:34.085Z"
   },
   {
    "duration": 270,
    "start_time": "2021-07-08T09:43:24.495Z"
   },
   {
    "duration": 8,
    "start_time": "2021-07-08T09:44:25.030Z"
   },
   {
    "duration": 16,
    "start_time": "2021-07-08T09:44:40.246Z"
   },
   {
    "duration": 128,
    "start_time": "2021-07-08T09:45:17.489Z"
   },
   {
    "duration": 144,
    "start_time": "2021-07-08T09:45:17.621Z"
   },
   {
    "duration": 215,
    "start_time": "2021-07-08T09:45:20.729Z"
   },
   {
    "duration": 18,
    "start_time": "2021-07-08T09:45:21.966Z"
   },
   {
    "duration": 122,
    "start_time": "2021-07-08T09:47:49.496Z"
   },
   {
    "duration": 130,
    "start_time": "2021-07-08T09:47:50.423Z"
   },
   {
    "duration": 167,
    "start_time": "2021-07-08T09:47:51.320Z"
   },
   {
    "duration": 118,
    "start_time": "2021-07-08T09:51:01.741Z"
   },
   {
    "duration": 126,
    "start_time": "2021-07-08T09:51:04.630Z"
   },
   {
    "duration": 301,
    "start_time": "2021-07-08T09:51:10.070Z"
   },
   {
    "duration": 194,
    "start_time": "2021-07-08T09:52:05.087Z"
   },
   {
    "duration": 20,
    "start_time": "2021-07-08T09:53:01.962Z"
   },
   {
    "duration": 10,
    "start_time": "2021-07-08T09:53:14.284Z"
   },
   {
    "duration": 250,
    "start_time": "2021-07-08T09:54:27.221Z"
   },
   {
    "duration": 1809,
    "start_time": "2021-07-08T09:54:38.261Z"
   },
   {
    "duration": 1157,
    "start_time": "2021-07-08T09:54:59.277Z"
   },
   {
    "duration": 1777,
    "start_time": "2021-07-08T09:55:06.388Z"
   },
   {
    "duration": 1690,
    "start_time": "2021-07-08T09:55:21.493Z"
   },
   {
    "duration": 261,
    "start_time": "2021-07-08T09:55:45.322Z"
   },
   {
    "duration": 34,
    "start_time": "2021-07-08T09:55:52.372Z"
   },
   {
    "duration": 273,
    "start_time": "2021-07-08T09:56:44.452Z"
   },
   {
    "duration": 113,
    "start_time": "2021-07-08T09:57:03.860Z"
   },
   {
    "duration": 10,
    "start_time": "2021-07-08T09:57:43.859Z"
   },
   {
    "duration": 104,
    "start_time": "2021-07-08T09:57:46.345Z"
   },
   {
    "duration": 6,
    "start_time": "2021-07-08T09:58:04.114Z"
   },
   {
    "duration": 1778,
    "start_time": "2021-07-08T09:58:15.938Z"
   },
   {
    "duration": 2615,
    "start_time": "2021-07-08T09:58:28.961Z"
   },
   {
    "duration": 1864,
    "start_time": "2021-07-08T10:00:26.369Z"
   },
   {
    "duration": 36,
    "start_time": "2021-07-08T10:00:44.018Z"
   },
   {
    "duration": 273,
    "start_time": "2021-07-08T10:01:51.914Z"
   },
   {
    "duration": 1900,
    "start_time": "2021-07-08T10:02:01.465Z"
   },
   {
    "duration": 11,
    "start_time": "2021-07-08T10:03:10.848Z"
   },
   {
    "duration": 1812,
    "start_time": "2021-07-08T10:03:49.287Z"
   },
   {
    "duration": 937,
    "start_time": "2021-07-08T10:03:51.102Z"
   },
   {
    "duration": 425,
    "start_time": "2021-07-08T10:03:52.042Z"
   },
   {
    "duration": 114,
    "start_time": "2021-07-08T10:03:52.470Z"
   },
   {
    "duration": 217,
    "start_time": "2021-07-08T10:03:52.586Z"
   },
   {
    "duration": 10,
    "start_time": "2021-07-08T10:03:52.805Z"
   },
   {
    "duration": 93,
    "start_time": "2021-07-08T10:03:52.818Z"
   },
   {
    "duration": 50,
    "start_time": "2021-07-08T10:03:52.916Z"
   },
   {
    "duration": 1854,
    "start_time": "2021-07-08T10:03:52.969Z"
   },
   {
    "duration": 199,
    "start_time": "2021-07-08T10:03:54.826Z"
   },
   {
    "duration": 6471,
    "start_time": "2021-07-08T10:03:55.027Z"
   },
   {
    "duration": 795,
    "start_time": "2021-07-08T10:04:01.502Z"
   },
   {
    "duration": 5,
    "start_time": "2021-07-08T10:04:02.300Z"
   },
   {
    "duration": 560,
    "start_time": "2021-07-08T10:04:02.307Z"
   },
   {
    "duration": 20,
    "start_time": "2021-07-08T10:04:02.870Z"
   },
   {
    "duration": 147,
    "start_time": "2021-07-08T10:04:02.892Z"
   },
   {
    "duration": 141,
    "start_time": "2021-07-08T10:04:03.041Z"
   },
   {
    "duration": 203,
    "start_time": "2021-07-08T10:04:03.185Z"
   },
   {
    "duration": 10,
    "start_time": "2021-07-08T10:04:03.390Z"
   },
   {
    "duration": 14,
    "start_time": "2021-07-08T10:04:03.403Z"
   },
   {
    "duration": 6,
    "start_time": "2021-07-08T10:04:34.361Z"
   },
   {
    "duration": 190,
    "start_time": "2021-07-08T10:08:29.159Z"
   },
   {
    "duration": 6,
    "start_time": "2021-07-08T10:08:49.077Z"
   },
   {
    "duration": 193,
    "start_time": "2021-07-08T10:08:54.193Z"
   },
   {
    "duration": 116,
    "start_time": "2021-07-08T10:22:03.396Z"
   },
   {
    "duration": 1976,
    "start_time": "2021-07-08T10:22:04.042Z"
   },
   {
    "duration": -41,
    "start_time": "2021-07-08T10:22:06.062Z"
   },
   {
    "duration": -41,
    "start_time": "2021-07-08T10:22:06.064Z"
   },
   {
    "duration": 1936,
    "start_time": "2021-07-08T10:22:13.120Z"
   },
   {
    "duration": 855,
    "start_time": "2021-07-08T10:22:15.059Z"
   },
   {
    "duration": 418,
    "start_time": "2021-07-08T10:22:15.917Z"
   },
   {
    "duration": 102,
    "start_time": "2021-07-08T10:22:16.338Z"
   },
   {
    "duration": 220,
    "start_time": "2021-07-08T10:22:16.442Z"
   },
   {
    "duration": 11,
    "start_time": "2021-07-08T10:22:16.664Z"
   },
   {
    "duration": 95,
    "start_time": "2021-07-08T10:22:16.678Z"
   },
   {
    "duration": 36,
    "start_time": "2021-07-08T10:22:16.777Z"
   },
   {
    "duration": 1821,
    "start_time": "2021-07-08T10:22:16.816Z"
   },
   {
    "duration": 189,
    "start_time": "2021-07-08T10:22:18.640Z"
   },
   {
    "duration": 6529,
    "start_time": "2021-07-08T10:22:18.832Z"
   },
   {
    "duration": 806,
    "start_time": "2021-07-08T10:22:25.363Z"
   },
   {
    "duration": 5,
    "start_time": "2021-07-08T10:22:26.172Z"
   },
   {
    "duration": 554,
    "start_time": "2021-07-08T10:22:26.179Z"
   },
   {
    "duration": 29,
    "start_time": "2021-07-08T10:22:26.736Z"
   },
   {
    "duration": 135,
    "start_time": "2021-07-08T10:22:26.767Z"
   },
   {
    "duration": 139,
    "start_time": "2021-07-08T10:22:26.905Z"
   },
   {
    "duration": 6994,
    "start_time": "2021-07-08T10:22:27.046Z"
   },
   {
    "duration": -37,
    "start_time": "2021-07-08T10:22:34.079Z"
   },
   {
    "duration": -38,
    "start_time": "2021-07-08T10:22:34.081Z"
   },
   {
    "duration": 1819,
    "start_time": "2021-07-08T10:23:01.477Z"
   },
   {
    "duration": 733,
    "start_time": "2021-07-08T10:23:03.299Z"
   },
   {
    "duration": 402,
    "start_time": "2021-07-08T10:23:04.035Z"
   },
   {
    "duration": 170,
    "start_time": "2021-07-08T10:23:04.441Z"
   },
   {
    "duration": 226,
    "start_time": "2021-07-08T10:23:04.614Z"
   },
   {
    "duration": 19,
    "start_time": "2021-07-08T10:23:04.842Z"
   },
   {
    "duration": 83,
    "start_time": "2021-07-08T10:23:04.863Z"
   },
   {
    "duration": 42,
    "start_time": "2021-07-08T10:23:04.949Z"
   },
   {
    "duration": 1785,
    "start_time": "2021-07-08T10:23:04.994Z"
   },
   {
    "duration": 199,
    "start_time": "2021-07-08T10:23:06.781Z"
   },
   {
    "duration": 6417,
    "start_time": "2021-07-08T10:23:06.983Z"
   },
   {
    "duration": 871,
    "start_time": "2021-07-08T10:23:13.402Z"
   },
   {
    "duration": 6,
    "start_time": "2021-07-08T10:23:14.276Z"
   },
   {
    "duration": 590,
    "start_time": "2021-07-08T10:23:14.284Z"
   },
   {
    "duration": 18,
    "start_time": "2021-07-08T10:23:14.876Z"
   },
   {
    "duration": 152,
    "start_time": "2021-07-08T10:23:14.897Z"
   },
   {
    "duration": 135,
    "start_time": "2021-07-08T10:23:15.054Z"
   },
   {
    "duration": 11,
    "start_time": "2021-07-08T10:23:15.191Z"
   },
   {
    "duration": 5,
    "start_time": "2021-07-08T10:23:15.205Z"
   },
   {
    "duration": 7,
    "start_time": "2021-07-08T10:23:15.212Z"
   },
   {
    "duration": 224,
    "start_time": "2021-07-08T10:23:15.223Z"
   },
   {
    "duration": 124,
    "start_time": "2021-07-08T10:29:35.620Z"
   },
   {
    "duration": 15,
    "start_time": "2021-07-08T10:29:38.984Z"
   },
   {
    "duration": 10,
    "start_time": "2021-07-08T10:31:08.356Z"
   },
   {
    "duration": 14,
    "start_time": "2021-07-08T10:31:19.374Z"
   },
   {
    "duration": 5,
    "start_time": "2021-07-08T10:32:11.911Z"
   },
   {
    "duration": 9,
    "start_time": "2021-07-08T10:38:35.255Z"
   },
   {
    "duration": 15,
    "start_time": "2021-07-08T10:40:58.874Z"
   },
   {
    "duration": 6597,
    "start_time": "2021-07-08T10:45:05.634Z"
   },
   {
    "duration": 5,
    "start_time": "2021-07-08T10:45:25.211Z"
   },
   {
    "duration": 35,
    "start_time": "2021-07-08T10:45:29.905Z"
   },
   {
    "duration": 2249,
    "start_time": "2021-07-08T10:45:34.298Z"
   },
   {
    "duration": 6884,
    "start_time": "2021-07-08T10:45:53.555Z"
   },
   {
    "duration": -35,
    "start_time": "2021-07-08T10:46:00.477Z"
   },
   {
    "duration": 1817,
    "start_time": "2021-07-08T10:46:11.083Z"
   },
   {
    "duration": 985,
    "start_time": "2021-07-08T10:46:12.903Z"
   },
   {
    "duration": 419,
    "start_time": "2021-07-08T10:46:13.894Z"
   },
   {
    "duration": 123,
    "start_time": "2021-07-08T10:46:14.315Z"
   },
   {
    "duration": 218,
    "start_time": "2021-07-08T10:46:14.441Z"
   },
   {
    "duration": 11,
    "start_time": "2021-07-08T10:46:14.661Z"
   },
   {
    "duration": 93,
    "start_time": "2021-07-08T10:46:14.675Z"
   },
   {
    "duration": 37,
    "start_time": "2021-07-08T10:46:14.771Z"
   },
   {
    "duration": 1799,
    "start_time": "2021-07-08T10:46:14.810Z"
   },
   {
    "duration": 194,
    "start_time": "2021-07-08T10:46:16.611Z"
   },
   {
    "duration": 6259,
    "start_time": "2021-07-08T10:46:16.808Z"
   },
   {
    "duration": 752,
    "start_time": "2021-07-08T10:46:23.070Z"
   },
   {
    "duration": 5,
    "start_time": "2021-07-08T10:46:23.824Z"
   },
   {
    "duration": 588,
    "start_time": "2021-07-08T10:46:23.831Z"
   },
   {
    "duration": 19,
    "start_time": "2021-07-08T10:46:24.422Z"
   },
   {
    "duration": 134,
    "start_time": "2021-07-08T10:46:24.455Z"
   },
   {
    "duration": 135,
    "start_time": "2021-07-08T10:46:24.592Z"
   },
   {
    "duration": 10,
    "start_time": "2021-07-08T10:46:24.730Z"
   },
   {
    "duration": 5,
    "start_time": "2021-07-08T10:46:24.755Z"
   },
   {
    "duration": 8,
    "start_time": "2021-07-08T10:46:24.762Z"
   },
   {
    "duration": 206,
    "start_time": "2021-07-08T10:46:24.772Z"
   },
   {
    "duration": 141,
    "start_time": "2021-07-08T10:46:24.983Z"
   },
   {
    "duration": 10,
    "start_time": "2021-07-08T10:46:25.126Z"
   },
   {
    "duration": 5,
    "start_time": "2021-07-08T10:46:25.155Z"
   },
   {
    "duration": 734,
    "start_time": "2021-07-08T10:46:25.162Z"
   },
   {
    "duration": -38,
    "start_time": "2021-07-08T10:46:25.937Z"
   },
   {
    "duration": 6827,
    "start_time": "2021-07-08T10:46:54.647Z"
   },
   {
    "duration": -32,
    "start_time": "2021-07-08T10:47:01.510Z"
   },
   {
    "duration": 1967,
    "start_time": "2021-07-08T10:47:34.047Z"
   },
   {
    "duration": 753,
    "start_time": "2021-07-08T10:47:36.017Z"
   },
   {
    "duration": 431,
    "start_time": "2021-07-08T10:47:36.777Z"
   },
   {
    "duration": 124,
    "start_time": "2021-07-08T10:47:37.211Z"
   },
   {
    "duration": 221,
    "start_time": "2021-07-08T10:47:37.338Z"
   },
   {
    "duration": 12,
    "start_time": "2021-07-08T10:47:37.562Z"
   },
   {
    "duration": 104,
    "start_time": "2021-07-08T10:47:37.580Z"
   },
   {
    "duration": 39,
    "start_time": "2021-07-08T10:47:37.688Z"
   },
   {
    "duration": 1940,
    "start_time": "2021-07-08T10:47:37.731Z"
   },
   {
    "duration": 193,
    "start_time": "2021-07-08T10:47:39.674Z"
   },
   {
    "duration": 6271,
    "start_time": "2021-07-08T10:47:39.870Z"
   },
   {
    "duration": 771,
    "start_time": "2021-07-08T10:47:46.155Z"
   },
   {
    "duration": 5,
    "start_time": "2021-07-08T10:47:46.928Z"
   },
   {
    "duration": 557,
    "start_time": "2021-07-08T10:47:46.936Z"
   },
   {
    "duration": 19,
    "start_time": "2021-07-08T10:47:47.496Z"
   },
   {
    "duration": 144,
    "start_time": "2021-07-08T10:47:47.517Z"
   },
   {
    "duration": 135,
    "start_time": "2021-07-08T10:47:47.663Z"
   },
   {
    "duration": 11,
    "start_time": "2021-07-08T10:47:47.801Z"
   },
   {
    "duration": 7,
    "start_time": "2021-07-08T10:47:47.814Z"
   },
   {
    "duration": 31,
    "start_time": "2021-07-08T10:47:47.823Z"
   },
   {
    "duration": 200,
    "start_time": "2021-07-08T10:47:47.857Z"
   },
   {
    "duration": 142,
    "start_time": "2021-07-08T10:47:48.062Z"
   },
   {
    "duration": 10,
    "start_time": "2021-07-08T10:47:48.207Z"
   },
   {
    "duration": 20,
    "start_time": "2021-07-08T10:47:48.219Z"
   },
   {
    "duration": 36,
    "start_time": "2021-07-08T10:47:48.242Z"
   },
   {
    "duration": 2023,
    "start_time": "2021-07-08T10:47:48.280Z"
   },
   {
    "duration": 2182,
    "start_time": "2021-07-08T12:25:07.078Z"
   },
   {
    "duration": 839,
    "start_time": "2021-07-08T12:25:09.264Z"
   },
   {
    "duration": 423,
    "start_time": "2021-07-08T12:25:10.106Z"
   },
   {
    "duration": 113,
    "start_time": "2021-07-08T12:25:10.532Z"
   },
   {
    "duration": 225,
    "start_time": "2021-07-08T12:25:10.656Z"
   },
   {
    "duration": 11,
    "start_time": "2021-07-08T12:25:10.883Z"
   },
   {
    "duration": 100,
    "start_time": "2021-07-08T12:25:10.897Z"
   },
   {
    "duration": 52,
    "start_time": "2021-07-08T12:25:11.003Z"
   },
   {
    "duration": 2058,
    "start_time": "2021-07-08T12:25:11.058Z"
   },
   {
    "duration": 301,
    "start_time": "2021-07-08T12:25:13.118Z"
   },
   {
    "duration": 6658,
    "start_time": "2021-07-08T12:25:13.421Z"
   },
   {
    "duration": 857,
    "start_time": "2021-07-08T12:25:20.082Z"
   },
   {
    "duration": 6,
    "start_time": "2021-07-08T12:25:20.941Z"
   },
   {
    "duration": 582,
    "start_time": "2021-07-08T12:25:20.956Z"
   },
   {
    "duration": 32,
    "start_time": "2021-07-08T12:25:21.541Z"
   },
   {
    "duration": 140,
    "start_time": "2021-07-08T12:25:21.577Z"
   },
   {
    "duration": 146,
    "start_time": "2021-07-08T12:25:21.720Z"
   },
   {
    "duration": 10,
    "start_time": "2021-07-08T12:25:21.869Z"
   },
   {
    "duration": 17,
    "start_time": "2021-07-08T12:25:21.882Z"
   },
   {
    "duration": 2304,
    "start_time": "2021-07-08T12:25:21.901Z"
   },
   {
    "duration": 1989,
    "start_time": "2021-07-08T12:26:21.024Z"
   },
   {
    "duration": 836,
    "start_time": "2021-07-08T12:26:23.016Z"
   },
   {
    "duration": 444,
    "start_time": "2021-07-08T12:26:23.856Z"
   },
   {
    "duration": 123,
    "start_time": "2021-07-08T12:26:24.302Z"
   },
   {
    "duration": 231,
    "start_time": "2021-07-08T12:26:24.427Z"
   },
   {
    "duration": 14,
    "start_time": "2021-07-08T12:26:24.660Z"
   },
   {
    "duration": 92,
    "start_time": "2021-07-08T12:26:24.677Z"
   },
   {
    "duration": 37,
    "start_time": "2021-07-08T12:26:24.774Z"
   },
   {
    "duration": 1892,
    "start_time": "2021-07-08T12:26:24.814Z"
   },
   {
    "duration": 194,
    "start_time": "2021-07-08T12:26:26.708Z"
   },
   {
    "duration": 6596,
    "start_time": "2021-07-08T12:26:26.905Z"
   },
   {
    "duration": 899,
    "start_time": "2021-07-08T12:26:33.503Z"
   },
   {
    "duration": 6,
    "start_time": "2021-07-08T12:26:34.406Z"
   },
   {
    "duration": 672,
    "start_time": "2021-07-08T12:26:34.416Z"
   },
   {
    "duration": 19,
    "start_time": "2021-07-08T12:26:35.091Z"
   },
   {
    "duration": 148,
    "start_time": "2021-07-08T12:26:35.113Z"
   },
   {
    "duration": 2368,
    "start_time": "2021-07-08T12:26:35.263Z"
   },
   {
    "duration": 9,
    "start_time": "2021-07-08T12:28:26.789Z"
   },
   {
    "duration": 512,
    "start_time": "2021-07-08T13:41:55.327Z"
   },
   {
    "duration": 59,
    "start_time": "2021-07-08T13:45:49.983Z"
   },
   {
    "duration": 306,
    "start_time": "2021-07-08T13:53:53.150Z"
   },
   {
    "duration": 24,
    "start_time": "2021-07-08T13:54:06.483Z"
   },
   {
    "duration": 21,
    "start_time": "2021-07-08T13:54:22.636Z"
   },
   {
    "duration": 29,
    "start_time": "2021-07-08T13:54:31.780Z"
   },
   {
    "duration": 21,
    "start_time": "2021-07-08T13:54:45.266Z"
   },
   {
    "duration": 32,
    "start_time": "2021-07-08T13:56:38.460Z"
   },
   {
    "duration": 95,
    "start_time": "2021-07-08T13:57:10.803Z"
   },
   {
    "duration": 24,
    "start_time": "2021-07-08T13:57:30.459Z"
   },
   {
    "duration": 484,
    "start_time": "2021-07-08T14:12:51.359Z"
   },
   {
    "duration": 22,
    "start_time": "2021-07-08T14:20:41.172Z"
   },
   {
    "duration": 27,
    "start_time": "2021-07-08T14:21:01.191Z"
   },
   {
    "duration": 21,
    "start_time": "2021-07-08T14:21:10.461Z"
   },
   {
    "duration": 985,
    "start_time": "2021-07-08T14:22:37.638Z"
   },
   {
    "duration": 1011,
    "start_time": "2021-07-08T14:23:49.375Z"
   },
   {
    "duration": 1107,
    "start_time": "2021-07-08T14:24:43.525Z"
   },
   {
    "duration": 1189,
    "start_time": "2021-07-08T14:24:55.938Z"
   },
   {
    "duration": 11,
    "start_time": "2021-07-08T14:25:05.981Z"
   },
   {
    "duration": 895,
    "start_time": "2021-07-08T14:26:26.773Z"
   },
   {
    "duration": 6,
    "start_time": "2021-07-08T14:51:23.833Z"
   },
   {
    "duration": 1214,
    "start_time": "2021-07-08T14:51:41.673Z"
   },
   {
    "duration": 1879,
    "start_time": "2021-07-08T14:51:52.455Z"
   },
   {
    "duration": 756,
    "start_time": "2021-07-08T14:51:54.336Z"
   },
   {
    "duration": 411,
    "start_time": "2021-07-08T14:51:55.095Z"
   },
   {
    "duration": 117,
    "start_time": "2021-07-08T14:51:55.510Z"
   },
   {
    "duration": 218,
    "start_time": "2021-07-08T14:51:55.630Z"
   },
   {
    "duration": 11,
    "start_time": "2021-07-08T14:51:55.855Z"
   },
   {
    "duration": 94,
    "start_time": "2021-07-08T14:51:55.868Z"
   },
   {
    "duration": 39,
    "start_time": "2021-07-08T14:51:55.966Z"
   },
   {
    "duration": 1882,
    "start_time": "2021-07-08T14:51:56.008Z"
   },
   {
    "duration": 190,
    "start_time": "2021-07-08T14:51:57.892Z"
   },
   {
    "duration": 6470,
    "start_time": "2021-07-08T14:51:58.084Z"
   },
   {
    "duration": 1140,
    "start_time": "2021-07-08T14:52:04.558Z"
   },
   {
    "duration": 59,
    "start_time": "2021-07-08T14:52:05.702Z"
   },
   {
    "duration": 557,
    "start_time": "2021-07-08T14:52:05.763Z"
   },
   {
    "duration": 33,
    "start_time": "2021-07-08T14:52:06.323Z"
   },
   {
    "duration": 133,
    "start_time": "2021-07-08T14:52:06.359Z"
   },
   {
    "duration": 2598,
    "start_time": "2021-07-08T14:52:06.495Z"
   },
   {
    "duration": 7,
    "start_time": "2021-07-08T14:52:09.095Z"
   },
   {
    "duration": 1581,
    "start_time": "2021-07-08T14:52:09.104Z"
   },
   {
    "duration": 1585,
    "start_time": "2021-07-08T14:52:10.688Z"
   },
   {
    "duration": 1512,
    "start_time": "2021-07-08T14:52:12.276Z"
   },
   {
    "duration": 952,
    "start_time": "2021-07-08T14:52:13.790Z"
   },
   {
    "duration": 7,
    "start_time": "2021-07-08T15:11:48.799Z"
   },
   {
    "duration": 1084,
    "start_time": "2021-07-08T15:11:50.640Z"
   },
   {
    "duration": 6,
    "start_time": "2021-07-08T15:11:56.224Z"
   },
   {
    "duration": 1067,
    "start_time": "2021-07-08T15:11:57.007Z"
   },
   {
    "duration": 2040,
    "start_time": "2021-07-08T15:12:10.898Z"
   },
   {
    "duration": 913,
    "start_time": "2021-07-08T15:12:12.940Z"
   },
   {
    "duration": 429,
    "start_time": "2021-07-08T15:12:13.856Z"
   },
   {
    "duration": 118,
    "start_time": "2021-07-08T15:12:14.287Z"
   },
   {
    "duration": 300,
    "start_time": "2021-07-08T15:12:14.408Z"
   },
   {
    "duration": 13,
    "start_time": "2021-07-08T15:12:14.711Z"
   },
   {
    "duration": 95,
    "start_time": "2021-07-08T15:12:14.726Z"
   },
   {
    "duration": 56,
    "start_time": "2021-07-08T15:12:14.825Z"
   },
   {
    "duration": 1861,
    "start_time": "2021-07-08T15:12:14.885Z"
   },
   {
    "duration": 198,
    "start_time": "2021-07-08T15:12:16.749Z"
   },
   {
    "duration": 6716,
    "start_time": "2021-07-08T15:12:16.950Z"
   },
   {
    "duration": 813,
    "start_time": "2021-07-08T15:12:23.668Z"
   },
   {
    "duration": 6,
    "start_time": "2021-07-08T15:12:24.483Z"
   },
   {
    "duration": 579,
    "start_time": "2021-07-08T15:12:24.492Z"
   },
   {
    "duration": 21,
    "start_time": "2021-07-08T15:12:25.074Z"
   },
   {
    "duration": 149,
    "start_time": "2021-07-08T15:12:25.097Z"
   },
   {
    "duration": 2571,
    "start_time": "2021-07-08T15:12:25.248Z"
   },
   {
    "duration": 6,
    "start_time": "2021-07-08T15:12:27.822Z"
   },
   {
    "duration": 552,
    "start_time": "2021-07-08T15:12:27.830Z"
   },
   {
    "duration": -38,
    "start_time": "2021-07-08T15:12:28.422Z"
   },
   {
    "duration": -37,
    "start_time": "2021-07-08T15:12:28.423Z"
   },
   {
    "duration": -39,
    "start_time": "2021-07-08T15:12:28.426Z"
   },
   {
    "duration": 3656,
    "start_time": "2021-07-08T15:12:47.201Z"
   },
   {
    "duration": 6,
    "start_time": "2021-07-08T15:12:58.968Z"
   },
   {
    "duration": 1108,
    "start_time": "2021-07-08T15:12:59.752Z"
   },
   {
    "duration": 5,
    "start_time": "2021-07-08T15:13:04.633Z"
   },
   {
    "duration": 992,
    "start_time": "2021-07-08T15:13:05.665Z"
   },
   {
    "duration": 2932,
    "start_time": "2021-07-08T15:14:23.104Z"
   },
   {
    "duration": 7,
    "start_time": "2021-07-08T15:14:53.192Z"
   },
   {
    "duration": 3181,
    "start_time": "2021-07-08T15:14:53.744Z"
   },
   {
    "duration": 7,
    "start_time": "2021-07-08T15:15:07.536Z"
   },
   {
    "duration": 2957,
    "start_time": "2021-07-08T15:15:08.248Z"
   },
   {
    "duration": 9,
    "start_time": "2021-07-08T15:20:39.205Z"
   },
   {
    "duration": 3035,
    "start_time": "2021-07-08T15:20:39.661Z"
   },
   {
    "duration": 266,
    "start_time": "2021-07-08T15:22:48.147Z"
   },
   {
    "duration": 24,
    "start_time": "2021-07-08T15:23:03.331Z"
   },
   {
    "duration": 50,
    "start_time": "2021-07-08T15:23:59.577Z"
   },
   {
    "duration": 38,
    "start_time": "2021-07-08T15:24:26.532Z"
   },
   {
    "duration": 285,
    "start_time": "2021-07-08T15:29:12.945Z"
   },
   {
    "duration": 85,
    "start_time": "2021-07-08T15:29:32.476Z"
   },
   {
    "duration": 34,
    "start_time": "2021-07-08T15:30:13.066Z"
   },
   {
    "duration": 41,
    "start_time": "2021-07-08T15:33:35.517Z"
   },
   {
    "duration": 186,
    "start_time": "2021-07-08T15:34:00.641Z"
   },
   {
    "duration": 35,
    "start_time": "2021-07-08T15:37:21.183Z"
   },
   {
    "duration": 349,
    "start_time": "2021-07-08T15:37:48.206Z"
   },
   {
    "duration": 38,
    "start_time": "2021-07-08T15:38:01.254Z"
   },
   {
    "duration": 189,
    "start_time": "2021-07-08T15:38:42.908Z"
   },
   {
    "duration": 300,
    "start_time": "2021-07-08T15:38:46.863Z"
   },
   {
    "duration": 44,
    "start_time": "2021-07-08T15:39:00.622Z"
   },
   {
    "duration": 303,
    "start_time": "2021-07-08T15:39:19.293Z"
   },
   {
    "duration": 295,
    "start_time": "2021-07-08T15:41:09.966Z"
   },
   {
    "duration": 4,
    "start_time": "2021-07-08T15:41:55.852Z"
   },
   {
    "duration": 15,
    "start_time": "2021-07-08T15:55:56.265Z"
   },
   {
    "duration": 35,
    "start_time": "2021-07-08T15:56:15.581Z"
   },
   {
    "duration": 14,
    "start_time": "2021-07-08T16:27:06.889Z"
   },
   {
    "duration": 260,
    "start_time": "2021-07-08T16:27:45.362Z"
   },
   {
    "duration": 295,
    "start_time": "2021-07-08T16:28:09.730Z"
   },
   {
    "duration": 9297,
    "start_time": "2021-07-08T16:28:23.280Z"
   },
   {
    "duration": 18,
    "start_time": "2021-07-08T16:28:59.888Z"
   },
   {
    "duration": 3521,
    "start_time": "2021-07-08T16:29:05.016Z"
   },
   {
    "duration": 3978,
    "start_time": "2021-07-08T16:29:33.185Z"
   },
   {
    "duration": 259,
    "start_time": "2021-07-08T16:30:36.970Z"
   },
   {
    "duration": 5,
    "start_time": "2021-07-08T16:30:57.550Z"
   },
   {
    "duration": 6,
    "start_time": "2021-07-08T16:31:01.559Z"
   },
   {
    "duration": 239,
    "start_time": "2021-07-08T16:32:51.925Z"
   },
   {
    "duration": 16,
    "start_time": "2021-07-08T16:33:19.383Z"
   },
   {
    "duration": 3374,
    "start_time": "2021-07-08T16:33:26.797Z"
   },
   {
    "duration": 7,
    "start_time": "2021-07-08T16:33:33.277Z"
   },
   {
    "duration": 6,
    "start_time": "2021-07-08T16:33:35.664Z"
   },
   {
    "duration": 6,
    "start_time": "2021-07-08T16:34:01.008Z"
   },
   {
    "duration": 9,
    "start_time": "2021-07-08T16:35:18.959Z"
   },
   {
    "duration": 60,
    "start_time": "2021-07-08T16:42:38.085Z"
   },
   {
    "duration": 20,
    "start_time": "2021-07-08T16:42:42.348Z"
   },
   {
    "duration": 118,
    "start_time": "2021-07-08T16:46:44.769Z"
   },
   {
    "duration": 257,
    "start_time": "2021-07-08T16:46:52.650Z"
   },
   {
    "duration": 77,
    "start_time": "2021-07-08T16:47:05.664Z"
   },
   {
    "duration": 9644,
    "start_time": "2021-07-08T16:58:38.007Z"
   },
   {
    "duration": 9,
    "start_time": "2021-07-08T17:00:00.678Z"
   },
   {
    "duration": 8,
    "start_time": "2021-07-08T17:00:12.742Z"
   },
   {
    "duration": 11,
    "start_time": "2021-07-08T17:01:37.629Z"
   },
   {
    "duration": 11,
    "start_time": "2021-07-08T17:01:45.523Z"
   },
   {
    "duration": 2706,
    "start_time": "2021-07-08T19:12:52.655Z"
   },
   {
    "duration": 2716,
    "start_time": "2021-07-08T19:12:55.365Z"
   },
   {
    "duration": 407,
    "start_time": "2021-07-08T19:12:58.084Z"
   },
   {
    "duration": 119,
    "start_time": "2021-07-08T19:12:58.494Z"
   },
   {
    "duration": 214,
    "start_time": "2021-07-08T19:12:58.615Z"
   },
   {
    "duration": 10,
    "start_time": "2021-07-08T19:12:58.832Z"
   },
   {
    "duration": 92,
    "start_time": "2021-07-08T19:12:58.845Z"
   },
   {
    "duration": 56,
    "start_time": "2021-07-08T19:12:58.940Z"
   },
   {
    "duration": 1824,
    "start_time": "2021-07-08T19:12:59.000Z"
   },
   {
    "duration": 193,
    "start_time": "2021-07-08T19:13:00.827Z"
   },
   {
    "duration": 6636,
    "start_time": "2021-07-08T19:13:01.022Z"
   },
   {
    "duration": 1152,
    "start_time": "2021-07-08T19:13:07.660Z"
   },
   {
    "duration": 5,
    "start_time": "2021-07-08T19:13:08.814Z"
   },
   {
    "duration": 604,
    "start_time": "2021-07-08T19:13:08.821Z"
   },
   {
    "duration": 20,
    "start_time": "2021-07-08T19:13:09.428Z"
   },
   {
    "duration": 127,
    "start_time": "2021-07-08T19:13:09.468Z"
   },
   {
    "duration": 2303,
    "start_time": "2021-07-08T19:13:09.597Z"
   },
   {
    "duration": 6,
    "start_time": "2021-07-08T19:13:11.902Z"
   },
   {
    "duration": 2999,
    "start_time": "2021-07-08T19:13:11.910Z"
   },
   {
    "duration": 17,
    "start_time": "2021-07-08T19:13:14.911Z"
   },
   {
    "duration": 3608,
    "start_time": "2021-07-08T19:13:14.931Z"
   },
   {
    "duration": 7,
    "start_time": "2021-07-08T19:13:18.542Z"
   },
   {
    "duration": 15,
    "start_time": "2021-07-08T19:13:18.552Z"
   },
   {
    "duration": 8,
    "start_time": "2021-07-08T19:13:18.570Z"
   },
   {
    "duration": 12407,
    "start_time": "2021-07-08T19:13:18.580Z"
   },
   {
    "duration": 8,
    "start_time": "2021-07-08T19:13:30.989Z"
   },
   {
    "duration": 17,
    "start_time": "2021-07-08T19:13:31.001Z"
   },
   {
    "duration": 18,
    "start_time": "2021-07-08T19:13:31.021Z"
   },
   {
    "duration": 1807,
    "start_time": "2021-07-09T08:15:10.898Z"
   },
   {
    "duration": 735,
    "start_time": "2021-07-09T08:15:12.708Z"
   },
   {
    "duration": 427,
    "start_time": "2021-07-09T08:15:13.446Z"
   },
   {
    "duration": 120,
    "start_time": "2021-07-09T08:15:13.877Z"
   },
   {
    "duration": 216,
    "start_time": "2021-07-09T08:15:14.000Z"
   },
   {
    "duration": 11,
    "start_time": "2021-07-09T08:15:14.219Z"
   },
   {
    "duration": 90,
    "start_time": "2021-07-09T08:15:14.232Z"
   },
   {
    "duration": 50,
    "start_time": "2021-07-09T08:15:14.326Z"
   },
   {
    "duration": 1807,
    "start_time": "2021-07-09T08:15:14.379Z"
   },
   {
    "duration": 188,
    "start_time": "2021-07-09T08:15:16.189Z"
   },
   {
    "duration": 6281,
    "start_time": "2021-07-09T08:15:16.379Z"
   },
   {
    "duration": 797,
    "start_time": "2021-07-09T08:15:22.664Z"
   },
   {
    "duration": 5,
    "start_time": "2021-07-09T08:15:23.464Z"
   },
   {
    "duration": 562,
    "start_time": "2021-07-09T08:15:23.471Z"
   },
   {
    "duration": 25,
    "start_time": "2021-07-09T08:15:24.036Z"
   },
   {
    "duration": 149,
    "start_time": "2021-07-09T08:15:24.063Z"
   },
   {
    "duration": 2307,
    "start_time": "2021-07-09T08:15:24.215Z"
   },
   {
    "duration": 7,
    "start_time": "2021-07-09T08:15:26.524Z"
   },
   {
    "duration": 2944,
    "start_time": "2021-07-09T08:15:26.533Z"
   },
   {
    "duration": 16,
    "start_time": "2021-07-09T08:15:29.480Z"
   },
   {
    "duration": 3469,
    "start_time": "2021-07-09T08:15:29.499Z"
   },
   {
    "duration": 8,
    "start_time": "2021-07-09T08:15:32.971Z"
   },
   {
    "duration": 10,
    "start_time": "2021-07-09T08:15:32.986Z"
   },
   {
    "duration": 11,
    "start_time": "2021-07-09T08:15:33.000Z"
   },
   {
    "duration": 9798,
    "start_time": "2021-07-09T08:15:33.014Z"
   },
   {
    "duration": 8,
    "start_time": "2021-07-09T08:15:42.814Z"
   },
   {
    "duration": 34,
    "start_time": "2021-07-09T08:15:42.825Z"
   },
   {
    "duration": 28,
    "start_time": "2021-07-09T08:15:42.861Z"
   },
   {
    "duration": 8,
    "start_time": "2021-07-09T09:11:41.226Z"
   },
   {
    "duration": 9,
    "start_time": "2021-07-09T09:23:06.387Z"
   },
   {
    "duration": 8,
    "start_time": "2021-07-09T09:23:17.022Z"
   },
   {
    "duration": 8,
    "start_time": "2021-07-09T09:23:58.749Z"
   },
   {
    "duration": 6891,
    "start_time": "2021-07-09T09:25:24.775Z"
   },
   {
    "duration": 7,
    "start_time": "2021-07-09T09:25:38.486Z"
   },
   {
    "duration": 7,
    "start_time": "2021-07-09T09:25:44.199Z"
   },
   {
    "duration": 7,
    "start_time": "2021-07-09T09:25:55.485Z"
   },
   {
    "duration": 6891,
    "start_time": "2021-07-09T09:26:56.030Z"
   },
   {
    "duration": 7809,
    "start_time": "2021-07-09T09:27:58.318Z"
   },
   {
    "duration": 6,
    "start_time": "2021-07-09T09:28:19.133Z"
   },
   {
    "duration": 9,
    "start_time": "2021-07-09T09:28:22.661Z"
   },
   {
    "duration": 7,
    "start_time": "2021-07-09T09:28:28.165Z"
   },
   {
    "duration": 6,
    "start_time": "2021-07-09T09:35:33.179Z"
   },
   {
    "duration": 11,
    "start_time": "2021-07-09T09:36:09.268Z"
   },
   {
    "duration": 11,
    "start_time": "2021-07-09T09:37:35.105Z"
   },
   {
    "duration": 11,
    "start_time": "2021-07-09T09:37:39.714Z"
   },
   {
    "duration": 12,
    "start_time": "2021-07-09T09:37:48.698Z"
   },
   {
    "duration": 11,
    "start_time": "2021-07-09T09:59:59.559Z"
   },
   {
    "duration": 8035,
    "start_time": "2021-07-09T11:40:37.313Z"
   },
   {
    "duration": 7,
    "start_time": "2021-07-09T11:40:53.165Z"
   },
   {
    "duration": 7914,
    "start_time": "2021-07-09T11:41:34.670Z"
   },
   {
    "duration": 7,
    "start_time": "2021-07-09T11:41:42.587Z"
   },
   {
    "duration": 8909,
    "start_time": "2021-07-09T11:43:04.269Z"
   },
   {
    "duration": 7,
    "start_time": "2021-07-09T11:43:23.988Z"
   },
   {
    "duration": 7,
    "start_time": "2021-07-09T11:43:51.188Z"
   },
   {
    "duration": 7,
    "start_time": "2021-07-09T11:44:07.996Z"
   },
   {
    "duration": 7,
    "start_time": "2021-07-09T11:44:20.356Z"
   },
   {
    "duration": 9,
    "start_time": "2021-07-09T11:45:06.783Z"
   },
   {
    "duration": 12,
    "start_time": "2021-07-09T11:45:23.464Z"
   },
   {
    "duration": 11,
    "start_time": "2021-07-09T11:45:35.667Z"
   },
   {
    "duration": 1954,
    "start_time": "2021-07-09T11:47:03.171Z"
   },
   {
    "duration": 714,
    "start_time": "2021-07-09T11:47:05.128Z"
   },
   {
    "duration": 424,
    "start_time": "2021-07-09T11:47:05.844Z"
   },
   {
    "duration": 115,
    "start_time": "2021-07-09T11:47:06.271Z"
   },
   {
    "duration": 239,
    "start_time": "2021-07-09T11:47:06.389Z"
   },
   {
    "duration": 10,
    "start_time": "2021-07-09T11:47:06.631Z"
   },
   {
    "duration": 86,
    "start_time": "2021-07-09T11:47:06.643Z"
   },
   {
    "duration": 37,
    "start_time": "2021-07-09T11:47:06.733Z"
   },
   {
    "duration": 1781,
    "start_time": "2021-07-09T11:47:06.773Z"
   },
   {
    "duration": 184,
    "start_time": "2021-07-09T11:47:08.557Z"
   },
   {
    "duration": 6581,
    "start_time": "2021-07-09T11:47:08.744Z"
   },
   {
    "duration": 771,
    "start_time": "2021-07-09T11:47:15.327Z"
   },
   {
    "duration": 5,
    "start_time": "2021-07-09T11:47:16.101Z"
   },
   {
    "duration": 568,
    "start_time": "2021-07-09T11:47:16.108Z"
   },
   {
    "duration": 20,
    "start_time": "2021-07-09T11:47:16.678Z"
   },
   {
    "duration": 141,
    "start_time": "2021-07-09T11:47:16.701Z"
   },
   {
    "duration": 2313,
    "start_time": "2021-07-09T11:47:16.845Z"
   },
   {
    "duration": 6,
    "start_time": "2021-07-09T11:47:19.161Z"
   },
   {
    "duration": 2889,
    "start_time": "2021-07-09T11:47:19.169Z"
   },
   {
    "duration": 17,
    "start_time": "2021-07-09T11:47:22.061Z"
   },
   {
    "duration": 7831,
    "start_time": "2021-07-09T11:47:22.081Z"
   },
   {
    "duration": 7,
    "start_time": "2021-07-09T11:47:29.914Z"
   },
   {
    "duration": 33,
    "start_time": "2021-07-09T11:47:29.925Z"
   },
   {
    "duration": 3728,
    "start_time": "2021-07-09T11:47:29.961Z"
   },
   {
    "duration": 7,
    "start_time": "2021-07-09T11:47:33.691Z"
   },
   {
    "duration": 9,
    "start_time": "2021-07-09T11:47:33.700Z"
   },
   {
    "duration": 12,
    "start_time": "2021-07-09T11:47:33.711Z"
   },
   {
    "duration": 7,
    "start_time": "2021-07-09T11:47:33.755Z"
   },
   {
    "duration": 5,
    "start_time": "2021-07-09T11:55:48.733Z"
   },
   {
    "duration": 93,
    "start_time": "2021-07-09T11:56:52.869Z"
   },
   {
    "duration": 489,
    "start_time": "2021-07-09T11:56:57.514Z"
   },
   {
    "duration": 5,
    "start_time": "2021-07-09T11:57:17.099Z"
   },
   {
    "duration": 402,
    "start_time": "2021-07-09T11:57:19.220Z"
   },
   {
    "duration": 1051,
    "start_time": "2021-07-09T11:58:49.020Z"
   },
   {
    "duration": 284,
    "start_time": "2021-07-09T11:58:59.257Z"
   },
   {
    "duration": 189,
    "start_time": "2021-07-09T12:08:44.360Z"
   },
   {
    "duration": 178,
    "start_time": "2021-07-09T12:13:31.519Z"
   },
   {
    "duration": 177,
    "start_time": "2021-07-09T12:13:38.222Z"
   },
   {
    "duration": 184,
    "start_time": "2021-07-09T12:14:38.941Z"
   },
   {
    "duration": 192,
    "start_time": "2021-07-09T12:22:24.948Z"
   },
   {
    "duration": 5,
    "start_time": "2021-07-09T12:22:26.587Z"
   },
   {
    "duration": 995,
    "start_time": "2021-07-09T12:22:31.835Z"
   },
   {
    "duration": 5,
    "start_time": "2021-07-09T12:22:46.514Z"
   },
   {
    "duration": 1064,
    "start_time": "2021-07-09T12:22:48.596Z"
   },
   {
    "duration": 6,
    "start_time": "2021-07-09T12:22:59.065Z"
   },
   {
    "duration": 976,
    "start_time": "2021-07-09T12:23:00.222Z"
   },
   {
    "duration": 956,
    "start_time": "2021-07-09T12:23:13.422Z"
   },
   {
    "duration": 395,
    "start_time": "2021-07-09T12:26:45.388Z"
   },
   {
    "duration": 11,
    "start_time": "2021-07-09T12:46:28.491Z"
   },
   {
    "duration": 81,
    "start_time": "2021-07-09T12:48:15.977Z"
   },
   {
    "duration": 711,
    "start_time": "2021-07-09T12:48:44.536Z"
   },
   {
    "duration": 8,
    "start_time": "2021-07-09T12:53:54.028Z"
   },
   {
    "duration": 6,
    "start_time": "2021-07-09T12:54:02.973Z"
   },
   {
    "duration": 8,
    "start_time": "2021-07-09T12:54:24.573Z"
   },
   {
    "duration": 255,
    "start_time": "2021-07-09T13:00:50.987Z"
   },
   {
    "duration": 6,
    "start_time": "2021-07-09T13:00:55.427Z"
   },
   {
    "duration": 289,
    "start_time": "2021-07-09T13:00:56.650Z"
   },
   {
    "duration": 1956,
    "start_time": "2021-07-09T13:01:15.523Z"
   },
   {
    "duration": 773,
    "start_time": "2021-07-09T13:01:17.482Z"
   },
   {
    "duration": 411,
    "start_time": "2021-07-09T13:01:18.258Z"
   },
   {
    "duration": 121,
    "start_time": "2021-07-09T13:01:18.672Z"
   },
   {
    "duration": 219,
    "start_time": "2021-07-09T13:01:18.796Z"
   },
   {
    "duration": 10,
    "start_time": "2021-07-09T13:01:19.017Z"
   },
   {
    "duration": 90,
    "start_time": "2021-07-09T13:01:19.030Z"
   },
   {
    "duration": 44,
    "start_time": "2021-07-09T13:01:19.123Z"
   },
   {
    "duration": 207,
    "start_time": "2021-07-09T13:01:19.170Z"
   },
   {
    "duration": 5,
    "start_time": "2021-07-09T13:01:19.380Z"
   },
   {
    "duration": 433,
    "start_time": "2021-07-09T13:01:19.387Z"
   },
   {
    "duration": -32,
    "start_time": "2021-07-09T13:01:19.855Z"
   },
   {
    "duration": -33,
    "start_time": "2021-07-09T13:01:19.857Z"
   },
   {
    "duration": -33,
    "start_time": "2021-07-09T13:01:19.859Z"
   },
   {
    "duration": -39,
    "start_time": "2021-07-09T13:01:19.867Z"
   },
   {
    "duration": -40,
    "start_time": "2021-07-09T13:01:19.869Z"
   },
   {
    "duration": -40,
    "start_time": "2021-07-09T13:01:19.871Z"
   },
   {
    "duration": -40,
    "start_time": "2021-07-09T13:01:19.872Z"
   },
   {
    "duration": -40,
    "start_time": "2021-07-09T13:01:19.874Z"
   },
   {
    "duration": -40,
    "start_time": "2021-07-09T13:01:19.876Z"
   },
   {
    "duration": -47,
    "start_time": "2021-07-09T13:01:19.884Z"
   },
   {
    "duration": -49,
    "start_time": "2021-07-09T13:01:19.887Z"
   },
   {
    "duration": -49,
    "start_time": "2021-07-09T13:01:19.889Z"
   },
   {
    "duration": -50,
    "start_time": "2021-07-09T13:01:19.891Z"
   },
   {
    "duration": -49,
    "start_time": "2021-07-09T13:01:19.892Z"
   },
   {
    "duration": -56,
    "start_time": "2021-07-09T13:01:19.900Z"
   },
   {
    "duration": -57,
    "start_time": "2021-07-09T13:01:19.903Z"
   },
   {
    "duration": -57,
    "start_time": "2021-07-09T13:01:19.904Z"
   },
   {
    "duration": 1833,
    "start_time": "2021-07-09T13:01:44.327Z"
   },
   {
    "duration": 82,
    "start_time": "2021-07-09T13:02:37.761Z"
   },
   {
    "duration": 968,
    "start_time": "2021-07-09T13:02:43.127Z"
   },
   {
    "duration": 1815,
    "start_time": "2021-07-09T13:04:08.006Z"
   },
   {
    "duration": 610,
    "start_time": "2021-07-09T13:04:09.824Z"
   },
   {
    "duration": 424,
    "start_time": "2021-07-09T13:04:10.437Z"
   },
   {
    "duration": 120,
    "start_time": "2021-07-09T13:04:10.864Z"
   },
   {
    "duration": 228,
    "start_time": "2021-07-09T13:04:10.987Z"
   },
   {
    "duration": 11,
    "start_time": "2021-07-09T13:04:11.217Z"
   },
   {
    "duration": 95,
    "start_time": "2021-07-09T13:04:11.231Z"
   },
   {
    "duration": 45,
    "start_time": "2021-07-09T13:04:11.330Z"
   },
   {
    "duration": 210,
    "start_time": "2021-07-09T13:04:11.378Z"
   },
   {
    "duration": 5,
    "start_time": "2021-07-09T13:04:11.591Z"
   },
   {
    "duration": 1751,
    "start_time": "2021-07-09T13:04:11.600Z"
   },
   {
    "duration": 197,
    "start_time": "2021-07-09T13:04:13.353Z"
   },
   {
    "duration": 6307,
    "start_time": "2021-07-09T13:04:13.554Z"
   },
   {
    "duration": 716,
    "start_time": "2021-07-09T13:04:19.864Z"
   },
   {
    "duration": -983,
    "start_time": "2021-07-09T13:04:21.566Z"
   },
   {
    "duration": -983,
    "start_time": "2021-07-09T13:04:21.567Z"
   },
   {
    "duration": -984,
    "start_time": "2021-07-09T13:04:21.569Z"
   },
   {
    "duration": -983,
    "start_time": "2021-07-09T13:04:21.570Z"
   },
   {
    "duration": -983,
    "start_time": "2021-07-09T13:04:21.571Z"
   },
   {
    "duration": -984,
    "start_time": "2021-07-09T13:04:21.573Z"
   },
   {
    "duration": -983,
    "start_time": "2021-07-09T13:04:21.574Z"
   },
   {
    "duration": -984,
    "start_time": "2021-07-09T13:04:21.576Z"
   },
   {
    "duration": -984,
    "start_time": "2021-07-09T13:04:21.577Z"
   },
   {
    "duration": -984,
    "start_time": "2021-07-09T13:04:21.579Z"
   },
   {
    "duration": -985,
    "start_time": "2021-07-09T13:04:21.581Z"
   },
   {
    "duration": -986,
    "start_time": "2021-07-09T13:04:21.583Z"
   },
   {
    "duration": -986,
    "start_time": "2021-07-09T13:04:21.585Z"
   },
   {
    "duration": -987,
    "start_time": "2021-07-09T13:04:21.587Z"
   },
   {
    "duration": 1896,
    "start_time": "2021-07-09T13:04:58.601Z"
   },
   {
    "duration": 698,
    "start_time": "2021-07-09T13:05:00.500Z"
   },
   {
    "duration": 430,
    "start_time": "2021-07-09T13:05:01.201Z"
   },
   {
    "duration": 111,
    "start_time": "2021-07-09T13:05:01.633Z"
   },
   {
    "duration": 207,
    "start_time": "2021-07-09T13:05:01.754Z"
   },
   {
    "duration": 10,
    "start_time": "2021-07-09T13:05:01.964Z"
   },
   {
    "duration": 104,
    "start_time": "2021-07-09T13:05:01.977Z"
   },
   {
    "duration": 38,
    "start_time": "2021-07-09T13:05:02.087Z"
   },
   {
    "duration": 225,
    "start_time": "2021-07-09T13:05:02.129Z"
   },
   {
    "duration": 7,
    "start_time": "2021-07-09T13:05:02.357Z"
   },
   {
    "duration": 1758,
    "start_time": "2021-07-09T13:05:02.367Z"
   },
   {
    "duration": 194,
    "start_time": "2021-07-09T13:05:04.128Z"
   },
   {
    "duration": 6858,
    "start_time": "2021-07-09T13:05:04.325Z"
   },
   {
    "duration": 751,
    "start_time": "2021-07-09T13:05:11.186Z"
   },
   {
    "duration": 18,
    "start_time": "2021-07-09T13:05:11.939Z"
   },
   {
    "duration": 500,
    "start_time": "2021-07-09T13:05:11.960Z"
   },
   {
    "duration": -461,
    "start_time": "2021-07-09T13:05:12.924Z"
   },
   {
    "duration": -462,
    "start_time": "2021-07-09T13:05:12.926Z"
   },
   {
    "duration": -462,
    "start_time": "2021-07-09T13:05:12.927Z"
   },
   {
    "duration": -462,
    "start_time": "2021-07-09T13:05:12.929Z"
   },
   {
    "duration": -463,
    "start_time": "2021-07-09T13:05:12.931Z"
   },
   {
    "duration": -474,
    "start_time": "2021-07-09T13:05:12.944Z"
   },
   {
    "duration": -474,
    "start_time": "2021-07-09T13:05:12.946Z"
   },
   {
    "duration": -476,
    "start_time": "2021-07-09T13:05:12.949Z"
   },
   {
    "duration": -478,
    "start_time": "2021-07-09T13:05:12.952Z"
   },
   {
    "duration": -478,
    "start_time": "2021-07-09T13:05:12.954Z"
   },
   {
    "duration": -478,
    "start_time": "2021-07-09T13:05:12.955Z"
   },
   {
    "duration": 1886,
    "start_time": "2021-07-09T13:05:25.011Z"
   },
   {
    "duration": 713,
    "start_time": "2021-07-09T13:05:26.900Z"
   },
   {
    "duration": 394,
    "start_time": "2021-07-09T13:05:27.616Z"
   },
   {
    "duration": 118,
    "start_time": "2021-07-09T13:05:28.013Z"
   },
   {
    "duration": 217,
    "start_time": "2021-07-09T13:05:28.134Z"
   },
   {
    "duration": 9,
    "start_time": "2021-07-09T13:05:28.354Z"
   },
   {
    "duration": 95,
    "start_time": "2021-07-09T13:05:28.366Z"
   },
   {
    "duration": 37,
    "start_time": "2021-07-09T13:05:28.465Z"
   },
   {
    "duration": 220,
    "start_time": "2021-07-09T13:05:28.505Z"
   },
   {
    "duration": 6,
    "start_time": "2021-07-09T13:05:28.727Z"
   },
   {
    "duration": 1619,
    "start_time": "2021-07-09T13:05:28.735Z"
   },
   {
    "duration": 203,
    "start_time": "2021-07-09T13:05:30.356Z"
   },
   {
    "duration": 6438,
    "start_time": "2021-07-09T13:05:30.561Z"
   },
   {
    "duration": 761,
    "start_time": "2021-07-09T13:05:37.003Z"
   },
   {
    "duration": 5,
    "start_time": "2021-07-09T13:05:37.766Z"
   },
   {
    "duration": 563,
    "start_time": "2021-07-09T13:05:37.774Z"
   },
   {
    "duration": 27,
    "start_time": "2021-07-09T13:05:38.340Z"
   },
   {
    "duration": 128,
    "start_time": "2021-07-09T13:05:38.370Z"
   },
   {
    "duration": 2278,
    "start_time": "2021-07-09T13:05:38.501Z"
   },
   {
    "duration": 8,
    "start_time": "2021-07-09T13:05:40.783Z"
   },
   {
    "duration": 3071,
    "start_time": "2021-07-09T13:05:40.794Z"
   },
   {
    "duration": 15,
    "start_time": "2021-07-09T13:05:43.867Z"
   },
   {
    "duration": 3577,
    "start_time": "2021-07-09T13:05:43.887Z"
   },
   {
    "duration": 8,
    "start_time": "2021-07-09T13:05:47.468Z"
   },
   {
    "duration": 25,
    "start_time": "2021-07-09T13:05:47.478Z"
   },
   {
    "duration": 20,
    "start_time": "2021-07-09T13:05:47.506Z"
   },
   {
    "duration": 124,
    "start_time": "2021-07-09T13:13:46.510Z"
   },
   {
    "duration": 521,
    "start_time": "2021-07-09T13:36:24.474Z"
   },
   {
    "duration": 7,
    "start_time": "2021-07-09T13:36:27.362Z"
   },
   {
    "duration": 505,
    "start_time": "2021-07-09T13:36:28.308Z"
   },
   {
    "duration": 1835,
    "start_time": "2021-07-09T13:36:41.467Z"
   },
   {
    "duration": 750,
    "start_time": "2021-07-09T13:36:43.305Z"
   },
   {
    "duration": 397,
    "start_time": "2021-07-09T13:36:44.062Z"
   },
   {
    "duration": 118,
    "start_time": "2021-07-09T13:36:44.462Z"
   },
   {
    "duration": 203,
    "start_time": "2021-07-09T13:36:44.583Z"
   },
   {
    "duration": 11,
    "start_time": "2021-07-09T13:36:44.788Z"
   },
   {
    "duration": 93,
    "start_time": "2021-07-09T13:36:44.803Z"
   },
   {
    "duration": 35,
    "start_time": "2021-07-09T13:36:44.900Z"
   },
   {
    "duration": 216,
    "start_time": "2021-07-09T13:36:44.937Z"
   },
   {
    "duration": 5,
    "start_time": "2021-07-09T13:36:45.156Z"
   },
   {
    "duration": 1602,
    "start_time": "2021-07-09T13:36:45.164Z"
   },
   {
    "duration": 194,
    "start_time": "2021-07-09T13:36:46.769Z"
   },
   {
    "duration": 6285,
    "start_time": "2021-07-09T13:36:46.965Z"
   },
   {
    "duration": 748,
    "start_time": "2021-07-09T13:36:53.256Z"
   },
   {
    "duration": 5,
    "start_time": "2021-07-09T13:36:54.007Z"
   },
   {
    "duration": 587,
    "start_time": "2021-07-09T13:36:54.015Z"
   },
   {
    "duration": 19,
    "start_time": "2021-07-09T13:36:54.606Z"
   },
   {
    "duration": 139,
    "start_time": "2021-07-09T13:36:54.627Z"
   },
   {
    "duration": 2278,
    "start_time": "2021-07-09T13:36:54.769Z"
   },
   {
    "duration": 7,
    "start_time": "2021-07-09T13:36:57.049Z"
   },
   {
    "duration": 2964,
    "start_time": "2021-07-09T13:36:57.059Z"
   },
   {
    "duration": 27,
    "start_time": "2021-07-09T13:37:00.027Z"
   },
   {
    "duration": 3523,
    "start_time": "2021-07-09T13:37:00.057Z"
   },
   {
    "duration": 7,
    "start_time": "2021-07-09T13:37:03.582Z"
   },
   {
    "duration": 45,
    "start_time": "2021-07-09T13:37:03.591Z"
   },
   {
    "duration": 32,
    "start_time": "2021-07-09T13:37:03.639Z"
   },
   {
    "duration": 1813,
    "start_time": "2021-07-09T13:54:49.095Z"
   },
   {
    "duration": 774,
    "start_time": "2021-07-09T13:54:50.911Z"
   },
   {
    "duration": 414,
    "start_time": "2021-07-09T13:54:51.688Z"
   },
   {
    "duration": 112,
    "start_time": "2021-07-09T13:54:52.104Z"
   },
   {
    "duration": 209,
    "start_time": "2021-07-09T13:54:52.219Z"
   },
   {
    "duration": 10,
    "start_time": "2021-07-09T13:54:52.431Z"
   },
   {
    "duration": 71,
    "start_time": "2021-07-09T13:54:52.455Z"
   },
   {
    "duration": 59,
    "start_time": "2021-07-09T13:54:52.530Z"
   },
   {
    "duration": 210,
    "start_time": "2021-07-09T13:54:52.593Z"
   },
   {
    "duration": 6,
    "start_time": "2021-07-09T13:54:52.806Z"
   },
   {
    "duration": 1748,
    "start_time": "2021-07-09T13:54:52.815Z"
   },
   {
    "duration": 194,
    "start_time": "2021-07-09T13:54:54.566Z"
   },
   {
    "duration": 6363,
    "start_time": "2021-07-09T13:54:54.763Z"
   },
   {
    "duration": 844,
    "start_time": "2021-07-09T13:55:01.128Z"
   },
   {
    "duration": 4,
    "start_time": "2021-07-09T13:55:01.975Z"
   },
   {
    "duration": 559,
    "start_time": "2021-07-09T13:55:01.982Z"
   },
   {
    "duration": 26,
    "start_time": "2021-07-09T13:55:02.544Z"
   },
   {
    "duration": 135,
    "start_time": "2021-07-09T13:55:02.573Z"
   },
   {
    "duration": 2319,
    "start_time": "2021-07-09T13:55:02.710Z"
   },
   {
    "duration": 6,
    "start_time": "2021-07-09T13:55:05.031Z"
   },
   {
    "duration": 3042,
    "start_time": "2021-07-09T13:55:05.039Z"
   },
   {
    "duration": 14,
    "start_time": "2021-07-09T13:55:08.084Z"
   },
   {
    "duration": 3618,
    "start_time": "2021-07-09T13:55:08.103Z"
   },
   {
    "duration": 6,
    "start_time": "2021-07-09T13:55:11.724Z"
   },
   {
    "duration": 11,
    "start_time": "2021-07-09T13:55:11.753Z"
   },
   {
    "duration": 20,
    "start_time": "2021-07-09T13:55:11.766Z"
   },
   {
    "duration": 558,
    "start_time": "2021-07-09T13:59:37.549Z"
   },
   {
    "duration": 1840,
    "start_time": "2021-07-09T13:59:45.054Z"
   },
   {
    "duration": 732,
    "start_time": "2021-07-09T13:59:46.897Z"
   },
   {
    "duration": 403,
    "start_time": "2021-07-09T13:59:47.633Z"
   },
   {
    "duration": 122,
    "start_time": "2021-07-09T13:59:48.040Z"
   },
   {
    "duration": 205,
    "start_time": "2021-07-09T13:59:48.165Z"
   },
   {
    "duration": 10,
    "start_time": "2021-07-09T13:59:48.373Z"
   },
   {
    "duration": 95,
    "start_time": "2021-07-09T13:59:48.386Z"
   },
   {
    "duration": 39,
    "start_time": "2021-07-09T13:59:48.485Z"
   },
   {
    "duration": 218,
    "start_time": "2021-07-09T13:59:48.527Z"
   },
   {
    "duration": 6,
    "start_time": "2021-07-09T13:59:48.754Z"
   },
   {
    "duration": 1698,
    "start_time": "2021-07-09T13:59:48.762Z"
   },
   {
    "duration": 185,
    "start_time": "2021-07-09T13:59:50.462Z"
   },
   {
    "duration": 6789,
    "start_time": "2021-07-09T13:59:50.649Z"
   },
   {
    "duration": 776,
    "start_time": "2021-07-09T13:59:57.440Z"
   },
   {
    "duration": 5,
    "start_time": "2021-07-09T13:59:58.219Z"
   },
   {
    "duration": 564,
    "start_time": "2021-07-09T13:59:58.226Z"
   },
   {
    "duration": 21,
    "start_time": "2021-07-09T13:59:58.793Z"
   },
   {
    "duration": 159,
    "start_time": "2021-07-09T13:59:58.817Z"
   },
   {
    "duration": 2456,
    "start_time": "2021-07-09T13:59:58.979Z"
   },
   {
    "duration": 16,
    "start_time": "2021-07-09T14:00:01.438Z"
   },
   {
    "duration": 2936,
    "start_time": "2021-07-09T14:00:01.457Z"
   },
   {
    "duration": 16,
    "start_time": "2021-07-09T14:00:04.397Z"
   },
   {
    "duration": 3569,
    "start_time": "2021-07-09T14:00:04.419Z"
   },
   {
    "duration": 6,
    "start_time": "2021-07-09T14:00:07.990Z"
   },
   {
    "duration": 12,
    "start_time": "2021-07-09T14:00:07.999Z"
   },
   {
    "duration": 13,
    "start_time": "2021-07-09T14:00:08.013Z"
   },
   {
    "duration": 4,
    "start_time": "2021-07-09T14:04:56.748Z"
   },
   {
    "duration": 66,
    "start_time": "2021-07-09T14:07:55.790Z"
   },
   {
    "duration": 89,
    "start_time": "2021-07-09T14:08:00.616Z"
   },
   {
    "duration": 572,
    "start_time": "2021-07-09T14:12:17.089Z"
   },
   {
    "duration": 53,
    "start_time": "2021-07-09T14:12:33.058Z"
   },
   {
    "duration": 75,
    "start_time": "2021-07-09T14:12:39.847Z"
   },
   {
    "duration": 61,
    "start_time": "2021-07-09T14:12:50.176Z"
   },
   {
    "duration": 8239,
    "start_time": "2021-07-09T14:13:06.215Z"
   },
   {
    "duration": 8,
    "start_time": "2021-07-09T14:14:33.260Z"
   },
   {
    "duration": 1877,
    "start_time": "2021-07-09T14:54:19.721Z"
   },
   {
    "duration": 745,
    "start_time": "2021-07-09T14:54:21.602Z"
   },
   {
    "duration": 425,
    "start_time": "2021-07-09T14:54:22.353Z"
   },
   {
    "duration": 114,
    "start_time": "2021-07-09T14:54:22.780Z"
   },
   {
    "duration": 230,
    "start_time": "2021-07-09T14:54:22.897Z"
   },
   {
    "duration": 11,
    "start_time": "2021-07-09T14:54:23.130Z"
   },
   {
    "duration": 75,
    "start_time": "2021-07-09T14:54:23.157Z"
   },
   {
    "duration": 54,
    "start_time": "2021-07-09T14:54:23.235Z"
   },
   {
    "duration": 217,
    "start_time": "2021-07-09T14:54:23.291Z"
   },
   {
    "duration": 6,
    "start_time": "2021-07-09T14:54:23.510Z"
   },
   {
    "duration": 1666,
    "start_time": "2021-07-09T14:54:23.518Z"
   },
   {
    "duration": 195,
    "start_time": "2021-07-09T14:54:25.186Z"
   },
   {
    "duration": 6382,
    "start_time": "2021-07-09T14:54:25.383Z"
   },
   {
    "duration": 863,
    "start_time": "2021-07-09T14:54:31.768Z"
   },
   {
    "duration": 21,
    "start_time": "2021-07-09T14:54:32.634Z"
   },
   {
    "duration": 598,
    "start_time": "2021-07-09T14:54:32.658Z"
   },
   {
    "duration": 21,
    "start_time": "2021-07-09T14:54:33.259Z"
   },
   {
    "duration": 149,
    "start_time": "2021-07-09T14:54:33.283Z"
   },
   {
    "duration": 2325,
    "start_time": "2021-07-09T14:54:33.435Z"
   },
   {
    "duration": 6,
    "start_time": "2021-07-09T14:54:35.763Z"
   },
   {
    "duration": 2985,
    "start_time": "2021-07-09T14:54:35.771Z"
   },
   {
    "duration": 15,
    "start_time": "2021-07-09T14:54:38.761Z"
   },
   {
    "duration": 3521,
    "start_time": "2021-07-09T14:54:38.779Z"
   },
   {
    "duration": 6,
    "start_time": "2021-07-09T14:54:42.303Z"
   },
   {
    "duration": 9,
    "start_time": "2021-07-09T14:54:42.312Z"
   },
   {
    "duration": 38,
    "start_time": "2021-07-09T14:54:42.323Z"
   },
   {
    "duration": 3600,
    "start_time": "2021-07-09T14:54:42.363Z"
   },
   {
    "duration": 508,
    "start_time": "2021-07-09T15:31:43.727Z"
   },
   {
    "duration": 28,
    "start_time": "2021-07-09T15:32:12.993Z"
   },
   {
    "duration": 12,
    "start_time": "2021-07-09T15:32:23.856Z"
   },
   {
    "duration": 89,
    "start_time": "2021-07-09T15:44:18.739Z"
   },
   {
    "duration": 8985,
    "start_time": "2021-07-09T15:44:31.136Z"
   },
   {
    "duration": 12,
    "start_time": "2021-07-09T15:45:35.482Z"
   },
   {
    "duration": 9537,
    "start_time": "2021-07-09T15:45:39.290Z"
   },
   {
    "duration": 13,
    "start_time": "2021-07-09T15:45:55.665Z"
   },
   {
    "duration": 14,
    "start_time": "2021-07-09T15:46:10.921Z"
   },
   {
    "duration": 13,
    "start_time": "2021-07-09T15:46:16.026Z"
   },
   {
    "duration": 13,
    "start_time": "2021-07-09T15:46:19.467Z"
   },
   {
    "duration": 9,
    "start_time": "2021-07-09T15:47:44.497Z"
   },
   {
    "duration": 8,
    "start_time": "2021-07-09T15:48:00.993Z"
   },
   {
    "duration": 6,
    "start_time": "2021-07-09T15:53:11.214Z"
   },
   {
    "duration": 1005,
    "start_time": "2021-07-09T15:53:12.374Z"
   },
   {
    "duration": 571,
    "start_time": "2021-07-09T15:56:32.904Z"
   },
   {
    "duration": 1995,
    "start_time": "2021-07-09T16:15:09.616Z"
   },
   {
    "duration": 779,
    "start_time": "2021-07-09T16:15:11.613Z"
   },
   {
    "duration": 429,
    "start_time": "2021-07-09T16:15:12.399Z"
   },
   {
    "duration": 127,
    "start_time": "2021-07-09T16:15:12.831Z"
   },
   {
    "duration": 219,
    "start_time": "2021-07-09T16:15:12.960Z"
   },
   {
    "duration": 11,
    "start_time": "2021-07-09T16:15:13.181Z"
   },
   {
    "duration": 93,
    "start_time": "2021-07-09T16:15:13.196Z"
   },
   {
    "duration": 38,
    "start_time": "2021-07-09T16:15:13.291Z"
   },
   {
    "duration": 219,
    "start_time": "2021-07-09T16:15:13.331Z"
   },
   {
    "duration": 5,
    "start_time": "2021-07-09T16:15:13.554Z"
   },
   {
    "duration": 1675,
    "start_time": "2021-07-09T16:15:13.561Z"
   },
   {
    "duration": 198,
    "start_time": "2021-07-09T16:15:15.238Z"
   },
   {
    "duration": 6387,
    "start_time": "2021-07-09T16:15:15.439Z"
   },
   {
    "duration": 903,
    "start_time": "2021-07-09T16:15:21.830Z"
   },
   {
    "duration": 19,
    "start_time": "2021-07-09T16:15:22.735Z"
   },
   {
    "duration": 565,
    "start_time": "2021-07-09T16:15:22.757Z"
   },
   {
    "duration": 32,
    "start_time": "2021-07-09T16:15:23.324Z"
   },
   {
    "duration": 131,
    "start_time": "2021-07-09T16:15:23.359Z"
   },
   {
    "duration": 2251,
    "start_time": "2021-07-09T16:15:23.492Z"
   },
   {
    "duration": 7,
    "start_time": "2021-07-09T16:15:25.753Z"
   },
   {
    "duration": 2907,
    "start_time": "2021-07-09T16:15:25.763Z"
   },
   {
    "duration": 14,
    "start_time": "2021-07-09T16:15:28.675Z"
   },
   {
    "duration": 3480,
    "start_time": "2021-07-09T16:15:28.692Z"
   },
   {
    "duration": 6,
    "start_time": "2021-07-09T16:15:32.175Z"
   },
   {
    "duration": 17,
    "start_time": "2021-07-09T16:15:32.183Z"
   },
   {
    "duration": 28,
    "start_time": "2021-07-09T16:15:32.203Z"
   },
   {
    "duration": 9883,
    "start_time": "2021-07-09T16:15:32.234Z"
   },
   {
    "duration": 9,
    "start_time": "2021-07-09T16:15:42.120Z"
   },
   {
    "duration": 29,
    "start_time": "2021-07-09T16:15:42.132Z"
   },
   {
    "duration": 357,
    "start_time": "2021-07-10T14:25:09.981Z"
   },
   {
    "duration": 1934,
    "start_time": "2021-07-10T14:25:12.276Z"
   },
   {
    "duration": 2460,
    "start_time": "2021-07-10T14:25:14.212Z"
   },
   {
    "duration": 541,
    "start_time": "2021-07-10T14:28:06.717Z"
   },
   {
    "duration": 2187,
    "start_time": "2021-07-10T14:29:21.835Z"
   },
   {
    "duration": 530,
    "start_time": "2021-07-10T14:29:24.025Z"
   },
   {
    "duration": 443,
    "start_time": "2021-07-10T14:29:24.559Z"
   },
   {
    "duration": 116,
    "start_time": "2021-07-10T14:29:25.004Z"
   },
   {
    "duration": 213,
    "start_time": "2021-07-10T14:29:25.123Z"
   },
   {
    "duration": 23,
    "start_time": "2021-07-10T14:29:25.339Z"
   },
   {
    "duration": 89,
    "start_time": "2021-07-10T14:29:25.367Z"
   },
   {
    "duration": 43,
    "start_time": "2021-07-10T14:29:25.458Z"
   },
   {
    "duration": 230,
    "start_time": "2021-07-10T14:29:25.505Z"
   },
   {
    "duration": 7,
    "start_time": "2021-07-10T14:29:25.739Z"
   },
   {
    "duration": 1733,
    "start_time": "2021-07-10T14:29:25.757Z"
   },
   {
    "duration": 265,
    "start_time": "2021-07-10T14:29:27.493Z"
   },
   {
    "duration": 6843,
    "start_time": "2021-07-10T14:29:27.763Z"
   },
   {
    "duration": 1171,
    "start_time": "2021-07-10T14:29:34.610Z"
   },
   {
    "duration": 5,
    "start_time": "2021-07-10T14:29:35.783Z"
   },
   {
    "duration": 555,
    "start_time": "2021-07-10T14:29:35.790Z"
   },
   {
    "duration": 28,
    "start_time": "2021-07-10T14:29:36.347Z"
   },
   {
    "duration": 135,
    "start_time": "2021-07-10T14:29:36.377Z"
   },
   {
    "duration": 2304,
    "start_time": "2021-07-10T14:29:36.514Z"
   },
   {
    "duration": 6,
    "start_time": "2021-07-10T14:29:38.821Z"
   },
   {
    "duration": 3029,
    "start_time": "2021-07-10T14:29:38.830Z"
   },
   {
    "duration": 16,
    "start_time": "2021-07-10T14:29:41.865Z"
   },
   {
    "duration": 4387,
    "start_time": "2021-07-10T14:29:41.885Z"
   },
   {
    "duration": 8,
    "start_time": "2021-07-10T14:29:46.274Z"
   },
   {
    "duration": 15,
    "start_time": "2021-07-10T14:29:46.284Z"
   },
   {
    "duration": 12,
    "start_time": "2021-07-10T14:29:46.302Z"
   },
   {
    "duration": 9894,
    "start_time": "2021-07-10T14:29:46.319Z"
   },
   {
    "duration": 8,
    "start_time": "2021-07-10T14:29:56.216Z"
   },
   {
    "duration": 39,
    "start_time": "2021-07-10T14:29:56.227Z"
   },
   {
    "duration": 87,
    "start_time": "2021-07-10T14:34:38.917Z"
   },
   {
    "duration": 86,
    "start_time": "2021-07-10T14:34:41.518Z"
   },
   {
    "duration": 1106,
    "start_time": "2021-07-10T14:40:53.724Z"
   },
   {
    "duration": 17,
    "start_time": "2021-07-10T15:17:43.960Z"
   },
   {
    "duration": 83,
    "start_time": "2021-07-10T15:18:53.558Z"
   },
   {
    "duration": 1841,
    "start_time": "2021-07-11T18:31:07.534Z"
   },
   {
    "duration": 484,
    "start_time": "2021-07-11T18:31:10.905Z"
   },
   {
    "duration": 369,
    "start_time": "2021-07-11T18:31:14.189Z"
   },
   {
    "duration": 4,
    "start_time": "2021-07-11T18:31:32.623Z"
   },
   {
    "duration": 284,
    "start_time": "2021-07-11T18:31:33.655Z"
   },
   {
    "duration": 376,
    "start_time": "2021-07-11T18:31:35.462Z"
   },
   {
    "duration": 1777,
    "start_time": "2021-07-11T18:35:42.003Z"
   },
   {
    "duration": 289,
    "start_time": "2021-07-11T18:35:43.783Z"
   },
   {
    "duration": 419,
    "start_time": "2021-07-11T18:35:44.075Z"
   },
   {
    "duration": 109,
    "start_time": "2021-07-11T18:35:44.497Z"
   },
   {
    "duration": 193,
    "start_time": "2021-07-11T18:35:44.608Z"
   },
   {
    "duration": 10,
    "start_time": "2021-07-11T18:35:44.803Z"
   },
   {
    "duration": 142,
    "start_time": "2021-07-11T18:35:44.816Z"
   },
   {
    "duration": 56,
    "start_time": "2021-07-11T18:35:44.960Z"
   },
   {
    "duration": 314,
    "start_time": "2021-07-11T18:35:45.022Z"
   },
   {
    "duration": 7,
    "start_time": "2021-07-11T18:35:45.340Z"
   },
   {
    "duration": 2133,
    "start_time": "2021-07-11T18:35:45.355Z"
   },
   {
    "duration": 283,
    "start_time": "2021-07-11T18:35:47.491Z"
   },
   {
    "duration": 9712,
    "start_time": "2021-07-11T18:35:47.777Z"
   },
   {
    "duration": 752,
    "start_time": "2021-07-11T18:35:57.492Z"
   },
   {
    "duration": 13,
    "start_time": "2021-07-11T18:35:58.246Z"
   },
   {
    "duration": 564,
    "start_time": "2021-07-11T18:35:58.262Z"
   },
   {
    "duration": 28,
    "start_time": "2021-07-11T18:35:58.829Z"
   },
   {
    "duration": 126,
    "start_time": "2021-07-11T18:35:58.860Z"
   },
   {
    "duration": 2476,
    "start_time": "2021-07-11T18:35:58.989Z"
   },
   {
    "duration": 6,
    "start_time": "2021-07-11T18:36:01.468Z"
   },
   {
    "duration": 2857,
    "start_time": "2021-07-11T18:36:01.476Z"
   },
   {
    "duration": 20,
    "start_time": "2021-07-11T18:36:04.336Z"
   },
   {
    "duration": 3355,
    "start_time": "2021-07-11T18:36:04.358Z"
   },
   {
    "duration": 7,
    "start_time": "2021-07-11T18:36:07.716Z"
   },
   {
    "duration": 32,
    "start_time": "2021-07-11T18:36:07.726Z"
   },
   {
    "duration": 10,
    "start_time": "2021-07-11T18:36:07.761Z"
   },
   {
    "duration": 9494,
    "start_time": "2021-07-11T18:36:07.775Z"
   },
   {
    "duration": 9,
    "start_time": "2021-07-11T18:36:17.271Z"
   },
   {
    "duration": 8,
    "start_time": "2021-07-11T18:36:17.283Z"
   },
   {
    "duration": 14,
    "start_time": "2021-07-11T18:55:17.809Z"
   },
   {
    "duration": 19,
    "start_time": "2021-07-11T18:55:22.079Z"
   },
   {
    "duration": 84,
    "start_time": "2021-07-11T18:55:37.525Z"
   },
   {
    "duration": 20,
    "start_time": "2021-07-11T18:55:52.490Z"
   },
   {
    "duration": 31,
    "start_time": "2021-07-11T18:55:57.731Z"
   },
   {
    "duration": 20,
    "start_time": "2021-07-11T18:56:47.966Z"
   },
   {
    "duration": 20,
    "start_time": "2021-07-11T18:57:09.096Z"
   },
   {
    "duration": 20,
    "start_time": "2021-07-11T18:57:20.555Z"
   },
   {
    "duration": 20,
    "start_time": "2021-07-11T18:57:25.798Z"
   },
   {
    "duration": 19,
    "start_time": "2021-07-11T18:58:50.987Z"
   },
   {
    "duration": 24,
    "start_time": "2021-07-11T19:00:39.266Z"
   },
   {
    "duration": 23,
    "start_time": "2021-07-11T19:00:48.748Z"
   },
   {
    "duration": 19,
    "start_time": "2021-07-11T19:00:57.400Z"
   },
   {
    "duration": 56,
    "start_time": "2021-07-11T19:01:23.402Z"
   },
   {
    "duration": 53,
    "start_time": "2021-07-11T19:01:30.387Z"
   },
   {
    "duration": 60,
    "start_time": "2021-07-11T19:02:01.747Z"
   },
   {
    "duration": 30,
    "start_time": "2021-07-11T19:02:13.655Z"
   },
   {
    "duration": 19,
    "start_time": "2021-07-11T19:02:52.130Z"
   },
   {
    "duration": 20,
    "start_time": "2021-07-11T19:15:01.177Z"
   },
   {
    "duration": 23,
    "start_time": "2021-07-11T19:17:58.064Z"
   },
   {
    "duration": 37,
    "start_time": "2021-07-11T19:18:08.043Z"
   },
   {
    "duration": 40,
    "start_time": "2021-07-11T19:18:26.426Z"
   },
   {
    "duration": 24,
    "start_time": "2021-07-11T19:18:58.338Z"
   },
   {
    "duration": 17,
    "start_time": "2021-07-11T19:19:33.884Z"
   },
   {
    "duration": 80,
    "start_time": "2021-07-11T19:26:05.489Z"
   },
   {
    "duration": 21,
    "start_time": "2021-07-11T19:26:10.049Z"
   },
   {
    "duration": 30,
    "start_time": "2021-07-11T19:26:16.200Z"
   },
   {
    "duration": 27,
    "start_time": "2021-07-11T19:30:31.772Z"
   },
   {
    "duration": 41,
    "start_time": "2021-07-11T19:30:37.776Z"
   },
   {
    "duration": 43,
    "start_time": "2021-07-11T19:31:35.954Z"
   },
   {
    "duration": 48,
    "start_time": "2021-07-11T19:35:35.987Z"
   },
   {
    "duration": 527,
    "start_time": "2021-07-11T19:36:01.257Z"
   },
   {
    "duration": -963,
    "start_time": "2021-07-11T19:36:21.858Z"
   },
   {
    "duration": 42,
    "start_time": "2021-07-11T19:36:27.864Z"
   },
   {
    "duration": 52,
    "start_time": "2021-07-11T19:36:36.440Z"
   },
   {
    "duration": 44,
    "start_time": "2021-07-11T19:37:47.881Z"
   },
   {
    "duration": 51,
    "start_time": "2021-07-11T19:37:53.385Z"
   },
   {
    "duration": 3323,
    "start_time": "2021-07-11T19:38:58.649Z"
   },
   {
    "duration": 6099,
    "start_time": "2021-07-11T19:39:42.625Z"
   },
   {
    "duration": 7,
    "start_time": "2021-07-11T19:39:51.249Z"
   },
   {
    "duration": 56,
    "start_time": "2021-07-11T20:00:39.777Z"
   },
   {
    "duration": 55,
    "start_time": "2021-07-11T20:00:51.337Z"
   },
   {
    "duration": 3131,
    "start_time": "2021-07-11T20:01:08.369Z"
   },
   {
    "duration": 6363,
    "start_time": "2021-07-11T20:01:26.753Z"
   },
   {
    "duration": 7,
    "start_time": "2021-07-11T20:01:40.674Z"
   },
   {
    "duration": 8,
    "start_time": "2021-07-11T20:01:59.817Z"
   },
   {
    "duration": 7,
    "start_time": "2021-07-11T20:02:42.945Z"
   },
   {
    "duration": 9,
    "start_time": "2021-07-11T20:08:10.817Z"
   },
   {
    "duration": 316,
    "start_time": "2021-07-11T20:57:19.137Z"
   },
   {
    "duration": 279,
    "start_time": "2021-07-11T20:58:07.913Z"
   },
   {
    "duration": 36,
    "start_time": "2021-07-11T20:58:16.833Z"
   },
   {
    "duration": 34,
    "start_time": "2021-07-11T20:58:20.439Z"
   },
   {
    "duration": 55,
    "start_time": "2021-07-11T20:58:41.105Z"
   },
   {
    "duration": 271,
    "start_time": "2021-07-11T20:58:54.455Z"
   },
   {
    "duration": 62,
    "start_time": "2021-07-11T20:59:01.688Z"
   },
   {
    "duration": 72,
    "start_time": "2021-07-11T21:01:11.639Z"
   },
   {
    "duration": 67,
    "start_time": "2021-07-11T21:03:14.043Z"
   },
   {
    "duration": 77,
    "start_time": "2021-07-11T21:03:18.336Z"
   },
   {
    "duration": 3243,
    "start_time": "2021-07-11T21:04:25.528Z"
   },
   {
    "duration": 6,
    "start_time": "2021-07-11T21:05:33.392Z"
   },
   {
    "duration": 8,
    "start_time": "2021-07-11T21:28:30.624Z"
   },
   {
    "duration": 6,
    "start_time": "2021-07-11T21:28:57.062Z"
   },
   {
    "duration": 5,
    "start_time": "2021-07-11T21:29:01.544Z"
   },
   {
    "duration": 6,
    "start_time": "2021-07-11T21:29:14.648Z"
   },
   {
    "duration": 8,
    "start_time": "2021-07-11T21:29:43.446Z"
   },
   {
    "duration": 7,
    "start_time": "2021-07-11T21:29:58.400Z"
   },
   {
    "duration": 7,
    "start_time": "2021-07-11T21:30:11.600Z"
   },
   {
    "duration": 6,
    "start_time": "2021-07-11T21:30:29.120Z"
   },
   {
    "duration": 7,
    "start_time": "2021-07-11T21:30:46.005Z"
   },
   {
    "duration": 8,
    "start_time": "2021-07-11T21:30:50.192Z"
   },
   {
    "duration": 67,
    "start_time": "2021-07-11T21:31:18.448Z"
   },
   {
    "duration": 3311,
    "start_time": "2021-07-11T21:31:18.999Z"
   },
   {
    "duration": 7,
    "start_time": "2021-07-11T21:31:30.737Z"
   },
   {
    "duration": 9,
    "start_time": "2021-07-11T21:31:33.882Z"
   },
   {
    "duration": 7,
    "start_time": "2021-07-11T21:33:22.672Z"
   },
   {
    "duration": 5,
    "start_time": "2021-07-11T21:33:25.926Z"
   },
   {
    "duration": 6,
    "start_time": "2021-07-11T21:33:31.814Z"
   },
   {
    "duration": 6,
    "start_time": "2021-07-11T21:33:36.351Z"
   },
   {
    "duration": 8,
    "start_time": "2021-07-11T21:33:45.947Z"
   },
   {
    "duration": 8,
    "start_time": "2021-07-11T21:35:45.582Z"
   },
   {
    "duration": 7,
    "start_time": "2021-07-11T21:35:51.024Z"
   },
   {
    "duration": 7,
    "start_time": "2021-07-11T21:35:56.762Z"
   },
   {
    "duration": 8,
    "start_time": "2021-07-11T21:36:00.303Z"
   },
   {
    "duration": 7,
    "start_time": "2021-07-11T21:36:04.969Z"
   },
   {
    "duration": 77,
    "start_time": "2021-07-11T21:37:18.130Z"
   },
   {
    "duration": 10,
    "start_time": "2021-07-11T21:39:56.215Z"
   },
   {
    "duration": 8,
    "start_time": "2021-07-11T21:40:14.248Z"
   },
   {
    "duration": 1411,
    "start_time": "2021-07-12T07:39:40.608Z"
   },
   {
    "duration": 214,
    "start_time": "2021-07-12T07:39:42.021Z"
   },
   {
    "duration": 258,
    "start_time": "2021-07-12T07:39:42.237Z"
   },
   {
    "duration": 70,
    "start_time": "2021-07-12T07:39:42.497Z"
   },
   {
    "duration": 126,
    "start_time": "2021-07-12T07:39:42.569Z"
   },
   {
    "duration": 6,
    "start_time": "2021-07-12T07:39:42.697Z"
   },
   {
    "duration": 55,
    "start_time": "2021-07-12T07:39:42.704Z"
   },
   {
    "duration": 25,
    "start_time": "2021-07-12T07:39:42.761Z"
   },
   {
    "duration": 143,
    "start_time": "2021-07-12T07:39:42.788Z"
   },
   {
    "duration": 4,
    "start_time": "2021-07-12T07:39:42.933Z"
   },
   {
    "duration": 1331,
    "start_time": "2021-07-12T07:39:42.939Z"
   },
   {
    "duration": 131,
    "start_time": "2021-07-12T07:39:44.271Z"
   },
   {
    "duration": 3870,
    "start_time": "2021-07-12T07:39:44.404Z"
   },
   {
    "duration": 473,
    "start_time": "2021-07-12T07:39:48.276Z"
   },
   {
    "duration": 5,
    "start_time": "2021-07-12T07:39:48.750Z"
   },
   {
    "duration": 323,
    "start_time": "2021-07-12T07:39:48.757Z"
   },
   {
    "duration": 11,
    "start_time": "2021-07-12T07:39:49.082Z"
   },
   {
    "duration": 83,
    "start_time": "2021-07-12T07:39:49.094Z"
   },
   {
    "duration": 1510,
    "start_time": "2021-07-12T07:39:49.178Z"
   },
   {
    "duration": 4,
    "start_time": "2021-07-12T07:39:50.689Z"
   },
   {
    "duration": 1633,
    "start_time": "2021-07-12T07:39:50.695Z"
   },
   {
    "duration": 17,
    "start_time": "2021-07-12T07:39:52.330Z"
   },
   {
    "duration": 33,
    "start_time": "2021-07-12T07:39:52.349Z"
   },
   {
    "duration": 2040,
    "start_time": "2021-07-12T07:39:52.384Z"
   },
   {
    "duration": 5,
    "start_time": "2021-07-12T07:39:54.425Z"
   },
   {
    "duration": 5,
    "start_time": "2021-07-12T07:39:54.441Z"
   },
   {
    "duration": 6,
    "start_time": "2021-07-12T07:39:54.448Z"
   },
   {
    "duration": 56,
    "start_time": "2021-07-12T07:39:54.456Z"
   },
   {
    "duration": 2264,
    "start_time": "2021-07-12T07:39:54.514Z"
   },
   {
    "duration": 5,
    "start_time": "2021-07-12T07:39:56.780Z"
   },
   {
    "duration": 13,
    "start_time": "2021-07-12T07:39:56.786Z"
   },
   {
    "duration": 50,
    "start_time": "2021-07-12T07:40:34.029Z"
   },
   {
    "duration": 43,
    "start_time": "2021-07-12T09:47:35.777Z"
   },
   {
    "duration": 1953,
    "start_time": "2021-07-12T09:47:36.936Z"
   },
   {
    "duration": 4,
    "start_time": "2021-07-12T09:47:46.795Z"
   },
   {
    "duration": 5,
    "start_time": "2021-07-12T09:47:59.428Z"
   },
   {
    "duration": 5,
    "start_time": "2021-07-12T09:48:26.297Z"
   },
   {
    "duration": 654,
    "start_time": "2021-07-12T09:54:07.947Z"
   },
   {
    "duration": 6410,
    "start_time": "2021-07-12T09:55:40.942Z"
   },
   {
    "duration": 6614,
    "start_time": "2021-07-12T09:55:55.892Z"
   },
   {
    "duration": 1243,
    "start_time": "2021-07-12T09:56:22.792Z"
   },
   {
    "duration": 1300,
    "start_time": "2021-07-12T09:56:44.152Z"
   },
   {
    "duration": 1391,
    "start_time": "2021-07-12T09:57:07.736Z"
   },
   {
    "duration": 1204,
    "start_time": "2021-07-12T09:58:52.761Z"
   },
   {
    "duration": 15,
    "start_time": "2021-07-12T10:05:43.949Z"
   },
   {
    "duration": 9,
    "start_time": "2021-07-12T10:05:51.183Z"
   },
   {
    "duration": 3181,
    "start_time": "2021-07-12T10:17:11.187Z"
   },
   {
    "duration": 4,
    "start_time": "2021-07-12T10:19:09.882Z"
   },
   {
    "duration": 86,
    "start_time": "2021-07-12T10:30:22.811Z"
   },
   {
    "duration": 98,
    "start_time": "2021-07-12T10:30:58.262Z"
   },
   {
    "duration": 254,
    "start_time": "2021-07-12T10:49:42.174Z"
   },
   {
    "duration": 31,
    "start_time": "2021-07-12T10:50:05.071Z"
   },
   {
    "duration": 36,
    "start_time": "2021-07-12T10:50:09.608Z"
   },
   {
    "duration": 35,
    "start_time": "2021-07-12T10:50:33.413Z"
   },
   {
    "duration": 35,
    "start_time": "2021-07-12T10:51:09.220Z"
   },
   {
    "duration": 401,
    "start_time": "2021-07-12T10:51:31.632Z"
   },
   {
    "duration": 2164,
    "start_time": "2021-07-12T10:52:03.725Z"
   },
   {
    "duration": 6,
    "start_time": "2021-07-12T11:54:49.770Z"
   },
   {
    "duration": -2340,
    "start_time": "2021-07-12T12:15:06.204Z"
   },
   {
    "duration": 1430,
    "start_time": "2021-07-12T12:34:03.391Z"
   },
   {
    "duration": 207,
    "start_time": "2021-07-12T12:34:04.823Z"
   },
   {
    "duration": 277,
    "start_time": "2021-07-12T12:34:05.032Z"
   },
   {
    "duration": 72,
    "start_time": "2021-07-12T12:34:05.311Z"
   },
   {
    "duration": 141,
    "start_time": "2021-07-12T12:34:05.385Z"
   },
   {
    "duration": 14,
    "start_time": "2021-07-12T12:34:05.528Z"
   },
   {
    "duration": 49,
    "start_time": "2021-07-12T12:34:05.543Z"
   },
   {
    "duration": 25,
    "start_time": "2021-07-12T12:34:05.594Z"
   },
   {
    "duration": 145,
    "start_time": "2021-07-12T12:34:05.621Z"
   },
   {
    "duration": 8,
    "start_time": "2021-07-12T12:34:05.768Z"
   },
   {
    "duration": 10,
    "start_time": "2021-07-12T12:34:05.777Z"
   },
   {
    "duration": 1096,
    "start_time": "2021-07-12T12:34:05.789Z"
   },
   {
    "duration": 126,
    "start_time": "2021-07-12T12:34:06.887Z"
   },
   {
    "duration": 3621,
    "start_time": "2021-07-12T12:34:07.015Z"
   },
   {
    "duration": 451,
    "start_time": "2021-07-12T12:34:10.641Z"
   },
   {
    "duration": 5,
    "start_time": "2021-07-12T12:34:11.094Z"
   },
   {
    "duration": 359,
    "start_time": "2021-07-12T12:34:11.100Z"
   },
   {
    "duration": 12,
    "start_time": "2021-07-12T12:34:11.461Z"
   },
   {
    "duration": 84,
    "start_time": "2021-07-12T12:34:11.474Z"
   },
   {
    "duration": 1371,
    "start_time": "2021-07-12T12:34:11.560Z"
   },
   {
    "duration": 4,
    "start_time": "2021-07-12T12:34:12.940Z"
   },
   {
    "duration": 1597,
    "start_time": "2021-07-12T12:34:12.945Z"
   },
   {
    "duration": 10,
    "start_time": "2021-07-12T12:34:14.545Z"
   },
   {
    "duration": 30,
    "start_time": "2021-07-12T12:34:14.557Z"
   },
   {
    "duration": 2064,
    "start_time": "2021-07-12T12:34:14.589Z"
   },
   {
    "duration": 4,
    "start_time": "2021-07-12T12:34:16.655Z"
   },
   {
    "duration": 8,
    "start_time": "2021-07-12T12:34:16.660Z"
   },
   {
    "duration": 10,
    "start_time": "2021-07-12T12:34:16.669Z"
   },
   {
    "duration": 2199,
    "start_time": "2021-07-12T12:34:16.681Z"
   },
   {
    "duration": 5,
    "start_time": "2021-07-12T12:34:18.883Z"
   },
   {
    "duration": 7,
    "start_time": "2021-07-12T12:34:18.890Z"
   },
   {
    "duration": 1410,
    "start_time": "2021-07-12T12:38:25.608Z"
   },
   {
    "duration": 207,
    "start_time": "2021-07-12T12:38:27.020Z"
   },
   {
    "duration": 270,
    "start_time": "2021-07-12T12:38:27.229Z"
   },
   {
    "duration": 69,
    "start_time": "2021-07-12T12:38:27.501Z"
   },
   {
    "duration": 126,
    "start_time": "2021-07-12T12:38:27.571Z"
   },
   {
    "duration": 7,
    "start_time": "2021-07-12T12:38:27.698Z"
   },
   {
    "duration": 56,
    "start_time": "2021-07-12T12:38:27.706Z"
   },
   {
    "duration": 24,
    "start_time": "2021-07-12T12:38:27.765Z"
   },
   {
    "duration": 135,
    "start_time": "2021-07-12T12:38:27.790Z"
   },
   {
    "duration": 8,
    "start_time": "2021-07-12T12:38:27.926Z"
   },
   {
    "duration": 3,
    "start_time": "2021-07-12T12:38:27.940Z"
   },
   {
    "duration": 1009,
    "start_time": "2021-07-12T12:38:27.945Z"
   },
   {
    "duration": 120,
    "start_time": "2021-07-12T12:38:28.956Z"
   },
   {
    "duration": 3594,
    "start_time": "2021-07-12T12:38:29.078Z"
   },
   {
    "duration": 472,
    "start_time": "2021-07-12T12:38:32.674Z"
   },
   {
    "duration": 3,
    "start_time": "2021-07-12T12:38:33.148Z"
   },
   {
    "duration": 321,
    "start_time": "2021-07-12T12:38:33.152Z"
   },
   {
    "duration": 12,
    "start_time": "2021-07-12T12:38:33.474Z"
   },
   {
    "duration": 79,
    "start_time": "2021-07-12T12:38:33.488Z"
   },
   {
    "duration": 1343,
    "start_time": "2021-07-12T12:38:33.569Z"
   },
   {
    "duration": 4,
    "start_time": "2021-07-12T12:38:34.914Z"
   },
   {
    "duration": 1603,
    "start_time": "2021-07-12T12:38:34.919Z"
   },
   {
    "duration": 8,
    "start_time": "2021-07-12T12:38:36.525Z"
   },
   {
    "duration": 24,
    "start_time": "2021-07-12T12:38:36.541Z"
   },
   {
    "duration": 2012,
    "start_time": "2021-07-12T12:38:36.566Z"
   },
   {
    "duration": 4,
    "start_time": "2021-07-12T12:38:38.580Z"
   },
   {
    "duration": 7,
    "start_time": "2021-07-12T12:38:38.586Z"
   },
   {
    "duration": 6,
    "start_time": "2021-07-12T12:38:38.594Z"
   },
   {
    "duration": 2224,
    "start_time": "2021-07-12T12:38:38.602Z"
   },
   {
    "duration": 4,
    "start_time": "2021-07-12T12:38:40.827Z"
   },
   {
    "duration": 5,
    "start_time": "2021-07-12T12:38:40.841Z"
   },
   {
    "duration": 86,
    "start_time": "2021-07-13T11:09:09.511Z"
   },
   {
    "duration": 309,
    "start_time": "2021-07-13T11:09:20.833Z"
   },
   {
    "duration": 254,
    "start_time": "2021-07-13T11:09:25.654Z"
   },
   {
    "duration": 1615,
    "start_time": "2021-07-13T11:09:37.376Z"
   },
   {
    "duration": 236,
    "start_time": "2021-07-13T11:09:38.993Z"
   },
   {
    "duration": 333,
    "start_time": "2021-07-13T11:09:39.231Z"
   },
   {
    "duration": 60,
    "start_time": "2021-07-13T11:09:39.566Z"
   },
   {
    "duration": 151,
    "start_time": "2021-07-13T11:09:39.627Z"
   },
   {
    "duration": 7,
    "start_time": "2021-07-13T11:09:39.779Z"
   },
   {
    "duration": 168,
    "start_time": "2021-07-13T11:09:39.788Z"
   },
   {
    "duration": 25,
    "start_time": "2021-07-13T11:09:39.959Z"
   },
   {
    "duration": 151,
    "start_time": "2021-07-13T11:09:39.986Z"
   },
   {
    "duration": 13,
    "start_time": "2021-07-13T11:09:40.138Z"
   },
   {
    "duration": 5,
    "start_time": "2021-07-13T11:09:40.154Z"
   },
   {
    "duration": 1215,
    "start_time": "2021-07-13T11:09:40.160Z"
   },
   {
    "duration": 138,
    "start_time": "2021-07-13T11:09:41.377Z"
   },
   {
    "duration": 4071,
    "start_time": "2021-07-13T11:09:41.517Z"
   },
   {
    "duration": 588,
    "start_time": "2021-07-13T11:09:45.590Z"
   },
   {
    "duration": 3,
    "start_time": "2021-07-13T11:09:46.179Z"
   },
   {
    "duration": 345,
    "start_time": "2021-07-13T11:09:46.184Z"
   },
   {
    "duration": 21,
    "start_time": "2021-07-13T11:09:46.531Z"
   },
   {
    "duration": 70,
    "start_time": "2021-07-13T11:09:46.555Z"
   },
   {
    "duration": 1453,
    "start_time": "2021-07-13T11:09:46.627Z"
   },
   {
    "duration": 4,
    "start_time": "2021-07-13T11:09:48.082Z"
   },
   {
    "duration": 1796,
    "start_time": "2021-07-13T11:09:48.087Z"
   },
   {
    "duration": 9,
    "start_time": "2021-07-13T11:09:49.887Z"
   },
   {
    "duration": 38,
    "start_time": "2021-07-13T11:09:49.897Z"
   },
   {
    "duration": 2099,
    "start_time": "2021-07-13T11:09:49.936Z"
   },
   {
    "duration": 6,
    "start_time": "2021-07-13T11:09:52.040Z"
   },
   {
    "duration": 17,
    "start_time": "2021-07-13T11:09:52.049Z"
   },
   {
    "duration": 6,
    "start_time": "2021-07-13T11:09:52.068Z"
   },
   {
    "duration": 2340,
    "start_time": "2021-07-13T11:09:52.075Z"
   },
   {
    "duration": 4,
    "start_time": "2021-07-13T11:09:54.417Z"
   },
   {
    "duration": 8,
    "start_time": "2021-07-13T11:09:54.423Z"
   },
   {
    "duration": 6,
    "start_time": "2021-07-13T11:10:50.022Z"
   },
   {
    "duration": 1107,
    "start_time": "2021-07-13T11:11:01.566Z"
   },
   {
    "duration": 5,
    "start_time": "2021-07-13T11:11:04.807Z"
   },
   {
    "duration": 151,
    "start_time": "2021-07-13T11:12:09.322Z"
   },
   {
    "duration": 94,
    "start_time": "2021-07-13T11:14:38.861Z"
   },
   {
    "duration": 2321,
    "start_time": "2021-07-27T09:11:07.088Z"
   },
   {
    "duration": 926,
    "start_time": "2021-07-27T09:11:09.412Z"
   },
   {
    "duration": 364,
    "start_time": "2021-07-27T09:11:10.341Z"
   },
   {
    "duration": 101,
    "start_time": "2021-07-27T09:11:10.708Z"
   },
   {
    "duration": 191,
    "start_time": "2021-07-27T09:11:10.812Z"
   },
   {
    "duration": 11,
    "start_time": "2021-07-27T09:11:11.006Z"
   },
   {
    "duration": 86,
    "start_time": "2021-07-27T09:11:11.019Z"
   },
   {
    "duration": 36,
    "start_time": "2021-07-27T09:11:11.109Z"
   },
   {
    "duration": 196,
    "start_time": "2021-07-27T09:11:11.148Z"
   },
   {
    "duration": 10,
    "start_time": "2021-07-27T09:11:11.346Z"
   },
   {
    "duration": 22,
    "start_time": "2021-07-27T09:11:11.359Z"
   },
   {
    "duration": 1726,
    "start_time": "2021-07-27T09:11:11.383Z"
   },
   {
    "duration": 181,
    "start_time": "2021-07-27T09:11:13.111Z"
   },
   {
    "duration": 6890,
    "start_time": "2021-07-27T09:11:13.295Z"
   },
   {
    "duration": 788,
    "start_time": "2021-07-27T09:11:20.187Z"
   },
   {
    "duration": 5,
    "start_time": "2021-07-27T09:11:20.977Z"
   },
   {
    "duration": 584,
    "start_time": "2021-07-27T09:11:20.985Z"
   },
   {
    "duration": 18,
    "start_time": "2021-07-27T09:11:21.571Z"
   },
   {
    "duration": 147,
    "start_time": "2021-07-27T09:11:21.592Z"
   },
   {
    "duration": 2330,
    "start_time": "2021-07-27T09:11:21.742Z"
   },
   {
    "duration": 6,
    "start_time": "2021-07-27T09:11:24.074Z"
   },
   {
    "duration": 3534,
    "start_time": "2021-07-27T09:11:24.083Z"
   },
   {
    "duration": 14,
    "start_time": "2021-07-27T09:11:27.621Z"
   },
   {
    "duration": 72,
    "start_time": "2021-07-27T09:11:27.639Z"
   },
   {
    "duration": 3630,
    "start_time": "2021-07-27T09:11:27.714Z"
   },
   {
    "duration": 6,
    "start_time": "2021-07-27T09:11:31.355Z"
   },
   {
    "duration": 29,
    "start_time": "2021-07-27T09:11:31.363Z"
   },
   {
    "duration": 38,
    "start_time": "2021-07-27T09:11:31.395Z"
   },
   {
    "duration": 3781,
    "start_time": "2021-07-27T09:11:31.436Z"
   },
   {
    "duration": 6,
    "start_time": "2021-07-27T09:11:35.219Z"
   },
   {
    "duration": 29,
    "start_time": "2021-07-27T09:11:35.228Z"
   }
  ],
  "kernelspec": {
   "display_name": "Python 3",
   "language": "python",
   "name": "python3"
  },
  "language_info": {
   "codemirror_mode": {
    "name": "ipython",
    "version": 3
   },
   "file_extension": ".py",
   "mimetype": "text/x-python",
   "name": "python",
   "nbconvert_exporter": "python",
   "pygments_lexer": "ipython3",
   "version": "3.8.5"
  },
  "toc": {
   "base_numbering": 1,
   "nav_menu": {},
   "number_sections": true,
   "sideBar": true,
   "skip_h1_title": true,
   "title_cell": "Table of Contents",
   "title_sidebar": "Contents",
   "toc_cell": false,
   "toc_position": {
    "height": "calc(100% - 180px)",
    "left": "10px",
    "top": "150px",
    "width": "171px"
   },
   "toc_section_display": true,
   "toc_window_display": true
  }
 },
 "nbformat": 4,
 "nbformat_minor": 2
}
