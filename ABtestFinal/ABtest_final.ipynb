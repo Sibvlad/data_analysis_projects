{
 "cells": [
  {
   "cell_type": "markdown",
   "metadata": {},
   "source": [
    "# Проект по А/B-тестированию"
   ]
  },
  {
   "cell_type": "markdown",
   "metadata": {},
   "source": [
    "__Цель исследования__ — провести оценку результатов A/B-теста по поводу тестирования изменений, связанных с внедрением улучшенной рекомендательной системы. \n",
    "\n",
    "__Задачи исследования:__\n",
    "- Оценка корректности проведения теста\n",
    "- Анализ результатов теста\n",
    "\n",
    "__Выполненные задачи в рамках проекта:__ <br>\n",
    "- приведены данные к нужным типам и обработаны пропущенные значения и дубликаты;\n",
    "- проведен анализ конверсии в воронке на разных этапах;\n",
    "- построена гистограмма по распределению событий по дням;\n",
    "- оценка корректности проведения теста;\n",
    "- оценка результатов A/B-тестирования;\n",
    "- проверка статистической разницы долей z-критерием;\n",
    "- описание выводов по этапу исследовательского анализа данных и по проведённой оценке результатов A/B-тестирования."
   ]
  },
  {
   "cell_type": "markdown",
   "metadata": {},
   "source": [
    "### Содержание\n",
    "<ul style=\"list-style:none; text-decoration: none\">\n",
    "    <li><a style=\"text-decoration: none\" href=\"#introduction\">1. Загрузка данных и подготовка их к анализу</a></li>\n",
    "    <li><a style=\"text-decoration: none\" href=\"#data_pre-processing\">2. Подготовка данных</a></li>\n",
    "    <li><a style=\"text-decoration: none\" href=\"#analysis\">3. Проведение исследовательского анализа </a></li>\n",
    "    <li><a style=\"text-decoration: none\" href=\"#research_analysis\">4. Проверка гипотез и анализ A/B теста</a></li>\n",
    "    <li><a style=\"text-decoration: none\" href=\"#conclusion\">5. Выводы проекта</a></li>\n",
    "</ul>"
   ]
  },
  {
   "cell_type": "markdown",
   "metadata": {},
   "source": [
    "## 1.  Загрузка данных и подготовка их к анализу <a name=\"introduction\"></a> "
   ]
  },
  {
   "cell_type": "code",
   "execution_count": 1,
   "metadata": {},
   "outputs": [],
   "source": [
    "#Импортирую библиотеку\n",
    "import pandas as pd\n",
    "import numpy as np\n",
    "import matplotlib.pyplot as plt\n",
    "from scipy import stats as st\n",
    "from plotly import graph_objects as go\n",
    "import plotly.express as px\n",
    "import math as mth\n",
    "from pandas.plotting import register_matplotlib_converters\n",
    "register_matplotlib_converters()\n",
    "import seaborn as sns"
   ]
  },
  {
   "cell_type": "markdown",
   "metadata": {},
   "source": [
    "Импортирую библиотеку Pandas и с помощью метода .read_csv() создаю четыре ноывых DataFrame __events__, __new_users__, __participants__ и __marketing_events__."
   ]
  },
  {
   "cell_type": "code",
   "execution_count": 2,
   "metadata": {},
   "outputs": [],
   "source": [
    "events = pd.read_csv(\"final_ab_events.csv\")\n",
    "new_users = pd.read_csv(\"final_ab_new_users.csv\")\n",
    "participants = pd.read_csv(\"final_ab_participants.csv\")\n",
    "marketing_events = pd.read_csv(\"ab_project_marketing_events.csv\")"
   ]
  },
  {
   "cell_type": "markdown",
   "metadata": {},
   "source": [
    "Создаю функцию для получения основной информации о датафрейме"
   ]
  },
  {
   "cell_type": "code",
   "execution_count": 3,
   "metadata": {},
   "outputs": [],
   "source": [
    "def data_describe(dataframe):\n",
    "    display(dataframe.head(10))\n",
    "    display(dataframe.describe())\n",
    "    dataframe.info()"
   ]
  },
  {
   "cell_type": "markdown",
   "metadata": {},
   "source": [
    "Пропускаю датафрейсы через цикл"
   ]
  },
  {
   "cell_type": "code",
   "execution_count": 4,
   "metadata": {},
   "outputs": [
    {
     "data": {
      "text/html": [
       "<div>\n",
       "<style scoped>\n",
       "    .dataframe tbody tr th:only-of-type {\n",
       "        vertical-align: middle;\n",
       "    }\n",
       "\n",
       "    .dataframe tbody tr th {\n",
       "        vertical-align: top;\n",
       "    }\n",
       "\n",
       "    .dataframe thead th {\n",
       "        text-align: right;\n",
       "    }\n",
       "</style>\n",
       "<table border=\"1\" class=\"dataframe\">\n",
       "  <thead>\n",
       "    <tr style=\"text-align: right;\">\n",
       "      <th></th>\n",
       "      <th>user_id</th>\n",
       "      <th>event_dt</th>\n",
       "      <th>event_name</th>\n",
       "      <th>details</th>\n",
       "    </tr>\n",
       "  </thead>\n",
       "  <tbody>\n",
       "    <tr>\n",
       "      <th>0</th>\n",
       "      <td>E1BDDCE0DAFA2679</td>\n",
       "      <td>2020-12-07 20:22:03</td>\n",
       "      <td>purchase</td>\n",
       "      <td>99.99</td>\n",
       "    </tr>\n",
       "    <tr>\n",
       "      <th>1</th>\n",
       "      <td>7B6452F081F49504</td>\n",
       "      <td>2020-12-07 09:22:53</td>\n",
       "      <td>purchase</td>\n",
       "      <td>9.99</td>\n",
       "    </tr>\n",
       "    <tr>\n",
       "      <th>2</th>\n",
       "      <td>9CD9F34546DF254C</td>\n",
       "      <td>2020-12-07 12:59:29</td>\n",
       "      <td>purchase</td>\n",
       "      <td>4.99</td>\n",
       "    </tr>\n",
       "    <tr>\n",
       "      <th>3</th>\n",
       "      <td>96F27A054B191457</td>\n",
       "      <td>2020-12-07 04:02:40</td>\n",
       "      <td>purchase</td>\n",
       "      <td>4.99</td>\n",
       "    </tr>\n",
       "    <tr>\n",
       "      <th>4</th>\n",
       "      <td>1FD7660FDF94CA1F</td>\n",
       "      <td>2020-12-07 10:15:09</td>\n",
       "      <td>purchase</td>\n",
       "      <td>4.99</td>\n",
       "    </tr>\n",
       "    <tr>\n",
       "      <th>5</th>\n",
       "      <td>831887FE7F2D6CBA</td>\n",
       "      <td>2020-12-07 06:50:29</td>\n",
       "      <td>purchase</td>\n",
       "      <td>4.99</td>\n",
       "    </tr>\n",
       "    <tr>\n",
       "      <th>6</th>\n",
       "      <td>6B2F726BFD5F8220</td>\n",
       "      <td>2020-12-07 11:27:42</td>\n",
       "      <td>purchase</td>\n",
       "      <td>4.99</td>\n",
       "    </tr>\n",
       "    <tr>\n",
       "      <th>7</th>\n",
       "      <td>BEB37715AACF53B0</td>\n",
       "      <td>2020-12-07 04:26:15</td>\n",
       "      <td>purchase</td>\n",
       "      <td>4.99</td>\n",
       "    </tr>\n",
       "    <tr>\n",
       "      <th>8</th>\n",
       "      <td>B5FA27F582227197</td>\n",
       "      <td>2020-12-07 01:46:37</td>\n",
       "      <td>purchase</td>\n",
       "      <td>4.99</td>\n",
       "    </tr>\n",
       "    <tr>\n",
       "      <th>9</th>\n",
       "      <td>A92195E3CFB83DBD</td>\n",
       "      <td>2020-12-07 00:32:07</td>\n",
       "      <td>purchase</td>\n",
       "      <td>4.99</td>\n",
       "    </tr>\n",
       "  </tbody>\n",
       "</table>\n",
       "</div>"
      ],
      "text/plain": [
       "            user_id             event_dt event_name  details\n",
       "0  E1BDDCE0DAFA2679  2020-12-07 20:22:03   purchase    99.99\n",
       "1  7B6452F081F49504  2020-12-07 09:22:53   purchase     9.99\n",
       "2  9CD9F34546DF254C  2020-12-07 12:59:29   purchase     4.99\n",
       "3  96F27A054B191457  2020-12-07 04:02:40   purchase     4.99\n",
       "4  1FD7660FDF94CA1F  2020-12-07 10:15:09   purchase     4.99\n",
       "5  831887FE7F2D6CBA  2020-12-07 06:50:29   purchase     4.99\n",
       "6  6B2F726BFD5F8220  2020-12-07 11:27:42   purchase     4.99\n",
       "7  BEB37715AACF53B0  2020-12-07 04:26:15   purchase     4.99\n",
       "8  B5FA27F582227197  2020-12-07 01:46:37   purchase     4.99\n",
       "9  A92195E3CFB83DBD  2020-12-07 00:32:07   purchase     4.99"
      ]
     },
     "metadata": {},
     "output_type": "display_data"
    },
    {
     "data": {
      "text/html": [
       "<div>\n",
       "<style scoped>\n",
       "    .dataframe tbody tr th:only-of-type {\n",
       "        vertical-align: middle;\n",
       "    }\n",
       "\n",
       "    .dataframe tbody tr th {\n",
       "        vertical-align: top;\n",
       "    }\n",
       "\n",
       "    .dataframe thead th {\n",
       "        text-align: right;\n",
       "    }\n",
       "</style>\n",
       "<table border=\"1\" class=\"dataframe\">\n",
       "  <thead>\n",
       "    <tr style=\"text-align: right;\">\n",
       "      <th></th>\n",
       "      <th>details</th>\n",
       "    </tr>\n",
       "  </thead>\n",
       "  <tbody>\n",
       "    <tr>\n",
       "      <th>count</th>\n",
       "      <td>62740.000000</td>\n",
       "    </tr>\n",
       "    <tr>\n",
       "      <th>mean</th>\n",
       "      <td>23.877631</td>\n",
       "    </tr>\n",
       "    <tr>\n",
       "      <th>std</th>\n",
       "      <td>72.180465</td>\n",
       "    </tr>\n",
       "    <tr>\n",
       "      <th>min</th>\n",
       "      <td>4.990000</td>\n",
       "    </tr>\n",
       "    <tr>\n",
       "      <th>25%</th>\n",
       "      <td>4.990000</td>\n",
       "    </tr>\n",
       "    <tr>\n",
       "      <th>50%</th>\n",
       "      <td>4.990000</td>\n",
       "    </tr>\n",
       "    <tr>\n",
       "      <th>75%</th>\n",
       "      <td>9.990000</td>\n",
       "    </tr>\n",
       "    <tr>\n",
       "      <th>max</th>\n",
       "      <td>499.990000</td>\n",
       "    </tr>\n",
       "  </tbody>\n",
       "</table>\n",
       "</div>"
      ],
      "text/plain": [
       "            details\n",
       "count  62740.000000\n",
       "mean      23.877631\n",
       "std       72.180465\n",
       "min        4.990000\n",
       "25%        4.990000\n",
       "50%        4.990000\n",
       "75%        9.990000\n",
       "max      499.990000"
      ]
     },
     "metadata": {},
     "output_type": "display_data"
    },
    {
     "name": "stdout",
     "output_type": "stream",
     "text": [
      "<class 'pandas.core.frame.DataFrame'>\n",
      "RangeIndex: 440317 entries, 0 to 440316\n",
      "Data columns (total 4 columns):\n",
      " #   Column      Non-Null Count   Dtype  \n",
      "---  ------      --------------   -----  \n",
      " 0   user_id     440317 non-null  object \n",
      " 1   event_dt    440317 non-null  object \n",
      " 2   event_name  440317 non-null  object \n",
      " 3   details     62740 non-null   float64\n",
      "dtypes: float64(1), object(3)\n",
      "memory usage: 13.4+ MB\n",
      "None\n",
      "\n"
     ]
    },
    {
     "data": {
      "text/html": [
       "<div>\n",
       "<style scoped>\n",
       "    .dataframe tbody tr th:only-of-type {\n",
       "        vertical-align: middle;\n",
       "    }\n",
       "\n",
       "    .dataframe tbody tr th {\n",
       "        vertical-align: top;\n",
       "    }\n",
       "\n",
       "    .dataframe thead th {\n",
       "        text-align: right;\n",
       "    }\n",
       "</style>\n",
       "<table border=\"1\" class=\"dataframe\">\n",
       "  <thead>\n",
       "    <tr style=\"text-align: right;\">\n",
       "      <th></th>\n",
       "      <th>user_id</th>\n",
       "      <th>first_date</th>\n",
       "      <th>region</th>\n",
       "      <th>device</th>\n",
       "    </tr>\n",
       "  </thead>\n",
       "  <tbody>\n",
       "    <tr>\n",
       "      <th>0</th>\n",
       "      <td>D72A72121175D8BE</td>\n",
       "      <td>2020-12-07</td>\n",
       "      <td>EU</td>\n",
       "      <td>PC</td>\n",
       "    </tr>\n",
       "    <tr>\n",
       "      <th>1</th>\n",
       "      <td>F1C668619DFE6E65</td>\n",
       "      <td>2020-12-07</td>\n",
       "      <td>N.America</td>\n",
       "      <td>Android</td>\n",
       "    </tr>\n",
       "    <tr>\n",
       "      <th>2</th>\n",
       "      <td>2E1BF1D4C37EA01F</td>\n",
       "      <td>2020-12-07</td>\n",
       "      <td>EU</td>\n",
       "      <td>PC</td>\n",
       "    </tr>\n",
       "    <tr>\n",
       "      <th>3</th>\n",
       "      <td>50734A22C0C63768</td>\n",
       "      <td>2020-12-07</td>\n",
       "      <td>EU</td>\n",
       "      <td>iPhone</td>\n",
       "    </tr>\n",
       "    <tr>\n",
       "      <th>4</th>\n",
       "      <td>E1BDDCE0DAFA2679</td>\n",
       "      <td>2020-12-07</td>\n",
       "      <td>N.America</td>\n",
       "      <td>iPhone</td>\n",
       "    </tr>\n",
       "    <tr>\n",
       "      <th>5</th>\n",
       "      <td>137119F5A9E69421</td>\n",
       "      <td>2020-12-07</td>\n",
       "      <td>N.America</td>\n",
       "      <td>iPhone</td>\n",
       "    </tr>\n",
       "    <tr>\n",
       "      <th>6</th>\n",
       "      <td>62F0C741CC42D0CC</td>\n",
       "      <td>2020-12-07</td>\n",
       "      <td>APAC</td>\n",
       "      <td>iPhone</td>\n",
       "    </tr>\n",
       "    <tr>\n",
       "      <th>7</th>\n",
       "      <td>8942E64218C9A1ED</td>\n",
       "      <td>2020-12-07</td>\n",
       "      <td>EU</td>\n",
       "      <td>PC</td>\n",
       "    </tr>\n",
       "    <tr>\n",
       "      <th>8</th>\n",
       "      <td>499AFACF904BBAE3</td>\n",
       "      <td>2020-12-07</td>\n",
       "      <td>N.America</td>\n",
       "      <td>iPhone</td>\n",
       "    </tr>\n",
       "    <tr>\n",
       "      <th>9</th>\n",
       "      <td>FFCEA1179C253104</td>\n",
       "      <td>2020-12-07</td>\n",
       "      <td>EU</td>\n",
       "      <td>Android</td>\n",
       "    </tr>\n",
       "  </tbody>\n",
       "</table>\n",
       "</div>"
      ],
      "text/plain": [
       "            user_id  first_date     region   device\n",
       "0  D72A72121175D8BE  2020-12-07         EU       PC\n",
       "1  F1C668619DFE6E65  2020-12-07  N.America  Android\n",
       "2  2E1BF1D4C37EA01F  2020-12-07         EU       PC\n",
       "3  50734A22C0C63768  2020-12-07         EU   iPhone\n",
       "4  E1BDDCE0DAFA2679  2020-12-07  N.America   iPhone\n",
       "5  137119F5A9E69421  2020-12-07  N.America   iPhone\n",
       "6  62F0C741CC42D0CC  2020-12-07       APAC   iPhone\n",
       "7  8942E64218C9A1ED  2020-12-07         EU       PC\n",
       "8  499AFACF904BBAE3  2020-12-07  N.America   iPhone\n",
       "9  FFCEA1179C253104  2020-12-07         EU  Android"
      ]
     },
     "metadata": {},
     "output_type": "display_data"
    },
    {
     "data": {
      "text/html": [
       "<div>\n",
       "<style scoped>\n",
       "    .dataframe tbody tr th:only-of-type {\n",
       "        vertical-align: middle;\n",
       "    }\n",
       "\n",
       "    .dataframe tbody tr th {\n",
       "        vertical-align: top;\n",
       "    }\n",
       "\n",
       "    .dataframe thead th {\n",
       "        text-align: right;\n",
       "    }\n",
       "</style>\n",
       "<table border=\"1\" class=\"dataframe\">\n",
       "  <thead>\n",
       "    <tr style=\"text-align: right;\">\n",
       "      <th></th>\n",
       "      <th>user_id</th>\n",
       "      <th>first_date</th>\n",
       "      <th>region</th>\n",
       "      <th>device</th>\n",
       "    </tr>\n",
       "  </thead>\n",
       "  <tbody>\n",
       "    <tr>\n",
       "      <th>count</th>\n",
       "      <td>61733</td>\n",
       "      <td>61733</td>\n",
       "      <td>61733</td>\n",
       "      <td>61733</td>\n",
       "    </tr>\n",
       "    <tr>\n",
       "      <th>unique</th>\n",
       "      <td>61733</td>\n",
       "      <td>17</td>\n",
       "      <td>4</td>\n",
       "      <td>4</td>\n",
       "    </tr>\n",
       "    <tr>\n",
       "      <th>top</th>\n",
       "      <td>66573DD3643B60B3</td>\n",
       "      <td>2020-12-21</td>\n",
       "      <td>EU</td>\n",
       "      <td>Android</td>\n",
       "    </tr>\n",
       "    <tr>\n",
       "      <th>freq</th>\n",
       "      <td>1</td>\n",
       "      <td>6290</td>\n",
       "      <td>46270</td>\n",
       "      <td>27520</td>\n",
       "    </tr>\n",
       "  </tbody>\n",
       "</table>\n",
       "</div>"
      ],
      "text/plain": [
       "                 user_id  first_date region   device\n",
       "count              61733       61733  61733    61733\n",
       "unique             61733          17      4        4\n",
       "top     66573DD3643B60B3  2020-12-21     EU  Android\n",
       "freq                   1        6290  46270    27520"
      ]
     },
     "metadata": {},
     "output_type": "display_data"
    },
    {
     "name": "stdout",
     "output_type": "stream",
     "text": [
      "<class 'pandas.core.frame.DataFrame'>\n",
      "RangeIndex: 61733 entries, 0 to 61732\n",
      "Data columns (total 4 columns):\n",
      " #   Column      Non-Null Count  Dtype \n",
      "---  ------      --------------  ----- \n",
      " 0   user_id     61733 non-null  object\n",
      " 1   first_date  61733 non-null  object\n",
      " 2   region      61733 non-null  object\n",
      " 3   device      61733 non-null  object\n",
      "dtypes: object(4)\n",
      "memory usage: 1.9+ MB\n",
      "None\n",
      "\n"
     ]
    },
    {
     "data": {
      "text/html": [
       "<div>\n",
       "<style scoped>\n",
       "    .dataframe tbody tr th:only-of-type {\n",
       "        vertical-align: middle;\n",
       "    }\n",
       "\n",
       "    .dataframe tbody tr th {\n",
       "        vertical-align: top;\n",
       "    }\n",
       "\n",
       "    .dataframe thead th {\n",
       "        text-align: right;\n",
       "    }\n",
       "</style>\n",
       "<table border=\"1\" class=\"dataframe\">\n",
       "  <thead>\n",
       "    <tr style=\"text-align: right;\">\n",
       "      <th></th>\n",
       "      <th>user_id</th>\n",
       "      <th>group</th>\n",
       "      <th>ab_test</th>\n",
       "    </tr>\n",
       "  </thead>\n",
       "  <tbody>\n",
       "    <tr>\n",
       "      <th>0</th>\n",
       "      <td>D1ABA3E2887B6A73</td>\n",
       "      <td>A</td>\n",
       "      <td>recommender_system_test</td>\n",
       "    </tr>\n",
       "    <tr>\n",
       "      <th>1</th>\n",
       "      <td>A7A3664BD6242119</td>\n",
       "      <td>A</td>\n",
       "      <td>recommender_system_test</td>\n",
       "    </tr>\n",
       "    <tr>\n",
       "      <th>2</th>\n",
       "      <td>DABC14FDDFADD29E</td>\n",
       "      <td>A</td>\n",
       "      <td>recommender_system_test</td>\n",
       "    </tr>\n",
       "    <tr>\n",
       "      <th>3</th>\n",
       "      <td>04988C5DF189632E</td>\n",
       "      <td>A</td>\n",
       "      <td>recommender_system_test</td>\n",
       "    </tr>\n",
       "    <tr>\n",
       "      <th>4</th>\n",
       "      <td>482F14783456D21B</td>\n",
       "      <td>B</td>\n",
       "      <td>recommender_system_test</td>\n",
       "    </tr>\n",
       "    <tr>\n",
       "      <th>5</th>\n",
       "      <td>4FF2998A348C484F</td>\n",
       "      <td>A</td>\n",
       "      <td>recommender_system_test</td>\n",
       "    </tr>\n",
       "    <tr>\n",
       "      <th>6</th>\n",
       "      <td>7473E0943673C09E</td>\n",
       "      <td>A</td>\n",
       "      <td>recommender_system_test</td>\n",
       "    </tr>\n",
       "    <tr>\n",
       "      <th>7</th>\n",
       "      <td>C46FE336D240A054</td>\n",
       "      <td>A</td>\n",
       "      <td>recommender_system_test</td>\n",
       "    </tr>\n",
       "    <tr>\n",
       "      <th>8</th>\n",
       "      <td>92CB588012C10D3D</td>\n",
       "      <td>A</td>\n",
       "      <td>recommender_system_test</td>\n",
       "    </tr>\n",
       "    <tr>\n",
       "      <th>9</th>\n",
       "      <td>057AB296296C7FC0</td>\n",
       "      <td>B</td>\n",
       "      <td>recommender_system_test</td>\n",
       "    </tr>\n",
       "  </tbody>\n",
       "</table>\n",
       "</div>"
      ],
      "text/plain": [
       "            user_id group                  ab_test\n",
       "0  D1ABA3E2887B6A73     A  recommender_system_test\n",
       "1  A7A3664BD6242119     A  recommender_system_test\n",
       "2  DABC14FDDFADD29E     A  recommender_system_test\n",
       "3  04988C5DF189632E     A  recommender_system_test\n",
       "4  482F14783456D21B     B  recommender_system_test\n",
       "5  4FF2998A348C484F     A  recommender_system_test\n",
       "6  7473E0943673C09E     A  recommender_system_test\n",
       "7  C46FE336D240A054     A  recommender_system_test\n",
       "8  92CB588012C10D3D     A  recommender_system_test\n",
       "9  057AB296296C7FC0     B  recommender_system_test"
      ]
     },
     "metadata": {},
     "output_type": "display_data"
    },
    {
     "data": {
      "text/html": [
       "<div>\n",
       "<style scoped>\n",
       "    .dataframe tbody tr th:only-of-type {\n",
       "        vertical-align: middle;\n",
       "    }\n",
       "\n",
       "    .dataframe tbody tr th {\n",
       "        vertical-align: top;\n",
       "    }\n",
       "\n",
       "    .dataframe thead th {\n",
       "        text-align: right;\n",
       "    }\n",
       "</style>\n",
       "<table border=\"1\" class=\"dataframe\">\n",
       "  <thead>\n",
       "    <tr style=\"text-align: right;\">\n",
       "      <th></th>\n",
       "      <th>user_id</th>\n",
       "      <th>group</th>\n",
       "      <th>ab_test</th>\n",
       "    </tr>\n",
       "  </thead>\n",
       "  <tbody>\n",
       "    <tr>\n",
       "      <th>count</th>\n",
       "      <td>18268</td>\n",
       "      <td>18268</td>\n",
       "      <td>18268</td>\n",
       "    </tr>\n",
       "    <tr>\n",
       "      <th>unique</th>\n",
       "      <td>16666</td>\n",
       "      <td>2</td>\n",
       "      <td>2</td>\n",
       "    </tr>\n",
       "    <tr>\n",
       "      <th>top</th>\n",
       "      <td>4A6D170E2EA305F0</td>\n",
       "      <td>A</td>\n",
       "      <td>interface_eu_test</td>\n",
       "    </tr>\n",
       "    <tr>\n",
       "      <th>freq</th>\n",
       "      <td>2</td>\n",
       "      <td>9655</td>\n",
       "      <td>11567</td>\n",
       "    </tr>\n",
       "  </tbody>\n",
       "</table>\n",
       "</div>"
      ],
      "text/plain": [
       "                 user_id  group            ab_test\n",
       "count              18268  18268              18268\n",
       "unique             16666      2                  2\n",
       "top     4A6D170E2EA305F0      A  interface_eu_test\n",
       "freq                   2   9655              11567"
      ]
     },
     "metadata": {},
     "output_type": "display_data"
    },
    {
     "name": "stdout",
     "output_type": "stream",
     "text": [
      "<class 'pandas.core.frame.DataFrame'>\n",
      "RangeIndex: 18268 entries, 0 to 18267\n",
      "Data columns (total 3 columns):\n",
      " #   Column   Non-Null Count  Dtype \n",
      "---  ------   --------------  ----- \n",
      " 0   user_id  18268 non-null  object\n",
      " 1   group    18268 non-null  object\n",
      " 2   ab_test  18268 non-null  object\n",
      "dtypes: object(3)\n",
      "memory usage: 428.3+ KB\n",
      "None\n",
      "\n"
     ]
    },
    {
     "data": {
      "text/html": [
       "<div>\n",
       "<style scoped>\n",
       "    .dataframe tbody tr th:only-of-type {\n",
       "        vertical-align: middle;\n",
       "    }\n",
       "\n",
       "    .dataframe tbody tr th {\n",
       "        vertical-align: top;\n",
       "    }\n",
       "\n",
       "    .dataframe thead th {\n",
       "        text-align: right;\n",
       "    }\n",
       "</style>\n",
       "<table border=\"1\" class=\"dataframe\">\n",
       "  <thead>\n",
       "    <tr style=\"text-align: right;\">\n",
       "      <th></th>\n",
       "      <th>name</th>\n",
       "      <th>regions</th>\n",
       "      <th>start_dt</th>\n",
       "      <th>finish_dt</th>\n",
       "    </tr>\n",
       "  </thead>\n",
       "  <tbody>\n",
       "    <tr>\n",
       "      <th>0</th>\n",
       "      <td>Christmas&amp;New Year Promo</td>\n",
       "      <td>EU, N.America</td>\n",
       "      <td>2020-12-25</td>\n",
       "      <td>2021-01-03</td>\n",
       "    </tr>\n",
       "    <tr>\n",
       "      <th>1</th>\n",
       "      <td>St. Valentine's Day Giveaway</td>\n",
       "      <td>EU, CIS, APAC, N.America</td>\n",
       "      <td>2020-02-14</td>\n",
       "      <td>2020-02-16</td>\n",
       "    </tr>\n",
       "    <tr>\n",
       "      <th>2</th>\n",
       "      <td>St. Patric's Day Promo</td>\n",
       "      <td>EU, N.America</td>\n",
       "      <td>2020-03-17</td>\n",
       "      <td>2020-03-19</td>\n",
       "    </tr>\n",
       "    <tr>\n",
       "      <th>3</th>\n",
       "      <td>Easter Promo</td>\n",
       "      <td>EU, CIS, APAC, N.America</td>\n",
       "      <td>2020-04-12</td>\n",
       "      <td>2020-04-19</td>\n",
       "    </tr>\n",
       "    <tr>\n",
       "      <th>4</th>\n",
       "      <td>4th of July Promo</td>\n",
       "      <td>N.America</td>\n",
       "      <td>2020-07-04</td>\n",
       "      <td>2020-07-11</td>\n",
       "    </tr>\n",
       "    <tr>\n",
       "      <th>5</th>\n",
       "      <td>Black Friday Ads Campaign</td>\n",
       "      <td>EU, CIS, APAC, N.America</td>\n",
       "      <td>2020-11-26</td>\n",
       "      <td>2020-12-01</td>\n",
       "    </tr>\n",
       "    <tr>\n",
       "      <th>6</th>\n",
       "      <td>Chinese New Year Promo</td>\n",
       "      <td>APAC</td>\n",
       "      <td>2020-01-25</td>\n",
       "      <td>2020-02-07</td>\n",
       "    </tr>\n",
       "    <tr>\n",
       "      <th>7</th>\n",
       "      <td>Labor day (May 1st) Ads Campaign</td>\n",
       "      <td>EU, CIS, APAC</td>\n",
       "      <td>2020-05-01</td>\n",
       "      <td>2020-05-03</td>\n",
       "    </tr>\n",
       "    <tr>\n",
       "      <th>8</th>\n",
       "      <td>International Women's Day Promo</td>\n",
       "      <td>EU, CIS, APAC</td>\n",
       "      <td>2020-03-08</td>\n",
       "      <td>2020-03-10</td>\n",
       "    </tr>\n",
       "    <tr>\n",
       "      <th>9</th>\n",
       "      <td>Victory Day CIS (May 9th) Event</td>\n",
       "      <td>CIS</td>\n",
       "      <td>2020-05-09</td>\n",
       "      <td>2020-05-11</td>\n",
       "    </tr>\n",
       "  </tbody>\n",
       "</table>\n",
       "</div>"
      ],
      "text/plain": [
       "                               name                   regions    start_dt  \\\n",
       "0          Christmas&New Year Promo             EU, N.America  2020-12-25   \n",
       "1      St. Valentine's Day Giveaway  EU, CIS, APAC, N.America  2020-02-14   \n",
       "2            St. Patric's Day Promo             EU, N.America  2020-03-17   \n",
       "3                      Easter Promo  EU, CIS, APAC, N.America  2020-04-12   \n",
       "4                 4th of July Promo                 N.America  2020-07-04   \n",
       "5         Black Friday Ads Campaign  EU, CIS, APAC, N.America  2020-11-26   \n",
       "6            Chinese New Year Promo                      APAC  2020-01-25   \n",
       "7  Labor day (May 1st) Ads Campaign             EU, CIS, APAC  2020-05-01   \n",
       "8   International Women's Day Promo             EU, CIS, APAC  2020-03-08   \n",
       "9   Victory Day CIS (May 9th) Event                       CIS  2020-05-09   \n",
       "\n",
       "    finish_dt  \n",
       "0  2021-01-03  \n",
       "1  2020-02-16  \n",
       "2  2020-03-19  \n",
       "3  2020-04-19  \n",
       "4  2020-07-11  \n",
       "5  2020-12-01  \n",
       "6  2020-02-07  \n",
       "7  2020-05-03  \n",
       "8  2020-03-10  \n",
       "9  2020-05-11  "
      ]
     },
     "metadata": {},
     "output_type": "display_data"
    },
    {
     "data": {
      "text/html": [
       "<div>\n",
       "<style scoped>\n",
       "    .dataframe tbody tr th:only-of-type {\n",
       "        vertical-align: middle;\n",
       "    }\n",
       "\n",
       "    .dataframe tbody tr th {\n",
       "        vertical-align: top;\n",
       "    }\n",
       "\n",
       "    .dataframe thead th {\n",
       "        text-align: right;\n",
       "    }\n",
       "</style>\n",
       "<table border=\"1\" class=\"dataframe\">\n",
       "  <thead>\n",
       "    <tr style=\"text-align: right;\">\n",
       "      <th></th>\n",
       "      <th>name</th>\n",
       "      <th>regions</th>\n",
       "      <th>start_dt</th>\n",
       "      <th>finish_dt</th>\n",
       "    </tr>\n",
       "  </thead>\n",
       "  <tbody>\n",
       "    <tr>\n",
       "      <th>count</th>\n",
       "      <td>14</td>\n",
       "      <td>14</td>\n",
       "      <td>14</td>\n",
       "      <td>14</td>\n",
       "    </tr>\n",
       "    <tr>\n",
       "      <th>unique</th>\n",
       "      <td>14</td>\n",
       "      <td>6</td>\n",
       "      <td>14</td>\n",
       "      <td>14</td>\n",
       "    </tr>\n",
       "    <tr>\n",
       "      <th>top</th>\n",
       "      <td>International Women's Day Promo</td>\n",
       "      <td>APAC</td>\n",
       "      <td>2020-05-01</td>\n",
       "      <td>2020-04-19</td>\n",
       "    </tr>\n",
       "    <tr>\n",
       "      <th>freq</th>\n",
       "      <td>1</td>\n",
       "      <td>4</td>\n",
       "      <td>1</td>\n",
       "      <td>1</td>\n",
       "    </tr>\n",
       "  </tbody>\n",
       "</table>\n",
       "</div>"
      ],
      "text/plain": [
       "                                   name regions    start_dt   finish_dt\n",
       "count                                14      14          14          14\n",
       "unique                               14       6          14          14\n",
       "top     International Women's Day Promo    APAC  2020-05-01  2020-04-19\n",
       "freq                                  1       4           1           1"
      ]
     },
     "metadata": {},
     "output_type": "display_data"
    },
    {
     "name": "stdout",
     "output_type": "stream",
     "text": [
      "<class 'pandas.core.frame.DataFrame'>\n",
      "RangeIndex: 14 entries, 0 to 13\n",
      "Data columns (total 4 columns):\n",
      " #   Column     Non-Null Count  Dtype \n",
      "---  ------     --------------  ----- \n",
      " 0   name       14 non-null     object\n",
      " 1   regions    14 non-null     object\n",
      " 2   start_dt   14 non-null     object\n",
      " 3   finish_dt  14 non-null     object\n",
      "dtypes: object(4)\n",
      "memory usage: 576.0+ bytes\n",
      "None\n",
      "\n"
     ]
    }
   ],
   "source": [
    "dataframe_list = [events, new_users, participants, marketing_events]\n",
    "\n",
    "for x in dataframe_list: # Применяю метод .info() ко всем датафреймам по очереди\n",
    "    print(data_describe(x))   # Применяю метод .info()\n",
    "    print('')"
   ]
  },
  {
   "cell_type": "markdown",
   "metadata": {},
   "source": [
    "Получаем следующую структуру таблицы __``events``__:\n",
    " \n",
    "* Количество столбцов: __4__\n",
    "* Количество строк: __440317__\n",
    "* Тип данных в столбцах: __float64(1), object(3)__\n",
    "\n",
    "Получаем следующую структуру таблицы __``new_users``__:\n",
    "* Количество столбцов: __4__\n",
    "* Количество строк: __61733__\n",
    "* Тип данных в столбцах: __object(4)__\n",
    "\n",
    "Получаем следующую структуру таблицы __``participants``__:\n",
    "* Количество столбцов: __5__\n",
    "* Количество строк: __18268__\n",
    "* Тип данных в столбцах: __object(3)__\n",
    "\n",
    "Получаем следующую структуру таблицы __`` marketing_events``__:\n",
    "* Количество столбцов: __4__\n",
    "* Количество строк: __14__\n",
    "* Тип данных в столбцах: __object(4)__"
   ]
  },
  {
   "cell_type": "markdown",
   "metadata": {},
   "source": [
    "## 2. Подготовка данных <a name=\"data_pre-processing\"></a>"
   ]
  },
  {
   "cell_type": "markdown",
   "metadata": {},
   "source": [
    "В данном блоке проведем следующую работу:\n",
    "\n",
    "- приведем данные данные к нужным типам;\n",
    "- удалим дубликаты, если они имеются;\n",
    "- проведем работу с пропусками при их наличии;\n",
    "- исправим ошибки в данных. То есть в данном этапе подгатавливаем данные к анализу."
   ]
  },
  {
   "cell_type": "code",
   "execution_count": 5,
   "metadata": {},
   "outputs": [
    {
     "name": "stdout",
     "output_type": "stream",
     "text": [
      "\n",
      "Количество дубликатов в датафрейме: 0\n",
      "\n",
      "\n",
      "Количество дубликатов в датафрейме: 0\n",
      "\n",
      "\n",
      "Количество дубликатов в датафрейме: 0\n",
      "\n",
      "\n",
      "Количество дубликатов в датафрейме: 0\n",
      "\n"
     ]
    }
   ],
   "source": [
    "print('\\nКоличество дубликатов в датафрейме: {}\\n'.format(events.duplicated().sum()))\n",
    "print('\\nКоличество дубликатов в датафрейме: {}\\n'.format(new_users.duplicated().sum()))\n",
    "print('\\nКоличество дубликатов в датафрейме: {}\\n'.format(participants.duplicated().sum()))\n",
    "print('\\nКоличество дубликатов в датафрейме: {}\\n'.format(marketing_events.duplicated().sum()))"
   ]
  },
  {
   "cell_type": "markdown",
   "metadata": {},
   "source": [
    "Заменим все пропушенные значения в __events['details']__ на 0"
   ]
  },
  {
   "cell_type": "code",
   "execution_count": 6,
   "metadata": {},
   "outputs": [
    {
     "name": "stdout",
     "output_type": "stream",
     "text": [
      "<class 'pandas.core.frame.DataFrame'>\n",
      "RangeIndex: 440317 entries, 0 to 440316\n",
      "Data columns (total 4 columns):\n",
      " #   Column      Non-Null Count   Dtype  \n",
      "---  ------      --------------   -----  \n",
      " 0   user_id     440317 non-null  object \n",
      " 1   event_dt    440317 non-null  object \n",
      " 2   event_name  440317 non-null  object \n",
      " 3   details     440317 non-null  float64\n",
      "dtypes: float64(1), object(3)\n",
      "memory usage: 13.4+ MB\n"
     ]
    }
   ],
   "source": [
    "events['details'] = events['details'].fillna(0)\n",
    "events.info()"
   ]
  },
  {
   "cell_type": "markdown",
   "metadata": {},
   "source": [
    "Создаем функцию которая переводит тип столбца в даты."
   ]
  },
  {
   "cell_type": "code",
   "execution_count": 7,
   "metadata": {},
   "outputs": [],
   "source": [
    "#Создаем функцию которая переводит тип столбца в даты. Параметрами функции является date (название DateFreim) и row (название столбца)\n",
    "def datetime(date, row):\n",
    "    date[row] = pd.to_datetime(date[row])"
   ]
  },
  {
   "cell_type": "markdown",
   "metadata": {},
   "source": [
    "Переведем необходимые столбцы в датафрейме, а именно из объекта в дату."
   ]
  },
  {
   "cell_type": "code",
   "execution_count": 8,
   "metadata": {},
   "outputs": [],
   "source": [
    "datetime(events, 'event_dt')\n",
    "datetime(new_users, 'first_date')\n",
    "datetime(marketing_events, 'start_dt')\n",
    "datetime(marketing_events, 'finish_dt')"
   ]
  },
  {
   "cell_type": "markdown",
   "metadata": {},
   "source": [
    "__Выводы:__\n",
    "Данные подготовлены к работе для анализа. Так в датафрейме __events__ у нас были заменены все пропущенные значения в столбцах 'details' на ноль, так как именно эти значения не предполагали цифр. Были переведены столбцы  в другой тип данных, из объекта в дату."
   ]
  },
  {
   "cell_type": "markdown",
   "metadata": {},
   "source": [
    "## 3. Проведение исследовательского анализа <a name=\"analysis\"></a> "
   ]
  },
  {
   "cell_type": "markdown",
   "metadata": {},
   "source": [
    "Проанализируем конверсию в воронке на разных этапах. Для это объединим датафреймы __events__ и __participants__. Затем посмотрим сколько событий в тесте __recommender_system_test__ и __interface_eu_test__. В целом можно говорить, о том, что выборка теста  __interface_eu_test__ в четыре раза больше, чем выборка __recommender_system_test__. При этом видна разница между соотношением теста __interface_eu_test__ и __recommender_system_test__, если в первом случае соотношение примерно равно, то во втором случае в группе A перекос составляет три раза. "
   ]
  },
  {
   "cell_type": "code",
   "execution_count": 9,
   "metadata": {},
   "outputs": [
    {
     "data": {
      "text/html": [
       "<div>\n",
       "<style scoped>\n",
       "    .dataframe tbody tr th:only-of-type {\n",
       "        vertical-align: middle;\n",
       "    }\n",
       "\n",
       "    .dataframe tbody tr th {\n",
       "        vertical-align: top;\n",
       "    }\n",
       "\n",
       "    .dataframe thead th {\n",
       "        text-align: right;\n",
       "    }\n",
       "</style>\n",
       "<table border=\"1\" class=\"dataframe\">\n",
       "  <thead>\n",
       "    <tr style=\"text-align: right;\">\n",
       "      <th></th>\n",
       "      <th></th>\n",
       "      <th>nunique</th>\n",
       "    </tr>\n",
       "    <tr>\n",
       "      <th>ab_test</th>\n",
       "      <th>group</th>\n",
       "      <th></th>\n",
       "    </tr>\n",
       "  </thead>\n",
       "  <tbody>\n",
       "    <tr>\n",
       "      <th rowspan=\"2\" valign=\"top\">interface_eu_test</th>\n",
       "      <th>A</th>\n",
       "      <td>5831</td>\n",
       "    </tr>\n",
       "    <tr>\n",
       "      <th>B</th>\n",
       "      <td>5736</td>\n",
       "    </tr>\n",
       "    <tr>\n",
       "      <th rowspan=\"2\" valign=\"top\">recommender_system_test</th>\n",
       "      <th>A</th>\n",
       "      <td>3824</td>\n",
       "    </tr>\n",
       "    <tr>\n",
       "      <th>B</th>\n",
       "      <td>2877</td>\n",
       "    </tr>\n",
       "  </tbody>\n",
       "</table>\n",
       "</div>"
      ],
      "text/plain": [
       "                               nunique\n",
       "ab_test                 group         \n",
       "interface_eu_test       A         5831\n",
       "                        B         5736\n",
       "recommender_system_test A         3824\n",
       "                        B         2877"
      ]
     },
     "execution_count": 9,
     "metadata": {},
     "output_type": "execute_result"
    }
   ],
   "source": [
    "#Объединим датафреймы events и participants\n",
    "eventsAB = events.merge(participants, on='user_id', how='outer')\n",
    "#Объединим датафреймы events и new_users\n",
    "eventsAB = eventsAB.merge(new_users, on='user_id') \n",
    "#Создадим столбец с датой\n",
    "eventsAB['date'] = eventsAB['event_dt'].dt.date\n",
    "#Созданих датафрейм на группу A и группу B\n",
    "eventsCount = eventsAB.groupby(['ab_test', 'group'])['user_id'].agg({'nunique'})\n",
    "eventsCount"
   ]
  },
  {
   "cell_type": "markdown",
   "metadata": {},
   "source": [
    "Затем разделим на две группы датафрейм, на группу А и группу B c названием теста: recommender_system_test;позволит разделить на две группы датафрейм, на группу А и группу B c названием теста: recommender_system_test;"
   ]
  },
  {
   "cell_type": "code",
   "execution_count": 10,
   "metadata": {},
   "outputs": [],
   "source": [
    "eventsA = eventsAB.query('group == \"A\" and ab_test == \"recommender_system_test\"')\n",
    "eventsB = eventsAB.query('group == \"B\" and ab_test == \"recommender_system_test\"')"
   ]
  },
  {
   "cell_type": "markdown",
   "metadata": {},
   "source": [
    "Затем посчитаем количество пользователей в разрезе событий с помощью метода  __groupby()__."
   ]
  },
  {
   "cell_type": "code",
   "execution_count": 11,
   "metadata": {},
   "outputs": [
    {
     "name": "stdout",
     "output_type": "stream",
     "text": [
      "     event_name  count  nunique\n",
      "0         login   8566     2747\n",
      "2  product_page   5525     1780\n",
      "3      purchase   2655      872\n",
      "1  product_cart   2558      824\n",
      " \n",
      " \n",
      " \n",
      "     event_name  count  nunique\n",
      "0         login   2624      928\n",
      "2  product_page   1405      523\n",
      "1  product_cart    689      255\n",
      "3      purchase    676      256\n"
     ]
    }
   ],
   "source": [
    "#Создаем Series группы A\n",
    "eventNameCountA = eventsA.groupby('event_name')['user_id'].agg(['count', 'nunique']).reset_index().sort_values(by='count', ascending=False)\n",
    "#Создаем Series группы B\n",
    "eventNameCountB = eventsB.groupby('event_name')['user_id'].agg(['count', 'nunique']).reset_index().sort_values(by='count', ascending=False)\n",
    "print(eventNameCountA)\n",
    "print(' ')\n",
    "print(' ')\n",
    "print(' ')\n",
    "print(eventNameCountB)"
   ]
  },
  {
   "cell_type": "markdown",
   "metadata": {},
   "source": [
    "Видим, что шаг оплаты посещают чаще, чем корзину, проверим данные результаты. Построим продуктовую воронку с учетом последовательности событий. "
   ]
  },
  {
   "cell_type": "code",
   "execution_count": 12,
   "metadata": {
    "scrolled": true
   },
   "outputs": [
    {
     "name": "stdout",
     "output_type": "stream",
     "text": [
      "Логин: 2747\n",
      "Страница продукта: 1012\n",
      "Добавили в корзину: 54\n",
      "Оплатили: 0\n"
     ]
    }
   ],
   "source": [
    "usersA = eventsA.pivot_table(\n",
    "    index='user_id', columns='event_name', values='event_dt', aggfunc='min'\n",
    ") \n",
    "\n",
    "step_1 = ~usersA['login'].isna()\n",
    "step_2 = step_1 & (usersA['product_page'] > usersA['login'])\n",
    "step_3 = step_2 & (usersA['product_cart'] > usersA['product_page'])\n",
    "step_4 = step_3 & (usersA['purchase'] > usersA['product_cart'])\n",
    "\n",
    "n_loginA = usersA[step_1].shape[0]\n",
    "n_product_pageA = usersA[step_2].shape[0]\n",
    "n_product_cartA = usersA[step_3].shape[0]\n",
    "n_paymentA = usersA[step_4].shape[0]\n",
    "\n",
    "print('Логин:', n_loginA)\n",
    "print('Страница продукта:', n_product_pageA)\n",
    "print('Добавили в корзину:', n_product_cartA)\n",
    "print('Оплатили:', n_paymentA)"
   ]
  },
  {
   "cell_type": "code",
   "execution_count": 13,
   "metadata": {},
   "outputs": [
    {
     "name": "stdout",
     "output_type": "stream",
     "text": [
      "Логин: 928\n",
      "Страница продукта: 284\n",
      "Добавили в корзину: 23\n",
      "Оплатили: 1\n"
     ]
    }
   ],
   "source": [
    "usersB = eventsB.pivot_table(\n",
    "    index='user_id', columns='event_name', values='event_dt', aggfunc='min'\n",
    ") \n",
    "\n",
    "step_1 = ~usersB['login'].isna()\n",
    "step_2 = step_1 & (usersB['product_page'] > usersB['login'])\n",
    "step_3 = step_2 & (usersB['product_cart'] > usersB['product_page'])\n",
    "step_4 = step_3 & (usersB['purchase'] > usersB['product_cart'])\n",
    "\n",
    "n_loginB = usersB[step_1].shape[0]\n",
    "n_product_pageB = usersB[step_2].shape[0]\n",
    "n_product_cartB = usersB[step_3].shape[0]\n",
    "n_paymentB = usersB[step_4].shape[0]\n",
    "\n",
    "print('Логин:', n_loginB)\n",
    "print('Страница продукта:', n_product_pageB)\n",
    "print('Добавили в корзину:', n_product_cartB)\n",
    "print('Оплатили:', n_paymentB)"
   ]
  },
  {
   "cell_type": "markdown",
   "metadata": {},
   "source": [
    "На основе продуктовой воронки с учетом последовательности можно сделать вывод, что после добавления в корзину практически не происходит оплата. Надо дальше разбираться с данными.Проанализируем отдельно поведение одного пользователя. Как мы видим в данных очень много ощибок, а именно есть события которые пользователь совершил в одно время, что является безусловно странным."
   ]
  },
  {
   "cell_type": "code",
   "execution_count": 14,
   "metadata": {},
   "outputs": [
    {
     "data": {
      "text/html": [
       "<div>\n",
       "<style scoped>\n",
       "    .dataframe tbody tr th:only-of-type {\n",
       "        vertical-align: middle;\n",
       "    }\n",
       "\n",
       "    .dataframe tbody tr th {\n",
       "        vertical-align: top;\n",
       "    }\n",
       "\n",
       "    .dataframe thead th {\n",
       "        text-align: right;\n",
       "    }\n",
       "</style>\n",
       "<table border=\"1\" class=\"dataframe\">\n",
       "  <thead>\n",
       "    <tr style=\"text-align: right;\">\n",
       "      <th></th>\n",
       "      <th>user_id</th>\n",
       "      <th>event_dt</th>\n",
       "      <th>event_name</th>\n",
       "      <th>details</th>\n",
       "      <th>group</th>\n",
       "      <th>ab_test</th>\n",
       "      <th>first_date</th>\n",
       "      <th>region</th>\n",
       "      <th>device</th>\n",
       "      <th>date</th>\n",
       "    </tr>\n",
       "  </thead>\n",
       "  <tbody>\n",
       "    <tr>\n",
       "      <th>144</th>\n",
       "      <td>3C5DD0288AC4FE23</td>\n",
       "      <td>2020-12-07 19:42:40</td>\n",
       "      <td>purchase</td>\n",
       "      <td>4.99</td>\n",
       "      <td>A</td>\n",
       "      <td>recommender_system_test</td>\n",
       "      <td>2020-12-07</td>\n",
       "      <td>EU</td>\n",
       "      <td>PC</td>\n",
       "      <td>2020-12-07</td>\n",
       "    </tr>\n",
       "    <tr>\n",
       "      <th>145</th>\n",
       "      <td>3C5DD0288AC4FE23</td>\n",
       "      <td>2020-12-07 19:42:40</td>\n",
       "      <td>product_page</td>\n",
       "      <td>0.00</td>\n",
       "      <td>A</td>\n",
       "      <td>recommender_system_test</td>\n",
       "      <td>2020-12-07</td>\n",
       "      <td>EU</td>\n",
       "      <td>PC</td>\n",
       "      <td>2020-12-07</td>\n",
       "    </tr>\n",
       "    <tr>\n",
       "      <th>146</th>\n",
       "      <td>3C5DD0288AC4FE23</td>\n",
       "      <td>2020-12-07 19:42:40</td>\n",
       "      <td>login</td>\n",
       "      <td>0.00</td>\n",
       "      <td>A</td>\n",
       "      <td>recommender_system_test</td>\n",
       "      <td>2020-12-07</td>\n",
       "      <td>EU</td>\n",
       "      <td>PC</td>\n",
       "      <td>2020-12-07</td>\n",
       "    </tr>\n",
       "  </tbody>\n",
       "</table>\n",
       "</div>"
      ],
      "text/plain": [
       "              user_id            event_dt    event_name  details group  \\\n",
       "144  3C5DD0288AC4FE23 2020-12-07 19:42:40      purchase     4.99     A   \n",
       "145  3C5DD0288AC4FE23 2020-12-07 19:42:40  product_page     0.00     A   \n",
       "146  3C5DD0288AC4FE23 2020-12-07 19:42:40         login     0.00     A   \n",
       "\n",
       "                     ab_test first_date region device        date  \n",
       "144  recommender_system_test 2020-12-07     EU     PC  2020-12-07  \n",
       "145  recommender_system_test 2020-12-07     EU     PC  2020-12-07  \n",
       "146  recommender_system_test 2020-12-07     EU     PC  2020-12-07  "
      ]
     },
     "execution_count": 14,
     "metadata": {},
     "output_type": "execute_result"
    }
   ],
   "source": [
    "eventsA[eventsA['user_id'] == '3C5DD0288AC4FE23']"
   ]
  },
  {
   "cell_type": "markdown",
   "metadata": {},
   "source": [
    "В данном случае перейдем в анализу выбросов."
   ]
  },
  {
   "cell_type": "markdown",
   "metadata": {},
   "source": [
    "###### Анализ выбросов"
   ]
  },
  {
   "cell_type": "markdown",
   "metadata": {},
   "source": [
    "Проанализируем вводные данные на выбросы. Для это создадим новый датафрейм по количеству событий на одного пользователя с помощью метода __groupby()__. Затем постороим гистонрамму."
   ]
  },
  {
   "cell_type": "code",
   "execution_count": 15,
   "metadata": {
    "scrolled": false
   },
   "outputs": [
    {
     "data": {
      "image/png": "[encoded data removed]",
      "text/plain": [
       "<Figure size 432x288 with 1 Axes>"
      ]
     },
     "metadata": {
      "needs_background": "light"
     },
     "output_type": "display_data"
    }
   ],
   "source": [
    "#Создалим данные по количеству событий на одного пользователя \n",
    "eventByUsers = eventsAB.groupby('user_id').agg({'event_name':'count'}).reset_index()\n",
    "\n",
    "#Построим гистограмму\n",
    "plt.hist(eventByUsers['event_name'])\n",
    "plt.title('Гистрограмма распределения количества заказов на одного пользователя')\n",
    "plt.xlabel('Количество заказов')\n",
    "plt.ylabel('Частота');"
   ]
  },
  {
   "cell_type": "markdown",
   "metadata": {},
   "source": [
    "Построим точечную диаграмму числа заказов на одного пользователя. Выводы подтверждаются: много пользователей с 5-7 заказами. Их точная доля не ясна — непонятно, считать их аномалиями или нет. Построим точечную диаграмму числа заказов на одного пользователя"
   ]
  },
  {
   "cell_type": "code",
   "execution_count": 16,
   "metadata": {},
   "outputs": [
    {
     "data": {
      "image/png": "[encoded data removed]",
      "text/plain": [
       "<Figure size 432x288 with 1 Axes>"
      ]
     },
     "metadata": {
      "needs_background": "light"
     },
     "output_type": "display_data"
    }
   ],
   "source": [
    "#Построим распределение по числу заказов на одного пользователя\n",
    "\n",
    "x_values = pd.Series(range(0,len(eventByUsers)))\n",
    "\n",
    "plt.scatter(x_values, eventByUsers['event_name'])\n",
    "plt.title('Точечная диаграмма числа заказов на одного пользователя')\n",
    "plt.xlabel('Количество пользователей')\n",
    "plt.ylabel('Количество событий');"
   ]
  },
  {
   "cell_type": "code",
   "execution_count": 17,
   "metadata": {
    "scrolled": true
   },
   "outputs": [
    {
     "data": {
      "text/plain": [
       "array([16., 21.])"
      ]
     },
     "execution_count": 17,
     "metadata": {},
     "output_type": "execute_result"
    }
   ],
   "source": [
    "np.percentile(eventByUsers['event_name'], [95, 99])"
   ]
  },
  {
   "cell_type": "markdown",
   "metadata": {},
   "source": [
    "Не более 5% пользователей оформляли больше чем 15 заказов. И 1% пользователей заказывали более 20 раз. Разумно избавиться от этих данных."
   ]
  },
  {
   "cell_type": "markdown",
   "metadata": {},
   "source": [
    "Теперь посмотрим на выбросы в сумме выручки. Для этого построим сумму, которая приходится на одного пользователя. "
   ]
  },
  {
   "cell_type": "code",
   "execution_count": 18,
   "metadata": {},
   "outputs": [
    {
     "data": {
      "text/html": [
       "<div>\n",
       "<style scoped>\n",
       "    .dataframe tbody tr th:only-of-type {\n",
       "        vertical-align: middle;\n",
       "    }\n",
       "\n",
       "    .dataframe tbody tr th {\n",
       "        vertical-align: top;\n",
       "    }\n",
       "\n",
       "    .dataframe thead th {\n",
       "        text-align: right;\n",
       "    }\n",
       "</style>\n",
       "<table border=\"1\" class=\"dataframe\">\n",
       "  <thead>\n",
       "    <tr style=\"text-align: right;\">\n",
       "      <th></th>\n",
       "      <th>user_id</th>\n",
       "      <th>details</th>\n",
       "    </tr>\n",
       "  </thead>\n",
       "  <tbody>\n",
       "    <tr>\n",
       "      <th>38188</th>\n",
       "      <td>9E4A562DC7FE3F82</td>\n",
       "      <td>1609.94</td>\n",
       "    </tr>\n",
       "    <tr>\n",
       "      <th>21527</th>\n",
       "      <td>59390C0379937AB0</td>\n",
       "      <td>1409.92</td>\n",
       "    </tr>\n",
       "    <tr>\n",
       "      <th>28924</th>\n",
       "      <td>788C61EDBDD38346</td>\n",
       "      <td>1239.90</td>\n",
       "    </tr>\n",
       "    <tr>\n",
       "      <th>35837</th>\n",
       "      <td>94464DF2E5398E26</td>\n",
       "      <td>1219.92</td>\n",
       "    </tr>\n",
       "    <tr>\n",
       "      <th>37601</th>\n",
       "      <td>9BBC25973E2B9763</td>\n",
       "      <td>1124.93</td>\n",
       "    </tr>\n",
       "    <tr>\n",
       "      <th>54254</th>\n",
       "      <td>E1159E32EB27E60D</td>\n",
       "      <td>1119.93</td>\n",
       "    </tr>\n",
       "    <tr>\n",
       "      <th>42254</th>\n",
       "      <td>AEEAC27AD37EFE7A</td>\n",
       "      <td>1114.95</td>\n",
       "    </tr>\n",
       "    <tr>\n",
       "      <th>10393</th>\n",
       "      <td>2B11361D0BDB293A</td>\n",
       "      <td>1114.94</td>\n",
       "    </tr>\n",
       "    <tr>\n",
       "      <th>36898</th>\n",
       "      <td>98BBEAC709DEC9EC</td>\n",
       "      <td>1109.95</td>\n",
       "    </tr>\n",
       "    <tr>\n",
       "      <th>45882</th>\n",
       "      <td>BE2A590658875C91</td>\n",
       "      <td>1109.95</td>\n",
       "    </tr>\n",
       "  </tbody>\n",
       "</table>\n",
       "</div>"
      ],
      "text/plain": [
       "                user_id  details\n",
       "38188  9E4A562DC7FE3F82  1609.94\n",
       "21527  59390C0379937AB0  1409.92\n",
       "28924  788C61EDBDD38346  1239.90\n",
       "35837  94464DF2E5398E26  1219.92\n",
       "37601  9BBC25973E2B9763  1124.93\n",
       "54254  E1159E32EB27E60D  1119.93\n",
       "42254  AEEAC27AD37EFE7A  1114.95\n",
       "10393  2B11361D0BDB293A  1114.94\n",
       "36898  98BBEAC709DEC9EC  1109.95\n",
       "45882  BE2A590658875C91  1109.95"
      ]
     },
     "execution_count": 18,
     "metadata": {},
     "output_type": "execute_result"
    }
   ],
   "source": [
    "detailsByUsers = eventsAB.groupby('user_id').agg({'details':'sum'}).reset_index()\n",
    "detailsByUsers.sort_values(by='details', ascending=False).head(10)"
   ]
  },
  {
   "cell_type": "markdown",
   "metadata": {},
   "source": [
    "Гистограмма показывает, что в основном сумма близка к нулю."
   ]
  },
  {
   "cell_type": "code",
   "execution_count": 19,
   "metadata": {},
   "outputs": [
    {
     "data": {
      "image/png": "[encoded data removed]",
      "text/plain": [
       "<Figure size 432x288 with 1 Axes>"
      ]
     },
     "metadata": {
      "needs_background": "light"
     },
     "output_type": "display_data"
    }
   ],
   "source": [
    "#Построим гистограмму\n",
    "plt.hist(detailsByUsers['details'])\n",
    "plt.title('Гистрограмма распределения количества заказов на одного пользователя')\n",
    "plt.xlabel('Количество заказов')\n",
    "plt.ylabel('Частота');"
   ]
  },
  {
   "cell_type": "markdown",
   "metadata": {},
   "source": [
    "Построим точечный график стоимостей заказов"
   ]
  },
  {
   "cell_type": "code",
   "execution_count": 20,
   "metadata": {},
   "outputs": [
    {
     "data": {
      "image/png": "[encoded data removed]",
      "text/plain": [
       "<Figure size 432x288 with 1 Axes>"
      ]
     },
     "metadata": {
      "needs_background": "light"
     },
     "output_type": "display_data"
    }
   ],
   "source": [
    "x_values = pd.Series(range(0,len(eventByUsers)))\n",
    "\n",
    "plt.scatter(x_values, detailsByUsers['details'])\n",
    "plt.title('Точечный график стоимостей заказов')\n",
    "plt.xlabel('Количество пользователей')\n",
    "plt.ylabel('Количество заказов');"
   ]
  },
  {
   "cell_type": "markdown",
   "metadata": {},
   "source": [
    "Не более 5% заказов дороже 114 и не более 1% дороже 509 рублей. Разумно избавиться от этих данных."
   ]
  },
  {
   "cell_type": "code",
   "execution_count": 21,
   "metadata": {},
   "outputs": [
    {
     "data": {
      "text/plain": [
       "array([119.95, 514.97])"
      ]
     },
     "execution_count": 21,
     "metadata": {},
     "output_type": "execute_result"
    }
   ],
   "source": [
    "np.percentile(detailsByUsers['details'], [95, 99])"
   ]
  },
  {
   "cell_type": "markdown",
   "metadata": {},
   "source": [
    "Переделаем данные на основе полученных выводов."
   ]
  },
  {
   "cell_type": "markdown",
   "metadata": {},
   "source": [
    "Видим, что основные показатели у групп примерно равны, однако максимальные значения сильно выше третьего квартиля, выделим пользователей с аномально большой активностью и большой суммой покупок из объединенной группы."
   ]
  },
  {
   "cell_type": "code",
   "execution_count": 22,
   "metadata": {},
   "outputs": [],
   "source": [
    "usersWithManyEvents = eventByUsers[eventByUsers['event_name']> np.percentile(eventByUsers['event_name'], 95)]['user_id']\n",
    "usersWithBigPurchases= detailsByUsers[detailsByUsers['details']>np.percentile(detailsByUsers['details'], 95)]['user_id']"
   ]
  },
  {
   "cell_type": "markdown",
   "metadata": {},
   "source": [
    "Этих пользователей не будем учитывать при анализе конверсии"
   ]
  },
  {
   "cell_type": "code",
   "execution_count": 23,
   "metadata": {},
   "outputs": [],
   "source": [
    "finalEventsA = eventsA[~np.logical_or(eventsA['user_id'].isin(usersWithManyEvents),\n",
    "                                              eventsA ['user_id'].isin(usersWithBigPurchases))]\n",
    "finalEventsB = eventsB[~np.logical_or(eventsB['user_id'].isin(usersWithManyEvents),\n",
    "                                              eventsB['user_id'].isin(usersWithBigPurchases))]"
   ]
  },
  {
   "cell_type": "markdown",
   "metadata": {},
   "source": [
    "Подсчитаем по новым данным события по количеству уникальных пользователей"
   ]
  },
  {
   "cell_type": "code",
   "execution_count": 24,
   "metadata": {},
   "outputs": [],
   "source": [
    "#Посчитаем количество событий по группе A\n",
    "eventNameCountFinalA = finalEventsA.groupby('event_name')['user_id'].agg(['count', 'nunique']).reset_index().sort_values(by='nunique', ascending=False)\n",
    "#Посчитаем количество событий по группе B\n",
    "eventNameCountFinalB = finalEventsB.groupby('event_name')['user_id'].agg(['count','nunique']).reset_index().sort_values(by='nunique', ascending=False)"
   ]
  },
  {
   "cell_type": "markdown",
   "metadata": {},
   "source": [
    "Строим функцию, которая будет нам строить продуктовые воронки"
   ]
  },
  {
   "cell_type": "code",
   "execution_count": 25,
   "metadata": {},
   "outputs": [],
   "source": [
    "#Построим график\n",
    "def goFigire(data, name):\n",
    "    fig = go.Figure(go.Funnel(\n",
    "        y = data[\"event_name\"],\n",
    "        x = data['count'],\n",
    "        textinfo = \"value+percent initial\"))\n",
    "    fig.update_layout(\n",
    "        title={\n",
    "            'text':'Продуктовая воронка по количеству событий по группе ' + name,\n",
    "            'y':0.9,\n",
    "            'x':0.48})\n",
    "    fig.show(renderer='svg')\n",
    "    \n",
    "    fig = go.Figure(go.Funnel(\n",
    "        y = data[\"event_name\"],\n",
    "        x = data['nunique'],\n",
    "        textinfo = \"value+percent initial\"))\n",
    "    fig.update_layout(\n",
    "        title={\n",
    "            'text':'Продуктовая воронка по количеству событий по группе ' + name,\n",
    "            'y':0.9,\n",
    "            'x':0.48})\n",
    "    fig.show(renderer='svg')\n",
    "    \n",
    "    \n",
    "    fig = go.Figure(go.Funnel(\n",
    "        y = data[\"event_name\"],\n",
    "        x = data['nunique'],\n",
    "        textinfo = \"value+percent previous\"))\n",
    "    fig.update_layout(\n",
    "        title={\n",
    "            'text':'Продуктовая воронка (% от предыдущего события) по группе ' + name,\n",
    "            'y':0.9,\n",
    "            'x':0.48})\n",
    "    fig.show(renderer='svg')   "
   ]
  },
  {
   "cell_type": "code",
   "execution_count": 26,
   "metadata": {},
   "outputs": [
    {
     "data": {
      "image/svg+xml": [
       "<svg class=\"main-svg\" xmlns=\"http://www.w3.org/2000/svg\" xmlns:xlink=\"http://www.w3.org/1999/xlink\" width=\"700\" height=\"500\" style=\"\" viewBox=\"0 0 700 500\"><rect x=\"0\" y=\"0\" width=\"700\" height=\"500\" style=\"fill: rgb(255, 255, 255); fill-opacity: 1;\"/><defs id=\"defs-9a9b49\"><g class=\"clips\"><clipPath id=\"clip9a9b49xyplot\" class=\"plotclip\"><rect width=\"524\" height=\"320\"/></clipPath><clipPath class=\"axesclip\" id=\"clip9a9b49x\"><rect x=\"96\" y=\"0\" width=\"524\" height=\"500\"/></clipPath><clipPath class=\"axesclip\" id=\"clip9a9b49y\"><rect x=\"0\" y=\"100\" width=\"700\" height=\"320\"/></clipPath><clipPath class=\"axesclip\" id=\"clip9a9b49xy\"><rect x=\"96\" y=\"100\" width=\"524\" height=\"320\"/></clipPath></g><g class=\"gradients\"/><g class=\"patterns\"/></defs><g class=\"bglayer\"><rect class=\"bg\" x=\"96\" y=\"100\" width=\"524\" height=\"320\" style=\"fill: rgb(229, 236, 246); fill-opacity: 1; stroke-width: 0;\"/></g><g class=\"layer-below\"><g class=\"imagelayer\"/><g class=\"shapelayer\"/></g><g class=\"cartesianlayer\"><g class=\"subplot xy\"><g class=\"layer-subplot\"><g class=\"shapelayer\"/><g class=\"imagelayer\"/></g><g class=\"gridlayer\"><g class=\"x\"/><g class=\"y\"/></g><g class=\"zerolinelayer\"/><path class=\"xlines-below\"/><path class=\"ylines-below\"/><g class=\"overlines-below\"/><g class=\"xaxislayer-below\"/><g class=\"yaxislayer-below\"/><g class=\"overaxes-below\"/><g class=\"plot\" transform=\"translate(96,100)\" clip-path=\"url(#clip9a9b49xyplot)\"><g class=\"funnellayer mlayer\"><g class=\"trace bars\" style=\"opacity: 1;\"><g class=\"regions\"><g class=\"region\"><path d=\"M26.2,72L117.43,88H406.57L497.8,72Z\" style=\"stroke-width: 0; fill: rgb(99, 110, 250); fill-opacity: 0.5;\"/></g><g class=\"region\"><path d=\"M117.43,152L197.1,168H326.9L406.57,152Z\" style=\"stroke-width: 0; fill: rgb(99, 110, 250); fill-opacity: 0.5;\"/></g><g class=\"region\"><path d=\"M197.1,232L206.93,248H317.07L326.9,232Z\" style=\"stroke-width: 0; fill: rgb(99, 110, 250); fill-opacity: 0.5;\"/></g><g class=\"region\"><path d=\"M0,0Z\" style=\"stroke-width: 0; fill: rgb(99, 110, 250); fill-opacity: 0.5;\"/></g></g><g class=\"points\"><g class=\"point\"><path d=\"M26.2,8V72H497.8V8Z\" style=\"vector-effect: non-scaling-stroke; fill: rgb(99, 110, 250); fill-opacity: 1; stroke: rgb(68, 68, 68); stroke-opacity: 1; stroke-width: 0px; opacity: 1;\"/><text class=\"bartext bartext-inside\" text-anchor=\"middle\" data-notex=\"1\" x=\"0\" y=\"0\" style=\"font-family: 'Open Sans', verdana, arial, sans-serif; font-size: 12px; fill: rgb(255, 255, 255); fill-opacity: 1; white-space: pre;\" transform=\"translate(261.953125,36.6953125)\"><tspan class=\"line\" dy=\"0em\" x=\"0\" y=\"0\">7219</tspan><tspan class=\"line\" dy=\"1.3em\" x=\"0\" y=\"0\">100%</tspan></text></g><g class=\"point\"><path d=\"M117.43,88V152H406.57V88Z\" style=\"vector-effect: non-scaling-stroke; fill: rgb(99, 110, 250); fill-opacity: 1; stroke: rgb(68, 68, 68); stroke-opacity: 1; stroke-width: 0px; opacity: 1;\"/><text class=\"bartext bartext-inside\" text-anchor=\"middle\" data-notex=\"1\" x=\"0\" y=\"0\" style=\"font-family: 'Open Sans', verdana, arial, sans-serif; font-size: 12px; fill: rgb(255, 255, 255); fill-opacity: 1; white-space: pre;\" transform=\"translate(261.8125,116.6953125)\"><tspan class=\"line\" dy=\"0em\" x=\"0\" y=\"0\">4426</tspan><tspan class=\"line\" dy=\"1.3em\" x=\"0\" y=\"0\">61%</tspan></text></g><g class=\"point\"><path d=\"M197.1,168V232H326.9V168Z\" style=\"vector-effect: non-scaling-stroke; fill: rgb(99, 110, 250); fill-opacity: 1; stroke: rgb(68, 68, 68); stroke-opacity: 1; stroke-width: 0px; opacity: 1;\"/><text class=\"bartext bartext-inside\" text-anchor=\"middle\" data-notex=\"1\" x=\"0\" y=\"0\" style=\"font-family: 'Open Sans', verdana, arial, sans-serif; font-size: 12px; fill: rgb(255, 255, 255); fill-opacity: 1; white-space: pre;\" transform=\"translate(261.8125,196.6953125)\"><tspan class=\"line\" dy=\"0em\" x=\"0\" y=\"0\">1987</tspan><tspan class=\"line\" dy=\"1.3em\" x=\"0\" y=\"0\">28%</tspan></text></g><g class=\"point\"><path d=\"M206.93,248V312H317.07V248Z\" style=\"vector-effect: non-scaling-stroke; fill: rgb(99, 110, 250); fill-opacity: 1; stroke: rgb(68, 68, 68); stroke-opacity: 1; stroke-width: 0px; opacity: 1;\"/><text class=\"bartext bartext-inside\" text-anchor=\"middle\" data-notex=\"1\" x=\"0\" y=\"0\" style=\"font-family: 'Open Sans', verdana, arial, sans-serif; font-size: 12px; fill: rgb(255, 255, 255); fill-opacity: 1; white-space: pre;\" transform=\"translate(261.8125,276.6953125)\"><tspan class=\"line\" dy=\"0em\" x=\"0\" y=\"0\">1686</tspan><tspan class=\"line\" dy=\"1.3em\" x=\"0\" y=\"0\">23%</tspan></text></g></g></g></g></g><g class=\"overplot\"/><path class=\"xlines-above crisp\" d=\"M0,0\" style=\"fill: none;\"/><path class=\"ylines-above crisp\" d=\"M0,0\" style=\"fill: none;\"/><g class=\"overlines-above\"/><g class=\"xaxislayer-above\"/><g class=\"yaxislayer-above\"><g class=\"ytick\"><text text-anchor=\"end\" x=\"95\" y=\"4.199999999999999\" transform=\"translate(0,380)\" style=\"font-family: 'Open Sans', verdana, arial, sans-serif; font-size: 12px; fill: rgb(42, 63, 95); fill-opacity: 1; white-space: pre; opacity: 1;\">purchase</text></g><g class=\"ytick\"><text text-anchor=\"end\" x=\"95\" y=\"4.199999999999999\" transform=\"translate(0,300)\" style=\"font-family: 'Open Sans', verdana, arial, sans-serif; font-size: 12px; fill: rgb(42, 63, 95); fill-opacity: 1; white-space: pre; opacity: 1;\">product_cart</text></g><g class=\"ytick\"><text text-anchor=\"end\" x=\"95\" y=\"4.199999999999999\" transform=\"translate(0,220)\" style=\"font-family: 'Open Sans', verdana, arial, sans-serif; font-size: 12px; fill: rgb(42, 63, 95); fill-opacity: 1; white-space: pre; opacity: 1;\">product_page</text></g><g class=\"ytick\"><text text-anchor=\"end\" x=\"95\" y=\"4.199999999999999\" transform=\"translate(0,140)\" style=\"font-family: 'Open Sans', verdana, arial, sans-serif; font-size: 12px; fill: rgb(42, 63, 95); fill-opacity: 1; white-space: pre; opacity: 1;\">login</text></g></g><g class=\"overaxes-above\"/></g></g><g class=\"polarlayer\"/><g class=\"ternarylayer\"/><g class=\"geolayer\"/><g class=\"funnelarealayer\"/><g class=\"pielayer\"/><g class=\"iciclelayer\"/><g class=\"treemaplayer\"/><g class=\"sunburstlayer\"/><g class=\"glimages\"/><defs id=\"topdefs-9a9b49\"><g class=\"clips\"/></defs><g class=\"layer-above\"><g class=\"imagelayer\"/><g class=\"shapelayer\"/></g><g class=\"infolayer\"><g class=\"g-gtitle\"><text class=\"gtitle\" x=\"336\" y=\"50\" text-anchor=\"middle\" dy=\"0.7em\" style=\"font-family: 'Open Sans', verdana, arial, sans-serif; font-size: 17px; fill: rgb(42, 63, 95); opacity: 1; font-weight: normal; white-space: pre;\">Продуктовая воронка по количеству событий по группе А</text></g><g class=\"g-ytitle\"/></g></svg>"
      ]
     },
     "metadata": {},
     "output_type": "display_data"
    },
    {
     "data": {
      "image/svg+xml": [
       "<svg class=\"main-svg\" xmlns=\"http://www.w3.org/2000/svg\" xmlns:xlink=\"http://www.w3.org/1999/xlink\" width=\"700\" height=\"500\" style=\"\" viewBox=\"0 0 700 500\"><rect x=\"0\" y=\"0\" width=\"700\" height=\"500\" style=\"fill: rgb(255, 255, 255); fill-opacity: 1;\"/><defs id=\"defs-af7557\"><g class=\"clips\"><clipPath id=\"clipaf7557xyplot\" class=\"plotclip\"><rect width=\"524\" height=\"320\"/></clipPath><clipPath class=\"axesclip\" id=\"clipaf7557x\"><rect x=\"96\" y=\"0\" width=\"524\" height=\"500\"/></clipPath><clipPath class=\"axesclip\" id=\"clipaf7557y\"><rect x=\"0\" y=\"100\" width=\"700\" height=\"320\"/></clipPath><clipPath class=\"axesclip\" id=\"clipaf7557xy\"><rect x=\"96\" y=\"100\" width=\"524\" height=\"320\"/></clipPath></g><g class=\"gradients\"/><g class=\"patterns\"/></defs><g class=\"bglayer\"><rect class=\"bg\" x=\"96\" y=\"100\" width=\"524\" height=\"320\" style=\"fill: rgb(229, 236, 246); fill-opacity: 1; stroke-width: 0;\"/></g><g class=\"layer-below\"><g class=\"imagelayer\"/><g class=\"shapelayer\"/></g><g class=\"cartesianlayer\"><g class=\"subplot xy\"><g class=\"layer-subplot\"><g class=\"shapelayer\"/><g class=\"imagelayer\"/></g><g class=\"gridlayer\"><g class=\"x\"/><g class=\"y\"/></g><g class=\"zerolinelayer\"/><path class=\"xlines-below\"/><path class=\"ylines-below\"/><g class=\"overlines-below\"/><g class=\"xaxislayer-below\"/><g class=\"yaxislayer-below\"/><g class=\"overaxes-below\"/><g class=\"plot\" transform=\"translate(96,100)\" clip-path=\"url(#clipaf7557xyplot)\"><g class=\"funnellayer mlayer\"><g class=\"trace bars\" style=\"opacity: 1;\"><g class=\"regions\"><g class=\"region\"><path d=\"M26.2,72L114.71,88H409.29L497.8,72Z\" style=\"stroke-width: 0; fill: rgb(99, 110, 250); fill-opacity: 0.5;\"/></g><g class=\"region\"><path d=\"M114.71,152L194.91,168H329.09L409.29,152Z\" style=\"stroke-width: 0; fill: rgb(99, 110, 250); fill-opacity: 0.5;\"/></g><g class=\"region\"><path d=\"M194.91,232L201.36,248H322.64L329.09,232Z\" style=\"stroke-width: 0; fill: rgb(99, 110, 250); fill-opacity: 0.5;\"/></g><g class=\"region\"><path d=\"M0,0Z\" style=\"stroke-width: 0; fill: rgb(99, 110, 250); fill-opacity: 0.5;\"/></g></g><g class=\"points\"><g class=\"point\"><path d=\"M26.2,8V72H497.8V8Z\" style=\"vector-effect: non-scaling-stroke; fill: rgb(99, 110, 250); fill-opacity: 1; stroke: rgb(68, 68, 68); stroke-opacity: 1; stroke-width: 0px; opacity: 1;\"/><text class=\"bartext bartext-inside\" text-anchor=\"middle\" data-notex=\"1\" x=\"0\" y=\"0\" style=\"font-family: 'Open Sans', verdana, arial, sans-serif; font-size: 12px; fill: rgb(255, 255, 255); fill-opacity: 1; white-space: pre;\" transform=\"translate(261.953125,36.6953125)\"><tspan class=\"line\" dy=\"0em\" x=\"0\" y=\"0\">2411</tspan><tspan class=\"line\" dy=\"1.3em\" x=\"0\" y=\"0\">100%</tspan></text></g><g class=\"point\"><path d=\"M114.71,88V152H409.29V88Z\" style=\"vector-effect: non-scaling-stroke; fill: rgb(99, 110, 250); fill-opacity: 1; stroke: rgb(68, 68, 68); stroke-opacity: 1; stroke-width: 0px; opacity: 1;\"/><text class=\"bartext bartext-inside\" text-anchor=\"middle\" data-notex=\"1\" x=\"0\" y=\"0\" style=\"font-family: 'Open Sans', verdana, arial, sans-serif; font-size: 12px; fill: rgb(255, 255, 255); fill-opacity: 1; white-space: pre;\" transform=\"translate(261.8125,116.6953125)\"><tspan class=\"line\" dy=\"0em\" x=\"0\" y=\"0\">1506</tspan><tspan class=\"line\" dy=\"1.3em\" x=\"0\" y=\"0\">62%</tspan></text></g><g class=\"point\"><path d=\"M194.91,168V232H329.09V168Z\" style=\"vector-effect: non-scaling-stroke; fill: rgb(99, 110, 250); fill-opacity: 1; stroke: rgb(68, 68, 68); stroke-opacity: 1; stroke-width: 0px; opacity: 1;\"/><text class=\"bartext bartext-inside\" text-anchor=\"middle\" data-notex=\"1\" x=\"0\" y=\"0\" style=\"font-family: 'Open Sans', verdana, arial, sans-serif; font-size: 12px; fill: rgb(255, 255, 255); fill-opacity: 1; white-space: pre;\" transform=\"translate(261.9609375,196.6953125)\"><tspan class=\"line\" dy=\"0em\" x=\"0\" y=\"0\">686</tspan><tspan class=\"line\" dy=\"1.3em\" x=\"0\" y=\"0\">28%</tspan></text></g><g class=\"point\"><path d=\"M201.36,248V312H322.64V248Z\" style=\"vector-effect: non-scaling-stroke; fill: rgb(99, 110, 250); fill-opacity: 1; stroke: rgb(68, 68, 68); stroke-opacity: 1; stroke-width: 0px; opacity: 1;\"/><text class=\"bartext bartext-inside\" text-anchor=\"middle\" data-notex=\"1\" x=\"0\" y=\"0\" style=\"font-family: 'Open Sans', verdana, arial, sans-serif; font-size: 12px; fill: rgb(255, 255, 255); fill-opacity: 1; white-space: pre;\" transform=\"translate(261.9609375,276.6953125)\"><tspan class=\"line\" dy=\"0em\" x=\"0\" y=\"0\">620</tspan><tspan class=\"line\" dy=\"1.3em\" x=\"0\" y=\"0\">26%</tspan></text></g></g></g></g></g><g class=\"overplot\"/><path class=\"xlines-above crisp\" d=\"M0,0\" style=\"fill: none;\"/><path class=\"ylines-above crisp\" d=\"M0,0\" style=\"fill: none;\"/><g class=\"overlines-above\"/><g class=\"xaxislayer-above\"/><g class=\"yaxislayer-above\"><g class=\"ytick\"><text text-anchor=\"end\" x=\"95\" y=\"4.199999999999999\" transform=\"translate(0,380)\" style=\"font-family: 'Open Sans', verdana, arial, sans-serif; font-size: 12px; fill: rgb(42, 63, 95); fill-opacity: 1; white-space: pre; opacity: 1;\">purchase</text></g><g class=\"ytick\"><text text-anchor=\"end\" x=\"95\" y=\"4.199999999999999\" transform=\"translate(0,300)\" style=\"font-family: 'Open Sans', verdana, arial, sans-serif; font-size: 12px; fill: rgb(42, 63, 95); fill-opacity: 1; white-space: pre; opacity: 1;\">product_cart</text></g><g class=\"ytick\"><text text-anchor=\"end\" x=\"95\" y=\"4.199999999999999\" transform=\"translate(0,220)\" style=\"font-family: 'Open Sans', verdana, arial, sans-serif; font-size: 12px; fill: rgb(42, 63, 95); fill-opacity: 1; white-space: pre; opacity: 1;\">product_page</text></g><g class=\"ytick\"><text text-anchor=\"end\" x=\"95\" y=\"4.199999999999999\" transform=\"translate(0,140)\" style=\"font-family: 'Open Sans', verdana, arial, sans-serif; font-size: 12px; fill: rgb(42, 63, 95); fill-opacity: 1; white-space: pre; opacity: 1;\">login</text></g></g><g class=\"overaxes-above\"/></g></g><g class=\"polarlayer\"/><g class=\"ternarylayer\"/><g class=\"geolayer\"/><g class=\"funnelarealayer\"/><g class=\"pielayer\"/><g class=\"iciclelayer\"/><g class=\"treemaplayer\"/><g class=\"sunburstlayer\"/><g class=\"glimages\"/><defs id=\"topdefs-af7557\"><g class=\"clips\"/></defs><g class=\"layer-above\"><g class=\"imagelayer\"/><g class=\"shapelayer\"/></g><g class=\"infolayer\"><g class=\"g-gtitle\"><text class=\"gtitle\" x=\"336\" y=\"50\" text-anchor=\"middle\" dy=\"0.7em\" style=\"font-family: 'Open Sans', verdana, arial, sans-serif; font-size: 17px; fill: rgb(42, 63, 95); opacity: 1; font-weight: normal; white-space: pre;\">Продуктовая воронка по количеству событий по группе А</text></g><g class=\"g-ytitle\"/></g></svg>"
      ]
     },
     "metadata": {},
     "output_type": "display_data"
    },
    {
     "data": {
      "image/svg+xml": [
       "<svg class=\"main-svg\" xmlns=\"http://www.w3.org/2000/svg\" xmlns:xlink=\"http://www.w3.org/1999/xlink\" width=\"700\" height=\"500\" style=\"\" viewBox=\"0 0 700 500\"><rect x=\"0\" y=\"0\" width=\"700\" height=\"500\" style=\"fill: rgb(255, 255, 255); fill-opacity: 1;\"/><defs id=\"defs-3bb064\"><g class=\"clips\"><clipPath id=\"clip3bb064xyplot\" class=\"plotclip\"><rect width=\"524\" height=\"320\"/></clipPath><clipPath class=\"axesclip\" id=\"clip3bb064x\"><rect x=\"96\" y=\"0\" width=\"524\" height=\"500\"/></clipPath><clipPath class=\"axesclip\" id=\"clip3bb064y\"><rect x=\"0\" y=\"100\" width=\"700\" height=\"320\"/></clipPath><clipPath class=\"axesclip\" id=\"clip3bb064xy\"><rect x=\"96\" y=\"100\" width=\"524\" height=\"320\"/></clipPath></g><g class=\"gradients\"/><g class=\"patterns\"/></defs><g class=\"bglayer\"><rect class=\"bg\" x=\"96\" y=\"100\" width=\"524\" height=\"320\" style=\"fill: rgb(229, 236, 246); fill-opacity: 1; stroke-width: 0;\"/></g><g class=\"layer-below\"><g class=\"imagelayer\"/><g class=\"shapelayer\"/></g><g class=\"cartesianlayer\"><g class=\"subplot xy\"><g class=\"layer-subplot\"><g class=\"shapelayer\"/><g class=\"imagelayer\"/></g><g class=\"gridlayer\"><g class=\"x\"/><g class=\"y\"/></g><g class=\"zerolinelayer\"/><path class=\"xlines-below\"/><path class=\"ylines-below\"/><g class=\"overlines-below\"/><g class=\"xaxislayer-below\"/><g class=\"yaxislayer-below\"/><g class=\"overaxes-below\"/><g class=\"plot\" transform=\"translate(96,100)\" clip-path=\"url(#clip3bb064xyplot)\"><g class=\"funnellayer mlayer\"><g class=\"trace bars\" style=\"opacity: 1;\"><g class=\"regions\"><g class=\"region\"><path d=\"M26.2,72L114.71,88H409.29L497.8,72Z\" style=\"stroke-width: 0; fill: rgb(99, 110, 250); fill-opacity: 0.5;\"/></g><g class=\"region\"><path d=\"M114.71,152L194.91,168H329.09L409.29,152Z\" style=\"stroke-width: 0; fill: rgb(99, 110, 250); fill-opacity: 0.5;\"/></g><g class=\"region\"><path d=\"M194.91,232L201.36,248H322.64L329.09,232Z\" style=\"stroke-width: 0; fill: rgb(99, 110, 250); fill-opacity: 0.5;\"/></g><g class=\"region\"><path d=\"M0,0Z\" style=\"stroke-width: 0; fill: rgb(99, 110, 250); fill-opacity: 0.5;\"/></g></g><g class=\"points\"><g class=\"point\"><path d=\"M26.2,8V72H497.8V8Z\" style=\"vector-effect: non-scaling-stroke; fill: rgb(99, 110, 250); fill-opacity: 1; stroke: rgb(68, 68, 68); stroke-opacity: 1; stroke-width: 0px; opacity: 1;\"/><text class=\"bartext bartext-inside\" text-anchor=\"middle\" data-notex=\"1\" x=\"0\" y=\"0\" style=\"font-family: 'Open Sans', verdana, arial, sans-serif; font-size: 12px; fill: rgb(255, 255, 255); fill-opacity: 1; white-space: pre;\" transform=\"translate(261.953125,36.6953125)\"><tspan class=\"line\" dy=\"0em\" x=\"0\" y=\"0\">2411</tspan><tspan class=\"line\" dy=\"1.3em\" x=\"0\" y=\"0\">100%</tspan></text></g><g class=\"point\"><path d=\"M114.71,88V152H409.29V88Z\" style=\"vector-effect: non-scaling-stroke; fill: rgb(99, 110, 250); fill-opacity: 1; stroke: rgb(68, 68, 68); stroke-opacity: 1; stroke-width: 0px; opacity: 1;\"/><text class=\"bartext bartext-inside\" text-anchor=\"middle\" data-notex=\"1\" x=\"0\" y=\"0\" style=\"font-family: 'Open Sans', verdana, arial, sans-serif; font-size: 12px; fill: rgb(255, 255, 255); fill-opacity: 1; white-space: pre;\" transform=\"translate(261.8125,116.6953125)\"><tspan class=\"line\" dy=\"0em\" x=\"0\" y=\"0\">1506</tspan><tspan class=\"line\" dy=\"1.3em\" x=\"0\" y=\"0\">62%</tspan></text></g><g class=\"point\"><path d=\"M194.91,168V232H329.09V168Z\" style=\"vector-effect: non-scaling-stroke; fill: rgb(99, 110, 250); fill-opacity: 1; stroke: rgb(68, 68, 68); stroke-opacity: 1; stroke-width: 0px; opacity: 1;\"/><text class=\"bartext bartext-inside\" text-anchor=\"middle\" data-notex=\"1\" x=\"0\" y=\"0\" style=\"font-family: 'Open Sans', verdana, arial, sans-serif; font-size: 12px; fill: rgb(255, 255, 255); fill-opacity: 1; white-space: pre;\" transform=\"translate(261.9609375,196.6953125)\"><tspan class=\"line\" dy=\"0em\" x=\"0\" y=\"0\">686</tspan><tspan class=\"line\" dy=\"1.3em\" x=\"0\" y=\"0\">46%</tspan></text></g><g class=\"point\"><path d=\"M201.36,248V312H322.64V248Z\" style=\"vector-effect: non-scaling-stroke; fill: rgb(99, 110, 250); fill-opacity: 1; stroke: rgb(68, 68, 68); stroke-opacity: 1; stroke-width: 0px; opacity: 1;\"/><text class=\"bartext bartext-inside\" text-anchor=\"middle\" data-notex=\"1\" x=\"0\" y=\"0\" style=\"font-family: 'Open Sans', verdana, arial, sans-serif; font-size: 12px; fill: rgb(255, 255, 255); fill-opacity: 1; white-space: pre;\" transform=\"translate(261.9609375,276.6953125)\"><tspan class=\"line\" dy=\"0em\" x=\"0\" y=\"0\">620</tspan><tspan class=\"line\" dy=\"1.3em\" x=\"0\" y=\"0\">90%</tspan></text></g></g></g></g></g><g class=\"overplot\"/><path class=\"xlines-above crisp\" d=\"M0,0\" style=\"fill: none;\"/><path class=\"ylines-above crisp\" d=\"M0,0\" style=\"fill: none;\"/><g class=\"overlines-above\"/><g class=\"xaxislayer-above\"/><g class=\"yaxislayer-above\"><g class=\"ytick\"><text text-anchor=\"end\" x=\"95\" y=\"4.199999999999999\" transform=\"translate(0,380)\" style=\"font-family: 'Open Sans', verdana, arial, sans-serif; font-size: 12px; fill: rgb(42, 63, 95); fill-opacity: 1; white-space: pre; opacity: 1;\">purchase</text></g><g class=\"ytick\"><text text-anchor=\"end\" x=\"95\" y=\"4.199999999999999\" transform=\"translate(0,300)\" style=\"font-family: 'Open Sans', verdana, arial, sans-serif; font-size: 12px; fill: rgb(42, 63, 95); fill-opacity: 1; white-space: pre; opacity: 1;\">product_cart</text></g><g class=\"ytick\"><text text-anchor=\"end\" x=\"95\" y=\"4.199999999999999\" transform=\"translate(0,220)\" style=\"font-family: 'Open Sans', verdana, arial, sans-serif; font-size: 12px; fill: rgb(42, 63, 95); fill-opacity: 1; white-space: pre; opacity: 1;\">product_page</text></g><g class=\"ytick\"><text text-anchor=\"end\" x=\"95\" y=\"4.199999999999999\" transform=\"translate(0,140)\" style=\"font-family: 'Open Sans', verdana, arial, sans-serif; font-size: 12px; fill: rgb(42, 63, 95); fill-opacity: 1; white-space: pre; opacity: 1;\">login</text></g></g><g class=\"overaxes-above\"/></g></g><g class=\"polarlayer\"/><g class=\"ternarylayer\"/><g class=\"geolayer\"/><g class=\"funnelarealayer\"/><g class=\"pielayer\"/><g class=\"iciclelayer\"/><g class=\"treemaplayer\"/><g class=\"sunburstlayer\"/><g class=\"glimages\"/><defs id=\"topdefs-3bb064\"><g class=\"clips\"/></defs><g class=\"layer-above\"><g class=\"imagelayer\"/><g class=\"shapelayer\"/></g><g class=\"infolayer\"><g class=\"g-gtitle\"><text class=\"gtitle\" x=\"336\" y=\"50\" text-anchor=\"middle\" dy=\"0.7em\" style=\"font-family: 'Open Sans', verdana, arial, sans-serif; font-size: 17px; fill: rgb(42, 63, 95); opacity: 1; font-weight: normal; white-space: pre;\">Продуктовая воронка (% от предыдущего события) по группе А</text></g><g class=\"g-ytitle\"/></g></svg>"
      ]
     },
     "metadata": {},
     "output_type": "display_data"
    },
    {
     "data": {
      "image/svg+xml": [
       "<svg class=\"main-svg\" xmlns=\"http://www.w3.org/2000/svg\" xmlns:xlink=\"http://www.w3.org/1999/xlink\" width=\"700\" height=\"500\" style=\"\" viewBox=\"0 0 700 500\"><rect x=\"0\" y=\"0\" width=\"700\" height=\"500\" style=\"fill: rgb(255, 255, 255); fill-opacity: 1;\"/><defs id=\"defs-76c6e9\"><g class=\"clips\"><clipPath id=\"clip76c6e9xyplot\" class=\"plotclip\"><rect width=\"524\" height=\"320\"/></clipPath><clipPath class=\"axesclip\" id=\"clip76c6e9x\"><rect x=\"96\" y=\"0\" width=\"524\" height=\"500\"/></clipPath><clipPath class=\"axesclip\" id=\"clip76c6e9y\"><rect x=\"0\" y=\"100\" width=\"700\" height=\"320\"/></clipPath><clipPath class=\"axesclip\" id=\"clip76c6e9xy\"><rect x=\"96\" y=\"100\" width=\"524\" height=\"320\"/></clipPath></g><g class=\"gradients\"/><g class=\"patterns\"/></defs><g class=\"bglayer\"><rect class=\"bg\" x=\"96\" y=\"100\" width=\"524\" height=\"320\" style=\"fill: rgb(229, 236, 246); fill-opacity: 1; stroke-width: 0;\"/></g><g class=\"layer-below\"><g class=\"imagelayer\"/><g class=\"shapelayer\"/></g><g class=\"cartesianlayer\"><g class=\"subplot xy\"><g class=\"layer-subplot\"><g class=\"shapelayer\"/><g class=\"imagelayer\"/></g><g class=\"gridlayer\"><g class=\"x\"/><g class=\"y\"/></g><g class=\"zerolinelayer\"/><path class=\"xlines-below\"/><path class=\"ylines-below\"/><g class=\"overlines-below\"/><g class=\"xaxislayer-below\"/><g class=\"yaxislayer-below\"/><g class=\"overaxes-below\"/><g class=\"plot\" transform=\"translate(96,100)\" clip-path=\"url(#clip76c6e9xyplot)\"><g class=\"funnellayer mlayer\"><g class=\"trace bars\" style=\"opacity: 1;\"><g class=\"regions\"><g class=\"region\"><path d=\"M26.2,72L144.46,88H379.54L497.8,72Z\" style=\"stroke-width: 0; fill: rgb(99, 110, 250); fill-opacity: 0.5;\"/></g><g class=\"region\"><path d=\"M144.46,152L205.78,168H318.22L379.54,152Z\" style=\"stroke-width: 0; fill: rgb(99, 110, 250); fill-opacity: 0.5;\"/></g><g class=\"region\"><path d=\"M205.78,232L214.35,248H309.65L318.22,232Z\" style=\"stroke-width: 0; fill: rgb(99, 110, 250); fill-opacity: 0.5;\"/></g><g class=\"region\"><path d=\"M0,0Z\" style=\"stroke-width: 0; fill: rgb(99, 110, 250); fill-opacity: 0.5;\"/></g></g><g class=\"points\"><g class=\"point\"><path d=\"M26.2,8V72H497.8V8Z\" style=\"vector-effect: non-scaling-stroke; fill: rgb(99, 110, 250); fill-opacity: 1; stroke: rgb(68, 68, 68); stroke-opacity: 1; stroke-width: 0px; opacity: 1;\"/><text class=\"bartext bartext-inside\" text-anchor=\"middle\" data-notex=\"1\" x=\"0\" y=\"0\" style=\"font-family: 'Open Sans', verdana, arial, sans-serif; font-size: 12px; fill: rgb(255, 255, 255); fill-opacity: 1; white-space: pre;\" transform=\"translate(261.953125,36.6953125)\"><tspan class=\"line\" dy=\"0em\" x=\"0\" y=\"0\">2311</tspan><tspan class=\"line\" dy=\"1.3em\" x=\"0\" y=\"0\">100%</tspan></text></g><g class=\"point\"><path d=\"M144.46,88V152H379.54V88Z\" style=\"vector-effect: non-scaling-stroke; fill: rgb(99, 110, 250); fill-opacity: 1; stroke: rgb(68, 68, 68); stroke-opacity: 1; stroke-width: 0px; opacity: 1;\"/><text class=\"bartext bartext-inside\" text-anchor=\"middle\" data-notex=\"1\" x=\"0\" y=\"0\" style=\"font-family: 'Open Sans', verdana, arial, sans-serif; font-size: 12px; fill: rgb(255, 255, 255); fill-opacity: 1; white-space: pre;\" transform=\"translate(261.8125,116.6953125)\"><tspan class=\"line\" dy=\"0em\" x=\"0\" y=\"0\">1152</tspan><tspan class=\"line\" dy=\"1.3em\" x=\"0\" y=\"0\">50%</tspan></text></g><g class=\"point\"><path d=\"M205.78,168V232H318.22V168Z\" style=\"vector-effect: non-scaling-stroke; fill: rgb(99, 110, 250); fill-opacity: 1; stroke: rgb(68, 68, 68); stroke-opacity: 1; stroke-width: 0px; opacity: 1;\"/><text class=\"bartext bartext-inside\" text-anchor=\"middle\" data-notex=\"1\" x=\"0\" y=\"0\" style=\"font-family: 'Open Sans', verdana, arial, sans-serif; font-size: 12px; fill: rgb(255, 255, 255); fill-opacity: 1; white-space: pre;\" transform=\"translate(261.9609375,196.6953125)\"><tspan class=\"line\" dy=\"0em\" x=\"0\" y=\"0\">551</tspan><tspan class=\"line\" dy=\"1.3em\" x=\"0\" y=\"0\">24%</tspan></text></g><g class=\"point\"><path d=\"M214.35,248V312H309.65V248Z\" style=\"vector-effect: non-scaling-stroke; fill: rgb(99, 110, 250); fill-opacity: 1; stroke: rgb(68, 68, 68); stroke-opacity: 1; stroke-width: 0px; opacity: 1;\"/><text class=\"bartext bartext-inside\" text-anchor=\"middle\" data-notex=\"1\" x=\"0\" y=\"0\" style=\"font-family: 'Open Sans', verdana, arial, sans-serif; font-size: 12px; fill: rgb(255, 255, 255); fill-opacity: 1; white-space: pre;\" transform=\"translate(261.9609375,276.6953125)\"><tspan class=\"line\" dy=\"0em\" x=\"0\" y=\"0\">467</tspan><tspan class=\"line\" dy=\"1.3em\" x=\"0\" y=\"0\">20%</tspan></text></g></g></g></g></g><g class=\"overplot\"/><path class=\"xlines-above crisp\" d=\"M0,0\" style=\"fill: none;\"/><path class=\"ylines-above crisp\" d=\"M0,0\" style=\"fill: none;\"/><g class=\"overlines-above\"/><g class=\"xaxislayer-above\"/><g class=\"yaxislayer-above\"><g class=\"ytick\"><text text-anchor=\"end\" x=\"95\" y=\"4.199999999999999\" transform=\"translate(0,380)\" style=\"font-family: 'Open Sans', verdana, arial, sans-serif; font-size: 12px; fill: rgb(42, 63, 95); fill-opacity: 1; white-space: pre; opacity: 1;\">purchase</text></g><g class=\"ytick\"><text text-anchor=\"end\" x=\"95\" y=\"4.199999999999999\" transform=\"translate(0,300)\" style=\"font-family: 'Open Sans', verdana, arial, sans-serif; font-size: 12px; fill: rgb(42, 63, 95); fill-opacity: 1; white-space: pre; opacity: 1;\">product_cart</text></g><g class=\"ytick\"><text text-anchor=\"end\" x=\"95\" y=\"4.199999999999999\" transform=\"translate(0,220)\" style=\"font-family: 'Open Sans', verdana, arial, sans-serif; font-size: 12px; fill: rgb(42, 63, 95); fill-opacity: 1; white-space: pre; opacity: 1;\">product_page</text></g><g class=\"ytick\"><text text-anchor=\"end\" x=\"95\" y=\"4.199999999999999\" transform=\"translate(0,140)\" style=\"font-family: 'Open Sans', verdana, arial, sans-serif; font-size: 12px; fill: rgb(42, 63, 95); fill-opacity: 1; white-space: pre; opacity: 1;\">login</text></g></g><g class=\"overaxes-above\"/></g></g><g class=\"polarlayer\"/><g class=\"ternarylayer\"/><g class=\"geolayer\"/><g class=\"funnelarealayer\"/><g class=\"pielayer\"/><g class=\"iciclelayer\"/><g class=\"treemaplayer\"/><g class=\"sunburstlayer\"/><g class=\"glimages\"/><defs id=\"topdefs-76c6e9\"><g class=\"clips\"/></defs><g class=\"layer-above\"><g class=\"imagelayer\"/><g class=\"shapelayer\"/></g><g class=\"infolayer\"><g class=\"g-gtitle\"><text class=\"gtitle\" x=\"336\" y=\"50\" text-anchor=\"middle\" dy=\"0.7em\" style=\"font-family: 'Open Sans', verdana, arial, sans-serif; font-size: 17px; fill: rgb(42, 63, 95); opacity: 1; font-weight: normal; white-space: pre;\">Продуктовая воронка по количеству событий по группе B</text></g><g class=\"g-ytitle\"/></g></svg>"
      ]
     },
     "metadata": {},
     "output_type": "display_data"
    },
    {
     "data": {
      "image/svg+xml": [
       "<svg class=\"main-svg\" xmlns=\"http://www.w3.org/2000/svg\" xmlns:xlink=\"http://www.w3.org/1999/xlink\" width=\"700\" height=\"500\" style=\"\" viewBox=\"0 0 700 500\"><rect x=\"0\" y=\"0\" width=\"700\" height=\"500\" style=\"fill: rgb(255, 255, 255); fill-opacity: 1;\"/><defs id=\"defs-e063dc\"><g class=\"clips\"><clipPath id=\"clipe063dcxyplot\" class=\"plotclip\"><rect width=\"524\" height=\"320\"/></clipPath><clipPath class=\"axesclip\" id=\"clipe063dcx\"><rect x=\"96\" y=\"0\" width=\"524\" height=\"500\"/></clipPath><clipPath class=\"axesclip\" id=\"clipe063dcy\"><rect x=\"0\" y=\"100\" width=\"700\" height=\"320\"/></clipPath><clipPath class=\"axesclip\" id=\"clipe063dcxy\"><rect x=\"96\" y=\"100\" width=\"524\" height=\"320\"/></clipPath></g><g class=\"gradients\"/><g class=\"patterns\"/></defs><g class=\"bglayer\"><rect class=\"bg\" x=\"96\" y=\"100\" width=\"524\" height=\"320\" style=\"fill: rgb(229, 236, 246); fill-opacity: 1; stroke-width: 0;\"/></g><g class=\"layer-below\"><g class=\"imagelayer\"/><g class=\"shapelayer\"/></g><g class=\"cartesianlayer\"><g class=\"subplot xy\"><g class=\"layer-subplot\"><g class=\"shapelayer\"/><g class=\"imagelayer\"/></g><g class=\"gridlayer\"><g class=\"x\"/><g class=\"y\"/></g><g class=\"zerolinelayer\"/><path class=\"xlines-below\"/><path class=\"ylines-below\"/><g class=\"overlines-below\"/><g class=\"xaxislayer-below\"/><g class=\"yaxislayer-below\"/><g class=\"overaxes-below\"/><g class=\"plot\" transform=\"translate(96,100)\" clip-path=\"url(#clipe063dcxyplot)\"><g class=\"funnellayer mlayer\"><g class=\"trace bars\" style=\"opacity: 1;\"><g class=\"regions\"><g class=\"region\"><path d=\"M26.2,72L134.52,88H389.48L497.8,72Z\" style=\"stroke-width: 0; fill: rgb(99, 110, 250); fill-opacity: 0.5;\"/></g><g class=\"region\"><path d=\"M134.52,152L201.45,168H322.55L389.48,152Z\" style=\"stroke-width: 0; fill: rgb(99, 110, 250); fill-opacity: 0.5;\"/></g><g class=\"region\"><path d=\"M201.45,232L206.17,248H317.83L322.55,232Z\" style=\"stroke-width: 0; fill: rgb(99, 110, 250); fill-opacity: 0.5;\"/></g><g class=\"region\"><path d=\"M0,0Z\" style=\"stroke-width: 0; fill: rgb(99, 110, 250); fill-opacity: 0.5;\"/></g></g><g class=\"points\"><g class=\"point\"><path d=\"M26.2,8V72H497.8V8Z\" style=\"vector-effect: non-scaling-stroke; fill: rgb(99, 110, 250); fill-opacity: 1; stroke: rgb(68, 68, 68); stroke-opacity: 1; stroke-width: 0px; opacity: 1;\"/><text class=\"bartext bartext-inside\" text-anchor=\"middle\" data-notex=\"1\" x=\"0\" y=\"0\" style=\"font-family: 'Open Sans', verdana, arial, sans-serif; font-size: 12px; fill: rgb(255, 255, 255); fill-opacity: 1; white-space: pre;\" transform=\"translate(261.953125,36.6953125)\"><tspan class=\"line\" dy=\"0em\" x=\"0\" y=\"0\">849</tspan><tspan class=\"line\" dy=\"1.3em\" x=\"0\" y=\"0\">100%</tspan></text></g><g class=\"point\"><path d=\"M134.52,88V152H389.48V88Z\" style=\"vector-effect: non-scaling-stroke; fill: rgb(99, 110, 250); fill-opacity: 1; stroke: rgb(68, 68, 68); stroke-opacity: 1; stroke-width: 0px; opacity: 1;\"/><text class=\"bartext bartext-inside\" text-anchor=\"middle\" data-notex=\"1\" x=\"0\" y=\"0\" style=\"font-family: 'Open Sans', verdana, arial, sans-serif; font-size: 12px; fill: rgb(255, 255, 255); fill-opacity: 1; white-space: pre;\" transform=\"translate(261.9609375,116.6953125)\"><tspan class=\"line\" dy=\"0em\" x=\"0\" y=\"0\">459</tspan><tspan class=\"line\" dy=\"1.3em\" x=\"0\" y=\"0\">54%</tspan></text></g><g class=\"point\"><path d=\"M201.45,168V232H322.55V168Z\" style=\"vector-effect: non-scaling-stroke; fill: rgb(99, 110, 250); fill-opacity: 1; stroke: rgb(68, 68, 68); stroke-opacity: 1; stroke-width: 0px; opacity: 1;\"/><text class=\"bartext bartext-inside\" text-anchor=\"middle\" data-notex=\"1\" x=\"0\" y=\"0\" style=\"font-family: 'Open Sans', verdana, arial, sans-serif; font-size: 12px; fill: rgb(255, 255, 255); fill-opacity: 1; white-space: pre;\" transform=\"translate(261.9609375,196.6953125)\"><tspan class=\"line\" dy=\"0em\" x=\"0\" y=\"0\">218</tspan><tspan class=\"line\" dy=\"1.3em\" x=\"0\" y=\"0\">26%</tspan></text></g><g class=\"point\"><path d=\"M206.17,248V312H317.83V248Z\" style=\"vector-effect: non-scaling-stroke; fill: rgb(99, 110, 250); fill-opacity: 1; stroke: rgb(68, 68, 68); stroke-opacity: 1; stroke-width: 0px; opacity: 1;\"/><text class=\"bartext bartext-inside\" text-anchor=\"middle\" data-notex=\"1\" x=\"0\" y=\"0\" style=\"font-family: 'Open Sans', verdana, arial, sans-serif; font-size: 12px; fill: rgb(255, 255, 255); fill-opacity: 1; white-space: pre;\" transform=\"translate(261.9609375,276.6953125)\"><tspan class=\"line\" dy=\"0em\" x=\"0\" y=\"0\">201</tspan><tspan class=\"line\" dy=\"1.3em\" x=\"0\" y=\"0\">24%</tspan></text></g></g></g></g></g><g class=\"overplot\"/><path class=\"xlines-above crisp\" d=\"M0,0\" style=\"fill: none;\"/><path class=\"ylines-above crisp\" d=\"M0,0\" style=\"fill: none;\"/><g class=\"overlines-above\"/><g class=\"xaxislayer-above\"/><g class=\"yaxislayer-above\"><g class=\"ytick\"><text text-anchor=\"end\" x=\"95\" y=\"4.199999999999999\" transform=\"translate(0,380)\" style=\"font-family: 'Open Sans', verdana, arial, sans-serif; font-size: 12px; fill: rgb(42, 63, 95); fill-opacity: 1; white-space: pre; opacity: 1;\">purchase</text></g><g class=\"ytick\"><text text-anchor=\"end\" x=\"95\" y=\"4.199999999999999\" transform=\"translate(0,300)\" style=\"font-family: 'Open Sans', verdana, arial, sans-serif; font-size: 12px; fill: rgb(42, 63, 95); fill-opacity: 1; white-space: pre; opacity: 1;\">product_cart</text></g><g class=\"ytick\"><text text-anchor=\"end\" x=\"95\" y=\"4.199999999999999\" transform=\"translate(0,220)\" style=\"font-family: 'Open Sans', verdana, arial, sans-serif; font-size: 12px; fill: rgb(42, 63, 95); fill-opacity: 1; white-space: pre; opacity: 1;\">product_page</text></g><g class=\"ytick\"><text text-anchor=\"end\" x=\"95\" y=\"4.199999999999999\" transform=\"translate(0,140)\" style=\"font-family: 'Open Sans', verdana, arial, sans-serif; font-size: 12px; fill: rgb(42, 63, 95); fill-opacity: 1; white-space: pre; opacity: 1;\">login</text></g></g><g class=\"overaxes-above\"/></g></g><g class=\"polarlayer\"/><g class=\"ternarylayer\"/><g class=\"geolayer\"/><g class=\"funnelarealayer\"/><g class=\"pielayer\"/><g class=\"iciclelayer\"/><g class=\"treemaplayer\"/><g class=\"sunburstlayer\"/><g class=\"glimages\"/><defs id=\"topdefs-e063dc\"><g class=\"clips\"/></defs><g class=\"layer-above\"><g class=\"imagelayer\"/><g class=\"shapelayer\"/></g><g class=\"infolayer\"><g class=\"g-gtitle\"><text class=\"gtitle\" x=\"336\" y=\"50\" text-anchor=\"middle\" dy=\"0.7em\" style=\"font-family: 'Open Sans', verdana, arial, sans-serif; font-size: 17px; fill: rgb(42, 63, 95); opacity: 1; font-weight: normal; white-space: pre;\">Продуктовая воронка по количеству событий по группе B</text></g><g class=\"g-ytitle\"/></g></svg>"
      ]
     },
     "metadata": {},
     "output_type": "display_data"
    },
    {
     "data": {
      "image/svg+xml": [
       "<svg class=\"main-svg\" xmlns=\"http://www.w3.org/2000/svg\" xmlns:xlink=\"http://www.w3.org/1999/xlink\" width=\"700\" height=\"500\" style=\"\" viewBox=\"0 0 700 500\"><rect x=\"0\" y=\"0\" width=\"700\" height=\"500\" style=\"fill: rgb(255, 255, 255); fill-opacity: 1;\"/><defs id=\"defs-9c7f2b\"><g class=\"clips\"><clipPath id=\"clip9c7f2bxyplot\" class=\"plotclip\"><rect width=\"524\" height=\"320\"/></clipPath><clipPath class=\"axesclip\" id=\"clip9c7f2bx\"><rect x=\"96\" y=\"0\" width=\"524\" height=\"500\"/></clipPath><clipPath class=\"axesclip\" id=\"clip9c7f2by\"><rect x=\"0\" y=\"100\" width=\"700\" height=\"320\"/></clipPath><clipPath class=\"axesclip\" id=\"clip9c7f2bxy\"><rect x=\"96\" y=\"100\" width=\"524\" height=\"320\"/></clipPath></g><g class=\"gradients\"/><g class=\"patterns\"/></defs><g class=\"bglayer\"><rect class=\"bg\" x=\"96\" y=\"100\" width=\"524\" height=\"320\" style=\"fill: rgb(229, 236, 246); fill-opacity: 1; stroke-width: 0;\"/></g><g class=\"layer-below\"><g class=\"imagelayer\"/><g class=\"shapelayer\"/></g><g class=\"cartesianlayer\"><g class=\"subplot xy\"><g class=\"layer-subplot\"><g class=\"shapelayer\"/><g class=\"imagelayer\"/></g><g class=\"gridlayer\"><g class=\"x\"/><g class=\"y\"/></g><g class=\"zerolinelayer\"/><path class=\"xlines-below\"/><path class=\"ylines-below\"/><g class=\"overlines-below\"/><g class=\"xaxislayer-below\"/><g class=\"yaxislayer-below\"/><g class=\"overaxes-below\"/><g class=\"plot\" transform=\"translate(96,100)\" clip-path=\"url(#clip9c7f2bxyplot)\"><g class=\"funnellayer mlayer\"><g class=\"trace bars\" style=\"opacity: 1;\"><g class=\"regions\"><g class=\"region\"><path d=\"M26.2,72L134.52,88H389.48L497.8,72Z\" style=\"stroke-width: 0; fill: rgb(99, 110, 250); fill-opacity: 0.5;\"/></g><g class=\"region\"><path d=\"M134.52,152L201.45,168H322.55L389.48,152Z\" style=\"stroke-width: 0; fill: rgb(99, 110, 250); fill-opacity: 0.5;\"/></g><g class=\"region\"><path d=\"M201.45,232L206.17,248H317.83L322.55,232Z\" style=\"stroke-width: 0; fill: rgb(99, 110, 250); fill-opacity: 0.5;\"/></g><g class=\"region\"><path d=\"M0,0Z\" style=\"stroke-width: 0; fill: rgb(99, 110, 250); fill-opacity: 0.5;\"/></g></g><g class=\"points\"><g class=\"point\"><path d=\"M26.2,8V72H497.8V8Z\" style=\"vector-effect: non-scaling-stroke; fill: rgb(99, 110, 250); fill-opacity: 1; stroke: rgb(68, 68, 68); stroke-opacity: 1; stroke-width: 0px; opacity: 1;\"/><text class=\"bartext bartext-inside\" text-anchor=\"middle\" data-notex=\"1\" x=\"0\" y=\"0\" style=\"font-family: 'Open Sans', verdana, arial, sans-serif; font-size: 12px; fill: rgb(255, 255, 255); fill-opacity: 1; white-space: pre;\" transform=\"translate(261.953125,36.6953125)\"><tspan class=\"line\" dy=\"0em\" x=\"0\" y=\"0\">849</tspan><tspan class=\"line\" dy=\"1.3em\" x=\"0\" y=\"0\">100%</tspan></text></g><g class=\"point\"><path d=\"M134.52,88V152H389.48V88Z\" style=\"vector-effect: non-scaling-stroke; fill: rgb(99, 110, 250); fill-opacity: 1; stroke: rgb(68, 68, 68); stroke-opacity: 1; stroke-width: 0px; opacity: 1;\"/><text class=\"bartext bartext-inside\" text-anchor=\"middle\" data-notex=\"1\" x=\"0\" y=\"0\" style=\"font-family: 'Open Sans', verdana, arial, sans-serif; font-size: 12px; fill: rgb(255, 255, 255); fill-opacity: 1; white-space: pre;\" transform=\"translate(261.9609375,116.6953125)\"><tspan class=\"line\" dy=\"0em\" x=\"0\" y=\"0\">459</tspan><tspan class=\"line\" dy=\"1.3em\" x=\"0\" y=\"0\">54%</tspan></text></g><g class=\"point\"><path d=\"M201.45,168V232H322.55V168Z\" style=\"vector-effect: non-scaling-stroke; fill: rgb(99, 110, 250); fill-opacity: 1; stroke: rgb(68, 68, 68); stroke-opacity: 1; stroke-width: 0px; opacity: 1;\"/><text class=\"bartext bartext-inside\" text-anchor=\"middle\" data-notex=\"1\" x=\"0\" y=\"0\" style=\"font-family: 'Open Sans', verdana, arial, sans-serif; font-size: 12px; fill: rgb(255, 255, 255); fill-opacity: 1; white-space: pre;\" transform=\"translate(261.9609375,196.6953125)\"><tspan class=\"line\" dy=\"0em\" x=\"0\" y=\"0\">218</tspan><tspan class=\"line\" dy=\"1.3em\" x=\"0\" y=\"0\">47%</tspan></text></g><g class=\"point\"><path d=\"M206.17,248V312H317.83V248Z\" style=\"vector-effect: non-scaling-stroke; fill: rgb(99, 110, 250); fill-opacity: 1; stroke: rgb(68, 68, 68); stroke-opacity: 1; stroke-width: 0px; opacity: 1;\"/><text class=\"bartext bartext-inside\" text-anchor=\"middle\" data-notex=\"1\" x=\"0\" y=\"0\" style=\"font-family: 'Open Sans', verdana, arial, sans-serif; font-size: 12px; fill: rgb(255, 255, 255); fill-opacity: 1; white-space: pre;\" transform=\"translate(261.9609375,276.6953125)\"><tspan class=\"line\" dy=\"0em\" x=\"0\" y=\"0\">201</tspan><tspan class=\"line\" dy=\"1.3em\" x=\"0\" y=\"0\">92%</tspan></text></g></g></g></g></g><g class=\"overplot\"/><path class=\"xlines-above crisp\" d=\"M0,0\" style=\"fill: none;\"/><path class=\"ylines-above crisp\" d=\"M0,0\" style=\"fill: none;\"/><g class=\"overlines-above\"/><g class=\"xaxislayer-above\"/><g class=\"yaxislayer-above\"><g class=\"ytick\"><text text-anchor=\"end\" x=\"95\" y=\"4.199999999999999\" transform=\"translate(0,380)\" style=\"font-family: 'Open Sans', verdana, arial, sans-serif; font-size: 12px; fill: rgb(42, 63, 95); fill-opacity: 1; white-space: pre; opacity: 1;\">purchase</text></g><g class=\"ytick\"><text text-anchor=\"end\" x=\"95\" y=\"4.199999999999999\" transform=\"translate(0,300)\" style=\"font-family: 'Open Sans', verdana, arial, sans-serif; font-size: 12px; fill: rgb(42, 63, 95); fill-opacity: 1; white-space: pre; opacity: 1;\">product_cart</text></g><g class=\"ytick\"><text text-anchor=\"end\" x=\"95\" y=\"4.199999999999999\" transform=\"translate(0,220)\" style=\"font-family: 'Open Sans', verdana, arial, sans-serif; font-size: 12px; fill: rgb(42, 63, 95); fill-opacity: 1; white-space: pre; opacity: 1;\">product_page</text></g><g class=\"ytick\"><text text-anchor=\"end\" x=\"95\" y=\"4.199999999999999\" transform=\"translate(0,140)\" style=\"font-family: 'Open Sans', verdana, arial, sans-serif; font-size: 12px; fill: rgb(42, 63, 95); fill-opacity: 1; white-space: pre; opacity: 1;\">login</text></g></g><g class=\"overaxes-above\"/></g></g><g class=\"polarlayer\"/><g class=\"ternarylayer\"/><g class=\"geolayer\"/><g class=\"funnelarealayer\"/><g class=\"pielayer\"/><g class=\"iciclelayer\"/><g class=\"treemaplayer\"/><g class=\"sunburstlayer\"/><g class=\"glimages\"/><defs id=\"topdefs-9c7f2b\"><g class=\"clips\"/></defs><g class=\"layer-above\"><g class=\"imagelayer\"/><g class=\"shapelayer\"/></g><g class=\"infolayer\"><g class=\"g-gtitle\"><text class=\"gtitle\" x=\"336\" y=\"50\" text-anchor=\"middle\" dy=\"0.7em\" style=\"font-family: 'Open Sans', verdana, arial, sans-serif; font-size: 17px; fill: rgb(42, 63, 95); opacity: 1; font-weight: normal; white-space: pre;\">Продуктовая воронка (% от предыдущего события) по группе B</text></g><g class=\"g-ytitle\"/></g></svg>"
      ]
     },
     "metadata": {},
     "output_type": "display_data"
    }
   ],
   "source": [
    "goFigire(eventNameCountFinalA, \"А\")\n",
    "goFigire(eventNameCountFinalB, \"B\")"
   ]
  },
  {
   "cell_type": "markdown",
   "metadata": {},
   "source": [
    "Исходя из полученных продуктовых воронок можно сделать выводы, что обе группы обладают одинаковой конверсией в районе 23-24%."
   ]
  },
  {
   "cell_type": "markdown",
   "metadata": {},
   "source": [
    "Исходя из полученных продуктовых воронок можно сделать выводы, что группа обладает большей конверсией чем группа B. Так количество людей, которые покупают по группе A составляет 32%, а по группе B - 27%. "
   ]
  },
  {
   "cell_type": "code",
   "execution_count": 27,
   "metadata": {},
   "outputs": [
    {
     "name": "stdout",
     "output_type": "stream",
     "text": [
      "Количество событий в выборке А в тесте recommender_system_test 15318\n",
      "Количество человек в выборке А в тесте recommender_system_test 3824\n",
      "Количество событий на человека в выборке А в тесте recommender_system_test составляет 4.0\n"
     ]
    }
   ],
   "source": [
    "print('Количество событий в выборке А в тесте recommender_system_test {}'.format(eventNameCountFinalA['count'].sum()))\n",
    "print('Количество человек в выборке А в тесте recommender_system_test {}'.format(eventsA['user_id'].nunique()))\n",
    "print('Количество событий на человека в выборке А в тесте recommender_system_test составляет {}'.format((eventNameCountFinalA['count'].sum()/eventsA['user_id'].nunique()).round(1)))"
   ]
  },
  {
   "cell_type": "code",
   "execution_count": 28,
   "metadata": {},
   "outputs": [
    {
     "name": "stdout",
     "output_type": "stream",
     "text": [
      "Количество событий в выборке B в тесте recommender_system_test 4481\n",
      "Количество человек в выборке B в тесте recommender_system_test 2877\n",
      "Количество событий на человека в выборке B  в тесте recommender_system_test составляет 1.6\n"
     ]
    }
   ],
   "source": [
    "print('Количество событий в выборке B в тесте recommender_system_test {}'.format(eventNameCountFinalB['count'].sum()))\n",
    "print('Количество человек в выборке B в тесте recommender_system_test {}'.format(eventsB['user_id'].nunique()))\n",
    "print('Количество событий на человека в выборке B  в тесте recommender_system_test составляет {}'.format((eventNameCountFinalB['count'].sum()/eventsB['user_id'].nunique()).round(1)))"
   ]
  },
  {
   "cell_type": "markdown",
   "metadata": {},
   "source": [
    "Посмотрим присутствуют ли в выборках одни и те же пользователи. Рассмотрим вначале сколько всего общих пользователей."
   ]
  },
  {
   "cell_type": "code",
   "execution_count": 29,
   "metadata": {},
   "outputs": [
    {
     "name": "stdout",
     "output_type": "stream",
     "text": [
      "Пользователей в двух пользовательских группах:  776\n",
      "Доля подобных пользователей в датафрейме eventsAB составляет: 1.3%\n",
      "Доля подобных пользователей в тесте recommender_system_test в датафрейме eventsAB составляет: 11.6%\n"
     ]
    }
   ],
   "source": [
    "usersInBoth = eventsAB.groupby('group',as_index = False).agg({'user_id':'unique'})\n",
    "usersInBoth = list(set(usersInBoth[usersInBoth['group'] == 'A']['user_id'][0]) &\n",
    "                   set(usersInBoth[usersInBoth['group'] == 'B']['user_id'][1]))\n",
    "print('Пользователей в двух пользовательских группах: ',len(usersInBoth))\n",
    "print('Доля подобных пользователей в датафрейме eventsAB составляет: {:.1%}'.format(len(usersInBoth)/eventsAB['user_id'].nunique()))\n",
    "print('Доля подобных пользователей в тесте recommender_system_test в датафрейме eventsAB составляет: {:.1%}'.format(len(usersInBoth)/eventsAB.query('ab_test == \"recommender_system_test\"')['user_id'].nunique()))"
   ]
  },
  {
   "cell_type": "markdown",
   "metadata": {},
   "source": [
    "Проверим сколько одинаковых пользователей в тесте recommender_system_test."
   ]
  },
  {
   "cell_type": "code",
   "execution_count": 30,
   "metadata": {},
   "outputs": [
    {
     "name": "stdout",
     "output_type": "stream",
     "text": [
      "Пользователей в двух пользовательских группах:  0\n"
     ]
    }
   ],
   "source": [
    "usersInBothSystem = eventsAB.query('ab_test == \"recommender_system_test\"').groupby('group',as_index = False).agg({'user_id':'unique'})\n",
    "usersInBothSystem = list(set(usersInBothSystem[usersInBothSystem['group'] == 'A']['user_id'][0]) &\n",
    "                   set(usersInBothSystem[usersInBothSystem['group'] == 'B']['user_id'][1]))\n",
    "print('Пользователей в двух пользовательских группах: ',len(usersInBothSystem))"
   ]
  },
  {
   "cell_type": "markdown",
   "metadata": {},
   "source": [
    "Не будет трогать подобные данные, так как нет ничего в этом критического, главное чтобы метки были сбалансированы."
   ]
  },
  {
   "cell_type": "markdown",
   "metadata": {},
   "source": [
    "###### Распределение событий по датам"
   ]
  },
  {
   "cell_type": "markdown",
   "metadata": {},
   "source": [
    "Затем распределим события по дням. Для этого построим график."
   ]
  },
  {
   "cell_type": "code",
   "execution_count": 31,
   "metadata": {},
   "outputs": [
    {
     "data": {
      "image/png": "[encoded data removed]",
      "text/plain": [
       "<Figure size 1440x720 with 1 Axes>"
      ]
     },
     "metadata": {
      "needs_background": "light"
     },
     "output_type": "display_data"
    }
   ],
   "source": [
    "#Группириуем данные по дате \n",
    "eventNumberCountA = finalEventsA.groupby('date').agg({'event_name': 'count'}).reset_index()\n",
    "eventNumberCountB = finalEventsB.groupby('date').agg({'event_name': 'count'}).reset_index()\n",
    "\n",
    "plt.figure(figsize=(20, 10))\n",
    "plt.title('Распределение событий по дням')\n",
    "plt.plot(eventNumberCountA['date'], eventNumberCountA['event_name'], label='A')\n",
    "plt.xlabel('Дата')\n",
    "plt.ylabel('Дата')\n",
    "     # Строим график выручки группы B\n",
    "plt.plot(eventNumberCountB['date'], eventNumberCountB['event_name'], label='B')\n",
    "    \n",
    "plt.legend();\n"
   ]
  },
  {
   "cell_type": "markdown",
   "metadata": {},
   "source": [
    "Как видно из графика по группе А наблюдается резкий всплеск с 13 декабря 2021 года и пика достигает 21 декабря 2021 года, затем идет резкое падение. Скорее всего здесь можно наблюдать определенные выбросы."
   ]
  },
  {
   "cell_type": "markdown",
   "metadata": {},
   "source": [
    "Теперь рассмотрим совпадал ли тест по времени с какими-нибудь маркетинговыми событиями. Для этого вычислим начало теста и конец его."
   ]
  },
  {
   "cell_type": "code",
   "execution_count": 32,
   "metadata": {},
   "outputs": [
    {
     "name": "stdout",
     "output_type": "stream",
     "text": [
      "Время начало проведение теста - 2020-12-07 00:00:33\n",
      "Время окончания теста - 2020-12-30 23:36:33\n"
     ]
    }
   ],
   "source": [
    "print('Время начало проведение теста -', events['event_dt'].min())\n",
    "print('Время окончания теста -', events['event_dt'].max())"
   ]
  },
  {
   "cell_type": "markdown",
   "metadata": {},
   "source": [
    "Посмотрим датафрейм с маркетинговыми мероприятиями."
   ]
  },
  {
   "cell_type": "code",
   "execution_count": 33,
   "metadata": {},
   "outputs": [
    {
     "data": {
      "text/html": [
       "<div>\n",
       "<style scoped>\n",
       "    .dataframe tbody tr th:only-of-type {\n",
       "        vertical-align: middle;\n",
       "    }\n",
       "\n",
       "    .dataframe tbody tr th {\n",
       "        vertical-align: top;\n",
       "    }\n",
       "\n",
       "    .dataframe thead th {\n",
       "        text-align: right;\n",
       "    }\n",
       "</style>\n",
       "<table border=\"1\" class=\"dataframe\">\n",
       "  <thead>\n",
       "    <tr style=\"text-align: right;\">\n",
       "      <th></th>\n",
       "      <th>name</th>\n",
       "      <th>regions</th>\n",
       "      <th>start_dt</th>\n",
       "      <th>finish_dt</th>\n",
       "    </tr>\n",
       "  </thead>\n",
       "  <tbody>\n",
       "    <tr>\n",
       "      <th>0</th>\n",
       "      <td>Christmas&amp;New Year Promo</td>\n",
       "      <td>EU, N.America</td>\n",
       "      <td>2020-12-25</td>\n",
       "      <td>2021-01-03</td>\n",
       "    </tr>\n",
       "    <tr>\n",
       "      <th>10</th>\n",
       "      <td>CIS New Year Gift Lottery</td>\n",
       "      <td>CIS</td>\n",
       "      <td>2020-12-30</td>\n",
       "      <td>2021-01-07</td>\n",
       "    </tr>\n",
       "  </tbody>\n",
       "</table>\n",
       "</div>"
      ],
      "text/plain": [
       "                         name        regions   start_dt  finish_dt\n",
       "0    Christmas&New Year Promo  EU, N.America 2020-12-25 2021-01-03\n",
       "10  CIS New Year Gift Lottery            CIS 2020-12-30 2021-01-07"
      ]
     },
     "execution_count": 33,
     "metadata": {},
     "output_type": "execute_result"
    }
   ],
   "source": [
    "marketing_events.query('start_dt > \"2020-12-01\"')"
   ]
  },
  {
   "cell_type": "markdown",
   "metadata": {},
   "source": [
    "В Европе и Северной Америке наблюдается с 25 декабря наблюдается Рождество и Новый год, а в СНГ страны готовятся к новогодним праздникам. Активность по тесту начало падать с 21 января 2021 года, но тест еще не закончился, однако он заходит на период длительной акции, что может помешать верному трактованию теста."
   ]
  },
  {
   "cell_type": "markdown",
   "metadata": {},
   "source": [
    "###### Региональная принадлежность пользователей. "
   ]
  },
  {
   "cell_type": "markdown",
   "metadata": {},
   "source": [
    "Рассмотрим региональную принадлежность пользователей для теста recommender_system_test. Исходя из данных видно что 94,7% новых пользователей составляют люди из EU, что является очень высоким показателем."
   ]
  },
  {
   "cell_type": "code",
   "execution_count": 34,
   "metadata": {},
   "outputs": [
    {
     "data": {
      "image/png": "[encoded data removed]",
      "text/plain": [
       "<Figure size 1296x720 with 1 Axes>"
      ]
     },
     "metadata": {},
     "output_type": "display_data"
    }
   ],
   "source": [
    "eventsABSystem =  eventsAB.query('ab_test == \"recommender_system_test\"')\n",
    "\n",
    "regionCount = eventsABSystem.groupby('region')['user_id'].agg({'nunique'}).reset_index()\n",
    "sns.set_style('darkgrid',#задаем стили графикам\n",
    "            {'axes.facecolor': '0.9',\n",
    "            'grid.color': '0.1',\n",
    "            'figure.facecolor': '0.95'})\n",
    "    \n",
    "plt.figure(figsize=(18,10))\n",
    "sns.barplot(data=regionCount, x='region', y='nunique')\n",
    "plt.title(\"Сумма расходов по источникам\")\n",
    "plt.xlabel(\"Источник\")\n",
    "plt.ylabel(\"Сумма расходов\");"
   ]
  },
  {
   "cell_type": "markdown",
   "metadata": {},
   "source": [
    "Рассмотрим распределение по группам, в целом из недостатков теста наблюдается перекос в сторону пользователей из EU, в группе A их 3634 человек, а в группе B - 2717 человек, что меньше на 917 человек."
   ]
  },
  {
   "cell_type": "code",
   "execution_count": 35,
   "metadata": {},
   "outputs": [
    {
     "data": {
      "text/html": [
       "<div>\n",
       "<style scoped>\n",
       "    .dataframe tbody tr th:only-of-type {\n",
       "        vertical-align: middle;\n",
       "    }\n",
       "\n",
       "    .dataframe tbody tr th {\n",
       "        vertical-align: top;\n",
       "    }\n",
       "\n",
       "    .dataframe thead th {\n",
       "        text-align: right;\n",
       "    }\n",
       "</style>\n",
       "<table border=\"1\" class=\"dataframe\">\n",
       "  <thead>\n",
       "    <tr style=\"text-align: right;\">\n",
       "      <th></th>\n",
       "      <th>region</th>\n",
       "      <th>group</th>\n",
       "      <th>nunique</th>\n",
       "    </tr>\n",
       "  </thead>\n",
       "  <tbody>\n",
       "    <tr>\n",
       "      <th>0</th>\n",
       "      <td>APAC</td>\n",
       "      <td>A</td>\n",
       "      <td>37</td>\n",
       "    </tr>\n",
       "    <tr>\n",
       "      <th>1</th>\n",
       "      <td>APAC</td>\n",
       "      <td>B</td>\n",
       "      <td>35</td>\n",
       "    </tr>\n",
       "    <tr>\n",
       "      <th>2</th>\n",
       "      <td>CIS</td>\n",
       "      <td>A</td>\n",
       "      <td>25</td>\n",
       "    </tr>\n",
       "    <tr>\n",
       "      <th>3</th>\n",
       "      <td>CIS</td>\n",
       "      <td>B</td>\n",
       "      <td>30</td>\n",
       "    </tr>\n",
       "    <tr>\n",
       "      <th>4</th>\n",
       "      <td>EU</td>\n",
       "      <td>A</td>\n",
       "      <td>3634</td>\n",
       "    </tr>\n",
       "    <tr>\n",
       "      <th>5</th>\n",
       "      <td>EU</td>\n",
       "      <td>B</td>\n",
       "      <td>2717</td>\n",
       "    </tr>\n",
       "    <tr>\n",
       "      <th>6</th>\n",
       "      <td>N.America</td>\n",
       "      <td>A</td>\n",
       "      <td>128</td>\n",
       "    </tr>\n",
       "    <tr>\n",
       "      <th>7</th>\n",
       "      <td>N.America</td>\n",
       "      <td>B</td>\n",
       "      <td>95</td>\n",
       "    </tr>\n",
       "  </tbody>\n",
       "</table>\n",
       "</div>"
      ],
      "text/plain": [
       "      region group  nunique\n",
       "0       APAC     A       37\n",
       "1       APAC     B       35\n",
       "2        CIS     A       25\n",
       "3        CIS     B       30\n",
       "4         EU     A     3634\n",
       "5         EU     B     2717\n",
       "6  N.America     A      128\n",
       "7  N.America     B       95"
      ]
     },
     "execution_count": 35,
     "metadata": {},
     "output_type": "execute_result"
    }
   ],
   "source": [
    "regionCountAB = eventsABSystem.groupby(['region', 'group'])['user_id'].agg({'nunique'}).reset_index()\n",
    "regionCountAB"
   ]
  },
  {
   "cell_type": "code",
   "execution_count": 36,
   "metadata": {},
   "outputs": [
    {
     "name": "stdout",
     "output_type": "stream",
     "text": [
      "Доля пользователей, попавших из региона EU 15.0%\n"
     ]
    }
   ],
   "source": [
    "# Код ревьюера\n",
    "usersRegionTest = eventsABSystem[eventsABSystem['region']== \"EU\"]['user_id'].nunique()\n",
    "usersRegionTotal = eventsAB[eventsAB['region']== \"EU\"].query(\"first_date <= '2020-12-21'\")['user_id'].nunique()\n",
    "\n",
    "print('Доля пользователей, попавших из региона EU {:.1%}'.format(usersRegionTest/usersRegionTotal))"
   ]
  },
  {
   "cell_type": "markdown",
   "metadata": {},
   "source": [
    "__Выводы:__\n",
    "- на основе полученной воронки можно сделать вывод, что много пользователей уходит после залогинивания и просмотра продукции. Меньше половины пользователей из всех переходит на покупку продукции.\n",
    "- графики по датам показывают нам, что изначально группа B вела по параметру количество событий на пользователя, однако ближе к Новому Году пользователи группы А резко обогнали группу B. \n",
    "- мы избавились от пользователей с аномально большой активностью и большой суммой покупок из объединенной группы, а именно избавились от необходимых выбросов."
   ]
  },
  {
   "cell_type": "markdown",
   "metadata": {},
   "source": [
    "Из недостатков к проведению теста можно выделить следующее:\n",
    "- тест совпал с Новогодними праздними и Рождеством в Европе, что сильно искажает результаты теста. На графиках распределения событий видно, что величины так и не установились, и начинается период долгих акций. Время, выбранное для теста, является скорее неудачным. \n",
    "- Пользователей в двух пользовательских группах составило 776 человек, если говорить о долях, то доля подобных пользователей в датафрейме eventsAB составляет: 1.3%,  а доля подобных пользователей в тесте recommender_system_test в датафрейме eventsAB составляет: 11.6%. Поэтому решено не выбрасывать эти данные.\n",
    "- с моей точки зрения аудитория сформирована не очень правильно, практически все из EU, разница между выборкой A и B большая, а именно в группу A вошло 3824 человек, а в группу 2877 человек, что больше на 24%, а оптимальная разница составляет 10%."
   ]
  },
  {
   "cell_type": "markdown",
   "metadata": {},
   "source": [
    "## 4. Проверка гипотез и анализ A/B теста <a name=\"research_analysis\"></a> "
   ]
  },
  {
   "cell_type": "markdown",
   "metadata": {},
   "source": [
    "Посчитаем сколько пользователей в каждой экспериментальной группе. Для этого создадим словарь, который выведет нам количество участников по каждом группе."
   ]
  },
  {
   "cell_type": "code",
   "execution_count": 37,
   "metadata": {},
   "outputs": [
    {
     "name": "stdout",
     "output_type": "stream",
     "text": [
      "В count_eventA находится 3824 человек\n",
      "В count_eventB находится 2877 человек\n"
     ]
    }
   ],
   "source": [
    "n_users = {\n",
    "           'count_eventA': eventsA['user_id'].nunique(), \n",
    "           'count_eventB': eventsB['user_id'].nunique(),\n",
    "           'count_regionA': eventsA['user_id'].nunique(), \n",
    "           'count_regionB': eventsB['user_id'].nunique(),\n",
    "          }\n",
    "\n",
    "groups = ['count_eventA', 'count_eventB']\n",
    "\n",
    "for g in groups:\n",
    "    print('В {} находится {} человек'.format(g, n_users[g]))"
   ]
  },
  {
   "cell_type": "markdown",
   "metadata": {},
   "source": [
    "Посчитаем количество событий по группе A и по группе B. Создадим сводную таблицу по каждой эксперементальной группе "
   ]
  },
  {
   "cell_type": "code",
   "execution_count": 38,
   "metadata": {},
   "outputs": [
    {
     "data": {
      "text/html": [
       "<div>\n",
       "<style scoped>\n",
       "    .dataframe tbody tr th:only-of-type {\n",
       "        vertical-align: middle;\n",
       "    }\n",
       "\n",
       "    .dataframe tbody tr th {\n",
       "        vertical-align: top;\n",
       "    }\n",
       "\n",
       "    .dataframe thead th {\n",
       "        text-align: right;\n",
       "    }\n",
       "</style>\n",
       "<table border=\"1\" class=\"dataframe\">\n",
       "  <thead>\n",
       "    <tr style=\"text-align: right;\">\n",
       "      <th></th>\n",
       "      <th>event_name</th>\n",
       "      <th>count_eventA</th>\n",
       "      <th>count_eventB</th>\n",
       "    </tr>\n",
       "  </thead>\n",
       "  <tbody>\n",
       "    <tr>\n",
       "      <th>0</th>\n",
       "      <td>login</td>\n",
       "      <td>2411</td>\n",
       "      <td>849</td>\n",
       "    </tr>\n",
       "    <tr>\n",
       "      <th>1</th>\n",
       "      <td>product_page</td>\n",
       "      <td>1506</td>\n",
       "      <td>459</td>\n",
       "    </tr>\n",
       "    <tr>\n",
       "      <th>2</th>\n",
       "      <td>product_cart</td>\n",
       "      <td>686</td>\n",
       "      <td>218</td>\n",
       "    </tr>\n",
       "    <tr>\n",
       "      <th>3</th>\n",
       "      <td>purchase</td>\n",
       "      <td>620</td>\n",
       "      <td>201</td>\n",
       "    </tr>\n",
       "  </tbody>\n",
       "</table>\n",
       "</div>"
      ],
      "text/plain": [
       "     event_name  count_eventA  count_eventB\n",
       "0         login          2411           849\n",
       "1  product_page          1506           459\n",
       "2  product_cart           686           218\n",
       "3      purchase           620           201"
      ]
     },
     "execution_count": 38,
     "metadata": {},
     "output_type": "execute_result"
    }
   ],
   "source": [
    "#Посчитаем количество событий по группе A\n",
    "eventNameCountFinalANun = finalEventsA.groupby('event_name')['user_id'].agg(['nunique']).reset_index().sort_values(by='nunique', ascending=False)\n",
    "#Посчитаем количество событий по группе B\n",
    "eventNameCountFinalBNun = finalEventsB.groupby('event_name')['user_id'].agg(['nunique']).reset_index().sort_values(by='nunique', ascending=False)\n",
    "\n",
    "eventNameCountAB = eventNameCountFinalANun.merge(eventNameCountFinalBNun, on='event_name')\n",
    "eventNameCountAB.columns=['event_name', 'count_eventA', 'count_eventB'] \n",
    "eventNameCountAB"
   ]
  },
  {
   "cell_type": "markdown",
   "metadata": {},
   "source": [
    "Нашей задачей является увеличение количества заказов, соответственно выручки. Поэтому сравним конверсии по действиям, то есть мы рассмотрим как у нас переходят пользователи с одной площадки воронки в следующую. Для этого мы по каждой группе найдем долю пользователей, которые  проходят на следующий шаг воронки.  Затем проведем __z-тест__. Для этого напишем функцию, которая будет нам проверять гипотезы о равенстве долей"
   ]
  },
  {
   "cell_type": "code",
   "execution_count": 39,
   "metadata": {},
   "outputs": [],
   "source": [
    "#Прописываем функцию, которая нам будет считать Z-текст\n",
    "def checking_z_value(alpha, data, first_group, second_group, row):\n",
    "    alpha = alpha # критический уровень статистической значимости\n",
    "    print('Нулевая гипотеза: отсутствует статистическая разница между долями группы ' + first_group + ' и группы ' + second_group) \n",
    "    print('')\n",
    "    print('Ненулевая гипотеза: присутствует статистическая разница между долями группы ' + first_group + ' и группы ' + second_group) \n",
    "    print('')\n",
    "    print(50*'-')\n",
    "    for i in data.index:\n",
    "        # пропорция успехов в первой группе:\n",
    "        p1 = data[first_group][i]/n_users[first_group]\n",
    "        \n",
    "        # пропорция успехов во второй группе:\n",
    "        p2 = data[second_group][i]/n_users[second_group]\n",
    "        # пропорция успехов в комбинированном датасете:\n",
    "        p_combined = (data[first_group][i] + data[second_group][i]) / (n_users[first_group] + n_users[second_group])\n",
    "        # разница пропорций в датасетах\n",
    "        difference = p1 - p2 \n",
    "\n",
    "        # считаем статистику в ст.отклонениях стандартного нормального распределения\n",
    "        z_value = difference / mth.sqrt(\n",
    "             p_combined * (1 - p_combined) * (1 / n_users[first_group] + 1 /  n_users[second_group])\n",
    "        )\n",
    "\n",
    "        # задаем стандартное нормальное распределение (среднее 0, ст.отклонение 1)\n",
    "        distr = st.norm(0, 1)\n",
    "\n",
    "        p_value = (1 - distr.cdf(abs(z_value))) * 2\n",
    "\n",
    "        print('{} p-значение: {}'.format(data[row][i], p_value))\n",
    " \n",
    "        if p_value < alpha:\n",
    "           print('Отвергаем нулевую гипотезу: между долями есть значимая разница')\n",
    "        else:\n",
    "            print(\n",
    "              'Не получилось отвергнуть нулевую гипотезу, нет оснований считать доли разными'\n",
    "             ) \n",
    "        print(50*'-')\n",
    "\n",
    "#Прописываем функцию, которая будет рисовать нам график воронки     \n",
    "def go_figure(data, first_group, second_group):\n",
    "        fig = go.Figure()\n",
    "\n",
    "        fig.add_trace(go.Funnel(\n",
    "            name = first_group,\n",
    "            y = data['event_name'],\n",
    "            x = data[first_group],\n",
    "            textposition = \"inside\",\n",
    "            textinfo = \"value+percent initial\",\n",
    "            connector = {\"fillcolor\": '#bde0eb'},\n",
    "            insidetextfont = {'color': 'white', 'size': 14}))\n",
    "\n",
    "        fig.add_trace(go.Funnel(\n",
    "             name = second_group,\n",
    "             y = data['event_name'],\n",
    "             x = data[second_group],\n",
    "             textposition = \"inside\",\n",
    "             textinfo = \"value+percent initial\",\n",
    "             connector = {\"fillcolor\": '#bde0eb'},\n",
    "             insidetextfont = {'color': 'white', 'size': 14}))\n",
    "        \n",
    "        fig.update_layout(\n",
    "            title={\n",
    "                'text':'Сравнение воронок по двум группам: ' + first_group + ' и ' + second_group,\n",
    "                'y':0.9,\n",
    "                'x':0.48})\n",
    "        fig.show(renderer='svg')"
   ]
  },
  {
   "cell_type": "markdown",
   "metadata": {},
   "source": [
    "Проверим, находят ли статистические критерии разницу между выборками группы A и B/"
   ]
  },
  {
   "cell_type": "code",
   "execution_count": 40,
   "metadata": {},
   "outputs": [
    {
     "name": "stdout",
     "output_type": "stream",
     "text": [
      "Нулевая гипотеза: отсутствует статистическая разница между долями группы count_eventA и группы count_eventB\n",
      "\n",
      "Ненулевая гипотеза: присутствует статистическая разница между долями группы count_eventA и группы count_eventB\n",
      "\n",
      "--------------------------------------------------\n",
      "login p-значение: 0.0\n",
      "Отвергаем нулевую гипотезу: между долями есть значимая разница\n",
      "--------------------------------------------------\n",
      "product_page p-значение: 0.0\n",
      "Отвергаем нулевую гипотезу: между долями есть значимая разница\n",
      "--------------------------------------------------\n",
      "product_cart p-значение: 0.0\n",
      "Отвергаем нулевую гипотезу: между долями есть значимая разница\n",
      "--------------------------------------------------\n",
      "purchase p-значение: 0.0\n",
      "Отвергаем нулевую гипотезу: между долями есть значимая разница\n",
      "--------------------------------------------------\n"
     ]
    },
    {
     "data": {
      "image/svg+xml": [
       "<svg class=\"main-svg\" xmlns=\"http://www.w3.org/2000/svg\" xmlns:xlink=\"http://www.w3.org/1999/xlink\" width=\"700\" height=\"500\" style=\"\" viewBox=\"0 0 700 500\"><rect x=\"0\" y=\"0\" width=\"700\" height=\"500\" style=\"fill: rgb(255, 255, 255); fill-opacity: 1;\"/><defs id=\"defs-534c7f\"><g class=\"clips\"><clipPath id=\"clip534c7fxyplot\" class=\"plotclip\"><rect width=\"454\" height=\"320\"/></clipPath><clipPath class=\"axesclip\" id=\"clip534c7fx\"><rect x=\"96\" y=\"0\" width=\"454\" height=\"500\"/></clipPath><clipPath class=\"axesclip\" id=\"clip534c7fy\"><rect x=\"0\" y=\"100\" width=\"700\" height=\"320\"/></clipPath><clipPath class=\"axesclip\" id=\"clip534c7fxy\"><rect x=\"96\" y=\"100\" width=\"454\" height=\"320\"/></clipPath></g><g class=\"gradients\"/><g class=\"patterns\"/></defs><g class=\"bglayer\"><rect class=\"bg\" x=\"96\" y=\"100\" width=\"454\" height=\"320\" style=\"fill: rgb(229, 236, 246); fill-opacity: 1; stroke-width: 0;\"/></g><g class=\"layer-below\"><g class=\"imagelayer\"/><g class=\"shapelayer\"/></g><g class=\"cartesianlayer\"><g class=\"subplot xy\"><g class=\"layer-subplot\"><g class=\"shapelayer\"/><g class=\"imagelayer\"/></g><g class=\"gridlayer\"><g class=\"x\"/><g class=\"y\"/></g><g class=\"zerolinelayer\"/><path class=\"xlines-below\"/><path class=\"ylines-below\"/><g class=\"overlines-below\"/><g class=\"xaxislayer-below\"/><g class=\"yaxislayer-below\"/><g class=\"overaxes-below\"/><g class=\"plot\" transform=\"translate(96,100)\" clip-path=\"url(#clip534c7fxyplot)\"><g class=\"funnellayer mlayer\"><g class=\"trace bars\" style=\"opacity: 1;\"><g class=\"regions\"><g class=\"region\"><path d=\"M22.7,72L103.86,88H292.61L324.89,72Z\" style=\"stroke-width: 0; fill: rgb(189, 224, 235); fill-opacity: 1;\"/></g><g class=\"region\"><path d=\"M103.86,152L170.35,168H256.33L292.61,152Z\" style=\"stroke-width: 0; fill: rgb(189, 224, 235); fill-opacity: 1;\"/></g><g class=\"region\"><path d=\"M170.35,232L175.55,248H253.26L256.33,232Z\" style=\"stroke-width: 0; fill: rgb(189, 224, 235); fill-opacity: 1;\"/></g><g class=\"region\"><path d=\"M0,0Z\" style=\"stroke-width: 0; fill: rgb(189, 224, 235); fill-opacity: 1;\"/></g></g><g class=\"points\"><g class=\"point\"><path d=\"M22.7,8V72H324.89V8Z\" style=\"vector-effect: non-scaling-stroke; fill: rgb(99, 110, 250); fill-opacity: 1; stroke: rgb(68, 68, 68); stroke-opacity: 1; stroke-width: 0px; opacity: 1;\"/><text class=\"bartext bartext-inside\" text-anchor=\"middle\" data-notex=\"1\" x=\"0\" y=\"0\" style=\"font-family: 'Open Sans', verdana, arial, sans-serif; font-size: 14px; fill: rgb(255, 255, 255); fill-opacity: 1; white-space: pre;\" transform=\"translate(173.795,36.3984375)\"><tspan class=\"line\" dy=\"0em\" x=\"0\" y=\"0\">2411</tspan><tspan class=\"line\" dy=\"1.3em\" x=\"0\" y=\"0\">100%</tspan></text></g><g class=\"point\"><path d=\"M103.86,88V152H292.61V88Z\" style=\"vector-effect: non-scaling-stroke; fill: rgb(99, 110, 250); fill-opacity: 1; stroke: rgb(68, 68, 68); stroke-opacity: 1; stroke-width: 0px; opacity: 1;\"/><text class=\"bartext bartext-inside\" text-anchor=\"middle\" data-notex=\"1\" x=\"0\" y=\"0\" style=\"font-family: 'Open Sans', verdana, arial, sans-serif; font-size: 14px; fill: rgb(255, 255, 255); fill-opacity: 1; white-space: pre;\" transform=\"translate(198.188125,116.3984375)\"><tspan class=\"line\" dy=\"0em\" x=\"0\" y=\"0\">1506</tspan><tspan class=\"line\" dy=\"1.3em\" x=\"0\" y=\"0\">62%</tspan></text></g><g class=\"point\"><path d=\"M170.35,168V232H256.33V168Z\" style=\"vector-effect: non-scaling-stroke; fill: rgb(99, 110, 250); fill-opacity: 1; stroke: rgb(68, 68, 68); stroke-opacity: 1; stroke-width: 0px; opacity: 1;\"/><text class=\"bartext bartext-inside\" text-anchor=\"middle\" data-notex=\"1\" x=\"0\" y=\"0\" style=\"font-family: 'Open Sans', verdana, arial, sans-serif; font-size: 14px; fill: rgb(255, 255, 255); fill-opacity: 1; white-space: pre;\" transform=\"translate(213.33999999999997,196.3984375)\"><tspan class=\"line\" dy=\"0em\" x=\"0\" y=\"0\">686</tspan><tspan class=\"line\" dy=\"1.3em\" x=\"0\" y=\"0\">28%</tspan></text></g><g class=\"point\"><path d=\"M175.55,248V312H253.26V248Z\" style=\"vector-effect: non-scaling-stroke; fill: rgb(99, 110, 250); fill-opacity: 1; stroke: rgb(68, 68, 68); stroke-opacity: 1; stroke-width: 0px; opacity: 1;\"/><text class=\"bartext bartext-inside\" text-anchor=\"middle\" data-notex=\"1\" x=\"0\" y=\"0\" style=\"font-family: 'Open Sans', verdana, arial, sans-serif; font-size: 14px; fill: rgb(255, 255, 255); fill-opacity: 1; white-space: pre;\" transform=\"translate(214.405,276.3984375)\"><tspan class=\"line\" dy=\"0em\" x=\"0\" y=\"0\">620</tspan><tspan class=\"line\" dy=\"1.3em\" x=\"0\" y=\"0\">26%</tspan></text></g></g></g><g class=\"trace bars\" style=\"opacity: 1;\"><g class=\"regions\"><g class=\"region\"><path d=\"M324.89,72L292.61,88H350.14L431.3,72Z\" style=\"stroke-width: 0; fill: rgb(189, 224, 235); fill-opacity: 1;\"/></g><g class=\"region\"><path d=\"M292.61,152L256.33,168H283.65L350.14,152Z\" style=\"stroke-width: 0; fill: rgb(189, 224, 235); fill-opacity: 1;\"/></g><g class=\"region\"><path d=\"M256.33,232L253.26,248H278.45L283.65,232Z\" style=\"stroke-width: 0; fill: rgb(189, 224, 235); fill-opacity: 1;\"/></g><g class=\"region\"><path d=\"M0,0Z\" style=\"stroke-width: 0; fill: rgb(189, 224, 235); fill-opacity: 1;\"/></g></g><g class=\"points\"><g class=\"point\"><path d=\"M324.89,8V72H431.3V8Z\" style=\"vector-effect: non-scaling-stroke; fill: rgb(239, 85, 59); fill-opacity: 1; stroke: rgb(68, 68, 68); stroke-opacity: 1; stroke-width: 0px; opacity: 1;\"/><text class=\"bartext bartext-inside\" text-anchor=\"middle\" data-notex=\"1\" x=\"0\" y=\"0\" style=\"font-family: 'Open Sans', verdana, arial, sans-serif; font-size: 14px; fill: rgb(255, 255, 255); fill-opacity: 1; white-space: pre;\" transform=\"translate(378.095,36.3984375)\"><tspan class=\"line\" dy=\"0em\" x=\"0\" y=\"0\">849</tspan><tspan class=\"line\" dy=\"1.3em\" x=\"0\" y=\"0\">100%</tspan></text></g><g class=\"point\"><path d=\"M292.61,88V152H350.14V88Z\" style=\"vector-effect: non-scaling-stroke; fill: rgb(239, 85, 59); fill-opacity: 1; stroke: rgb(68, 68, 68); stroke-opacity: 1; stroke-width: 0px; opacity: 1;\"/><text class=\"bartext bartext-inside\" text-anchor=\"middle\" data-notex=\"1\" x=\"0\" y=\"0\" style=\"font-family: 'Open Sans', verdana, arial, sans-serif; font-size: 14px; fill: rgb(255, 255, 255); fill-opacity: 1; white-space: pre;\" transform=\"translate(321.375,116.3984375)\"><tspan class=\"line\" dy=\"0em\" x=\"0\" y=\"0\">459</tspan><tspan class=\"line\" dy=\"1.3em\" x=\"0\" y=\"0\">54%</tspan></text></g><g class=\"point\"><path d=\"M256.33,168V232H283.65V168Z\" style=\"vector-effect: non-scaling-stroke; fill: rgb(239, 85, 59); fill-opacity: 1; stroke: rgb(68, 68, 68); stroke-opacity: 1; stroke-width: 0px; opacity: 1;\"/><text class=\"bartext bartext-inside\" text-anchor=\"middle\" data-notex=\"1\" x=\"0\" y=\"0\" style=\"font-family: 'Open Sans', verdana, arial, sans-serif; font-size: 14px; fill: rgb(255, 255, 255); fill-opacity: 1; white-space: pre;\" transform=\"translate(269.99,197.66432509505702)scale(0.6485171102661594)\"><tspan class=\"line\" dy=\"0em\" x=\"0\" y=\"0\">218</tspan><tspan class=\"line\" dy=\"1.3em\" x=\"0\" y=\"0\">26%</tspan></text></g><g class=\"point\"><path d=\"M253.26,248V312H278.45V248Z\" style=\"vector-effect: non-scaling-stroke; fill: rgb(239, 85, 59); fill-opacity: 1; stroke: rgb(68, 68, 68); stroke-opacity: 1; stroke-width: 0px; opacity: 1;\"/><text class=\"bartext bartext-inside\" text-anchor=\"middle\" data-notex=\"1\" x=\"0\" y=\"0\" style=\"font-family: 'Open Sans', verdana, arial, sans-serif; font-size: 14px; fill: rgb(255, 255, 255); fill-opacity: 1; white-space: pre;\" transform=\"translate(265.855,277.8976734790875)scale(0.5837262357414448)\"><tspan class=\"line\" dy=\"0em\" x=\"0\" y=\"0\">201</tspan><tspan class=\"line\" dy=\"1.3em\" x=\"0\" y=\"0\">24%</tspan></text></g></g></g></g></g><g class=\"overplot\"/><path class=\"xlines-above crisp\" d=\"M0,0\" style=\"fill: none;\"/><path class=\"ylines-above crisp\" d=\"M0,0\" style=\"fill: none;\"/><g class=\"overlines-above\"/><g class=\"xaxislayer-above\"/><g class=\"yaxislayer-above\"><g class=\"ytick\"><text text-anchor=\"end\" x=\"95\" y=\"4.199999999999999\" transform=\"translate(0,380)\" style=\"font-family: 'Open Sans', verdana, arial, sans-serif; font-size: 12px; fill: rgb(42, 63, 95); fill-opacity: 1; white-space: pre; opacity: 1;\">purchase</text></g><g class=\"ytick\"><text text-anchor=\"end\" x=\"95\" y=\"4.199999999999999\" transform=\"translate(0,300)\" style=\"font-family: 'Open Sans', verdana, arial, sans-serif; font-size: 12px; fill: rgb(42, 63, 95); fill-opacity: 1; white-space: pre; opacity: 1;\">product_cart</text></g><g class=\"ytick\"><text text-anchor=\"end\" x=\"95\" y=\"4.199999999999999\" transform=\"translate(0,220)\" style=\"font-family: 'Open Sans', verdana, arial, sans-serif; font-size: 12px; fill: rgb(42, 63, 95); fill-opacity: 1; white-space: pre; opacity: 1;\">product_page</text></g><g class=\"ytick\"><text text-anchor=\"end\" x=\"95\" y=\"4.199999999999999\" transform=\"translate(0,140)\" style=\"font-family: 'Open Sans', verdana, arial, sans-serif; font-size: 12px; fill: rgb(42, 63, 95); fill-opacity: 1; white-space: pre; opacity: 1;\">login</text></g></g><g class=\"overaxes-above\"/></g></g><g class=\"polarlayer\"/><g class=\"ternarylayer\"/><g class=\"geolayer\"/><g class=\"funnelarealayer\"/><g class=\"pielayer\"/><g class=\"iciclelayer\"/><g class=\"treemaplayer\"/><g class=\"sunburstlayer\"/><g class=\"glimages\"/><defs id=\"topdefs-534c7f\"><g class=\"clips\"/><clipPath id=\"legend534c7f\"><rect width=\"129\" height=\"48\" x=\"0\" y=\"0\"/></clipPath></defs><g class=\"layer-above\"><g class=\"imagelayer\"/><g class=\"shapelayer\"/></g><g class=\"infolayer\"><g class=\"legend\" pointer-events=\"all\" transform=\"translate(559.0799999999999,100)\"><rect class=\"bg\" shape-rendering=\"crispEdges\" style=\"stroke: rgb(68, 68, 68); stroke-opacity: 1; fill: rgb(255, 255, 255); fill-opacity: 1; stroke-width: 0px;\" width=\"129\" height=\"48\" x=\"0\" y=\"0\"/><g class=\"scrollbox\" transform=\"\" clip-path=\"url(#legend534c7f)\"><g class=\"groups\"><g class=\"traces\" transform=\"translate(0,14.5)\" style=\"opacity: 1;\"><text class=\"legendtext\" text-anchor=\"start\" x=\"40\" y=\"4.680000000000001\" style=\"font-family: 'Open Sans', verdana, arial, sans-serif; font-size: 12px; fill: rgb(42, 63, 95); fill-opacity: 1; white-space: pre;\">count_eventA</text><g class=\"layers\" style=\"opacity: 1;\"><g class=\"legendfill\"/><g class=\"legendlines\"/><g class=\"legendsymbols\"><g class=\"legendpoints\"><path class=\"legendfunnel\" d=\"M6,6H-6V-6H6Z\" transform=\"translate(20,0)\" style=\"stroke-width: 0px; fill: rgb(99, 110, 250); fill-opacity: 1;\"/></g></g></g><rect class=\"legendtoggle\" x=\"0\" y=\"-9.5\" width=\"123.703125\" height=\"19\" style=\"fill: rgb(0, 0, 0); fill-opacity: 0;\"/></g><g class=\"traces\" transform=\"translate(0,33.5)\" style=\"opacity: 1;\"><text class=\"legendtext\" text-anchor=\"start\" x=\"40\" y=\"4.680000000000001\" style=\"font-family: 'Open Sans', verdana, arial, sans-serif; font-size: 12px; fill: rgb(42, 63, 95); fill-opacity: 1; white-space: pre;\">count_eventB</text><g class=\"layers\" style=\"opacity: 1;\"><g class=\"legendfill\"/><g class=\"legendlines\"/><g class=\"legendsymbols\"><g class=\"legendpoints\"><path class=\"legendfunnel\" d=\"M6,6H-6V-6H6Z\" transform=\"translate(20,0)\" style=\"stroke-width: 0px; fill: rgb(239, 85, 59); fill-opacity: 1;\"/></g></g></g><rect class=\"legendtoggle\" x=\"0\" y=\"-9.5\" width=\"123.703125\" height=\"19\" style=\"fill: rgb(0, 0, 0); fill-opacity: 0;\"/></g></g></g><rect class=\"scrollbar\" rx=\"20\" ry=\"3\" width=\"0\" height=\"0\" style=\"fill: rgb(128, 139, 164); fill-opacity: 1;\" x=\"0\" y=\"0\"/></g><g class=\"g-gtitle\"><text class=\"gtitle\" x=\"336\" y=\"50\" text-anchor=\"middle\" dy=\"0.7em\" style=\"font-family: 'Open Sans', verdana, arial, sans-serif; font-size: 17px; fill: rgb(42, 63, 95); opacity: 1; font-weight: normal; white-space: pre;\">Сравнение воронок по двум группам: count_eventA и count_eventB</text></g><g class=\"g-ytitle\"/></g></svg>"
      ]
     },
     "metadata": {},
     "output_type": "display_data"
    }
   ],
   "source": [
    "checking_z_value(0.05, eventNameCountAB, 'count_eventA', 'count_eventB', 'event_name')\n",
    "go_figure(eventNameCountAB,'count_eventA', 'count_eventB')"
   ]
  },
  {
   "cell_type": "markdown",
   "metadata": {},
   "source": [
    "По всем показателям p-value нулевой, что связано с тем, что огромная часть участников в группе B не совершали ни одного действия. Поэтому везде доли будут разными. "
   ]
  },
  {
   "cell_type": "markdown",
   "metadata": {},
   "source": [
    "Посчитаем долю по регионам на основе Z-теста. Для этого также создадим два массива по группе A и группе B в разрезе регионов."
   ]
  },
  {
   "cell_type": "code",
   "execution_count": 41,
   "metadata": {},
   "outputs": [],
   "source": [
    "regionCountA = finalEventsA.groupby('region')['user_id'].agg({'nunique'}).reset_index()\n",
    "regionCountB = finalEventsB.groupby('region')['user_id'].agg({'nunique'}).reset_index()\n",
    "regionNameCountAB = regionCountA.merge(regionCountB, on='region')\n",
    "regionNameCountAB.columns=['region', 'count_regionA', 'count_regionB'] "
   ]
  },
  {
   "cell_type": "code",
   "execution_count": 42,
   "metadata": {},
   "outputs": [
    {
     "name": "stdout",
     "output_type": "stream",
     "text": [
      "Нулевая гипотеза: отсутствует статистическая разница между долями группы count_regionA и группы count_regionB\n",
      "\n",
      "Ненулевая гипотеза: присутствует статистическая разница между долями группы count_regionA и группы count_regionB\n",
      "\n",
      "--------------------------------------------------\n",
      "APAC p-значение: 0.27625247433391675\n",
      "Не получилось отвергнуть нулевую гипотезу, нет оснований считать доли разными\n",
      "--------------------------------------------------\n",
      "CIS p-значение: 0.059917463730778664\n",
      "Не получилось отвергнуть нулевую гипотезу, нет оснований считать доли разными\n",
      "--------------------------------------------------\n",
      "EU p-значение: 2.6447954937225404e-11\n",
      "Отвергаем нулевую гипотезу: между долями есть значимая разница\n",
      "--------------------------------------------------\n",
      "N.America p-значение: 0.7197066530503817\n",
      "Не получилось отвергнуть нулевую гипотезу, нет оснований считать доли разными\n",
      "--------------------------------------------------\n"
     ]
    }
   ],
   "source": [
    "checking_z_value(0.05, regionNameCountAB, 'count_regionA', 'count_regionB', 'region')"
   ]
  },
  {
   "cell_type": "markdown",
   "metadata": {},
   "source": [
    "По всем рассматриваемым регионам значимая разница отсутствует за исключением EU, здесь была отвергнута нулевая гипотеза, то есть между долями существует значимая разница."
   ]
  },
  {
   "cell_type": "markdown",
   "metadata": {},
   "source": [
    "## 5. Выводы проекта <a name=\"conclusion\"></a> "
   ]
  },
  {
   "cell_type": "markdown",
   "metadata": {},
   "source": [
    "Исходя из проведенного анализа сделаем следующие выводы:\n",
    "- перед анализом данных, мы подготовили наши данные, так в некоторых столбцах у нас были заменены все пропущенные значения, а также удалены дубликаты. Изменен тип данных по некоторым столбцам из объекта в дату.\n",
    "- на основе полученной воронки можно сделать вывод, что много пользователей уходит после залогинивания и просмотра продукции. Меньше половины пользователей из всех переходит на покупку продукции.\n",
    "- графики по датам показывают нам, что изначально группа B вела по параметру количество событий на пользователя, однако ближе к Новому Году пользователи группы А резко обогнали группу B. Это можно объяснить резкой потребностью товаров в это время, что сильно искажает результаты теста. На этих графиках видно, что величины так и не установились, и начинается период долгих акций. Время, выбранное для теста, является скорее неудачным. \n",
    "- мы избавились от пользователей с аномально большой активностью и большой суммой покупок из объединенной группы, а именно избавились от необходимых выбросов.\n",
    "-  По проведенным двум проверкам гипотез мы  можем сделать вывод, что по долям событий везде между долями наблюдается значительная разница, а по долям региона, только по региону EU существует значительная разница.\n",
    "\n",
    "В целом вряд ли можно назвать тест достоверным, так как тест совпал с Новогодними праздними и Рождеством в Европе, что сильно могло исказить результат, а также с моей точки зрения аудитория сформирована не очень правильно, практически все из EU, разница между выборкой A и B большая, а именно в группу A вошло 3824 человек, а в группу 2877 человек, что больше на 24%, а оптимальная разница составляет 10%, плюс Z-тест показал существенную разницу между долями в EU. Также между долями событий все p-value  являются нулевыми, что связано с тем, что огромная часть участников в группе B не совершали ни одного действия. "
   ]
  }
 ],
 "metadata": {
  "ExecuteTimeLog": [
   {
    "duration": 1365,
    "start_time": "2021-07-13T13:39:32.071Z"
   },
   {
    "duration": 2466,
    "start_time": "2021-07-13T13:39:33.439Z"
   },
   {
    "duration": 4,
    "start_time": "2021-07-13T13:39:35.909Z"
   },
   {
    "duration": 411,
    "start_time": "2021-07-13T13:39:35.917Z"
   },
   {
    "duration": 411,
    "start_time": "2021-07-13T13:39:36.331Z"
   },
   {
    "duration": 90,
    "start_time": "2021-07-13T13:39:36.744Z"
   },
   {
    "duration": 4,
    "start_time": "2021-07-13T13:39:36.837Z"
   },
   {
    "duration": 192,
    "start_time": "2021-07-13T13:39:36.843Z"
   },
   {
    "duration": 303,
    "start_time": "2021-07-13T13:39:37.038Z"
   },
   {
    "duration": 718,
    "start_time": "2021-07-13T13:40:46.641Z"
   },
   {
    "duration": 4,
    "start_time": "2021-07-13T13:40:48.829Z"
   },
   {
    "duration": 327,
    "start_time": "2021-07-13T13:40:49.334Z"
   },
   {
    "duration": 359,
    "start_time": "2021-07-13T19:11:21.597Z"
   },
   {
    "duration": 1401,
    "start_time": "2021-07-13T19:11:28.726Z"
   },
   {
    "duration": 754,
    "start_time": "2021-07-13T19:11:30.130Z"
   },
   {
    "duration": 4,
    "start_time": "2021-07-13T19:11:30.887Z"
   },
   {
    "duration": 372,
    "start_time": "2021-07-13T19:11:30.894Z"
   },
   {
    "duration": 406,
    "start_time": "2021-07-13T19:11:31.268Z"
   },
   {
    "duration": 88,
    "start_time": "2021-07-13T19:11:31.677Z"
   },
   {
    "duration": 4,
    "start_time": "2021-07-13T19:11:31.767Z"
   },
   {
    "duration": 172,
    "start_time": "2021-07-13T19:11:31.773Z"
   },
   {
    "duration": 270,
    "start_time": "2021-07-13T19:11:31.948Z"
   },
   {
    "duration": 23,
    "start_time": "2021-07-13T19:19:55.629Z"
   },
   {
    "duration": 8980,
    "start_time": "2021-07-13T19:24:01.742Z"
   },
   {
    "duration": 1631,
    "start_time": "2021-07-13T19:25:53.540Z"
   },
   {
    "duration": 1540,
    "start_time": "2021-07-13T19:26:03.816Z"
   },
   {
    "duration": 1559,
    "start_time": "2021-07-13T19:26:21.387Z"
   },
   {
    "duration": 1640,
    "start_time": "2021-07-13T19:26:36.733Z"
   },
   {
    "duration": 2256,
    "start_time": "2021-07-13T19:27:28.093Z"
   },
   {
    "duration": 2007,
    "start_time": "2021-07-13T19:27:43.468Z"
   },
   {
    "duration": 1610,
    "start_time": "2021-07-13T19:27:58.583Z"
   },
   {
    "duration": 4,
    "start_time": "2021-07-13T19:51:26.076Z"
   },
   {
    "duration": 845,
    "start_time": "2021-07-13T19:51:26.451Z"
   },
   {
    "duration": 4,
    "start_time": "2021-07-13T19:51:27.299Z"
   },
   {
    "duration": 382,
    "start_time": "2021-07-13T19:51:27.342Z"
   },
   {
    "duration": 351,
    "start_time": "2021-07-13T19:51:27.804Z"
   },
   {
    "duration": 72,
    "start_time": "2021-07-13T19:51:28.302Z"
   },
   {
    "duration": 4,
    "start_time": "2021-07-13T19:51:28.708Z"
   },
   {
    "duration": 158,
    "start_time": "2021-07-13T19:51:29.187Z"
   },
   {
    "duration": 269,
    "start_time": "2021-07-13T19:51:30.594Z"
   },
   {
    "duration": 913,
    "start_time": "2021-07-13T21:13:32.443Z"
   },
   {
    "duration": 494,
    "start_time": "2021-07-13T21:13:33.358Z"
   },
   {
    "duration": 2,
    "start_time": "2021-07-13T21:13:33.856Z"
   },
   {
    "duration": 212,
    "start_time": "2021-07-13T21:13:33.859Z"
   },
   {
    "duration": 266,
    "start_time": "2021-07-13T21:13:34.072Z"
   },
   {
    "duration": 59,
    "start_time": "2021-07-13T21:13:34.339Z"
   },
   {
    "duration": 3,
    "start_time": "2021-07-13T21:13:34.400Z"
   },
   {
    "duration": 116,
    "start_time": "2021-07-13T21:13:34.404Z"
   },
   {
    "duration": 192,
    "start_time": "2021-07-13T21:13:34.522Z"
   },
   {
    "duration": 49,
    "start_time": "2021-07-13T21:15:20.844Z"
   },
   {
    "duration": 101,
    "start_time": "2021-07-13T21:15:47.440Z"
   },
   {
    "duration": 35,
    "start_time": "2021-07-13T21:16:01.012Z"
   },
   {
    "duration": 937,
    "start_time": "2021-07-13T21:39:36.517Z"
   },
   {
    "duration": 499,
    "start_time": "2021-07-13T21:39:37.456Z"
   },
   {
    "duration": 3,
    "start_time": "2021-07-13T21:39:37.957Z"
   },
   {
    "duration": 209,
    "start_time": "2021-07-13T21:39:37.962Z"
   },
   {
    "duration": 279,
    "start_time": "2021-07-13T21:39:38.173Z"
   },
   {
    "duration": 65,
    "start_time": "2021-07-13T21:39:38.454Z"
   },
   {
    "duration": 3,
    "start_time": "2021-07-13T21:39:38.521Z"
   },
   {
    "duration": 116,
    "start_time": "2021-07-13T21:39:38.526Z"
   },
   {
    "duration": 137,
    "start_time": "2021-07-13T21:39:38.644Z"
   },
   {
    "duration": 147,
    "start_time": "2021-07-13T21:41:40.436Z"
   },
   {
    "duration": 14,
    "start_time": "2021-07-13T21:41:46.226Z"
   },
   {
    "duration": 152,
    "start_time": "2021-07-13T21:42:05.466Z"
   },
   {
    "duration": 306,
    "start_time": "2021-07-13T21:42:34.898Z"
   },
   {
    "duration": 50,
    "start_time": "2021-07-13T21:42:42.778Z"
   },
   {
    "duration": 51,
    "start_time": "2021-07-13T21:42:51.682Z"
   },
   {
    "duration": 572,
    "start_time": "2021-07-13T21:45:51.718Z"
   },
   {
    "duration": 81,
    "start_time": "2021-07-13T21:46:00.016Z"
   },
   {
    "duration": 5184,
    "start_time": "2021-07-13T21:46:10.706Z"
   },
   {
    "duration": 855,
    "start_time": "2021-07-13T21:46:38.901Z"
   },
   {
    "duration": 307,
    "start_time": "2021-07-13T21:49:01.628Z"
   },
   {
    "duration": 333,
    "start_time": "2021-07-13T21:50:23.684Z"
   },
   {
    "duration": 201,
    "start_time": "2021-07-13T21:50:29.234Z"
   },
   {
    "duration": 7,
    "start_time": "2021-07-13T21:58:21.761Z"
   },
   {
    "duration": 434,
    "start_time": "2021-07-13T21:58:36.575Z"
   },
   {
    "duration": 310,
    "start_time": "2021-07-13T22:05:11.552Z"
   },
   {
    "duration": 218,
    "start_time": "2021-07-13T22:05:16.564Z"
   },
   {
    "duration": 5,
    "start_time": "2021-07-13T22:05:25.241Z"
   },
   {
    "duration": 226,
    "start_time": "2021-07-13T22:05:35.274Z"
   },
   {
    "duration": 3,
    "start_time": "2021-07-13T22:05:46.370Z"
   },
   {
    "duration": 7,
    "start_time": "2021-07-13T22:05:57.693Z"
   },
   {
    "duration": 5,
    "start_time": "2021-07-13T22:06:55.630Z"
   },
   {
    "duration": 225,
    "start_time": "2021-07-13T22:07:51.953Z"
   },
   {
    "duration": 242,
    "start_time": "2021-07-13T22:08:01.291Z"
   },
   {
    "duration": 156,
    "start_time": "2021-07-13T22:08:10.650Z"
   },
   {
    "duration": 9,
    "start_time": "2021-07-13T22:08:16.929Z"
   },
   {
    "duration": 11,
    "start_time": "2021-07-13T22:08:32.020Z"
   },
   {
    "duration": 17,
    "start_time": "2021-07-13T22:09:34.780Z"
   },
   {
    "duration": 79,
    "start_time": "2021-07-13T22:09:50.832Z"
   },
   {
    "duration": 101,
    "start_time": "2021-07-13T22:09:59.306Z"
   },
   {
    "duration": 73,
    "start_time": "2021-07-13T22:10:05.000Z"
   },
   {
    "duration": 17,
    "start_time": "2021-07-13T22:10:12.234Z"
   },
   {
    "duration": 243,
    "start_time": "2021-07-13T22:10:33.419Z"
   },
   {
    "duration": 17,
    "start_time": "2021-07-13T22:10:41.986Z"
   },
   {
    "duration": 15,
    "start_time": "2021-07-13T22:11:28.944Z"
   },
   {
    "duration": 15,
    "start_time": "2021-07-13T22:11:41.612Z"
   },
   {
    "duration": 13,
    "start_time": "2021-07-13T22:14:13.386Z"
   },
   {
    "duration": 5,
    "start_time": "2021-07-13T22:14:31.917Z"
   },
   {
    "duration": 13,
    "start_time": "2021-07-13T22:14:46.048Z"
   },
   {
    "duration": 158,
    "start_time": "2021-07-13T22:15:49.953Z"
   },
   {
    "duration": 146,
    "start_time": "2021-07-13T22:15:53.756Z"
   },
   {
    "duration": 30,
    "start_time": "2021-07-13T22:15:54.279Z"
   },
   {
    "duration": 461,
    "start_time": "2021-07-13T22:15:54.830Z"
   },
   {
    "duration": 443,
    "start_time": "2021-07-13T22:15:56.002Z"
   },
   {
    "duration": 9,
    "start_time": "2021-07-13T22:16:00.803Z"
   },
   {
    "duration": 6,
    "start_time": "2021-07-13T22:16:01.602Z"
   },
   {
    "duration": 6,
    "start_time": "2021-07-13T22:16:04.222Z"
   },
   {
    "duration": 13,
    "start_time": "2021-07-13T22:19:16.900Z"
   },
   {
    "duration": 7,
    "start_time": "2021-07-13T22:19:21.870Z"
   },
   {
    "duration": 15,
    "start_time": "2021-07-13T22:21:14.442Z"
   },
   {
    "duration": 12,
    "start_time": "2021-07-13T22:22:22.968Z"
   },
   {
    "duration": 7,
    "start_time": "2021-07-13T22:22:31.592Z"
   },
   {
    "duration": 992,
    "start_time": "2021-07-14T07:13:40.263Z"
   },
   {
    "duration": 541,
    "start_time": "2021-07-14T07:13:41.257Z"
   },
   {
    "duration": 3,
    "start_time": "2021-07-14T07:13:41.799Z"
   },
   {
    "duration": 242,
    "start_time": "2021-07-14T07:13:41.805Z"
   },
   {
    "duration": 285,
    "start_time": "2021-07-14T07:13:42.048Z"
   },
   {
    "duration": 61,
    "start_time": "2021-07-14T07:13:42.335Z"
   },
   {
    "duration": 3,
    "start_time": "2021-07-14T07:13:42.398Z"
   },
   {
    "duration": 121,
    "start_time": "2021-07-14T07:13:42.403Z"
   },
   {
    "duration": 165,
    "start_time": "2021-07-14T07:13:42.525Z"
   },
   {
    "duration": 25,
    "start_time": "2021-07-14T07:13:42.692Z"
   },
   {
    "duration": 1188,
    "start_time": "2021-07-14T07:13:42.718Z"
   },
   {
    "duration": 334,
    "start_time": "2021-07-14T07:13:43.907Z"
   },
   {
    "duration": 9,
    "start_time": "2021-07-14T07:13:44.242Z"
   },
   {
    "duration": 6,
    "start_time": "2021-07-14T07:13:44.252Z"
   },
   {
    "duration": 28,
    "start_time": "2021-07-14T07:13:44.260Z"
   },
   {
    "duration": 10,
    "start_time": "2021-07-14T07:13:44.289Z"
   },
   {
    "duration": 3,
    "start_time": "2021-07-14T08:12:46.521Z"
   },
   {
    "duration": 43,
    "start_time": "2021-07-14T08:13:16.441Z"
   },
   {
    "duration": 43,
    "start_time": "2021-07-14T08:13:22.130Z"
   },
   {
    "duration": 82,
    "start_time": "2021-07-14T08:13:34.064Z"
   },
   {
    "duration": 39,
    "start_time": "2021-07-14T08:13:38.970Z"
   },
   {
    "duration": 25,
    "start_time": "2021-07-14T08:14:15.938Z"
   },
   {
    "duration": 369,
    "start_time": "2021-07-14T08:14:37.769Z"
   },
   {
    "duration": 38,
    "start_time": "2021-07-14T08:15:02.912Z"
   },
   {
    "duration": 52,
    "start_time": "2021-07-14T08:15:30.450Z"
   },
   {
    "duration": 41,
    "start_time": "2021-07-14T08:15:52.096Z"
   },
   {
    "duration": 63,
    "start_time": "2021-07-14T08:16:37.407Z"
   },
   {
    "duration": 22,
    "start_time": "2021-07-14T08:16:45.200Z"
   },
   {
    "duration": 24,
    "start_time": "2021-07-14T08:16:57.448Z"
   },
   {
    "duration": 40,
    "start_time": "2021-07-14T09:02:32.320Z"
   },
   {
    "duration": 25,
    "start_time": "2021-07-14T09:02:32.928Z"
   },
   {
    "duration": 5387,
    "start_time": "2021-07-14T09:23:14.013Z"
   },
   {
    "duration": 587,
    "start_time": "2021-07-14T09:23:29.690Z"
   },
   {
    "duration": 10,
    "start_time": "2021-07-14T09:35:56.900Z"
   },
   {
    "duration": 58,
    "start_time": "2021-07-14T09:36:01.148Z"
   },
   {
    "duration": 347,
    "start_time": "2021-07-14T09:36:37.315Z"
   },
   {
    "duration": 652,
    "start_time": "2021-07-14T09:38:12.915Z"
   },
   {
    "duration": 316,
    "start_time": "2021-07-14T10:46:11.412Z"
   },
   {
    "duration": 516,
    "start_time": "2021-07-14T12:38:24.808Z"
   },
   {
    "duration": 478,
    "start_time": "2021-07-14T12:38:38.117Z"
   },
   {
    "duration": 453,
    "start_time": "2021-07-14T12:38:43.974Z"
   },
   {
    "duration": 329,
    "start_time": "2021-07-14T12:38:44.736Z"
   },
   {
    "duration": 1065,
    "start_time": "2021-07-14T12:38:45.679Z"
   },
   {
    "duration": 1062,
    "start_time": "2021-07-14T12:39:10.350Z"
   },
   {
    "duration": 1060,
    "start_time": "2021-07-14T12:39:22.618Z"
   },
   {
    "duration": 461,
    "start_time": "2021-07-14T12:39:41.152Z"
   },
   {
    "duration": 194,
    "start_time": "2021-07-14T12:39:43.238Z"
   },
   {
    "duration": 5632,
    "start_time": "2021-07-14T12:40:02.366Z"
   },
   {
    "duration": 250,
    "start_time": "2021-07-14T12:40:17.448Z"
   },
   {
    "duration": 182,
    "start_time": "2021-07-14T12:40:26.798Z"
   },
   {
    "duration": 180,
    "start_time": "2021-07-14T12:40:44.263Z"
   },
   {
    "duration": 1225,
    "start_time": "2021-07-14T12:41:17.827Z"
   },
   {
    "duration": 535,
    "start_time": "2021-07-14T12:41:19.053Z"
   },
   {
    "duration": 3,
    "start_time": "2021-07-14T12:41:19.592Z"
   },
   {
    "duration": 244,
    "start_time": "2021-07-14T12:41:19.596Z"
   },
   {
    "duration": 321,
    "start_time": "2021-07-14T12:41:19.842Z"
   },
   {
    "duration": 69,
    "start_time": "2021-07-14T12:41:20.165Z"
   },
   {
    "duration": 4,
    "start_time": "2021-07-14T12:41:20.237Z"
   },
   {
    "duration": 133,
    "start_time": "2021-07-14T12:41:20.243Z"
   },
   {
    "duration": 183,
    "start_time": "2021-07-14T12:41:20.378Z"
   },
   {
    "duration": 36,
    "start_time": "2021-07-14T12:41:20.563Z"
   },
   {
    "duration": 951,
    "start_time": "2021-07-14T12:41:20.600Z"
   },
   {
    "duration": 359,
    "start_time": "2021-07-14T12:41:21.552Z"
   },
   {
    "duration": 9,
    "start_time": "2021-07-14T12:41:21.912Z"
   },
   {
    "duration": 15,
    "start_time": "2021-07-14T12:41:21.923Z"
   },
   {
    "duration": 65,
    "start_time": "2021-07-14T12:41:21.940Z"
   },
   {
    "duration": 23,
    "start_time": "2021-07-14T12:41:22.007Z"
   },
   {
    "duration": 343,
    "start_time": "2021-07-14T12:41:22.032Z"
   },
   {
    "duration": -44,
    "start_time": "2021-07-14T12:41:22.421Z"
   },
   {
    "duration": -45,
    "start_time": "2021-07-14T12:41:22.423Z"
   },
   {
    "duration": 14,
    "start_time": "2021-07-14T13:03:22.517Z"
   },
   {
    "duration": 375,
    "start_time": "2021-07-14T13:03:50.744Z"
   },
   {
    "duration": 186,
    "start_time": "2021-07-14T13:04:59.262Z"
   },
   {
    "duration": 227,
    "start_time": "2021-07-14T13:07:07.917Z"
   },
   {
    "duration": 383,
    "start_time": "2021-07-14T13:07:17.429Z"
   },
   {
    "duration": 505,
    "start_time": "2021-07-14T13:07:50.750Z"
   },
   {
    "duration": 1311,
    "start_time": "2021-07-14T15:26:46.115Z"
   },
   {
    "duration": 579,
    "start_time": "2021-07-14T15:26:47.430Z"
   },
   {
    "duration": 3,
    "start_time": "2021-07-14T15:26:48.014Z"
   },
   {
    "duration": 266,
    "start_time": "2021-07-14T15:26:48.019Z"
   },
   {
    "duration": 311,
    "start_time": "2021-07-14T15:26:48.287Z"
   },
   {
    "duration": 58,
    "start_time": "2021-07-14T15:26:48.599Z"
   },
   {
    "duration": 3,
    "start_time": "2021-07-14T15:26:48.659Z"
   },
   {
    "duration": 137,
    "start_time": "2021-07-14T15:26:48.664Z"
   },
   {
    "duration": 197,
    "start_time": "2021-07-14T15:26:48.802Z"
   },
   {
    "duration": 28,
    "start_time": "2021-07-14T15:26:49.001Z"
   },
   {
    "duration": 969,
    "start_time": "2021-07-14T15:26:49.030Z"
   },
   {
    "duration": 366,
    "start_time": "2021-07-14T15:26:50.000Z"
   },
   {
    "duration": 18,
    "start_time": "2021-07-14T15:26:50.367Z"
   },
   {
    "duration": 7,
    "start_time": "2021-07-14T15:26:50.387Z"
   },
   {
    "duration": 57,
    "start_time": "2021-07-14T15:26:50.395Z"
   },
   {
    "duration": 40,
    "start_time": "2021-07-14T15:26:50.454Z"
   },
   {
    "duration": 396,
    "start_time": "2021-07-14T15:26:50.495Z"
   },
   {
    "duration": 522,
    "start_time": "2021-07-14T15:27:21.926Z"
   },
   {
    "duration": 16,
    "start_time": "2021-07-14T15:36:13.846Z"
   },
   {
    "duration": 326,
    "start_time": "2021-07-14T15:36:23.324Z"
   },
   {
    "duration": 17,
    "start_time": "2021-07-14T15:36:32.236Z"
   },
   {
    "duration": 37,
    "start_time": "2021-07-14T15:38:21.286Z"
   },
   {
    "duration": 34,
    "start_time": "2021-07-14T15:38:55.242Z"
   },
   {
    "duration": 224,
    "start_time": "2021-07-14T15:39:12.686Z"
   },
   {
    "duration": 40,
    "start_time": "2021-07-14T15:39:23.160Z"
   },
   {
    "duration": 196,
    "start_time": "2021-07-14T15:39:57.165Z"
   },
   {
    "duration": 281,
    "start_time": "2021-07-14T15:41:34.390Z"
   },
   {
    "duration": 426,
    "start_time": "2021-07-14T15:41:46.380Z"
   },
   {
    "duration": 5,
    "start_time": "2021-07-14T15:42:24.124Z"
   },
   {
    "duration": 198,
    "start_time": "2021-07-14T15:47:24.597Z"
   },
   {
    "duration": 36,
    "start_time": "2021-07-14T15:47:37.349Z"
   },
   {
    "duration": 38,
    "start_time": "2021-07-14T15:48:04.283Z"
   },
   {
    "duration": 193,
    "start_time": "2021-07-14T15:48:31.693Z"
   },
   {
    "duration": 421,
    "start_time": "2021-07-14T15:48:58.391Z"
   },
   {
    "duration": 5,
    "start_time": "2021-07-14T15:49:16.829Z"
   },
   {
    "duration": 61,
    "start_time": "2021-07-14T15:59:32.184Z"
   },
   {
    "duration": 71,
    "start_time": "2021-07-14T17:44:31.058Z"
   },
   {
    "duration": 6,
    "start_time": "2021-07-14T17:45:14.469Z"
   },
   {
    "duration": 9,
    "start_time": "2021-07-14T17:45:21.229Z"
   },
   {
    "duration": 8,
    "start_time": "2021-07-14T17:47:53.688Z"
   },
   {
    "duration": 183,
    "start_time": "2021-07-14T17:48:04.865Z"
   },
   {
    "duration": 7,
    "start_time": "2021-07-14T17:48:17.499Z"
   },
   {
    "duration": 5,
    "start_time": "2021-07-14T17:48:19.104Z"
   },
   {
    "duration": 5005,
    "start_time": "2021-07-14T17:50:09.364Z"
   },
   {
    "duration": 4845,
    "start_time": "2021-07-14T17:50:23.128Z"
   },
   {
    "duration": 1428,
    "start_time": "2021-07-14T17:50:56.102Z"
   },
   {
    "duration": 544,
    "start_time": "2021-07-14T17:50:57.532Z"
   },
   {
    "duration": 3,
    "start_time": "2021-07-14T17:50:58.078Z"
   },
   {
    "duration": 227,
    "start_time": "2021-07-14T17:50:58.082Z"
   },
   {
    "duration": 277,
    "start_time": "2021-07-14T17:50:58.311Z"
   },
   {
    "duration": 57,
    "start_time": "2021-07-14T17:50:58.590Z"
   },
   {
    "duration": 2,
    "start_time": "2021-07-14T17:50:58.649Z"
   },
   {
    "duration": 131,
    "start_time": "2021-07-14T17:50:58.653Z"
   },
   {
    "duration": 178,
    "start_time": "2021-07-14T17:50:58.787Z"
   },
   {
    "duration": 28,
    "start_time": "2021-07-14T17:50:58.967Z"
   },
   {
    "duration": 891,
    "start_time": "2021-07-14T17:50:58.997Z"
   },
   {
    "duration": 347,
    "start_time": "2021-07-14T17:50:59.890Z"
   },
   {
    "duration": 9,
    "start_time": "2021-07-14T17:51:00.239Z"
   },
   {
    "duration": 8,
    "start_time": "2021-07-14T17:51:00.249Z"
   },
   {
    "duration": 63,
    "start_time": "2021-07-14T17:51:00.259Z"
   },
   {
    "duration": 24,
    "start_time": "2021-07-14T17:51:00.323Z"
   },
   {
    "duration": 394,
    "start_time": "2021-07-14T17:51:00.349Z"
   },
   {
    "duration": 44,
    "start_time": "2021-07-14T17:51:00.745Z"
   },
   {
    "duration": 335,
    "start_time": "2021-07-14T17:51:00.790Z"
   },
   {
    "duration": 406,
    "start_time": "2021-07-14T17:51:01.127Z"
   },
   {
    "duration": 5,
    "start_time": "2021-07-14T17:51:01.534Z"
   },
   {
    "duration": 55,
    "start_time": "2021-07-14T17:51:01.540Z"
   },
   {
    "duration": 211,
    "start_time": "2021-07-14T17:51:01.597Z"
   },
   {
    "duration": 404,
    "start_time": "2021-07-14T17:51:01.809Z"
   },
   {
    "duration": 5,
    "start_time": "2021-07-14T17:51:02.214Z"
   },
   {
    "duration": 7,
    "start_time": "2021-07-14T17:51:02.221Z"
   },
   {
    "duration": 4635,
    "start_time": "2021-07-14T17:51:02.231Z"
   },
   {
    "duration": 6,
    "start_time": "2021-07-14T17:51:17.329Z"
   },
   {
    "duration": 14,
    "start_time": "2021-07-14T17:52:27.085Z"
   },
   {
    "duration": 15,
    "start_time": "2021-07-14T17:52:31.825Z"
   },
   {
    "duration": 370,
    "start_time": "2021-07-14T17:56:15.883Z"
   },
   {
    "duration": 2,
    "start_time": "2021-07-14T17:56:53.579Z"
   },
   {
    "duration": 24,
    "start_time": "2021-07-14T17:58:37.834Z"
   },
   {
    "duration": 61,
    "start_time": "2021-07-14T18:01:36.064Z"
   },
   {
    "duration": 193,
    "start_time": "2021-07-14T18:01:44.604Z"
   },
   {
    "duration": 209,
    "start_time": "2021-07-14T18:02:06.936Z"
   },
   {
    "duration": 25,
    "start_time": "2021-07-14T18:02:24.514Z"
   },
   {
    "duration": 28,
    "start_time": "2021-07-14T18:02:31.286Z"
   },
   {
    "duration": 25,
    "start_time": "2021-07-14T18:03:26.919Z"
   },
   {
    "duration": 29,
    "start_time": "2021-07-14T18:03:33.355Z"
   },
   {
    "duration": 25,
    "start_time": "2021-07-14T18:03:46.014Z"
   },
   {
    "duration": 62,
    "start_time": "2021-07-14T18:05:34.204Z"
   },
   {
    "duration": 191,
    "start_time": "2021-07-14T18:05:40.786Z"
   },
   {
    "duration": 9,
    "start_time": "2021-07-14T18:05:44.865Z"
   },
   {
    "duration": 352,
    "start_time": "2021-07-14T18:05:45.736Z"
   },
   {
    "duration": 7,
    "start_time": "2021-07-14T18:10:40.777Z"
   },
   {
    "duration": 16,
    "start_time": "2021-07-14T18:14:22.849Z"
   },
   {
    "duration": 6,
    "start_time": "2021-07-14T18:14:39.274Z"
   },
   {
    "duration": 7,
    "start_time": "2021-07-14T18:15:38.327Z"
   },
   {
    "duration": 80,
    "start_time": "2021-07-14T18:16:43.808Z"
   },
   {
    "duration": 9,
    "start_time": "2021-07-14T18:16:55.979Z"
   },
   {
    "duration": 1042,
    "start_time": "2021-07-14T18:17:00.201Z"
   },
   {
    "duration": 9,
    "start_time": "2021-07-14T18:18:07.013Z"
   },
   {
    "duration": 381,
    "start_time": "2021-07-14T18:18:14.016Z"
   },
   {
    "duration": 26,
    "start_time": "2021-07-14T18:18:25.354Z"
   },
   {
    "duration": 7,
    "start_time": "2021-07-14T18:18:25.884Z"
   },
   {
    "duration": 10,
    "start_time": "2021-07-14T18:18:26.631Z"
   },
   {
    "duration": 356,
    "start_time": "2021-07-14T18:18:27.512Z"
   },
   {
    "duration": 7,
    "start_time": "2021-07-14T18:18:51.754Z"
   },
   {
    "duration": 25,
    "start_time": "2021-07-14T18:19:00.697Z"
   },
   {
    "duration": 8,
    "start_time": "2021-07-14T18:19:01.164Z"
   },
   {
    "duration": 1260,
    "start_time": "2021-07-14T18:19:53.989Z"
   },
   {
    "duration": 521,
    "start_time": "2021-07-14T18:19:55.250Z"
   },
   {
    "duration": 2,
    "start_time": "2021-07-14T18:19:55.773Z"
   },
   {
    "duration": 243,
    "start_time": "2021-07-14T18:19:55.777Z"
   },
   {
    "duration": 281,
    "start_time": "2021-07-14T18:19:56.022Z"
   },
   {
    "duration": 57,
    "start_time": "2021-07-14T18:19:56.305Z"
   },
   {
    "duration": 3,
    "start_time": "2021-07-14T18:19:56.364Z"
   },
   {
    "duration": 114,
    "start_time": "2021-07-14T18:19:56.384Z"
   },
   {
    "duration": 163,
    "start_time": "2021-07-14T18:19:56.500Z"
   },
   {
    "duration": 33,
    "start_time": "2021-07-14T18:19:56.665Z"
   },
   {
    "duration": 907,
    "start_time": "2021-07-14T18:19:56.699Z"
   },
   {
    "duration": 333,
    "start_time": "2021-07-14T18:19:57.607Z"
   },
   {
    "duration": 10,
    "start_time": "2021-07-14T18:19:57.942Z"
   },
   {
    "duration": 7,
    "start_time": "2021-07-14T18:19:57.954Z"
   },
   {
    "duration": 63,
    "start_time": "2021-07-14T18:19:57.962Z"
   },
   {
    "duration": 24,
    "start_time": "2021-07-14T18:19:58.027Z"
   },
   {
    "duration": 420,
    "start_time": "2021-07-14T18:19:58.053Z"
   },
   {
    "duration": 44,
    "start_time": "2021-07-14T18:19:58.475Z"
   },
   {
    "duration": 338,
    "start_time": "2021-07-14T18:19:58.521Z"
   },
   {
    "duration": 431,
    "start_time": "2021-07-14T18:19:58.861Z"
   },
   {
    "duration": 4,
    "start_time": "2021-07-14T18:19:59.294Z"
   },
   {
    "duration": 39,
    "start_time": "2021-07-14T18:19:59.300Z"
   },
   {
    "duration": 221,
    "start_time": "2021-07-14T18:19:59.340Z"
   },
   {
    "duration": 422,
    "start_time": "2021-07-14T18:19:59.562Z"
   },
   {
    "duration": 5,
    "start_time": "2021-07-14T18:19:59.986Z"
   },
   {
    "duration": 7,
    "start_time": "2021-07-14T18:19:59.992Z"
   },
   {
    "duration": 24,
    "start_time": "2021-07-14T18:20:00.002Z"
   },
   {
    "duration": 26,
    "start_time": "2021-07-14T18:20:00.028Z"
   },
   {
    "duration": 30,
    "start_time": "2021-07-14T18:20:00.055Z"
   },
   {
    "duration": 8,
    "start_time": "2021-07-14T18:20:00.087Z"
   },
   {
    "duration": 520,
    "start_time": "2021-07-14T18:20:00.097Z"
   },
   {
    "duration": 24,
    "start_time": "2021-07-14T18:20:36.416Z"
   },
   {
    "duration": 176,
    "start_time": "2021-07-14T18:20:36.834Z"
   },
   {
    "duration": 8,
    "start_time": "2021-07-14T18:20:37.349Z"
   },
   {
    "duration": 353,
    "start_time": "2021-07-14T18:20:39.670Z"
   },
   {
    "duration": 3,
    "start_time": "2021-07-14T18:20:56.718Z"
   },
   {
    "duration": 5116,
    "start_time": "2021-07-14T18:21:00.175Z"
   },
   {
    "duration": 9,
    "start_time": "2021-07-14T18:21:18.636Z"
   },
   {
    "duration": 9,
    "start_time": "2021-07-14T18:21:19.261Z"
   },
   {
    "duration": 124,
    "start_time": "2021-07-14T18:22:13.309Z"
   },
   {
    "duration": 9,
    "start_time": "2021-07-14T18:22:35.746Z"
   },
   {
    "duration": 1306,
    "start_time": "2021-07-14T18:22:41.985Z"
   },
   {
    "duration": 537,
    "start_time": "2021-07-14T18:22:43.293Z"
   },
   {
    "duration": 3,
    "start_time": "2021-07-14T18:22:43.832Z"
   },
   {
    "duration": 230,
    "start_time": "2021-07-14T18:22:43.837Z"
   },
   {
    "duration": 273,
    "start_time": "2021-07-14T18:22:44.085Z"
   },
   {
    "duration": 67,
    "start_time": "2021-07-14T18:22:44.360Z"
   },
   {
    "duration": 3,
    "start_time": "2021-07-14T18:22:44.429Z"
   },
   {
    "duration": 125,
    "start_time": "2021-07-14T18:22:44.434Z"
   },
   {
    "duration": 175,
    "start_time": "2021-07-14T18:22:44.562Z"
   },
   {
    "duration": 27,
    "start_time": "2021-07-14T18:22:44.740Z"
   },
   {
    "duration": 895,
    "start_time": "2021-07-14T18:22:44.769Z"
   },
   {
    "duration": 344,
    "start_time": "2021-07-14T18:22:45.665Z"
   },
   {
    "duration": 10,
    "start_time": "2021-07-14T18:22:46.011Z"
   },
   {
    "duration": 6,
    "start_time": "2021-07-14T18:22:46.022Z"
   },
   {
    "duration": 69,
    "start_time": "2021-07-14T18:22:46.030Z"
   },
   {
    "duration": 23,
    "start_time": "2021-07-14T18:22:46.100Z"
   },
   {
    "duration": 394,
    "start_time": "2021-07-14T18:22:46.124Z"
   },
   {
    "duration": 39,
    "start_time": "2021-07-14T18:22:46.520Z"
   },
   {
    "duration": 342,
    "start_time": "2021-07-14T18:22:46.561Z"
   },
   {
    "duration": 415,
    "start_time": "2021-07-14T18:22:46.905Z"
   },
   {
    "duration": 5,
    "start_time": "2021-07-14T18:22:47.322Z"
   },
   {
    "duration": 41,
    "start_time": "2021-07-14T18:22:47.329Z"
   },
   {
    "duration": 207,
    "start_time": "2021-07-14T18:22:47.384Z"
   },
   {
    "duration": 414,
    "start_time": "2021-07-14T18:22:47.593Z"
   },
   {
    "duration": 5,
    "start_time": "2021-07-14T18:22:48.009Z"
   },
   {
    "duration": 12,
    "start_time": "2021-07-14T18:22:48.015Z"
   },
   {
    "duration": 12,
    "start_time": "2021-07-14T18:22:48.030Z"
   },
   {
    "duration": 45,
    "start_time": "2021-07-14T18:22:48.044Z"
   },
   {
    "duration": 9,
    "start_time": "2021-07-14T18:22:48.091Z"
   },
   {
    "duration": 10,
    "start_time": "2021-07-14T18:22:48.102Z"
   },
   {
    "duration": 142,
    "start_time": "2021-07-14T18:22:48.114Z"
   },
   {
    "duration": 3,
    "start_time": "2021-07-14T18:23:06.697Z"
   },
   {
    "duration": 2,
    "start_time": "2021-07-14T18:23:25.050Z"
   },
   {
    "duration": 507,
    "start_time": "2021-07-14T18:24:31.890Z"
   },
   {
    "duration": 57,
    "start_time": "2021-07-14T18:32:31.850Z"
   },
   {
    "duration": 66,
    "start_time": "2021-07-14T18:34:26.199Z"
   },
   {
    "duration": 1274,
    "start_time": "2021-07-14T18:39:50.165Z"
   },
   {
    "duration": 1198,
    "start_time": "2021-07-14T18:39:58.044Z"
   },
   {
    "duration": 545,
    "start_time": "2021-07-14T18:39:59.244Z"
   },
   {
    "duration": 3,
    "start_time": "2021-07-14T18:39:59.791Z"
   },
   {
    "duration": 243,
    "start_time": "2021-07-14T18:39:59.795Z"
   },
   {
    "duration": 297,
    "start_time": "2021-07-14T18:40:00.040Z"
   },
   {
    "duration": 65,
    "start_time": "2021-07-14T18:40:00.338Z"
   },
   {
    "duration": 3,
    "start_time": "2021-07-14T18:40:00.404Z"
   },
   {
    "duration": 134,
    "start_time": "2021-07-14T18:40:00.409Z"
   },
   {
    "duration": 189,
    "start_time": "2021-07-14T18:40:00.545Z"
   },
   {
    "duration": 26,
    "start_time": "2021-07-14T18:40:00.735Z"
   },
   {
    "duration": 949,
    "start_time": "2021-07-14T18:40:00.763Z"
   },
   {
    "duration": 345,
    "start_time": "2021-07-14T18:40:01.714Z"
   },
   {
    "duration": 9,
    "start_time": "2021-07-14T18:40:02.061Z"
   },
   {
    "duration": 11,
    "start_time": "2021-07-14T18:40:02.085Z"
   },
   {
    "duration": 64,
    "start_time": "2021-07-14T18:40:02.098Z"
   },
   {
    "duration": 23,
    "start_time": "2021-07-14T18:40:02.164Z"
   },
   {
    "duration": 395,
    "start_time": "2021-07-14T18:40:02.189Z"
   },
   {
    "duration": 39,
    "start_time": "2021-07-14T18:40:02.587Z"
   },
   {
    "duration": 336,
    "start_time": "2021-07-14T18:40:02.627Z"
   },
   {
    "duration": 428,
    "start_time": "2021-07-14T18:40:02.965Z"
   },
   {
    "duration": 5,
    "start_time": "2021-07-14T18:40:03.395Z"
   },
   {
    "duration": 38,
    "start_time": "2021-07-14T18:40:03.401Z"
   },
   {
    "duration": 214,
    "start_time": "2021-07-14T18:40:03.442Z"
   },
   {
    "duration": 436,
    "start_time": "2021-07-14T18:40:03.658Z"
   },
   {
    "duration": 4,
    "start_time": "2021-07-14T18:40:04.096Z"
   },
   {
    "duration": 10,
    "start_time": "2021-07-14T18:40:04.101Z"
   },
   {
    "duration": 11,
    "start_time": "2021-07-14T18:40:04.113Z"
   },
   {
    "duration": 24,
    "start_time": "2021-07-14T18:40:04.126Z"
   },
   {
    "duration": 6,
    "start_time": "2021-07-14T18:40:04.151Z"
   },
   {
    "duration": 8,
    "start_time": "2021-07-14T18:40:04.186Z"
   },
   {
    "duration": 130,
    "start_time": "2021-07-14T18:40:04.196Z"
   },
   {
    "duration": 60,
    "start_time": "2021-07-14T18:44:38.265Z"
   },
   {
    "duration": 64,
    "start_time": "2021-07-14T18:44:58.029Z"
   },
   {
    "duration": 3,
    "start_time": "2021-07-14T18:45:09.616Z"
   },
   {
    "duration": 3,
    "start_time": "2021-07-14T18:45:21.236Z"
   },
   {
    "duration": 58,
    "start_time": "2021-07-14T18:46:09.121Z"
   },
   {
    "duration": 58,
    "start_time": "2021-07-14T18:46:18.870Z"
   },
   {
    "duration": 5,
    "start_time": "2021-07-14T18:46:31.458Z"
   },
   {
    "duration": 340,
    "start_time": "2021-07-14T18:47:36.216Z"
   },
   {
    "duration": 5,
    "start_time": "2021-07-14T18:47:43.056Z"
   },
   {
    "duration": 468,
    "start_time": "2021-07-14T18:47:44.941Z"
   },
   {
    "duration": 344,
    "start_time": "2021-07-14T18:48:55.344Z"
   },
   {
    "duration": 5,
    "start_time": "2021-07-14T18:49:09.873Z"
   },
   {
    "duration": 781,
    "start_time": "2021-07-14T18:49:18.334Z"
   },
   {
    "duration": 5,
    "start_time": "2021-07-14T18:50:09.841Z"
   },
   {
    "duration": 481,
    "start_time": "2021-07-14T18:50:17.430Z"
   },
   {
    "duration": 5,
    "start_time": "2021-07-14T18:50:49.520Z"
   },
   {
    "duration": 575,
    "start_time": "2021-07-14T18:50:50.025Z"
   },
   {
    "duration": 5,
    "start_time": "2021-07-14T18:50:57.572Z"
   },
   {
    "duration": 797,
    "start_time": "2021-07-14T18:50:59.352Z"
   },
   {
    "duration": 62,
    "start_time": "2021-07-14T18:51:52.388Z"
   },
   {
    "duration": 5,
    "start_time": "2021-07-14T18:52:02.891Z"
   },
   {
    "duration": 466,
    "start_time": "2021-07-14T18:52:05.747Z"
   },
   {
    "duration": 5,
    "start_time": "2021-07-14T18:52:15.648Z"
   },
   {
    "duration": 811,
    "start_time": "2021-07-14T18:52:17.353Z"
   },
   {
    "duration": 58,
    "start_time": "2021-07-14T18:54:51.923Z"
   },
   {
    "duration": 5,
    "start_time": "2021-07-14T18:57:14.880Z"
   },
   {
    "duration": 950,
    "start_time": "2021-07-14T18:57:16.615Z"
   },
   {
    "duration": 6,
    "start_time": "2021-07-14T18:58:34.979Z"
   },
   {
    "duration": 818,
    "start_time": "2021-07-14T18:58:38.131Z"
   },
   {
    "duration": 5,
    "start_time": "2021-07-14T18:59:09.556Z"
   },
   {
    "duration": 859,
    "start_time": "2021-07-14T18:59:11.361Z"
   },
   {
    "duration": 5,
    "start_time": "2021-07-14T18:59:31.458Z"
   },
   {
    "duration": 343,
    "start_time": "2021-07-14T18:59:32.312Z"
   },
   {
    "duration": 5,
    "start_time": "2021-07-14T18:59:43.360Z"
   },
   {
    "duration": 935,
    "start_time": "2021-07-14T18:59:45.131Z"
   },
   {
    "duration": 1228,
    "start_time": "2021-07-14T21:00:35.524Z"
   },
   {
    "duration": 549,
    "start_time": "2021-07-14T21:00:36.754Z"
   },
   {
    "duration": 3,
    "start_time": "2021-07-14T21:00:37.306Z"
   },
   {
    "duration": 234,
    "start_time": "2021-07-14T21:00:37.311Z"
   },
   {
    "duration": 300,
    "start_time": "2021-07-14T21:00:37.548Z"
   },
   {
    "duration": 69,
    "start_time": "2021-07-14T21:00:37.851Z"
   },
   {
    "duration": 3,
    "start_time": "2021-07-14T21:00:37.922Z"
   },
   {
    "duration": 129,
    "start_time": "2021-07-14T21:00:37.927Z"
   },
   {
    "duration": 177,
    "start_time": "2021-07-14T21:00:38.059Z"
   },
   {
    "duration": 33,
    "start_time": "2021-07-14T21:00:38.238Z"
   },
   {
    "duration": 14,
    "start_time": "2021-07-14T21:00:38.273Z"
   },
   {
    "duration": 1234,
    "start_time": "2021-07-14T21:00:38.288Z"
   },
   {
    "duration": 10,
    "start_time": "2021-07-14T21:00:39.524Z"
   },
   {
    "duration": 6,
    "start_time": "2021-07-14T21:00:39.535Z"
   },
   {
    "duration": 70,
    "start_time": "2021-07-14T21:00:39.543Z"
   },
   {
    "duration": 25,
    "start_time": "2021-07-14T21:00:39.615Z"
   },
   {
    "duration": 404,
    "start_time": "2021-07-14T21:00:39.641Z"
   },
   {
    "duration": 52,
    "start_time": "2021-07-14T21:00:40.046Z"
   },
   {
    "duration": 345,
    "start_time": "2021-07-14T21:00:40.099Z"
   },
   {
    "duration": 440,
    "start_time": "2021-07-14T21:00:40.446Z"
   },
   {
    "duration": 5,
    "start_time": "2021-07-14T21:00:40.888Z"
   },
   {
    "duration": 37,
    "start_time": "2021-07-14T21:00:40.894Z"
   },
   {
    "duration": 209,
    "start_time": "2021-07-14T21:00:40.932Z"
   },
   {
    "duration": 429,
    "start_time": "2021-07-14T21:00:41.143Z"
   },
   {
    "duration": 13,
    "start_time": "2021-07-14T21:00:41.574Z"
   },
   {
    "duration": 9,
    "start_time": "2021-07-14T21:00:41.588Z"
   },
   {
    "duration": 12,
    "start_time": "2021-07-14T21:00:41.600Z"
   },
   {
    "duration": 24,
    "start_time": "2021-07-14T21:00:41.614Z"
   },
   {
    "duration": 6,
    "start_time": "2021-07-14T21:00:41.639Z"
   },
   {
    "duration": 8,
    "start_time": "2021-07-14T21:00:41.647Z"
   },
   {
    "duration": 151,
    "start_time": "2021-07-14T21:00:41.656Z"
   },
   {
    "duration": 1243,
    "start_time": "2021-07-14T21:04:01.828Z"
   },
   {
    "duration": 560,
    "start_time": "2021-07-14T21:04:03.073Z"
   },
   {
    "duration": 3,
    "start_time": "2021-07-14T21:04:03.635Z"
   },
   {
    "duration": 226,
    "start_time": "2021-07-14T21:04:03.640Z"
   },
   {
    "duration": 299,
    "start_time": "2021-07-14T21:04:03.867Z"
   },
   {
    "duration": 65,
    "start_time": "2021-07-14T21:04:04.167Z"
   },
   {
    "duration": 3,
    "start_time": "2021-07-14T21:04:04.234Z"
   },
   {
    "duration": 131,
    "start_time": "2021-07-14T21:04:04.239Z"
   },
   {
    "duration": 193,
    "start_time": "2021-07-14T21:04:04.372Z"
   },
   {
    "duration": 29,
    "start_time": "2021-07-14T21:04:04.567Z"
   },
   {
    "duration": 5,
    "start_time": "2021-07-14T21:04:04.598Z"
   },
   {
    "duration": 1265,
    "start_time": "2021-07-14T21:04:04.604Z"
   },
   {
    "duration": 18,
    "start_time": "2021-07-14T21:04:05.870Z"
   },
   {
    "duration": 6,
    "start_time": "2021-07-14T21:04:05.889Z"
   },
   {
    "duration": 46,
    "start_time": "2021-07-14T21:04:05.897Z"
   },
   {
    "duration": 44,
    "start_time": "2021-07-14T21:04:05.944Z"
   },
   {
    "duration": 390,
    "start_time": "2021-07-14T21:04:05.989Z"
   },
   {
    "duration": 39,
    "start_time": "2021-07-14T21:04:06.380Z"
   },
   {
    "duration": 334,
    "start_time": "2021-07-14T21:04:06.420Z"
   },
   {
    "duration": 432,
    "start_time": "2021-07-14T21:04:06.756Z"
   },
   {
    "duration": 5,
    "start_time": "2021-07-14T21:04:07.189Z"
   },
   {
    "duration": 39,
    "start_time": "2021-07-14T21:04:07.196Z"
   },
   {
    "duration": 218,
    "start_time": "2021-07-14T21:04:07.238Z"
   },
   {
    "duration": 449,
    "start_time": "2021-07-14T21:04:07.458Z"
   },
   {
    "duration": 4,
    "start_time": "2021-07-14T21:04:07.909Z"
   },
   {
    "duration": 7,
    "start_time": "2021-07-14T21:04:07.915Z"
   },
   {
    "duration": 12,
    "start_time": "2021-07-14T21:04:07.923Z"
   },
   {
    "duration": 23,
    "start_time": "2021-07-14T21:04:07.937Z"
   },
   {
    "duration": 26,
    "start_time": "2021-07-14T21:04:07.961Z"
   },
   {
    "duration": 7,
    "start_time": "2021-07-14T21:04:07.989Z"
   },
   {
    "duration": 140,
    "start_time": "2021-07-14T21:04:07.998Z"
   },
   {
    "duration": 69,
    "start_time": "2021-07-14T21:07:59.509Z"
   },
   {
    "duration": 4,
    "start_time": "2021-07-14T21:08:13.104Z"
   },
   {
    "duration": 795,
    "start_time": "2021-07-14T21:08:15.654Z"
   },
   {
    "duration": 8,
    "start_time": "2021-07-14T21:08:50.956Z"
   },
   {
    "duration": 990,
    "start_time": "2021-07-14T21:08:53.877Z"
   },
   {
    "duration": 5,
    "start_time": "2021-07-14T21:09:34.018Z"
   },
   {
    "duration": 613,
    "start_time": "2021-07-14T21:09:37.418Z"
   },
   {
    "duration": 6,
    "start_time": "2021-07-14T21:10:08.306Z"
   },
   {
    "duration": 942,
    "start_time": "2021-07-14T21:10:10.854Z"
   },
   {
    "duration": 5,
    "start_time": "2021-07-14T21:20:24.710Z"
   },
   {
    "duration": 58,
    "start_time": "2021-07-14T21:25:28.209Z"
   },
   {
    "duration": 327,
    "start_time": "2021-07-14T21:25:41.217Z"
   },
   {
    "duration": 239,
    "start_time": "2021-07-14T21:25:47.238Z"
   },
   {
    "duration": 228,
    "start_time": "2021-07-14T21:31:57.719Z"
   },
   {
    "duration": 236,
    "start_time": "2021-07-14T21:32:12.547Z"
   },
   {
    "duration": 43,
    "start_time": "2021-07-14T21:38:06.540Z"
   },
   {
    "duration": 70,
    "start_time": "2021-07-14T21:39:35.568Z"
   },
   {
    "duration": 790,
    "start_time": "2021-07-14T21:39:36.221Z"
   },
   {
    "duration": 5,
    "start_time": "2021-07-14T21:40:28.266Z"
   },
   {
    "duration": 962,
    "start_time": "2021-07-14T21:40:30.390Z"
   },
   {
    "duration": 5,
    "start_time": "2021-07-14T21:40:57.798Z"
   },
   {
    "duration": 796,
    "start_time": "2021-07-14T21:40:58.910Z"
   },
   {
    "duration": 5,
    "start_time": "2021-07-14T21:41:09.392Z"
   },
   {
    "duration": 931,
    "start_time": "2021-07-14T21:41:11.138Z"
   },
   {
    "duration": 73,
    "start_time": "2021-07-14T21:41:20.006Z"
   },
   {
    "duration": 795,
    "start_time": "2021-07-14T21:41:20.411Z"
   },
   {
    "duration": 4759,
    "start_time": "2021-07-14T21:47:36.636Z"
   },
   {
    "duration": 16,
    "start_time": "2021-07-14T21:48:14.801Z"
   },
   {
    "duration": 11,
    "start_time": "2021-07-14T21:48:59.612Z"
   },
   {
    "duration": 16,
    "start_time": "2021-07-14T21:49:00.754Z"
   },
   {
    "duration": 7,
    "start_time": "2021-07-14T21:49:01.520Z"
   },
   {
    "duration": 16,
    "start_time": "2021-07-14T21:50:05.616Z"
   },
   {
    "duration": 16,
    "start_time": "2021-07-14T21:51:01.486Z"
   },
   {
    "duration": 47,
    "start_time": "2021-07-14T21:54:11.390Z"
   },
   {
    "duration": 45,
    "start_time": "2021-07-14T21:54:21.050Z"
   },
   {
    "duration": 26,
    "start_time": "2021-07-14T21:58:19.582Z"
   },
   {
    "duration": 1297,
    "start_time": "2021-07-14T21:58:42.758Z"
   },
   {
    "duration": 564,
    "start_time": "2021-07-14T21:58:44.057Z"
   },
   {
    "duration": 3,
    "start_time": "2021-07-14T21:58:44.623Z"
   },
   {
    "duration": 229,
    "start_time": "2021-07-14T21:58:44.628Z"
   },
   {
    "duration": 318,
    "start_time": "2021-07-14T21:58:44.859Z"
   },
   {
    "duration": 61,
    "start_time": "2021-07-14T21:58:45.179Z"
   },
   {
    "duration": 2,
    "start_time": "2021-07-14T21:58:45.242Z"
   },
   {
    "duration": 127,
    "start_time": "2021-07-14T21:58:45.247Z"
   },
   {
    "duration": 256,
    "start_time": "2021-07-14T21:58:45.377Z"
   },
   {
    "duration": 39,
    "start_time": "2021-07-14T21:58:45.635Z"
   },
   {
    "duration": 26,
    "start_time": "2021-07-14T21:58:45.685Z"
   },
   {
    "duration": 5,
    "start_time": "2021-07-14T21:58:45.712Z"
   },
   {
    "duration": 1249,
    "start_time": "2021-07-14T21:58:45.719Z"
   },
   {
    "duration": 78,
    "start_time": "2021-07-14T21:58:46.970Z"
   },
   {
    "duration": 904,
    "start_time": "2021-07-14T21:58:47.049Z"
   },
   {
    "duration": 9,
    "start_time": "2021-07-14T21:58:47.954Z"
   },
   {
    "duration": 29,
    "start_time": "2021-07-14T21:58:47.965Z"
   },
   {
    "duration": 5,
    "start_time": "2021-07-14T21:58:47.996Z"
   },
   {
    "duration": 15,
    "start_time": "2021-07-14T21:58:48.002Z"
   },
   {
    "duration": 357,
    "start_time": "2021-07-14T21:58:48.019Z"
   },
   {
    "duration": 115,
    "start_time": "2021-07-14T21:58:48.264Z"
   },
   {
    "duration": 113,
    "start_time": "2021-07-14T21:58:48.266Z"
   },
   {
    "duration": 113,
    "start_time": "2021-07-14T21:58:48.267Z"
   },
   {
    "duration": 113,
    "start_time": "2021-07-14T21:58:48.268Z"
   },
   {
    "duration": 112,
    "start_time": "2021-07-14T21:58:48.270Z"
   },
   {
    "duration": 111,
    "start_time": "2021-07-14T21:58:48.272Z"
   },
   {
    "duration": 109,
    "start_time": "2021-07-14T21:58:48.275Z"
   },
   {
    "duration": 108,
    "start_time": "2021-07-14T21:58:48.277Z"
   },
   {
    "duration": 108,
    "start_time": "2021-07-14T21:58:48.278Z"
   },
   {
    "duration": 107,
    "start_time": "2021-07-14T21:58:48.280Z"
   },
   {
    "duration": 107,
    "start_time": "2021-07-14T21:58:48.281Z"
   },
   {
    "duration": 106,
    "start_time": "2021-07-14T21:58:48.283Z"
   },
   {
    "duration": 105,
    "start_time": "2021-07-14T21:58:48.284Z"
   },
   {
    "duration": 104,
    "start_time": "2021-07-14T21:58:48.286Z"
   },
   {
    "duration": 104,
    "start_time": "2021-07-14T21:58:48.287Z"
   },
   {
    "duration": 103,
    "start_time": "2021-07-14T21:58:48.289Z"
   },
   {
    "duration": 227,
    "start_time": "2021-07-14T22:01:55.404Z"
   },
   {
    "duration": 41,
    "start_time": "2021-07-14T22:02:17.591Z"
   },
   {
    "duration": 19,
    "start_time": "2021-07-14T22:07:22.979Z"
   },
   {
    "duration": 31,
    "start_time": "2021-07-14T22:07:33.870Z"
   },
   {
    "duration": 15,
    "start_time": "2021-07-14T22:09:44.893Z"
   },
   {
    "duration": 61,
    "start_time": "2021-07-14T22:10:09.503Z"
   },
   {
    "duration": 59,
    "start_time": "2021-07-14T22:10:28.405Z"
   },
   {
    "duration": 184,
    "start_time": "2021-07-14T22:13:01.272Z"
   },
   {
    "duration": 19,
    "start_time": "2021-07-14T22:19:36.851Z"
   },
   {
    "duration": 20,
    "start_time": "2021-07-14T22:23:18.258Z"
   },
   {
    "duration": 364,
    "start_time": "2021-07-14T22:24:00.310Z"
   },
   {
    "duration": 1295,
    "start_time": "2021-07-14T22:31:53.998Z"
   },
   {
    "duration": 552,
    "start_time": "2021-07-14T22:31:55.295Z"
   },
   {
    "duration": 3,
    "start_time": "2021-07-14T22:31:55.849Z"
   },
   {
    "duration": 250,
    "start_time": "2021-07-14T22:31:55.854Z"
   },
   {
    "duration": 301,
    "start_time": "2021-07-14T22:31:56.105Z"
   },
   {
    "duration": 56,
    "start_time": "2021-07-14T22:31:56.407Z"
   },
   {
    "duration": 3,
    "start_time": "2021-07-14T22:31:56.465Z"
   },
   {
    "duration": 116,
    "start_time": "2021-07-14T22:31:56.485Z"
   },
   {
    "duration": 255,
    "start_time": "2021-07-14T22:31:56.603Z"
   },
   {
    "duration": 43,
    "start_time": "2021-07-14T22:31:56.859Z"
   },
   {
    "duration": 26,
    "start_time": "2021-07-14T22:31:56.904Z"
   },
   {
    "duration": 5,
    "start_time": "2021-07-14T22:31:56.931Z"
   },
   {
    "duration": 1286,
    "start_time": "2021-07-14T22:31:56.938Z"
   },
   {
    "duration": 76,
    "start_time": "2021-07-14T22:31:58.225Z"
   },
   {
    "duration": 913,
    "start_time": "2021-07-14T22:31:58.302Z"
   },
   {
    "duration": 9,
    "start_time": "2021-07-14T22:31:59.217Z"
   },
   {
    "duration": 13,
    "start_time": "2021-07-14T22:31:59.227Z"
   },
   {
    "duration": 5,
    "start_time": "2021-07-14T22:31:59.242Z"
   },
   {
    "duration": 41,
    "start_time": "2021-07-14T22:31:59.249Z"
   },
   {
    "duration": 45,
    "start_time": "2021-07-14T22:31:59.292Z"
   },
   {
    "duration": 50,
    "start_time": "2021-07-14T22:31:59.339Z"
   },
   {
    "duration": 383,
    "start_time": "2021-07-14T22:31:59.391Z"
   },
   {
    "duration": 22,
    "start_time": "2021-07-14T22:31:59.778Z"
   },
   {
    "duration": 207,
    "start_time": "2021-07-14T22:31:59.802Z"
   },
   {
    "duration": 314,
    "start_time": "2021-07-14T22:32:00.011Z"
   },
   {
    "duration": 6,
    "start_time": "2021-07-14T22:32:00.327Z"
   },
   {
    "duration": 27,
    "start_time": "2021-07-14T22:32:00.335Z"
   },
   {
    "duration": 195,
    "start_time": "2021-07-14T22:32:00.364Z"
   },
   {
    "duration": 350,
    "start_time": "2021-07-14T22:32:00.561Z"
   },
   {
    "duration": 5,
    "start_time": "2021-07-14T22:32:00.913Z"
   },
   {
    "duration": 16,
    "start_time": "2021-07-14T22:32:00.920Z"
   },
   {
    "duration": 18,
    "start_time": "2021-07-14T22:32:00.938Z"
   },
   {
    "duration": 34,
    "start_time": "2021-07-14T22:32:00.957Z"
   },
   {
    "duration": 6,
    "start_time": "2021-07-14T22:32:00.993Z"
   },
   {
    "duration": 11,
    "start_time": "2021-07-14T22:32:01.001Z"
   },
   {
    "duration": 271,
    "start_time": "2021-07-14T22:32:01.014Z"
   },
   {
    "duration": 18,
    "start_time": "2021-07-14T22:38:24.084Z"
   },
   {
    "duration": 206,
    "start_time": "2021-07-14T22:40:24.394Z"
   },
   {
    "duration": 324,
    "start_time": "2021-07-14T22:41:47.088Z"
   },
   {
    "duration": 292,
    "start_time": "2021-07-14T22:47:07.818Z"
   },
   {
    "duration": 329,
    "start_time": "2021-07-14T22:48:41.561Z"
   },
   {
    "duration": 5,
    "start_time": "2021-07-14T22:48:42.510Z"
   },
   {
    "duration": 18,
    "start_time": "2021-07-14T22:48:44.400Z"
   },
   {
    "duration": 198,
    "start_time": "2021-07-14T22:48:45.010Z"
   },
   {
    "duration": 302,
    "start_time": "2021-07-14T22:48:51.602Z"
   },
   {
    "duration": 5,
    "start_time": "2021-07-14T22:51:17.912Z"
   },
   {
    "duration": 1313,
    "start_time": "2021-07-14T23:13:24.545Z"
   },
   {
    "duration": 577,
    "start_time": "2021-07-14T23:13:25.860Z"
   },
   {
    "duration": 3,
    "start_time": "2021-07-14T23:13:26.439Z"
   },
   {
    "duration": 248,
    "start_time": "2021-07-14T23:13:26.444Z"
   },
   {
    "duration": 283,
    "start_time": "2021-07-14T23:13:26.694Z"
   },
   {
    "duration": 58,
    "start_time": "2021-07-14T23:13:26.984Z"
   },
   {
    "duration": 2,
    "start_time": "2021-07-14T23:13:27.044Z"
   },
   {
    "duration": 131,
    "start_time": "2021-07-14T23:13:27.049Z"
   },
   {
    "duration": 265,
    "start_time": "2021-07-14T23:13:27.185Z"
   },
   {
    "duration": 45,
    "start_time": "2021-07-14T23:13:27.452Z"
   },
   {
    "duration": 27,
    "start_time": "2021-07-14T23:13:27.499Z"
   },
   {
    "duration": 5,
    "start_time": "2021-07-14T23:13:27.527Z"
   },
   {
    "duration": 1215,
    "start_time": "2021-07-14T23:13:27.533Z"
   },
   {
    "duration": 81,
    "start_time": "2021-07-14T23:13:28.750Z"
   },
   {
    "duration": 917,
    "start_time": "2021-07-14T23:13:28.833Z"
   },
   {
    "duration": 10,
    "start_time": "2021-07-14T23:13:29.751Z"
   },
   {
    "duration": 31,
    "start_time": "2021-07-14T23:13:29.762Z"
   },
   {
    "duration": 5,
    "start_time": "2021-07-14T23:13:29.795Z"
   },
   {
    "duration": 16,
    "start_time": "2021-07-14T23:13:29.801Z"
   },
   {
    "duration": 42,
    "start_time": "2021-07-14T23:13:29.819Z"
   },
   {
    "duration": 30,
    "start_time": "2021-07-14T23:13:29.884Z"
   },
   {
    "duration": 407,
    "start_time": "2021-07-14T23:13:29.915Z"
   },
   {
    "duration": 199,
    "start_time": "2021-07-14T23:13:30.325Z"
   },
   {
    "duration": 298,
    "start_time": "2021-07-14T23:13:30.526Z"
   },
   {
    "duration": 4,
    "start_time": "2021-07-14T23:13:30.826Z"
   },
   {
    "duration": 20,
    "start_time": "2021-07-14T23:13:30.832Z"
   },
   {
    "duration": 59,
    "start_time": "2021-07-14T23:13:30.854Z"
   },
   {
    "duration": 186,
    "start_time": "2021-07-14T23:13:30.729Z"
   },
   {
    "duration": 184,
    "start_time": "2021-07-14T23:13:30.732Z"
   },
   {
    "duration": 182,
    "start_time": "2021-07-14T23:13:30.734Z"
   },
   {
    "duration": 181,
    "start_time": "2021-07-14T23:13:30.736Z"
   },
   {
    "duration": 180,
    "start_time": "2021-07-14T23:13:30.738Z"
   },
   {
    "duration": 179,
    "start_time": "2021-07-14T23:13:30.740Z"
   },
   {
    "duration": 177,
    "start_time": "2021-07-14T23:13:30.742Z"
   },
   {
    "duration": 176,
    "start_time": "2021-07-14T23:13:30.744Z"
   },
   {
    "duration": 168,
    "start_time": "2021-07-14T23:13:30.753Z"
   },
   {
    "duration": 1265,
    "start_time": "2021-07-14T23:14:33.686Z"
   },
   {
    "duration": 542,
    "start_time": "2021-07-14T23:14:34.953Z"
   },
   {
    "duration": 3,
    "start_time": "2021-07-14T23:14:35.496Z"
   },
   {
    "duration": 227,
    "start_time": "2021-07-14T23:14:35.501Z"
   },
   {
    "duration": 288,
    "start_time": "2021-07-14T23:14:35.729Z"
   },
   {
    "duration": 67,
    "start_time": "2021-07-14T23:14:36.018Z"
   },
   {
    "duration": 3,
    "start_time": "2021-07-14T23:14:36.087Z"
   },
   {
    "duration": 128,
    "start_time": "2021-07-14T23:14:36.092Z"
   },
   {
    "duration": 258,
    "start_time": "2021-07-14T23:14:36.222Z"
   },
   {
    "duration": 39,
    "start_time": "2021-07-14T23:14:36.482Z"
   },
   {
    "duration": 26,
    "start_time": "2021-07-14T23:14:36.523Z"
   },
   {
    "duration": 5,
    "start_time": "2021-07-14T23:14:36.551Z"
   },
   {
    "duration": 1217,
    "start_time": "2021-07-14T23:14:36.557Z"
   },
   {
    "duration": 71,
    "start_time": "2021-07-14T23:14:37.776Z"
   },
   {
    "duration": 927,
    "start_time": "2021-07-14T23:14:37.849Z"
   },
   {
    "duration": 14,
    "start_time": "2021-07-14T23:14:38.777Z"
   },
   {
    "duration": 13,
    "start_time": "2021-07-14T23:14:38.793Z"
   },
   {
    "duration": 5,
    "start_time": "2021-07-14T23:14:38.808Z"
   },
   {
    "duration": 13,
    "start_time": "2021-07-14T23:14:38.815Z"
   },
   {
    "duration": 73,
    "start_time": "2021-07-14T23:14:38.830Z"
   },
   {
    "duration": 27,
    "start_time": "2021-07-14T23:14:38.905Z"
   },
   {
    "duration": 383,
    "start_time": "2021-07-14T23:14:38.933Z"
   },
   {
    "duration": 209,
    "start_time": "2021-07-14T23:14:39.320Z"
   },
   {
    "duration": 290,
    "start_time": "2021-07-14T23:14:39.530Z"
   },
   {
    "duration": 5,
    "start_time": "2021-07-14T23:14:39.822Z"
   },
   {
    "duration": 18,
    "start_time": "2021-07-14T23:14:39.828Z"
   },
   {
    "duration": 207,
    "start_time": "2021-07-14T23:14:39.847Z"
   },
   {
    "duration": 333,
    "start_time": "2021-07-14T23:14:40.055Z"
   },
   {
    "duration": 4,
    "start_time": "2021-07-14T23:14:40.389Z"
   },
   {
    "duration": 7,
    "start_time": "2021-07-14T23:14:40.395Z"
   },
   {
    "duration": 14,
    "start_time": "2021-07-14T23:14:40.404Z"
   },
   {
    "duration": 6,
    "start_time": "2021-07-14T23:14:40.420Z"
   },
   {
    "duration": 23,
    "start_time": "2021-07-14T23:14:40.427Z"
   },
   {
    "duration": 8,
    "start_time": "2021-07-14T23:14:40.452Z"
   },
   {
    "duration": 258,
    "start_time": "2021-07-14T23:14:40.485Z"
   },
   {
    "duration": 6,
    "start_time": "2021-07-14T23:16:17.839Z"
   },
   {
    "duration": 617,
    "start_time": "2021-07-14T23:16:19.645Z"
   },
   {
    "duration": 6,
    "start_time": "2021-07-14T23:17:55.505Z"
   },
   {
    "duration": 777,
    "start_time": "2021-07-14T23:17:56.399Z"
   },
   {
    "duration": 5,
    "start_time": "2021-07-14T23:18:11.454Z"
   },
   {
    "duration": 903,
    "start_time": "2021-07-14T23:18:11.837Z"
   },
   {
    "duration": 63822,
    "start_time": "2021-07-15T17:27:10.892Z"
   },
   {
    "duration": 740,
    "start_time": "2021-07-15T17:28:14.716Z"
   },
   {
    "duration": 4,
    "start_time": "2021-07-15T17:28:15.459Z"
   },
   {
    "duration": 373,
    "start_time": "2021-07-15T17:28:15.466Z"
   },
   {
    "duration": 456,
    "start_time": "2021-07-15T17:28:15.841Z"
   },
   {
    "duration": 89,
    "start_time": "2021-07-15T17:28:16.300Z"
   },
   {
    "duration": 3,
    "start_time": "2021-07-15T17:28:16.392Z"
   },
   {
    "duration": 171,
    "start_time": "2021-07-15T17:28:16.398Z"
   },
   {
    "duration": 376,
    "start_time": "2021-07-15T17:28:16.574Z"
   },
   {
    "duration": 62,
    "start_time": "2021-07-15T17:28:16.953Z"
   },
   {
    "duration": 37,
    "start_time": "2021-07-15T17:28:17.017Z"
   },
   {
    "duration": 7,
    "start_time": "2021-07-15T17:28:17.056Z"
   },
   {
    "duration": 1816,
    "start_time": "2021-07-15T17:28:17.066Z"
   },
   {
    "duration": 109,
    "start_time": "2021-07-15T17:28:18.884Z"
   },
   {
    "duration": 580,
    "start_time": "2021-07-15T17:28:18.995Z"
   },
   {
    "duration": -546,
    "start_time": "2021-07-15T17:28:20.123Z"
   },
   {
    "duration": -546,
    "start_time": "2021-07-15T17:28:20.125Z"
   },
   {
    "duration": -548,
    "start_time": "2021-07-15T17:28:20.128Z"
   },
   {
    "duration": -549,
    "start_time": "2021-07-15T17:28:20.130Z"
   },
   {
    "duration": -551,
    "start_time": "2021-07-15T17:28:20.134Z"
   },
   {
    "duration": -553,
    "start_time": "2021-07-15T17:28:20.137Z"
   },
   {
    "duration": -555,
    "start_time": "2021-07-15T17:28:20.140Z"
   },
   {
    "duration": -555,
    "start_time": "2021-07-15T17:28:20.142Z"
   },
   {
    "duration": -556,
    "start_time": "2021-07-15T17:28:20.145Z"
   },
   {
    "duration": -557,
    "start_time": "2021-07-15T17:28:20.148Z"
   },
   {
    "duration": -557,
    "start_time": "2021-07-15T17:28:20.150Z"
   },
   {
    "duration": -558,
    "start_time": "2021-07-15T17:28:20.152Z"
   },
   {
    "duration": -560,
    "start_time": "2021-07-15T17:28:20.155Z"
   },
   {
    "duration": -561,
    "start_time": "2021-07-15T17:28:20.158Z"
   },
   {
    "duration": -563,
    "start_time": "2021-07-15T17:28:20.161Z"
   },
   {
    "duration": -563,
    "start_time": "2021-07-15T17:28:20.163Z"
   },
   {
    "duration": -563,
    "start_time": "2021-07-15T17:28:20.165Z"
   },
   {
    "duration": -565,
    "start_time": "2021-07-15T17:28:20.168Z"
   },
   {
    "duration": -566,
    "start_time": "2021-07-15T17:28:20.170Z"
   },
   {
    "duration": -567,
    "start_time": "2021-07-15T17:28:20.172Z"
   },
   {
    "duration": 1443,
    "start_time": "2021-07-15T18:21:07.043Z"
   },
   {
    "duration": 555,
    "start_time": "2021-07-15T18:21:08.487Z"
   },
   {
    "duration": 4,
    "start_time": "2021-07-15T18:21:09.044Z"
   },
   {
    "duration": 247,
    "start_time": "2021-07-15T18:21:09.051Z"
   },
   {
    "duration": 288,
    "start_time": "2021-07-15T18:21:09.300Z"
   },
   {
    "duration": 64,
    "start_time": "2021-07-15T18:21:09.590Z"
   },
   {
    "duration": 4,
    "start_time": "2021-07-15T18:21:09.656Z"
   },
   {
    "duration": 121,
    "start_time": "2021-07-15T18:21:09.662Z"
   },
   {
    "duration": 266,
    "start_time": "2021-07-15T18:21:09.786Z"
   },
   {
    "duration": 50,
    "start_time": "2021-07-15T18:21:10.055Z"
   },
   {
    "duration": 41,
    "start_time": "2021-07-15T18:21:10.106Z"
   },
   {
    "duration": 7,
    "start_time": "2021-07-15T18:21:10.149Z"
   },
   {
    "duration": 1298,
    "start_time": "2021-07-15T18:21:10.158Z"
   },
   {
    "duration": 68,
    "start_time": "2021-07-15T18:21:11.457Z"
   },
   {
    "duration": 430,
    "start_time": "2021-07-15T18:21:11.527Z"
   },
   {
    "duration": -58161,
    "start_time": "2021-07-15T18:22:10.121Z"
   },
   {
    "duration": -58162,
    "start_time": "2021-07-15T18:22:10.123Z"
   },
   {
    "duration": -58162,
    "start_time": "2021-07-15T18:22:10.124Z"
   },
   {
    "duration": -58164,
    "start_time": "2021-07-15T18:22:10.126Z"
   },
   {
    "duration": -58169,
    "start_time": "2021-07-15T18:22:10.132Z"
   },
   {
    "duration": -58170,
    "start_time": "2021-07-15T18:22:10.134Z"
   },
   {
    "duration": -58170,
    "start_time": "2021-07-15T18:22:10.135Z"
   },
   {
    "duration": -58171,
    "start_time": "2021-07-15T18:22:10.137Z"
   },
   {
    "duration": -58171,
    "start_time": "2021-07-15T18:22:10.138Z"
   },
   {
    "duration": -58171,
    "start_time": "2021-07-15T18:22:10.139Z"
   },
   {
    "duration": -58171,
    "start_time": "2021-07-15T18:22:10.140Z"
   },
   {
    "duration": -58171,
    "start_time": "2021-07-15T18:22:10.141Z"
   },
   {
    "duration": -58172,
    "start_time": "2021-07-15T18:22:10.143Z"
   },
   {
    "duration": -58173,
    "start_time": "2021-07-15T18:22:10.144Z"
   },
   {
    "duration": -58174,
    "start_time": "2021-07-15T18:22:10.146Z"
   },
   {
    "duration": -58174,
    "start_time": "2021-07-15T18:22:10.147Z"
   },
   {
    "duration": -58174,
    "start_time": "2021-07-15T18:22:10.148Z"
   },
   {
    "duration": -58174,
    "start_time": "2021-07-15T18:22:10.149Z"
   },
   {
    "duration": -58174,
    "start_time": "2021-07-15T18:22:10.150Z"
   },
   {
    "duration": -58176,
    "start_time": "2021-07-15T18:22:10.152Z"
   },
   {
    "duration": 1345,
    "start_time": "2021-07-15T18:23:33.563Z"
   },
   {
    "duration": 528,
    "start_time": "2021-07-15T18:23:34.909Z"
   },
   {
    "duration": 3,
    "start_time": "2021-07-15T18:23:35.439Z"
   },
   {
    "duration": 225,
    "start_time": "2021-07-15T18:23:35.444Z"
   },
   {
    "duration": 264,
    "start_time": "2021-07-15T18:23:35.671Z"
   },
   {
    "duration": 93,
    "start_time": "2021-07-15T18:23:35.940Z"
   },
   {
    "duration": 2,
    "start_time": "2021-07-15T18:23:36.041Z"
   },
   {
    "duration": 118,
    "start_time": "2021-07-15T18:23:36.046Z"
   },
   {
    "duration": 237,
    "start_time": "2021-07-15T18:23:36.166Z"
   },
   {
    "duration": 53,
    "start_time": "2021-07-15T18:23:36.405Z"
   },
   {
    "duration": 25,
    "start_time": "2021-07-15T18:23:36.460Z"
   },
   {
    "duration": 5,
    "start_time": "2021-07-15T18:23:36.487Z"
   },
   {
    "duration": 1221,
    "start_time": "2021-07-15T18:23:36.493Z"
   },
   {
    "duration": 73,
    "start_time": "2021-07-15T18:23:37.716Z"
   },
   {
    "duration": 853,
    "start_time": "2021-07-15T18:23:37.791Z"
   },
   {
    "duration": 11,
    "start_time": "2021-07-15T18:23:38.646Z"
   },
   {
    "duration": 15,
    "start_time": "2021-07-15T18:23:38.659Z"
   },
   {
    "duration": 10,
    "start_time": "2021-07-15T18:23:38.675Z"
   },
   {
    "duration": 24,
    "start_time": "2021-07-15T18:23:38.687Z"
   },
   {
    "duration": 64,
    "start_time": "2021-07-15T18:23:38.713Z"
   },
   {
    "duration": 29,
    "start_time": "2021-07-15T18:23:38.779Z"
   },
   {
    "duration": 362,
    "start_time": "2021-07-15T18:23:38.810Z"
   },
   {
    "duration": 186,
    "start_time": "2021-07-15T18:23:39.176Z"
   },
   {
    "duration": 295,
    "start_time": "2021-07-15T18:23:39.364Z"
   },
   {
    "duration": 6,
    "start_time": "2021-07-15T18:23:39.661Z"
   },
   {
    "duration": 17,
    "start_time": "2021-07-15T18:23:39.669Z"
   },
   {
    "duration": 187,
    "start_time": "2021-07-15T18:23:39.688Z"
   },
   {
    "duration": 278,
    "start_time": "2021-07-15T18:23:39.877Z"
   },
   {
    "duration": 5,
    "start_time": "2021-07-15T18:23:40.157Z"
   },
   {
    "duration": 9,
    "start_time": "2021-07-15T18:23:40.164Z"
   },
   {
    "duration": 16,
    "start_time": "2021-07-15T18:23:40.174Z"
   },
   {
    "duration": 8,
    "start_time": "2021-07-15T18:23:40.192Z"
   },
   {
    "duration": 61,
    "start_time": "2021-07-15T18:23:40.201Z"
   },
   {
    "duration": 11,
    "start_time": "2021-07-15T18:23:40.264Z"
   },
   {
    "duration": 344,
    "start_time": "2021-07-15T18:23:40.277Z"
   },
   {
    "duration": 1503,
    "start_time": "2021-07-15T18:24:25.622Z"
   },
   {
    "duration": 521,
    "start_time": "2021-07-15T18:24:27.126Z"
   },
   {
    "duration": 2,
    "start_time": "2021-07-15T18:24:27.649Z"
   },
   {
    "duration": 226,
    "start_time": "2021-07-15T18:24:27.653Z"
   },
   {
    "duration": 268,
    "start_time": "2021-07-15T18:24:27.881Z"
   },
   {
    "duration": 54,
    "start_time": "2021-07-15T18:24:28.151Z"
   },
   {
    "duration": 3,
    "start_time": "2021-07-15T18:24:28.206Z"
   },
   {
    "duration": 126,
    "start_time": "2021-07-15T18:24:28.210Z"
   },
   {
    "duration": 260,
    "start_time": "2021-07-15T18:24:28.341Z"
   },
   {
    "duration": 45,
    "start_time": "2021-07-15T18:24:28.603Z"
   },
   {
    "duration": 27,
    "start_time": "2021-07-15T18:24:28.649Z"
   },
   {
    "duration": 5,
    "start_time": "2021-07-15T18:24:28.678Z"
   },
   {
    "duration": 1250,
    "start_time": "2021-07-15T18:24:28.685Z"
   },
   {
    "duration": 120,
    "start_time": "2021-07-15T18:24:29.940Z"
   },
   {
    "duration": 1291,
    "start_time": "2021-07-15T18:24:30.062Z"
   },
   {
    "duration": 12,
    "start_time": "2021-07-15T18:24:31.354Z"
   },
   {
    "duration": 23,
    "start_time": "2021-07-15T18:24:31.368Z"
   },
   {
    "duration": 7,
    "start_time": "2021-07-15T18:24:31.393Z"
   },
   {
    "duration": 40,
    "start_time": "2021-07-15T18:24:31.402Z"
   },
   {
    "duration": 55,
    "start_time": "2021-07-15T18:24:31.444Z"
   },
   {
    "duration": 52,
    "start_time": "2021-07-15T18:24:31.500Z"
   },
   {
    "duration": 520,
    "start_time": "2021-07-15T18:24:31.554Z"
   },
   {
    "duration": 262,
    "start_time": "2021-07-15T18:24:32.076Z"
   },
   {
    "duration": 423,
    "start_time": "2021-07-15T18:24:32.341Z"
   },
   {
    "duration": 6,
    "start_time": "2021-07-15T18:24:32.766Z"
   },
   {
    "duration": 30,
    "start_time": "2021-07-15T18:24:32.774Z"
   },
   {
    "duration": 178,
    "start_time": "2021-07-15T18:24:32.808Z"
   },
   {
    "duration": 286,
    "start_time": "2021-07-15T18:24:32.988Z"
   },
   {
    "duration": 5,
    "start_time": "2021-07-15T18:24:33.275Z"
   },
   {
    "duration": 7,
    "start_time": "2021-07-15T18:24:33.281Z"
   },
   {
    "duration": 24,
    "start_time": "2021-07-15T18:24:33.289Z"
   },
   {
    "duration": 5,
    "start_time": "2021-07-15T18:24:33.315Z"
   },
   {
    "duration": 34,
    "start_time": "2021-07-15T18:24:33.322Z"
   },
   {
    "duration": 7,
    "start_time": "2021-07-15T18:24:33.358Z"
   },
   {
    "duration": 267,
    "start_time": "2021-07-15T18:24:33.367Z"
   },
   {
    "duration": 2396,
    "start_time": "2021-07-16T08:03:38.057Z"
   },
   {
    "duration": 815,
    "start_time": "2021-07-16T08:03:40.455Z"
   },
   {
    "duration": 5,
    "start_time": "2021-07-16T08:03:41.273Z"
   },
   {
    "duration": 435,
    "start_time": "2021-07-16T08:03:41.742Z"
   },
   {
    "duration": 575,
    "start_time": "2021-07-16T08:03:44.764Z"
   },
   {
    "duration": 125,
    "start_time": "2021-07-16T08:03:45.676Z"
   },
   {
    "duration": 4,
    "start_time": "2021-07-16T08:03:46.979Z"
   },
   {
    "duration": 177,
    "start_time": "2021-07-16T08:03:48.387Z"
   },
   {
    "duration": 285,
    "start_time": "2021-07-16T08:08:54.135Z"
   },
   {
    "duration": 57,
    "start_time": "2021-07-16T08:08:55.504Z"
   },
   {
    "duration": 4,
    "start_time": "2021-07-16T08:09:03.835Z"
   },
   {
    "duration": 4,
    "start_time": "2021-07-16T08:09:07.586Z"
   },
   {
    "duration": 743,
    "start_time": "2021-07-16T08:09:08.777Z"
   },
   {
    "duration": 4,
    "start_time": "2021-07-16T08:09:09.682Z"
   },
   {
    "duration": 388,
    "start_time": "2021-07-16T08:09:10.603Z"
   },
   {
    "duration": 374,
    "start_time": "2021-07-16T08:09:13.434Z"
   },
   {
    "duration": 73,
    "start_time": "2021-07-16T08:09:14.978Z"
   },
   {
    "duration": 3,
    "start_time": "2021-07-16T08:09:16.299Z"
   },
   {
    "duration": 163,
    "start_time": "2021-07-16T08:09:19.243Z"
   },
   {
    "duration": 1369,
    "start_time": "2021-07-16T08:24:50.939Z"
   },
   {
    "duration": 415,
    "start_time": "2021-07-16T08:25:06.483Z"
   },
   {
    "duration": 1387,
    "start_time": "2021-07-16T08:25:12.709Z"
   },
   {
    "duration": 162,
    "start_time": "2021-07-16T08:25:21.109Z"
   },
   {
    "duration": 48,
    "start_time": "2021-07-16T08:25:22.485Z"
   },
   {
    "duration": 8,
    "start_time": "2021-07-16T08:25:23.773Z"
   },
   {
    "duration": 1976,
    "start_time": "2021-07-16T08:25:24.366Z"
   },
   {
    "duration": 1260,
    "start_time": "2021-07-16T08:29:48.316Z"
   },
   {
    "duration": 149,
    "start_time": "2021-07-16T08:29:54.805Z"
   },
   {
    "duration": 46,
    "start_time": "2021-07-16T08:29:57.723Z"
   },
   {
    "duration": 9,
    "start_time": "2021-07-16T08:30:00.557Z"
   },
   {
    "duration": 10,
    "start_time": "2021-07-16T08:31:29.005Z"
   },
   {
    "duration": 168,
    "start_time": "2021-07-16T08:37:16.921Z"
   },
   {
    "duration": 36,
    "start_time": "2021-07-16T08:39:00.096Z"
   },
   {
    "duration": 46,
    "start_time": "2021-07-16T08:39:04.238Z"
   },
   {
    "duration": 39,
    "start_time": "2021-07-16T08:40:00.254Z"
   },
   {
    "duration": 38,
    "start_time": "2021-07-16T08:40:05.616Z"
   },
   {
    "duration": 5,
    "start_time": "2021-07-16T08:40:26.209Z"
   },
   {
    "duration": 16,
    "start_time": "2021-07-16T08:40:31.784Z"
   },
   {
    "duration": 42,
    "start_time": "2021-07-16T08:41:17.080Z"
   },
   {
    "duration": 54,
    "start_time": "2021-07-16T08:43:27.540Z"
   },
   {
    "duration": 47,
    "start_time": "2021-07-16T08:45:17.266Z"
   },
   {
    "duration": 46,
    "start_time": "2021-07-16T08:45:39.757Z"
   },
   {
    "duration": 47,
    "start_time": "2021-07-16T08:46:45.974Z"
   },
   {
    "duration": 66,
    "start_time": "2021-07-16T08:47:13.476Z"
   },
   {
    "duration": 67,
    "start_time": "2021-07-16T08:48:42.068Z"
   },
   {
    "duration": 68,
    "start_time": "2021-07-16T08:49:46.685Z"
   },
   {
    "duration": 69,
    "start_time": "2021-07-16T08:49:52.421Z"
   },
   {
    "duration": 51,
    "start_time": "2021-07-16T08:50:29.732Z"
   },
   {
    "duration": 49,
    "start_time": "2021-07-16T08:50:42.843Z"
   },
   {
    "duration": 49,
    "start_time": "2021-07-16T08:52:08.738Z"
   },
   {
    "duration": 47,
    "start_time": "2021-07-16T08:52:12.875Z"
   },
   {
    "duration": 48,
    "start_time": "2021-07-16T08:52:40.235Z"
   },
   {
    "duration": 50,
    "start_time": "2021-07-16T08:54:21.234Z"
   },
   {
    "duration": 49,
    "start_time": "2021-07-16T08:58:50.559Z"
   },
   {
    "duration": 50,
    "start_time": "2021-07-16T08:58:59.824Z"
   },
   {
    "duration": 50,
    "start_time": "2021-07-16T08:59:04.489Z"
   },
   {
    "duration": 46,
    "start_time": "2021-07-16T08:59:12.954Z"
   },
   {
    "duration": 48,
    "start_time": "2021-07-16T08:59:23.913Z"
   },
   {
    "duration": 39,
    "start_time": "2021-07-16T09:00:11.737Z"
   },
   {
    "duration": 39,
    "start_time": "2021-07-16T09:00:49.408Z"
   },
   {
    "duration": 40,
    "start_time": "2021-07-16T09:00:59.964Z"
   },
   {
    "duration": 69,
    "start_time": "2021-07-16T09:01:48.750Z"
   },
   {
    "duration": 156,
    "start_time": "2021-07-16T09:02:19.240Z"
   },
   {
    "duration": 144,
    "start_time": "2021-07-16T09:02:20.551Z"
   },
   {
    "duration": 80,
    "start_time": "2021-07-16T09:02:21.192Z"
   },
   {
    "duration": 165,
    "start_time": "2021-07-16T09:02:35.352Z"
   },
   {
    "duration": 46,
    "start_time": "2021-07-16T09:02:36.624Z"
   },
   {
    "duration": 48,
    "start_time": "2021-07-16T09:02:37.399Z"
   },
   {
    "duration": 47,
    "start_time": "2021-07-16T09:02:50.614Z"
   },
   {
    "duration": 50,
    "start_time": "2021-07-16T09:02:59.955Z"
   },
   {
    "duration": 46,
    "start_time": "2021-07-16T09:03:15.551Z"
   },
   {
    "duration": 48,
    "start_time": "2021-07-16T09:12:16.370Z"
   },
   {
    "duration": 49,
    "start_time": "2021-07-16T09:12:26.787Z"
   },
   {
    "duration": 49,
    "start_time": "2021-07-16T09:12:30.891Z"
   },
   {
    "duration": 48,
    "start_time": "2021-07-16T09:16:26.057Z"
   },
   {
    "duration": 2079,
    "start_time": "2021-07-16T09:17:05.079Z"
   },
   {
    "duration": 48,
    "start_time": "2021-07-16T09:17:13.433Z"
   },
   {
    "duration": 46,
    "start_time": "2021-07-16T09:18:10.041Z"
   },
   {
    "duration": 67,
    "start_time": "2021-07-16T09:18:27.495Z"
   },
   {
    "duration": 45,
    "start_time": "2021-07-16T09:18:36.007Z"
   },
   {
    "duration": 45,
    "start_time": "2021-07-16T09:18:53.704Z"
   },
   {
    "duration": 46,
    "start_time": "2021-07-16T09:19:23.751Z"
   },
   {
    "duration": 50,
    "start_time": "2021-07-16T09:19:42.408Z"
   },
   {
    "duration": 47,
    "start_time": "2021-07-16T09:20:05.761Z"
   },
   {
    "duration": 47,
    "start_time": "2021-07-16T09:20:09.769Z"
   },
   {
    "duration": 49,
    "start_time": "2021-07-16T09:20:27.897Z"
   },
   {
    "duration": 7,
    "start_time": "2021-07-16T09:22:38.216Z"
   },
   {
    "duration": 1397,
    "start_time": "2021-07-16T09:22:38.952Z"
   },
   {
    "duration": 10,
    "start_time": "2021-07-16T09:23:00.270Z"
   },
   {
    "duration": 1261,
    "start_time": "2021-07-16T09:23:00.284Z"
   },
   {
    "duration": 49,
    "start_time": "2021-07-16T09:24:27.496Z"
   },
   {
    "duration": 49,
    "start_time": "2021-07-16T09:24:46.646Z"
   },
   {
    "duration": 47,
    "start_time": "2021-07-16T09:25:23.223Z"
   },
   {
    "duration": 50,
    "start_time": "2021-07-16T09:25:35.142Z"
   },
   {
    "duration": 11,
    "start_time": "2021-07-16T09:27:05.948Z"
   },
   {
    "duration": 1593,
    "start_time": "2021-07-16T09:27:06.633Z"
   },
   {
    "duration": 598,
    "start_time": "2021-07-16T09:32:20.684Z"
   },
   {
    "duration": 111,
    "start_time": "2021-07-16T09:32:21.845Z"
   },
   {
    "duration": 42,
    "start_time": "2021-07-16T09:32:23.394Z"
   },
   {
    "duration": 45,
    "start_time": "2021-07-16T09:32:23.988Z"
   },
   {
    "duration": 1241,
    "start_time": "2021-07-16T09:32:41.425Z"
   },
   {
    "duration": 1279,
    "start_time": "2021-07-16T09:40:09.616Z"
   },
   {
    "duration": 171,
    "start_time": "2021-07-16T09:40:17.039Z"
   },
   {
    "duration": 61,
    "start_time": "2021-07-16T09:40:23.857Z"
   },
   {
    "duration": 48,
    "start_time": "2021-07-16T09:40:25.495Z"
   },
   {
    "duration": 384,
    "start_time": "2021-07-16T09:42:54.903Z"
   },
   {
    "duration": 323,
    "start_time": "2021-07-16T09:42:59.753Z"
   },
   {
    "duration": -72,
    "start_time": "2021-07-16T09:43:00.152Z"
   },
   {
    "duration": 11,
    "start_time": "2021-07-16T09:43:00.263Z"
   },
   {
    "duration": 1297,
    "start_time": "2021-07-16T09:43:00.443Z"
   },
   {
    "duration": 22,
    "start_time": "2021-07-16T09:43:01.743Z"
   },
   {
    "duration": 392,
    "start_time": "2021-07-16T09:43:01.768Z"
   },
   {
    "duration": -36,
    "start_time": "2021-07-16T09:43:02.198Z"
   },
   {
    "duration": 772,
    "start_time": "2021-07-16T09:43:02.487Z"
   },
   {
    "duration": -39,
    "start_time": "2021-07-16T09:43:03.301Z"
   },
   {
    "duration": 12,
    "start_time": "2021-07-16T09:44:12.135Z"
   },
   {
    "duration": 153,
    "start_time": "2021-07-16T09:44:13.342Z"
   },
   {
    "duration": 118,
    "start_time": "2021-07-16T09:44:14.703Z"
   },
   {
    "duration": 635,
    "start_time": "2021-07-16T09:44:17.543Z"
   },
   {
    "duration": 326,
    "start_time": "2021-07-16T09:44:19.566Z"
   },
   {
    "duration": 485,
    "start_time": "2021-07-16T09:44:20.958Z"
   },
   {
    "duration": 7,
    "start_time": "2021-07-16T09:44:21.501Z"
   },
   {
    "duration": 29,
    "start_time": "2021-07-16T09:44:22.742Z"
   },
   {
    "duration": 295,
    "start_time": "2021-07-16T09:44:23.486Z"
   },
   {
    "duration": 511,
    "start_time": "2021-07-16T09:44:23.942Z"
   },
   {
    "duration": 7,
    "start_time": "2021-07-16T09:44:25.046Z"
   },
   {
    "duration": 9,
    "start_time": "2021-07-16T09:44:25.822Z"
   },
   {
    "duration": 19,
    "start_time": "2021-07-16T09:44:26.750Z"
   },
   {
    "duration": 234,
    "start_time": "2021-07-16T09:44:40.349Z"
   },
   {
    "duration": 10,
    "start_time": "2021-07-16T09:46:01.942Z"
   },
   {
    "duration": 8096,
    "start_time": "2021-07-16T09:46:25.468Z"
   },
   {
    "duration": 7641,
    "start_time": "2021-07-16T09:46:39.133Z"
   },
   {
    "duration": 10,
    "start_time": "2021-07-16T09:48:51.158Z"
   },
   {
    "duration": 11,
    "start_time": "2021-07-16T09:49:00.629Z"
   },
   {
    "duration": 50,
    "start_time": "2021-07-16T09:50:26.316Z"
   },
   {
    "duration": 51,
    "start_time": "2021-07-16T09:50:36.203Z"
   },
   {
    "duration": 49,
    "start_time": "2021-07-16T09:50:41.645Z"
   },
   {
    "duration": 8,
    "start_time": "2021-07-16T09:51:23.778Z"
   },
   {
    "duration": 6,
    "start_time": "2021-07-16T09:51:41.876Z"
   },
   {
    "duration": 46,
    "start_time": "2021-07-16T09:52:40.253Z"
   },
   {
    "duration": 8,
    "start_time": "2021-07-16T09:52:50.555Z"
   },
   {
    "duration": 9,
    "start_time": "2021-07-16T09:53:02.034Z"
   },
   {
    "duration": 6,
    "start_time": "2021-07-16T09:53:08.793Z"
   },
   {
    "duration": 6,
    "start_time": "2021-07-16T09:53:16.930Z"
   },
   {
    "duration": 53,
    "start_time": "2021-07-16T09:54:50.300Z"
   },
   {
    "duration": 53,
    "start_time": "2021-07-16T09:56:23.067Z"
   },
   {
    "duration": 52,
    "start_time": "2021-07-16T09:56:28.484Z"
   },
   {
    "duration": 53,
    "start_time": "2021-07-16T09:56:39.017Z"
   },
   {
    "duration": 51,
    "start_time": "2021-07-16T09:56:43.218Z"
   },
   {
    "duration": 56,
    "start_time": "2021-07-16T09:57:07.171Z"
   },
   {
    "duration": 58,
    "start_time": "2021-07-16T09:57:27.409Z"
   },
   {
    "duration": 54,
    "start_time": "2021-07-16T09:57:38.898Z"
   },
   {
    "duration": 80,
    "start_time": "2021-07-16T09:57:43.657Z"
   },
   {
    "duration": 46,
    "start_time": "2021-07-16T09:57:58.290Z"
   },
   {
    "duration": 46,
    "start_time": "2021-07-16T09:58:49.296Z"
   },
   {
    "duration": 47,
    "start_time": "2021-07-16T09:59:14.026Z"
   },
   {
    "duration": 386,
    "start_time": "2021-07-16T10:00:10.321Z"
   },
   {
    "duration": 69,
    "start_time": "2021-07-16T10:00:33.280Z"
   },
   {
    "duration": 436,
    "start_time": "2021-07-16T10:00:33.929Z"
   },
   {
    "duration": 1273,
    "start_time": "2021-07-16T10:05:03.775Z"
   },
   {
    "duration": 49,
    "start_time": "2021-07-16T10:05:53.800Z"
   },
   {
    "duration": 47,
    "start_time": "2021-07-16T10:06:02.839Z"
   },
   {
    "duration": 48,
    "start_time": "2021-07-16T10:06:24.957Z"
   },
   {
    "duration": 49,
    "start_time": "2021-07-16T10:06:59.880Z"
   },
   {
    "duration": 38,
    "start_time": "2021-07-16T10:08:01.158Z"
   },
   {
    "duration": 64,
    "start_time": "2021-07-16T10:08:22.589Z"
   },
   {
    "duration": 56,
    "start_time": "2021-07-16T10:08:23.230Z"
   },
   {
    "duration": 34,
    "start_time": "2021-07-16T10:10:24.193Z"
   },
   {
    "duration": 59,
    "start_time": "2021-07-16T10:10:46.818Z"
   },
   {
    "duration": 59,
    "start_time": "2021-07-16T10:11:04.423Z"
   },
   {
    "duration": 40,
    "start_time": "2021-07-16T10:11:30.262Z"
   },
   {
    "duration": 40,
    "start_time": "2021-07-16T10:11:39.949Z"
   },
   {
    "duration": 37,
    "start_time": "2021-07-16T10:12:59.452Z"
   },
   {
    "duration": 45,
    "start_time": "2021-07-16T10:15:23.329Z"
   },
   {
    "duration": 101,
    "start_time": "2021-07-16T10:15:28.995Z"
   },
   {
    "duration": 45,
    "start_time": "2021-07-16T10:15:34.443Z"
   },
   {
    "duration": 47,
    "start_time": "2021-07-16T10:16:02.243Z"
   },
   {
    "duration": 63,
    "start_time": "2021-07-16T10:16:07.346Z"
   },
   {
    "duration": 68,
    "start_time": "2021-07-16T10:16:11.657Z"
   },
   {
    "duration": 66,
    "start_time": "2021-07-16T10:16:17.075Z"
   },
   {
    "duration": 29,
    "start_time": "2021-07-16T10:17:15.489Z"
   },
   {
    "duration": 70,
    "start_time": "2021-07-16T10:17:16.858Z"
   },
   {
    "duration": 46,
    "start_time": "2021-07-16T10:17:21.792Z"
   },
   {
    "duration": 38,
    "start_time": "2021-07-16T10:17:22.490Z"
   },
   {
    "duration": 124,
    "start_time": "2021-07-16T10:22:25.646Z"
   },
   {
    "duration": 26,
    "start_time": "2021-07-16T10:23:18.311Z"
   },
   {
    "duration": 21,
    "start_time": "2021-07-16T10:23:29.983Z"
   },
   {
    "duration": 29,
    "start_time": "2021-07-16T10:25:16.459Z"
   },
   {
    "duration": 18,
    "start_time": "2021-07-16T10:25:25.318Z"
   },
   {
    "duration": 21,
    "start_time": "2021-07-16T10:26:19.660Z"
   },
   {
    "duration": 16,
    "start_time": "2021-07-16T10:27:42.125Z"
   },
   {
    "duration": 22,
    "start_time": "2021-07-16T10:27:47.293Z"
   },
   {
    "duration": 18,
    "start_time": "2021-07-16T10:27:54.204Z"
   },
   {
    "duration": 40,
    "start_time": "2021-07-16T10:28:57.190Z"
   },
   {
    "duration": 2121,
    "start_time": "2021-07-16T10:29:05.166Z"
   },
   {
    "duration": 794,
    "start_time": "2021-07-16T10:29:07.289Z"
   },
   {
    "duration": 5,
    "start_time": "2021-07-16T10:29:08.087Z"
   },
   {
    "duration": 524,
    "start_time": "2021-07-16T10:29:08.095Z"
   },
   {
    "duration": 57,
    "start_time": "2021-07-16T10:29:08.622Z"
   },
   {
    "duration": 426,
    "start_time": "2021-07-16T10:29:08.682Z"
   },
   {
    "duration": 87,
    "start_time": "2021-07-16T10:29:09.110Z"
   },
   {
    "duration": 4,
    "start_time": "2021-07-16T10:29:09.199Z"
   },
   {
    "duration": 180,
    "start_time": "2021-07-16T10:29:09.207Z"
   },
   {
    "duration": 1358,
    "start_time": "2021-07-16T10:29:09.390Z"
   },
   {
    "duration": 95,
    "start_time": "2021-07-16T10:29:10.750Z"
   },
   {
    "duration": 62,
    "start_time": "2021-07-16T10:29:10.847Z"
   },
   {
    "duration": 66,
    "start_time": "2021-07-16T10:29:10.911Z"
   },
   {
    "duration": 36,
    "start_time": "2021-07-16T10:29:10.979Z"
   },
   {
    "duration": 18,
    "start_time": "2021-07-16T10:29:11.018Z"
   },
   {
    "duration": 30,
    "start_time": "2021-07-16T10:29:11.038Z"
   },
   {
    "duration": 1934,
    "start_time": "2021-07-16T10:29:11.070Z"
   },
   {
    "duration": 13,
    "start_time": "2021-07-16T10:29:13.006Z"
   },
   {
    "duration": 12,
    "start_time": "2021-07-16T10:29:13.021Z"
   },
   {
    "duration": 207,
    "start_time": "2021-07-16T10:29:13.035Z"
   },
   {
    "duration": 126,
    "start_time": "2021-07-16T10:29:13.245Z"
   },
   {
    "duration": 636,
    "start_time": "2021-07-16T10:29:13.374Z"
   },
   {
    "duration": 486,
    "start_time": "2021-07-16T10:29:14.012Z"
   },
   {
    "duration": 474,
    "start_time": "2021-07-16T10:29:14.500Z"
   },
   {
    "duration": 9,
    "start_time": "2021-07-16T10:29:14.977Z"
   },
   {
    "duration": 38,
    "start_time": "2021-07-16T10:29:14.989Z"
   },
   {
    "duration": 315,
    "start_time": "2021-07-16T10:29:15.062Z"
   },
   {
    "duration": 464,
    "start_time": "2021-07-16T10:29:15.381Z"
   },
   {
    "duration": 14,
    "start_time": "2021-07-16T10:29:15.847Z"
   },
   {
    "duration": 10,
    "start_time": "2021-07-16T10:29:15.863Z"
   },
   {
    "duration": 35,
    "start_time": "2021-07-16T10:29:15.875Z"
   },
   {
    "duration": 11,
    "start_time": "2021-07-16T10:29:15.912Z"
   },
   {
    "duration": 69,
    "start_time": "2021-07-16T10:29:15.925Z"
   },
   {
    "duration": 13,
    "start_time": "2021-07-16T10:29:15.997Z"
   },
   {
    "duration": 220,
    "start_time": "2021-07-16T10:29:16.012Z"
   },
   {
    "duration": 31,
    "start_time": "2021-07-16T11:51:02.624Z"
   },
   {
    "duration": 48,
    "start_time": "2021-07-16T11:51:16.235Z"
   },
   {
    "duration": 153,
    "start_time": "2021-07-16T11:51:43.954Z"
   },
   {
    "duration": 47,
    "start_time": "2021-07-16T11:51:44.428Z"
   },
   {
    "duration": 51,
    "start_time": "2021-07-16T11:51:48.984Z"
   },
   {
    "duration": 39,
    "start_time": "2021-07-16T11:52:12.842Z"
   },
   {
    "duration": 69,
    "start_time": "2021-07-16T11:53:28.882Z"
   },
   {
    "duration": 56,
    "start_time": "2021-07-16T11:53:29.444Z"
   },
   {
    "duration": 11,
    "start_time": "2021-07-16T11:57:30.528Z"
   },
   {
    "duration": 40,
    "start_time": "2021-07-16T11:59:01.685Z"
   },
   {
    "duration": 20,
    "start_time": "2021-07-16T11:59:04.873Z"
   },
   {
    "duration": 48,
    "start_time": "2021-07-16T11:59:05.816Z"
   },
   {
    "duration": 42,
    "start_time": "2021-07-16T11:59:06.370Z"
   },
   {
    "duration": 38,
    "start_time": "2021-07-16T12:01:40.238Z"
   },
   {
    "duration": 11,
    "start_time": "2021-07-16T12:01:41.071Z"
   },
   {
    "duration": 6,
    "start_time": "2021-07-16T12:02:04.426Z"
   },
   {
    "duration": 11,
    "start_time": "2021-07-16T12:02:12.352Z"
   },
   {
    "duration": 6,
    "start_time": "2021-07-16T12:02:35.457Z"
   },
   {
    "duration": 6,
    "start_time": "2021-07-16T12:03:00.851Z"
   },
   {
    "duration": -49,
    "start_time": "2021-07-16T12:03:21.439Z"
   },
   {
    "duration": -49,
    "start_time": "2021-07-16T12:03:21.441Z"
   },
   {
    "duration": 9,
    "start_time": "2021-07-16T12:03:47.668Z"
   },
   {
    "duration": 11,
    "start_time": "2021-07-16T12:03:49.004Z"
   },
   {
    "duration": 6,
    "start_time": "2021-07-16T12:04:28.367Z"
   },
   {
    "duration": 6,
    "start_time": "2021-07-16T12:04:29.758Z"
   },
   {
    "duration": 1163,
    "start_time": "2021-07-16T12:04:30.206Z"
   },
   {
    "duration": 63,
    "start_time": "2021-07-16T12:05:59.483Z"
   },
   {
    "duration": 10,
    "start_time": "2021-07-16T12:06:00.083Z"
   },
   {
    "duration": 10,
    "start_time": "2021-07-16T12:06:05.541Z"
   },
   {
    "duration": 871,
    "start_time": "2021-07-16T12:06:06.222Z"
   },
   {
    "duration": 8,
    "start_time": "2021-07-16T12:06:33.982Z"
   },
   {
    "duration": 7,
    "start_time": "2021-07-16T12:06:35.029Z"
   },
   {
    "duration": 882,
    "start_time": "2021-07-16T12:06:35.839Z"
   },
   {
    "duration": 127,
    "start_time": "2021-07-16T12:07:20.717Z"
   },
   {
    "duration": 13,
    "start_time": "2021-07-16T12:08:54.674Z"
   },
   {
    "duration": 11,
    "start_time": "2021-07-16T12:08:55.098Z"
   },
   {
    "duration": 41,
    "start_time": "2021-07-16T12:08:59.804Z"
   },
   {
    "duration": 19,
    "start_time": "2021-07-16T12:09:46.959Z"
   },
   {
    "duration": 14,
    "start_time": "2021-07-16T12:09:47.541Z"
   },
   {
    "duration": 1891,
    "start_time": "2021-07-16T12:10:08.162Z"
   },
   {
    "duration": 1108,
    "start_time": "2021-07-16T12:10:10.056Z"
   },
   {
    "duration": 5,
    "start_time": "2021-07-16T12:10:11.168Z"
   },
   {
    "duration": 564,
    "start_time": "2021-07-16T12:10:11.176Z"
   },
   {
    "duration": 554,
    "start_time": "2021-07-16T12:10:11.763Z"
   },
   {
    "duration": 138,
    "start_time": "2021-07-16T12:10:12.320Z"
   },
   {
    "duration": 4,
    "start_time": "2021-07-16T12:10:12.462Z"
   },
   {
    "duration": 268,
    "start_time": "2021-07-16T12:10:12.471Z"
   },
   {
    "duration": 1368,
    "start_time": "2021-07-16T12:10:12.743Z"
   },
   {
    "duration": 82,
    "start_time": "2021-07-16T12:10:14.114Z"
   },
   {
    "duration": 68,
    "start_time": "2021-07-16T12:10:14.199Z"
   },
   {
    "duration": 49,
    "start_time": "2021-07-16T12:10:14.270Z"
   },
   {
    "duration": 62,
    "start_time": "2021-07-16T12:10:14.321Z"
   },
   {
    "duration": 18,
    "start_time": "2021-07-16T12:10:14.386Z"
   },
   {
    "duration": 97,
    "start_time": "2021-07-16T12:10:14.407Z"
   },
   {
    "duration": 75,
    "start_time": "2021-07-16T12:10:14.508Z"
   },
   {
    "duration": 10,
    "start_time": "2021-07-16T12:10:14.586Z"
   },
   {
    "duration": 9,
    "start_time": "2021-07-16T12:10:14.600Z"
   },
   {
    "duration": 2238,
    "start_time": "2021-07-16T12:10:14.612Z"
   },
   {
    "duration": 24,
    "start_time": "2021-07-16T12:10:16.853Z"
   },
   {
    "duration": 14,
    "start_time": "2021-07-16T12:10:16.880Z"
   },
   {
    "duration": 215,
    "start_time": "2021-07-16T12:10:16.897Z"
   },
   {
    "duration": 119,
    "start_time": "2021-07-16T12:10:17.117Z"
   },
   {
    "duration": 642,
    "start_time": "2021-07-16T12:10:17.239Z"
   },
   {
    "duration": 324,
    "start_time": "2021-07-16T12:10:17.883Z"
   },
   {
    "duration": 504,
    "start_time": "2021-07-16T12:10:18.209Z"
   },
   {
    "duration": 6,
    "start_time": "2021-07-16T12:10:18.715Z"
   },
   {
    "duration": 54,
    "start_time": "2021-07-16T12:10:18.723Z"
   },
   {
    "duration": 463,
    "start_time": "2021-07-16T12:10:18.781Z"
   },
   {
    "duration": 645,
    "start_time": "2021-07-16T12:10:19.247Z"
   },
   {
    "duration": 8,
    "start_time": "2021-07-16T12:10:19.895Z"
   },
   {
    "duration": 10,
    "start_time": "2021-07-16T12:10:19.905Z"
   },
   {
    "duration": 50,
    "start_time": "2021-07-16T12:10:19.918Z"
   },
   {
    "duration": 11,
    "start_time": "2021-07-16T12:10:19.970Z"
   },
   {
    "duration": 85,
    "start_time": "2021-07-16T12:10:19.985Z"
   },
   {
    "duration": 18,
    "start_time": "2021-07-16T12:10:20.073Z"
   },
   {
    "duration": 505,
    "start_time": "2021-07-16T12:10:20.095Z"
   },
   {
    "duration": 868,
    "start_time": "2021-07-16T12:15:06.558Z"
   },
   {
    "duration": 6,
    "start_time": "2021-07-16T12:15:19.480Z"
   },
   {
    "duration": 2575,
    "start_time": "2021-07-16T12:15:30.457Z"
   },
   {
    "duration": 1155,
    "start_time": "2021-07-16T12:15:33.035Z"
   },
   {
    "duration": 4,
    "start_time": "2021-07-16T12:15:34.194Z"
   },
   {
    "duration": 563,
    "start_time": "2021-07-16T12:15:34.202Z"
   },
   {
    "duration": 603,
    "start_time": "2021-07-16T12:15:34.768Z"
   },
   {
    "duration": 95,
    "start_time": "2021-07-16T12:15:35.373Z"
   },
   {
    "duration": 5,
    "start_time": "2021-07-16T12:15:35.470Z"
   },
   {
    "duration": 183,
    "start_time": "2021-07-16T12:15:35.478Z"
   },
   {
    "duration": 1398,
    "start_time": "2021-07-16T12:15:35.665Z"
   },
   {
    "duration": 76,
    "start_time": "2021-07-16T12:15:37.066Z"
   },
   {
    "duration": 72,
    "start_time": "2021-07-16T12:15:37.144Z"
   },
   {
    "duration": 70,
    "start_time": "2021-07-16T12:15:37.219Z"
   },
   {
    "duration": 39,
    "start_time": "2021-07-16T12:15:37.291Z"
   },
   {
    "duration": 45,
    "start_time": "2021-07-16T12:15:37.332Z"
   },
   {
    "duration": 51,
    "start_time": "2021-07-16T12:15:37.379Z"
   },
   {
    "duration": 64,
    "start_time": "2021-07-16T12:15:37.433Z"
   },
   {
    "duration": 7,
    "start_time": "2021-07-16T12:15:37.500Z"
   },
   {
    "duration": 11,
    "start_time": "2021-07-16T12:15:37.509Z"
   },
   {
    "duration": 1659,
    "start_time": "2021-07-16T12:15:37.522Z"
   },
   {
    "duration": 16,
    "start_time": "2021-07-16T12:15:39.184Z"
   },
   {
    "duration": 10,
    "start_time": "2021-07-16T12:15:39.203Z"
   },
   {
    "duration": 211,
    "start_time": "2021-07-16T12:15:39.216Z"
   },
   {
    "duration": 135,
    "start_time": "2021-07-16T12:15:39.431Z"
   },
   {
    "duration": 652,
    "start_time": "2021-07-16T12:15:39.569Z"
   },
   {
    "duration": 333,
    "start_time": "2021-07-16T12:15:40.223Z"
   },
   {
    "duration": 470,
    "start_time": "2021-07-16T12:15:40.561Z"
   },
   {
    "duration": 6,
    "start_time": "2021-07-16T12:15:41.034Z"
   },
   {
    "duration": 30,
    "start_time": "2021-07-16T12:15:41.063Z"
   },
   {
    "duration": 349,
    "start_time": "2021-07-16T12:15:41.097Z"
   },
   {
    "duration": 651,
    "start_time": "2021-07-16T12:15:41.449Z"
   },
   {
    "duration": 8,
    "start_time": "2021-07-16T12:15:42.103Z"
   },
   {
    "duration": 17,
    "start_time": "2021-07-16T12:15:42.113Z"
   },
   {
    "duration": 38,
    "start_time": "2021-07-16T12:15:42.133Z"
   },
   {
    "duration": 10,
    "start_time": "2021-07-16T12:15:42.174Z"
   },
   {
    "duration": 44,
    "start_time": "2021-07-16T12:15:42.187Z"
   },
   {
    "duration": 35,
    "start_time": "2021-07-16T12:15:42.233Z"
   },
   {
    "duration": 487,
    "start_time": "2021-07-16T12:15:42.270Z"
   },
   {
    "duration": 859,
    "start_time": "2021-07-16T12:15:55.498Z"
   },
   {
    "duration": 837,
    "start_time": "2021-07-16T12:15:59.677Z"
   },
   {
    "duration": 1953,
    "start_time": "2021-07-16T12:16:07.430Z"
   },
   {
    "duration": 845,
    "start_time": "2021-07-16T12:16:09.386Z"
   },
   {
    "duration": 5,
    "start_time": "2021-07-16T12:16:10.239Z"
   },
   {
    "duration": 374,
    "start_time": "2021-07-16T12:16:10.247Z"
   },
   {
    "duration": 459,
    "start_time": "2021-07-16T12:16:10.623Z"
   },
   {
    "duration": 91,
    "start_time": "2021-07-16T12:16:11.084Z"
   },
   {
    "duration": 4,
    "start_time": "2021-07-16T12:16:11.179Z"
   },
   {
    "duration": 192,
    "start_time": "2021-07-16T12:16:11.186Z"
   },
   {
    "duration": 1543,
    "start_time": "2021-07-16T12:16:11.380Z"
   },
   {
    "duration": 76,
    "start_time": "2021-07-16T12:16:12.927Z"
   },
   {
    "duration": 66,
    "start_time": "2021-07-16T12:16:13.006Z"
   },
   {
    "duration": 50,
    "start_time": "2021-07-16T12:16:13.075Z"
   },
   {
    "duration": 61,
    "start_time": "2021-07-16T12:16:13.128Z"
   },
   {
    "duration": 19,
    "start_time": "2021-07-16T12:16:13.192Z"
   },
   {
    "duration": 83,
    "start_time": "2021-07-16T12:16:13.214Z"
   },
   {
    "duration": 66,
    "start_time": "2021-07-16T12:16:13.299Z"
   },
   {
    "duration": 10,
    "start_time": "2021-07-16T12:16:13.368Z"
   },
   {
    "duration": 11,
    "start_time": "2021-07-16T12:16:13.382Z"
   },
   {
    "duration": 2010,
    "start_time": "2021-07-16T12:16:13.396Z"
   },
   {
    "duration": 15,
    "start_time": "2021-07-16T12:16:15.408Z"
   },
   {
    "duration": 10,
    "start_time": "2021-07-16T12:16:15.425Z"
   },
   {
    "duration": 200,
    "start_time": "2021-07-16T12:16:15.468Z"
   },
   {
    "duration": 126,
    "start_time": "2021-07-16T12:16:15.671Z"
   },
   {
    "duration": 646,
    "start_time": "2021-07-16T12:16:15.799Z"
   },
   {
    "duration": 343,
    "start_time": "2021-07-16T12:16:16.448Z"
   },
   {
    "duration": 467,
    "start_time": "2021-07-16T12:16:16.794Z"
   },
   {
    "duration": 7,
    "start_time": "2021-07-16T12:16:17.264Z"
   },
   {
    "duration": 35,
    "start_time": "2021-07-16T12:16:17.273Z"
   },
   {
    "duration": 325,
    "start_time": "2021-07-16T12:16:17.310Z"
   },
   {
    "duration": 496,
    "start_time": "2021-07-16T12:16:17.637Z"
   },
   {
    "duration": 6,
    "start_time": "2021-07-16T12:16:18.136Z"
   },
   {
    "duration": 23,
    "start_time": "2021-07-16T12:16:18.144Z"
   },
   {
    "duration": 21,
    "start_time": "2021-07-16T12:16:18.169Z"
   },
   {
    "duration": 10,
    "start_time": "2021-07-16T12:16:18.192Z"
   },
   {
    "duration": 73,
    "start_time": "2021-07-16T12:16:18.204Z"
   },
   {
    "duration": 13,
    "start_time": "2021-07-16T12:16:18.280Z"
   },
   {
    "duration": 367,
    "start_time": "2021-07-16T12:16:18.295Z"
   },
   {
    "duration": 5,
    "start_time": "2021-07-16T12:16:45.134Z"
   },
   {
    "duration": 1085,
    "start_time": "2021-07-16T12:16:47.895Z"
   },
   {
    "duration": 5,
    "start_time": "2021-07-16T12:16:48.984Z"
   },
   {
    "duration": 537,
    "start_time": "2021-07-16T12:16:49.241Z"
   },
   {
    "duration": 366,
    "start_time": "2021-07-16T12:16:50.796Z"
   },
   {
    "duration": 74,
    "start_time": "2021-07-16T12:16:51.327Z"
   },
   {
    "duration": 3,
    "start_time": "2021-07-16T12:16:52.208Z"
   },
   {
    "duration": 152,
    "start_time": "2021-07-16T12:16:52.689Z"
   },
   {
    "duration": 1301,
    "start_time": "2021-07-16T12:16:54.143Z"
   },
   {
    "duration": 64,
    "start_time": "2021-07-16T12:16:55.447Z"
   },
   {
    "duration": 73,
    "start_time": "2021-07-16T12:16:55.514Z"
   },
   {
    "duration": 48,
    "start_time": "2021-07-16T12:16:55.589Z"
   },
   {
    "duration": 40,
    "start_time": "2021-07-16T12:16:55.822Z"
   },
   {
    "duration": 27,
    "start_time": "2021-07-16T12:16:59.832Z"
   },
   {
    "duration": 52,
    "start_time": "2021-07-16T12:16:59.863Z"
   },
   {
    "duration": 77,
    "start_time": "2021-07-16T12:16:59.919Z"
   },
   {
    "duration": 9,
    "start_time": "2021-07-16T12:17:00.000Z"
   },
   {
    "duration": 19,
    "start_time": "2021-07-16T12:17:00.013Z"
   },
   {
    "duration": 771,
    "start_time": "2021-07-16T12:17:00.035Z"
   },
   {
    "duration": 13,
    "start_time": "2021-07-16T12:17:02.551Z"
   },
   {
    "duration": 11,
    "start_time": "2021-07-16T12:17:02.975Z"
   },
   {
    "duration": 176,
    "start_time": "2021-07-16T12:17:03.908Z"
   },
   {
    "duration": 117,
    "start_time": "2021-07-16T12:17:04.822Z"
   },
   {
    "duration": 801,
    "start_time": "2021-07-16T12:17:06.336Z"
   },
   {
    "duration": 1936,
    "start_time": "2021-07-16T12:17:14.699Z"
   },
   {
    "duration": 858,
    "start_time": "2021-07-16T12:17:16.638Z"
   },
   {
    "duration": 5,
    "start_time": "2021-07-16T12:17:17.499Z"
   },
   {
    "duration": 467,
    "start_time": "2021-07-16T12:17:17.508Z"
   },
   {
    "duration": 437,
    "start_time": "2021-07-16T12:17:17.979Z"
   },
   {
    "duration": 95,
    "start_time": "2021-07-16T12:17:18.419Z"
   },
   {
    "duration": 4,
    "start_time": "2021-07-16T12:17:18.517Z"
   },
   {
    "duration": 184,
    "start_time": "2021-07-16T12:17:18.524Z"
   },
   {
    "duration": 1352,
    "start_time": "2021-07-16T12:17:18.711Z"
   },
   {
    "duration": 75,
    "start_time": "2021-07-16T12:17:20.066Z"
   },
   {
    "duration": 64,
    "start_time": "2021-07-16T12:17:20.144Z"
   },
   {
    "duration": 72,
    "start_time": "2021-07-16T12:17:20.211Z"
   },
   {
    "duration": 40,
    "start_time": "2021-07-16T12:17:20.285Z"
   },
   {
    "duration": 41,
    "start_time": "2021-07-16T12:17:20.327Z"
   },
   {
    "duration": 50,
    "start_time": "2021-07-16T12:17:20.370Z"
   },
   {
    "duration": 57,
    "start_time": "2021-07-16T12:17:20.422Z"
   },
   {
    "duration": 7,
    "start_time": "2021-07-16T12:17:20.481Z"
   },
   {
    "duration": 8,
    "start_time": "2021-07-16T12:17:20.490Z"
   },
   {
    "duration": 1660,
    "start_time": "2021-07-16T12:17:20.501Z"
   },
   {
    "duration": 14,
    "start_time": "2021-07-16T12:17:22.164Z"
   },
   {
    "duration": 20,
    "start_time": "2021-07-16T12:17:22.180Z"
   },
   {
    "duration": 215,
    "start_time": "2021-07-16T12:17:22.203Z"
   },
   {
    "duration": 121,
    "start_time": "2021-07-16T12:17:22.423Z"
   },
   {
    "duration": 737,
    "start_time": "2021-07-16T12:17:22.547Z"
   },
   {
    "duration": 332,
    "start_time": "2021-07-16T12:17:23.286Z"
   },
   {
    "duration": 501,
    "start_time": "2021-07-16T12:17:23.620Z"
   },
   {
    "duration": 6,
    "start_time": "2021-07-16T12:17:24.124Z"
   },
   {
    "duration": 45,
    "start_time": "2021-07-16T12:17:24.133Z"
   },
   {
    "duration": 328,
    "start_time": "2021-07-16T12:17:24.181Z"
   },
   {
    "duration": 671,
    "start_time": "2021-07-16T12:17:24.512Z"
   },
   {
    "duration": 10,
    "start_time": "2021-07-16T12:17:25.186Z"
   },
   {
    "duration": 14,
    "start_time": "2021-07-16T12:17:25.199Z"
   },
   {
    "duration": 24,
    "start_time": "2021-07-16T12:17:25.215Z"
   },
   {
    "duration": 10,
    "start_time": "2021-07-16T12:17:25.263Z"
   },
   {
    "duration": 42,
    "start_time": "2021-07-16T12:17:25.276Z"
   },
   {
    "duration": 12,
    "start_time": "2021-07-16T12:17:25.321Z"
   },
   {
    "duration": 384,
    "start_time": "2021-07-16T12:17:25.336Z"
   },
   {
    "duration": 33,
    "start_time": "2021-07-16T12:19:33.455Z"
   },
   {
    "duration": 10,
    "start_time": "2021-07-16T12:19:43.097Z"
   },
   {
    "duration": 111,
    "start_time": "2021-07-16T12:20:09.191Z"
   },
   {
    "duration": 43,
    "start_time": "2021-07-16T12:20:29.818Z"
   },
   {
    "duration": 2381,
    "start_time": "2021-07-16T12:20:50.355Z"
   },
   {
    "duration": 1068,
    "start_time": "2021-07-16T12:20:52.739Z"
   },
   {
    "duration": 5,
    "start_time": "2021-07-16T12:20:53.814Z"
   },
   {
    "duration": 376,
    "start_time": "2021-07-16T12:20:53.822Z"
   },
   {
    "duration": 418,
    "start_time": "2021-07-16T12:20:54.201Z"
   },
   {
    "duration": 94,
    "start_time": "2021-07-16T12:20:54.621Z"
   },
   {
    "duration": 4,
    "start_time": "2021-07-16T12:20:54.719Z"
   },
   {
    "duration": 196,
    "start_time": "2021-07-16T12:20:54.726Z"
   },
   {
    "duration": 1386,
    "start_time": "2021-07-16T12:20:54.925Z"
   },
   {
    "duration": 78,
    "start_time": "2021-07-16T12:20:56.313Z"
   },
   {
    "duration": 51,
    "start_time": "2021-07-16T12:20:56.394Z"
   },
   {
    "duration": 59,
    "start_time": "2021-07-16T12:20:56.447Z"
   },
   {
    "duration": 66,
    "start_time": "2021-07-16T12:20:56.509Z"
   },
   {
    "duration": 17,
    "start_time": "2021-07-16T12:20:56.578Z"
   },
   {
    "duration": 64,
    "start_time": "2021-07-16T12:20:56.597Z"
   },
   {
    "duration": 37,
    "start_time": "2021-07-16T12:20:56.664Z"
   },
   {
    "duration": 9,
    "start_time": "2021-07-16T12:20:56.704Z"
   },
   {
    "duration": 8,
    "start_time": "2021-07-16T12:20:56.715Z"
   },
   {
    "duration": 1720,
    "start_time": "2021-07-16T12:20:56.725Z"
   },
   {
    "duration": 22,
    "start_time": "2021-07-16T12:20:58.448Z"
   },
   {
    "duration": 13,
    "start_time": "2021-07-16T12:20:58.473Z"
   },
   {
    "duration": 108,
    "start_time": "2021-07-16T12:20:58.494Z"
   },
   {
    "duration": 128,
    "start_time": "2021-07-16T12:20:58.606Z"
   },
   {
    "duration": -903,
    "start_time": "2021-07-16T12:20:59.640Z"
   },
   {
    "duration": -904,
    "start_time": "2021-07-16T12:20:59.643Z"
   },
   {
    "duration": -904,
    "start_time": "2021-07-16T12:20:59.645Z"
   },
   {
    "duration": -903,
    "start_time": "2021-07-16T12:20:59.647Z"
   },
   {
    "duration": -904,
    "start_time": "2021-07-16T12:20:59.650Z"
   },
   {
    "duration": -905,
    "start_time": "2021-07-16T12:20:59.653Z"
   },
   {
    "duration": -905,
    "start_time": "2021-07-16T12:20:59.655Z"
   },
   {
    "duration": -909,
    "start_time": "2021-07-16T12:20:59.661Z"
   },
   {
    "duration": -909,
    "start_time": "2021-07-16T12:20:59.663Z"
   },
   {
    "duration": -909,
    "start_time": "2021-07-16T12:20:59.665Z"
   },
   {
    "duration": -909,
    "start_time": "2021-07-16T12:20:59.667Z"
   },
   {
    "duration": -909,
    "start_time": "2021-07-16T12:20:59.669Z"
   },
   {
    "duration": -909,
    "start_time": "2021-07-16T12:20:59.671Z"
   },
   {
    "duration": -909,
    "start_time": "2021-07-16T12:20:59.673Z"
   },
   {
    "duration": -909,
    "start_time": "2021-07-16T12:20:59.675Z"
   },
   {
    "duration": 99,
    "start_time": "2021-07-16T12:21:22.415Z"
   },
   {
    "duration": 363,
    "start_time": "2021-07-16T12:21:39.098Z"
   },
   {
    "duration": 128,
    "start_time": "2021-07-16T12:22:09.164Z"
   },
   {
    "duration": 233,
    "start_time": "2021-07-16T12:22:13.107Z"
   },
   {
    "duration": 785,
    "start_time": "2021-07-16T12:22:22.765Z"
   },
   {
    "duration": 120,
    "start_time": "2021-07-16T12:22:31.284Z"
   },
   {
    "duration": 566,
    "start_time": "2021-07-16T12:22:54.772Z"
   },
   {
    "duration": 238,
    "start_time": "2021-07-16T12:26:01.712Z"
   },
   {
    "duration": 241,
    "start_time": "2021-07-16T12:26:12.041Z"
   },
   {
    "duration": 249,
    "start_time": "2021-07-16T12:26:29.636Z"
   },
   {
    "duration": 108,
    "start_time": "2021-07-16T12:30:02.800Z"
   },
   {
    "duration": 50,
    "start_time": "2021-07-16T12:30:13.518Z"
   },
   {
    "duration": 49,
    "start_time": "2021-07-16T12:42:33.218Z"
   },
   {
    "duration": 124,
    "start_time": "2021-07-16T12:42:34.188Z"
   },
   {
    "duration": 279,
    "start_time": "2021-07-16T12:47:00.207Z"
   },
   {
    "duration": 68,
    "start_time": "2021-07-16T12:52:33.662Z"
   },
   {
    "duration": 70,
    "start_time": "2021-07-16T12:53:00.531Z"
   },
   {
    "duration": 120,
    "start_time": "2021-07-16T12:54:53.438Z"
   },
   {
    "duration": 617,
    "start_time": "2021-07-16T12:55:09.511Z"
   },
   {
    "duration": 487,
    "start_time": "2021-07-16T12:55:13.680Z"
   },
   {
    "duration": 1258,
    "start_time": "2021-07-16T12:55:16.559Z"
   },
   {
    "duration": 8,
    "start_time": "2021-07-16T12:55:18.376Z"
   },
   {
    "duration": 282,
    "start_time": "2021-07-16T12:55:19.711Z"
   },
   {
    "duration": 475,
    "start_time": "2021-07-16T12:55:20.512Z"
   },
   {
    "duration": 1272,
    "start_time": "2021-07-16T12:55:20.990Z"
   },
   {
    "duration": 8,
    "start_time": "2021-07-16T12:55:22.264Z"
   },
   {
    "duration": 19,
    "start_time": "2021-07-16T12:55:22.274Z"
   },
   {
    "duration": 22,
    "start_time": "2021-07-16T12:55:23.800Z"
   },
   {
    "duration": 14,
    "start_time": "2021-07-16T12:57:00.459Z"
   },
   {
    "duration": 14,
    "start_time": "2021-07-16T12:58:25.721Z"
   },
   {
    "duration": 7926,
    "start_time": "2021-07-16T12:59:06.623Z"
   },
   {
    "duration": 7,
    "start_time": "2021-07-16T14:32:05.449Z"
   },
   {
    "duration": 6,
    "start_time": "2021-07-16T14:33:23.037Z"
   },
   {
    "duration": 8,
    "start_time": "2021-07-16T14:33:49.141Z"
   },
   {
    "duration": 8,
    "start_time": "2021-07-16T14:33:59.396Z"
   },
   {
    "duration": 14,
    "start_time": "2021-07-16T14:34:47.320Z"
   },
   {
    "duration": 7,
    "start_time": "2021-07-16T14:34:47.932Z"
   },
   {
    "duration": 17,
    "start_time": "2021-07-16T14:35:55.010Z"
   },
   {
    "duration": 580,
    "start_time": "2021-07-16T14:36:11.555Z"
   },
   {
    "duration": 15,
    "start_time": "2021-07-16T14:36:16.476Z"
   },
   {
    "duration": 119,
    "start_time": "2021-07-16T14:37:32.943Z"
   },
   {
    "duration": 14,
    "start_time": "2021-07-16T14:37:54.076Z"
   },
   {
    "duration": 7,
    "start_time": "2021-07-16T14:38:34.339Z"
   },
   {
    "duration": 15,
    "start_time": "2021-07-16T14:39:05.144Z"
   },
   {
    "duration": 3,
    "start_time": "2021-07-16T14:51:11.472Z"
   },
   {
    "duration": 542,
    "start_time": "2021-07-16T14:59:06.813Z"
   },
   {
    "duration": 39,
    "start_time": "2021-07-16T14:59:10.981Z"
   },
   {
    "duration": 323,
    "start_time": "2021-07-16T15:01:15.672Z"
   },
   {
    "duration": 232,
    "start_time": "2021-07-16T15:01:27.218Z"
   },
   {
    "duration": 431,
    "start_time": "2021-07-16T15:02:05.907Z"
   },
   {
    "duration": 769,
    "start_time": "2021-07-16T15:02:26.051Z"
   },
   {
    "duration": 1029,
    "start_time": "2021-07-16T15:02:31.609Z"
   },
   {
    "duration": 2255,
    "start_time": "2021-07-16T15:03:53.965Z"
   },
   {
    "duration": 803,
    "start_time": "2021-07-16T15:03:56.222Z"
   },
   {
    "duration": 5,
    "start_time": "2021-07-16T15:03:57.029Z"
   },
   {
    "duration": 372,
    "start_time": "2021-07-16T15:03:57.036Z"
   },
   {
    "duration": 603,
    "start_time": "2021-07-16T15:03:57.411Z"
   },
   {
    "duration": 136,
    "start_time": "2021-07-16T15:03:58.017Z"
   },
   {
    "duration": 5,
    "start_time": "2021-07-16T15:03:58.161Z"
   },
   {
    "duration": 294,
    "start_time": "2021-07-16T15:03:58.171Z"
   },
   {
    "duration": 2035,
    "start_time": "2021-07-16T15:03:58.469Z"
   },
   {
    "duration": 174,
    "start_time": "2021-07-16T15:04:00.507Z"
   },
   {
    "duration": 85,
    "start_time": "2021-07-16T15:04:00.684Z"
   },
   {
    "duration": 70,
    "start_time": "2021-07-16T15:04:00.772Z"
   },
   {
    "duration": 37,
    "start_time": "2021-07-16T15:04:00.863Z"
   },
   {
    "duration": 19,
    "start_time": "2021-07-16T15:04:00.902Z"
   },
   {
    "duration": 79,
    "start_time": "2021-07-16T15:04:00.924Z"
   },
   {
    "duration": 38,
    "start_time": "2021-07-16T15:04:01.006Z"
   },
   {
    "duration": 7,
    "start_time": "2021-07-16T15:04:01.063Z"
   },
   {
    "duration": 57,
    "start_time": "2021-07-16T15:04:01.072Z"
   },
   {
    "duration": 1606,
    "start_time": "2021-07-16T15:04:01.131Z"
   },
   {
    "duration": 23,
    "start_time": "2021-07-16T15:04:02.739Z"
   },
   {
    "duration": 21,
    "start_time": "2021-07-16T15:04:02.764Z"
   },
   {
    "duration": 76,
    "start_time": "2021-07-16T15:04:02.787Z"
   },
   {
    "duration": 289,
    "start_time": "2021-07-16T15:04:02.868Z"
   },
   {
    "duration": 60,
    "start_time": "2021-07-16T15:04:03.160Z"
   },
   {
    "duration": 658,
    "start_time": "2021-07-16T15:04:03.223Z"
   },
   {
    "duration": 7,
    "start_time": "2021-07-16T15:04:03.883Z"
   },
   {
    "duration": 38,
    "start_time": "2021-07-16T15:04:03.893Z"
   },
   {
    "duration": 555,
    "start_time": "2021-07-16T15:04:03.933Z"
   },
   {
    "duration": 503,
    "start_time": "2021-07-16T15:04:04.490Z"
   },
   {
    "duration": 1267,
    "start_time": "2021-07-16T15:04:04.995Z"
   },
   {
    "duration": 7,
    "start_time": "2021-07-16T15:04:06.264Z"
   },
   {
    "duration": 199,
    "start_time": "2021-07-16T15:04:06.273Z"
   },
   {
    "duration": 349,
    "start_time": "2021-07-16T15:04:06.474Z"
   },
   {
    "duration": 1245,
    "start_time": "2021-07-16T15:04:06.826Z"
   },
   {
    "duration": 7,
    "start_time": "2021-07-16T15:04:08.073Z"
   },
   {
    "duration": 12,
    "start_time": "2021-07-16T15:04:08.083Z"
   },
   {
    "duration": 19,
    "start_time": "2021-07-16T15:04:08.097Z"
   },
   {
    "duration": 45,
    "start_time": "2021-07-16T15:04:08.119Z"
   },
   {
    "duration": 45,
    "start_time": "2021-07-16T15:04:08.166Z"
   },
   {
    "duration": 14,
    "start_time": "2021-07-16T15:04:08.213Z"
   },
   {
    "duration": 375,
    "start_time": "2021-07-16T15:04:08.229Z"
   },
   {
    "duration": 1236,
    "start_time": "2021-07-16T15:04:30.725Z"
   },
   {
    "duration": 1867,
    "start_time": "2021-07-16T15:04:44.849Z"
   },
   {
    "duration": 798,
    "start_time": "2021-07-16T15:04:46.719Z"
   },
   {
    "duration": 5,
    "start_time": "2021-07-16T15:04:47.526Z"
   },
   {
    "duration": 371,
    "start_time": "2021-07-16T15:04:47.535Z"
   },
   {
    "duration": 424,
    "start_time": "2021-07-16T15:04:47.909Z"
   },
   {
    "duration": 90,
    "start_time": "2021-07-16T15:04:48.336Z"
   },
   {
    "duration": 4,
    "start_time": "2021-07-16T15:04:48.430Z"
   },
   {
    "duration": 185,
    "start_time": "2021-07-16T15:04:48.437Z"
   },
   {
    "duration": 1328,
    "start_time": "2021-07-16T15:04:48.625Z"
   },
   {
    "duration": 77,
    "start_time": "2021-07-16T15:04:49.956Z"
   },
   {
    "duration": 70,
    "start_time": "2021-07-16T15:04:50.035Z"
   },
   {
    "duration": 60,
    "start_time": "2021-07-16T15:04:50.107Z"
   },
   {
    "duration": 36,
    "start_time": "2021-07-16T15:04:50.169Z"
   },
   {
    "duration": 19,
    "start_time": "2021-07-16T15:04:50.207Z"
   },
   {
    "duration": 79,
    "start_time": "2021-07-16T15:04:50.228Z"
   },
   {
    "duration": 79,
    "start_time": "2021-07-16T15:04:50.310Z"
   },
   {
    "duration": 10,
    "start_time": "2021-07-16T15:04:50.392Z"
   },
   {
    "duration": 14,
    "start_time": "2021-07-16T15:04:50.404Z"
   },
   {
    "duration": 1874,
    "start_time": "2021-07-16T15:04:50.421Z"
   },
   {
    "duration": 15,
    "start_time": "2021-07-16T15:04:52.297Z"
   },
   {
    "duration": 16,
    "start_time": "2021-07-16T15:04:52.315Z"
   },
   {
    "duration": 60,
    "start_time": "2021-07-16T15:04:52.365Z"
   },
   {
    "duration": 288,
    "start_time": "2021-07-16T15:04:52.428Z"
   },
   {
    "duration": 63,
    "start_time": "2021-07-16T15:04:52.718Z"
   },
   {
    "duration": 641,
    "start_time": "2021-07-16T15:04:52.783Z"
   },
   {
    "duration": 9,
    "start_time": "2021-07-16T15:04:53.427Z"
   },
   {
    "duration": 38,
    "start_time": "2021-07-16T15:04:53.439Z"
   },
   {
    "duration": 512,
    "start_time": "2021-07-16T15:04:53.480Z"
   },
   {
    "duration": 20,
    "start_time": "2021-07-16T15:04:53.995Z"
   },
   {
    "duration": 508,
    "start_time": "2021-07-16T15:04:54.019Z"
   },
   {
    "duration": 1249,
    "start_time": "2021-07-16T15:04:54.529Z"
   },
   {
    "duration": 7,
    "start_time": "2021-07-16T15:04:55.780Z"
   },
   {
    "duration": 211,
    "start_time": "2021-07-16T15:04:55.789Z"
   },
   {
    "duration": 370,
    "start_time": "2021-07-16T15:04:56.003Z"
   },
   {
    "duration": 1493,
    "start_time": "2021-07-16T15:04:56.375Z"
   },
   {
    "duration": 6,
    "start_time": "2021-07-16T15:04:57.871Z"
   },
   {
    "duration": 53,
    "start_time": "2021-07-16T15:04:57.880Z"
   },
   {
    "duration": 19,
    "start_time": "2021-07-16T15:04:57.936Z"
   },
   {
    "duration": 14,
    "start_time": "2021-07-16T15:04:57.958Z"
   },
   {
    "duration": 72,
    "start_time": "2021-07-16T15:04:57.974Z"
   },
   {
    "duration": 13,
    "start_time": "2021-07-16T15:04:58.049Z"
   },
   {
    "duration": 354,
    "start_time": "2021-07-16T15:04:58.064Z"
   },
   {
    "duration": 41,
    "start_time": "2021-07-16T15:05:26.204Z"
   },
   {
    "duration": 17,
    "start_time": "2021-07-16T15:06:54.651Z"
   },
   {
    "duration": 39,
    "start_time": "2021-07-16T15:08:09.243Z"
   },
   {
    "duration": 1505,
    "start_time": "2021-07-16T15:17:28.444Z"
   },
   {
    "duration": 1850,
    "start_time": "2021-07-16T15:17:35.278Z"
   },
   {
    "duration": 805,
    "start_time": "2021-07-16T15:17:37.131Z"
   },
   {
    "duration": 4,
    "start_time": "2021-07-16T15:17:37.939Z"
   },
   {
    "duration": 358,
    "start_time": "2021-07-16T15:17:37.946Z"
   },
   {
    "duration": 412,
    "start_time": "2021-07-16T15:17:38.306Z"
   },
   {
    "duration": 96,
    "start_time": "2021-07-16T15:17:38.721Z"
   },
   {
    "duration": 4,
    "start_time": "2021-07-16T15:17:38.819Z"
   },
   {
    "duration": 188,
    "start_time": "2021-07-16T15:17:38.828Z"
   },
   {
    "duration": 1515,
    "start_time": "2021-07-16T15:17:39.019Z"
   },
   {
    "duration": 80,
    "start_time": "2021-07-16T15:17:40.536Z"
   },
   {
    "duration": 64,
    "start_time": "2021-07-16T15:17:40.618Z"
   },
   {
    "duration": 47,
    "start_time": "2021-07-16T15:17:40.685Z"
   },
   {
    "duration": 59,
    "start_time": "2021-07-16T15:17:40.735Z"
   },
   {
    "duration": 24,
    "start_time": "2021-07-16T15:17:40.797Z"
   },
   {
    "duration": 77,
    "start_time": "2021-07-16T15:17:40.824Z"
   },
   {
    "duration": 61,
    "start_time": "2021-07-16T15:17:40.904Z"
   },
   {
    "duration": 8,
    "start_time": "2021-07-16T15:17:40.968Z"
   },
   {
    "duration": 14,
    "start_time": "2021-07-16T15:17:40.979Z"
   },
   {
    "duration": 1711,
    "start_time": "2021-07-16T15:17:40.996Z"
   },
   {
    "duration": 13,
    "start_time": "2021-07-16T15:17:42.710Z"
   },
   {
    "duration": 22,
    "start_time": "2021-07-16T15:17:42.725Z"
   },
   {
    "duration": 61,
    "start_time": "2021-07-16T15:17:42.762Z"
   },
   {
    "duration": 272,
    "start_time": "2021-07-16T15:17:42.828Z"
   },
   {
    "duration": 66,
    "start_time": "2021-07-16T15:17:43.103Z"
   },
   {
    "duration": 621,
    "start_time": "2021-07-16T15:17:43.172Z"
   },
   {
    "duration": 7,
    "start_time": "2021-07-16T15:17:43.795Z"
   },
   {
    "duration": 24,
    "start_time": "2021-07-16T15:17:43.804Z"
   },
   {
    "duration": 51,
    "start_time": "2021-07-16T15:17:43.830Z"
   },
   {
    "duration": 42,
    "start_time": "2021-07-16T15:17:43.884Z"
   },
   {
    "duration": 493,
    "start_time": "2021-07-16T15:17:43.929Z"
   },
   {
    "duration": 1285,
    "start_time": "2021-07-16T15:17:44.424Z"
   },
   {
    "duration": 16,
    "start_time": "2021-07-16T15:17:45.712Z"
   },
   {
    "duration": 201,
    "start_time": "2021-07-16T15:17:45.735Z"
   },
   {
    "duration": 491,
    "start_time": "2021-07-16T15:17:45.939Z"
   },
   {
    "duration": 1352,
    "start_time": "2021-07-16T15:17:46.433Z"
   },
   {
    "duration": 8,
    "start_time": "2021-07-16T15:17:47.788Z"
   },
   {
    "duration": 13,
    "start_time": "2021-07-16T15:17:47.799Z"
   },
   {
    "duration": 60,
    "start_time": "2021-07-16T15:17:47.814Z"
   },
   {
    "duration": 12,
    "start_time": "2021-07-16T15:17:47.876Z"
   },
   {
    "duration": 44,
    "start_time": "2021-07-16T15:17:47.891Z"
   },
   {
    "duration": 34,
    "start_time": "2021-07-16T15:17:47.937Z"
   },
   {
    "duration": 368,
    "start_time": "2021-07-16T15:17:47.973Z"
   },
   {
    "duration": 592,
    "start_time": "2021-07-16T15:19:21.285Z"
   },
   {
    "duration": 69,
    "start_time": "2021-07-16T15:19:47.225Z"
   },
   {
    "duration": 2094,
    "start_time": "2021-07-16T15:19:54.143Z"
   },
   {
    "duration": 802,
    "start_time": "2021-07-16T15:19:56.240Z"
   },
   {
    "duration": 4,
    "start_time": "2021-07-16T15:19:57.048Z"
   },
   {
    "duration": 350,
    "start_time": "2021-07-16T15:19:57.054Z"
   },
   {
    "duration": 441,
    "start_time": "2021-07-16T15:19:57.407Z"
   },
   {
    "duration": 82,
    "start_time": "2021-07-16T15:19:57.851Z"
   },
   {
    "duration": 4,
    "start_time": "2021-07-16T15:19:57.937Z"
   },
   {
    "duration": 172,
    "start_time": "2021-07-16T15:19:57.963Z"
   },
   {
    "duration": 1582,
    "start_time": "2021-07-16T15:19:58.138Z"
   },
   {
    "duration": 73,
    "start_time": "2021-07-16T15:19:59.723Z"
   },
   {
    "duration": 63,
    "start_time": "2021-07-16T15:19:59.799Z"
   },
   {
    "duration": 50,
    "start_time": "2021-07-16T15:19:59.864Z"
   },
   {
    "duration": 61,
    "start_time": "2021-07-16T15:19:59.916Z"
   },
   {
    "duration": 21,
    "start_time": "2021-07-16T15:19:59.980Z"
   },
   {
    "duration": 81,
    "start_time": "2021-07-16T15:20:00.004Z"
   },
   {
    "duration": 40,
    "start_time": "2021-07-16T15:20:00.087Z"
   },
   {
    "duration": 7,
    "start_time": "2021-07-16T15:20:00.129Z"
   },
   {
    "duration": 16,
    "start_time": "2021-07-16T15:20:00.162Z"
   },
   {
    "duration": 1557,
    "start_time": "2021-07-16T15:20:00.181Z"
   },
   {
    "duration": 25,
    "start_time": "2021-07-16T15:20:01.740Z"
   },
   {
    "duration": 12,
    "start_time": "2021-07-16T15:20:01.768Z"
   },
   {
    "duration": 93,
    "start_time": "2021-07-16T15:20:01.785Z"
   },
   {
    "duration": 261,
    "start_time": "2021-07-16T15:20:01.881Z"
   },
   {
    "duration": 60,
    "start_time": "2021-07-16T15:20:02.144Z"
   },
   {
    "duration": 640,
    "start_time": "2021-07-16T15:20:02.206Z"
   },
   {
    "duration": 16,
    "start_time": "2021-07-16T15:20:02.848Z"
   },
   {
    "duration": 24,
    "start_time": "2021-07-16T15:20:02.866Z"
   },
   {
    "duration": 31,
    "start_time": "2021-07-16T15:20:02.892Z"
   },
   {
    "duration": 625,
    "start_time": "2021-07-16T15:20:02.926Z"
   },
   {
    "duration": -43,
    "start_time": "2021-07-16T15:20:03.597Z"
   },
   {
    "duration": -54,
    "start_time": "2021-07-16T15:20:03.609Z"
   },
   {
    "duration": -57,
    "start_time": "2021-07-16T15:20:03.613Z"
   },
   {
    "duration": -59,
    "start_time": "2021-07-16T15:20:03.617Z"
   },
   {
    "duration": -67,
    "start_time": "2021-07-16T15:20:03.626Z"
   },
   {
    "duration": -69,
    "start_time": "2021-07-16T15:20:03.629Z"
   },
   {
    "duration": -72,
    "start_time": "2021-07-16T15:20:03.634Z"
   },
   {
    "duration": -74,
    "start_time": "2021-07-16T15:20:03.637Z"
   },
   {
    "duration": -75,
    "start_time": "2021-07-16T15:20:03.639Z"
   },
   {
    "duration": -75,
    "start_time": "2021-07-16T15:20:03.641Z"
   },
   {
    "duration": -79,
    "start_time": "2021-07-16T15:20:03.646Z"
   },
   {
    "duration": -80,
    "start_time": "2021-07-16T15:20:03.649Z"
   },
   {
    "duration": -81,
    "start_time": "2021-07-16T15:20:03.651Z"
   },
   {
    "duration": 38,
    "start_time": "2021-07-16T15:20:44.862Z"
   },
   {
    "duration": 43,
    "start_time": "2021-07-16T15:20:50.240Z"
   },
   {
    "duration": 563,
    "start_time": "2021-07-16T15:21:04.128Z"
   },
   {
    "duration": 584,
    "start_time": "2021-07-16T15:22:11.590Z"
   },
   {
    "duration": 3,
    "start_time": "2021-07-16T15:23:00.934Z"
   },
   {
    "duration": 3,
    "start_time": "2021-07-16T15:23:04.616Z"
   },
   {
    "duration": 33,
    "start_time": "2021-07-16T15:24:28.036Z"
   },
   {
    "duration": 31,
    "start_time": "2021-07-16T15:25:00.972Z"
   },
   {
    "duration": 9,
    "start_time": "2021-07-16T15:25:08.771Z"
   },
   {
    "duration": 1132,
    "start_time": "2021-07-16T15:26:35.293Z"
   },
   {
    "duration": 591,
    "start_time": "2021-07-16T15:26:47.721Z"
   },
   {
    "duration": 646,
    "start_time": "2021-07-16T15:27:59.995Z"
   },
   {
    "duration": 1399,
    "start_time": "2021-07-16T15:28:01.620Z"
   },
   {
    "duration": 8,
    "start_time": "2021-07-16T15:28:03.021Z"
   },
   {
    "duration": 180,
    "start_time": "2021-07-16T15:28:03.620Z"
   },
   {
    "duration": 495,
    "start_time": "2021-07-16T15:28:04.843Z"
   },
   {
    "duration": 1419,
    "start_time": "2021-07-16T15:28:05.388Z"
   },
   {
    "duration": 8,
    "start_time": "2021-07-16T15:28:06.809Z"
   },
   {
    "duration": 10,
    "start_time": "2021-07-16T15:28:08.152Z"
   },
   {
    "duration": 21,
    "start_time": "2021-07-16T15:28:09.227Z"
   },
   {
    "duration": 38,
    "start_time": "2021-07-16T15:30:29.731Z"
   },
   {
    "duration": 46,
    "start_time": "2021-07-16T15:30:38.756Z"
   },
   {
    "duration": 45,
    "start_time": "2021-07-16T15:33:27.640Z"
   },
   {
    "duration": 100,
    "start_time": "2021-07-16T15:40:13.445Z"
   },
   {
    "duration": 11,
    "start_time": "2021-07-16T15:40:40.904Z"
   },
   {
    "duration": 237,
    "start_time": "2021-07-16T15:40:42.559Z"
   },
   {
    "duration": 13,
    "start_time": "2021-07-16T15:40:43.832Z"
   },
   {
    "duration": 189,
    "start_time": "2021-07-16T15:40:45.087Z"
   },
   {
    "duration": 2019,
    "start_time": "2021-07-16T15:41:13.843Z"
   },
   {
    "duration": 2355,
    "start_time": "2021-07-16T15:41:15.865Z"
   },
   {
    "duration": 4,
    "start_time": "2021-07-16T15:41:18.224Z"
   },
   {
    "duration": 357,
    "start_time": "2021-07-16T15:41:18.230Z"
   },
   {
    "duration": 415,
    "start_time": "2021-07-16T15:41:18.590Z"
   },
   {
    "duration": 86,
    "start_time": "2021-07-16T15:41:19.008Z"
   },
   {
    "duration": 4,
    "start_time": "2021-07-16T15:41:19.096Z"
   },
   {
    "duration": 183,
    "start_time": "2021-07-16T15:41:19.104Z"
   },
   {
    "duration": 1543,
    "start_time": "2021-07-16T15:41:19.290Z"
   },
   {
    "duration": 89,
    "start_time": "2021-07-16T15:41:20.836Z"
   },
   {
    "duration": 61,
    "start_time": "2021-07-16T15:41:20.927Z"
   },
   {
    "duration": 47,
    "start_time": "2021-07-16T15:41:20.991Z"
   },
   {
    "duration": 39,
    "start_time": "2021-07-16T15:41:21.061Z"
   },
   {
    "duration": 22,
    "start_time": "2021-07-16T15:41:21.102Z"
   },
   {
    "duration": 78,
    "start_time": "2021-07-16T15:41:21.127Z"
   },
   {
    "duration": 60,
    "start_time": "2021-07-16T15:41:21.207Z"
   },
   {
    "duration": 8,
    "start_time": "2021-07-16T15:41:21.269Z"
   },
   {
    "duration": 8,
    "start_time": "2021-07-16T15:41:21.279Z"
   },
   {
    "duration": 1527,
    "start_time": "2021-07-16T15:41:21.290Z"
   },
   {
    "duration": 13,
    "start_time": "2021-07-16T15:41:22.819Z"
   },
   {
    "duration": 30,
    "start_time": "2021-07-16T15:41:22.835Z"
   },
   {
    "duration": 61,
    "start_time": "2021-07-16T15:41:22.867Z"
   },
   {
    "duration": 272,
    "start_time": "2021-07-16T15:41:22.933Z"
   },
   {
    "duration": 66,
    "start_time": "2021-07-16T15:41:23.207Z"
   },
   {
    "duration": 638,
    "start_time": "2021-07-16T15:41:23.275Z"
   },
   {
    "duration": 7,
    "start_time": "2021-07-16T15:41:23.915Z"
   },
   {
    "duration": 38,
    "start_time": "2021-07-16T15:41:23.925Z"
   },
   {
    "duration": 605,
    "start_time": "2021-07-16T15:41:23.966Z"
   },
   {
    "duration": 47,
    "start_time": "2021-07-16T15:41:24.573Z"
   },
   {
    "duration": 672,
    "start_time": "2021-07-16T15:41:24.622Z"
   },
   {
    "duration": 1381,
    "start_time": "2021-07-16T15:41:25.296Z"
   },
   {
    "duration": 6,
    "start_time": "2021-07-16T15:41:26.679Z"
   },
   {
    "duration": 197,
    "start_time": "2021-07-16T15:41:26.687Z"
   },
   {
    "duration": 481,
    "start_time": "2021-07-16T15:41:26.887Z"
   },
   {
    "duration": 1373,
    "start_time": "2021-07-16T15:41:27.370Z"
   },
   {
    "duration": 7,
    "start_time": "2021-07-16T15:41:28.745Z"
   },
   {
    "duration": 10,
    "start_time": "2021-07-16T15:41:28.762Z"
   },
   {
    "duration": 23,
    "start_time": "2021-07-16T15:41:28.774Z"
   },
   {
    "duration": 11,
    "start_time": "2021-07-16T15:41:28.799Z"
   },
   {
    "duration": 84,
    "start_time": "2021-07-16T15:41:28.813Z"
   },
   {
    "duration": 13,
    "start_time": "2021-07-16T15:41:28.900Z"
   },
   {
    "duration": 388,
    "start_time": "2021-07-16T15:41:28.916Z"
   },
   {
    "duration": 10,
    "start_time": "2021-07-16T15:42:04.303Z"
   },
   {
    "duration": 99,
    "start_time": "2021-07-16T15:44:25.180Z"
   },
   {
    "duration": 73,
    "start_time": "2021-07-16T15:44:34.523Z"
   },
   {
    "duration": 97,
    "start_time": "2021-07-16T15:44:48.854Z"
   },
   {
    "duration": 680,
    "start_time": "2021-07-16T15:45:11.868Z"
   },
   {
    "duration": 78,
    "start_time": "2021-07-16T15:45:17.525Z"
   },
   {
    "duration": 75,
    "start_time": "2021-07-16T15:45:22.099Z"
   },
   {
    "duration": 1920,
    "start_time": "2021-07-16T15:45:29.490Z"
   },
   {
    "duration": 796,
    "start_time": "2021-07-16T15:45:31.413Z"
   },
   {
    "duration": 4,
    "start_time": "2021-07-16T15:45:32.215Z"
   },
   {
    "duration": 586,
    "start_time": "2021-07-16T15:45:32.221Z"
   },
   {
    "duration": 418,
    "start_time": "2021-07-16T15:45:32.810Z"
   },
   {
    "duration": 199,
    "start_time": "2021-07-16T15:45:33.230Z"
   },
   {
    "duration": 4,
    "start_time": "2021-07-16T15:45:33.433Z"
   },
   {
    "duration": 231,
    "start_time": "2021-07-16T15:45:33.440Z"
   },
   {
    "duration": 1576,
    "start_time": "2021-07-16T15:45:33.673Z"
   },
   {
    "duration": 76,
    "start_time": "2021-07-16T15:45:35.251Z"
   },
   {
    "duration": 72,
    "start_time": "2021-07-16T15:45:35.330Z"
   },
   {
    "duration": 58,
    "start_time": "2021-07-16T15:45:35.404Z"
   },
   {
    "duration": 37,
    "start_time": "2021-07-16T15:45:35.464Z"
   },
   {
    "duration": 23,
    "start_time": "2021-07-16T15:45:35.503Z"
   },
   {
    "duration": 74,
    "start_time": "2021-07-16T15:45:35.528Z"
   },
   {
    "duration": 57,
    "start_time": "2021-07-16T15:45:35.605Z"
   },
   {
    "duration": 7,
    "start_time": "2021-07-16T15:45:35.664Z"
   },
   {
    "duration": 7,
    "start_time": "2021-07-16T15:45:35.673Z"
   },
   {
    "duration": 1863,
    "start_time": "2021-07-16T15:45:35.682Z"
   },
   {
    "duration": 28,
    "start_time": "2021-07-16T15:45:37.548Z"
   },
   {
    "duration": 17,
    "start_time": "2021-07-16T15:45:37.579Z"
   },
   {
    "duration": 134,
    "start_time": "2021-07-16T15:45:37.603Z"
   },
   {
    "duration": 405,
    "start_time": "2021-07-16T15:45:37.741Z"
   },
   {
    "duration": 82,
    "start_time": "2021-07-16T15:45:38.149Z"
   },
   {
    "duration": 841,
    "start_time": "2021-07-16T15:45:38.234Z"
   },
   {
    "duration": 7,
    "start_time": "2021-07-16T15:45:39.078Z"
   },
   {
    "duration": 45,
    "start_time": "2021-07-16T15:45:39.087Z"
   },
   {
    "duration": 607,
    "start_time": "2021-07-16T15:45:39.134Z"
   },
   {
    "duration": 52,
    "start_time": "2021-07-16T15:45:39.743Z"
   },
   {
    "duration": 707,
    "start_time": "2021-07-16T15:45:39.797Z"
   },
   {
    "duration": 1412,
    "start_time": "2021-07-16T15:45:40.506Z"
   },
   {
    "duration": 7,
    "start_time": "2021-07-16T15:45:41.920Z"
   },
   {
    "duration": 202,
    "start_time": "2021-07-16T15:45:41.930Z"
   },
   {
    "duration": 511,
    "start_time": "2021-07-16T15:45:42.135Z"
   },
   {
    "duration": 2057,
    "start_time": "2021-07-16T15:45:42.648Z"
   },
   {
    "duration": 8,
    "start_time": "2021-07-16T15:45:44.708Z"
   },
   {
    "duration": 17,
    "start_time": "2021-07-16T15:45:44.719Z"
   },
   {
    "duration": 24,
    "start_time": "2021-07-16T15:45:44.740Z"
   },
   {
    "duration": 16,
    "start_time": "2021-07-16T15:45:44.767Z"
   },
   {
    "duration": 49,
    "start_time": "2021-07-16T15:45:44.785Z"
   },
   {
    "duration": 30,
    "start_time": "2021-07-16T15:45:44.837Z"
   },
   {
    "duration": 14,
    "start_time": "2021-07-16T15:45:44.870Z"
   },
   {
    "duration": 393,
    "start_time": "2021-07-16T15:45:44.886Z"
   },
   {
    "duration": 56,
    "start_time": "2021-07-16T15:46:37.950Z"
   },
   {
    "duration": 639,
    "start_time": "2021-07-16T15:46:59.846Z"
   },
   {
    "duration": -60,
    "start_time": "2021-07-16T15:47:00.548Z"
   },
   {
    "duration": 37,
    "start_time": "2021-07-16T15:47:24.453Z"
   },
   {
    "duration": 10,
    "start_time": "2021-07-16T15:47:27.527Z"
   },
   {
    "duration": 14,
    "start_time": "2021-07-16T15:47:28.968Z"
   },
   {
    "duration": 678,
    "start_time": "2021-07-16T15:47:35.369Z"
   },
   {
    "duration": 2523,
    "start_time": "2021-07-16T15:48:21.036Z"
   },
   {
    "duration": 774,
    "start_time": "2021-07-16T15:48:23.562Z"
   },
   {
    "duration": 4,
    "start_time": "2021-07-16T15:48:24.339Z"
   },
   {
    "duration": 349,
    "start_time": "2021-07-16T15:48:24.347Z"
   },
   {
    "duration": 422,
    "start_time": "2021-07-16T15:48:24.698Z"
   },
   {
    "duration": 89,
    "start_time": "2021-07-16T15:48:25.122Z"
   },
   {
    "duration": 3,
    "start_time": "2021-07-16T15:48:25.214Z"
   },
   {
    "duration": 192,
    "start_time": "2021-07-16T15:48:25.221Z"
   },
   {
    "duration": 1527,
    "start_time": "2021-07-16T15:48:25.416Z"
   },
   {
    "duration": 70,
    "start_time": "2021-07-16T15:48:26.946Z"
   },
   {
    "duration": 62,
    "start_time": "2021-07-16T15:48:27.019Z"
   },
   {
    "duration": 46,
    "start_time": "2021-07-16T15:48:27.083Z"
   },
   {
    "duration": 57,
    "start_time": "2021-07-16T15:48:27.131Z"
   },
   {
    "duration": 21,
    "start_time": "2021-07-16T15:48:27.191Z"
   },
   {
    "duration": 76,
    "start_time": "2021-07-16T15:48:27.215Z"
   },
   {
    "duration": 42,
    "start_time": "2021-07-16T15:48:27.295Z"
   },
   {
    "duration": 28,
    "start_time": "2021-07-16T15:48:27.340Z"
   },
   {
    "duration": 8,
    "start_time": "2021-07-16T15:48:27.372Z"
   },
   {
    "duration": 1664,
    "start_time": "2021-07-16T15:48:27.384Z"
   },
   {
    "duration": 21,
    "start_time": "2021-07-16T15:48:29.051Z"
   },
   {
    "duration": 12,
    "start_time": "2021-07-16T15:48:29.075Z"
   },
   {
    "duration": 100,
    "start_time": "2021-07-16T15:48:29.090Z"
   },
   {
    "duration": 249,
    "start_time": "2021-07-16T15:48:29.195Z"
   },
   {
    "duration": 57,
    "start_time": "2021-07-16T15:48:29.447Z"
   },
   {
    "duration": 654,
    "start_time": "2021-07-16T15:48:29.506Z"
   },
   {
    "duration": 8,
    "start_time": "2021-07-16T15:48:30.163Z"
   },
   {
    "duration": 46,
    "start_time": "2021-07-16T15:48:30.174Z"
   },
   {
    "duration": 605,
    "start_time": "2021-07-16T15:48:30.223Z"
   },
   {
    "duration": 55,
    "start_time": "2021-07-16T15:48:30.830Z"
   },
   {
    "duration": 664,
    "start_time": "2021-07-16T15:48:30.887Z"
   },
   {
    "duration": 1376,
    "start_time": "2021-07-16T15:48:31.554Z"
   },
   {
    "duration": 8,
    "start_time": "2021-07-16T15:48:32.933Z"
   },
   {
    "duration": 197,
    "start_time": "2021-07-16T15:48:32.943Z"
   },
   {
    "duration": 492,
    "start_time": "2021-07-16T15:48:33.143Z"
   },
   {
    "duration": 1384,
    "start_time": "2021-07-16T15:48:33.638Z"
   },
   {
    "duration": 8,
    "start_time": "2021-07-16T15:48:35.024Z"
   },
   {
    "duration": 31,
    "start_time": "2021-07-16T15:48:35.034Z"
   },
   {
    "duration": 3,
    "start_time": "2021-07-16T15:48:35.067Z"
   },
   {
    "duration": 22,
    "start_time": "2021-07-16T15:48:35.073Z"
   },
   {
    "duration": 69,
    "start_time": "2021-07-16T15:48:35.098Z"
   },
   {
    "duration": 9,
    "start_time": "2021-07-16T15:48:35.169Z"
   },
   {
    "duration": 14,
    "start_time": "2021-07-16T15:48:35.181Z"
   },
   {
    "duration": 400,
    "start_time": "2021-07-16T15:48:35.198Z"
   },
   {
    "duration": 591,
    "start_time": "2021-07-16T15:49:55.042Z"
   },
   {
    "duration": 2058,
    "start_time": "2021-07-16T15:50:05.951Z"
   },
   {
    "duration": 1653,
    "start_time": "2021-07-16T15:50:08.012Z"
   },
   {
    "duration": 4,
    "start_time": "2021-07-16T15:50:09.667Z"
   },
   {
    "duration": 363,
    "start_time": "2021-07-16T15:50:09.674Z"
   },
   {
    "duration": 416,
    "start_time": "2021-07-16T15:50:10.040Z"
   },
   {
    "duration": 75,
    "start_time": "2021-07-16T15:50:10.462Z"
   },
   {
    "duration": 4,
    "start_time": "2021-07-16T15:50:10.539Z"
   },
   {
    "duration": 182,
    "start_time": "2021-07-16T15:50:10.562Z"
   },
   {
    "duration": 1588,
    "start_time": "2021-07-16T15:50:10.747Z"
   },
   {
    "duration": 86,
    "start_time": "2021-07-16T15:50:12.338Z"
   },
   {
    "duration": 93,
    "start_time": "2021-07-16T15:50:12.427Z"
   },
   {
    "duration": 72,
    "start_time": "2021-07-16T15:50:12.523Z"
   },
   {
    "duration": 42,
    "start_time": "2021-07-16T15:50:12.598Z"
   },
   {
    "duration": 26,
    "start_time": "2021-07-16T15:50:12.664Z"
   },
   {
    "duration": 80,
    "start_time": "2021-07-16T15:50:12.694Z"
   },
   {
    "duration": 47,
    "start_time": "2021-07-16T15:50:12.777Z"
   },
   {
    "duration": 8,
    "start_time": "2021-07-16T15:50:12.827Z"
   },
   {
    "duration": 28,
    "start_time": "2021-07-16T15:50:12.838Z"
   },
   {
    "duration": 1715,
    "start_time": "2021-07-16T15:50:12.869Z"
   },
   {
    "duration": 14,
    "start_time": "2021-07-16T15:50:14.587Z"
   },
   {
    "duration": 21,
    "start_time": "2021-07-16T15:50:14.604Z"
   },
   {
    "duration": 93,
    "start_time": "2021-07-16T15:50:14.628Z"
   },
   {
    "duration": 286,
    "start_time": "2021-07-16T15:50:14.728Z"
   },
   {
    "duration": 66,
    "start_time": "2021-07-16T15:50:15.017Z"
   },
   {
    "duration": 646,
    "start_time": "2021-07-16T15:50:15.086Z"
   },
   {
    "duration": 8,
    "start_time": "2021-07-16T15:50:15.735Z"
   },
   {
    "duration": 26,
    "start_time": "2021-07-16T15:50:15.746Z"
   },
   {
    "duration": 624,
    "start_time": "2021-07-16T15:50:15.775Z"
   },
   {
    "duration": 65,
    "start_time": "2021-07-16T15:50:16.402Z"
   },
   {
    "duration": 695,
    "start_time": "2021-07-16T15:50:16.470Z"
   },
   {
    "duration": 1445,
    "start_time": "2021-07-16T15:50:17.168Z"
   },
   {
    "duration": 7,
    "start_time": "2021-07-16T15:50:18.616Z"
   },
   {
    "duration": 202,
    "start_time": "2021-07-16T15:50:18.626Z"
   },
   {
    "duration": 740,
    "start_time": "2021-07-16T15:50:18.830Z"
   },
   {
    "duration": 2092,
    "start_time": "2021-07-16T15:50:19.573Z"
   },
   {
    "duration": 9,
    "start_time": "2021-07-16T15:50:21.668Z"
   },
   {
    "duration": 14,
    "start_time": "2021-07-16T15:50:21.680Z"
   },
   {
    "duration": 28,
    "start_time": "2021-07-16T15:50:21.697Z"
   },
   {
    "duration": 46,
    "start_time": "2021-07-16T15:50:21.728Z"
   },
   {
    "duration": 97,
    "start_time": "2021-07-16T15:50:21.777Z"
   },
   {
    "duration": 13,
    "start_time": "2021-07-16T15:50:21.877Z"
   },
   {
    "duration": 18,
    "start_time": "2021-07-16T15:50:21.894Z"
   },
   {
    "duration": 565,
    "start_time": "2021-07-16T15:50:21.915Z"
   },
   {
    "duration": 8,
    "start_time": "2021-07-16T15:51:36.182Z"
   },
   {
    "duration": 55,
    "start_time": "2021-07-16T15:52:51.344Z"
   },
   {
    "duration": 53,
    "start_time": "2021-07-16T15:53:02.140Z"
   },
   {
    "duration": 22,
    "start_time": "2021-07-16T16:20:22.478Z"
   },
   {
    "duration": 49,
    "start_time": "2021-07-16T16:22:16.557Z"
   },
   {
    "duration": 44,
    "start_time": "2021-07-16T16:23:53.309Z"
   },
   {
    "duration": 8,
    "start_time": "2021-07-16T16:24:16.759Z"
   },
   {
    "duration": 1226,
    "start_time": "2021-07-16T16:24:17.584Z"
   },
   {
    "duration": 113,
    "start_time": "2021-07-16T16:25:31.303Z"
   },
   {
    "duration": 42,
    "start_time": "2021-07-16T16:25:36.460Z"
   },
   {
    "duration": 8,
    "start_time": "2021-07-16T16:25:40.996Z"
   },
   {
    "duration": 1375,
    "start_time": "2021-07-16T16:25:43.575Z"
   },
   {
    "duration": 14,
    "start_time": "2021-07-16T16:28:31.785Z"
   },
   {
    "duration": 12,
    "start_time": "2021-07-16T16:28:57.541Z"
   },
   {
    "duration": 10,
    "start_time": "2021-07-16T16:30:01.531Z"
   },
   {
    "duration": 65,
    "start_time": "2021-07-16T16:30:02.740Z"
   },
   {
    "duration": 629,
    "start_time": "2021-07-16T16:31:19.570Z"
   },
   {
    "duration": 744,
    "start_time": "2021-07-16T16:31:51.299Z"
   },
   {
    "duration": 1904,
    "start_time": "2021-07-16T16:32:20.874Z"
   },
   {
    "duration": 798,
    "start_time": "2021-07-16T16:32:22.781Z"
   },
   {
    "duration": 3,
    "start_time": "2021-07-16T16:32:23.582Z"
   },
   {
    "duration": 352,
    "start_time": "2021-07-16T16:32:23.588Z"
   },
   {
    "duration": 424,
    "start_time": "2021-07-16T16:32:23.942Z"
   },
   {
    "duration": 93,
    "start_time": "2021-07-16T16:32:24.369Z"
   },
   {
    "duration": 4,
    "start_time": "2021-07-16T16:32:24.464Z"
   },
   {
    "duration": 186,
    "start_time": "2021-07-16T16:32:24.471Z"
   },
   {
    "duration": 1563,
    "start_time": "2021-07-16T16:32:24.663Z"
   },
   {
    "duration": 90,
    "start_time": "2021-07-16T16:32:26.228Z"
   },
   {
    "duration": 60,
    "start_time": "2021-07-16T16:32:26.320Z"
   },
   {
    "duration": 46,
    "start_time": "2021-07-16T16:32:26.382Z"
   },
   {
    "duration": 59,
    "start_time": "2021-07-16T16:32:26.431Z"
   },
   {
    "duration": 22,
    "start_time": "2021-07-16T16:32:26.493Z"
   },
   {
    "duration": 520,
    "start_time": "2021-07-16T16:32:26.518Z"
   },
   {
    "duration": 1242,
    "start_time": "2021-07-16T16:32:27.041Z"
   },
   {
    "duration": 7,
    "start_time": "2021-07-16T16:32:28.286Z"
   },
   {
    "duration": 206,
    "start_time": "2021-07-16T16:32:28.295Z"
   },
   {
    "duration": 345,
    "start_time": "2021-07-16T16:32:28.504Z"
   },
   {
    "duration": 1205,
    "start_time": "2021-07-16T16:32:28.852Z"
   },
   {
    "duration": 8,
    "start_time": "2021-07-16T16:32:30.063Z"
   },
   {
    "duration": 18,
    "start_time": "2021-07-16T16:32:30.074Z"
   },
   {
    "duration": 31,
    "start_time": "2021-07-16T16:32:30.100Z"
   },
   {
    "duration": 65,
    "start_time": "2021-07-16T16:32:30.165Z"
   },
   {
    "duration": 11,
    "start_time": "2021-07-16T16:32:30.233Z"
   },
   {
    "duration": 2910,
    "start_time": "2021-07-16T16:32:30.261Z"
   },
   {
    "duration": 18,
    "start_time": "2021-07-16T16:32:33.174Z"
   },
   {
    "duration": 21,
    "start_time": "2021-07-16T16:32:33.195Z"
   },
   {
    "duration": 132,
    "start_time": "2021-07-16T16:32:33.219Z"
   },
   {
    "duration": 271,
    "start_time": "2021-07-16T16:32:33.361Z"
   },
   {
    "duration": 66,
    "start_time": "2021-07-16T16:32:33.635Z"
   },
   {
    "duration": 623,
    "start_time": "2021-07-16T16:32:33.703Z"
   },
   {
    "duration": 21,
    "start_time": "2021-07-16T16:32:34.329Z"
   },
   {
    "duration": 27,
    "start_time": "2021-07-16T16:32:34.352Z"
   },
   {
    "duration": 597,
    "start_time": "2021-07-16T16:32:34.382Z"
   },
   {
    "duration": 46,
    "start_time": "2021-07-16T16:32:34.982Z"
   },
   {
    "duration": 31,
    "start_time": "2021-07-16T16:32:35.031Z"
   },
   {
    "duration": 52,
    "start_time": "2021-07-16T16:32:35.064Z"
   },
   {
    "duration": 8,
    "start_time": "2021-07-16T16:32:35.118Z"
   },
   {
    "duration": 43,
    "start_time": "2021-07-16T16:32:35.128Z"
   },
   {
    "duration": 221,
    "start_time": "2021-07-16T16:32:35.173Z"
   },
   {
    "duration": 16,
    "start_time": "2021-07-16T16:33:27.843Z"
   },
   {
    "duration": 13,
    "start_time": "2021-07-16T16:33:34.611Z"
   },
   {
    "duration": 214,
    "start_time": "2021-07-16T16:33:36.057Z"
   },
   {
    "duration": 1923,
    "start_time": "2021-07-16T16:34:27.333Z"
   },
   {
    "duration": 772,
    "start_time": "2021-07-16T16:34:29.259Z"
   },
   {
    "duration": 4,
    "start_time": "2021-07-16T16:34:30.034Z"
   },
   {
    "duration": 372,
    "start_time": "2021-07-16T16:34:30.040Z"
   },
   {
    "duration": 447,
    "start_time": "2021-07-16T16:34:30.415Z"
   },
   {
    "duration": 73,
    "start_time": "2021-07-16T16:34:30.864Z"
   },
   {
    "duration": 4,
    "start_time": "2021-07-16T16:34:30.940Z"
   },
   {
    "duration": 177,
    "start_time": "2021-07-16T16:34:30.963Z"
   },
   {
    "duration": 511,
    "start_time": "2021-07-16T16:34:31.144Z"
   },
   {
    "duration": 37,
    "start_time": "2021-07-16T16:34:31.658Z"
   },
   {
    "duration": 72,
    "start_time": "2021-07-16T16:34:31.698Z"
   },
   {
    "duration": 49,
    "start_time": "2021-07-16T16:34:31.773Z"
   },
   {
    "duration": 64,
    "start_time": "2021-07-16T16:34:31.825Z"
   },
   {
    "duration": 21,
    "start_time": "2021-07-16T16:34:31.891Z"
   },
   {
    "duration": 495,
    "start_time": "2021-07-16T16:34:31.915Z"
   },
   {
    "duration": 615,
    "start_time": "2021-07-16T16:34:32.413Z"
   },
   {
    "duration": 6,
    "start_time": "2021-07-16T16:34:33.031Z"
   },
   {
    "duration": 69,
    "start_time": "2021-07-16T16:34:33.039Z"
   },
   {
    "duration": 482,
    "start_time": "2021-07-16T16:34:33.111Z"
   },
   {
    "duration": 849,
    "start_time": "2021-07-16T16:34:33.597Z"
   },
   {
    "duration": 15,
    "start_time": "2021-07-16T16:34:34.449Z"
   },
   {
    "duration": 11,
    "start_time": "2021-07-16T16:34:34.467Z"
   },
   {
    "duration": 24,
    "start_time": "2021-07-16T16:34:34.486Z"
   },
   {
    "duration": 88,
    "start_time": "2021-07-16T16:34:34.514Z"
   },
   {
    "duration": 11,
    "start_time": "2021-07-16T16:34:34.605Z"
   },
   {
    "duration": 2521,
    "start_time": "2021-07-16T16:34:34.619Z"
   },
   {
    "duration": 21,
    "start_time": "2021-07-16T16:34:37.142Z"
   },
   {
    "duration": 18,
    "start_time": "2021-07-16T16:34:37.165Z"
   },
   {
    "duration": 34,
    "start_time": "2021-07-16T16:34:37.186Z"
   },
   {
    "duration": 125,
    "start_time": "2021-07-16T16:34:37.223Z"
   },
   {
    "duration": 40,
    "start_time": "2021-07-16T16:34:37.362Z"
   },
   {
    "duration": 620,
    "start_time": "2021-07-16T16:34:37.404Z"
   },
   {
    "duration": 8,
    "start_time": "2021-07-16T16:34:38.027Z"
   },
   {
    "duration": 35,
    "start_time": "2021-07-16T16:34:38.038Z"
   },
   {
    "duration": 604,
    "start_time": "2021-07-16T16:34:38.076Z"
   },
   {
    "duration": 42,
    "start_time": "2021-07-16T16:34:38.683Z"
   },
   {
    "duration": 11,
    "start_time": "2021-07-16T16:34:38.728Z"
   },
   {
    "duration": 1563,
    "start_time": "2021-07-16T16:34:38.761Z"
   },
   {
    "duration": -52,
    "start_time": "2021-07-16T16:34:40.379Z"
   },
   {
    "duration": -53,
    "start_time": "2021-07-16T16:34:40.382Z"
   },
   {
    "duration": 15,
    "start_time": "2021-07-16T16:35:23.226Z"
   },
   {
    "duration": 1913,
    "start_time": "2021-07-16T16:36:01.665Z"
   },
   {
    "duration": 814,
    "start_time": "2021-07-16T16:36:03.581Z"
   },
   {
    "duration": 3,
    "start_time": "2021-07-16T16:36:04.398Z"
   },
   {
    "duration": 378,
    "start_time": "2021-07-16T16:36:04.404Z"
   },
   {
    "duration": 413,
    "start_time": "2021-07-16T16:36:04.785Z"
   },
   {
    "duration": 99,
    "start_time": "2021-07-16T16:36:05.200Z"
   },
   {
    "duration": 5,
    "start_time": "2021-07-16T16:36:05.302Z"
   },
   {
    "duration": 187,
    "start_time": "2021-07-16T16:36:05.313Z"
   },
   {
    "duration": 506,
    "start_time": "2021-07-16T16:36:05.504Z"
   },
   {
    "duration": 30,
    "start_time": "2021-07-16T16:36:06.013Z"
   },
   {
    "duration": 60,
    "start_time": "2021-07-16T16:36:06.046Z"
   },
   {
    "duration": 59,
    "start_time": "2021-07-16T16:36:06.108Z"
   },
   {
    "duration": 34,
    "start_time": "2021-07-16T16:36:06.170Z"
   },
   {
    "duration": 21,
    "start_time": "2021-07-16T16:36:06.207Z"
   },
   {
    "duration": 396,
    "start_time": "2021-07-16T16:36:06.230Z"
   },
   {
    "duration": 638,
    "start_time": "2021-07-16T16:36:06.628Z"
   },
   {
    "duration": 7,
    "start_time": "2021-07-16T16:36:07.268Z"
   },
   {
    "duration": 52,
    "start_time": "2021-07-16T16:36:07.277Z"
   },
   {
    "duration": 357,
    "start_time": "2021-07-16T16:36:07.331Z"
   },
   {
    "duration": 656,
    "start_time": "2021-07-16T16:36:07.691Z"
   },
   {
    "duration": 14,
    "start_time": "2021-07-16T16:36:08.349Z"
   },
   {
    "duration": 9,
    "start_time": "2021-07-16T16:36:08.365Z"
   },
   {
    "duration": 18,
    "start_time": "2021-07-16T16:36:08.379Z"
   },
   {
    "duration": 74,
    "start_time": "2021-07-16T16:36:08.400Z"
   },
   {
    "duration": 7,
    "start_time": "2021-07-16T16:36:08.477Z"
   },
   {
    "duration": 2112,
    "start_time": "2021-07-16T16:36:08.486Z"
   },
   {
    "duration": 14,
    "start_time": "2021-07-16T16:36:10.601Z"
   },
   {
    "duration": 10,
    "start_time": "2021-07-16T16:36:10.618Z"
   },
   {
    "duration": 53,
    "start_time": "2021-07-16T16:36:10.630Z"
   },
   {
    "duration": 124,
    "start_time": "2021-07-16T16:36:10.685Z"
   },
   {
    "duration": 51,
    "start_time": "2021-07-16T16:36:10.811Z"
   },
   {
    "duration": 615,
    "start_time": "2021-07-16T16:36:10.865Z"
   },
   {
    "duration": 8,
    "start_time": "2021-07-16T16:36:11.482Z"
   },
   {
    "duration": 15,
    "start_time": "2021-07-16T16:36:11.493Z"
   },
   {
    "duration": 657,
    "start_time": "2021-07-16T16:36:11.511Z"
   },
   {
    "duration": 63,
    "start_time": "2021-07-16T16:36:12.171Z"
   },
   {
    "duration": 36,
    "start_time": "2021-07-16T16:36:12.238Z"
   },
   {
    "duration": 21,
    "start_time": "2021-07-16T16:36:12.277Z"
   },
   {
    "duration": 19,
    "start_time": "2021-07-16T16:36:12.301Z"
   },
   {
    "duration": 8592,
    "start_time": "2021-07-16T16:36:12.322Z"
   },
   {
    "duration": 46,
    "start_time": "2021-07-16T16:42:07.666Z"
   },
   {
    "duration": 13,
    "start_time": "2021-07-16T16:42:13.362Z"
   },
   {
    "duration": 201,
    "start_time": "2021-07-16T16:42:16.482Z"
   },
   {
    "duration": 1937,
    "start_time": "2021-07-16T16:44:04.630Z"
   },
   {
    "duration": 795,
    "start_time": "2021-07-16T16:44:06.570Z"
   },
   {
    "duration": 4,
    "start_time": "2021-07-16T16:44:07.372Z"
   },
   {
    "duration": 397,
    "start_time": "2021-07-16T16:44:07.378Z"
   },
   {
    "duration": 429,
    "start_time": "2021-07-16T16:44:07.777Z"
   },
   {
    "duration": 87,
    "start_time": "2021-07-16T16:44:08.208Z"
   },
   {
    "duration": 3,
    "start_time": "2021-07-16T16:44:08.299Z"
   },
   {
    "duration": 185,
    "start_time": "2021-07-16T16:44:08.306Z"
   },
   {
    "duration": 1682,
    "start_time": "2021-07-16T16:44:08.494Z"
   },
   {
    "duration": 83,
    "start_time": "2021-07-16T16:44:10.179Z"
   },
   {
    "duration": 53,
    "start_time": "2021-07-16T16:44:10.264Z"
   },
   {
    "duration": 73,
    "start_time": "2021-07-16T16:44:10.320Z"
   },
   {
    "duration": 38,
    "start_time": "2021-07-16T16:44:10.396Z"
   },
   {
    "duration": 41,
    "start_time": "2021-07-16T16:44:10.437Z"
   },
   {
    "duration": 516,
    "start_time": "2021-07-16T16:44:10.481Z"
   },
   {
    "duration": 1288,
    "start_time": "2021-07-16T16:44:11.000Z"
   },
   {
    "duration": 8,
    "start_time": "2021-07-16T16:44:12.291Z"
   },
   {
    "duration": 220,
    "start_time": "2021-07-16T16:44:12.301Z"
   },
   {
    "duration": 350,
    "start_time": "2021-07-16T16:44:12.523Z"
   },
   {
    "duration": 1258,
    "start_time": "2021-07-16T16:44:12.876Z"
   },
   {
    "duration": 8,
    "start_time": "2021-07-16T16:44:14.136Z"
   },
   {
    "duration": 11,
    "start_time": "2021-07-16T16:44:14.161Z"
   },
   {
    "duration": 21,
    "start_time": "2021-07-16T16:44:14.175Z"
   },
   {
    "duration": 71,
    "start_time": "2021-07-16T16:44:14.199Z"
   },
   {
    "duration": 8,
    "start_time": "2021-07-16T16:44:14.272Z"
   },
   {
    "duration": 2039,
    "start_time": "2021-07-16T16:44:14.283Z"
   },
   {
    "duration": 13,
    "start_time": "2021-07-16T16:44:16.324Z"
   },
   {
    "duration": 28,
    "start_time": "2021-07-16T16:44:16.339Z"
   },
   {
    "duration": 69,
    "start_time": "2021-07-16T16:44:16.369Z"
   },
   {
    "duration": 277,
    "start_time": "2021-07-16T16:44:16.440Z"
   },
   {
    "duration": 68,
    "start_time": "2021-07-16T16:44:16.719Z"
   },
   {
    "duration": 626,
    "start_time": "2021-07-16T16:44:16.789Z"
   },
   {
    "duration": 7,
    "start_time": "2021-07-16T16:44:17.418Z"
   },
   {
    "duration": 36,
    "start_time": "2021-07-16T16:44:17.427Z"
   },
   {
    "duration": 599,
    "start_time": "2021-07-16T16:44:17.466Z"
   },
   {
    "duration": 47,
    "start_time": "2021-07-16T16:44:18.067Z"
   },
   {
    "duration": 12,
    "start_time": "2021-07-16T16:44:18.116Z"
   },
   {
    "duration": 75,
    "start_time": "2021-07-16T16:44:18.131Z"
   },
   {
    "duration": 13,
    "start_time": "2021-07-16T16:44:18.209Z"
   },
   {
    "duration": 231,
    "start_time": "2021-07-16T16:44:18.224Z"
   },
   {
    "duration": 16,
    "start_time": "2021-07-16T16:45:45.759Z"
   },
   {
    "duration": 15,
    "start_time": "2021-07-16T16:45:50.376Z"
   },
   {
    "duration": 60,
    "start_time": "2021-07-16T16:45:56.845Z"
   },
   {
    "duration": 13,
    "start_time": "2021-07-16T16:46:20.935Z"
   },
   {
    "duration": 210,
    "start_time": "2021-07-16T16:46:23.054Z"
   },
   {
    "duration": 11,
    "start_time": "2021-07-16T16:47:51.684Z"
   },
   {
    "duration": 11,
    "start_time": "2021-07-16T16:48:17.467Z"
   },
   {
    "duration": 52,
    "start_time": "2021-07-16T16:48:20.091Z"
   },
   {
    "duration": 13,
    "start_time": "2021-07-16T16:48:39.135Z"
   },
   {
    "duration": 373,
    "start_time": "2021-07-16T16:48:41.469Z"
   },
   {
    "duration": 50,
    "start_time": "2021-07-16T16:49:00.285Z"
   },
   {
    "duration": 33,
    "start_time": "2021-07-16T16:53:01.511Z"
   },
   {
    "duration": 1575,
    "start_time": "2021-07-16T16:53:47.417Z"
   },
   {
    "duration": 8,
    "start_time": "2021-07-16T16:53:56.930Z"
   },
   {
    "duration": 1517,
    "start_time": "2021-07-16T16:54:02.538Z"
   },
   {
    "duration": 71,
    "start_time": "2021-07-16T16:54:06.521Z"
   },
   {
    "duration": 53,
    "start_time": "2021-07-16T16:54:08.938Z"
   },
   {
    "duration": 48,
    "start_time": "2021-07-16T16:54:11.681Z"
   },
   {
    "duration": 40,
    "start_time": "2021-07-16T16:54:12.904Z"
   },
   {
    "duration": 22,
    "start_time": "2021-07-16T16:54:18.186Z"
   },
   {
    "duration": 676,
    "start_time": "2021-07-16T16:54:20.912Z"
   },
   {
    "duration": 1375,
    "start_time": "2021-07-16T16:54:21.834Z"
   },
   {
    "duration": 9,
    "start_time": "2021-07-16T16:54:23.213Z"
   },
   {
    "duration": 193,
    "start_time": "2021-07-16T16:54:24.911Z"
   },
   {
    "duration": 475,
    "start_time": "2021-07-16T16:54:26.203Z"
   },
   {
    "duration": 1371,
    "start_time": "2021-07-16T16:54:27.726Z"
   },
   {
    "duration": 8,
    "start_time": "2021-07-16T16:54:29.287Z"
   },
   {
    "duration": 11,
    "start_time": "2021-07-16T16:54:31.568Z"
   },
   {
    "duration": 21,
    "start_time": "2021-07-16T16:54:32.744Z"
   },
   {
    "duration": 41,
    "start_time": "2021-07-16T16:54:38.225Z"
   },
   {
    "duration": 8,
    "start_time": "2021-07-16T16:54:39.577Z"
   },
   {
    "duration": 1234,
    "start_time": "2021-07-16T16:54:40.277Z"
   },
   {
    "duration": 45,
    "start_time": "2021-07-16T16:55:19.154Z"
   },
   {
    "duration": 8,
    "start_time": "2021-07-16T16:55:20.706Z"
   },
   {
    "duration": 1380,
    "start_time": "2021-07-16T16:55:23.294Z"
   },
   {
    "duration": 1931,
    "start_time": "2021-07-16T16:56:28.387Z"
   },
   {
    "duration": 1116,
    "start_time": "2021-07-16T16:56:30.321Z"
   },
   {
    "duration": 5,
    "start_time": "2021-07-16T16:56:31.441Z"
   },
   {
    "duration": 547,
    "start_time": "2021-07-16T16:56:31.449Z"
   },
   {
    "duration": 590,
    "start_time": "2021-07-16T16:56:31.999Z"
   },
   {
    "duration": 131,
    "start_time": "2021-07-16T16:56:32.592Z"
   },
   {
    "duration": 5,
    "start_time": "2021-07-16T16:56:32.726Z"
   },
   {
    "duration": 299,
    "start_time": "2021-07-16T16:56:32.736Z"
   },
   {
    "duration": 2398,
    "start_time": "2021-07-16T16:56:33.039Z"
   },
   {
    "duration": 160,
    "start_time": "2021-07-16T16:56:35.440Z"
   },
   {
    "duration": 80,
    "start_time": "2021-07-16T16:56:35.603Z"
   },
   {
    "duration": 78,
    "start_time": "2021-07-16T16:56:35.686Z"
   },
   {
    "duration": 54,
    "start_time": "2021-07-16T16:56:35.767Z"
   },
   {
    "duration": 55,
    "start_time": "2021-07-16T16:56:35.824Z"
   },
   {
    "duration": 539,
    "start_time": "2021-07-16T16:56:35.882Z"
   },
   {
    "duration": 1268,
    "start_time": "2021-07-16T16:56:36.424Z"
   },
   {
    "duration": 6,
    "start_time": "2021-07-16T16:56:37.695Z"
   },
   {
    "duration": 200,
    "start_time": "2021-07-16T16:56:37.704Z"
   },
   {
    "duration": 343,
    "start_time": "2021-07-16T16:56:37.906Z"
   },
   {
    "duration": 1288,
    "start_time": "2021-07-16T16:56:38.252Z"
   },
   {
    "duration": 7,
    "start_time": "2021-07-16T16:56:39.542Z"
   },
   {
    "duration": 11,
    "start_time": "2021-07-16T16:56:39.562Z"
   },
   {
    "duration": 24,
    "start_time": "2021-07-16T16:56:39.578Z"
   },
   {
    "duration": 69,
    "start_time": "2021-07-16T16:56:39.605Z"
   },
   {
    "duration": 7,
    "start_time": "2021-07-16T16:56:39.677Z"
   },
   {
    "duration": 2045,
    "start_time": "2021-07-16T16:56:39.687Z"
   },
   {
    "duration": 13,
    "start_time": "2021-07-16T16:56:41.734Z"
   },
   {
    "duration": 9,
    "start_time": "2021-07-16T16:56:41.763Z"
   },
   {
    "duration": 67,
    "start_time": "2021-07-16T16:56:41.775Z"
   },
   {
    "duration": 279,
    "start_time": "2021-07-16T16:56:41.862Z"
   },
   {
    "duration": 70,
    "start_time": "2021-07-16T16:56:42.144Z"
   },
   {
    "duration": 648,
    "start_time": "2021-07-16T16:56:42.217Z"
   },
   {
    "duration": 7,
    "start_time": "2021-07-16T16:56:42.867Z"
   },
   {
    "duration": 16,
    "start_time": "2021-07-16T16:56:42.876Z"
   },
   {
    "duration": 877,
    "start_time": "2021-07-16T16:56:42.895Z"
   },
   {
    "duration": 70,
    "start_time": "2021-07-16T16:56:43.775Z"
   },
   {
    "duration": 16,
    "start_time": "2021-07-16T16:56:43.863Z"
   },
   {
    "duration": 95,
    "start_time": "2021-07-16T16:56:43.883Z"
   },
   {
    "duration": 19,
    "start_time": "2021-07-16T16:56:43.981Z"
   },
   {
    "duration": 328,
    "start_time": "2021-07-16T16:56:44.003Z"
   },
   {
    "duration": 31,
    "start_time": "2021-07-16T16:57:21.545Z"
   },
   {
    "duration": 63,
    "start_time": "2021-07-16T16:57:22.483Z"
   },
   {
    "duration": 8,
    "start_time": "2021-07-16T16:57:23.556Z"
   },
   {
    "duration": 1387,
    "start_time": "2021-07-16T16:57:24.231Z"
   },
   {
    "duration": 1536,
    "start_time": "2021-07-16T16:58:02.772Z"
   },
   {
    "duration": 2069,
    "start_time": "2021-07-16T16:58:28.735Z"
   },
   {
    "duration": 771,
    "start_time": "2021-07-16T16:58:30.806Z"
   },
   {
    "duration": 4,
    "start_time": "2021-07-16T16:58:31.580Z"
   },
   {
    "duration": 343,
    "start_time": "2021-07-16T16:58:31.586Z"
   },
   {
    "duration": 410,
    "start_time": "2021-07-16T16:58:31.931Z"
   },
   {
    "duration": 82,
    "start_time": "2021-07-16T16:58:32.344Z"
   },
   {
    "duration": 4,
    "start_time": "2021-07-16T16:58:32.429Z"
   },
   {
    "duration": 186,
    "start_time": "2021-07-16T16:58:32.437Z"
   },
   {
    "duration": 1553,
    "start_time": "2021-07-16T16:58:32.626Z"
   },
   {
    "duration": 64,
    "start_time": "2021-07-16T16:58:34.182Z"
   },
   {
    "duration": 53,
    "start_time": "2021-07-16T16:58:34.261Z"
   },
   {
    "duration": 68,
    "start_time": "2021-07-16T16:58:34.316Z"
   },
   {
    "duration": 36,
    "start_time": "2021-07-16T16:58:34.387Z"
   },
   {
    "duration": 52,
    "start_time": "2021-07-16T16:58:34.425Z"
   },
   {
    "duration": 493,
    "start_time": "2021-07-16T16:58:34.480Z"
   },
   {
    "duration": 1258,
    "start_time": "2021-07-16T16:58:34.976Z"
   },
   {
    "duration": 7,
    "start_time": "2021-07-16T16:58:36.236Z"
   },
   {
    "duration": 199,
    "start_time": "2021-07-16T16:58:36.245Z"
   },
   {
    "duration": 336,
    "start_time": "2021-07-16T16:58:36.447Z"
   },
   {
    "duration": 1249,
    "start_time": "2021-07-16T16:58:36.786Z"
   },
   {
    "duration": 7,
    "start_time": "2021-07-16T16:58:38.038Z"
   },
   {
    "duration": 10,
    "start_time": "2021-07-16T16:58:38.062Z"
   },
   {
    "duration": 20,
    "start_time": "2021-07-16T16:58:38.078Z"
   },
   {
    "duration": 71,
    "start_time": "2021-07-16T16:58:38.102Z"
   },
   {
    "duration": 8,
    "start_time": "2021-07-16T16:58:38.175Z"
   },
   {
    "duration": 2036,
    "start_time": "2021-07-16T16:58:38.185Z"
   },
   {
    "duration": 14,
    "start_time": "2021-07-16T16:58:40.223Z"
   },
   {
    "duration": 30,
    "start_time": "2021-07-16T16:58:40.240Z"
   },
   {
    "duration": 63,
    "start_time": "2021-07-16T16:58:40.273Z"
   },
   {
    "duration": 260,
    "start_time": "2021-07-16T16:58:40.362Z"
   },
   {
    "duration": 64,
    "start_time": "2021-07-16T16:58:40.624Z"
   },
   {
    "duration": 616,
    "start_time": "2021-07-16T16:58:40.691Z"
   },
   {
    "duration": 8,
    "start_time": "2021-07-16T16:58:41.310Z"
   },
   {
    "duration": 43,
    "start_time": "2021-07-16T16:58:41.320Z"
   },
   {
    "duration": 596,
    "start_time": "2021-07-16T16:58:41.366Z"
   },
   {
    "duration": 46,
    "start_time": "2021-07-16T16:58:41.964Z"
   },
   {
    "duration": 11,
    "start_time": "2021-07-16T16:58:42.012Z"
   },
   {
    "duration": 90,
    "start_time": "2021-07-16T16:58:42.026Z"
   },
   {
    "duration": 13,
    "start_time": "2021-07-16T16:58:42.118Z"
   },
   {
    "duration": 218,
    "start_time": "2021-07-16T16:58:42.161Z"
   },
   {
    "duration": 37,
    "start_time": "2021-07-16T16:59:49.160Z"
   },
   {
    "duration": 43,
    "start_time": "2021-07-16T16:59:53.880Z"
   },
   {
    "duration": 210,
    "start_time": "2021-07-16T17:00:10.691Z"
   },
   {
    "duration": 378,
    "start_time": "2021-07-16T17:00:14.890Z"
   },
   {
    "duration": 45,
    "start_time": "2021-07-16T17:01:51.455Z"
   },
   {
    "duration": 48,
    "start_time": "2021-07-16T17:02:03.458Z"
   },
   {
    "duration": 936,
    "start_time": "2021-07-16T17:03:19.283Z"
   },
   {
    "duration": 51,
    "start_time": "2021-07-16T17:04:50.214Z"
   },
   {
    "duration": 14,
    "start_time": "2021-07-16T17:04:51.482Z"
   },
   {
    "duration": 929,
    "start_time": "2021-07-16T17:04:59.848Z"
   },
   {
    "duration": 14,
    "start_time": "2021-07-16T17:05:27.528Z"
   },
   {
    "duration": 196,
    "start_time": "2021-07-16T17:05:29.048Z"
   },
   {
    "duration": 686,
    "start_time": "2021-07-16T17:05:52.235Z"
   },
   {
    "duration": 16,
    "start_time": "2021-07-16T17:06:38.480Z"
   },
   {
    "duration": 12,
    "start_time": "2021-07-16T17:07:00.582Z"
   },
   {
    "duration": 41,
    "start_time": "2021-07-16T17:08:26.880Z"
   },
   {
    "duration": 8725,
    "start_time": "2021-07-16T17:08:30.224Z"
   },
   {
    "duration": 14,
    "start_time": "2021-07-16T17:09:50.839Z"
   },
   {
    "duration": 199,
    "start_time": "2021-07-16T17:09:52.487Z"
   },
   {
    "duration": 41,
    "start_time": "2021-07-16T17:09:54.670Z"
   },
   {
    "duration": 15,
    "start_time": "2021-07-16T17:09:55.415Z"
   },
   {
    "duration": 2593,
    "start_time": "2021-07-16T17:25:06.575Z"
   },
   {
    "duration": 1108,
    "start_time": "2021-07-16T17:25:09.171Z"
   },
   {
    "duration": 5,
    "start_time": "2021-07-16T17:25:10.283Z"
   },
   {
    "duration": 495,
    "start_time": "2021-07-16T17:25:10.291Z"
   },
   {
    "duration": 426,
    "start_time": "2021-07-16T17:25:10.788Z"
   },
   {
    "duration": 87,
    "start_time": "2021-07-16T17:25:11.216Z"
   },
   {
    "duration": 3,
    "start_time": "2021-07-16T17:25:11.306Z"
   },
   {
    "duration": 197,
    "start_time": "2021-07-16T17:25:11.313Z"
   },
   {
    "duration": 1722,
    "start_time": "2021-07-16T17:25:11.514Z"
   },
   {
    "duration": 73,
    "start_time": "2021-07-16T17:25:13.238Z"
   },
   {
    "duration": 63,
    "start_time": "2021-07-16T17:25:13.313Z"
   },
   {
    "duration": 50,
    "start_time": "2021-07-16T17:25:13.378Z"
   },
   {
    "duration": 81,
    "start_time": "2021-07-16T17:25:13.430Z"
   },
   {
    "duration": 29,
    "start_time": "2021-07-16T17:25:13.514Z"
   },
   {
    "duration": 664,
    "start_time": "2021-07-16T17:25:13.562Z"
   },
   {
    "duration": 1215,
    "start_time": "2021-07-16T17:25:14.228Z"
   },
   {
    "duration": 6,
    "start_time": "2021-07-16T17:25:15.445Z"
   },
   {
    "duration": 203,
    "start_time": "2021-07-16T17:25:15.462Z"
   },
   {
    "duration": 339,
    "start_time": "2021-07-16T17:25:15.668Z"
   },
   {
    "duration": 1341,
    "start_time": "2021-07-16T17:25:16.009Z"
   },
   {
    "duration": 11,
    "start_time": "2021-07-16T17:25:17.352Z"
   },
   {
    "duration": 10,
    "start_time": "2021-07-16T17:25:17.365Z"
   },
   {
    "duration": 18,
    "start_time": "2021-07-16T17:25:17.380Z"
   },
   {
    "duration": 85,
    "start_time": "2021-07-16T17:25:17.401Z"
   },
   {
    "duration": 7,
    "start_time": "2021-07-16T17:25:17.489Z"
   },
   {
    "duration": 2063,
    "start_time": "2021-07-16T17:25:17.499Z"
   },
   {
    "duration": 13,
    "start_time": "2021-07-16T17:25:19.564Z"
   },
   {
    "duration": 23,
    "start_time": "2021-07-16T17:25:19.579Z"
   },
   {
    "duration": 92,
    "start_time": "2021-07-16T17:25:19.604Z"
   },
   {
    "duration": 271,
    "start_time": "2021-07-16T17:25:19.698Z"
   },
   {
    "duration": 52,
    "start_time": "2021-07-16T17:25:19.971Z"
   },
   {
    "duration": 623,
    "start_time": "2021-07-16T17:25:20.025Z"
   },
   {
    "duration": 13,
    "start_time": "2021-07-16T17:25:20.650Z"
   },
   {
    "duration": 15,
    "start_time": "2021-07-16T17:25:20.665Z"
   },
   {
    "duration": 622,
    "start_time": "2021-07-16T17:25:20.683Z"
   },
   {
    "duration": 62,
    "start_time": "2021-07-16T17:25:21.308Z"
   },
   {
    "duration": 15,
    "start_time": "2021-07-16T17:25:21.373Z"
   },
   {
    "duration": 73,
    "start_time": "2021-07-16T17:25:21.391Z"
   },
   {
    "duration": 14,
    "start_time": "2021-07-16T17:25:21.466Z"
   },
   {
    "duration": 229,
    "start_time": "2021-07-16T17:25:21.483Z"
   },
   {
    "duration": 55,
    "start_time": "2021-07-16T17:25:21.714Z"
   },
   {
    "duration": 14,
    "start_time": "2021-07-16T17:25:21.771Z"
   },
   {
    "duration": 1941,
    "start_time": "2021-07-16T17:26:08.446Z"
   },
   {
    "duration": 1113,
    "start_time": "2021-07-16T17:26:10.390Z"
   },
   {
    "duration": 5,
    "start_time": "2021-07-16T17:26:11.511Z"
   },
   {
    "duration": 543,
    "start_time": "2021-07-16T17:26:11.519Z"
   },
   {
    "duration": 579,
    "start_time": "2021-07-16T17:26:12.066Z"
   },
   {
    "duration": 129,
    "start_time": "2021-07-16T17:26:12.648Z"
   },
   {
    "duration": 5,
    "start_time": "2021-07-16T17:26:12.783Z"
   },
   {
    "duration": 303,
    "start_time": "2021-07-16T17:26:12.792Z"
   },
   {
    "duration": 2316,
    "start_time": "2021-07-16T17:26:13.098Z"
   },
   {
    "duration": 156,
    "start_time": "2021-07-16T17:26:15.417Z"
   },
   {
    "duration": 87,
    "start_time": "2021-07-16T17:26:15.576Z"
   },
   {
    "duration": 66,
    "start_time": "2021-07-16T17:26:15.666Z"
   },
   {
    "duration": 72,
    "start_time": "2021-07-16T17:26:15.735Z"
   },
   {
    "duration": 31,
    "start_time": "2021-07-16T17:26:15.810Z"
   },
   {
    "duration": 756,
    "start_time": "2021-07-16T17:26:15.863Z"
   },
   {
    "duration": 1843,
    "start_time": "2021-07-16T17:26:16.622Z"
   },
   {
    "duration": 9,
    "start_time": "2021-07-16T17:26:18.468Z"
   },
   {
    "duration": 300,
    "start_time": "2021-07-16T17:26:18.480Z"
   },
   {
    "duration": 487,
    "start_time": "2021-07-16T17:26:18.783Z"
   },
   {
    "duration": 1850,
    "start_time": "2021-07-16T17:26:19.273Z"
   },
   {
    "duration": 7,
    "start_time": "2021-07-16T17:26:21.126Z"
   },
   {
    "duration": 28,
    "start_time": "2021-07-16T17:26:21.138Z"
   },
   {
    "duration": 22,
    "start_time": "2021-07-16T17:26:21.169Z"
   },
   {
    "duration": 70,
    "start_time": "2021-07-16T17:26:21.194Z"
   },
   {
    "duration": 8,
    "start_time": "2021-07-16T17:26:21.266Z"
   },
   {
    "duration": 2029,
    "start_time": "2021-07-16T17:26:21.276Z"
   },
   {
    "duration": 13,
    "start_time": "2021-07-16T17:26:23.308Z"
   },
   {
    "duration": 10,
    "start_time": "2021-07-16T17:26:23.324Z"
   },
   {
    "duration": 259,
    "start_time": "2021-07-16T17:26:23.363Z"
   },
   {
    "duration": 64,
    "start_time": "2021-07-16T17:26:23.625Z"
   },
   {
    "duration": 624,
    "start_time": "2021-07-16T17:26:23.691Z"
   },
   {
    "duration": 7,
    "start_time": "2021-07-16T17:26:24.317Z"
   },
   {
    "duration": 36,
    "start_time": "2021-07-16T17:26:24.326Z"
   },
   {
    "duration": 609,
    "start_time": "2021-07-16T17:26:24.364Z"
   },
   {
    "duration": 45,
    "start_time": "2021-07-16T17:26:24.975Z"
   },
   {
    "duration": 16,
    "start_time": "2021-07-16T17:26:25.023Z"
   },
   {
    "duration": 52,
    "start_time": "2021-07-16T17:26:25.063Z"
   },
   {
    "duration": 13,
    "start_time": "2021-07-16T17:26:25.117Z"
   },
   {
    "duration": 228,
    "start_time": "2021-07-16T17:26:25.133Z"
   },
   {
    "duration": 39,
    "start_time": "2021-07-16T17:26:25.364Z"
   },
   {
    "duration": 14,
    "start_time": "2021-07-16T17:26:25.406Z"
   },
   {
    "duration": 2056,
    "start_time": "2021-07-16T17:27:30.928Z"
   },
   {
    "duration": 838,
    "start_time": "2021-07-16T17:27:32.987Z"
   },
   {
    "duration": 5,
    "start_time": "2021-07-16T17:27:33.828Z"
   },
   {
    "duration": 409,
    "start_time": "2021-07-16T17:27:33.837Z"
   },
   {
    "duration": 498,
    "start_time": "2021-07-16T17:27:34.263Z"
   },
   {
    "duration": 116,
    "start_time": "2021-07-16T17:27:34.764Z"
   },
   {
    "duration": 10,
    "start_time": "2021-07-16T17:27:34.883Z"
   },
   {
    "duration": 293,
    "start_time": "2021-07-16T17:27:34.900Z"
   },
   {
    "duration": 1776,
    "start_time": "2021-07-16T17:27:35.197Z"
   },
   {
    "duration": 99,
    "start_time": "2021-07-16T17:27:36.976Z"
   },
   {
    "duration": 62,
    "start_time": "2021-07-16T17:27:37.079Z"
   },
   {
    "duration": 61,
    "start_time": "2021-07-16T17:27:37.163Z"
   },
   {
    "duration": 59,
    "start_time": "2021-07-16T17:27:37.227Z"
   },
   {
    "duration": 22,
    "start_time": "2021-07-16T17:27:37.288Z"
   },
   {
    "duration": 524,
    "start_time": "2021-07-16T17:27:37.313Z"
   },
   {
    "duration": 1222,
    "start_time": "2021-07-16T17:27:37.840Z"
   },
   {
    "duration": 7,
    "start_time": "2021-07-16T17:27:39.064Z"
   },
   {
    "duration": 199,
    "start_time": "2021-07-16T17:27:39.073Z"
   },
   {
    "duration": 334,
    "start_time": "2021-07-16T17:27:39.275Z"
   },
   {
    "duration": 1235,
    "start_time": "2021-07-16T17:27:39.612Z"
   },
   {
    "duration": 16,
    "start_time": "2021-07-16T17:27:40.849Z"
   },
   {
    "duration": 10,
    "start_time": "2021-07-16T17:27:40.867Z"
   },
   {
    "duration": 21,
    "start_time": "2021-07-16T17:27:40.882Z"
   },
   {
    "duration": 80,
    "start_time": "2021-07-16T17:27:40.906Z"
   },
   {
    "duration": 7,
    "start_time": "2021-07-16T17:27:40.989Z"
   },
   {
    "duration": 2007,
    "start_time": "2021-07-16T17:27:40.999Z"
   },
   {
    "duration": 12,
    "start_time": "2021-07-16T17:27:43.008Z"
   },
   {
    "duration": 10,
    "start_time": "2021-07-16T17:27:43.022Z"
   },
   {
    "duration": 367,
    "start_time": "2021-07-16T17:27:43.062Z"
   },
   {
    "duration": 64,
    "start_time": "2021-07-16T17:27:43.431Z"
   },
   {
    "duration": 617,
    "start_time": "2021-07-16T17:27:43.498Z"
   },
   {
    "duration": 10,
    "start_time": "2021-07-16T17:27:44.118Z"
   },
   {
    "duration": 46,
    "start_time": "2021-07-16T17:27:44.131Z"
   },
   {
    "duration": 606,
    "start_time": "2021-07-16T17:27:44.180Z"
   },
   {
    "duration": 46,
    "start_time": "2021-07-16T17:27:44.789Z"
   },
   {
    "duration": 34,
    "start_time": "2021-07-16T17:27:44.838Z"
   },
   {
    "duration": 49,
    "start_time": "2021-07-16T17:27:44.874Z"
   },
   {
    "duration": 42,
    "start_time": "2021-07-16T17:27:44.926Z"
   },
   {
    "duration": 218,
    "start_time": "2021-07-16T17:27:44.971Z"
   },
   {
    "duration": 41,
    "start_time": "2021-07-16T17:27:45.192Z"
   },
   {
    "duration": 30,
    "start_time": "2021-07-16T17:27:45.235Z"
   },
   {
    "duration": 2252,
    "start_time": "2021-07-16T17:28:56.448Z"
   },
   {
    "duration": 772,
    "start_time": "2021-07-16T17:28:58.702Z"
   },
   {
    "duration": 4,
    "start_time": "2021-07-16T17:28:59.476Z"
   },
   {
    "duration": 349,
    "start_time": "2021-07-16T17:28:59.482Z"
   },
   {
    "duration": 429,
    "start_time": "2021-07-16T17:28:59.833Z"
   },
   {
    "duration": 74,
    "start_time": "2021-07-16T17:29:00.264Z"
   },
   {
    "duration": 22,
    "start_time": "2021-07-16T17:29:00.340Z"
   },
   {
    "duration": 177,
    "start_time": "2021-07-16T17:29:00.367Z"
   },
   {
    "duration": 1566,
    "start_time": "2021-07-16T17:29:00.547Z"
   },
   {
    "duration": 81,
    "start_time": "2021-07-16T17:29:02.116Z"
   },
   {
    "duration": 63,
    "start_time": "2021-07-16T17:29:02.199Z"
   },
   {
    "duration": 50,
    "start_time": "2021-07-16T17:29:02.265Z"
   },
   {
    "duration": 69,
    "start_time": "2021-07-16T17:29:02.317Z"
   },
   {
    "duration": 22,
    "start_time": "2021-07-16T17:29:02.389Z"
   },
   {
    "duration": 535,
    "start_time": "2021-07-16T17:29:02.413Z"
   },
   {
    "duration": 1235,
    "start_time": "2021-07-16T17:29:02.950Z"
   },
   {
    "duration": 8,
    "start_time": "2021-07-16T17:29:04.188Z"
   },
   {
    "duration": 223,
    "start_time": "2021-07-16T17:29:04.200Z"
   },
   {
    "duration": 342,
    "start_time": "2021-07-16T17:29:04.427Z"
   },
   {
    "duration": 1274,
    "start_time": "2021-07-16T17:29:04.772Z"
   },
   {
    "duration": 17,
    "start_time": "2021-07-16T17:29:06.050Z"
   },
   {
    "duration": 12,
    "start_time": "2021-07-16T17:29:06.070Z"
   },
   {
    "duration": 24,
    "start_time": "2021-07-16T17:29:06.087Z"
   },
   {
    "duration": 72,
    "start_time": "2021-07-16T17:29:06.114Z"
   },
   {
    "duration": 10,
    "start_time": "2021-07-16T17:29:06.189Z"
   },
   {
    "duration": 2053,
    "start_time": "2021-07-16T17:29:06.202Z"
   },
   {
    "duration": 12,
    "start_time": "2021-07-16T17:29:08.257Z"
   },
   {
    "duration": 18,
    "start_time": "2021-07-16T17:29:08.272Z"
   },
   {
    "duration": 291,
    "start_time": "2021-07-16T17:29:08.292Z"
   },
   {
    "duration": 50,
    "start_time": "2021-07-16T17:29:08.585Z"
   },
   {
    "duration": 607,
    "start_time": "2021-07-16T17:29:08.662Z"
   },
   {
    "duration": 7,
    "start_time": "2021-07-16T17:29:09.273Z"
   },
   {
    "duration": 33,
    "start_time": "2021-07-16T17:29:09.282Z"
   },
   {
    "duration": 612,
    "start_time": "2021-07-16T17:29:09.317Z"
   },
   {
    "duration": 61,
    "start_time": "2021-07-16T17:29:09.932Z"
   },
   {
    "duration": 17,
    "start_time": "2021-07-16T17:29:09.995Z"
   },
   {
    "duration": 69,
    "start_time": "2021-07-16T17:29:10.014Z"
   },
   {
    "duration": 12,
    "start_time": "2021-07-16T17:29:10.086Z"
   },
   {
    "duration": 231,
    "start_time": "2021-07-16T17:29:10.100Z"
   },
   {
    "duration": 59,
    "start_time": "2021-07-16T17:29:10.333Z"
   },
   {
    "duration": 12,
    "start_time": "2021-07-16T17:29:10.395Z"
   },
   {
    "duration": 64526,
    "start_time": "2021-07-17T04:59:48.120Z"
   },
   {
    "duration": 1754,
    "start_time": "2021-07-17T05:00:52.649Z"
   },
   {
    "duration": 4,
    "start_time": "2021-07-17T05:00:54.406Z"
   },
   {
    "duration": 338,
    "start_time": "2021-07-17T05:00:54.412Z"
   },
   {
    "duration": 404,
    "start_time": "2021-07-17T05:00:54.753Z"
   },
   {
    "duration": 74,
    "start_time": "2021-07-17T05:00:55.159Z"
   },
   {
    "duration": 4,
    "start_time": "2021-07-17T05:00:55.235Z"
   },
   {
    "duration": 267,
    "start_time": "2021-07-17T05:00:55.241Z"
   },
   {
    "duration": 1704,
    "start_time": "2021-07-17T05:00:55.512Z"
   },
   {
    "duration": 107,
    "start_time": "2021-07-17T05:00:57.219Z"
   },
   {
    "duration": 63,
    "start_time": "2021-07-17T05:00:57.328Z"
   },
   {
    "duration": 47,
    "start_time": "2021-07-17T05:00:57.393Z"
   },
   {
    "duration": 56,
    "start_time": "2021-07-17T05:00:57.442Z"
   },
   {
    "duration": 21,
    "start_time": "2021-07-17T05:00:57.500Z"
   },
   {
    "duration": 501,
    "start_time": "2021-07-17T05:00:57.523Z"
   },
   {
    "duration": 1221,
    "start_time": "2021-07-17T05:00:58.026Z"
   },
   {
    "duration": 18,
    "start_time": "2021-07-17T05:00:59.250Z"
   },
   {
    "duration": 196,
    "start_time": "2021-07-17T05:00:59.271Z"
   },
   {
    "duration": 337,
    "start_time": "2021-07-17T05:00:59.469Z"
   },
   {
    "duration": 1273,
    "start_time": "2021-07-17T05:00:59.809Z"
   },
   {
    "duration": 7,
    "start_time": "2021-07-17T05:01:01.084Z"
   },
   {
    "duration": 23,
    "start_time": "2021-07-17T05:01:01.093Z"
   },
   {
    "duration": 21,
    "start_time": "2021-07-17T05:01:01.119Z"
   },
   {
    "duration": 59,
    "start_time": "2021-07-17T05:01:01.143Z"
   },
   {
    "duration": 8,
    "start_time": "2021-07-17T05:01:01.204Z"
   },
   {
    "duration": 2073,
    "start_time": "2021-07-17T05:01:01.214Z"
   },
   {
    "duration": 14,
    "start_time": "2021-07-17T05:01:03.292Z"
   },
   {
    "duration": 10,
    "start_time": "2021-07-17T05:01:03.309Z"
   },
   {
    "duration": 303,
    "start_time": "2021-07-17T05:01:03.321Z"
   },
   {
    "duration": 71,
    "start_time": "2021-07-17T05:01:03.627Z"
   },
   {
    "duration": 613,
    "start_time": "2021-07-17T05:01:03.700Z"
   },
   {
    "duration": 7,
    "start_time": "2021-07-17T05:01:04.316Z"
   },
   {
    "duration": 41,
    "start_time": "2021-07-17T05:01:04.326Z"
   },
   {
    "duration": 612,
    "start_time": "2021-07-17T05:01:04.369Z"
   },
   {
    "duration": 46,
    "start_time": "2021-07-17T05:01:04.984Z"
   },
   {
    "duration": 40,
    "start_time": "2021-07-17T05:01:05.032Z"
   },
   {
    "duration": 51,
    "start_time": "2021-07-17T05:01:05.075Z"
   },
   {
    "duration": 14,
    "start_time": "2021-07-17T05:01:05.129Z"
   },
   {
    "duration": 214,
    "start_time": "2021-07-17T05:01:05.166Z"
   },
   {
    "duration": 40,
    "start_time": "2021-07-17T05:01:05.382Z"
   },
   {
    "duration": 13,
    "start_time": "2021-07-17T05:01:05.424Z"
   },
   {
    "duration": 410,
    "start_time": "2021-07-17T07:30:46.839Z"
   },
   {
    "duration": 1823,
    "start_time": "2021-07-17T07:31:02.031Z"
   },
   {
    "duration": 695,
    "start_time": "2021-07-17T07:31:03.857Z"
   },
   {
    "duration": 4,
    "start_time": "2021-07-17T07:31:04.556Z"
   },
   {
    "duration": 342,
    "start_time": "2021-07-17T07:31:04.563Z"
   },
   {
    "duration": 355,
    "start_time": "2021-07-17T07:31:04.907Z"
   },
   {
    "duration": 77,
    "start_time": "2021-07-17T07:31:05.264Z"
   },
   {
    "duration": 4,
    "start_time": "2021-07-17T07:31:05.343Z"
   },
   {
    "duration": 173,
    "start_time": "2021-07-17T07:31:05.350Z"
   },
   {
    "duration": 1382,
    "start_time": "2021-07-17T07:31:05.526Z"
   },
   {
    "duration": 72,
    "start_time": "2021-07-17T07:31:06.910Z"
   },
   {
    "duration": 49,
    "start_time": "2021-07-17T07:31:06.985Z"
   },
   {
    "duration": 61,
    "start_time": "2021-07-17T07:31:07.036Z"
   },
   {
    "duration": 36,
    "start_time": "2021-07-17T07:31:07.099Z"
   },
   {
    "duration": 45,
    "start_time": "2021-07-17T07:31:07.137Z"
   },
   {
    "duration": 455,
    "start_time": "2021-07-17T07:31:07.185Z"
   },
   {
    "duration": 1212,
    "start_time": "2021-07-17T07:31:07.642Z"
   },
   {
    "duration": 7,
    "start_time": "2021-07-17T07:31:08.856Z"
   },
   {
    "duration": 168,
    "start_time": "2021-07-17T07:31:08.865Z"
   },
   {
    "duration": 317,
    "start_time": "2021-07-17T07:31:09.035Z"
   },
   {
    "duration": 1147,
    "start_time": "2021-07-17T07:31:09.355Z"
   },
   {
    "duration": 7,
    "start_time": "2021-07-17T07:31:10.504Z"
   },
   {
    "duration": 11,
    "start_time": "2021-07-17T07:31:10.513Z"
   },
   {
    "duration": 19,
    "start_time": "2021-07-17T07:31:10.529Z"
   },
   {
    "duration": 69,
    "start_time": "2021-07-17T07:31:10.551Z"
   },
   {
    "duration": 7,
    "start_time": "2021-07-17T07:31:10.622Z"
   },
   {
    "duration": 1928,
    "start_time": "2021-07-17T07:31:10.632Z"
   },
   {
    "duration": 26,
    "start_time": "2021-07-17T07:31:12.562Z"
   },
   {
    "duration": 10,
    "start_time": "2021-07-17T07:31:12.590Z"
   },
   {
    "duration": 264,
    "start_time": "2021-07-17T07:31:12.602Z"
   },
   {
    "duration": 56,
    "start_time": "2021-07-17T07:31:12.868Z"
   },
   {
    "duration": 588,
    "start_time": "2021-07-17T07:31:12.926Z"
   },
   {
    "duration": 7,
    "start_time": "2021-07-17T07:31:13.517Z"
   },
   {
    "duration": 28,
    "start_time": "2021-07-17T07:31:13.526Z"
   },
   {
    "duration": 565,
    "start_time": "2021-07-17T07:31:13.557Z"
   },
   {
    "duration": 42,
    "start_time": "2021-07-17T07:31:14.125Z"
   },
   {
    "duration": 3,
    "start_time": "2021-07-17T07:31:14.183Z"
   },
   {
    "duration": 36,
    "start_time": "2021-07-17T07:31:14.189Z"
   },
   {
    "duration": 55,
    "start_time": "2021-07-17T07:31:14.227Z"
   },
   {
    "duration": 12,
    "start_time": "2021-07-17T07:31:14.284Z"
   },
   {
    "duration": 212,
    "start_time": "2021-07-17T07:31:14.298Z"
   },
   {
    "duration": 39,
    "start_time": "2021-07-17T07:31:14.512Z"
   },
   {
    "duration": 31,
    "start_time": "2021-07-17T07:31:14.553Z"
   },
   {
    "duration": 546,
    "start_time": "2021-07-17T07:38:59.576Z"
   },
   {
    "duration": 34,
    "start_time": "2021-07-17T07:39:03.476Z"
   },
   {
    "duration": 15,
    "start_time": "2021-07-17T07:39:16.194Z"
   },
   {
    "duration": 16,
    "start_time": "2021-07-17T07:39:47.492Z"
   },
   {
    "duration": 623,
    "start_time": "2021-07-17T07:48:42.330Z"
   },
   {
    "duration": 17,
    "start_time": "2021-07-17T07:48:45.620Z"
   },
   {
    "duration": 377,
    "start_time": "2021-07-17T07:48:46.308Z"
   },
   {
    "duration": 137,
    "start_time": "2021-07-17T07:49:31.085Z"
   },
   {
    "duration": 25,
    "start_time": "2021-07-17T08:27:44.225Z"
   },
   {
    "duration": 492,
    "start_time": "2021-07-17T08:30:40.389Z"
   },
   {
    "duration": 126,
    "start_time": "2021-07-17T08:31:48.917Z"
   },
   {
    "duration": 130,
    "start_time": "2021-07-17T08:39:55.753Z"
   },
   {
    "duration": 126,
    "start_time": "2021-07-17T08:41:53.107Z"
   },
   {
    "duration": 139,
    "start_time": "2021-07-17T08:41:53.831Z"
   },
   {
    "duration": 100,
    "start_time": "2021-07-17T08:44:51.121Z"
   },
   {
    "duration": 1930,
    "start_time": "2021-07-17T08:45:50.882Z"
   },
   {
    "duration": 718,
    "start_time": "2021-07-17T08:45:52.815Z"
   },
   {
    "duration": 4,
    "start_time": "2021-07-17T08:45:53.536Z"
   },
   {
    "duration": 415,
    "start_time": "2021-07-17T08:45:53.542Z"
   },
   {
    "duration": 364,
    "start_time": "2021-07-17T08:45:53.959Z"
   },
   {
    "duration": 82,
    "start_time": "2021-07-17T08:45:54.326Z"
   },
   {
    "duration": 4,
    "start_time": "2021-07-17T08:45:54.411Z"
   },
   {
    "duration": 170,
    "start_time": "2021-07-17T08:45:54.418Z"
   },
   {
    "duration": 1503,
    "start_time": "2021-07-17T08:45:54.591Z"
   },
   {
    "duration": 89,
    "start_time": "2021-07-17T08:45:56.096Z"
   },
   {
    "duration": 49,
    "start_time": "2021-07-17T08:45:56.187Z"
   },
   {
    "duration": 66,
    "start_time": "2021-07-17T08:45:56.238Z"
   },
   {
    "duration": 37,
    "start_time": "2021-07-17T08:45:56.306Z"
   },
   {
    "duration": 43,
    "start_time": "2021-07-17T08:45:56.345Z"
   },
   {
    "duration": 462,
    "start_time": "2021-07-17T08:45:56.390Z"
   },
   {
    "duration": 73697,
    "start_time": "2021-07-17T16:27:35.807Z"
   },
   {
    "duration": 897,
    "start_time": "2021-07-17T16:28:49.506Z"
   },
   {
    "duration": 3,
    "start_time": "2021-07-17T16:28:50.406Z"
   },
   {
    "duration": 402,
    "start_time": "2021-07-17T16:28:50.412Z"
   },
   {
    "duration": 396,
    "start_time": "2021-07-17T16:28:50.816Z"
   },
   {
    "duration": 79,
    "start_time": "2021-07-17T16:28:51.214Z"
   },
   {
    "duration": 3,
    "start_time": "2021-07-17T16:28:51.296Z"
   },
   {
    "duration": 174,
    "start_time": "2021-07-17T16:28:51.301Z"
   },
   {
    "duration": 1518,
    "start_time": "2021-07-17T16:28:51.479Z"
   },
   {
    "duration": 67,
    "start_time": "2021-07-17T16:28:53.001Z"
   },
   {
    "duration": 60,
    "start_time": "2021-07-17T16:28:53.071Z"
   },
   {
    "duration": 60,
    "start_time": "2021-07-17T16:28:53.134Z"
   },
   {
    "duration": 36,
    "start_time": "2021-07-17T16:28:53.197Z"
   },
   {
    "duration": 22,
    "start_time": "2021-07-17T16:28:53.235Z"
   },
   {
    "duration": 562,
    "start_time": "2021-07-17T16:28:53.286Z"
   },
   {
    "duration": 1310,
    "start_time": "2021-07-17T16:28:53.850Z"
   },
   {
    "duration": 22,
    "start_time": "2021-07-17T16:28:55.163Z"
   },
   {
    "duration": 183,
    "start_time": "2021-07-17T16:28:55.188Z"
   },
   {
    "duration": 320,
    "start_time": "2021-07-17T16:28:55.374Z"
   },
   {
    "duration": 1250,
    "start_time": "2021-07-17T16:28:55.697Z"
   },
   {
    "duration": 9,
    "start_time": "2021-07-17T16:28:56.951Z"
   },
   {
    "duration": 32,
    "start_time": "2021-07-17T16:28:56.963Z"
   },
   {
    "duration": 21,
    "start_time": "2021-07-17T16:28:56.998Z"
   },
   {
    "duration": 71,
    "start_time": "2021-07-17T16:28:57.021Z"
   },
   {
    "duration": 10,
    "start_time": "2021-07-17T16:28:57.094Z"
   },
   {
    "duration": 2136,
    "start_time": "2021-07-17T16:28:57.107Z"
   },
   {
    "duration": 13,
    "start_time": "2021-07-17T16:28:59.249Z"
   },
   {
    "duration": 27,
    "start_time": "2021-07-17T16:28:59.264Z"
   },
   {
    "duration": 271,
    "start_time": "2021-07-17T16:28:59.294Z"
   },
   {
    "duration": 65,
    "start_time": "2021-07-17T16:28:59.568Z"
   },
   {
    "duration": 705,
    "start_time": "2021-07-17T16:28:59.636Z"
   },
   {
    "duration": 9,
    "start_time": "2021-07-17T16:29:00.345Z"
   },
   {
    "duration": 36,
    "start_time": "2021-07-17T16:29:00.357Z"
   },
   {
    "duration": 583,
    "start_time": "2021-07-17T16:29:00.396Z"
   },
   {
    "duration": 48,
    "start_time": "2021-07-17T16:29:00.985Z"
   },
   {
    "duration": 155,
    "start_time": "2021-07-17T16:29:01.035Z"
   },
   {
    "duration": 16,
    "start_time": "2021-07-17T16:29:01.193Z"
   },
   {
    "duration": 55,
    "start_time": "2021-07-17T16:29:01.212Z"
   },
   {
    "duration": 25,
    "start_time": "2021-07-17T16:29:01.269Z"
   },
   {
    "duration": 217,
    "start_time": "2021-07-17T16:29:01.296Z"
   },
   {
    "duration": 39,
    "start_time": "2021-07-17T16:29:01.516Z"
   },
   {
    "duration": 32,
    "start_time": "2021-07-17T16:29:01.558Z"
   },
   {
    "duration": 292,
    "start_time": "2021-07-17T16:32:11.072Z"
   },
   {
    "duration": 2093,
    "start_time": "2021-07-27T11:21:37.787Z"
   },
   {
    "duration": 813,
    "start_time": "2021-07-27T11:21:39.883Z"
   },
   {
    "duration": 4,
    "start_time": "2021-07-27T11:21:40.699Z"
   },
   {
    "duration": 374,
    "start_time": "2021-07-27T11:21:40.705Z"
   },
   {
    "duration": 422,
    "start_time": "2021-07-27T11:21:41.082Z"
   },
   {
    "duration": 82,
    "start_time": "2021-07-27T11:21:41.507Z"
   },
   {
    "duration": 4,
    "start_time": "2021-07-27T11:21:41.591Z"
   },
   {
    "duration": 338,
    "start_time": "2021-07-27T11:21:41.599Z"
   },
   {
    "duration": 2623,
    "start_time": "2021-07-27T11:21:41.941Z"
   },
   {
    "duration": 88,
    "start_time": "2021-07-27T11:21:44.567Z"
   },
   {
    "duration": 67,
    "start_time": "2021-07-27T11:21:44.659Z"
   },
   {
    "duration": 72,
    "start_time": "2021-07-27T11:21:44.728Z"
   },
   {
    "duration": 58,
    "start_time": "2021-07-27T11:21:44.803Z"
   },
   {
    "duration": 23,
    "start_time": "2021-07-27T11:21:44.863Z"
   },
   {
    "duration": 528,
    "start_time": "2021-07-27T11:21:44.889Z"
   },
   {
    "duration": 1299,
    "start_time": "2021-07-27T11:21:45.419Z"
   },
   {
    "duration": 9,
    "start_time": "2021-07-27T11:21:46.721Z"
   },
   {
    "duration": 194,
    "start_time": "2021-07-27T11:21:46.732Z"
   },
   {
    "duration": 345,
    "start_time": "2021-07-27T11:21:46.929Z"
   },
   {
    "duration": 1312,
    "start_time": "2021-07-27T11:21:47.276Z"
   },
   {
    "duration": 7,
    "start_time": "2021-07-27T11:21:48.592Z"
   },
   {
    "duration": 30,
    "start_time": "2021-07-27T11:21:48.602Z"
   },
   {
    "duration": 39,
    "start_time": "2021-07-27T11:21:48.637Z"
   },
   {
    "duration": 71,
    "start_time": "2021-07-27T11:21:48.680Z"
   },
   {
    "duration": 8,
    "start_time": "2021-07-27T11:21:48.754Z"
   },
   {
    "duration": 2294,
    "start_time": "2021-07-27T11:21:48.765Z"
   },
   {
    "duration": 16,
    "start_time": "2021-07-27T11:21:51.062Z"
   },
   {
    "duration": 29,
    "start_time": "2021-07-27T11:21:51.081Z"
   },
   {
    "duration": 284,
    "start_time": "2021-07-27T11:21:51.113Z"
   },
   {
    "duration": 56,
    "start_time": "2021-07-27T11:21:51.400Z"
   },
   {
    "duration": 895,
    "start_time": "2021-07-27T11:21:51.459Z"
   },
   {
    "duration": 9,
    "start_time": "2021-07-27T11:21:52.358Z"
   },
   {
    "duration": 33,
    "start_time": "2021-07-27T11:21:52.370Z"
   },
   {
    "duration": 884,
    "start_time": "2021-07-27T11:21:52.407Z"
   },
   {
    "duration": 60,
    "start_time": "2021-07-27T11:21:53.294Z"
   },
   {
    "duration": 205,
    "start_time": "2021-07-27T11:21:53.358Z"
   },
   {
    "duration": 18,
    "start_time": "2021-07-27T11:21:53.566Z"
   },
   {
    "duration": 82,
    "start_time": "2021-07-27T11:21:53.587Z"
   },
   {
    "duration": 13,
    "start_time": "2021-07-27T11:21:53.673Z"
   },
   {
    "duration": 225,
    "start_time": "2021-07-27T11:21:53.689Z"
   },
   {
    "duration": 55,
    "start_time": "2021-07-27T11:21:53.916Z"
   },
   {
    "duration": 18,
    "start_time": "2021-07-27T11:21:53.974Z"
   }
  ],
  "kernelspec": {
   "display_name": "Python 3",
   "language": "python",
   "name": "python3"
  },
  "language_info": {
   "codemirror_mode": {
    "name": "ipython",
    "version": 3
   },
   "file_extension": ".py",
   "mimetype": "text/x-python",
   "name": "python",
   "nbconvert_exporter": "python",
   "pygments_lexer": "ipython3",
   "version": "3.8.5"
  },
  "toc": {
   "base_numbering": 1,
   "nav_menu": {},
   "number_sections": true,
   "sideBar": true,
   "skip_h1_title": true,
   "title_cell": "Table of Contents",
   "title_sidebar": "Contents",
   "toc_cell": false,
   "toc_position": {},
   "toc_section_display": true,
   "toc_window_display": false
  }
 },
 "nbformat": 4,
 "nbformat_minor": 2
}
